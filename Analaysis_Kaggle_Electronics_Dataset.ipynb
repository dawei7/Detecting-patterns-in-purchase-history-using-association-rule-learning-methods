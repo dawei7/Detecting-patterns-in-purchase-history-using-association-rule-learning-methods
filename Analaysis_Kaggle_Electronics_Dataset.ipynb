{
 "cells": [
  {
   "cell_type": "markdown",
   "metadata": {},
   "source": [
    "## Association Rules - Old vs. New Algorithm"
   ]
  },
  {
   "cell_type": "markdown",
   "metadata": {},
   "source": [
    "### Dataset: eCommerce_purchase_history_from_cosmetics_store"
   ]
  },
  {
   "cell_type": "markdown",
   "metadata": {},
   "source": [
    "#### 1 Investigating Dataset"
   ]
  },
  {
   "attachments": {},
   "cell_type": "markdown",
   "metadata": {},
   "source": [
    "#### 1.1 Description\n",
    "Kaggle Dataset: https://www.kaggle.com/datasets/mkechinov/ecommerce-purchase-history-from-electronics-store <br>\n",
    "The Dataset is Open-Source <br>\n",
    "This Dataset contains purchase data from April 2020 to November 2020 from a large home appliances and electronics online store. <br>\n",
    "Each row in the file represents an event. All events are related to products and users. Each event is like many-to-many relation between products and users. <br>"
   ]
  },
  {
   "cell_type": "code",
   "execution_count": 1,
   "metadata": {},
   "outputs": [],
   "source": [
    "import os\n",
    "import pandas as pd\n",
    "import glob"
   ]
  },
  {
   "cell_type": "code",
   "execution_count": 2,
   "metadata": {},
   "outputs": [
    {
     "data": {
      "text/html": [
       "<div>\n",
       "<style scoped>\n",
       "    .dataframe tbody tr th:only-of-type {\n",
       "        vertical-align: middle;\n",
       "    }\n",
       "\n",
       "    .dataframe tbody tr th {\n",
       "        vertical-align: top;\n",
       "    }\n",
       "\n",
       "    .dataframe thead th {\n",
       "        text-align: right;\n",
       "    }\n",
       "</style>\n",
       "<table border=\"1\" class=\"dataframe\">\n",
       "  <thead>\n",
       "    <tr style=\"text-align: right;\">\n",
       "      <th></th>\n",
       "      <th>event_time</th>\n",
       "      <th>order_id</th>\n",
       "      <th>product_id</th>\n",
       "      <th>category_id</th>\n",
       "      <th>category_code</th>\n",
       "      <th>brand</th>\n",
       "      <th>price</th>\n",
       "      <th>user_id</th>\n",
       "    </tr>\n",
       "  </thead>\n",
       "  <tbody>\n",
       "    <tr>\n",
       "      <th>0</th>\n",
       "      <td>2020-04-24 11:50:39 UTC</td>\n",
       "      <td>2294359932054536986</td>\n",
       "      <td>1515966223509089906</td>\n",
       "      <td>2.268105e+18</td>\n",
       "      <td>electronics.tablet</td>\n",
       "      <td>samsung</td>\n",
       "      <td>162.01</td>\n",
       "      <td>1.515916e+18</td>\n",
       "    </tr>\n",
       "    <tr>\n",
       "      <th>1</th>\n",
       "      <td>2020-04-24 11:50:39 UTC</td>\n",
       "      <td>2294359932054536986</td>\n",
       "      <td>1515966223509089906</td>\n",
       "      <td>2.268105e+18</td>\n",
       "      <td>electronics.tablet</td>\n",
       "      <td>samsung</td>\n",
       "      <td>162.01</td>\n",
       "      <td>1.515916e+18</td>\n",
       "    </tr>\n",
       "    <tr>\n",
       "      <th>2</th>\n",
       "      <td>2020-04-24 14:37:43 UTC</td>\n",
       "      <td>2294444024058086220</td>\n",
       "      <td>2273948319057183658</td>\n",
       "      <td>2.268105e+18</td>\n",
       "      <td>electronics.audio.headphone</td>\n",
       "      <td>huawei</td>\n",
       "      <td>77.52</td>\n",
       "      <td>1.515916e+18</td>\n",
       "    </tr>\n",
       "    <tr>\n",
       "      <th>3</th>\n",
       "      <td>2020-04-24 14:37:43 UTC</td>\n",
       "      <td>2294444024058086220</td>\n",
       "      <td>2273948319057183658</td>\n",
       "      <td>2.268105e+18</td>\n",
       "      <td>electronics.audio.headphone</td>\n",
       "      <td>huawei</td>\n",
       "      <td>77.52</td>\n",
       "      <td>1.515916e+18</td>\n",
       "    </tr>\n",
       "    <tr>\n",
       "      <th>4</th>\n",
       "      <td>2020-04-24 19:16:21 UTC</td>\n",
       "      <td>2294584263154074236</td>\n",
       "      <td>2273948316817424439</td>\n",
       "      <td>2.268105e+18</td>\n",
       "      <td>NaN</td>\n",
       "      <td>karcher</td>\n",
       "      <td>217.57</td>\n",
       "      <td>1.515916e+18</td>\n",
       "    </tr>\n",
       "    <tr>\n",
       "      <th>...</th>\n",
       "      <td>...</td>\n",
       "      <td>...</td>\n",
       "      <td>...</td>\n",
       "      <td>...</td>\n",
       "      <td>...</td>\n",
       "      <td>...</td>\n",
       "      <td>...</td>\n",
       "      <td>...</td>\n",
       "    </tr>\n",
       "    <tr>\n",
       "      <th>2633516</th>\n",
       "      <td>2020-11-21 10:10:01 UTC</td>\n",
       "      <td>2388440981134693942</td>\n",
       "      <td>1515966223526602848</td>\n",
       "      <td>2.268105e+18</td>\n",
       "      <td>electronics.smartphone</td>\n",
       "      <td>oppo</td>\n",
       "      <td>138.87</td>\n",
       "      <td>1.515916e+18</td>\n",
       "    </tr>\n",
       "    <tr>\n",
       "      <th>2633517</th>\n",
       "      <td>2020-11-21 10:10:13 UTC</td>\n",
       "      <td>2388440981134693943</td>\n",
       "      <td>1515966223509089282</td>\n",
       "      <td>2.268105e+18</td>\n",
       "      <td>electronics.smartphone</td>\n",
       "      <td>apple</td>\n",
       "      <td>418.96</td>\n",
       "      <td>1.515916e+18</td>\n",
       "    </tr>\n",
       "    <tr>\n",
       "      <th>2633518</th>\n",
       "      <td>2020-11-21 10:10:30 UTC</td>\n",
       "      <td>2388440981134693944</td>\n",
       "      <td>1515966223509089917</td>\n",
       "      <td>2.268105e+18</td>\n",
       "      <td>appliances.personal.scales</td>\n",
       "      <td>vitek</td>\n",
       "      <td>12.48</td>\n",
       "      <td>1.515916e+18</td>\n",
       "    </tr>\n",
       "    <tr>\n",
       "      <th>2633519</th>\n",
       "      <td>2020-11-21 10:10:30 UTC</td>\n",
       "      <td>2388440981134693944</td>\n",
       "      <td>2273948184839454837</td>\n",
       "      <td>2.268105e+18</td>\n",
       "      <td>NaN</td>\n",
       "      <td>moulinex</td>\n",
       "      <td>41.64</td>\n",
       "      <td>1.515916e+18</td>\n",
       "    </tr>\n",
       "    <tr>\n",
       "      <th>2633520</th>\n",
       "      <td>2020-11-21 10:10:30 UTC</td>\n",
       "      <td>2388440981134693944</td>\n",
       "      <td>1515966223509127566</td>\n",
       "      <td>2.268105e+18</td>\n",
       "      <td>appliances.kitchen.blender</td>\n",
       "      <td>redmond</td>\n",
       "      <td>53.22</td>\n",
       "      <td>1.515916e+18</td>\n",
       "    </tr>\n",
       "  </tbody>\n",
       "</table>\n",
       "<p>2633521 rows × 8 columns</p>\n",
       "</div>"
      ],
      "text/plain": [
       "                      event_time             order_id           product_id  \\\n",
       "0        2020-04-24 11:50:39 UTC  2294359932054536986  1515966223509089906   \n",
       "1        2020-04-24 11:50:39 UTC  2294359932054536986  1515966223509089906   \n",
       "2        2020-04-24 14:37:43 UTC  2294444024058086220  2273948319057183658   \n",
       "3        2020-04-24 14:37:43 UTC  2294444024058086220  2273948319057183658   \n",
       "4        2020-04-24 19:16:21 UTC  2294584263154074236  2273948316817424439   \n",
       "...                          ...                  ...                  ...   \n",
       "2633516  2020-11-21 10:10:01 UTC  2388440981134693942  1515966223526602848   \n",
       "2633517  2020-11-21 10:10:13 UTC  2388440981134693943  1515966223509089282   \n",
       "2633518  2020-11-21 10:10:30 UTC  2388440981134693944  1515966223509089917   \n",
       "2633519  2020-11-21 10:10:30 UTC  2388440981134693944  2273948184839454837   \n",
       "2633520  2020-11-21 10:10:30 UTC  2388440981134693944  1515966223509127566   \n",
       "\n",
       "          category_id                category_code     brand   price  \\\n",
       "0        2.268105e+18           electronics.tablet   samsung  162.01   \n",
       "1        2.268105e+18           electronics.tablet   samsung  162.01   \n",
       "2        2.268105e+18  electronics.audio.headphone    huawei   77.52   \n",
       "3        2.268105e+18  electronics.audio.headphone    huawei   77.52   \n",
       "4        2.268105e+18                          NaN   karcher  217.57   \n",
       "...               ...                          ...       ...     ...   \n",
       "2633516  2.268105e+18       electronics.smartphone      oppo  138.87   \n",
       "2633517  2.268105e+18       electronics.smartphone     apple  418.96   \n",
       "2633518  2.268105e+18   appliances.personal.scales     vitek   12.48   \n",
       "2633519  2.268105e+18                          NaN  moulinex   41.64   \n",
       "2633520  2.268105e+18   appliances.kitchen.blender   redmond   53.22   \n",
       "\n",
       "              user_id  \n",
       "0        1.515916e+18  \n",
       "1        1.515916e+18  \n",
       "2        1.515916e+18  \n",
       "3        1.515916e+18  \n",
       "4        1.515916e+18  \n",
       "...               ...  \n",
       "2633516  1.515916e+18  \n",
       "2633517  1.515916e+18  \n",
       "2633518  1.515916e+18  \n",
       "2633519  1.515916e+18  \n",
       "2633520  1.515916e+18  \n",
       "\n",
       "[2633521 rows x 8 columns]"
      ]
     },
     "execution_count": 2,
     "metadata": {},
     "output_type": "execute_result"
    }
   ],
   "source": [
    "# setting the path for joining multiple files\n",
    "files = os.path.join(os.getcwd(), \"Datasets/ecommerce_purchase_history_from_electronic_store/dataset*.csv\")\n",
    "\n",
    "# list of merged files returned\n",
    "files = glob.glob(files)\n",
    "\n",
    "# joining files with concat and read_csv\n",
    "data_raw = pd.concat(map(pd.read_csv, files), ignore_index=True)\n",
    "\n",
    "data_raw\n"
   ]
  },
  {
   "cell_type": "code",
   "execution_count": 3,
   "metadata": {},
   "outputs": [
    {
     "data": {
      "text/html": [
       "<div>\n",
       "<style scoped>\n",
       "    .dataframe tbody tr th:only-of-type {\n",
       "        vertical-align: middle;\n",
       "    }\n",
       "\n",
       "    .dataframe tbody tr th {\n",
       "        vertical-align: top;\n",
       "    }\n",
       "\n",
       "    .dataframe thead th {\n",
       "        text-align: right;\n",
       "    }\n",
       "</style>\n",
       "<table border=\"1\" class=\"dataframe\">\n",
       "  <thead>\n",
       "    <tr style=\"text-align: right;\">\n",
       "      <th></th>\n",
       "      <th>product_id</th>\n",
       "      <th>category_id</th>\n",
       "      <th>category_code</th>\n",
       "      <th>brand</th>\n",
       "      <th>price</th>\n",
       "    </tr>\n",
       "  </thead>\n",
       "  <tbody>\n",
       "    <tr>\n",
       "      <th>0</th>\n",
       "      <td>1515966223509089906</td>\n",
       "      <td>2.268105426648171e+18</td>\n",
       "      <td>electronics.tablet</td>\n",
       "      <td>samsung</td>\n",
       "      <td>162.01</td>\n",
       "    </tr>\n",
       "    <tr>\n",
       "      <th>2</th>\n",
       "      <td>2273948319057183658</td>\n",
       "      <td>2.2681054301629978e+18</td>\n",
       "      <td>electronics.audio.headphone</td>\n",
       "      <td>huawei</td>\n",
       "      <td>77.52</td>\n",
       "    </tr>\n",
       "    <tr>\n",
       "      <th>4</th>\n",
       "      <td>2273948316817424439</td>\n",
       "      <td>2.26810547136784e+18</td>\n",
       "      <td>nan</td>\n",
       "      <td>karcher</td>\n",
       "      <td>217.57</td>\n",
       "    </tr>\n",
       "    <tr>\n",
       "      <th>5</th>\n",
       "      <td>1515966223509261697</td>\n",
       "      <td>2.268105442636858e+18</td>\n",
       "      <td>furniture.kitchen.table</td>\n",
       "      <td>maestro</td>\n",
       "      <td>39.33</td>\n",
       "    </tr>\n",
       "    <tr>\n",
       "      <th>6</th>\n",
       "      <td>1515966223509104892</td>\n",
       "      <td>2.268105428166509e+18</td>\n",
       "      <td>electronics.smartphone</td>\n",
       "      <td>apple</td>\n",
       "      <td>1387.01</td>\n",
       "    </tr>\n",
       "    <tr>\n",
       "      <th>...</th>\n",
       "      <td>...</td>\n",
       "      <td>...</td>\n",
       "      <td>...</td>\n",
       "      <td>...</td>\n",
       "      <td>...</td>\n",
       "    </tr>\n",
       "    <tr>\n",
       "      <th>2633417</th>\n",
       "      <td>2388434452476091001</td>\n",
       "      <td>2.2681053894446948e+18</td>\n",
       "      <td>appliances.kitchen.hood</td>\n",
       "      <td>indesit</td>\n",
       "      <td>245.35</td>\n",
       "    </tr>\n",
       "    <tr>\n",
       "      <th>2633434</th>\n",
       "      <td>2388434452476152446</td>\n",
       "      <td>2.2681054280742344e+18</td>\n",
       "      <td>electronics.telephone</td>\n",
       "      <td>inoi</td>\n",
       "      <td>25.44</td>\n",
       "    </tr>\n",
       "    <tr>\n",
       "      <th>2633435</th>\n",
       "      <td>2388434452476709970</td>\n",
       "      <td>2.268105462249423e+18</td>\n",
       "      <td>sport.bicycle</td>\n",
       "      <td>zevs</td>\n",
       "      <td>92.34</td>\n",
       "    </tr>\n",
       "    <tr>\n",
       "      <th>2633455</th>\n",
       "      <td>2388434452476864505</td>\n",
       "      <td>2.268105428166509e+18</td>\n",
       "      <td>electronics.smartphone</td>\n",
       "      <td>apple</td>\n",
       "      <td>1574.05</td>\n",
       "    </tr>\n",
       "    <tr>\n",
       "      <th>2633461</th>\n",
       "      <td>2388434452475958605</td>\n",
       "      <td>2.268105393848714e+18</td>\n",
       "      <td>appliances.kitchen.refrigerators</td>\n",
       "      <td>samsung</td>\n",
       "      <td>879.61</td>\n",
       "    </tr>\n",
       "  </tbody>\n",
       "</table>\n",
       "<p>25113 rows × 5 columns</p>\n",
       "</div>"
      ],
      "text/plain": [
       "                  product_id             category_id  \\\n",
       "0        1515966223509089906   2.268105426648171e+18   \n",
       "2        2273948319057183658  2.2681054301629978e+18   \n",
       "4        2273948316817424439    2.26810547136784e+18   \n",
       "5        1515966223509261697   2.268105442636858e+18   \n",
       "6        1515966223509104892   2.268105428166509e+18   \n",
       "...                      ...                     ...   \n",
       "2633417  2388434452476091001  2.2681053894446948e+18   \n",
       "2633434  2388434452476152446  2.2681054280742344e+18   \n",
       "2633435  2388434452476709970   2.268105462249423e+18   \n",
       "2633455  2388434452476864505   2.268105428166509e+18   \n",
       "2633461  2388434452475958605   2.268105393848714e+18   \n",
       "\n",
       "                            category_code    brand    price  \n",
       "0                      electronics.tablet  samsung   162.01  \n",
       "2             electronics.audio.headphone   huawei    77.52  \n",
       "4                                     nan  karcher   217.57  \n",
       "5                 furniture.kitchen.table  maestro    39.33  \n",
       "6                  electronics.smartphone    apple  1387.01  \n",
       "...                                   ...      ...      ...  \n",
       "2633417           appliances.kitchen.hood  indesit   245.35  \n",
       "2633434             electronics.telephone     inoi    25.44  \n",
       "2633435                     sport.bicycle     zevs    92.34  \n",
       "2633455            electronics.smartphone    apple  1574.05  \n",
       "2633461  appliances.kitchen.refrigerators  samsung   879.61  \n",
       "\n",
       "[25113 rows x 5 columns]"
      ]
     },
     "execution_count": 3,
     "metadata": {},
     "output_type": "execute_result"
    }
   ],
   "source": [
    "unique_items = data_raw[[\"product_id\",\"category_id\",\"category_code\",\"brand\",\"price\"]].drop_duplicates(subset = \"product_id\").astype(\"str\")\n",
    "\n",
    "\n",
    "unique_items"
   ]
  },
  {
   "cell_type": "code",
   "execution_count": 4,
   "metadata": {},
   "outputs": [
    {
     "name": "stderr",
     "output_type": "stream",
     "text": [
      "C:\\Users\\david\\AppData\\Local\\Temp/ipykernel_11780/16707732.py:7: FutureWarning: Indexing with multiple keys (implicitly converted to a tuple of keys) will be deprecated, use a list instead.\n",
      "  data = data_raw.groupby(\"order_id\",dropna=True)[\"product_id\",\"date\",\"price\",\"margin\"].agg(lambda x: list(x))\n"
     ]
    },
    {
     "data": {
      "text/html": [
       "<div>\n",
       "<style scoped>\n",
       "    .dataframe tbody tr th:only-of-type {\n",
       "        vertical-align: middle;\n",
       "    }\n",
       "\n",
       "    .dataframe tbody tr th {\n",
       "        vertical-align: top;\n",
       "    }\n",
       "\n",
       "    .dataframe thead th {\n",
       "        text-align: right;\n",
       "    }\n",
       "</style>\n",
       "<table border=\"1\" class=\"dataframe\">\n",
       "  <thead>\n",
       "    <tr style=\"text-align: right;\">\n",
       "      <th></th>\n",
       "      <th>product_id</th>\n",
       "      <th>date</th>\n",
       "      <th>price</th>\n",
       "      <th>margin</th>\n",
       "    </tr>\n",
       "    <tr>\n",
       "      <th>order_id</th>\n",
       "      <th></th>\n",
       "      <th></th>\n",
       "      <th></th>\n",
       "      <th></th>\n",
       "    </tr>\n",
       "  </thead>\n",
       "  <tbody>\n",
       "    <tr>\n",
       "      <th>2294359932054536986</th>\n",
       "      <td>[1515966223509089906, 1515966223509089906]</td>\n",
       "      <td>[2020-04-24, 2020-04-24]</td>\n",
       "      <td>[162.01, 162.01]</td>\n",
       "      <td>[0.1, 0.1]</td>\n",
       "    </tr>\n",
       "    <tr>\n",
       "      <th>2294444024058086220</th>\n",
       "      <td>[2273948319057183658, 2273948319057183658]</td>\n",
       "      <td>[2020-04-24, 2020-04-24]</td>\n",
       "      <td>[77.52, 77.52]</td>\n",
       "      <td>[0.1, 0.1]</td>\n",
       "    </tr>\n",
       "    <tr>\n",
       "      <th>2294584263154074236</th>\n",
       "      <td>[2273948316817424439]</td>\n",
       "      <td>[2020-04-24]</td>\n",
       "      <td>[217.57]</td>\n",
       "      <td>[0.1]</td>\n",
       "    </tr>\n",
       "    <tr>\n",
       "      <th>2295716521449619559</th>\n",
       "      <td>[1515966223509261697]</td>\n",
       "      <td>[2020-04-26]</td>\n",
       "      <td>[39.33]</td>\n",
       "      <td>[0.1]</td>\n",
       "    </tr>\n",
       "    <tr>\n",
       "      <th>2295740594749702229</th>\n",
       "      <td>[1515966223509104892, 1515966223509104892, 151...</td>\n",
       "      <td>[2020-04-26, 2020-04-26, 2020-04-26, 2020-04-26]</td>\n",
       "      <td>[1387.01, 1387.01, 1387.01, 1387.01]</td>\n",
       "      <td>[0.1, 0.1, 0.1, 0.1]</td>\n",
       "    </tr>\n",
       "    <tr>\n",
       "      <th>...</th>\n",
       "      <td>...</td>\n",
       "      <td>...</td>\n",
       "      <td>...</td>\n",
       "      <td>...</td>\n",
       "    </tr>\n",
       "    <tr>\n",
       "      <th>2388440981134693940</th>\n",
       "      <td>[2273948246856434093]</td>\n",
       "      <td>[2020-11-21]</td>\n",
       "      <td>[16.18]</td>\n",
       "      <td>[0.1]</td>\n",
       "    </tr>\n",
       "    <tr>\n",
       "      <th>2388440981134693941</th>\n",
       "      <td>[1515966223519279912, 1515966223509088622]</td>\n",
       "      <td>[2020-11-21, 2020-11-21]</td>\n",
       "      <td>[1736.09, 370.35]</td>\n",
       "      <td>[0.1, 0.1]</td>\n",
       "    </tr>\n",
       "    <tr>\n",
       "      <th>2388440981134693942</th>\n",
       "      <td>[1515966223526602848]</td>\n",
       "      <td>[2020-11-21]</td>\n",
       "      <td>[138.87]</td>\n",
       "      <td>[0.1]</td>\n",
       "    </tr>\n",
       "    <tr>\n",
       "      <th>2388440981134693943</th>\n",
       "      <td>[1515966223509089282]</td>\n",
       "      <td>[2020-11-21]</td>\n",
       "      <td>[418.96]</td>\n",
       "      <td>[0.1]</td>\n",
       "    </tr>\n",
       "    <tr>\n",
       "      <th>2388440981134693944</th>\n",
       "      <td>[1515966223509089917, 2273948184839454837, 151...</td>\n",
       "      <td>[2020-11-21, 2020-11-21, 2020-11-21]</td>\n",
       "      <td>[12.48, 41.64, 53.22]</td>\n",
       "      <td>[0.1, 0.1, 0.1]</td>\n",
       "    </tr>\n",
       "  </tbody>\n",
       "</table>\n",
       "<p>1435266 rows × 4 columns</p>\n",
       "</div>"
      ],
      "text/plain": [
       "                                                            product_id  \\\n",
       "order_id                                                                 \n",
       "2294359932054536986         [1515966223509089906, 1515966223509089906]   \n",
       "2294444024058086220         [2273948319057183658, 2273948319057183658]   \n",
       "2294584263154074236                              [2273948316817424439]   \n",
       "2295716521449619559                              [1515966223509261697]   \n",
       "2295740594749702229  [1515966223509104892, 1515966223509104892, 151...   \n",
       "...                                                                ...   \n",
       "2388440981134693940                              [2273948246856434093]   \n",
       "2388440981134693941         [1515966223519279912, 1515966223509088622]   \n",
       "2388440981134693942                              [1515966223526602848]   \n",
       "2388440981134693943                              [1515966223509089282]   \n",
       "2388440981134693944  [1515966223509089917, 2273948184839454837, 151...   \n",
       "\n",
       "                                                                 date  \\\n",
       "order_id                                                                \n",
       "2294359932054536986                          [2020-04-24, 2020-04-24]   \n",
       "2294444024058086220                          [2020-04-24, 2020-04-24]   \n",
       "2294584263154074236                                      [2020-04-24]   \n",
       "2295716521449619559                                      [2020-04-26]   \n",
       "2295740594749702229  [2020-04-26, 2020-04-26, 2020-04-26, 2020-04-26]   \n",
       "...                                                               ...   \n",
       "2388440981134693940                                      [2020-11-21]   \n",
       "2388440981134693941                          [2020-11-21, 2020-11-21]   \n",
       "2388440981134693942                                      [2020-11-21]   \n",
       "2388440981134693943                                      [2020-11-21]   \n",
       "2388440981134693944              [2020-11-21, 2020-11-21, 2020-11-21]   \n",
       "\n",
       "                                                    price  \\\n",
       "order_id                                                    \n",
       "2294359932054536986                      [162.01, 162.01]   \n",
       "2294444024058086220                        [77.52, 77.52]   \n",
       "2294584263154074236                              [217.57]   \n",
       "2295716521449619559                               [39.33]   \n",
       "2295740594749702229  [1387.01, 1387.01, 1387.01, 1387.01]   \n",
       "...                                                   ...   \n",
       "2388440981134693940                               [16.18]   \n",
       "2388440981134693941                     [1736.09, 370.35]   \n",
       "2388440981134693942                              [138.87]   \n",
       "2388440981134693943                              [418.96]   \n",
       "2388440981134693944                 [12.48, 41.64, 53.22]   \n",
       "\n",
       "                                   margin  \n",
       "order_id                                   \n",
       "2294359932054536986            [0.1, 0.1]  \n",
       "2294444024058086220            [0.1, 0.1]  \n",
       "2294584263154074236                 [0.1]  \n",
       "2295716521449619559                 [0.1]  \n",
       "2295740594749702229  [0.1, 0.1, 0.1, 0.1]  \n",
       "...                                   ...  \n",
       "2388440981134693940                 [0.1]  \n",
       "2388440981134693941            [0.1, 0.1]  \n",
       "2388440981134693942                 [0.1]  \n",
       "2388440981134693943                 [0.1]  \n",
       "2388440981134693944       [0.1, 0.1, 0.1]  \n",
       "\n",
       "[1435266 rows x 4 columns]"
      ]
     },
     "execution_count": 4,
     "metadata": {},
     "output_type": "execute_result"
    }
   ],
   "source": [
    "data_raw[\"date\"] = pd.to_datetime(data_raw['event_time']).dt.date\n",
    "max_date = data_raw[\"date\"].max()\n",
    "data_raw[\"margin\"] = 0.1\n",
    "data_raw[\"profit\"] = data_raw[\"price\"] * data_raw[\"margin\"]\n",
    "max_profit = data_raw[\"profit\"].max()\n",
    "\n",
    "data = data_raw.groupby(\"order_id\",dropna=True)[\"product_id\",\"date\",\"price\",\"margin\"].agg(lambda x: list(x))\n",
    "\n",
    "data"
   ]
  },
  {
   "cell_type": "code",
   "execution_count": 8,
   "metadata": {},
   "outputs": [],
   "source": [
    "# Quantity is always 1\n",
    "grouped_mutliple_items = data_raw.groupby(['order_id', 'product_id']).agg({'user_id': ['count']})\n",
    "\n",
    "#grouped_mutliple_items[grouped_mutliple_items[\"quantity\"]>1]\n",
    "\n",
    "grouped_mutliple_items.columns = [\"user_id\"]\n",
    "grouped_mutliple_items.rename(columns={\"user_id\":\"quantity\"},inplace=True)\n",
    "grouped_mutliple_items = grouped_mutliple_items.reset_index()\n",
    "grouped_mutliple_items = grouped_mutliple_items[grouped_mutliple_items[\"quantity\"]>1].sort_values(\"quantity\",ascending=False)"
   ]
  },
  {
   "cell_type": "code",
   "execution_count": 10,
   "metadata": {},
   "outputs": [
    {
     "data": {
      "text/html": [
       "<div>\n",
       "<style scoped>\n",
       "    .dataframe tbody tr th:only-of-type {\n",
       "        vertical-align: middle;\n",
       "    }\n",
       "\n",
       "    .dataframe tbody tr th {\n",
       "        vertical-align: top;\n",
       "    }\n",
       "\n",
       "    .dataframe thead th {\n",
       "        text-align: right;\n",
       "    }\n",
       "</style>\n",
       "<table border=\"1\" class=\"dataframe\">\n",
       "  <thead>\n",
       "    <tr style=\"text-align: right;\">\n",
       "      <th></th>\n",
       "      <th>order_id</th>\n",
       "      <th>product_id</th>\n",
       "      <th>quantity</th>\n",
       "    </tr>\n",
       "  </thead>\n",
       "  <tbody>\n",
       "    <tr>\n",
       "      <th>4</th>\n",
       "      <td>2295740594749702229</td>\n",
       "      <td>1515966223509104892</td>\n",
       "      <td>4</td>\n",
       "    </tr>\n",
       "    <tr>\n",
       "      <th>1850239</th>\n",
       "      <td>2375043331555066740</td>\n",
       "      <td>2273948308370096764</td>\n",
       "      <td>4</td>\n",
       "    </tr>\n",
       "    <tr>\n",
       "      <th>17800</th>\n",
       "      <td>2318945879811162983</td>\n",
       "      <td>2309018204833317816</td>\n",
       "      <td>4</td>\n",
       "    </tr>\n",
       "    <tr>\n",
       "      <th>2599487</th>\n",
       "      <td>2388440981134674698</td>\n",
       "      <td>1515966223509106757</td>\n",
       "      <td>4</td>\n",
       "    </tr>\n",
       "    <tr>\n",
       "      <th>14877</th>\n",
       "      <td>2316016961902871022</td>\n",
       "      <td>1515966223509104666</td>\n",
       "      <td>3</td>\n",
       "    </tr>\n",
       "    <tr>\n",
       "      <th>...</th>\n",
       "      <td>...</td>\n",
       "      <td>...</td>\n",
       "      <td>...</td>\n",
       "    </tr>\n",
       "    <tr>\n",
       "      <th>1699255</th>\n",
       "      <td>2357258856553251083</td>\n",
       "      <td>1515966223510521974</td>\n",
       "      <td>2</td>\n",
       "    </tr>\n",
       "    <tr>\n",
       "      <th>1699276</th>\n",
       "      <td>2357301688601150005</td>\n",
       "      <td>1515966223513916286</td>\n",
       "      <td>2</td>\n",
       "    </tr>\n",
       "    <tr>\n",
       "      <th>1709053</th>\n",
       "      <td>2357424263100629990</td>\n",
       "      <td>1515966223509089627</td>\n",
       "      <td>2</td>\n",
       "    </tr>\n",
       "    <tr>\n",
       "      <th>1709199</th>\n",
       "      <td>2357472248303976866</td>\n",
       "      <td>1515966223509262622</td>\n",
       "      <td>2</td>\n",
       "    </tr>\n",
       "    <tr>\n",
       "      <th>2632812</th>\n",
       "      <td>2388440981134693917</td>\n",
       "      <td>1515966223509106868</td>\n",
       "      <td>2</td>\n",
       "    </tr>\n",
       "  </tbody>\n",
       "</table>\n",
       "<p>649 rows × 3 columns</p>\n",
       "</div>"
      ],
      "text/plain": [
       "                    order_id           product_id  quantity\n",
       "4        2295740594749702229  1515966223509104892         4\n",
       "1850239  2375043331555066740  2273948308370096764         4\n",
       "17800    2318945879811162983  2309018204833317816         4\n",
       "2599487  2388440981134674698  1515966223509106757         4\n",
       "14877    2316016961902871022  1515966223509104666         3\n",
       "...                      ...                  ...       ...\n",
       "1699255  2357258856553251083  1515966223510521974         2\n",
       "1699276  2357301688601150005  1515966223513916286         2\n",
       "1709053  2357424263100629990  1515966223509089627         2\n",
       "1709199  2357472248303976866  1515966223509262622         2\n",
       "2632812  2388440981134693917  1515966223509106868         2\n",
       "\n",
       "[649 rows x 3 columns]"
      ]
     },
     "execution_count": 10,
     "metadata": {},
     "output_type": "execute_result"
    }
   ],
   "source": [
    "grouped_mutliple_items"
   ]
  },
  {
   "cell_type": "code",
   "execution_count": 9,
   "metadata": {},
   "outputs": [
    {
     "data": {
      "application/vnd.plotly.v1+json": {
       "config": {
        "plotlyServerURL": "https://plot.ly"
       },
       "data": [
        {
         "alignmentgroup": "True",
         "hovertemplate": "index=%{x}<br>y=%{y}<extra></extra>",
         "legendgroup": "",
         "marker": {
          "color": "#636efa",
          "pattern": {
           "shape": ""
          }
         },
         "name": "",
         "offsetgroup": "",
         "orientation": "v",
         "showlegend": false,
         "textposition": "auto",
         "type": "bar",
         "width": 0.5,
         "x": [
          2,
          3,
          4
         ],
         "xaxis": "x",
         "y": [
          0.9676425269645609,
          0.026194144838212634,
          0.0061633281972265025
         ],
         "yaxis": "y"
        }
       ],
       "layout": {
        "barmode": "relative",
        "height": 400,
        "legend": {
         "title": {
          "text": "Multiple items per transaction distribution"
         },
         "tracegroupgap": 0
        },
        "margin": {
         "t": 60
        },
        "template": {
         "data": {
          "bar": [
           {
            "error_x": {
             "color": "#2a3f5f"
            },
            "error_y": {
             "color": "#2a3f5f"
            },
            "marker": {
             "line": {
              "color": "#E5ECF6",
              "width": 0.5
             },
             "pattern": {
              "fillmode": "overlay",
              "size": 10,
              "solidity": 0.2
             }
            },
            "type": "bar"
           }
          ],
          "barpolar": [
           {
            "marker": {
             "line": {
              "color": "#E5ECF6",
              "width": 0.5
             },
             "pattern": {
              "fillmode": "overlay",
              "size": 10,
              "solidity": 0.2
             }
            },
            "type": "barpolar"
           }
          ],
          "carpet": [
           {
            "aaxis": {
             "endlinecolor": "#2a3f5f",
             "gridcolor": "white",
             "linecolor": "white",
             "minorgridcolor": "white",
             "startlinecolor": "#2a3f5f"
            },
            "baxis": {
             "endlinecolor": "#2a3f5f",
             "gridcolor": "white",
             "linecolor": "white",
             "minorgridcolor": "white",
             "startlinecolor": "#2a3f5f"
            },
            "type": "carpet"
           }
          ],
          "choropleth": [
           {
            "colorbar": {
             "outlinewidth": 0,
             "ticks": ""
            },
            "type": "choropleth"
           }
          ],
          "contour": [
           {
            "colorbar": {
             "outlinewidth": 0,
             "ticks": ""
            },
            "colorscale": [
             [
              0,
              "#0d0887"
             ],
             [
              0.1111111111111111,
              "#46039f"
             ],
             [
              0.2222222222222222,
              "#7201a8"
             ],
             [
              0.3333333333333333,
              "#9c179e"
             ],
             [
              0.4444444444444444,
              "#bd3786"
             ],
             [
              0.5555555555555556,
              "#d8576b"
             ],
             [
              0.6666666666666666,
              "#ed7953"
             ],
             [
              0.7777777777777778,
              "#fb9f3a"
             ],
             [
              0.8888888888888888,
              "#fdca26"
             ],
             [
              1,
              "#f0f921"
             ]
            ],
            "type": "contour"
           }
          ],
          "contourcarpet": [
           {
            "colorbar": {
             "outlinewidth": 0,
             "ticks": ""
            },
            "type": "contourcarpet"
           }
          ],
          "heatmap": [
           {
            "colorbar": {
             "outlinewidth": 0,
             "ticks": ""
            },
            "colorscale": [
             [
              0,
              "#0d0887"
             ],
             [
              0.1111111111111111,
              "#46039f"
             ],
             [
              0.2222222222222222,
              "#7201a8"
             ],
             [
              0.3333333333333333,
              "#9c179e"
             ],
             [
              0.4444444444444444,
              "#bd3786"
             ],
             [
              0.5555555555555556,
              "#d8576b"
             ],
             [
              0.6666666666666666,
              "#ed7953"
             ],
             [
              0.7777777777777778,
              "#fb9f3a"
             ],
             [
              0.8888888888888888,
              "#fdca26"
             ],
             [
              1,
              "#f0f921"
             ]
            ],
            "type": "heatmap"
           }
          ],
          "heatmapgl": [
           {
            "colorbar": {
             "outlinewidth": 0,
             "ticks": ""
            },
            "colorscale": [
             [
              0,
              "#0d0887"
             ],
             [
              0.1111111111111111,
              "#46039f"
             ],
             [
              0.2222222222222222,
              "#7201a8"
             ],
             [
              0.3333333333333333,
              "#9c179e"
             ],
             [
              0.4444444444444444,
              "#bd3786"
             ],
             [
              0.5555555555555556,
              "#d8576b"
             ],
             [
              0.6666666666666666,
              "#ed7953"
             ],
             [
              0.7777777777777778,
              "#fb9f3a"
             ],
             [
              0.8888888888888888,
              "#fdca26"
             ],
             [
              1,
              "#f0f921"
             ]
            ],
            "type": "heatmapgl"
           }
          ],
          "histogram": [
           {
            "marker": {
             "pattern": {
              "fillmode": "overlay",
              "size": 10,
              "solidity": 0.2
             }
            },
            "type": "histogram"
           }
          ],
          "histogram2d": [
           {
            "colorbar": {
             "outlinewidth": 0,
             "ticks": ""
            },
            "colorscale": [
             [
              0,
              "#0d0887"
             ],
             [
              0.1111111111111111,
              "#46039f"
             ],
             [
              0.2222222222222222,
              "#7201a8"
             ],
             [
              0.3333333333333333,
              "#9c179e"
             ],
             [
              0.4444444444444444,
              "#bd3786"
             ],
             [
              0.5555555555555556,
              "#d8576b"
             ],
             [
              0.6666666666666666,
              "#ed7953"
             ],
             [
              0.7777777777777778,
              "#fb9f3a"
             ],
             [
              0.8888888888888888,
              "#fdca26"
             ],
             [
              1,
              "#f0f921"
             ]
            ],
            "type": "histogram2d"
           }
          ],
          "histogram2dcontour": [
           {
            "colorbar": {
             "outlinewidth": 0,
             "ticks": ""
            },
            "colorscale": [
             [
              0,
              "#0d0887"
             ],
             [
              0.1111111111111111,
              "#46039f"
             ],
             [
              0.2222222222222222,
              "#7201a8"
             ],
             [
              0.3333333333333333,
              "#9c179e"
             ],
             [
              0.4444444444444444,
              "#bd3786"
             ],
             [
              0.5555555555555556,
              "#d8576b"
             ],
             [
              0.6666666666666666,
              "#ed7953"
             ],
             [
              0.7777777777777778,
              "#fb9f3a"
             ],
             [
              0.8888888888888888,
              "#fdca26"
             ],
             [
              1,
              "#f0f921"
             ]
            ],
            "type": "histogram2dcontour"
           }
          ],
          "mesh3d": [
           {
            "colorbar": {
             "outlinewidth": 0,
             "ticks": ""
            },
            "type": "mesh3d"
           }
          ],
          "parcoords": [
           {
            "line": {
             "colorbar": {
              "outlinewidth": 0,
              "ticks": ""
             }
            },
            "type": "parcoords"
           }
          ],
          "pie": [
           {
            "automargin": true,
            "type": "pie"
           }
          ],
          "scatter": [
           {
            "fillpattern": {
             "fillmode": "overlay",
             "size": 10,
             "solidity": 0.2
            },
            "type": "scatter"
           }
          ],
          "scatter3d": [
           {
            "line": {
             "colorbar": {
              "outlinewidth": 0,
              "ticks": ""
             }
            },
            "marker": {
             "colorbar": {
              "outlinewidth": 0,
              "ticks": ""
             }
            },
            "type": "scatter3d"
           }
          ],
          "scattercarpet": [
           {
            "marker": {
             "colorbar": {
              "outlinewidth": 0,
              "ticks": ""
             }
            },
            "type": "scattercarpet"
           }
          ],
          "scattergeo": [
           {
            "marker": {
             "colorbar": {
              "outlinewidth": 0,
              "ticks": ""
             }
            },
            "type": "scattergeo"
           }
          ],
          "scattergl": [
           {
            "marker": {
             "colorbar": {
              "outlinewidth": 0,
              "ticks": ""
             }
            },
            "type": "scattergl"
           }
          ],
          "scattermapbox": [
           {
            "marker": {
             "colorbar": {
              "outlinewidth": 0,
              "ticks": ""
             }
            },
            "type": "scattermapbox"
           }
          ],
          "scatterpolar": [
           {
            "marker": {
             "colorbar": {
              "outlinewidth": 0,
              "ticks": ""
             }
            },
            "type": "scatterpolar"
           }
          ],
          "scatterpolargl": [
           {
            "marker": {
             "colorbar": {
              "outlinewidth": 0,
              "ticks": ""
             }
            },
            "type": "scatterpolargl"
           }
          ],
          "scatterternary": [
           {
            "marker": {
             "colorbar": {
              "outlinewidth": 0,
              "ticks": ""
             }
            },
            "type": "scatterternary"
           }
          ],
          "surface": [
           {
            "colorbar": {
             "outlinewidth": 0,
             "ticks": ""
            },
            "colorscale": [
             [
              0,
              "#0d0887"
             ],
             [
              0.1111111111111111,
              "#46039f"
             ],
             [
              0.2222222222222222,
              "#7201a8"
             ],
             [
              0.3333333333333333,
              "#9c179e"
             ],
             [
              0.4444444444444444,
              "#bd3786"
             ],
             [
              0.5555555555555556,
              "#d8576b"
             ],
             [
              0.6666666666666666,
              "#ed7953"
             ],
             [
              0.7777777777777778,
              "#fb9f3a"
             ],
             [
              0.8888888888888888,
              "#fdca26"
             ],
             [
              1,
              "#f0f921"
             ]
            ],
            "type": "surface"
           }
          ],
          "table": [
           {
            "cells": {
             "fill": {
              "color": "#EBF0F8"
             },
             "line": {
              "color": "white"
             }
            },
            "header": {
             "fill": {
              "color": "#C8D4E3"
             },
             "line": {
              "color": "white"
             }
            },
            "type": "table"
           }
          ]
         },
         "layout": {
          "annotationdefaults": {
           "arrowcolor": "#2a3f5f",
           "arrowhead": 0,
           "arrowwidth": 1
          },
          "autotypenumbers": "strict",
          "coloraxis": {
           "colorbar": {
            "outlinewidth": 0,
            "ticks": ""
           }
          },
          "colorscale": {
           "diverging": [
            [
             0,
             "#8e0152"
            ],
            [
             0.1,
             "#c51b7d"
            ],
            [
             0.2,
             "#de77ae"
            ],
            [
             0.3,
             "#f1b6da"
            ],
            [
             0.4,
             "#fde0ef"
            ],
            [
             0.5,
             "#f7f7f7"
            ],
            [
             0.6,
             "#e6f5d0"
            ],
            [
             0.7,
             "#b8e186"
            ],
            [
             0.8,
             "#7fbc41"
            ],
            [
             0.9,
             "#4d9221"
            ],
            [
             1,
             "#276419"
            ]
           ],
           "sequential": [
            [
             0,
             "#0d0887"
            ],
            [
             0.1111111111111111,
             "#46039f"
            ],
            [
             0.2222222222222222,
             "#7201a8"
            ],
            [
             0.3333333333333333,
             "#9c179e"
            ],
            [
             0.4444444444444444,
             "#bd3786"
            ],
            [
             0.5555555555555556,
             "#d8576b"
            ],
            [
             0.6666666666666666,
             "#ed7953"
            ],
            [
             0.7777777777777778,
             "#fb9f3a"
            ],
            [
             0.8888888888888888,
             "#fdca26"
            ],
            [
             1,
             "#f0f921"
            ]
           ],
           "sequentialminus": [
            [
             0,
             "#0d0887"
            ],
            [
             0.1111111111111111,
             "#46039f"
            ],
            [
             0.2222222222222222,
             "#7201a8"
            ],
            [
             0.3333333333333333,
             "#9c179e"
            ],
            [
             0.4444444444444444,
             "#bd3786"
            ],
            [
             0.5555555555555556,
             "#d8576b"
            ],
            [
             0.6666666666666666,
             "#ed7953"
            ],
            [
             0.7777777777777778,
             "#fb9f3a"
            ],
            [
             0.8888888888888888,
             "#fdca26"
            ],
            [
             1,
             "#f0f921"
            ]
           ]
          },
          "colorway": [
           "#636efa",
           "#EF553B",
           "#00cc96",
           "#ab63fa",
           "#FFA15A",
           "#19d3f3",
           "#FF6692",
           "#B6E880",
           "#FF97FF",
           "#FECB52"
          ],
          "font": {
           "color": "#2a3f5f"
          },
          "geo": {
           "bgcolor": "white",
           "lakecolor": "white",
           "landcolor": "#E5ECF6",
           "showlakes": true,
           "showland": true,
           "subunitcolor": "white"
          },
          "hoverlabel": {
           "align": "left"
          },
          "hovermode": "closest",
          "mapbox": {
           "style": "light"
          },
          "paper_bgcolor": "white",
          "plot_bgcolor": "#E5ECF6",
          "polar": {
           "angularaxis": {
            "gridcolor": "white",
            "linecolor": "white",
            "ticks": ""
           },
           "bgcolor": "#E5ECF6",
           "radialaxis": {
            "gridcolor": "white",
            "linecolor": "white",
            "ticks": ""
           }
          },
          "scene": {
           "xaxis": {
            "backgroundcolor": "#E5ECF6",
            "gridcolor": "white",
            "gridwidth": 2,
            "linecolor": "white",
            "showbackground": true,
            "ticks": "",
            "zerolinecolor": "white"
           },
           "yaxis": {
            "backgroundcolor": "#E5ECF6",
            "gridcolor": "white",
            "gridwidth": 2,
            "linecolor": "white",
            "showbackground": true,
            "ticks": "",
            "zerolinecolor": "white"
           },
           "zaxis": {
            "backgroundcolor": "#E5ECF6",
            "gridcolor": "white",
            "gridwidth": 2,
            "linecolor": "white",
            "showbackground": true,
            "ticks": "",
            "zerolinecolor": "white"
           }
          },
          "shapedefaults": {
           "line": {
            "color": "#2a3f5f"
           }
          },
          "ternary": {
           "aaxis": {
            "gridcolor": "white",
            "linecolor": "white",
            "ticks": ""
           },
           "baxis": {
            "gridcolor": "white",
            "linecolor": "white",
            "ticks": ""
           },
           "bgcolor": "#E5ECF6",
           "caxis": {
            "gridcolor": "white",
            "linecolor": "white",
            "ticks": ""
           }
          },
          "title": {
           "x": 0.05
          },
          "xaxis": {
           "automargin": true,
           "gridcolor": "white",
           "linecolor": "white",
           "ticks": "",
           "title": {
            "standoff": 15
           },
           "zerolinecolor": "white",
           "zerolinewidth": 2
          },
          "yaxis": {
           "automargin": true,
           "gridcolor": "white",
           "linecolor": "white",
           "ticks": "",
           "title": {
            "standoff": 15
           },
           "zerolinecolor": "white",
           "zerolinewidth": 2
          }
         }
        },
        "width": 400,
        "xaxis": {
         "anchor": "y",
         "domain": [
          0,
          1
         ],
         "tickformat": ",d",
         "title": {
          "text": "Multiple items per transaction"
         }
        },
        "yaxis": {
         "anchor": "x",
         "domain": [
          0,
          1
         ],
         "tickformat": "0%",
         "title": {
          "text": "Distribution"
         }
        }
       }
      }
     },
     "metadata": {},
     "output_type": "display_data"
    }
   ],
   "source": [
    "# Mutiple items per transaction\n",
    "\n",
    "import seaborn as sns\n",
    "\n",
    "mutliple_items_per_transaction = grouped_mutliple_items[\"quantity\"].value_counts()\n",
    "mutliple_items_per_transaction.rename_axis(\"frequency\")\n",
    "\n",
    "# lenth_of_transactions\n",
    "mutliple_items_per_transaction = mutliple_items_per_transaction.head(4)\n",
    "\n",
    "total = mutliple_items_per_transaction.values.sum()\n",
    "\n",
    "import plotly.express as px\n",
    "fig = px.bar(mutliple_items_per_transaction, x=mutliple_items_per_transaction.index, y=mutliple_items_per_transaction.values/total,width=400, height=400)\n",
    "fig.update_traces(width=0.5)\n",
    "fig.update_layout(\n",
    "    xaxis_title=\"Multiple items per transaction\",\n",
    "    yaxis_tickformat ='0%',\n",
    "    xaxis_tickformat = ',d',\n",
    "    yaxis_title=\"Distribution\",\n",
    "    legend_title=\"Multiple items per transaction distribution\",)\n",
    "\n",
    "fig.show()\n"
   ]
  },
  {
   "cell_type": "code",
   "execution_count": 5,
   "metadata": {},
   "outputs": [
    {
     "data": {
      "application/vnd.plotly.v1+json": {
       "config": {
        "plotlyServerURL": "https://plot.ly"
       },
       "data": [
        {
         "alignmentgroup": "True",
         "hovertemplate": "index=%{x}<br>y=%{y}<extra></extra>",
         "legendgroup": "",
         "marker": {
          "color": "#636efa",
          "pattern": {
           "shape": ""
          }
         },
         "name": "",
         "offsetgroup": "",
         "orientation": "v",
         "showlegend": false,
         "textposition": "auto",
         "type": "bar",
         "width": 0.5,
         "x": [
          1,
          2,
          3,
          4,
          5,
          6,
          7,
          8,
          9,
          10
         ],
         "xaxis": "x",
         "y": [
          0.6092036998730929,
          0.20094719099239117,
          0.09187976251041254,
          0.04426094783391383,
          0.021780361265940257,
          0.01272704910242577,
          0.008285999407394155,
          0.005351622118733613,
          0.003466185127829553,
          0.0020971817678662277
         ],
         "yaxis": "y"
        }
       ],
       "layout": {
        "barmode": "relative",
        "height": 300,
        "legend": {
         "title": {
          "text": "Transaction Length Dsitribution"
         },
         "tracegroupgap": 0
        },
        "margin": {
         "t": 60
        },
        "template": {
         "data": {
          "bar": [
           {
            "error_x": {
             "color": "#2a3f5f"
            },
            "error_y": {
             "color": "#2a3f5f"
            },
            "marker": {
             "line": {
              "color": "#E5ECF6",
              "width": 0.5
             },
             "pattern": {
              "fillmode": "overlay",
              "size": 10,
              "solidity": 0.2
             }
            },
            "type": "bar"
           }
          ],
          "barpolar": [
           {
            "marker": {
             "line": {
              "color": "#E5ECF6",
              "width": 0.5
             },
             "pattern": {
              "fillmode": "overlay",
              "size": 10,
              "solidity": 0.2
             }
            },
            "type": "barpolar"
           }
          ],
          "carpet": [
           {
            "aaxis": {
             "endlinecolor": "#2a3f5f",
             "gridcolor": "white",
             "linecolor": "white",
             "minorgridcolor": "white",
             "startlinecolor": "#2a3f5f"
            },
            "baxis": {
             "endlinecolor": "#2a3f5f",
             "gridcolor": "white",
             "linecolor": "white",
             "minorgridcolor": "white",
             "startlinecolor": "#2a3f5f"
            },
            "type": "carpet"
           }
          ],
          "choropleth": [
           {
            "colorbar": {
             "outlinewidth": 0,
             "ticks": ""
            },
            "type": "choropleth"
           }
          ],
          "contour": [
           {
            "colorbar": {
             "outlinewidth": 0,
             "ticks": ""
            },
            "colorscale": [
             [
              0,
              "#0d0887"
             ],
             [
              0.1111111111111111,
              "#46039f"
             ],
             [
              0.2222222222222222,
              "#7201a8"
             ],
             [
              0.3333333333333333,
              "#9c179e"
             ],
             [
              0.4444444444444444,
              "#bd3786"
             ],
             [
              0.5555555555555556,
              "#d8576b"
             ],
             [
              0.6666666666666666,
              "#ed7953"
             ],
             [
              0.7777777777777778,
              "#fb9f3a"
             ],
             [
              0.8888888888888888,
              "#fdca26"
             ],
             [
              1,
              "#f0f921"
             ]
            ],
            "type": "contour"
           }
          ],
          "contourcarpet": [
           {
            "colorbar": {
             "outlinewidth": 0,
             "ticks": ""
            },
            "type": "contourcarpet"
           }
          ],
          "heatmap": [
           {
            "colorbar": {
             "outlinewidth": 0,
             "ticks": ""
            },
            "colorscale": [
             [
              0,
              "#0d0887"
             ],
             [
              0.1111111111111111,
              "#46039f"
             ],
             [
              0.2222222222222222,
              "#7201a8"
             ],
             [
              0.3333333333333333,
              "#9c179e"
             ],
             [
              0.4444444444444444,
              "#bd3786"
             ],
             [
              0.5555555555555556,
              "#d8576b"
             ],
             [
              0.6666666666666666,
              "#ed7953"
             ],
             [
              0.7777777777777778,
              "#fb9f3a"
             ],
             [
              0.8888888888888888,
              "#fdca26"
             ],
             [
              1,
              "#f0f921"
             ]
            ],
            "type": "heatmap"
           }
          ],
          "heatmapgl": [
           {
            "colorbar": {
             "outlinewidth": 0,
             "ticks": ""
            },
            "colorscale": [
             [
              0,
              "#0d0887"
             ],
             [
              0.1111111111111111,
              "#46039f"
             ],
             [
              0.2222222222222222,
              "#7201a8"
             ],
             [
              0.3333333333333333,
              "#9c179e"
             ],
             [
              0.4444444444444444,
              "#bd3786"
             ],
             [
              0.5555555555555556,
              "#d8576b"
             ],
             [
              0.6666666666666666,
              "#ed7953"
             ],
             [
              0.7777777777777778,
              "#fb9f3a"
             ],
             [
              0.8888888888888888,
              "#fdca26"
             ],
             [
              1,
              "#f0f921"
             ]
            ],
            "type": "heatmapgl"
           }
          ],
          "histogram": [
           {
            "marker": {
             "pattern": {
              "fillmode": "overlay",
              "size": 10,
              "solidity": 0.2
             }
            },
            "type": "histogram"
           }
          ],
          "histogram2d": [
           {
            "colorbar": {
             "outlinewidth": 0,
             "ticks": ""
            },
            "colorscale": [
             [
              0,
              "#0d0887"
             ],
             [
              0.1111111111111111,
              "#46039f"
             ],
             [
              0.2222222222222222,
              "#7201a8"
             ],
             [
              0.3333333333333333,
              "#9c179e"
             ],
             [
              0.4444444444444444,
              "#bd3786"
             ],
             [
              0.5555555555555556,
              "#d8576b"
             ],
             [
              0.6666666666666666,
              "#ed7953"
             ],
             [
              0.7777777777777778,
              "#fb9f3a"
             ],
             [
              0.8888888888888888,
              "#fdca26"
             ],
             [
              1,
              "#f0f921"
             ]
            ],
            "type": "histogram2d"
           }
          ],
          "histogram2dcontour": [
           {
            "colorbar": {
             "outlinewidth": 0,
             "ticks": ""
            },
            "colorscale": [
             [
              0,
              "#0d0887"
             ],
             [
              0.1111111111111111,
              "#46039f"
             ],
             [
              0.2222222222222222,
              "#7201a8"
             ],
             [
              0.3333333333333333,
              "#9c179e"
             ],
             [
              0.4444444444444444,
              "#bd3786"
             ],
             [
              0.5555555555555556,
              "#d8576b"
             ],
             [
              0.6666666666666666,
              "#ed7953"
             ],
             [
              0.7777777777777778,
              "#fb9f3a"
             ],
             [
              0.8888888888888888,
              "#fdca26"
             ],
             [
              1,
              "#f0f921"
             ]
            ],
            "type": "histogram2dcontour"
           }
          ],
          "mesh3d": [
           {
            "colorbar": {
             "outlinewidth": 0,
             "ticks": ""
            },
            "type": "mesh3d"
           }
          ],
          "parcoords": [
           {
            "line": {
             "colorbar": {
              "outlinewidth": 0,
              "ticks": ""
             }
            },
            "type": "parcoords"
           }
          ],
          "pie": [
           {
            "automargin": true,
            "type": "pie"
           }
          ],
          "scatter": [
           {
            "fillpattern": {
             "fillmode": "overlay",
             "size": 10,
             "solidity": 0.2
            },
            "type": "scatter"
           }
          ],
          "scatter3d": [
           {
            "line": {
             "colorbar": {
              "outlinewidth": 0,
              "ticks": ""
             }
            },
            "marker": {
             "colorbar": {
              "outlinewidth": 0,
              "ticks": ""
             }
            },
            "type": "scatter3d"
           }
          ],
          "scattercarpet": [
           {
            "marker": {
             "colorbar": {
              "outlinewidth": 0,
              "ticks": ""
             }
            },
            "type": "scattercarpet"
           }
          ],
          "scattergeo": [
           {
            "marker": {
             "colorbar": {
              "outlinewidth": 0,
              "ticks": ""
             }
            },
            "type": "scattergeo"
           }
          ],
          "scattergl": [
           {
            "marker": {
             "colorbar": {
              "outlinewidth": 0,
              "ticks": ""
             }
            },
            "type": "scattergl"
           }
          ],
          "scattermapbox": [
           {
            "marker": {
             "colorbar": {
              "outlinewidth": 0,
              "ticks": ""
             }
            },
            "type": "scattermapbox"
           }
          ],
          "scatterpolar": [
           {
            "marker": {
             "colorbar": {
              "outlinewidth": 0,
              "ticks": ""
             }
            },
            "type": "scatterpolar"
           }
          ],
          "scatterpolargl": [
           {
            "marker": {
             "colorbar": {
              "outlinewidth": 0,
              "ticks": ""
             }
            },
            "type": "scatterpolargl"
           }
          ],
          "scatterternary": [
           {
            "marker": {
             "colorbar": {
              "outlinewidth": 0,
              "ticks": ""
             }
            },
            "type": "scatterternary"
           }
          ],
          "surface": [
           {
            "colorbar": {
             "outlinewidth": 0,
             "ticks": ""
            },
            "colorscale": [
             [
              0,
              "#0d0887"
             ],
             [
              0.1111111111111111,
              "#46039f"
             ],
             [
              0.2222222222222222,
              "#7201a8"
             ],
             [
              0.3333333333333333,
              "#9c179e"
             ],
             [
              0.4444444444444444,
              "#bd3786"
             ],
             [
              0.5555555555555556,
              "#d8576b"
             ],
             [
              0.6666666666666666,
              "#ed7953"
             ],
             [
              0.7777777777777778,
              "#fb9f3a"
             ],
             [
              0.8888888888888888,
              "#fdca26"
             ],
             [
              1,
              "#f0f921"
             ]
            ],
            "type": "surface"
           }
          ],
          "table": [
           {
            "cells": {
             "fill": {
              "color": "#EBF0F8"
             },
             "line": {
              "color": "white"
             }
            },
            "header": {
             "fill": {
              "color": "#C8D4E3"
             },
             "line": {
              "color": "white"
             }
            },
            "type": "table"
           }
          ]
         },
         "layout": {
          "annotationdefaults": {
           "arrowcolor": "#2a3f5f",
           "arrowhead": 0,
           "arrowwidth": 1
          },
          "autotypenumbers": "strict",
          "coloraxis": {
           "colorbar": {
            "outlinewidth": 0,
            "ticks": ""
           }
          },
          "colorscale": {
           "diverging": [
            [
             0,
             "#8e0152"
            ],
            [
             0.1,
             "#c51b7d"
            ],
            [
             0.2,
             "#de77ae"
            ],
            [
             0.3,
             "#f1b6da"
            ],
            [
             0.4,
             "#fde0ef"
            ],
            [
             0.5,
             "#f7f7f7"
            ],
            [
             0.6,
             "#e6f5d0"
            ],
            [
             0.7,
             "#b8e186"
            ],
            [
             0.8,
             "#7fbc41"
            ],
            [
             0.9,
             "#4d9221"
            ],
            [
             1,
             "#276419"
            ]
           ],
           "sequential": [
            [
             0,
             "#0d0887"
            ],
            [
             0.1111111111111111,
             "#46039f"
            ],
            [
             0.2222222222222222,
             "#7201a8"
            ],
            [
             0.3333333333333333,
             "#9c179e"
            ],
            [
             0.4444444444444444,
             "#bd3786"
            ],
            [
             0.5555555555555556,
             "#d8576b"
            ],
            [
             0.6666666666666666,
             "#ed7953"
            ],
            [
             0.7777777777777778,
             "#fb9f3a"
            ],
            [
             0.8888888888888888,
             "#fdca26"
            ],
            [
             1,
             "#f0f921"
            ]
           ],
           "sequentialminus": [
            [
             0,
             "#0d0887"
            ],
            [
             0.1111111111111111,
             "#46039f"
            ],
            [
             0.2222222222222222,
             "#7201a8"
            ],
            [
             0.3333333333333333,
             "#9c179e"
            ],
            [
             0.4444444444444444,
             "#bd3786"
            ],
            [
             0.5555555555555556,
             "#d8576b"
            ],
            [
             0.6666666666666666,
             "#ed7953"
            ],
            [
             0.7777777777777778,
             "#fb9f3a"
            ],
            [
             0.8888888888888888,
             "#fdca26"
            ],
            [
             1,
             "#f0f921"
            ]
           ]
          },
          "colorway": [
           "#636efa",
           "#EF553B",
           "#00cc96",
           "#ab63fa",
           "#FFA15A",
           "#19d3f3",
           "#FF6692",
           "#B6E880",
           "#FF97FF",
           "#FECB52"
          ],
          "font": {
           "color": "#2a3f5f"
          },
          "geo": {
           "bgcolor": "white",
           "lakecolor": "white",
           "landcolor": "#E5ECF6",
           "showlakes": true,
           "showland": true,
           "subunitcolor": "white"
          },
          "hoverlabel": {
           "align": "left"
          },
          "hovermode": "closest",
          "mapbox": {
           "style": "light"
          },
          "paper_bgcolor": "white",
          "plot_bgcolor": "#E5ECF6",
          "polar": {
           "angularaxis": {
            "gridcolor": "white",
            "linecolor": "white",
            "ticks": ""
           },
           "bgcolor": "#E5ECF6",
           "radialaxis": {
            "gridcolor": "white",
            "linecolor": "white",
            "ticks": ""
           }
          },
          "scene": {
           "xaxis": {
            "backgroundcolor": "#E5ECF6",
            "gridcolor": "white",
            "gridwidth": 2,
            "linecolor": "white",
            "showbackground": true,
            "ticks": "",
            "zerolinecolor": "white"
           },
           "yaxis": {
            "backgroundcolor": "#E5ECF6",
            "gridcolor": "white",
            "gridwidth": 2,
            "linecolor": "white",
            "showbackground": true,
            "ticks": "",
            "zerolinecolor": "white"
           },
           "zaxis": {
            "backgroundcolor": "#E5ECF6",
            "gridcolor": "white",
            "gridwidth": 2,
            "linecolor": "white",
            "showbackground": true,
            "ticks": "",
            "zerolinecolor": "white"
           }
          },
          "shapedefaults": {
           "line": {
            "color": "#2a3f5f"
           }
          },
          "ternary": {
           "aaxis": {
            "gridcolor": "white",
            "linecolor": "white",
            "ticks": ""
           },
           "baxis": {
            "gridcolor": "white",
            "linecolor": "white",
            "ticks": ""
           },
           "bgcolor": "#E5ECF6",
           "caxis": {
            "gridcolor": "white",
            "linecolor": "white",
            "ticks": ""
           }
          },
          "title": {
           "x": 0.05
          },
          "xaxis": {
           "automargin": true,
           "gridcolor": "white",
           "linecolor": "white",
           "ticks": "",
           "title": {
            "standoff": 15
           },
           "zerolinecolor": "white",
           "zerolinewidth": 2
          },
          "yaxis": {
           "automargin": true,
           "gridcolor": "white",
           "linecolor": "white",
           "ticks": "",
           "title": {
            "standoff": 15
           },
           "zerolinecolor": "white",
           "zerolinewidth": 2
          }
         }
        },
        "width": 600,
        "xaxis": {
         "anchor": "y",
         "domain": [
          0,
          1
         ],
         "title": {
          "text": "Number of items per transaction"
         }
        },
        "yaxis": {
         "anchor": "x",
         "domain": [
          0,
          1
         ],
         "tickformat": ",.0%",
         "title": {
          "text": "Distribution"
         }
        }
       }
      }
     },
     "metadata": {},
     "output_type": "display_data"
    }
   ],
   "source": [
    "import seaborn as sns\n",
    "\n",
    "length_of_transactions = data[\"product_id\"].apply(len).value_counts()\n",
    "length_of_transactions.rename_axis(\"frequency\")\n",
    "\n",
    "# lenth_of_transactions\n",
    "length_of_transactions = length_of_transactions.head(10)\n",
    "\n",
    "total = length_of_transactions.sum()\n",
    "total = total\n",
    "\n",
    "import plotly.express as px\n",
    "fig = px.bar(length_of_transactions, x=length_of_transactions.index, y=length_of_transactions.values/total,width=600, height=300)\n",
    "fig.update_traces(width=0.5)\n",
    "fig.update_layout(\n",
    "    xaxis_title=\"Number of items per transaction\",\n",
    "    yaxis_tickformat =',.0%',\n",
    "    yaxis_title=\"Distribution\",\n",
    "    legend_title=\"Transaction Length Dsitribution\",)\n",
    "\n",
    "fig.show()\n"
   ]
  },
  {
   "cell_type": "code",
   "execution_count": 6,
   "metadata": {},
   "outputs": [
    {
     "data": {
      "text/plain": [
       "1     871751\n",
       "2     287549\n",
       "3     131477\n",
       "4      63336\n",
       "5      31167\n",
       "6      18212\n",
       "7      11857\n",
       "8       7658\n",
       "9       4960\n",
       "10      3001\n",
       "Name: product_id, dtype: int64"
      ]
     },
     "execution_count": 6,
     "metadata": {},
     "output_type": "execute_result"
    }
   ],
   "source": [
    "length_of_transactions.head(15)"
   ]
  },
  {
   "cell_type": "code",
   "execution_count": 7,
   "metadata": {},
   "outputs": [
    {
     "data": {
      "text/plain": [
       "1430968"
      ]
     },
     "execution_count": 7,
     "metadata": {},
     "output_type": "execute_result"
    }
   ],
   "source": [
    "length_of_transactions.sum()"
   ]
  },
  {
   "attachments": {},
   "cell_type": "markdown",
   "metadata": {},
   "source": [
    "#### 2.1 Classical Association Rules"
   ]
  },
  {
   "cell_type": "code",
   "execution_count": 11,
   "metadata": {},
   "outputs": [
    {
     "data": {
      "text/html": [
       "<div>\n",
       "<style scoped>\n",
       "    .dataframe tbody tr th:only-of-type {\n",
       "        vertical-align: middle;\n",
       "    }\n",
       "\n",
       "    .dataframe tbody tr th {\n",
       "        vertical-align: top;\n",
       "    }\n",
       "\n",
       "    .dataframe thead th {\n",
       "        text-align: right;\n",
       "    }\n",
       "</style>\n",
       "<table border=\"1\" class=\"dataframe\">\n",
       "  <thead>\n",
       "    <tr style=\"text-align: right;\">\n",
       "      <th></th>\n",
       "      <th>antecedent</th>\n",
       "      <th>sup_antecedent</th>\n",
       "      <th>percSupAntecedent</th>\n",
       "      <th>consequent</th>\n",
       "      <th>sup_consequent</th>\n",
       "      <th>percSupConsequent</th>\n",
       "      <th>antecedent&amp;consequent</th>\n",
       "      <th>sup_ant&amp;cons</th>\n",
       "      <th>sup_perc_ant&amp;cons</th>\n",
       "      <th>confidence</th>\n",
       "      <th>lift</th>\n",
       "      <th>improvement</th>\n",
       "    </tr>\n",
       "  </thead>\n",
       "  <tbody>\n",
       "    <tr>\n",
       "      <th>0</th>\n",
       "      <td>[]</td>\n",
       "      <td>NA</td>\n",
       "      <td>NA</td>\n",
       "      <td>[1515966223523303302]</td>\n",
       "      <td>44491</td>\n",
       "      <td>0.030998</td>\n",
       "      <td>[1515966223523303302]</td>\n",
       "      <td>44491</td>\n",
       "      <td>0.030998</td>\n",
       "      <td>NA</td>\n",
       "      <td>NA</td>\n",
       "      <td>NA</td>\n",
       "    </tr>\n",
       "    <tr>\n",
       "      <th>1</th>\n",
       "      <td>[]</td>\n",
       "      <td>NA</td>\n",
       "      <td>NA</td>\n",
       "      <td>[1515966223523303301]</td>\n",
       "      <td>41076</td>\n",
       "      <td>0.028619</td>\n",
       "      <td>[1515966223523303301]</td>\n",
       "      <td>41076</td>\n",
       "      <td>0.028619</td>\n",
       "      <td>NA</td>\n",
       "      <td>NA</td>\n",
       "      <td>NA</td>\n",
       "    </tr>\n",
       "    <tr>\n",
       "      <th>2</th>\n",
       "      <td>[]</td>\n",
       "      <td>NA</td>\n",
       "      <td>NA</td>\n",
       "      <td>[1515966223523303308]</td>\n",
       "      <td>38786</td>\n",
       "      <td>0.027024</td>\n",
       "      <td>[1515966223523303308]</td>\n",
       "      <td>38786</td>\n",
       "      <td>0.027024</td>\n",
       "      <td>NA</td>\n",
       "      <td>NA</td>\n",
       "      <td>NA</td>\n",
       "    </tr>\n",
       "    <tr>\n",
       "      <th>3</th>\n",
       "      <td>[]</td>\n",
       "      <td>NA</td>\n",
       "      <td>NA</td>\n",
       "      <td>[1515966223523303310]</td>\n",
       "      <td>38472</td>\n",
       "      <td>0.026805</td>\n",
       "      <td>[1515966223523303310]</td>\n",
       "      <td>38472</td>\n",
       "      <td>0.026805</td>\n",
       "      <td>NA</td>\n",
       "      <td>NA</td>\n",
       "      <td>NA</td>\n",
       "    </tr>\n",
       "    <tr>\n",
       "      <th>4</th>\n",
       "      <td>[]</td>\n",
       "      <td>NA</td>\n",
       "      <td>NA</td>\n",
       "      <td>[1515966223523303314]</td>\n",
       "      <td>36530</td>\n",
       "      <td>0.025452</td>\n",
       "      <td>[1515966223523303314]</td>\n",
       "      <td>36530</td>\n",
       "      <td>0.025452</td>\n",
       "      <td>NA</td>\n",
       "      <td>NA</td>\n",
       "      <td>NA</td>\n",
       "    </tr>\n",
       "    <tr>\n",
       "      <th>5</th>\n",
       "      <td>[]</td>\n",
       "      <td>NA</td>\n",
       "      <td>NA</td>\n",
       "      <td>[1515966223523303321]</td>\n",
       "      <td>31652</td>\n",
       "      <td>0.022053</td>\n",
       "      <td>[1515966223523303321]</td>\n",
       "      <td>31652</td>\n",
       "      <td>0.022053</td>\n",
       "      <td>NA</td>\n",
       "      <td>NA</td>\n",
       "      <td>NA</td>\n",
       "    </tr>\n",
       "    <tr>\n",
       "      <th>6</th>\n",
       "      <td>[1515966223523303310]</td>\n",
       "      <td>38472</td>\n",
       "      <td>0.026805</td>\n",
       "      <td>[1515966223523303314]</td>\n",
       "      <td>36530</td>\n",
       "      <td>0.025452</td>\n",
       "      <td>[1515966223523303310, 1515966223523303314]</td>\n",
       "      <td>26080</td>\n",
       "      <td>0.018171</td>\n",
       "      <td>0.677896</td>\n",
       "      <td>26.634561</td>\n",
       "      <td>0.652444</td>\n",
       "    </tr>\n",
       "    <tr>\n",
       "      <th>7</th>\n",
       "      <td>[1515966223523303301]</td>\n",
       "      <td>41076</td>\n",
       "      <td>0.028619</td>\n",
       "      <td>[1515966223523303321]</td>\n",
       "      <td>31652</td>\n",
       "      <td>0.022053</td>\n",
       "      <td>[1515966223523303301, 1515966223523303321]</td>\n",
       "      <td>19844</td>\n",
       "      <td>0.013826</td>\n",
       "      <td>0.483104</td>\n",
       "      <td>21.906466</td>\n",
       "      <td>0.461051</td>\n",
       "    </tr>\n",
       "    <tr>\n",
       "      <th>8</th>\n",
       "      <td>[]</td>\n",
       "      <td>NA</td>\n",
       "      <td>NA</td>\n",
       "      <td>[1515966223523303312]</td>\n",
       "      <td>15994</td>\n",
       "      <td>0.011144</td>\n",
       "      <td>[1515966223523303312]</td>\n",
       "      <td>15994</td>\n",
       "      <td>0.011144</td>\n",
       "      <td>NA</td>\n",
       "      <td>NA</td>\n",
       "      <td>NA</td>\n",
       "    </tr>\n",
       "    <tr>\n",
       "      <th>9</th>\n",
       "      <td>[]</td>\n",
       "      <td>NA</td>\n",
       "      <td>NA</td>\n",
       "      <td>[1515966223509117074]</td>\n",
       "      <td>14284</td>\n",
       "      <td>0.009952</td>\n",
       "      <td>[1515966223509117074]</td>\n",
       "      <td>14284</td>\n",
       "      <td>0.009952</td>\n",
       "      <td>NA</td>\n",
       "      <td>NA</td>\n",
       "      <td>NA</td>\n",
       "    </tr>\n",
       "    <tr>\n",
       "      <th>10</th>\n",
       "      <td>[1515966223523303310]</td>\n",
       "      <td>38472</td>\n",
       "      <td>0.026805</td>\n",
       "      <td>[1515966223523303312]</td>\n",
       "      <td>15994</td>\n",
       "      <td>0.011144</td>\n",
       "      <td>[1515966223523303312, 1515966223523303310]</td>\n",
       "      <td>12109</td>\n",
       "      <td>0.008437</td>\n",
       "      <td>0.314748</td>\n",
       "      <td>28.244821</td>\n",
       "      <td>0.303605</td>\n",
       "    </tr>\n",
       "    <tr>\n",
       "      <th>11</th>\n",
       "      <td>[]</td>\n",
       "      <td>NA</td>\n",
       "      <td>NA</td>\n",
       "      <td>[1515966223509106786]</td>\n",
       "      <td>12058</td>\n",
       "      <td>0.008401</td>\n",
       "      <td>[1515966223509106786]</td>\n",
       "      <td>12058</td>\n",
       "      <td>0.008401</td>\n",
       "      <td>NA</td>\n",
       "      <td>NA</td>\n",
       "      <td>NA</td>\n",
       "    </tr>\n",
       "    <tr>\n",
       "      <th>12</th>\n",
       "      <td>[]</td>\n",
       "      <td>NA</td>\n",
       "      <td>NA</td>\n",
       "      <td>[1515966223523303300]</td>\n",
       "      <td>10762</td>\n",
       "      <td>0.007498</td>\n",
       "      <td>[1515966223523303300]</td>\n",
       "      <td>10762</td>\n",
       "      <td>0.007498</td>\n",
       "      <td>NA</td>\n",
       "      <td>NA</td>\n",
       "      <td>NA</td>\n",
       "    </tr>\n",
       "    <tr>\n",
       "      <th>13</th>\n",
       "      <td>[1515966223523303314]</td>\n",
       "      <td>36530</td>\n",
       "      <td>0.025452</td>\n",
       "      <td>[1515966223523303312]</td>\n",
       "      <td>15994</td>\n",
       "      <td>0.011144</td>\n",
       "      <td>[1515966223523303312, 1515966223523303314]</td>\n",
       "      <td>10401</td>\n",
       "      <td>0.007247</td>\n",
       "      <td>0.284725</td>\n",
       "      <td>25.550578</td>\n",
       "      <td>0.273581</td>\n",
       "    </tr>\n",
       "    <tr>\n",
       "      <th>14</th>\n",
       "      <td>[]</td>\n",
       "      <td>NA</td>\n",
       "      <td>NA</td>\n",
       "      <td>[1515966223523303342]</td>\n",
       "      <td>9498</td>\n",
       "      <td>0.006618</td>\n",
       "      <td>[1515966223523303342]</td>\n",
       "      <td>9498</td>\n",
       "      <td>0.006618</td>\n",
       "      <td>NA</td>\n",
       "      <td>NA</td>\n",
       "      <td>NA</td>\n",
       "    </tr>\n",
       "    <tr>\n",
       "      <th>15</th>\n",
       "      <td>[]</td>\n",
       "      <td>NA</td>\n",
       "      <td>NA</td>\n",
       "      <td>[2273948186349404174]</td>\n",
       "      <td>9445</td>\n",
       "      <td>0.006581</td>\n",
       "      <td>[2273948186349404174]</td>\n",
       "      <td>9445</td>\n",
       "      <td>0.006581</td>\n",
       "      <td>NA</td>\n",
       "      <td>NA</td>\n",
       "      <td>NA</td>\n",
       "    </tr>\n",
       "    <tr>\n",
       "      <th>16</th>\n",
       "      <td>[1515966223523303310, 1515966223523303314]</td>\n",
       "      <td>26080</td>\n",
       "      <td>0.018171</td>\n",
       "      <td>[1515966223523303312]</td>\n",
       "      <td>15994</td>\n",
       "      <td>0.011144</td>\n",
       "      <td>[1515966223523303312, 1515966223523303310, 151...</td>\n",
       "      <td>9031</td>\n",
       "      <td>0.006292</td>\n",
       "      <td>0.346281</td>\n",
       "      <td>31.074458</td>\n",
       "      <td>0.335137</td>\n",
       "    </tr>\n",
       "    <tr>\n",
       "      <th>17</th>\n",
       "      <td>[]</td>\n",
       "      <td>NA</td>\n",
       "      <td>NA</td>\n",
       "      <td>[2273948316473492113]</td>\n",
       "      <td>8968</td>\n",
       "      <td>0.006248</td>\n",
       "      <td>[2273948316473492113]</td>\n",
       "      <td>8968</td>\n",
       "      <td>0.006248</td>\n",
       "      <td>NA</td>\n",
       "      <td>NA</td>\n",
       "      <td>NA</td>\n",
       "    </tr>\n",
       "    <tr>\n",
       "      <th>18</th>\n",
       "      <td>[]</td>\n",
       "      <td>NA</td>\n",
       "      <td>NA</td>\n",
       "      <td>[1515966223509088521]</td>\n",
       "      <td>8867</td>\n",
       "      <td>0.006178</td>\n",
       "      <td>[1515966223509088521]</td>\n",
       "      <td>8867</td>\n",
       "      <td>0.006178</td>\n",
       "      <td>NA</td>\n",
       "      <td>NA</td>\n",
       "      <td>NA</td>\n",
       "    </tr>\n",
       "    <tr>\n",
       "      <th>19</th>\n",
       "      <td>[1515966223523303308]</td>\n",
       "      <td>38786</td>\n",
       "      <td>0.027024</td>\n",
       "      <td>[1515966223523303310]</td>\n",
       "      <td>38472</td>\n",
       "      <td>0.026805</td>\n",
       "      <td>[1515966223523303310, 1515966223523303308]</td>\n",
       "      <td>8726</td>\n",
       "      <td>0.006080</td>\n",
       "      <td>0.224978</td>\n",
       "      <td>8.393205</td>\n",
       "      <td>0.198173</td>\n",
       "    </tr>\n",
       "    <tr>\n",
       "      <th>20</th>\n",
       "      <td>[]</td>\n",
       "      <td>NA</td>\n",
       "      <td>NA</td>\n",
       "      <td>[2273948218662322995]</td>\n",
       "      <td>8692</td>\n",
       "      <td>0.006056</td>\n",
       "      <td>[2273948218662322995]</td>\n",
       "      <td>8692</td>\n",
       "      <td>0.006056</td>\n",
       "      <td>NA</td>\n",
       "      <td>NA</td>\n",
       "      <td>NA</td>\n",
       "    </tr>\n",
       "    <tr>\n",
       "      <th>21</th>\n",
       "      <td>[]</td>\n",
       "      <td>NA</td>\n",
       "      <td>NA</td>\n",
       "      <td>[1515966223523303307]</td>\n",
       "      <td>8577</td>\n",
       "      <td>0.005976</td>\n",
       "      <td>[1515966223523303307]</td>\n",
       "      <td>8577</td>\n",
       "      <td>0.005976</td>\n",
       "      <td>NA</td>\n",
       "      <td>NA</td>\n",
       "      <td>NA</td>\n",
       "    </tr>\n",
       "    <tr>\n",
       "      <th>22</th>\n",
       "      <td>[]</td>\n",
       "      <td>NA</td>\n",
       "      <td>NA</td>\n",
       "      <td>[1515966223523303362]</td>\n",
       "      <td>8343</td>\n",
       "      <td>0.005813</td>\n",
       "      <td>[1515966223523303362]</td>\n",
       "      <td>8343</td>\n",
       "      <td>0.005813</td>\n",
       "      <td>NA</td>\n",
       "      <td>NA</td>\n",
       "      <td>NA</td>\n",
       "    </tr>\n",
       "    <tr>\n",
       "      <th>23</th>\n",
       "      <td>[1515966223523303301]</td>\n",
       "      <td>41076</td>\n",
       "      <td>0.028619</td>\n",
       "      <td>[1515966223523303314]</td>\n",
       "      <td>36530</td>\n",
       "      <td>0.025452</td>\n",
       "      <td>[1515966223523303301, 1515966223523303314]</td>\n",
       "      <td>8304</td>\n",
       "      <td>0.005786</td>\n",
       "      <td>0.202162</td>\n",
       "      <td>7.942952</td>\n",
       "      <td>0.17671</td>\n",
       "    </tr>\n",
       "    <tr>\n",
       "      <th>24</th>\n",
       "      <td>[1515966223523303308]</td>\n",
       "      <td>38786</td>\n",
       "      <td>0.027024</td>\n",
       "      <td>[1515966223523303314]</td>\n",
       "      <td>36530</td>\n",
       "      <td>0.025452</td>\n",
       "      <td>[1515966223523303308, 1515966223523303314]</td>\n",
       "      <td>8276</td>\n",
       "      <td>0.005766</td>\n",
       "      <td>0.213376</td>\n",
       "      <td>8.383555</td>\n",
       "      <td>0.187924</td>\n",
       "    </tr>\n",
       "    <tr>\n",
       "      <th>25</th>\n",
       "      <td>[1515966223523303310]</td>\n",
       "      <td>38472</td>\n",
       "      <td>0.026805</td>\n",
       "      <td>[2273948218662322995]</td>\n",
       "      <td>8692</td>\n",
       "      <td>0.006056</td>\n",
       "      <td>[2273948218662322995, 1515966223523303310]</td>\n",
       "      <td>8229</td>\n",
       "      <td>0.005733</td>\n",
       "      <td>0.213896</td>\n",
       "      <td>35.319535</td>\n",
       "      <td>0.20784</td>\n",
       "    </tr>\n",
       "    <tr>\n",
       "      <th>26</th>\n",
       "      <td>[1515966223523303301]</td>\n",
       "      <td>41076</td>\n",
       "      <td>0.028619</td>\n",
       "      <td>[1515966223523303310]</td>\n",
       "      <td>38472</td>\n",
       "      <td>0.026805</td>\n",
       "      <td>[1515966223523303301, 1515966223523303310]</td>\n",
       "      <td>8219</td>\n",
       "      <td>0.005726</td>\n",
       "      <td>0.200093</td>\n",
       "      <td>7.464805</td>\n",
       "      <td>0.173288</td>\n",
       "    </tr>\n",
       "    <tr>\n",
       "      <th>27</th>\n",
       "      <td>[]</td>\n",
       "      <td>NA</td>\n",
       "      <td>NA</td>\n",
       "      <td>[2273948227654910595]</td>\n",
       "      <td>7963</td>\n",
       "      <td>0.005548</td>\n",
       "      <td>[2273948227654910595]</td>\n",
       "      <td>7963</td>\n",
       "      <td>0.005548</td>\n",
       "      <td>NA</td>\n",
       "      <td>NA</td>\n",
       "      <td>NA</td>\n",
       "    </tr>\n",
       "    <tr>\n",
       "      <th>28</th>\n",
       "      <td>[]</td>\n",
       "      <td>NA</td>\n",
       "      <td>NA</td>\n",
       "      <td>[1515966223509089067]</td>\n",
       "      <td>7235</td>\n",
       "      <td>0.005041</td>\n",
       "      <td>[1515966223509089067]</td>\n",
       "      <td>7235</td>\n",
       "      <td>0.005041</td>\n",
       "      <td>NA</td>\n",
       "      <td>NA</td>\n",
       "      <td>NA</td>\n",
       "    </tr>\n",
       "  </tbody>\n",
       "</table>\n",
       "</div>"
      ],
      "text/plain": [
       "                                    antecedent sup_antecedent  \\\n",
       "0                                           []             NA   \n",
       "1                                           []             NA   \n",
       "2                                           []             NA   \n",
       "3                                           []             NA   \n",
       "4                                           []             NA   \n",
       "5                                           []             NA   \n",
       "6                        [1515966223523303310]          38472   \n",
       "7                        [1515966223523303301]          41076   \n",
       "8                                           []             NA   \n",
       "9                                           []             NA   \n",
       "10                       [1515966223523303310]          38472   \n",
       "11                                          []             NA   \n",
       "12                                          []             NA   \n",
       "13                       [1515966223523303314]          36530   \n",
       "14                                          []             NA   \n",
       "15                                          []             NA   \n",
       "16  [1515966223523303310, 1515966223523303314]          26080   \n",
       "17                                          []             NA   \n",
       "18                                          []             NA   \n",
       "19                       [1515966223523303308]          38786   \n",
       "20                                          []             NA   \n",
       "21                                          []             NA   \n",
       "22                                          []             NA   \n",
       "23                       [1515966223523303301]          41076   \n",
       "24                       [1515966223523303308]          38786   \n",
       "25                       [1515966223523303310]          38472   \n",
       "26                       [1515966223523303301]          41076   \n",
       "27                                          []             NA   \n",
       "28                                          []             NA   \n",
       "\n",
       "   percSupAntecedent             consequent  sup_consequent  \\\n",
       "0                 NA  [1515966223523303302]           44491   \n",
       "1                 NA  [1515966223523303301]           41076   \n",
       "2                 NA  [1515966223523303308]           38786   \n",
       "3                 NA  [1515966223523303310]           38472   \n",
       "4                 NA  [1515966223523303314]           36530   \n",
       "5                 NA  [1515966223523303321]           31652   \n",
       "6           0.026805  [1515966223523303314]           36530   \n",
       "7           0.028619  [1515966223523303321]           31652   \n",
       "8                 NA  [1515966223523303312]           15994   \n",
       "9                 NA  [1515966223509117074]           14284   \n",
       "10          0.026805  [1515966223523303312]           15994   \n",
       "11                NA  [1515966223509106786]           12058   \n",
       "12                NA  [1515966223523303300]           10762   \n",
       "13          0.025452  [1515966223523303312]           15994   \n",
       "14                NA  [1515966223523303342]            9498   \n",
       "15                NA  [2273948186349404174]            9445   \n",
       "16          0.018171  [1515966223523303312]           15994   \n",
       "17                NA  [2273948316473492113]            8968   \n",
       "18                NA  [1515966223509088521]            8867   \n",
       "19          0.027024  [1515966223523303310]           38472   \n",
       "20                NA  [2273948218662322995]            8692   \n",
       "21                NA  [1515966223523303307]            8577   \n",
       "22                NA  [1515966223523303362]            8343   \n",
       "23          0.028619  [1515966223523303314]           36530   \n",
       "24          0.027024  [1515966223523303314]           36530   \n",
       "25          0.026805  [2273948218662322995]            8692   \n",
       "26          0.028619  [1515966223523303310]           38472   \n",
       "27                NA  [2273948227654910595]            7963   \n",
       "28                NA  [1515966223509089067]            7235   \n",
       "\n",
       "    percSupConsequent                              antecedent&consequent  \\\n",
       "0            0.030998                              [1515966223523303302]   \n",
       "1            0.028619                              [1515966223523303301]   \n",
       "2            0.027024                              [1515966223523303308]   \n",
       "3            0.026805                              [1515966223523303310]   \n",
       "4            0.025452                              [1515966223523303314]   \n",
       "5            0.022053                              [1515966223523303321]   \n",
       "6            0.025452         [1515966223523303310, 1515966223523303314]   \n",
       "7            0.022053         [1515966223523303301, 1515966223523303321]   \n",
       "8            0.011144                              [1515966223523303312]   \n",
       "9            0.009952                              [1515966223509117074]   \n",
       "10           0.011144         [1515966223523303312, 1515966223523303310]   \n",
       "11           0.008401                              [1515966223509106786]   \n",
       "12           0.007498                              [1515966223523303300]   \n",
       "13           0.011144         [1515966223523303312, 1515966223523303314]   \n",
       "14           0.006618                              [1515966223523303342]   \n",
       "15           0.006581                              [2273948186349404174]   \n",
       "16           0.011144  [1515966223523303312, 1515966223523303310, 151...   \n",
       "17           0.006248                              [2273948316473492113]   \n",
       "18           0.006178                              [1515966223509088521]   \n",
       "19           0.026805         [1515966223523303310, 1515966223523303308]   \n",
       "20           0.006056                              [2273948218662322995]   \n",
       "21           0.005976                              [1515966223523303307]   \n",
       "22           0.005813                              [1515966223523303362]   \n",
       "23           0.025452         [1515966223523303301, 1515966223523303314]   \n",
       "24           0.025452         [1515966223523303308, 1515966223523303314]   \n",
       "25           0.006056         [2273948218662322995, 1515966223523303310]   \n",
       "26           0.026805         [1515966223523303301, 1515966223523303310]   \n",
       "27           0.005548                              [2273948227654910595]   \n",
       "28           0.005041                              [1515966223509089067]   \n",
       "\n",
       "    sup_ant&cons  sup_perc_ant&cons confidence       lift improvement  \n",
       "0          44491           0.030998         NA         NA          NA  \n",
       "1          41076           0.028619         NA         NA          NA  \n",
       "2          38786           0.027024         NA         NA          NA  \n",
       "3          38472           0.026805         NA         NA          NA  \n",
       "4          36530           0.025452         NA         NA          NA  \n",
       "5          31652           0.022053         NA         NA          NA  \n",
       "6          26080           0.018171   0.677896  26.634561    0.652444  \n",
       "7          19844           0.013826   0.483104  21.906466    0.461051  \n",
       "8          15994           0.011144         NA         NA          NA  \n",
       "9          14284           0.009952         NA         NA          NA  \n",
       "10         12109           0.008437   0.314748  28.244821    0.303605  \n",
       "11         12058           0.008401         NA         NA          NA  \n",
       "12         10762           0.007498         NA         NA          NA  \n",
       "13         10401           0.007247   0.284725  25.550578    0.273581  \n",
       "14          9498           0.006618         NA         NA          NA  \n",
       "15          9445           0.006581         NA         NA          NA  \n",
       "16          9031           0.006292   0.346281  31.074458    0.335137  \n",
       "17          8968           0.006248         NA         NA          NA  \n",
       "18          8867           0.006178         NA         NA          NA  \n",
       "19          8726           0.006080   0.224978   8.393205    0.198173  \n",
       "20          8692           0.006056         NA         NA          NA  \n",
       "21          8577           0.005976         NA         NA          NA  \n",
       "22          8343           0.005813         NA         NA          NA  \n",
       "23          8304           0.005786   0.202162   7.942952     0.17671  \n",
       "24          8276           0.005766   0.213376   8.383555    0.187924  \n",
       "25          8229           0.005733   0.213896  35.319535     0.20784  \n",
       "26          8219           0.005726   0.200093   7.464805    0.173288  \n",
       "27          7963           0.005548         NA         NA          NA  \n",
       "28          7235           0.005041         NA         NA          NA  "
      ]
     },
     "execution_count": 11,
     "metadata": {},
     "output_type": "execute_result"
    }
   ],
   "source": [
    "import modified_fp_growth_algorithm.modified_fp_growth_latest as mod_fp_growth\n",
    "\n",
    "rules = mod_fp_growth.fpgrowthFromDataFrame(\\\n",
    "    data,\n",
    "    minSupRatio=0.005,\n",
    "    maxSupRatio=1,\n",
    "    minConf=0,\n",
    "    item_col=1\n",
    "    )\n",
    "    \n",
    "rules.to_excel(\"fp_groth_out.xlsx\",index=False) \n",
    "rules"
   ]
  },
  {
   "cell_type": "code",
   "execution_count": 12,
   "metadata": {},
   "outputs": [
    {
     "data": {
      "text/html": [
       "<table border=\"1\" class=\"dataframe\">\n",
       "  <thead>\n",
       "    <tr style=\"text-align: right;\">\n",
       "      <th>rules_index</th>\n",
       "      <th>sup_ant&amp;cons</th>\n",
       "      <th>antecedent&amp;consequent</th>\n",
       "      <th>product_id</th>\n",
       "      <th>category_code</th>\n",
       "      <th>brand</th>\n",
       "      <th>price</th>\n",
       "    </tr>\n",
       "  </thead>\n",
       "  <tbody>\n",
       "    <tr>\n",
       "      <td>0</td>\n",
       "      <td>44491</td>\n",
       "      <td>1515966223523303302</td>\n",
       "      <td>1515966223523303302</td>\n",
       "      <td>57.87</td>\n",
       "      <td>nan</td>\n",
       "      <td>nan</td>\n",
       "    </tr>\n",
       "    <tr>\n",
       "      <td>1</td>\n",
       "      <td>41076</td>\n",
       "      <td>1515966223523303301</td>\n",
       "      <td>1515966223523303301</td>\n",
       "      <td>16.18</td>\n",
       "      <td>nan</td>\n",
       "      <td>nan</td>\n",
       "    </tr>\n",
       "    <tr>\n",
       "      <td>2</td>\n",
       "      <td>38786</td>\n",
       "      <td>1515966223523303308</td>\n",
       "      <td>1515966223523303308</td>\n",
       "      <td>29.63</td>\n",
       "      <td>nan</td>\n",
       "      <td>nan</td>\n",
       "    </tr>\n",
       "    <tr>\n",
       "      <td>3</td>\n",
       "      <td>38472</td>\n",
       "      <td>1515966223523303310</td>\n",
       "      <td>1515966223523303310</td>\n",
       "      <td>8.10</td>\n",
       "      <td>nan</td>\n",
       "      <td>nan</td>\n",
       "    </tr>\n",
       "    <tr>\n",
       "      <td>4</td>\n",
       "      <td>36530</td>\n",
       "      <td>1515966223523303314</td>\n",
       "      <td>1515966223523303314</td>\n",
       "      <td>9.26</td>\n",
       "      <td>nan</td>\n",
       "      <td>nan</td>\n",
       "    </tr>\n",
       "    <tr>\n",
       "      <td>5</td>\n",
       "      <td>31652</td>\n",
       "      <td>1515966223523303321</td>\n",
       "      <td>1515966223523303321</td>\n",
       "      <td>16.18</td>\n",
       "      <td>nan</td>\n",
       "      <td>nan</td>\n",
       "    </tr>\n",
       "    <tr>\n",
       "      <td>6</td>\n",
       "      <td>26080</td>\n",
       "      <td>1515966223523303310</td>\n",
       "      <td>1515966223523303310</td>\n",
       "      <td>8.10</td>\n",
       "      <td>nan</td>\n",
       "      <td>nan</td>\n",
       "    </tr>\n",
       "    <tr>\n",
       "      <td>6</td>\n",
       "      <td>26080</td>\n",
       "      <td>1515966223523303314</td>\n",
       "      <td>1515966223523303314</td>\n",
       "      <td>9.26</td>\n",
       "      <td>nan</td>\n",
       "      <td>nan</td>\n",
       "    </tr>\n",
       "    <tr>\n",
       "      <td>7</td>\n",
       "      <td>19844</td>\n",
       "      <td>1515966223523303301</td>\n",
       "      <td>1515966223523303301</td>\n",
       "      <td>16.18</td>\n",
       "      <td>nan</td>\n",
       "      <td>nan</td>\n",
       "    </tr>\n",
       "    <tr>\n",
       "      <td>7</td>\n",
       "      <td>19844</td>\n",
       "      <td>1515966223523303321</td>\n",
       "      <td>1515966223523303321</td>\n",
       "      <td>16.18</td>\n",
       "      <td>nan</td>\n",
       "      <td>nan</td>\n",
       "    </tr>\n",
       "    <tr>\n",
       "      <td>8</td>\n",
       "      <td>15994</td>\n",
       "      <td>1515966223523303312</td>\n",
       "      <td>1515966223523303312</td>\n",
       "      <td>6.94</td>\n",
       "      <td>nan</td>\n",
       "      <td>nan</td>\n",
       "    </tr>\n",
       "    <tr>\n",
       "      <td>9</td>\n",
       "      <td>14284</td>\n",
       "      <td>1515966223509117074</td>\n",
       "      <td>1515966223509117074</td>\n",
       "      <td>nan</td>\n",
       "      <td>samsung</td>\n",
       "      <td>30.07</td>\n",
       "    </tr>\n",
       "    <tr>\n",
       "      <td>10</td>\n",
       "      <td>12109</td>\n",
       "      <td>1515966223523303312</td>\n",
       "      <td>1515966223523303312</td>\n",
       "      <td>6.94</td>\n",
       "      <td>nan</td>\n",
       "      <td>nan</td>\n",
       "    </tr>\n",
       "    <tr>\n",
       "      <td>10</td>\n",
       "      <td>12109</td>\n",
       "      <td>1515966223523303310</td>\n",
       "      <td>1515966223523303310</td>\n",
       "      <td>8.10</td>\n",
       "      <td>nan</td>\n",
       "      <td>nan</td>\n",
       "    </tr>\n",
       "    <tr>\n",
       "      <td>11</td>\n",
       "      <td>12058</td>\n",
       "      <td>1515966223509106786</td>\n",
       "      <td>1515966223509106786</td>\n",
       "      <td>electronics.smartphone</td>\n",
       "      <td>samsung</td>\n",
       "      <td>138.87</td>\n",
       "    </tr>\n",
       "    <tr>\n",
       "      <td>12</td>\n",
       "      <td>10762</td>\n",
       "      <td>1515966223523303300</td>\n",
       "      <td>1515966223523303300</td>\n",
       "      <td>13.87</td>\n",
       "      <td>nan</td>\n",
       "      <td>nan</td>\n",
       "    </tr>\n",
       "    <tr>\n",
       "      <td>13</td>\n",
       "      <td>10401</td>\n",
       "      <td>1515966223523303314</td>\n",
       "      <td>1515966223523303314</td>\n",
       "      <td>9.26</td>\n",
       "      <td>nan</td>\n",
       "      <td>nan</td>\n",
       "    </tr>\n",
       "    <tr>\n",
       "      <td>13</td>\n",
       "      <td>10401</td>\n",
       "      <td>1515966223523303312</td>\n",
       "      <td>1515966223523303312</td>\n",
       "      <td>6.94</td>\n",
       "      <td>nan</td>\n",
       "      <td>nan</td>\n",
       "    </tr>\n",
       "    <tr>\n",
       "      <td>14</td>\n",
       "      <td>9498</td>\n",
       "      <td>1515966223523303342</td>\n",
       "      <td>1515966223523303342</td>\n",
       "      <td>92.59</td>\n",
       "      <td>nan</td>\n",
       "      <td>nan</td>\n",
       "    </tr>\n",
       "    <tr>\n",
       "      <td>15</td>\n",
       "      <td>9445</td>\n",
       "      <td>2273948186349404174</td>\n",
       "      <td>2273948186349404174</td>\n",
       "      <td>nan</td>\n",
       "      <td>neo</td>\n",
       "      <td>30.07</td>\n",
       "    </tr>\n",
       "    <tr>\n",
       "      <td>16</td>\n",
       "      <td>9031</td>\n",
       "      <td>1515966223523303314</td>\n",
       "      <td>1515966223523303314</td>\n",
       "      <td>9.26</td>\n",
       "      <td>nan</td>\n",
       "      <td>nan</td>\n",
       "    </tr>\n",
       "    <tr>\n",
       "      <td>16</td>\n",
       "      <td>9031</td>\n",
       "      <td>1515966223523303310</td>\n",
       "      <td>1515966223523303310</td>\n",
       "      <td>8.10</td>\n",
       "      <td>nan</td>\n",
       "      <td>nan</td>\n",
       "    </tr>\n",
       "    <tr>\n",
       "      <td>16</td>\n",
       "      <td>9031</td>\n",
       "      <td>1515966223523303312</td>\n",
       "      <td>1515966223523303312</td>\n",
       "      <td>6.94</td>\n",
       "      <td>nan</td>\n",
       "      <td>nan</td>\n",
       "    </tr>\n",
       "    <tr>\n",
       "      <td>17</td>\n",
       "      <td>8968</td>\n",
       "      <td>2273948316473492113</td>\n",
       "      <td>2273948316473492113</td>\n",
       "      <td>electronics.smartphone</td>\n",
       "      <td>samsung</td>\n",
       "      <td>162.01</td>\n",
       "    </tr>\n",
       "    <tr>\n",
       "      <td>18</td>\n",
       "      <td>8867</td>\n",
       "      <td>1515966223509088521</td>\n",
       "      <td>1515966223509088521</td>\n",
       "      <td>electronics.smartphone</td>\n",
       "      <td>samsung</td>\n",
       "      <td>115.72</td>\n",
       "    </tr>\n",
       "    <tr>\n",
       "      <td>19</td>\n",
       "      <td>8726</td>\n",
       "      <td>1515966223523303310</td>\n",
       "      <td>1515966223523303310</td>\n",
       "      <td>8.10</td>\n",
       "      <td>nan</td>\n",
       "      <td>nan</td>\n",
       "    </tr>\n",
       "    <tr>\n",
       "      <td>19</td>\n",
       "      <td>8726</td>\n",
       "      <td>1515966223523303308</td>\n",
       "      <td>1515966223523303308</td>\n",
       "      <td>29.63</td>\n",
       "      <td>nan</td>\n",
       "      <td>nan</td>\n",
       "    </tr>\n",
       "    <tr>\n",
       "      <td>20</td>\n",
       "      <td>8692</td>\n",
       "      <td>2273948218662322995</td>\n",
       "      <td>2273948218662322995</td>\n",
       "      <td>nan</td>\n",
       "      <td>grohe</td>\n",
       "      <td>184.72</td>\n",
       "    </tr>\n",
       "    <tr>\n",
       "      <td>21</td>\n",
       "      <td>8577</td>\n",
       "      <td>1515966223523303307</td>\n",
       "      <td>1515966223523303307</td>\n",
       "      <td>electronics.smartphone</td>\n",
       "      <td>awax</td>\n",
       "      <td>5.56</td>\n",
       "    </tr>\n",
       "    <tr>\n",
       "      <td>22</td>\n",
       "      <td>8343</td>\n",
       "      <td>1515966223523303362</td>\n",
       "      <td>1515966223523303362</td>\n",
       "      <td>69.44</td>\n",
       "      <td>nan</td>\n",
       "      <td>nan</td>\n",
       "    </tr>\n",
       "    <tr>\n",
       "      <td>23</td>\n",
       "      <td>8304</td>\n",
       "      <td>1515966223523303314</td>\n",
       "      <td>1515966223523303314</td>\n",
       "      <td>9.26</td>\n",
       "      <td>nan</td>\n",
       "      <td>nan</td>\n",
       "    </tr>\n",
       "    <tr>\n",
       "      <td>23</td>\n",
       "      <td>8304</td>\n",
       "      <td>1515966223523303301</td>\n",
       "      <td>1515966223523303301</td>\n",
       "      <td>16.18</td>\n",
       "      <td>nan</td>\n",
       "      <td>nan</td>\n",
       "    </tr>\n",
       "    <tr>\n",
       "      <td>24</td>\n",
       "      <td>8276</td>\n",
       "      <td>1515966223523303308</td>\n",
       "      <td>1515966223523303308</td>\n",
       "      <td>29.63</td>\n",
       "      <td>nan</td>\n",
       "      <td>nan</td>\n",
       "    </tr>\n",
       "    <tr>\n",
       "      <td>24</td>\n",
       "      <td>8276</td>\n",
       "      <td>1515966223523303314</td>\n",
       "      <td>1515966223523303314</td>\n",
       "      <td>9.26</td>\n",
       "      <td>nan</td>\n",
       "      <td>nan</td>\n",
       "    </tr>\n",
       "    <tr>\n",
       "      <td>25</td>\n",
       "      <td>8229</td>\n",
       "      <td>1515966223523303310</td>\n",
       "      <td>1515966223523303310</td>\n",
       "      <td>8.10</td>\n",
       "      <td>nan</td>\n",
       "      <td>nan</td>\n",
       "    </tr>\n",
       "    <tr>\n",
       "      <td>25</td>\n",
       "      <td>8229</td>\n",
       "      <td>2273948218662322995</td>\n",
       "      <td>2273948218662322995</td>\n",
       "      <td>nan</td>\n",
       "      <td>grohe</td>\n",
       "      <td>184.72</td>\n",
       "    </tr>\n",
       "    <tr>\n",
       "      <td>26</td>\n",
       "      <td>8219</td>\n",
       "      <td>1515966223523303310</td>\n",
       "      <td>1515966223523303310</td>\n",
       "      <td>8.10</td>\n",
       "      <td>nan</td>\n",
       "      <td>nan</td>\n",
       "    </tr>\n",
       "    <tr>\n",
       "      <td>26</td>\n",
       "      <td>8219</td>\n",
       "      <td>1515966223523303301</td>\n",
       "      <td>1515966223523303301</td>\n",
       "      <td>16.18</td>\n",
       "      <td>nan</td>\n",
       "      <td>nan</td>\n",
       "    </tr>\n",
       "    <tr>\n",
       "      <td>27</td>\n",
       "      <td>7963</td>\n",
       "      <td>2273948227654910595</td>\n",
       "      <td>2273948227654910595</td>\n",
       "      <td>appliances.environment.vacuum</td>\n",
       "      <td>samsung</td>\n",
       "      <td>104.14</td>\n",
       "    </tr>\n",
       "    <tr>\n",
       "      <td>28</td>\n",
       "      <td>7235</td>\n",
       "      <td>1515966223509089067</td>\n",
       "      <td>1515966223509089067</td>\n",
       "      <td>electronics.smartphone</td>\n",
       "      <td>samsung</td>\n",
       "      <td>138.87</td>\n",
       "    </tr>\n",
       "  </tbody>\n",
       "</table>"
      ],
      "text/plain": [
       "<IPython.core.display.HTML object>"
      ]
     },
     "execution_count": 12,
     "metadata": {},
     "output_type": "execute_result"
    }
   ],
   "source": [
    "# A minSupRatio of 0.007 means, in case of profitability, that it represents 0.007 of total revenues rspectively profit. We made the profit fo each product equal.\n",
    "# Let's oberserve what kind of items we have found.\n",
    "\n",
    "from IPython.display import HTML\n",
    "\n",
    "rules_exploded = rules.explode(\"antecedent&consequent\")[[\"antecedent&consequent\",\"sup_ant&cons\"]]\n",
    "rules_exploded.insert(0,\"rules_index\",rules_exploded.index)\n",
    "\n",
    "\n",
    "rules_labeled = pd.merge(rules_exploded,unique_items, how='inner', left_on = 'antecedent&consequent', right_on = 'product_id').sort_values(\"rules_index\").reset_index(drop=True)\n",
    "\n",
    "\n",
    "rules_labeled_new = rules_labeled[[\"rules_index\",\"sup_ant&cons\",\"antecedent&consequent\",\"product_id\",\"category_code\",\"brand\",\"price\"]]\n",
    "\n",
    "HTML(rules_labeled_new.to_html(index=False))"
   ]
  },
  {
   "cell_type": "code",
   "execution_count": 13,
   "metadata": {},
   "outputs": [
    {
     "data": {
      "text/html": [
       "<div>\n",
       "<style scoped>\n",
       "    .dataframe tbody tr th:only-of-type {\n",
       "        vertical-align: middle;\n",
       "    }\n",
       "\n",
       "    .dataframe tbody tr th {\n",
       "        vertical-align: top;\n",
       "    }\n",
       "\n",
       "    .dataframe thead th {\n",
       "        text-align: right;\n",
       "    }\n",
       "</style>\n",
       "<table border=\"1\" class=\"dataframe\">\n",
       "  <thead>\n",
       "    <tr style=\"text-align: right;\">\n",
       "      <th></th>\n",
       "      <th>antecedent</th>\n",
       "      <th>sup_antecedent</th>\n",
       "      <th>percSupAntecedent</th>\n",
       "      <th>consequent</th>\n",
       "      <th>sup_consequent</th>\n",
       "      <th>percSupConsequent</th>\n",
       "      <th>antecedent&amp;consequent</th>\n",
       "      <th>sup_ant&amp;cons</th>\n",
       "      <th>sup_perc_ant&amp;cons</th>\n",
       "      <th>confidence</th>\n",
       "      <th>lift</th>\n",
       "      <th>improvement</th>\n",
       "    </tr>\n",
       "  </thead>\n",
       "  <tbody>\n",
       "    <tr>\n",
       "      <th>0</th>\n",
       "      <td>[1515966223523303310]</td>\n",
       "      <td>38472</td>\n",
       "      <td>0.026805</td>\n",
       "      <td>[1515966223523303314]</td>\n",
       "      <td>36530</td>\n",
       "      <td>0.025452</td>\n",
       "      <td>[1515966223523303310, 1515966223523303314]</td>\n",
       "      <td>26080</td>\n",
       "      <td>0.018171</td>\n",
       "      <td>0.677896</td>\n",
       "      <td>26.634561</td>\n",
       "      <td>0.652444</td>\n",
       "    </tr>\n",
       "    <tr>\n",
       "      <th>1</th>\n",
       "      <td>[1515966223523303301]</td>\n",
       "      <td>41076</td>\n",
       "      <td>0.028619</td>\n",
       "      <td>[1515966223523303321]</td>\n",
       "      <td>31652</td>\n",
       "      <td>0.022053</td>\n",
       "      <td>[1515966223523303301, 1515966223523303321]</td>\n",
       "      <td>19844</td>\n",
       "      <td>0.013826</td>\n",
       "      <td>0.483104</td>\n",
       "      <td>21.906466</td>\n",
       "      <td>0.461051</td>\n",
       "    </tr>\n",
       "    <tr>\n",
       "      <th>2</th>\n",
       "      <td>[1515966223523303310]</td>\n",
       "      <td>38472</td>\n",
       "      <td>0.026805</td>\n",
       "      <td>[1515966223523303312]</td>\n",
       "      <td>15994</td>\n",
       "      <td>0.011144</td>\n",
       "      <td>[1515966223523303312, 1515966223523303310]</td>\n",
       "      <td>12109</td>\n",
       "      <td>0.008437</td>\n",
       "      <td>0.314748</td>\n",
       "      <td>28.244821</td>\n",
       "      <td>0.303605</td>\n",
       "    </tr>\n",
       "    <tr>\n",
       "      <th>3</th>\n",
       "      <td>[1515966223523303314]</td>\n",
       "      <td>36530</td>\n",
       "      <td>0.025452</td>\n",
       "      <td>[1515966223523303312]</td>\n",
       "      <td>15994</td>\n",
       "      <td>0.011144</td>\n",
       "      <td>[1515966223523303312, 1515966223523303314]</td>\n",
       "      <td>10401</td>\n",
       "      <td>0.007247</td>\n",
       "      <td>0.284725</td>\n",
       "      <td>25.550578</td>\n",
       "      <td>0.273581</td>\n",
       "    </tr>\n",
       "    <tr>\n",
       "      <th>4</th>\n",
       "      <td>[1515966223523303310, 1515966223523303314]</td>\n",
       "      <td>26080</td>\n",
       "      <td>0.018171</td>\n",
       "      <td>[1515966223523303312]</td>\n",
       "      <td>15994</td>\n",
       "      <td>0.011144</td>\n",
       "      <td>[1515966223523303312, 1515966223523303310, 151...</td>\n",
       "      <td>9031</td>\n",
       "      <td>0.006292</td>\n",
       "      <td>0.346281</td>\n",
       "      <td>31.074458</td>\n",
       "      <td>0.335137</td>\n",
       "    </tr>\n",
       "    <tr>\n",
       "      <th>5</th>\n",
       "      <td>[1515966223523303308]</td>\n",
       "      <td>38786</td>\n",
       "      <td>0.027024</td>\n",
       "      <td>[1515966223523303310]</td>\n",
       "      <td>38472</td>\n",
       "      <td>0.026805</td>\n",
       "      <td>[1515966223523303310, 1515966223523303308]</td>\n",
       "      <td>8726</td>\n",
       "      <td>0.006080</td>\n",
       "      <td>0.224978</td>\n",
       "      <td>8.393205</td>\n",
       "      <td>0.198173</td>\n",
       "    </tr>\n",
       "    <tr>\n",
       "      <th>6</th>\n",
       "      <td>[1515966223523303301]</td>\n",
       "      <td>41076</td>\n",
       "      <td>0.028619</td>\n",
       "      <td>[1515966223523303314]</td>\n",
       "      <td>36530</td>\n",
       "      <td>0.025452</td>\n",
       "      <td>[1515966223523303301, 1515966223523303314]</td>\n",
       "      <td>8304</td>\n",
       "      <td>0.005786</td>\n",
       "      <td>0.202162</td>\n",
       "      <td>7.942952</td>\n",
       "      <td>0.176710</td>\n",
       "    </tr>\n",
       "    <tr>\n",
       "      <th>7</th>\n",
       "      <td>[1515966223523303308]</td>\n",
       "      <td>38786</td>\n",
       "      <td>0.027024</td>\n",
       "      <td>[1515966223523303314]</td>\n",
       "      <td>36530</td>\n",
       "      <td>0.025452</td>\n",
       "      <td>[1515966223523303308, 1515966223523303314]</td>\n",
       "      <td>8276</td>\n",
       "      <td>0.005766</td>\n",
       "      <td>0.213376</td>\n",
       "      <td>8.383555</td>\n",
       "      <td>0.187924</td>\n",
       "    </tr>\n",
       "    <tr>\n",
       "      <th>8</th>\n",
       "      <td>[1515966223523303310]</td>\n",
       "      <td>38472</td>\n",
       "      <td>0.026805</td>\n",
       "      <td>[2273948218662322995]</td>\n",
       "      <td>8692</td>\n",
       "      <td>0.006056</td>\n",
       "      <td>[2273948218662322995, 1515966223523303310]</td>\n",
       "      <td>8229</td>\n",
       "      <td>0.005733</td>\n",
       "      <td>0.213896</td>\n",
       "      <td>35.319535</td>\n",
       "      <td>0.207840</td>\n",
       "    </tr>\n",
       "    <tr>\n",
       "      <th>9</th>\n",
       "      <td>[1515966223523303301]</td>\n",
       "      <td>41076</td>\n",
       "      <td>0.028619</td>\n",
       "      <td>[1515966223523303310]</td>\n",
       "      <td>38472</td>\n",
       "      <td>0.026805</td>\n",
       "      <td>[1515966223523303301, 1515966223523303310]</td>\n",
       "      <td>8219</td>\n",
       "      <td>0.005726</td>\n",
       "      <td>0.200093</td>\n",
       "      <td>7.464805</td>\n",
       "      <td>0.173288</td>\n",
       "    </tr>\n",
       "  </tbody>\n",
       "</table>\n",
       "</div>"
      ],
      "text/plain": [
       "                                   antecedent  sup_antecedent  \\\n",
       "0                       [1515966223523303310]           38472   \n",
       "1                       [1515966223523303301]           41076   \n",
       "2                       [1515966223523303310]           38472   \n",
       "3                       [1515966223523303314]           36530   \n",
       "4  [1515966223523303310, 1515966223523303314]           26080   \n",
       "5                       [1515966223523303308]           38786   \n",
       "6                       [1515966223523303301]           41076   \n",
       "7                       [1515966223523303308]           38786   \n",
       "8                       [1515966223523303310]           38472   \n",
       "9                       [1515966223523303301]           41076   \n",
       "\n",
       "   percSupAntecedent             consequent  sup_consequent  \\\n",
       "0           0.026805  [1515966223523303314]           36530   \n",
       "1           0.028619  [1515966223523303321]           31652   \n",
       "2           0.026805  [1515966223523303312]           15994   \n",
       "3           0.025452  [1515966223523303312]           15994   \n",
       "4           0.018171  [1515966223523303312]           15994   \n",
       "5           0.027024  [1515966223523303310]           38472   \n",
       "6           0.028619  [1515966223523303314]           36530   \n",
       "7           0.027024  [1515966223523303314]           36530   \n",
       "8           0.026805  [2273948218662322995]            8692   \n",
       "9           0.028619  [1515966223523303310]           38472   \n",
       "\n",
       "   percSupConsequent                              antecedent&consequent  \\\n",
       "0           0.025452         [1515966223523303310, 1515966223523303314]   \n",
       "1           0.022053         [1515966223523303301, 1515966223523303321]   \n",
       "2           0.011144         [1515966223523303312, 1515966223523303310]   \n",
       "3           0.011144         [1515966223523303312, 1515966223523303314]   \n",
       "4           0.011144  [1515966223523303312, 1515966223523303310, 151...   \n",
       "5           0.026805         [1515966223523303310, 1515966223523303308]   \n",
       "6           0.025452         [1515966223523303301, 1515966223523303314]   \n",
       "7           0.025452         [1515966223523303308, 1515966223523303314]   \n",
       "8           0.006056         [2273948218662322995, 1515966223523303310]   \n",
       "9           0.026805         [1515966223523303301, 1515966223523303310]   \n",
       "\n",
       "   sup_ant&cons  sup_perc_ant&cons  confidence       lift  improvement  \n",
       "0         26080           0.018171    0.677896  26.634561     0.652444  \n",
       "1         19844           0.013826    0.483104  21.906466     0.461051  \n",
       "2         12109           0.008437    0.314748  28.244821     0.303605  \n",
       "3         10401           0.007247    0.284725  25.550578     0.273581  \n",
       "4          9031           0.006292    0.346281  31.074458     0.335137  \n",
       "5          8726           0.006080    0.224978   8.393205     0.198173  \n",
       "6          8304           0.005786    0.202162   7.942952     0.176710  \n",
       "7          8276           0.005766    0.213376   8.383555     0.187924  \n",
       "8          8229           0.005733    0.213896  35.319535     0.207840  \n",
       "9          8219           0.005726    0.200093   7.464805     0.173288  "
      ]
     },
     "execution_count": 13,
     "metadata": {},
     "output_type": "execute_result"
    }
   ],
   "source": [
    "import modified_fp_growth_algorithm.modified_fp_growth_latest as mod_fp_growth\n",
    "\n",
    "rules = mod_fp_growth.fpgrowthFromDataFrame(\\\n",
    "    data,\n",
    "    minSupRatio=0.005,\n",
    "    maxSupRatio=1,\n",
    "    minTransactionLength=2,\n",
    "    minConf=0,\n",
    "    item_col=1\n",
    "    )\n",
    "    \n",
    "rules.to_excel(\"fp_groth_out.xlsx\",index=False) \n",
    "rules"
   ]
  },
  {
   "cell_type": "code",
   "execution_count": 14,
   "metadata": {},
   "outputs": [
    {
     "data": {
      "text/html": [
       "<table border=\"1\" class=\"dataframe\">\n",
       "  <thead>\n",
       "    <tr style=\"text-align: right;\">\n",
       "      <th>rules_index</th>\n",
       "      <th>sup_ant&amp;cons</th>\n",
       "      <th>antecedent&amp;consequent</th>\n",
       "      <th>category_code</th>\n",
       "      <th>brand</th>\n",
       "      <th>price</th>\n",
       "    </tr>\n",
       "  </thead>\n",
       "  <tbody>\n",
       "    <tr>\n",
       "      <td>0</td>\n",
       "      <td>26080</td>\n",
       "      <td>1515966223523303310</td>\n",
       "      <td>8.10</td>\n",
       "      <td>nan</td>\n",
       "      <td>nan</td>\n",
       "    </tr>\n",
       "    <tr>\n",
       "      <td>0</td>\n",
       "      <td>26080</td>\n",
       "      <td>1515966223523303314</td>\n",
       "      <td>9.26</td>\n",
       "      <td>nan</td>\n",
       "      <td>nan</td>\n",
       "    </tr>\n",
       "    <tr>\n",
       "      <td>1</td>\n",
       "      <td>19844</td>\n",
       "      <td>1515966223523303301</td>\n",
       "      <td>16.18</td>\n",
       "      <td>nan</td>\n",
       "      <td>nan</td>\n",
       "    </tr>\n",
       "    <tr>\n",
       "      <td>1</td>\n",
       "      <td>19844</td>\n",
       "      <td>1515966223523303321</td>\n",
       "      <td>16.18</td>\n",
       "      <td>nan</td>\n",
       "      <td>nan</td>\n",
       "    </tr>\n",
       "    <tr>\n",
       "      <td>2</td>\n",
       "      <td>12109</td>\n",
       "      <td>1515966223523303310</td>\n",
       "      <td>8.10</td>\n",
       "      <td>nan</td>\n",
       "      <td>nan</td>\n",
       "    </tr>\n",
       "    <tr>\n",
       "      <td>2</td>\n",
       "      <td>12109</td>\n",
       "      <td>1515966223523303312</td>\n",
       "      <td>6.94</td>\n",
       "      <td>nan</td>\n",
       "      <td>nan</td>\n",
       "    </tr>\n",
       "    <tr>\n",
       "      <td>3</td>\n",
       "      <td>10401</td>\n",
       "      <td>1515966223523303314</td>\n",
       "      <td>9.26</td>\n",
       "      <td>nan</td>\n",
       "      <td>nan</td>\n",
       "    </tr>\n",
       "    <tr>\n",
       "      <td>3</td>\n",
       "      <td>10401</td>\n",
       "      <td>1515966223523303312</td>\n",
       "      <td>6.94</td>\n",
       "      <td>nan</td>\n",
       "      <td>nan</td>\n",
       "    </tr>\n",
       "    <tr>\n",
       "      <td>4</td>\n",
       "      <td>9031</td>\n",
       "      <td>1515966223523303310</td>\n",
       "      <td>8.10</td>\n",
       "      <td>nan</td>\n",
       "      <td>nan</td>\n",
       "    </tr>\n",
       "    <tr>\n",
       "      <td>4</td>\n",
       "      <td>9031</td>\n",
       "      <td>1515966223523303312</td>\n",
       "      <td>6.94</td>\n",
       "      <td>nan</td>\n",
       "      <td>nan</td>\n",
       "    </tr>\n",
       "    <tr>\n",
       "      <td>4</td>\n",
       "      <td>9031</td>\n",
       "      <td>1515966223523303314</td>\n",
       "      <td>9.26</td>\n",
       "      <td>nan</td>\n",
       "      <td>nan</td>\n",
       "    </tr>\n",
       "    <tr>\n",
       "      <td>5</td>\n",
       "      <td>8726</td>\n",
       "      <td>1515966223523303310</td>\n",
       "      <td>8.10</td>\n",
       "      <td>nan</td>\n",
       "      <td>nan</td>\n",
       "    </tr>\n",
       "    <tr>\n",
       "      <td>5</td>\n",
       "      <td>8726</td>\n",
       "      <td>1515966223523303308</td>\n",
       "      <td>29.63</td>\n",
       "      <td>nan</td>\n",
       "      <td>nan</td>\n",
       "    </tr>\n",
       "    <tr>\n",
       "      <td>6</td>\n",
       "      <td>8304</td>\n",
       "      <td>1515966223523303314</td>\n",
       "      <td>9.26</td>\n",
       "      <td>nan</td>\n",
       "      <td>nan</td>\n",
       "    </tr>\n",
       "    <tr>\n",
       "      <td>6</td>\n",
       "      <td>8304</td>\n",
       "      <td>1515966223523303301</td>\n",
       "      <td>16.18</td>\n",
       "      <td>nan</td>\n",
       "      <td>nan</td>\n",
       "    </tr>\n",
       "    <tr>\n",
       "      <td>7</td>\n",
       "      <td>8276</td>\n",
       "      <td>1515966223523303314</td>\n",
       "      <td>9.26</td>\n",
       "      <td>nan</td>\n",
       "      <td>nan</td>\n",
       "    </tr>\n",
       "    <tr>\n",
       "      <td>7</td>\n",
       "      <td>8276</td>\n",
       "      <td>1515966223523303308</td>\n",
       "      <td>29.63</td>\n",
       "      <td>nan</td>\n",
       "      <td>nan</td>\n",
       "    </tr>\n",
       "    <tr>\n",
       "      <td>8</td>\n",
       "      <td>8229</td>\n",
       "      <td>1515966223523303310</td>\n",
       "      <td>8.10</td>\n",
       "      <td>nan</td>\n",
       "      <td>nan</td>\n",
       "    </tr>\n",
       "    <tr>\n",
       "      <td>8</td>\n",
       "      <td>8229</td>\n",
       "      <td>2273948218662322995</td>\n",
       "      <td>nan</td>\n",
       "      <td>grohe</td>\n",
       "      <td>184.72</td>\n",
       "    </tr>\n",
       "    <tr>\n",
       "      <td>9</td>\n",
       "      <td>8219</td>\n",
       "      <td>1515966223523303310</td>\n",
       "      <td>8.10</td>\n",
       "      <td>nan</td>\n",
       "      <td>nan</td>\n",
       "    </tr>\n",
       "    <tr>\n",
       "      <td>9</td>\n",
       "      <td>8219</td>\n",
       "      <td>1515966223523303301</td>\n",
       "      <td>16.18</td>\n",
       "      <td>nan</td>\n",
       "      <td>nan</td>\n",
       "    </tr>\n",
       "  </tbody>\n",
       "</table>"
      ],
      "text/plain": [
       "<IPython.core.display.HTML object>"
      ]
     },
     "execution_count": 14,
     "metadata": {},
     "output_type": "execute_result"
    }
   ],
   "source": [
    "from IPython.display import HTML\n",
    "\n",
    "rules_exploded = rules.explode(\"antecedent&consequent\")[[\"antecedent&consequent\",\"sup_ant&cons\"]]\n",
    "rules_exploded.insert(0,\"rules_index\",rules_exploded.index)\n",
    "\n",
    "\n",
    "rules_labeled = pd.merge(rules_exploded,unique_items, how='inner', left_on = 'antecedent&consequent', right_on = 'product_id').sort_values(\"rules_index\").reset_index(drop=True)\n",
    "\n",
    "\n",
    "rules_labeled_new = rules_labeled[[\"rules_index\",\"sup_ant&cons\",\"antecedent&consequent\",\"category_code\",\"brand\",\"price\"]]\n",
    "\n",
    "HTML(rules_labeled_new.to_html(index=False))"
   ]
  },
  {
   "attachments": {},
   "cell_type": "markdown",
   "metadata": {},
   "source": [
    "#### 3.2 Profit based Association Rules (No limitations on transaction length)"
   ]
  },
  {
   "cell_type": "code",
   "execution_count": 15,
   "metadata": {},
   "outputs": [
    {
     "data": {
      "text/html": [
       "<div>\n",
       "<style scoped>\n",
       "    .dataframe tbody tr th:only-of-type {\n",
       "        vertical-align: middle;\n",
       "    }\n",
       "\n",
       "    .dataframe tbody tr th {\n",
       "        vertical-align: top;\n",
       "    }\n",
       "\n",
       "    .dataframe thead th {\n",
       "        text-align: right;\n",
       "    }\n",
       "</style>\n",
       "<table border=\"1\" class=\"dataframe\">\n",
       "  <thead>\n",
       "    <tr style=\"text-align: right;\">\n",
       "      <th></th>\n",
       "      <th>antecedent</th>\n",
       "      <th>sup_antecedent</th>\n",
       "      <th>percSupAntecedent</th>\n",
       "      <th>consequent</th>\n",
       "      <th>sup_consequent</th>\n",
       "      <th>percSupConsequent</th>\n",
       "      <th>antecedent&amp;consequent</th>\n",
       "      <th>sup_ant&amp;cons</th>\n",
       "      <th>sup_perc_ant&amp;cons</th>\n",
       "      <th>confidence</th>\n",
       "      <th>lift</th>\n",
       "      <th>improvement</th>\n",
       "      <th>profit_associated</th>\n",
       "      <th>perc_of_total_profit</th>\n",
       "      <th>profit_associated_prev</th>\n",
       "      <th>net_change</th>\n",
       "      <th>profit_last_item</th>\n",
       "      <th>loss_by_change</th>\n",
       "    </tr>\n",
       "  </thead>\n",
       "  <tbody>\n",
       "    <tr>\n",
       "      <th>0</th>\n",
       "      <td>[]</td>\n",
       "      <td>NA</td>\n",
       "      <td>NA</td>\n",
       "      <td>[1515966223509088567]</td>\n",
       "      <td>4336</td>\n",
       "      <td>0.003062</td>\n",
       "      <td>[1515966223509088567]</td>\n",
       "      <td>4336</td>\n",
       "      <td>0.003062</td>\n",
       "      <td>NA</td>\n",
       "      <td>NA</td>\n",
       "      <td>NA</td>\n",
       "      <td>3712613.28</td>\n",
       "      <td>0.010944</td>\n",
       "      <td>0</td>\n",
       "      <td>3712613.28</td>\n",
       "      <td>3712613.28</td>\n",
       "      <td>0</td>\n",
       "    </tr>\n",
       "    <tr>\n",
       "      <th>1</th>\n",
       "      <td>[]</td>\n",
       "      <td>NA</td>\n",
       "      <td>NA</td>\n",
       "      <td>[1515966223509088671]</td>\n",
       "      <td>2587</td>\n",
       "      <td>0.001827</td>\n",
       "      <td>[1515966223509088671]</td>\n",
       "      <td>2587</td>\n",
       "      <td>0.001827</td>\n",
       "      <td>NA</td>\n",
       "      <td>NA</td>\n",
       "      <td>NA</td>\n",
       "      <td>2394708.29</td>\n",
       "      <td>0.007059</td>\n",
       "      <td>0</td>\n",
       "      <td>2394708.29</td>\n",
       "      <td>2394708.29</td>\n",
       "      <td>0</td>\n",
       "    </tr>\n",
       "    <tr>\n",
       "      <th>2</th>\n",
       "      <td>[]</td>\n",
       "      <td>NA</td>\n",
       "      <td>NA</td>\n",
       "      <td>[1515966223509089284]</td>\n",
       "      <td>1967</td>\n",
       "      <td>0.001389</td>\n",
       "      <td>[1515966223509089284]</td>\n",
       "      <td>1967</td>\n",
       "      <td>0.001389</td>\n",
       "      <td>NA</td>\n",
       "      <td>NA</td>\n",
       "      <td>NA</td>\n",
       "      <td>2390396.75</td>\n",
       "      <td>0.007046</td>\n",
       "      <td>0</td>\n",
       "      <td>2390396.75</td>\n",
       "      <td>2390396.75</td>\n",
       "      <td>0</td>\n",
       "    </tr>\n",
       "    <tr>\n",
       "      <th>3</th>\n",
       "      <td>[]</td>\n",
       "      <td>NA</td>\n",
       "      <td>NA</td>\n",
       "      <td>[1515966223509088532]</td>\n",
       "      <td>6466</td>\n",
       "      <td>0.004566</td>\n",
       "      <td>[1515966223509088532]</td>\n",
       "      <td>6466</td>\n",
       "      <td>0.004566</td>\n",
       "      <td>NA</td>\n",
       "      <td>NA</td>\n",
       "      <td>NA</td>\n",
       "      <td>1946823.00</td>\n",
       "      <td>0.005739</td>\n",
       "      <td>0</td>\n",
       "      <td>1946823.00</td>\n",
       "      <td>1946823.00</td>\n",
       "      <td>0</td>\n",
       "    </tr>\n",
       "    <tr>\n",
       "      <th>4</th>\n",
       "      <td>[]</td>\n",
       "      <td>NA</td>\n",
       "      <td>NA</td>\n",
       "      <td>[1515966223509088628]</td>\n",
       "      <td>2242</td>\n",
       "      <td>0.001583</td>\n",
       "      <td>[1515966223509088628]</td>\n",
       "      <td>2242</td>\n",
       "      <td>0.001583</td>\n",
       "      <td>NA</td>\n",
       "      <td>NA</td>\n",
       "      <td>NA</td>\n",
       "      <td>1921896.24</td>\n",
       "      <td>0.005665</td>\n",
       "      <td>0</td>\n",
       "      <td>1921896.24</td>\n",
       "      <td>1921896.24</td>\n",
       "      <td>0</td>\n",
       "    </tr>\n",
       "    <tr>\n",
       "      <th>5</th>\n",
       "      <td>[]</td>\n",
       "      <td>NA</td>\n",
       "      <td>NA</td>\n",
       "      <td>[1515966223509130879]</td>\n",
       "      <td>4502</td>\n",
       "      <td>0.003179</td>\n",
       "      <td>[1515966223509130879]</td>\n",
       "      <td>4502</td>\n",
       "      <td>0.003179</td>\n",
       "      <td>NA</td>\n",
       "      <td>NA</td>\n",
       "      <td>NA</td>\n",
       "      <td>1719403.84</td>\n",
       "      <td>0.005068</td>\n",
       "      <td>0</td>\n",
       "      <td>1719403.84</td>\n",
       "      <td>1719403.84</td>\n",
       "      <td>0</td>\n",
       "    </tr>\n",
       "    <tr>\n",
       "      <th>6</th>\n",
       "      <td>[]</td>\n",
       "      <td>NA</td>\n",
       "      <td>NA</td>\n",
       "      <td>[1515966223509106786]</td>\n",
       "      <td>12058</td>\n",
       "      <td>0.008514</td>\n",
       "      <td>[1515966223509106786]</td>\n",
       "      <td>12058</td>\n",
       "      <td>0.008514</td>\n",
       "      <td>NA</td>\n",
       "      <td>NA</td>\n",
       "      <td>NA</td>\n",
       "      <td>1675049.94</td>\n",
       "      <td>0.004938</td>\n",
       "      <td>0</td>\n",
       "      <td>1675049.94</td>\n",
       "      <td>1675049.94</td>\n",
       "      <td>0</td>\n",
       "    </tr>\n",
       "    <tr>\n",
       "      <th>7</th>\n",
       "      <td>[]</td>\n",
       "      <td>NA</td>\n",
       "      <td>NA</td>\n",
       "      <td>[2273948218662322995]</td>\n",
       "      <td>8692</td>\n",
       "      <td>0.006138</td>\n",
       "      <td>[2273948218662322995]</td>\n",
       "      <td>8692</td>\n",
       "      <td>0.006138</td>\n",
       "      <td>NA</td>\n",
       "      <td>NA</td>\n",
       "      <td>NA</td>\n",
       "      <td>1605586.24</td>\n",
       "      <td>0.004733</td>\n",
       "      <td>0</td>\n",
       "      <td>1605586.24</td>\n",
       "      <td>1605586.24</td>\n",
       "      <td>0</td>\n",
       "    </tr>\n",
       "    <tr>\n",
       "      <th>8</th>\n",
       "      <td>[]</td>\n",
       "      <td>NA</td>\n",
       "      <td>NA</td>\n",
       "      <td>[1515966223509089438]</td>\n",
       "      <td>1778</td>\n",
       "      <td>0.001255</td>\n",
       "      <td>[1515966223509089438]</td>\n",
       "      <td>1778</td>\n",
       "      <td>0.001255</td>\n",
       "      <td>NA</td>\n",
       "      <td>NA</td>\n",
       "      <td>NA</td>\n",
       "      <td>1522376.94</td>\n",
       "      <td>0.004488</td>\n",
       "      <td>0</td>\n",
       "      <td>1522376.94</td>\n",
       "      <td>1522376.94</td>\n",
       "      <td>0</td>\n",
       "    </tr>\n",
       "    <tr>\n",
       "      <th>9</th>\n",
       "      <td>[]</td>\n",
       "      <td>NA</td>\n",
       "      <td>NA</td>\n",
       "      <td>[1515966223509088610]</td>\n",
       "      <td>2747</td>\n",
       "      <td>0.001940</td>\n",
       "      <td>[1515966223509088610]</td>\n",
       "      <td>2747</td>\n",
       "      <td>0.001940</td>\n",
       "      <td>NA</td>\n",
       "      <td>NA</td>\n",
       "      <td>NA</td>\n",
       "      <td>1462980.24</td>\n",
       "      <td>0.004312</td>\n",
       "      <td>0</td>\n",
       "      <td>1462980.24</td>\n",
       "      <td>1462980.24</td>\n",
       "      <td>0</td>\n",
       "    </tr>\n",
       "    <tr>\n",
       "      <th>10</th>\n",
       "      <td>[]</td>\n",
       "      <td>NA</td>\n",
       "      <td>NA</td>\n",
       "      <td>[2273948189981671502]</td>\n",
       "      <td>1056</td>\n",
       "      <td>0.000746</td>\n",
       "      <td>[2273948189981671502]</td>\n",
       "      <td>1056</td>\n",
       "      <td>0.000746</td>\n",
       "      <td>NA</td>\n",
       "      <td>NA</td>\n",
       "      <td>NA</td>\n",
       "      <td>1462971.84</td>\n",
       "      <td>0.004312</td>\n",
       "      <td>0</td>\n",
       "      <td>1462971.84</td>\n",
       "      <td>1462971.84</td>\n",
       "      <td>0</td>\n",
       "    </tr>\n",
       "    <tr>\n",
       "      <th>11</th>\n",
       "      <td>[]</td>\n",
       "      <td>NA</td>\n",
       "      <td>NA</td>\n",
       "      <td>[2273948316473492113]</td>\n",
       "      <td>8968</td>\n",
       "      <td>0.006332</td>\n",
       "      <td>[2273948316473492113]</td>\n",
       "      <td>8968</td>\n",
       "      <td>0.006332</td>\n",
       "      <td>NA</td>\n",
       "      <td>NA</td>\n",
       "      <td>NA</td>\n",
       "      <td>1453067.69</td>\n",
       "      <td>0.004283</td>\n",
       "      <td>0</td>\n",
       "      <td>1453067.69</td>\n",
       "      <td>1453067.69</td>\n",
       "      <td>0</td>\n",
       "    </tr>\n",
       "    <tr>\n",
       "      <th>12</th>\n",
       "      <td>[]</td>\n",
       "      <td>NA</td>\n",
       "      <td>NA</td>\n",
       "      <td>[1515966223509089293]</td>\n",
       "      <td>5354</td>\n",
       "      <td>0.003781</td>\n",
       "      <td>[1515966223509089293]</td>\n",
       "      <td>5354</td>\n",
       "      <td>0.003781</td>\n",
       "      <td>NA</td>\n",
       "      <td>NA</td>\n",
       "      <td>NA</td>\n",
       "      <td>1425127.72</td>\n",
       "      <td>0.004201</td>\n",
       "      <td>0</td>\n",
       "      <td>1425127.72</td>\n",
       "      <td>1425127.72</td>\n",
       "      <td>0</td>\n",
       "    </tr>\n",
       "  </tbody>\n",
       "</table>\n",
       "</div>"
      ],
      "text/plain": [
       "   antecedent sup_antecedent percSupAntecedent             consequent  \\\n",
       "0          []             NA                NA  [1515966223509088567]   \n",
       "1          []             NA                NA  [1515966223509088671]   \n",
       "2          []             NA                NA  [1515966223509089284]   \n",
       "3          []             NA                NA  [1515966223509088532]   \n",
       "4          []             NA                NA  [1515966223509088628]   \n",
       "5          []             NA                NA  [1515966223509130879]   \n",
       "6          []             NA                NA  [1515966223509106786]   \n",
       "7          []             NA                NA  [2273948218662322995]   \n",
       "8          []             NA                NA  [1515966223509089438]   \n",
       "9          []             NA                NA  [1515966223509088610]   \n",
       "10         []             NA                NA  [2273948189981671502]   \n",
       "11         []             NA                NA  [2273948316473492113]   \n",
       "12         []             NA                NA  [1515966223509089293]   \n",
       "\n",
       "    sup_consequent  percSupConsequent  antecedent&consequent  sup_ant&cons  \\\n",
       "0             4336           0.003062  [1515966223509088567]          4336   \n",
       "1             2587           0.001827  [1515966223509088671]          2587   \n",
       "2             1967           0.001389  [1515966223509089284]          1967   \n",
       "3             6466           0.004566  [1515966223509088532]          6466   \n",
       "4             2242           0.001583  [1515966223509088628]          2242   \n",
       "5             4502           0.003179  [1515966223509130879]          4502   \n",
       "6            12058           0.008514  [1515966223509106786]         12058   \n",
       "7             8692           0.006138  [2273948218662322995]          8692   \n",
       "8             1778           0.001255  [1515966223509089438]          1778   \n",
       "9             2747           0.001940  [1515966223509088610]          2747   \n",
       "10            1056           0.000746  [2273948189981671502]          1056   \n",
       "11            8968           0.006332  [2273948316473492113]          8968   \n",
       "12            5354           0.003781  [1515966223509089293]          5354   \n",
       "\n",
       "    sup_perc_ant&cons confidence lift improvement  profit_associated  \\\n",
       "0            0.003062         NA   NA          NA         3712613.28   \n",
       "1            0.001827         NA   NA          NA         2394708.29   \n",
       "2            0.001389         NA   NA          NA         2390396.75   \n",
       "3            0.004566         NA   NA          NA         1946823.00   \n",
       "4            0.001583         NA   NA          NA         1921896.24   \n",
       "5            0.003179         NA   NA          NA         1719403.84   \n",
       "6            0.008514         NA   NA          NA         1675049.94   \n",
       "7            0.006138         NA   NA          NA         1605586.24   \n",
       "8            0.001255         NA   NA          NA         1522376.94   \n",
       "9            0.001940         NA   NA          NA         1462980.24   \n",
       "10           0.000746         NA   NA          NA         1462971.84   \n",
       "11           0.006332         NA   NA          NA         1453067.69   \n",
       "12           0.003781         NA   NA          NA         1425127.72   \n",
       "\n",
       "    perc_of_total_profit  profit_associated_prev  net_change  \\\n",
       "0               0.010944                       0  3712613.28   \n",
       "1               0.007059                       0  2394708.29   \n",
       "2               0.007046                       0  2390396.75   \n",
       "3               0.005739                       0  1946823.00   \n",
       "4               0.005665                       0  1921896.24   \n",
       "5               0.005068                       0  1719403.84   \n",
       "6               0.004938                       0  1675049.94   \n",
       "7               0.004733                       0  1605586.24   \n",
       "8               0.004488                       0  1522376.94   \n",
       "9               0.004312                       0  1462980.24   \n",
       "10              0.004312                       0  1462971.84   \n",
       "11              0.004283                       0  1453067.69   \n",
       "12              0.004201                       0  1425127.72   \n",
       "\n",
       "    profit_last_item  loss_by_change  \n",
       "0         3712613.28               0  \n",
       "1         2394708.29               0  \n",
       "2         2390396.75               0  \n",
       "3         1946823.00               0  \n",
       "4         1921896.24               0  \n",
       "5         1719403.84               0  \n",
       "6         1675049.94               0  \n",
       "7         1605586.24               0  \n",
       "8         1522376.94               0  \n",
       "9         1462980.24               0  \n",
       "10        1462971.84               0  \n",
       "11        1453067.69               0  \n",
       "12        1425127.72               0  "
      ]
     },
     "execution_count": 15,
     "metadata": {},
     "output_type": "execute_result"
    }
   ],
   "source": [
    "import modified_fp_growth_algorithm.modified_fp_growth_latest as mod_fp_growth\n",
    "\n",
    "#For better trackingI take price instead of profit as profit, because tracking ius easier and at moment I anyway just multiply by 0.1 for profit\n",
    "# We see how \"super efficient it is, only 6.8 seconds for 13k rules inclduing writing to Excel\"\n",
    "rules = mod_fp_growth.fpgrowthFromDataFrame(\\\n",
    "    data,\n",
    "    minSupRatio=0.004,\n",
    "    maxSupRatio=1,\n",
    "    minConf=0,\n",
    "    item_col=1,\n",
    "    profit_col=3,\n",
    "    max_profit = max_profit,\n",
    "    profit_sensitivity = lambda x : 1 * x\n",
    "    )\n",
    "    \n",
    "rules.to_excel(\"fp_groth_out.xlsx\",index=False) \n",
    "rules"
   ]
  },
  {
   "cell_type": "code",
   "execution_count": 16,
   "metadata": {},
   "outputs": [
    {
     "data": {
      "text/html": [
       "<table border=\"1\" class=\"dataframe\">\n",
       "  <thead>\n",
       "    <tr style=\"text-align: right;\">\n",
       "      <th>rules_index</th>\n",
       "      <th>sup_ant&amp;cons</th>\n",
       "      <th>antecedent&amp;consequent</th>\n",
       "      <th>product_id</th>\n",
       "      <th>category_code</th>\n",
       "      <th>brand</th>\n",
       "      <th>price</th>\n",
       "    </tr>\n",
       "  </thead>\n",
       "  <tbody>\n",
       "    <tr>\n",
       "      <td>0</td>\n",
       "      <td>4336</td>\n",
       "      <td>1515966223509088567</td>\n",
       "      <td>1515966223509088567</td>\n",
       "      <td>electronics.smartphone</td>\n",
       "      <td>apple</td>\n",
       "      <td>856.23</td>\n",
       "    </tr>\n",
       "    <tr>\n",
       "      <td>1</td>\n",
       "      <td>2587</td>\n",
       "      <td>1515966223509088671</td>\n",
       "      <td>1515966223509088671</td>\n",
       "      <td>electronics.smartphone</td>\n",
       "      <td>apple</td>\n",
       "      <td>925.67</td>\n",
       "    </tr>\n",
       "    <tr>\n",
       "      <td>2</td>\n",
       "      <td>1967</td>\n",
       "      <td>1515966223509089284</td>\n",
       "      <td>1515966223509089284</td>\n",
       "      <td>electronics.smartphone</td>\n",
       "      <td>samsung</td>\n",
       "      <td>1215.25</td>\n",
       "    </tr>\n",
       "    <tr>\n",
       "      <td>3</td>\n",
       "      <td>6466</td>\n",
       "      <td>1515966223509088532</td>\n",
       "      <td>1515966223509088532</td>\n",
       "      <td>electronics.smartphone</td>\n",
       "      <td>samsung</td>\n",
       "      <td>300.9</td>\n",
       "    </tr>\n",
       "    <tr>\n",
       "      <td>4</td>\n",
       "      <td>2242</td>\n",
       "      <td>1515966223509088628</td>\n",
       "      <td>1515966223509088628</td>\n",
       "      <td>electronics.smartphone</td>\n",
       "      <td>samsung</td>\n",
       "      <td>856.46</td>\n",
       "    </tr>\n",
       "    <tr>\n",
       "      <td>5</td>\n",
       "      <td>4502</td>\n",
       "      <td>1515966223509130879</td>\n",
       "      <td>1515966223509130879</td>\n",
       "      <td>appliances.kitchen.washer</td>\n",
       "      <td>samsung</td>\n",
       "      <td>381.92</td>\n",
       "    </tr>\n",
       "    <tr>\n",
       "      <td>6</td>\n",
       "      <td>12058</td>\n",
       "      <td>1515966223509106786</td>\n",
       "      <td>1515966223509106786</td>\n",
       "      <td>electronics.smartphone</td>\n",
       "      <td>samsung</td>\n",
       "      <td>138.87</td>\n",
       "    </tr>\n",
       "    <tr>\n",
       "      <td>7</td>\n",
       "      <td>8692</td>\n",
       "      <td>2273948218662322995</td>\n",
       "      <td>2273948218662322995</td>\n",
       "      <td>nan</td>\n",
       "      <td>grohe</td>\n",
       "      <td>184.72</td>\n",
       "    </tr>\n",
       "    <tr>\n",
       "      <td>8</td>\n",
       "      <td>1778</td>\n",
       "      <td>1515966223509089438</td>\n",
       "      <td>1515966223509089438</td>\n",
       "      <td>electronics.smartphone</td>\n",
       "      <td>apple</td>\n",
       "      <td>856.23</td>\n",
       "    </tr>\n",
       "    <tr>\n",
       "      <td>9</td>\n",
       "      <td>2747</td>\n",
       "      <td>1515966223509088610</td>\n",
       "      <td>1515966223509088610</td>\n",
       "      <td>electronics.smartphone</td>\n",
       "      <td>samsung</td>\n",
       "      <td>532.38</td>\n",
       "    </tr>\n",
       "  </tbody>\n",
       "</table>"
      ],
      "text/plain": [
       "<IPython.core.display.HTML object>"
      ]
     },
     "execution_count": 16,
     "metadata": {},
     "output_type": "execute_result"
    }
   ],
   "source": [
    "# A minSupRatio of 0.007 means, in case of profitability, that it represents 0.007 of total revenues rspectively profit. We made the profit fo each product equal.\n",
    "# Let's oberserve what kind of items we have found.\n",
    "\n",
    "\n",
    "rules_exploded = rules.explode(\"antecedent&consequent\")[[\"antecedent&consequent\",\"sup_ant&cons\",\"profit_associated\",\"perc_of_total_profit\"]]\n",
    "rules_exploded.insert(0,\"rules_index\",rules_exploded.index)\n",
    "\n",
    "rules_labeled =pd.merge(rules_exploded,unique_items, how=\"inner\", left_on=\"antecedent&consequent\",right_on=\"product_id\").sort_values(\"rules_index\").reset_index(drop=True)\n",
    "\n",
    "rules_labeled.to_excel(\"rules_labeled.xlsx\",index=False)\n",
    "\n",
    "\n",
    "rules_labeled_new = rules_labeled[[\"rules_index\",\"sup_ant&cons\",\"antecedent&consequent\",\"product_id\",\"category_code\",\"brand\",\"price\"]].head(10)\n",
    "\n",
    "HTML(rules_labeled_new.to_html(index=False))\n"
   ]
  },
  {
   "attachments": {},
   "cell_type": "markdown",
   "metadata": {},
   "source": [
    "#### 3.3 Profit based Association Rules (Limitations on transaction length as 2)"
   ]
  },
  {
   "cell_type": "code",
   "execution_count": 17,
   "metadata": {},
   "outputs": [
    {
     "data": {
      "text/html": [
       "<div>\n",
       "<style scoped>\n",
       "    .dataframe tbody tr th:only-of-type {\n",
       "        vertical-align: middle;\n",
       "    }\n",
       "\n",
       "    .dataframe tbody tr th {\n",
       "        vertical-align: top;\n",
       "    }\n",
       "\n",
       "    .dataframe thead th {\n",
       "        text-align: right;\n",
       "    }\n",
       "</style>\n",
       "<table border=\"1\" class=\"dataframe\">\n",
       "  <thead>\n",
       "    <tr style=\"text-align: right;\">\n",
       "      <th></th>\n",
       "      <th>antecedent</th>\n",
       "      <th>sup_antecedent</th>\n",
       "      <th>percSupAntecedent</th>\n",
       "      <th>consequent</th>\n",
       "      <th>sup_consequent</th>\n",
       "      <th>percSupConsequent</th>\n",
       "      <th>antecedent&amp;consequent</th>\n",
       "      <th>sup_ant&amp;cons</th>\n",
       "      <th>sup_perc_ant&amp;cons</th>\n",
       "      <th>confidence</th>\n",
       "      <th>lift</th>\n",
       "      <th>improvement</th>\n",
       "      <th>profit_associated</th>\n",
       "      <th>perc_of_total_profit</th>\n",
       "      <th>profit_associated_prev</th>\n",
       "      <th>net_change</th>\n",
       "      <th>profit_last_item</th>\n",
       "      <th>loss_by_change</th>\n",
       "    </tr>\n",
       "  </thead>\n",
       "  <tbody>\n",
       "    <tr>\n",
       "      <th>0</th>\n",
       "      <td>[2273948218662322995]</td>\n",
       "      <td>8692</td>\n",
       "      <td>0.006138</td>\n",
       "      <td>[2273948218662322996]</td>\n",
       "      <td>6132</td>\n",
       "      <td>0.004330</td>\n",
       "      <td>[2273948218662322995, 2273948218662322996]</td>\n",
       "      <td>3863</td>\n",
       "      <td>0.002728</td>\n",
       "      <td>0.444432</td>\n",
       "      <td>102.642333</td>\n",
       "      <td>0.440102</td>\n",
       "      <td>1.269768e+06</td>\n",
       "      <td>0.003743</td>\n",
       "      <td>1605586.24</td>\n",
       "      <td>-3.358181e+05</td>\n",
       "      <td>556194.740000</td>\n",
       "      <td>-8.920129e+05</td>\n",
       "    </tr>\n",
       "    <tr>\n",
       "      <th>1</th>\n",
       "      <td>[2273948218662322995, 2273948218662322996]</td>\n",
       "      <td>3863</td>\n",
       "      <td>0.002728</td>\n",
       "      <td>[2273948186248741817]</td>\n",
       "      <td>3062</td>\n",
       "      <td>0.002162</td>\n",
       "      <td>[2273948218662322995, 2273948218662322996, 227...</td>\n",
       "      <td>1007</td>\n",
       "      <td>0.000711</td>\n",
       "      <td>0.260678</td>\n",
       "      <td>120.565554</td>\n",
       "      <td>0.258516</td>\n",
       "      <td>4.288813e+05</td>\n",
       "      <td>0.001264</td>\n",
       "      <td>1269768.10</td>\n",
       "      <td>-8.408868e+05</td>\n",
       "      <td>97880.400000</td>\n",
       "      <td>-9.387672e+05</td>\n",
       "    </tr>\n",
       "    <tr>\n",
       "      <th>2</th>\n",
       "      <td>[2273948218662322995]</td>\n",
       "      <td>8692</td>\n",
       "      <td>0.006138</td>\n",
       "      <td>[2273948186248741817]</td>\n",
       "      <td>3062</td>\n",
       "      <td>0.002162</td>\n",
       "      <td>[2273948218662322995, 2273948186248741817]</td>\n",
       "      <td>1386</td>\n",
       "      <td>0.000979</td>\n",
       "      <td>0.159457</td>\n",
       "      <td>73.749995</td>\n",
       "      <td>0.157295</td>\n",
       "      <td>3.907411e+05</td>\n",
       "      <td>0.001152</td>\n",
       "      <td>1605586.24</td>\n",
       "      <td>-1.214845e+06</td>\n",
       "      <td>134719.200000</td>\n",
       "      <td>-1.349564e+06</td>\n",
       "    </tr>\n",
       "    <tr>\n",
       "      <th>3</th>\n",
       "      <td>[1515966223509117074]</td>\n",
       "      <td>14284</td>\n",
       "      <td>0.010086</td>\n",
       "      <td>[1515966223509088532]</td>\n",
       "      <td>6466</td>\n",
       "      <td>0.004566</td>\n",
       "      <td>[1515966223509117074, 1515966223509088532]</td>\n",
       "      <td>1001</td>\n",
       "      <td>0.000707</td>\n",
       "      <td>0.070078</td>\n",
       "      <td>15.348721</td>\n",
       "      <td>0.065513</td>\n",
       "      <td>3.314894e+05</td>\n",
       "      <td>0.000977</td>\n",
       "      <td>429549.95</td>\n",
       "      <td>-9.806054e+04</td>\n",
       "      <td>301387.229044</td>\n",
       "      <td>-3.994478e+05</td>\n",
       "    </tr>\n",
       "    <tr>\n",
       "      <th>4</th>\n",
       "      <td>[2273948297037087396]</td>\n",
       "      <td>7105</td>\n",
       "      <td>0.005017</td>\n",
       "      <td>[1515966223509088567]</td>\n",
       "      <td>4336</td>\n",
       "      <td>0.003062</td>\n",
       "      <td>[1515966223509088567, 2273948297037087396]</td>\n",
       "      <td>359</td>\n",
       "      <td>0.000253</td>\n",
       "      <td>0.050528</td>\n",
       "      <td>16.503071</td>\n",
       "      <td>0.047466</td>\n",
       "      <td>3.249129e+05</td>\n",
       "      <td>0.000958</td>\n",
       "      <td>346866.10</td>\n",
       "      <td>-2.195315e+04</td>\n",
       "      <td>307386.570000</td>\n",
       "      <td>-3.293397e+05</td>\n",
       "    </tr>\n",
       "    <tr>\n",
       "      <th>5</th>\n",
       "      <td>[1515966223509117074]</td>\n",
       "      <td>14284</td>\n",
       "      <td>0.010086</td>\n",
       "      <td>[2273948316473492113]</td>\n",
       "      <td>8968</td>\n",
       "      <td>0.006332</td>\n",
       "      <td>[1515966223509117074, 2273948316473492113]</td>\n",
       "      <td>1605</td>\n",
       "      <td>0.001133</td>\n",
       "      <td>0.112363</td>\n",
       "      <td>17.744071</td>\n",
       "      <td>0.106031</td>\n",
       "      <td>3.083208e+05</td>\n",
       "      <td>0.000909</td>\n",
       "      <td>429549.95</td>\n",
       "      <td>-1.212292e+05</td>\n",
       "      <td>260055.044876</td>\n",
       "      <td>-3.812842e+05</td>\n",
       "    </tr>\n",
       "    <tr>\n",
       "      <th>6</th>\n",
       "      <td>[2273948218662322996]</td>\n",
       "      <td>6132</td>\n",
       "      <td>0.004330</td>\n",
       "      <td>[2273948186248741817]</td>\n",
       "      <td>3062</td>\n",
       "      <td>0.002162</td>\n",
       "      <td>[2273948218662322996, 2273948186248741817]</td>\n",
       "      <td>1208</td>\n",
       "      <td>0.000853</td>\n",
       "      <td>0.196999</td>\n",
       "      <td>91.113614</td>\n",
       "      <td>0.194837</td>\n",
       "      <td>2.913454e+05</td>\n",
       "      <td>0.000859</td>\n",
       "      <td>882885.36</td>\n",
       "      <td>-5.915399e+05</td>\n",
       "      <td>117417.600000</td>\n",
       "      <td>-7.089575e+05</td>\n",
       "    </tr>\n",
       "  </tbody>\n",
       "</table>\n",
       "</div>"
      ],
      "text/plain": [
       "                                   antecedent  sup_antecedent  \\\n",
       "0                       [2273948218662322995]            8692   \n",
       "1  [2273948218662322995, 2273948218662322996]            3863   \n",
       "2                       [2273948218662322995]            8692   \n",
       "3                       [1515966223509117074]           14284   \n",
       "4                       [2273948297037087396]            7105   \n",
       "5                       [1515966223509117074]           14284   \n",
       "6                       [2273948218662322996]            6132   \n",
       "\n",
       "   percSupAntecedent             consequent  sup_consequent  \\\n",
       "0           0.006138  [2273948218662322996]            6132   \n",
       "1           0.002728  [2273948186248741817]            3062   \n",
       "2           0.006138  [2273948186248741817]            3062   \n",
       "3           0.010086  [1515966223509088532]            6466   \n",
       "4           0.005017  [1515966223509088567]            4336   \n",
       "5           0.010086  [2273948316473492113]            8968   \n",
       "6           0.004330  [2273948186248741817]            3062   \n",
       "\n",
       "   percSupConsequent                              antecedent&consequent  \\\n",
       "0           0.004330         [2273948218662322995, 2273948218662322996]   \n",
       "1           0.002162  [2273948218662322995, 2273948218662322996, 227...   \n",
       "2           0.002162         [2273948218662322995, 2273948186248741817]   \n",
       "3           0.004566         [1515966223509117074, 1515966223509088532]   \n",
       "4           0.003062         [1515966223509088567, 2273948297037087396]   \n",
       "5           0.006332         [1515966223509117074, 2273948316473492113]   \n",
       "6           0.002162         [2273948218662322996, 2273948186248741817]   \n",
       "\n",
       "   sup_ant&cons  sup_perc_ant&cons  confidence        lift  improvement  \\\n",
       "0          3863           0.002728    0.444432  102.642333     0.440102   \n",
       "1          1007           0.000711    0.260678  120.565554     0.258516   \n",
       "2          1386           0.000979    0.159457   73.749995     0.157295   \n",
       "3          1001           0.000707    0.070078   15.348721     0.065513   \n",
       "4           359           0.000253    0.050528   16.503071     0.047466   \n",
       "5          1605           0.001133    0.112363   17.744071     0.106031   \n",
       "6          1208           0.000853    0.196999   91.113614     0.194837   \n",
       "\n",
       "   profit_associated  perc_of_total_profit  profit_associated_prev  \\\n",
       "0       1.269768e+06              0.003743              1605586.24   \n",
       "1       4.288813e+05              0.001264              1269768.10   \n",
       "2       3.907411e+05              0.001152              1605586.24   \n",
       "3       3.314894e+05              0.000977               429549.95   \n",
       "4       3.249129e+05              0.000958               346866.10   \n",
       "5       3.083208e+05              0.000909               429549.95   \n",
       "6       2.913454e+05              0.000859               882885.36   \n",
       "\n",
       "     net_change  profit_last_item  loss_by_change  \n",
       "0 -3.358181e+05     556194.740000   -8.920129e+05  \n",
       "1 -8.408868e+05      97880.400000   -9.387672e+05  \n",
       "2 -1.214845e+06     134719.200000   -1.349564e+06  \n",
       "3 -9.806054e+04     301387.229044   -3.994478e+05  \n",
       "4 -2.195315e+04     307386.570000   -3.293397e+05  \n",
       "5 -1.212292e+05     260055.044876   -3.812842e+05  \n",
       "6 -5.915399e+05     117417.600000   -7.089575e+05  "
      ]
     },
     "execution_count": 17,
     "metadata": {},
     "output_type": "execute_result"
    }
   ],
   "source": [
    "import modified_fp_growth_algorithm.modified_fp_growth_latest as mod_fp_growth\n",
    "\n",
    "#For better trackingI take price instead of profit as profit, because tracking ius easier and at moment I anyway just multiply by 0.1 for profit\n",
    "# We see how \"super efficient it is, only 6.8 seconds for 13k rules inclduing writing to Excel\"\n",
    "rules = mod_fp_growth.fpgrowthFromDataFrame(\\\n",
    "    data,\n",
    "    minSupRatio=0.0008,\n",
    "    maxSupRatio=1,\n",
    "    minTransactionLength=2,\n",
    "    maxTransactionLength=10,\n",
    "    minConf=0,\n",
    "    item_col=1,\n",
    "    profit_col=3,\n",
    "    max_profit = max_profit,\n",
    "    profit_sensitivity = lambda x : 1 * x\n",
    "    )\n",
    "    \n",
    "rules.to_excel(\"fp_groth_out.xlsx\",index=False) \n",
    "rules"
   ]
  },
  {
   "cell_type": "code",
   "execution_count": 18,
   "metadata": {},
   "outputs": [
    {
     "data": {
      "text/html": [
       "<table border=\"1\" class=\"dataframe\">\n",
       "  <thead>\n",
       "    <tr style=\"text-align: right;\">\n",
       "      <th>rules_index</th>\n",
       "      <th>sup_ant&amp;cons</th>\n",
       "      <th>antecedent&amp;consequent</th>\n",
       "      <th>product_id</th>\n",
       "      <th>category_code</th>\n",
       "      <th>brand</th>\n",
       "      <th>price</th>\n",
       "    </tr>\n",
       "  </thead>\n",
       "  <tbody>\n",
       "    <tr>\n",
       "      <td>0</td>\n",
       "      <td>3863</td>\n",
       "      <td>2273948218662322995</td>\n",
       "      <td>2273948218662322995</td>\n",
       "      <td>nan</td>\n",
       "      <td>grohe</td>\n",
       "      <td>184.72</td>\n",
       "    </tr>\n",
       "    <tr>\n",
       "      <td>0</td>\n",
       "      <td>3863</td>\n",
       "      <td>2273948218662322996</td>\n",
       "      <td>2273948218662322996</td>\n",
       "      <td>nan</td>\n",
       "      <td>grohe</td>\n",
       "      <td>143.98</td>\n",
       "    </tr>\n",
       "    <tr>\n",
       "      <td>1</td>\n",
       "      <td>1007</td>\n",
       "      <td>2273948218662322995</td>\n",
       "      <td>2273948218662322995</td>\n",
       "      <td>nan</td>\n",
       "      <td>grohe</td>\n",
       "      <td>184.72</td>\n",
       "    </tr>\n",
       "    <tr>\n",
       "      <td>1</td>\n",
       "      <td>1007</td>\n",
       "      <td>2273948218662322996</td>\n",
       "      <td>2273948218662322996</td>\n",
       "      <td>nan</td>\n",
       "      <td>grohe</td>\n",
       "      <td>143.98</td>\n",
       "    </tr>\n",
       "    <tr>\n",
       "      <td>1</td>\n",
       "      <td>1007</td>\n",
       "      <td>2273948186248741817</td>\n",
       "      <td>2273948186248741817</td>\n",
       "      <td>nan</td>\n",
       "      <td>incase</td>\n",
       "      <td>97.2</td>\n",
       "    </tr>\n",
       "    <tr>\n",
       "      <td>2</td>\n",
       "      <td>1386</td>\n",
       "      <td>2273948218662322995</td>\n",
       "      <td>2273948218662322995</td>\n",
       "      <td>nan</td>\n",
       "      <td>grohe</td>\n",
       "      <td>184.72</td>\n",
       "    </tr>\n",
       "    <tr>\n",
       "      <td>2</td>\n",
       "      <td>1386</td>\n",
       "      <td>2273948186248741817</td>\n",
       "      <td>2273948186248741817</td>\n",
       "      <td>nan</td>\n",
       "      <td>incase</td>\n",
       "      <td>97.2</td>\n",
       "    </tr>\n",
       "    <tr>\n",
       "      <td>3</td>\n",
       "      <td>1001</td>\n",
       "      <td>1515966223509117074</td>\n",
       "      <td>1515966223509117074</td>\n",
       "      <td>nan</td>\n",
       "      <td>samsung</td>\n",
       "      <td>30.07</td>\n",
       "    </tr>\n",
       "    <tr>\n",
       "      <td>3</td>\n",
       "      <td>1001</td>\n",
       "      <td>1515966223509088532</td>\n",
       "      <td>1515966223509088532</td>\n",
       "      <td>electronics.smartphone</td>\n",
       "      <td>samsung</td>\n",
       "      <td>300.9</td>\n",
       "    </tr>\n",
       "    <tr>\n",
       "      <td>4</td>\n",
       "      <td>359</td>\n",
       "      <td>1515966223509088567</td>\n",
       "      <td>1515966223509088567</td>\n",
       "      <td>electronics.smartphone</td>\n",
       "      <td>apple</td>\n",
       "      <td>856.23</td>\n",
       "    </tr>\n",
       "    <tr>\n",
       "      <td>4</td>\n",
       "      <td>359</td>\n",
       "      <td>2273948297037087396</td>\n",
       "      <td>2273948297037087396</td>\n",
       "      <td>nan</td>\n",
       "      <td>goodride</td>\n",
       "      <td>48.82</td>\n",
       "    </tr>\n",
       "    <tr>\n",
       "      <td>5</td>\n",
       "      <td>1605</td>\n",
       "      <td>1515966223509117074</td>\n",
       "      <td>1515966223509117074</td>\n",
       "      <td>nan</td>\n",
       "      <td>samsung</td>\n",
       "      <td>30.07</td>\n",
       "    </tr>\n",
       "    <tr>\n",
       "      <td>5</td>\n",
       "      <td>1605</td>\n",
       "      <td>2273948316473492113</td>\n",
       "      <td>2273948316473492113</td>\n",
       "      <td>electronics.smartphone</td>\n",
       "      <td>samsung</td>\n",
       "      <td>162.01</td>\n",
       "    </tr>\n",
       "    <tr>\n",
       "      <td>6</td>\n",
       "      <td>1208</td>\n",
       "      <td>2273948218662322996</td>\n",
       "      <td>2273948218662322996</td>\n",
       "      <td>nan</td>\n",
       "      <td>grohe</td>\n",
       "      <td>143.98</td>\n",
       "    </tr>\n",
       "    <tr>\n",
       "      <td>6</td>\n",
       "      <td>1208</td>\n",
       "      <td>2273948186248741817</td>\n",
       "      <td>2273948186248741817</td>\n",
       "      <td>nan</td>\n",
       "      <td>incase</td>\n",
       "      <td>97.2</td>\n",
       "    </tr>\n",
       "  </tbody>\n",
       "</table>"
      ],
      "text/plain": [
       "<IPython.core.display.HTML object>"
      ]
     },
     "execution_count": 18,
     "metadata": {},
     "output_type": "execute_result"
    }
   ],
   "source": [
    "# A minSupRatio of 0.007 means, in case of profitability, that it represents 0.007 of total revenues rspectively profit. We made the profit fo each product equal.\n",
    "# Let's oberserve what kind of items we have found.\n",
    "\n",
    "\n",
    "rules_exploded = rules.explode(\"antecedent&consequent\")[[\"antecedent&consequent\",\"sup_ant&cons\",\"profit_associated\",\"perc_of_total_profit\"]]\n",
    "rules_exploded.insert(0,\"rules_index\",rules_exploded.index)\n",
    "\n",
    "rules_labeled =pd.merge(rules_exploded,unique_items, how=\"inner\", left_on=\"antecedent&consequent\",right_on=\"product_id\").sort_values(\"rules_index\").reset_index(drop=True)\n",
    "\n",
    "rules_labeled.to_excel(\"rules_labeled.xlsx\",index=False)\n",
    "\n",
    "rules_labeled[\"profit_associated\"] = rules_labeled[\"profit_associated\"].astype(int)\n",
    "\n",
    "rules_labeled_new = rules_labeled[[\"rules_index\",\"sup_ant&cons\",\"antecedent&consequent\",\"product_id\",\"category_code\",\"brand\",\"price\"]].head(15)\n",
    "\n",
    "HTML(rules_labeled_new.to_html(index=False))"
   ]
  }
 ],
 "metadata": {
  "kernelspec": {
   "display_name": "Python 3.9.13 ('base')",
   "language": "python",
   "name": "python3"
  },
  "language_info": {
   "codemirror_mode": {
    "name": "ipython",
    "version": 3
   },
   "file_extension": ".py",
   "mimetype": "text/x-python",
   "name": "python",
   "nbconvert_exporter": "python",
   "pygments_lexer": "ipython3",
   "version": "3.9.13"
  },
  "orig_nbformat": 4,
  "vscode": {
   "interpreter": {
    "hash": "ad2bdc8ecc057115af97d19610ffacc2b4e99fae6737bb82f5d7fb13d2f2c186"
   }
  }
 },
 "nbformat": 4,
 "nbformat_minor": 2
}
