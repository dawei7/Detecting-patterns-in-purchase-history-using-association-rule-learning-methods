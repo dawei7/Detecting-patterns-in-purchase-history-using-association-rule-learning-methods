{
 "cells": [
  {
   "cell_type": "markdown",
   "metadata": {},
   "source": [
    "## Association Rules - Old vs. New Algorithm"
   ]
  },
  {
   "cell_type": "markdown",
   "metadata": {},
   "source": [
    "### Dataset: eCommerce_purchase_history_from_cosmetics_store"
   ]
  },
  {
   "cell_type": "markdown",
   "metadata": {},
   "source": [
    "#### 1 Investigating Dataset"
   ]
  },
  {
   "cell_type": "markdown",
   "metadata": {},
   "source": [
    "#### 1.1 Description\n",
    "Kaggle Dataset: https://www.kaggle.com/datasets/mkechinov/ecommerce-events-history-in-cosmetics-shop <br>\n",
    "The Dataset is Open-Source <br>\n",
    "This file contains behavior data for 5 months (Oct 2019 – Feb 2020) from a medium cosmetics online store.<br>"
   ]
  },
  {
   "cell_type": "code",
   "execution_count": 14,
   "metadata": {},
   "outputs": [],
   "source": [
    "import os\n",
    "import pandas as pd\n",
    "import glob"
   ]
  },
  {
   "cell_type": "code",
   "execution_count": 15,
   "metadata": {},
   "outputs": [
    {
     "data": {
      "text/html": [
       "<div>\n",
       "<style scoped>\n",
       "    .dataframe tbody tr th:only-of-type {\n",
       "        vertical-align: middle;\n",
       "    }\n",
       "\n",
       "    .dataframe tbody tr th {\n",
       "        vertical-align: top;\n",
       "    }\n",
       "\n",
       "    .dataframe thead th {\n",
       "        text-align: right;\n",
       "    }\n",
       "</style>\n",
       "<table border=\"1\" class=\"dataframe\">\n",
       "  <thead>\n",
       "    <tr style=\"text-align: right;\">\n",
       "      <th></th>\n",
       "      <th>event_time</th>\n",
       "      <th>event_type</th>\n",
       "      <th>product_id</th>\n",
       "      <th>category_id</th>\n",
       "      <th>category_code</th>\n",
       "      <th>brand</th>\n",
       "      <th>price</th>\n",
       "      <th>user_id</th>\n",
       "      <th>order_id</th>\n",
       "    </tr>\n",
       "  </thead>\n",
       "  <tbody>\n",
       "    <tr>\n",
       "      <th>0</th>\n",
       "      <td>2019-12-01 00:17:50 UTC</td>\n",
       "      <td>purchase</td>\n",
       "      <td>4554</td>\n",
       "      <td>1487580010796548183</td>\n",
       "      <td>NaN</td>\n",
       "      <td>runail</td>\n",
       "      <td>0.38</td>\n",
       "      <td>473613801</td>\n",
       "      <td>d1e90c6a-c030-4d06-aaaf-6d12ec502bb9</td>\n",
       "    </tr>\n",
       "    <tr>\n",
       "      <th>1</th>\n",
       "      <td>2019-12-01 00:17:50 UTC</td>\n",
       "      <td>purchase</td>\n",
       "      <td>4600</td>\n",
       "      <td>1487580010796548183</td>\n",
       "      <td>NaN</td>\n",
       "      <td>runail</td>\n",
       "      <td>0.38</td>\n",
       "      <td>473613801</td>\n",
       "      <td>d1e90c6a-c030-4d06-aaaf-6d12ec502bb9</td>\n",
       "    </tr>\n",
       "    <tr>\n",
       "      <th>2</th>\n",
       "      <td>2019-12-01 00:17:50 UTC</td>\n",
       "      <td>purchase</td>\n",
       "      <td>4607</td>\n",
       "      <td>1487580010796548183</td>\n",
       "      <td>NaN</td>\n",
       "      <td>runail</td>\n",
       "      <td>0.38</td>\n",
       "      <td>473613801</td>\n",
       "      <td>d1e90c6a-c030-4d06-aaaf-6d12ec502bb9</td>\n",
       "    </tr>\n",
       "    <tr>\n",
       "      <th>3</th>\n",
       "      <td>2019-12-01 00:17:50 UTC</td>\n",
       "      <td>purchase</td>\n",
       "      <td>4640</td>\n",
       "      <td>1487580011157258342</td>\n",
       "      <td>NaN</td>\n",
       "      <td>runail</td>\n",
       "      <td>0.37</td>\n",
       "      <td>473613801</td>\n",
       "      <td>d1e90c6a-c030-4d06-aaaf-6d12ec502bb9</td>\n",
       "    </tr>\n",
       "    <tr>\n",
       "      <th>4</th>\n",
       "      <td>2019-12-01 00:17:50 UTC</td>\n",
       "      <td>purchase</td>\n",
       "      <td>4689</td>\n",
       "      <td>1487580010796548183</td>\n",
       "      <td>NaN</td>\n",
       "      <td>runail</td>\n",
       "      <td>0.38</td>\n",
       "      <td>473613801</td>\n",
       "      <td>d1e90c6a-c030-4d06-aaaf-6d12ec502bb9</td>\n",
       "    </tr>\n",
       "    <tr>\n",
       "      <th>...</th>\n",
       "      <td>...</td>\n",
       "      <td>...</td>\n",
       "      <td>...</td>\n",
       "      <td>...</td>\n",
       "      <td>...</td>\n",
       "      <td>...</td>\n",
       "      <td>...</td>\n",
       "      <td>...</td>\n",
       "      <td>...</td>\n",
       "    </tr>\n",
       "    <tr>\n",
       "      <th>1287002</th>\n",
       "      <td>2020-01-31 23:58:26 UTC</td>\n",
       "      <td>purchase</td>\n",
       "      <td>5730206</td>\n",
       "      <td>1487580005092295511</td>\n",
       "      <td>NaN</td>\n",
       "      <td>NaN</td>\n",
       "      <td>10.32</td>\n",
       "      <td>604470329</td>\n",
       "      <td>6f853f2d-e1aa-49d4-84d8-284566ea1a0e</td>\n",
       "    </tr>\n",
       "    <tr>\n",
       "      <th>1287003</th>\n",
       "      <td>2020-01-31 23:58:26 UTC</td>\n",
       "      <td>purchase</td>\n",
       "      <td>5861342</td>\n",
       "      <td>1487580010645553231</td>\n",
       "      <td>NaN</td>\n",
       "      <td>NaN</td>\n",
       "      <td>1.90</td>\n",
       "      <td>604470329</td>\n",
       "      <td>6f853f2d-e1aa-49d4-84d8-284566ea1a0e</td>\n",
       "    </tr>\n",
       "    <tr>\n",
       "      <th>1287004</th>\n",
       "      <td>2020-01-31 23:58:26 UTC</td>\n",
       "      <td>purchase</td>\n",
       "      <td>5867185</td>\n",
       "      <td>1487580007910867929</td>\n",
       "      <td>NaN</td>\n",
       "      <td>staleks</td>\n",
       "      <td>11.43</td>\n",
       "      <td>604470329</td>\n",
       "      <td>6f853f2d-e1aa-49d4-84d8-284566ea1a0e</td>\n",
       "    </tr>\n",
       "    <tr>\n",
       "      <th>1287005</th>\n",
       "      <td>2020-01-31 23:58:26 UTC</td>\n",
       "      <td>purchase</td>\n",
       "      <td>5877766</td>\n",
       "      <td>1605161575889502297</td>\n",
       "      <td>NaN</td>\n",
       "      <td>NaN</td>\n",
       "      <td>4.76</td>\n",
       "      <td>604470329</td>\n",
       "      <td>6f853f2d-e1aa-49d4-84d8-284566ea1a0e</td>\n",
       "    </tr>\n",
       "    <tr>\n",
       "      <th>1287006</th>\n",
       "      <td>2020-01-31 23:58:26 UTC</td>\n",
       "      <td>purchase</td>\n",
       "      <td>5905704</td>\n",
       "      <td>1487580005092295511</td>\n",
       "      <td>NaN</td>\n",
       "      <td>NaN</td>\n",
       "      <td>10.63</td>\n",
       "      <td>604470329</td>\n",
       "      <td>6f853f2d-e1aa-49d4-84d8-284566ea1a0e</td>\n",
       "    </tr>\n",
       "  </tbody>\n",
       "</table>\n",
       "<p>1287007 rows × 9 columns</p>\n",
       "</div>"
      ],
      "text/plain": [
       "                      event_time event_type  product_id          category_id  \\\n",
       "0        2019-12-01 00:17:50 UTC   purchase        4554  1487580010796548183   \n",
       "1        2019-12-01 00:17:50 UTC   purchase        4600  1487580010796548183   \n",
       "2        2019-12-01 00:17:50 UTC   purchase        4607  1487580010796548183   \n",
       "3        2019-12-01 00:17:50 UTC   purchase        4640  1487580011157258342   \n",
       "4        2019-12-01 00:17:50 UTC   purchase        4689  1487580010796548183   \n",
       "...                          ...        ...         ...                  ...   \n",
       "1287002  2020-01-31 23:58:26 UTC   purchase     5730206  1487580005092295511   \n",
       "1287003  2020-01-31 23:58:26 UTC   purchase     5861342  1487580010645553231   \n",
       "1287004  2020-01-31 23:58:26 UTC   purchase     5867185  1487580007910867929   \n",
       "1287005  2020-01-31 23:58:26 UTC   purchase     5877766  1605161575889502297   \n",
       "1287006  2020-01-31 23:58:26 UTC   purchase     5905704  1487580005092295511   \n",
       "\n",
       "        category_code    brand  price    user_id  \\\n",
       "0                 NaN   runail   0.38  473613801   \n",
       "1                 NaN   runail   0.38  473613801   \n",
       "2                 NaN   runail   0.38  473613801   \n",
       "3                 NaN   runail   0.37  473613801   \n",
       "4                 NaN   runail   0.38  473613801   \n",
       "...               ...      ...    ...        ...   \n",
       "1287002           NaN      NaN  10.32  604470329   \n",
       "1287003           NaN      NaN   1.90  604470329   \n",
       "1287004           NaN  staleks  11.43  604470329   \n",
       "1287005           NaN      NaN   4.76  604470329   \n",
       "1287006           NaN      NaN  10.63  604470329   \n",
       "\n",
       "                                     order_id  \n",
       "0        d1e90c6a-c030-4d06-aaaf-6d12ec502bb9  \n",
       "1        d1e90c6a-c030-4d06-aaaf-6d12ec502bb9  \n",
       "2        d1e90c6a-c030-4d06-aaaf-6d12ec502bb9  \n",
       "3        d1e90c6a-c030-4d06-aaaf-6d12ec502bb9  \n",
       "4        d1e90c6a-c030-4d06-aaaf-6d12ec502bb9  \n",
       "...                                       ...  \n",
       "1287002  6f853f2d-e1aa-49d4-84d8-284566ea1a0e  \n",
       "1287003  6f853f2d-e1aa-49d4-84d8-284566ea1a0e  \n",
       "1287004  6f853f2d-e1aa-49d4-84d8-284566ea1a0e  \n",
       "1287005  6f853f2d-e1aa-49d4-84d8-284566ea1a0e  \n",
       "1287006  6f853f2d-e1aa-49d4-84d8-284566ea1a0e  \n",
       "\n",
       "[1287007 rows x 9 columns]"
      ]
     },
     "execution_count": 15,
     "metadata": {},
     "output_type": "execute_result"
    }
   ],
   "source": [
    "import glob\n",
    "import os\n",
    "\n",
    "# setting the path for joining multiple files\n",
    "files = os.path.join(os.getcwd(), \"datasets/eCommerce_purchase_history_from_cosmetics_store/*.csv\")\n",
    "\n",
    "# list of merged files returned\n",
    "files = glob.glob(files)\n",
    "\n",
    "# joining files with concat and read_csv\n",
    "data_raw = pd.concat(map(pd.read_csv, files), ignore_index=True).iloc[:,1:].rename(columns={\"user_session\":\"order_id\"})\n",
    "\n",
    "data_raw\n"
   ]
  },
  {
   "cell_type": "code",
   "execution_count": 16,
   "metadata": {},
   "outputs": [],
   "source": [
    "# Quantity is always 1\n",
    "grouped_mutliple_items = data_raw.groupby(['order_id', 'product_id']).agg({'user_id': ['count']})\n",
    "\n",
    "#grouped_mutliple_items[grouped_mutliple_items[\"quantity\"]>1]\n",
    "\n",
    "grouped_mutliple_items.columns = [\"user_id\"]\n",
    "grouped_mutliple_items.rename(columns={\"user_id\":\"quantity\"},inplace=True)\n",
    "grouped_mutliple_items = grouped_mutliple_items.reset_index()\n",
    "grouped_mutliple_items = grouped_mutliple_items[grouped_mutliple_items[\"quantity\"]>1].sort_values(\"quantity\",ascending=False)"
   ]
  },
  {
   "cell_type": "code",
   "execution_count": 17,
   "metadata": {},
   "outputs": [
    {
     "data": {
      "text/html": [
       "<div>\n",
       "<style scoped>\n",
       "    .dataframe tbody tr th:only-of-type {\n",
       "        vertical-align: middle;\n",
       "    }\n",
       "\n",
       "    .dataframe tbody tr th {\n",
       "        vertical-align: top;\n",
       "    }\n",
       "\n",
       "    .dataframe thead th {\n",
       "        text-align: right;\n",
       "    }\n",
       "</style>\n",
       "<table border=\"1\" class=\"dataframe\">\n",
       "  <thead>\n",
       "    <tr style=\"text-align: right;\">\n",
       "      <th></th>\n",
       "      <th>order_id</th>\n",
       "      <th>product_id</th>\n",
       "      <th>quantity</th>\n",
       "    </tr>\n",
       "  </thead>\n",
       "  <tbody>\n",
       "    <tr>\n",
       "      <th>368420</th>\n",
       "      <td>49bc852c-cbc7-4d84-9a2c-8144205b571a</td>\n",
       "      <td>5751422</td>\n",
       "      <td>10</td>\n",
       "    </tr>\n",
       "    <tr>\n",
       "      <th>368421</th>\n",
       "      <td>49bc852c-cbc7-4d84-9a2c-8144205b571a</td>\n",
       "      <td>5809910</td>\n",
       "      <td>10</td>\n",
       "    </tr>\n",
       "    <tr>\n",
       "      <th>1252940</th>\n",
       "      <td>fb5a2f8f-837c-4e50-9b3d-bdcbdc75315e</td>\n",
       "      <td>5778113</td>\n",
       "      <td>9</td>\n",
       "    </tr>\n",
       "    <tr>\n",
       "      <th>368422</th>\n",
       "      <td>49bc852c-cbc7-4d84-9a2c-8144205b571a</td>\n",
       "      <td>5809912</td>\n",
       "      <td>9</td>\n",
       "    </tr>\n",
       "    <tr>\n",
       "      <th>368414</th>\n",
       "      <td>49bc852c-cbc7-4d84-9a2c-8144205b571a</td>\n",
       "      <td>5304</td>\n",
       "      <td>9</td>\n",
       "    </tr>\n",
       "    <tr>\n",
       "      <th>...</th>\n",
       "      <td>...</td>\n",
       "      <td>...</td>\n",
       "      <td>...</td>\n",
       "    </tr>\n",
       "    <tr>\n",
       "      <th>435978</th>\n",
       "      <td>570ac7f0-7bc2-7587-5c70-388c76d73451</td>\n",
       "      <td>5809303</td>\n",
       "      <td>2</td>\n",
       "    </tr>\n",
       "    <tr>\n",
       "      <th>435979</th>\n",
       "      <td>570ac7f0-7bc2-7587-5c70-388c76d73451</td>\n",
       "      <td>5841799</td>\n",
       "      <td>2</td>\n",
       "    </tr>\n",
       "    <tr>\n",
       "      <th>435980</th>\n",
       "      <td>570ac7f0-7bc2-7587-5c70-388c76d73451</td>\n",
       "      <td>5856952</td>\n",
       "      <td>2</td>\n",
       "    </tr>\n",
       "    <tr>\n",
       "      <th>435981</th>\n",
       "      <td>570ac7f0-7bc2-7587-5c70-388c76d73451</td>\n",
       "      <td>5879128</td>\n",
       "      <td>2</td>\n",
       "    </tr>\n",
       "    <tr>\n",
       "      <th>1275909</th>\n",
       "      <td>ffe966d6-af02-474d-8953-1b8881cff012</td>\n",
       "      <td>5588154</td>\n",
       "      <td>2</td>\n",
       "    </tr>\n",
       "  </tbody>\n",
       "</table>\n",
       "<p>10123 rows × 3 columns</p>\n",
       "</div>"
      ],
      "text/plain": [
       "                                     order_id  product_id  quantity\n",
       "368420   49bc852c-cbc7-4d84-9a2c-8144205b571a     5751422        10\n",
       "368421   49bc852c-cbc7-4d84-9a2c-8144205b571a     5809910        10\n",
       "1252940  fb5a2f8f-837c-4e50-9b3d-bdcbdc75315e     5778113         9\n",
       "368422   49bc852c-cbc7-4d84-9a2c-8144205b571a     5809912         9\n",
       "368414   49bc852c-cbc7-4d84-9a2c-8144205b571a        5304         9\n",
       "...                                       ...         ...       ...\n",
       "435978   570ac7f0-7bc2-7587-5c70-388c76d73451     5809303         2\n",
       "435979   570ac7f0-7bc2-7587-5c70-388c76d73451     5841799         2\n",
       "435980   570ac7f0-7bc2-7587-5c70-388c76d73451     5856952         2\n",
       "435981   570ac7f0-7bc2-7587-5c70-388c76d73451     5879128         2\n",
       "1275909  ffe966d6-af02-474d-8953-1b8881cff012     5588154         2\n",
       "\n",
       "[10123 rows x 3 columns]"
      ]
     },
     "execution_count": 17,
     "metadata": {},
     "output_type": "execute_result"
    }
   ],
   "source": [
    "grouped_mutliple_items"
   ]
  },
  {
   "cell_type": "code",
   "execution_count": 18,
   "metadata": {},
   "outputs": [
    {
     "data": {
      "application/vnd.plotly.v1+json": {
       "config": {
        "plotlyServerURL": "https://plot.ly"
       },
       "data": [
        {
         "alignmentgroup": "True",
         "hovertemplate": "index=%{x}<br>y=%{y}<extra></extra>",
         "legendgroup": "",
         "marker": {
          "color": "#636efa",
          "pattern": {
           "shape": ""
          }
         },
         "name": "",
         "offsetgroup": "",
         "orientation": "v",
         "showlegend": false,
         "textposition": "auto",
         "type": "bar",
         "width": 0.5,
         "x": [
          2,
          3,
          4,
          5
         ],
         "xaxis": "x",
         "y": [
          0.956973293768546,
          0.036597428288822946,
          0.004451038575667656,
          0.0019782393669634025
         ],
         "yaxis": "y"
        }
       ],
       "layout": {
        "barmode": "relative",
        "height": 400,
        "legend": {
         "title": {
          "text": "Multiple items per transaction distribution"
         },
         "tracegroupgap": 0
        },
        "margin": {
         "t": 60
        },
        "template": {
         "data": {
          "bar": [
           {
            "error_x": {
             "color": "#2a3f5f"
            },
            "error_y": {
             "color": "#2a3f5f"
            },
            "marker": {
             "line": {
              "color": "#E5ECF6",
              "width": 0.5
             },
             "pattern": {
              "fillmode": "overlay",
              "size": 10,
              "solidity": 0.2
             }
            },
            "type": "bar"
           }
          ],
          "barpolar": [
           {
            "marker": {
             "line": {
              "color": "#E5ECF6",
              "width": 0.5
             },
             "pattern": {
              "fillmode": "overlay",
              "size": 10,
              "solidity": 0.2
             }
            },
            "type": "barpolar"
           }
          ],
          "carpet": [
           {
            "aaxis": {
             "endlinecolor": "#2a3f5f",
             "gridcolor": "white",
             "linecolor": "white",
             "minorgridcolor": "white",
             "startlinecolor": "#2a3f5f"
            },
            "baxis": {
             "endlinecolor": "#2a3f5f",
             "gridcolor": "white",
             "linecolor": "white",
             "minorgridcolor": "white",
             "startlinecolor": "#2a3f5f"
            },
            "type": "carpet"
           }
          ],
          "choropleth": [
           {
            "colorbar": {
             "outlinewidth": 0,
             "ticks": ""
            },
            "type": "choropleth"
           }
          ],
          "contour": [
           {
            "colorbar": {
             "outlinewidth": 0,
             "ticks": ""
            },
            "colorscale": [
             [
              0,
              "#0d0887"
             ],
             [
              0.1111111111111111,
              "#46039f"
             ],
             [
              0.2222222222222222,
              "#7201a8"
             ],
             [
              0.3333333333333333,
              "#9c179e"
             ],
             [
              0.4444444444444444,
              "#bd3786"
             ],
             [
              0.5555555555555556,
              "#d8576b"
             ],
             [
              0.6666666666666666,
              "#ed7953"
             ],
             [
              0.7777777777777778,
              "#fb9f3a"
             ],
             [
              0.8888888888888888,
              "#fdca26"
             ],
             [
              1,
              "#f0f921"
             ]
            ],
            "type": "contour"
           }
          ],
          "contourcarpet": [
           {
            "colorbar": {
             "outlinewidth": 0,
             "ticks": ""
            },
            "type": "contourcarpet"
           }
          ],
          "heatmap": [
           {
            "colorbar": {
             "outlinewidth": 0,
             "ticks": ""
            },
            "colorscale": [
             [
              0,
              "#0d0887"
             ],
             [
              0.1111111111111111,
              "#46039f"
             ],
             [
              0.2222222222222222,
              "#7201a8"
             ],
             [
              0.3333333333333333,
              "#9c179e"
             ],
             [
              0.4444444444444444,
              "#bd3786"
             ],
             [
              0.5555555555555556,
              "#d8576b"
             ],
             [
              0.6666666666666666,
              "#ed7953"
             ],
             [
              0.7777777777777778,
              "#fb9f3a"
             ],
             [
              0.8888888888888888,
              "#fdca26"
             ],
             [
              1,
              "#f0f921"
             ]
            ],
            "type": "heatmap"
           }
          ],
          "heatmapgl": [
           {
            "colorbar": {
             "outlinewidth": 0,
             "ticks": ""
            },
            "colorscale": [
             [
              0,
              "#0d0887"
             ],
             [
              0.1111111111111111,
              "#46039f"
             ],
             [
              0.2222222222222222,
              "#7201a8"
             ],
             [
              0.3333333333333333,
              "#9c179e"
             ],
             [
              0.4444444444444444,
              "#bd3786"
             ],
             [
              0.5555555555555556,
              "#d8576b"
             ],
             [
              0.6666666666666666,
              "#ed7953"
             ],
             [
              0.7777777777777778,
              "#fb9f3a"
             ],
             [
              0.8888888888888888,
              "#fdca26"
             ],
             [
              1,
              "#f0f921"
             ]
            ],
            "type": "heatmapgl"
           }
          ],
          "histogram": [
           {
            "marker": {
             "pattern": {
              "fillmode": "overlay",
              "size": 10,
              "solidity": 0.2
             }
            },
            "type": "histogram"
           }
          ],
          "histogram2d": [
           {
            "colorbar": {
             "outlinewidth": 0,
             "ticks": ""
            },
            "colorscale": [
             [
              0,
              "#0d0887"
             ],
             [
              0.1111111111111111,
              "#46039f"
             ],
             [
              0.2222222222222222,
              "#7201a8"
             ],
             [
              0.3333333333333333,
              "#9c179e"
             ],
             [
              0.4444444444444444,
              "#bd3786"
             ],
             [
              0.5555555555555556,
              "#d8576b"
             ],
             [
              0.6666666666666666,
              "#ed7953"
             ],
             [
              0.7777777777777778,
              "#fb9f3a"
             ],
             [
              0.8888888888888888,
              "#fdca26"
             ],
             [
              1,
              "#f0f921"
             ]
            ],
            "type": "histogram2d"
           }
          ],
          "histogram2dcontour": [
           {
            "colorbar": {
             "outlinewidth": 0,
             "ticks": ""
            },
            "colorscale": [
             [
              0,
              "#0d0887"
             ],
             [
              0.1111111111111111,
              "#46039f"
             ],
             [
              0.2222222222222222,
              "#7201a8"
             ],
             [
              0.3333333333333333,
              "#9c179e"
             ],
             [
              0.4444444444444444,
              "#bd3786"
             ],
             [
              0.5555555555555556,
              "#d8576b"
             ],
             [
              0.6666666666666666,
              "#ed7953"
             ],
             [
              0.7777777777777778,
              "#fb9f3a"
             ],
             [
              0.8888888888888888,
              "#fdca26"
             ],
             [
              1,
              "#f0f921"
             ]
            ],
            "type": "histogram2dcontour"
           }
          ],
          "mesh3d": [
           {
            "colorbar": {
             "outlinewidth": 0,
             "ticks": ""
            },
            "type": "mesh3d"
           }
          ],
          "parcoords": [
           {
            "line": {
             "colorbar": {
              "outlinewidth": 0,
              "ticks": ""
             }
            },
            "type": "parcoords"
           }
          ],
          "pie": [
           {
            "automargin": true,
            "type": "pie"
           }
          ],
          "scatter": [
           {
            "fillpattern": {
             "fillmode": "overlay",
             "size": 10,
             "solidity": 0.2
            },
            "type": "scatter"
           }
          ],
          "scatter3d": [
           {
            "line": {
             "colorbar": {
              "outlinewidth": 0,
              "ticks": ""
             }
            },
            "marker": {
             "colorbar": {
              "outlinewidth": 0,
              "ticks": ""
             }
            },
            "type": "scatter3d"
           }
          ],
          "scattercarpet": [
           {
            "marker": {
             "colorbar": {
              "outlinewidth": 0,
              "ticks": ""
             }
            },
            "type": "scattercarpet"
           }
          ],
          "scattergeo": [
           {
            "marker": {
             "colorbar": {
              "outlinewidth": 0,
              "ticks": ""
             }
            },
            "type": "scattergeo"
           }
          ],
          "scattergl": [
           {
            "marker": {
             "colorbar": {
              "outlinewidth": 0,
              "ticks": ""
             }
            },
            "type": "scattergl"
           }
          ],
          "scattermapbox": [
           {
            "marker": {
             "colorbar": {
              "outlinewidth": 0,
              "ticks": ""
             }
            },
            "type": "scattermapbox"
           }
          ],
          "scatterpolar": [
           {
            "marker": {
             "colorbar": {
              "outlinewidth": 0,
              "ticks": ""
             }
            },
            "type": "scatterpolar"
           }
          ],
          "scatterpolargl": [
           {
            "marker": {
             "colorbar": {
              "outlinewidth": 0,
              "ticks": ""
             }
            },
            "type": "scatterpolargl"
           }
          ],
          "scatterternary": [
           {
            "marker": {
             "colorbar": {
              "outlinewidth": 0,
              "ticks": ""
             }
            },
            "type": "scatterternary"
           }
          ],
          "surface": [
           {
            "colorbar": {
             "outlinewidth": 0,
             "ticks": ""
            },
            "colorscale": [
             [
              0,
              "#0d0887"
             ],
             [
              0.1111111111111111,
              "#46039f"
             ],
             [
              0.2222222222222222,
              "#7201a8"
             ],
             [
              0.3333333333333333,
              "#9c179e"
             ],
             [
              0.4444444444444444,
              "#bd3786"
             ],
             [
              0.5555555555555556,
              "#d8576b"
             ],
             [
              0.6666666666666666,
              "#ed7953"
             ],
             [
              0.7777777777777778,
              "#fb9f3a"
             ],
             [
              0.8888888888888888,
              "#fdca26"
             ],
             [
              1,
              "#f0f921"
             ]
            ],
            "type": "surface"
           }
          ],
          "table": [
           {
            "cells": {
             "fill": {
              "color": "#EBF0F8"
             },
             "line": {
              "color": "white"
             }
            },
            "header": {
             "fill": {
              "color": "#C8D4E3"
             },
             "line": {
              "color": "white"
             }
            },
            "type": "table"
           }
          ]
         },
         "layout": {
          "annotationdefaults": {
           "arrowcolor": "#2a3f5f",
           "arrowhead": 0,
           "arrowwidth": 1
          },
          "autotypenumbers": "strict",
          "coloraxis": {
           "colorbar": {
            "outlinewidth": 0,
            "ticks": ""
           }
          },
          "colorscale": {
           "diverging": [
            [
             0,
             "#8e0152"
            ],
            [
             0.1,
             "#c51b7d"
            ],
            [
             0.2,
             "#de77ae"
            ],
            [
             0.3,
             "#f1b6da"
            ],
            [
             0.4,
             "#fde0ef"
            ],
            [
             0.5,
             "#f7f7f7"
            ],
            [
             0.6,
             "#e6f5d0"
            ],
            [
             0.7,
             "#b8e186"
            ],
            [
             0.8,
             "#7fbc41"
            ],
            [
             0.9,
             "#4d9221"
            ],
            [
             1,
             "#276419"
            ]
           ],
           "sequential": [
            [
             0,
             "#0d0887"
            ],
            [
             0.1111111111111111,
             "#46039f"
            ],
            [
             0.2222222222222222,
             "#7201a8"
            ],
            [
             0.3333333333333333,
             "#9c179e"
            ],
            [
             0.4444444444444444,
             "#bd3786"
            ],
            [
             0.5555555555555556,
             "#d8576b"
            ],
            [
             0.6666666666666666,
             "#ed7953"
            ],
            [
             0.7777777777777778,
             "#fb9f3a"
            ],
            [
             0.8888888888888888,
             "#fdca26"
            ],
            [
             1,
             "#f0f921"
            ]
           ],
           "sequentialminus": [
            [
             0,
             "#0d0887"
            ],
            [
             0.1111111111111111,
             "#46039f"
            ],
            [
             0.2222222222222222,
             "#7201a8"
            ],
            [
             0.3333333333333333,
             "#9c179e"
            ],
            [
             0.4444444444444444,
             "#bd3786"
            ],
            [
             0.5555555555555556,
             "#d8576b"
            ],
            [
             0.6666666666666666,
             "#ed7953"
            ],
            [
             0.7777777777777778,
             "#fb9f3a"
            ],
            [
             0.8888888888888888,
             "#fdca26"
            ],
            [
             1,
             "#f0f921"
            ]
           ]
          },
          "colorway": [
           "#636efa",
           "#EF553B",
           "#00cc96",
           "#ab63fa",
           "#FFA15A",
           "#19d3f3",
           "#FF6692",
           "#B6E880",
           "#FF97FF",
           "#FECB52"
          ],
          "font": {
           "color": "#2a3f5f"
          },
          "geo": {
           "bgcolor": "white",
           "lakecolor": "white",
           "landcolor": "#E5ECF6",
           "showlakes": true,
           "showland": true,
           "subunitcolor": "white"
          },
          "hoverlabel": {
           "align": "left"
          },
          "hovermode": "closest",
          "mapbox": {
           "style": "light"
          },
          "paper_bgcolor": "white",
          "plot_bgcolor": "#E5ECF6",
          "polar": {
           "angularaxis": {
            "gridcolor": "white",
            "linecolor": "white",
            "ticks": ""
           },
           "bgcolor": "#E5ECF6",
           "radialaxis": {
            "gridcolor": "white",
            "linecolor": "white",
            "ticks": ""
           }
          },
          "scene": {
           "xaxis": {
            "backgroundcolor": "#E5ECF6",
            "gridcolor": "white",
            "gridwidth": 2,
            "linecolor": "white",
            "showbackground": true,
            "ticks": "",
            "zerolinecolor": "white"
           },
           "yaxis": {
            "backgroundcolor": "#E5ECF6",
            "gridcolor": "white",
            "gridwidth": 2,
            "linecolor": "white",
            "showbackground": true,
            "ticks": "",
            "zerolinecolor": "white"
           },
           "zaxis": {
            "backgroundcolor": "#E5ECF6",
            "gridcolor": "white",
            "gridwidth": 2,
            "linecolor": "white",
            "showbackground": true,
            "ticks": "",
            "zerolinecolor": "white"
           }
          },
          "shapedefaults": {
           "line": {
            "color": "#2a3f5f"
           }
          },
          "ternary": {
           "aaxis": {
            "gridcolor": "white",
            "linecolor": "white",
            "ticks": ""
           },
           "baxis": {
            "gridcolor": "white",
            "linecolor": "white",
            "ticks": ""
           },
           "bgcolor": "#E5ECF6",
           "caxis": {
            "gridcolor": "white",
            "linecolor": "white",
            "ticks": ""
           }
          },
          "title": {
           "x": 0.05
          },
          "xaxis": {
           "automargin": true,
           "gridcolor": "white",
           "linecolor": "white",
           "ticks": "",
           "title": {
            "standoff": 15
           },
           "zerolinecolor": "white",
           "zerolinewidth": 2
          },
          "yaxis": {
           "automargin": true,
           "gridcolor": "white",
           "linecolor": "white",
           "ticks": "",
           "title": {
            "standoff": 15
           },
           "zerolinecolor": "white",
           "zerolinewidth": 2
          }
         }
        },
        "width": 400,
        "xaxis": {
         "anchor": "y",
         "domain": [
          0,
          1
         ],
         "tickformat": ",d",
         "title": {
          "text": "Multiple items per transaction"
         }
        },
        "yaxis": {
         "anchor": "x",
         "domain": [
          0,
          1
         ],
         "tickformat": "0%",
         "title": {
          "text": "Distribution"
         }
        }
       }
      }
     },
     "metadata": {},
     "output_type": "display_data"
    }
   ],
   "source": [
    "# Mutiple items per transaction\n",
    "\n",
    "import seaborn as sns\n",
    "\n",
    "mutliple_items_per_transaction = grouped_mutliple_items[\"quantity\"].value_counts()\n",
    "mutliple_items_per_transaction.rename_axis(\"frequency\")\n",
    "\n",
    "# lenth_of_transactions\n",
    "mutliple_items_per_transaction = mutliple_items_per_transaction.head(4)\n",
    "\n",
    "total = mutliple_items_per_transaction.values.sum()\n",
    "\n",
    "import plotly.express as px\n",
    "fig = px.bar(mutliple_items_per_transaction, x=mutliple_items_per_transaction.index, y=mutliple_items_per_transaction.values/total,width=400, height=400)\n",
    "fig.update_traces(width=0.5)\n",
    "fig.update_layout(\n",
    "    xaxis_title=\"Multiple items per transaction\",\n",
    "    yaxis_tickformat ='0%',\n",
    "    xaxis_tickformat = ',d',\n",
    "    yaxis_title=\"Distribution\",\n",
    "    legend_title=\"Multiple items per transaction distribution\",)\n",
    "\n",
    "fig.show()\n"
   ]
  },
  {
   "cell_type": "code",
   "execution_count": 19,
   "metadata": {},
   "outputs": [
    {
     "name": "stderr",
     "output_type": "stream",
     "text": [
      "C:\\Users\\david\\AppData\\Local\\Temp/ipykernel_27340/4105145759.py:12: FutureWarning:\n",
      "\n",
      "Indexing with multiple keys (implicitly converted to a tuple of keys) will be deprecated, use a list instead.\n",
      "\n"
     ]
    },
    {
     "data": {
      "text/html": [
       "<div>\n",
       "<style scoped>\n",
       "    .dataframe tbody tr th:only-of-type {\n",
       "        vertical-align: middle;\n",
       "    }\n",
       "\n",
       "    .dataframe tbody tr th {\n",
       "        vertical-align: top;\n",
       "    }\n",
       "\n",
       "    .dataframe thead th {\n",
       "        text-align: right;\n",
       "    }\n",
       "</style>\n",
       "<table border=\"1\" class=\"dataframe\">\n",
       "  <thead>\n",
       "    <tr style=\"text-align: right;\">\n",
       "      <th></th>\n",
       "      <th>product_id</th>\n",
       "      <th>date</th>\n",
       "      <th>price</th>\n",
       "      <th>margin</th>\n",
       "    </tr>\n",
       "    <tr>\n",
       "      <th>order_id</th>\n",
       "      <th></th>\n",
       "      <th></th>\n",
       "      <th></th>\n",
       "      <th></th>\n",
       "    </tr>\n",
       "  </thead>\n",
       "  <tbody>\n",
       "    <tr>\n",
       "      <th>000013d6-68a4-40cf-9452-6577dbfab515</th>\n",
       "      <td>[5889104, 5878254, 5875502, 5859210, 5739125, ...</td>\n",
       "      <td>[2019-10-23, 2019-10-23, 2019-10-23, 2019-10-2...</td>\n",
       "      <td>[4.76, 5.56, 1.75, 0.48, 4.4, 5.22, 0.48, 5.08...</td>\n",
       "      <td>[0.1, 0.1, 0.1, 0.1, 0.1, 0.1, 0.1, 0.1, 0.1]</td>\n",
       "    </tr>\n",
       "    <tr>\n",
       "      <th>00008836-6d96-4580-8527-173d4e1b2889</th>\n",
       "      <td>[5730402, 5853682, 5839703, 5839663, 5839660, ...</td>\n",
       "      <td>[2019-10-02, 2019-10-02, 2019-10-02, 2019-10-0...</td>\n",
       "      <td>[7.86, 3.63, 1.73, 2.37, 2.37, 1.73, 1.73, 1.4...</td>\n",
       "      <td>[0.1, 0.1, 0.1, 0.1, 0.1, 0.1, 0.1, 0.1, 0.1, ...</td>\n",
       "    </tr>\n",
       "    <tr>\n",
       "      <th>0000d04d-3516-42ea-bdb9-584e92ce619e</th>\n",
       "      <td>[5809100, 5809101, 5854897, 5888573]</td>\n",
       "      <td>[2020-02-15, 2020-02-15, 2020-02-15, 2020-02-15]</td>\n",
       "      <td>[1.59, 1.59, 0.32, 3.33]</td>\n",
       "      <td>[0.1, 0.1, 0.1, 0.1]</td>\n",
       "    </tr>\n",
       "    <tr>\n",
       "      <th>0001981a-ee7c-4542-bf81-2cea59d963ab</th>\n",
       "      <td>[5839084, 5788435, 5743913, 5743912, 5677989, ...</td>\n",
       "      <td>[2019-10-05, 2019-10-05, 2019-10-05, 2019-10-0...</td>\n",
       "      <td>[4.86, 0.79, 3.97, 3.97, 8.73, 1.43]</td>\n",
       "      <td>[0.1, 0.1, 0.1, 0.1, 0.1, 0.1]</td>\n",
       "    </tr>\n",
       "    <tr>\n",
       "      <th>000277a9-30da-4bb2-b5ad-96ef24483af8</th>\n",
       "      <td>[5815567, 5815568, 5815569, 5815570, 5815571]</td>\n",
       "      <td>[2019-12-14, 2019-12-14, 2019-12-14, 2019-12-1...</td>\n",
       "      <td>[0.71, 0.71, 0.71, 0.71, 0.71]</td>\n",
       "      <td>[0.1, 0.1, 0.1, 0.1, 0.1]</td>\n",
       "    </tr>\n",
       "    <tr>\n",
       "      <th>...</th>\n",
       "      <td>...</td>\n",
       "      <td>...</td>\n",
       "      <td>...</td>\n",
       "      <td>...</td>\n",
       "    </tr>\n",
       "    <tr>\n",
       "      <th>fffee574-c72f-03cf-4d2a-5188047c4cef</th>\n",
       "      <td>[5560968, 5857357, 5695534, 5723501, 5734268, ...</td>\n",
       "      <td>[2019-12-24, 2019-12-24, 2019-12-24, 2019-12-2...</td>\n",
       "      <td>[3.0, 2.78, 3.33, 2.62, 3.97, 6.19, 3.33, 3.0,...</td>\n",
       "      <td>[0.1, 0.1, 0.1, 0.1, 0.1, 0.1, 0.1, 0.1, 0.1]</td>\n",
       "    </tr>\n",
       "    <tr>\n",
       "      <th>ffff78e3-1e8f-4eda-bb42-95749ab4f42e</th>\n",
       "      <td>[5686083, 5710585, 5776129, 5776130, 5776132]</td>\n",
       "      <td>[2020-02-21, 2020-02-21, 2020-02-21, 2020-02-2...</td>\n",
       "      <td>[0.79, 1.43, 2.7, 1.98, 2.7]</td>\n",
       "      <td>[0.1, 0.1, 0.1, 0.1, 0.1]</td>\n",
       "    </tr>\n",
       "    <tr>\n",
       "      <th>ffff8529-58c1-4ec8-933e-77f535718061</th>\n",
       "      <td>[5875389, 5859403, 5839651, 5752164, 5727536, ...</td>\n",
       "      <td>[2019-10-13, 2019-10-13, 2019-10-13, 2019-10-1...</td>\n",
       "      <td>[2.05, 2.37, 2.37, 3.97, 2.7, 1.73]</td>\n",
       "      <td>[0.1, 0.1, 0.1, 0.1, 0.1, 0.1]</td>\n",
       "    </tr>\n",
       "    <tr>\n",
       "      <th>ffff8da3-b79a-48f2-888c-117f2d1a7793</th>\n",
       "      <td>[5816170, 5899849]</td>\n",
       "      <td>[2020-02-12, 2020-02-12]</td>\n",
       "      <td>[5.24, 4.46]</td>\n",
       "      <td>[0.1, 0.1]</td>\n",
       "    </tr>\n",
       "    <tr>\n",
       "      <th>fffffc08-81e3-4050-9cd6-a5301f79f6f1</th>\n",
       "      <td>[5753487, 5785422, 5802162, 5832415, 5846442, ...</td>\n",
       "      <td>[2020-02-09, 2020-02-09, 2020-02-09, 2020-02-0...</td>\n",
       "      <td>[13.02, 3.16, 23.81, 2.38, 19.52, 19.52]</td>\n",
       "      <td>[0.1, 0.1, 0.1, 0.1, 0.1, 0.1]</td>\n",
       "    </tr>\n",
       "  </tbody>\n",
       "</table>\n",
       "<p>155617 rows × 4 columns</p>\n",
       "</div>"
      ],
      "text/plain": [
       "                                                                             product_id  \\\n",
       "order_id                                                                                  \n",
       "000013d6-68a4-40cf-9452-6577dbfab515  [5889104, 5878254, 5875502, 5859210, 5739125, ...   \n",
       "00008836-6d96-4580-8527-173d4e1b2889  [5730402, 5853682, 5839703, 5839663, 5839660, ...   \n",
       "0000d04d-3516-42ea-bdb9-584e92ce619e               [5809100, 5809101, 5854897, 5888573]   \n",
       "0001981a-ee7c-4542-bf81-2cea59d963ab  [5839084, 5788435, 5743913, 5743912, 5677989, ...   \n",
       "000277a9-30da-4bb2-b5ad-96ef24483af8      [5815567, 5815568, 5815569, 5815570, 5815571]   \n",
       "...                                                                                 ...   \n",
       "fffee574-c72f-03cf-4d2a-5188047c4cef  [5560968, 5857357, 5695534, 5723501, 5734268, ...   \n",
       "ffff78e3-1e8f-4eda-bb42-95749ab4f42e      [5686083, 5710585, 5776129, 5776130, 5776132]   \n",
       "ffff8529-58c1-4ec8-933e-77f535718061  [5875389, 5859403, 5839651, 5752164, 5727536, ...   \n",
       "ffff8da3-b79a-48f2-888c-117f2d1a7793                                 [5816170, 5899849]   \n",
       "fffffc08-81e3-4050-9cd6-a5301f79f6f1  [5753487, 5785422, 5802162, 5832415, 5846442, ...   \n",
       "\n",
       "                                                                                   date  \\\n",
       "order_id                                                                                  \n",
       "000013d6-68a4-40cf-9452-6577dbfab515  [2019-10-23, 2019-10-23, 2019-10-23, 2019-10-2...   \n",
       "00008836-6d96-4580-8527-173d4e1b2889  [2019-10-02, 2019-10-02, 2019-10-02, 2019-10-0...   \n",
       "0000d04d-3516-42ea-bdb9-584e92ce619e   [2020-02-15, 2020-02-15, 2020-02-15, 2020-02-15]   \n",
       "0001981a-ee7c-4542-bf81-2cea59d963ab  [2019-10-05, 2019-10-05, 2019-10-05, 2019-10-0...   \n",
       "000277a9-30da-4bb2-b5ad-96ef24483af8  [2019-12-14, 2019-12-14, 2019-12-14, 2019-12-1...   \n",
       "...                                                                                 ...   \n",
       "fffee574-c72f-03cf-4d2a-5188047c4cef  [2019-12-24, 2019-12-24, 2019-12-24, 2019-12-2...   \n",
       "ffff78e3-1e8f-4eda-bb42-95749ab4f42e  [2020-02-21, 2020-02-21, 2020-02-21, 2020-02-2...   \n",
       "ffff8529-58c1-4ec8-933e-77f535718061  [2019-10-13, 2019-10-13, 2019-10-13, 2019-10-1...   \n",
       "ffff8da3-b79a-48f2-888c-117f2d1a7793                           [2020-02-12, 2020-02-12]   \n",
       "fffffc08-81e3-4050-9cd6-a5301f79f6f1  [2020-02-09, 2020-02-09, 2020-02-09, 2020-02-0...   \n",
       "\n",
       "                                                                                  price  \\\n",
       "order_id                                                                                  \n",
       "000013d6-68a4-40cf-9452-6577dbfab515  [4.76, 5.56, 1.75, 0.48, 4.4, 5.22, 0.48, 5.08...   \n",
       "00008836-6d96-4580-8527-173d4e1b2889  [7.86, 3.63, 1.73, 2.37, 2.37, 1.73, 1.73, 1.4...   \n",
       "0000d04d-3516-42ea-bdb9-584e92ce619e                           [1.59, 1.59, 0.32, 3.33]   \n",
       "0001981a-ee7c-4542-bf81-2cea59d963ab               [4.86, 0.79, 3.97, 3.97, 8.73, 1.43]   \n",
       "000277a9-30da-4bb2-b5ad-96ef24483af8                     [0.71, 0.71, 0.71, 0.71, 0.71]   \n",
       "...                                                                                 ...   \n",
       "fffee574-c72f-03cf-4d2a-5188047c4cef  [3.0, 2.78, 3.33, 2.62, 3.97, 6.19, 3.33, 3.0,...   \n",
       "ffff78e3-1e8f-4eda-bb42-95749ab4f42e                       [0.79, 1.43, 2.7, 1.98, 2.7]   \n",
       "ffff8529-58c1-4ec8-933e-77f535718061                [2.05, 2.37, 2.37, 3.97, 2.7, 1.73]   \n",
       "ffff8da3-b79a-48f2-888c-117f2d1a7793                                       [5.24, 4.46]   \n",
       "fffffc08-81e3-4050-9cd6-a5301f79f6f1           [13.02, 3.16, 23.81, 2.38, 19.52, 19.52]   \n",
       "\n",
       "                                                                                 margin  \n",
       "order_id                                                                                 \n",
       "000013d6-68a4-40cf-9452-6577dbfab515      [0.1, 0.1, 0.1, 0.1, 0.1, 0.1, 0.1, 0.1, 0.1]  \n",
       "00008836-6d96-4580-8527-173d4e1b2889  [0.1, 0.1, 0.1, 0.1, 0.1, 0.1, 0.1, 0.1, 0.1, ...  \n",
       "0000d04d-3516-42ea-bdb9-584e92ce619e                               [0.1, 0.1, 0.1, 0.1]  \n",
       "0001981a-ee7c-4542-bf81-2cea59d963ab                     [0.1, 0.1, 0.1, 0.1, 0.1, 0.1]  \n",
       "000277a9-30da-4bb2-b5ad-96ef24483af8                          [0.1, 0.1, 0.1, 0.1, 0.1]  \n",
       "...                                                                                 ...  \n",
       "fffee574-c72f-03cf-4d2a-5188047c4cef      [0.1, 0.1, 0.1, 0.1, 0.1, 0.1, 0.1, 0.1, 0.1]  \n",
       "ffff78e3-1e8f-4eda-bb42-95749ab4f42e                          [0.1, 0.1, 0.1, 0.1, 0.1]  \n",
       "ffff8529-58c1-4ec8-933e-77f535718061                     [0.1, 0.1, 0.1, 0.1, 0.1, 0.1]  \n",
       "ffff8da3-b79a-48f2-888c-117f2d1a7793                                         [0.1, 0.1]  \n",
       "fffffc08-81e3-4050-9cd6-a5301f79f6f1                     [0.1, 0.1, 0.1, 0.1, 0.1, 0.1]  \n",
       "\n",
       "[155617 rows x 4 columns]"
      ]
     },
     "execution_count": 19,
     "metadata": {},
     "output_type": "execute_result"
    }
   ],
   "source": [
    "# group by Transaction\n",
    "\n",
    "import math\n",
    "import datetime\n",
    "\n",
    "data_raw[\"date\"] = pd.to_datetime(data_raw['event_time']).dt.date\n",
    "max_date = data_raw[\"date\"].max()\n",
    "data_raw[\"margin\"] = 0.1\n",
    "data_raw[\"profit\"] = data_raw[\"price\"] * data_raw[\"margin\"]\n",
    "max_profit = data_raw[\"profit\"].max()\n",
    "\n",
    "data = data_raw.groupby(\"order_id\",dropna=True)[\"product_id\",\"date\",\"price\",\"margin\"].agg(lambda x: list(x))\n",
    "\n",
    "data"
   ]
  },
  {
   "cell_type": "code",
   "execution_count": 20,
   "metadata": {},
   "outputs": [
    {
     "data": {
      "application/vnd.plotly.v1+json": {
       "config": {
        "plotlyServerURL": "https://plot.ly"
       },
       "data": [
        {
         "alignmentgroup": "True",
         "hovertemplate": "index=%{x}<br>y=%{y}<extra></extra>",
         "legendgroup": "",
         "marker": {
          "color": "#636efa",
          "pattern": {
           "shape": ""
          }
         },
         "name": "",
         "offsetgroup": "",
         "orientation": "v",
         "showlegend": false,
         "textposition": "auto",
         "type": "bar",
         "width": 0.5,
         "x": [
          1,
          2,
          3,
          4,
          5,
          6,
          7,
          8,
          9,
          10,
          11,
          12,
          13,
          14,
          15,
          16,
          17,
          18,
          19,
          20
         ],
         "xaxis": "x",
         "y": [
          0.10934585894867721,
          0.11626718242729847,
          0.1178213718311805,
          0.1041997651447123,
          0.0860675554327554,
          0.07333010982938454,
          0.060862057056019894,
          0.05369206327277751,
          0.04649443945568833,
          0.04062996477170685,
          0.033342543344615595,
          0.029743731436071008,
          0.025164053325965323,
          0.02259446017821372,
          0.019147613455826485,
          0.016329350003453754,
          0.013607791669544796,
          0.011984527181045796,
          0.010402707743316985,
          0.008972853491745527
         ],
         "yaxis": "y"
        }
       ],
       "layout": {
        "barmode": "relative",
        "legend": {
         "title": {
          "text": "Transaction Length Dsitribution"
         },
         "tracegroupgap": 0
        },
        "margin": {
         "t": 60
        },
        "template": {
         "data": {
          "bar": [
           {
            "error_x": {
             "color": "#2a3f5f"
            },
            "error_y": {
             "color": "#2a3f5f"
            },
            "marker": {
             "line": {
              "color": "#E5ECF6",
              "width": 0.5
             },
             "pattern": {
              "fillmode": "overlay",
              "size": 10,
              "solidity": 0.2
             }
            },
            "type": "bar"
           }
          ],
          "barpolar": [
           {
            "marker": {
             "line": {
              "color": "#E5ECF6",
              "width": 0.5
             },
             "pattern": {
              "fillmode": "overlay",
              "size": 10,
              "solidity": 0.2
             }
            },
            "type": "barpolar"
           }
          ],
          "carpet": [
           {
            "aaxis": {
             "endlinecolor": "#2a3f5f",
             "gridcolor": "white",
             "linecolor": "white",
             "minorgridcolor": "white",
             "startlinecolor": "#2a3f5f"
            },
            "baxis": {
             "endlinecolor": "#2a3f5f",
             "gridcolor": "white",
             "linecolor": "white",
             "minorgridcolor": "white",
             "startlinecolor": "#2a3f5f"
            },
            "type": "carpet"
           }
          ],
          "choropleth": [
           {
            "colorbar": {
             "outlinewidth": 0,
             "ticks": ""
            },
            "type": "choropleth"
           }
          ],
          "contour": [
           {
            "colorbar": {
             "outlinewidth": 0,
             "ticks": ""
            },
            "colorscale": [
             [
              0,
              "#0d0887"
             ],
             [
              0.1111111111111111,
              "#46039f"
             ],
             [
              0.2222222222222222,
              "#7201a8"
             ],
             [
              0.3333333333333333,
              "#9c179e"
             ],
             [
              0.4444444444444444,
              "#bd3786"
             ],
             [
              0.5555555555555556,
              "#d8576b"
             ],
             [
              0.6666666666666666,
              "#ed7953"
             ],
             [
              0.7777777777777778,
              "#fb9f3a"
             ],
             [
              0.8888888888888888,
              "#fdca26"
             ],
             [
              1,
              "#f0f921"
             ]
            ],
            "type": "contour"
           }
          ],
          "contourcarpet": [
           {
            "colorbar": {
             "outlinewidth": 0,
             "ticks": ""
            },
            "type": "contourcarpet"
           }
          ],
          "heatmap": [
           {
            "colorbar": {
             "outlinewidth": 0,
             "ticks": ""
            },
            "colorscale": [
             [
              0,
              "#0d0887"
             ],
             [
              0.1111111111111111,
              "#46039f"
             ],
             [
              0.2222222222222222,
              "#7201a8"
             ],
             [
              0.3333333333333333,
              "#9c179e"
             ],
             [
              0.4444444444444444,
              "#bd3786"
             ],
             [
              0.5555555555555556,
              "#d8576b"
             ],
             [
              0.6666666666666666,
              "#ed7953"
             ],
             [
              0.7777777777777778,
              "#fb9f3a"
             ],
             [
              0.8888888888888888,
              "#fdca26"
             ],
             [
              1,
              "#f0f921"
             ]
            ],
            "type": "heatmap"
           }
          ],
          "heatmapgl": [
           {
            "colorbar": {
             "outlinewidth": 0,
             "ticks": ""
            },
            "colorscale": [
             [
              0,
              "#0d0887"
             ],
             [
              0.1111111111111111,
              "#46039f"
             ],
             [
              0.2222222222222222,
              "#7201a8"
             ],
             [
              0.3333333333333333,
              "#9c179e"
             ],
             [
              0.4444444444444444,
              "#bd3786"
             ],
             [
              0.5555555555555556,
              "#d8576b"
             ],
             [
              0.6666666666666666,
              "#ed7953"
             ],
             [
              0.7777777777777778,
              "#fb9f3a"
             ],
             [
              0.8888888888888888,
              "#fdca26"
             ],
             [
              1,
              "#f0f921"
             ]
            ],
            "type": "heatmapgl"
           }
          ],
          "histogram": [
           {
            "marker": {
             "pattern": {
              "fillmode": "overlay",
              "size": 10,
              "solidity": 0.2
             }
            },
            "type": "histogram"
           }
          ],
          "histogram2d": [
           {
            "colorbar": {
             "outlinewidth": 0,
             "ticks": ""
            },
            "colorscale": [
             [
              0,
              "#0d0887"
             ],
             [
              0.1111111111111111,
              "#46039f"
             ],
             [
              0.2222222222222222,
              "#7201a8"
             ],
             [
              0.3333333333333333,
              "#9c179e"
             ],
             [
              0.4444444444444444,
              "#bd3786"
             ],
             [
              0.5555555555555556,
              "#d8576b"
             ],
             [
              0.6666666666666666,
              "#ed7953"
             ],
             [
              0.7777777777777778,
              "#fb9f3a"
             ],
             [
              0.8888888888888888,
              "#fdca26"
             ],
             [
              1,
              "#f0f921"
             ]
            ],
            "type": "histogram2d"
           }
          ],
          "histogram2dcontour": [
           {
            "colorbar": {
             "outlinewidth": 0,
             "ticks": ""
            },
            "colorscale": [
             [
              0,
              "#0d0887"
             ],
             [
              0.1111111111111111,
              "#46039f"
             ],
             [
              0.2222222222222222,
              "#7201a8"
             ],
             [
              0.3333333333333333,
              "#9c179e"
             ],
             [
              0.4444444444444444,
              "#bd3786"
             ],
             [
              0.5555555555555556,
              "#d8576b"
             ],
             [
              0.6666666666666666,
              "#ed7953"
             ],
             [
              0.7777777777777778,
              "#fb9f3a"
             ],
             [
              0.8888888888888888,
              "#fdca26"
             ],
             [
              1,
              "#f0f921"
             ]
            ],
            "type": "histogram2dcontour"
           }
          ],
          "mesh3d": [
           {
            "colorbar": {
             "outlinewidth": 0,
             "ticks": ""
            },
            "type": "mesh3d"
           }
          ],
          "parcoords": [
           {
            "line": {
             "colorbar": {
              "outlinewidth": 0,
              "ticks": ""
             }
            },
            "type": "parcoords"
           }
          ],
          "pie": [
           {
            "automargin": true,
            "type": "pie"
           }
          ],
          "scatter": [
           {
            "fillpattern": {
             "fillmode": "overlay",
             "size": 10,
             "solidity": 0.2
            },
            "type": "scatter"
           }
          ],
          "scatter3d": [
           {
            "line": {
             "colorbar": {
              "outlinewidth": 0,
              "ticks": ""
             }
            },
            "marker": {
             "colorbar": {
              "outlinewidth": 0,
              "ticks": ""
             }
            },
            "type": "scatter3d"
           }
          ],
          "scattercarpet": [
           {
            "marker": {
             "colorbar": {
              "outlinewidth": 0,
              "ticks": ""
             }
            },
            "type": "scattercarpet"
           }
          ],
          "scattergeo": [
           {
            "marker": {
             "colorbar": {
              "outlinewidth": 0,
              "ticks": ""
             }
            },
            "type": "scattergeo"
           }
          ],
          "scattergl": [
           {
            "marker": {
             "colorbar": {
              "outlinewidth": 0,
              "ticks": ""
             }
            },
            "type": "scattergl"
           }
          ],
          "scattermapbox": [
           {
            "marker": {
             "colorbar": {
              "outlinewidth": 0,
              "ticks": ""
             }
            },
            "type": "scattermapbox"
           }
          ],
          "scatterpolar": [
           {
            "marker": {
             "colorbar": {
              "outlinewidth": 0,
              "ticks": ""
             }
            },
            "type": "scatterpolar"
           }
          ],
          "scatterpolargl": [
           {
            "marker": {
             "colorbar": {
              "outlinewidth": 0,
              "ticks": ""
             }
            },
            "type": "scatterpolargl"
           }
          ],
          "scatterternary": [
           {
            "marker": {
             "colorbar": {
              "outlinewidth": 0,
              "ticks": ""
             }
            },
            "type": "scatterternary"
           }
          ],
          "surface": [
           {
            "colorbar": {
             "outlinewidth": 0,
             "ticks": ""
            },
            "colorscale": [
             [
              0,
              "#0d0887"
             ],
             [
              0.1111111111111111,
              "#46039f"
             ],
             [
              0.2222222222222222,
              "#7201a8"
             ],
             [
              0.3333333333333333,
              "#9c179e"
             ],
             [
              0.4444444444444444,
              "#bd3786"
             ],
             [
              0.5555555555555556,
              "#d8576b"
             ],
             [
              0.6666666666666666,
              "#ed7953"
             ],
             [
              0.7777777777777778,
              "#fb9f3a"
             ],
             [
              0.8888888888888888,
              "#fdca26"
             ],
             [
              1,
              "#f0f921"
             ]
            ],
            "type": "surface"
           }
          ],
          "table": [
           {
            "cells": {
             "fill": {
              "color": "#EBF0F8"
             },
             "line": {
              "color": "white"
             }
            },
            "header": {
             "fill": {
              "color": "#C8D4E3"
             },
             "line": {
              "color": "white"
             }
            },
            "type": "table"
           }
          ]
         },
         "layout": {
          "annotationdefaults": {
           "arrowcolor": "#2a3f5f",
           "arrowhead": 0,
           "arrowwidth": 1
          },
          "autotypenumbers": "strict",
          "coloraxis": {
           "colorbar": {
            "outlinewidth": 0,
            "ticks": ""
           }
          },
          "colorscale": {
           "diverging": [
            [
             0,
             "#8e0152"
            ],
            [
             0.1,
             "#c51b7d"
            ],
            [
             0.2,
             "#de77ae"
            ],
            [
             0.3,
             "#f1b6da"
            ],
            [
             0.4,
             "#fde0ef"
            ],
            [
             0.5,
             "#f7f7f7"
            ],
            [
             0.6,
             "#e6f5d0"
            ],
            [
             0.7,
             "#b8e186"
            ],
            [
             0.8,
             "#7fbc41"
            ],
            [
             0.9,
             "#4d9221"
            ],
            [
             1,
             "#276419"
            ]
           ],
           "sequential": [
            [
             0,
             "#0d0887"
            ],
            [
             0.1111111111111111,
             "#46039f"
            ],
            [
             0.2222222222222222,
             "#7201a8"
            ],
            [
             0.3333333333333333,
             "#9c179e"
            ],
            [
             0.4444444444444444,
             "#bd3786"
            ],
            [
             0.5555555555555556,
             "#d8576b"
            ],
            [
             0.6666666666666666,
             "#ed7953"
            ],
            [
             0.7777777777777778,
             "#fb9f3a"
            ],
            [
             0.8888888888888888,
             "#fdca26"
            ],
            [
             1,
             "#f0f921"
            ]
           ],
           "sequentialminus": [
            [
             0,
             "#0d0887"
            ],
            [
             0.1111111111111111,
             "#46039f"
            ],
            [
             0.2222222222222222,
             "#7201a8"
            ],
            [
             0.3333333333333333,
             "#9c179e"
            ],
            [
             0.4444444444444444,
             "#bd3786"
            ],
            [
             0.5555555555555556,
             "#d8576b"
            ],
            [
             0.6666666666666666,
             "#ed7953"
            ],
            [
             0.7777777777777778,
             "#fb9f3a"
            ],
            [
             0.8888888888888888,
             "#fdca26"
            ],
            [
             1,
             "#f0f921"
            ]
           ]
          },
          "colorway": [
           "#636efa",
           "#EF553B",
           "#00cc96",
           "#ab63fa",
           "#FFA15A",
           "#19d3f3",
           "#FF6692",
           "#B6E880",
           "#FF97FF",
           "#FECB52"
          ],
          "font": {
           "color": "#2a3f5f"
          },
          "geo": {
           "bgcolor": "white",
           "lakecolor": "white",
           "landcolor": "#E5ECF6",
           "showlakes": true,
           "showland": true,
           "subunitcolor": "white"
          },
          "hoverlabel": {
           "align": "left"
          },
          "hovermode": "closest",
          "mapbox": {
           "style": "light"
          },
          "paper_bgcolor": "white",
          "plot_bgcolor": "#E5ECF6",
          "polar": {
           "angularaxis": {
            "gridcolor": "white",
            "linecolor": "white",
            "ticks": ""
           },
           "bgcolor": "#E5ECF6",
           "radialaxis": {
            "gridcolor": "white",
            "linecolor": "white",
            "ticks": ""
           }
          },
          "scene": {
           "xaxis": {
            "backgroundcolor": "#E5ECF6",
            "gridcolor": "white",
            "gridwidth": 2,
            "linecolor": "white",
            "showbackground": true,
            "ticks": "",
            "zerolinecolor": "white"
           },
           "yaxis": {
            "backgroundcolor": "#E5ECF6",
            "gridcolor": "white",
            "gridwidth": 2,
            "linecolor": "white",
            "showbackground": true,
            "ticks": "",
            "zerolinecolor": "white"
           },
           "zaxis": {
            "backgroundcolor": "#E5ECF6",
            "gridcolor": "white",
            "gridwidth": 2,
            "linecolor": "white",
            "showbackground": true,
            "ticks": "",
            "zerolinecolor": "white"
           }
          },
          "shapedefaults": {
           "line": {
            "color": "#2a3f5f"
           }
          },
          "ternary": {
           "aaxis": {
            "gridcolor": "white",
            "linecolor": "white",
            "ticks": ""
           },
           "baxis": {
            "gridcolor": "white",
            "linecolor": "white",
            "ticks": ""
           },
           "bgcolor": "#E5ECF6",
           "caxis": {
            "gridcolor": "white",
            "linecolor": "white",
            "ticks": ""
           }
          },
          "title": {
           "x": 0.05
          },
          "xaxis": {
           "automargin": true,
           "gridcolor": "white",
           "linecolor": "white",
           "ticks": "",
           "title": {
            "standoff": 15
           },
           "zerolinecolor": "white",
           "zerolinewidth": 2
          },
          "yaxis": {
           "automargin": true,
           "gridcolor": "white",
           "linecolor": "white",
           "ticks": "",
           "title": {
            "standoff": 15
           },
           "zerolinecolor": "white",
           "zerolinewidth": 2
          }
         }
        },
        "xaxis": {
         "anchor": "y",
         "domain": [
          0,
          1
         ],
         "title": {
          "text": "Number of items per transaction"
         }
        },
        "yaxis": {
         "anchor": "x",
         "domain": [
          0,
          1
         ],
         "tickformat": ",.0%",
         "title": {
          "text": "Distribution (%)"
         }
        }
       }
      }
     },
     "metadata": {},
     "output_type": "display_data"
    }
   ],
   "source": [
    "# Length of transactions\n",
    "\n",
    "import seaborn as sns\n",
    "\n",
    "length_of_transactions = data[\"product_id\"].apply(len).value_counts()\n",
    "length_of_transactions = length_of_transactions.sort_index(ascending=True).head(20) # For graph only shop top 20\n",
    "length_of_transactions.rename_axis(\"frequency\")\n",
    "\n",
    "\n",
    "total = length_of_transactions.sum()\n",
    "\n",
    "import plotly.express as px\n",
    "fig = px.bar(length_of_transactions, x=length_of_transactions.index, y=length_of_transactions.values/total)\n",
    "fig.update_traces(width=0.5)\n",
    "fig.update_layout(\n",
    "    xaxis_title=\"Number of items per transaction\",\n",
    "    yaxis_tickformat =',.0%',\n",
    "    yaxis_title=\"Distribution (%)\",\n",
    "    legend_title=\"Transaction Length Dsitribution\",)\n",
    "\n",
    "fig.show()"
   ]
  },
  {
   "cell_type": "code",
   "execution_count": 21,
   "metadata": {},
   "outputs": [
    {
     "data": {
      "text/html": [
       "<div>\n",
       "<style scoped>\n",
       "    .dataframe tbody tr th:only-of-type {\n",
       "        vertical-align: middle;\n",
       "    }\n",
       "\n",
       "    .dataframe tbody tr th {\n",
       "        vertical-align: top;\n",
       "    }\n",
       "\n",
       "    .dataframe thead th {\n",
       "        text-align: right;\n",
       "    }\n",
       "</style>\n",
       "<table border=\"1\" class=\"dataframe\">\n",
       "  <thead>\n",
       "    <tr style=\"text-align: right;\">\n",
       "      <th></th>\n",
       "      <th>product_id</th>\n",
       "      <th>category_id</th>\n",
       "      <th>category_code</th>\n",
       "      <th>brand</th>\n",
       "      <th>price</th>\n",
       "    </tr>\n",
       "  </thead>\n",
       "  <tbody>\n",
       "    <tr>\n",
       "      <th>0</th>\n",
       "      <td>4554</td>\n",
       "      <td>1487580010796548183</td>\n",
       "      <td>nan</td>\n",
       "      <td>runail</td>\n",
       "      <td>0.38</td>\n",
       "    </tr>\n",
       "    <tr>\n",
       "      <th>1</th>\n",
       "      <td>4600</td>\n",
       "      <td>1487580010796548183</td>\n",
       "      <td>nan</td>\n",
       "      <td>runail</td>\n",
       "      <td>0.38</td>\n",
       "    </tr>\n",
       "    <tr>\n",
       "      <th>2</th>\n",
       "      <td>4607</td>\n",
       "      <td>1487580010796548183</td>\n",
       "      <td>nan</td>\n",
       "      <td>runail</td>\n",
       "      <td>0.38</td>\n",
       "    </tr>\n",
       "    <tr>\n",
       "      <th>3</th>\n",
       "      <td>4640</td>\n",
       "      <td>1487580011157258342</td>\n",
       "      <td>nan</td>\n",
       "      <td>runail</td>\n",
       "      <td>0.37</td>\n",
       "    </tr>\n",
       "    <tr>\n",
       "      <th>4</th>\n",
       "      <td>4689</td>\n",
       "      <td>1487580010796548183</td>\n",
       "      <td>nan</td>\n",
       "      <td>runail</td>\n",
       "      <td>0.38</td>\n",
       "    </tr>\n",
       "    <tr>\n",
       "      <th>...</th>\n",
       "      <td>...</td>\n",
       "      <td>...</td>\n",
       "      <td>...</td>\n",
       "      <td>...</td>\n",
       "      <td>...</td>\n",
       "    </tr>\n",
       "    <tr>\n",
       "      <th>1285867</th>\n",
       "      <td>5913479</td>\n",
       "      <td>1542195323827388674</td>\n",
       "      <td>nan</td>\n",
       "      <td>dermacol</td>\n",
       "      <td>13.97</td>\n",
       "    </tr>\n",
       "    <tr>\n",
       "      <th>1285868</th>\n",
       "      <td>5915330</td>\n",
       "      <td>1542195323827388674</td>\n",
       "      <td>nan</td>\n",
       "      <td>dermacol</td>\n",
       "      <td>19.05</td>\n",
       "    </tr>\n",
       "    <tr>\n",
       "      <th>1286757</th>\n",
       "      <td>5923045</td>\n",
       "      <td>1487580007675986893</td>\n",
       "      <td>nan</td>\n",
       "      <td>nan</td>\n",
       "      <td>1.43</td>\n",
       "    </tr>\n",
       "    <tr>\n",
       "      <th>1286948</th>\n",
       "      <td>5889114</td>\n",
       "      <td>2134354342373753638</td>\n",
       "      <td>nan</td>\n",
       "      <td>nan</td>\n",
       "      <td>3.49</td>\n",
       "    </tr>\n",
       "    <tr>\n",
       "      <th>1286953</th>\n",
       "      <td>5889161</td>\n",
       "      <td>2134354342373753638</td>\n",
       "      <td>nan</td>\n",
       "      <td>nan</td>\n",
       "      <td>3.49</td>\n",
       "    </tr>\n",
       "  </tbody>\n",
       "</table>\n",
       "<p>40777 rows × 5 columns</p>\n",
       "</div>"
      ],
      "text/plain": [
       "        product_id          category_id category_code     brand  price\n",
       "0             4554  1487580010796548183           nan    runail   0.38\n",
       "1             4600  1487580010796548183           nan    runail   0.38\n",
       "2             4607  1487580010796548183           nan    runail   0.38\n",
       "3             4640  1487580011157258342           nan    runail   0.37\n",
       "4             4689  1487580010796548183           nan    runail   0.38\n",
       "...            ...                  ...           ...       ...    ...\n",
       "1285867    5913479  1542195323827388674           nan  dermacol  13.97\n",
       "1285868    5915330  1542195323827388674           nan  dermacol  19.05\n",
       "1286757    5923045  1487580007675986893           nan       nan   1.43\n",
       "1286948    5889114  2134354342373753638           nan       nan   3.49\n",
       "1286953    5889161  2134354342373753638           nan       nan   3.49\n",
       "\n",
       "[40777 rows x 5 columns]"
      ]
     },
     "execution_count": 21,
     "metadata": {},
     "output_type": "execute_result"
    }
   ],
   "source": [
    "unique_items = data_raw[[\"product_id\",\"category_id\",\"category_code\",\"brand\",\"price\"]].drop_duplicates(subset = \"product_id\").astype(\"str\")\n",
    "\n",
    "\n",
    "unique_items"
   ]
  },
  {
   "cell_type": "code",
   "execution_count": 22,
   "metadata": {},
   "outputs": [
    {
     "data": {
      "text/plain": [
       "7.056675331682017"
      ]
     },
     "execution_count": 22,
     "metadata": {},
     "output_type": "execute_result"
    }
   ],
   "source": [
    "unique_items[\"price\"].astype(\"float\").median()\n",
    "unique_items[\"price\"].astype(\"float\").mean()"
   ]
  },
  {
   "cell_type": "code",
   "execution_count": 64,
   "metadata": {},
   "outputs": [
    {
     "name": "stderr",
     "output_type": "stream",
     "text": [
      "C:\\Users\\david\\AppData\\Local\\Temp/ipykernel_27340/16707732.py:7: FutureWarning:\n",
      "\n",
      "Indexing with multiple keys (implicitly converted to a tuple of keys) will be deprecated, use a list instead.\n",
      "\n"
     ]
    },
    {
     "data": {
      "text/html": [
       "<div>\n",
       "<style scoped>\n",
       "    .dataframe tbody tr th:only-of-type {\n",
       "        vertical-align: middle;\n",
       "    }\n",
       "\n",
       "    .dataframe tbody tr th {\n",
       "        vertical-align: top;\n",
       "    }\n",
       "\n",
       "    .dataframe thead th {\n",
       "        text-align: right;\n",
       "    }\n",
       "</style>\n",
       "<table border=\"1\" class=\"dataframe\">\n",
       "  <thead>\n",
       "    <tr style=\"text-align: right;\">\n",
       "      <th></th>\n",
       "      <th>product_id</th>\n",
       "      <th>date</th>\n",
       "      <th>price</th>\n",
       "      <th>margin</th>\n",
       "    </tr>\n",
       "    <tr>\n",
       "      <th>order_id</th>\n",
       "      <th></th>\n",
       "      <th></th>\n",
       "      <th></th>\n",
       "      <th></th>\n",
       "    </tr>\n",
       "  </thead>\n",
       "  <tbody>\n",
       "    <tr>\n",
       "      <th>000013d6-68a4-40cf-9452-6577dbfab515</th>\n",
       "      <td>[5889104, 5878254, 5875502, 5859210, 5739125, ...</td>\n",
       "      <td>[2019-10-23, 2019-10-23, 2019-10-23, 2019-10-2...</td>\n",
       "      <td>[4.76, 5.56, 1.75, 0.48, 4.4, 5.22, 0.48, 5.08...</td>\n",
       "      <td>[0.1, 0.1, 0.1, 0.1, 0.1, 0.1, 0.1, 0.1, 0.1]</td>\n",
       "    </tr>\n",
       "    <tr>\n",
       "      <th>00008836-6d96-4580-8527-173d4e1b2889</th>\n",
       "      <td>[5730402, 5853682, 5839703, 5839663, 5839660, ...</td>\n",
       "      <td>[2019-10-02, 2019-10-02, 2019-10-02, 2019-10-0...</td>\n",
       "      <td>[7.86, 3.63, 1.73, 2.37, 2.37, 1.73, 1.73, 1.4...</td>\n",
       "      <td>[0.1, 0.1, 0.1, 0.1, 0.1, 0.1, 0.1, 0.1, 0.1, ...</td>\n",
       "    </tr>\n",
       "    <tr>\n",
       "      <th>0000d04d-3516-42ea-bdb9-584e92ce619e</th>\n",
       "      <td>[5809100, 5809101, 5854897, 5888573]</td>\n",
       "      <td>[2020-02-15, 2020-02-15, 2020-02-15, 2020-02-15]</td>\n",
       "      <td>[1.59, 1.59, 0.32, 3.33]</td>\n",
       "      <td>[0.1, 0.1, 0.1, 0.1]</td>\n",
       "    </tr>\n",
       "    <tr>\n",
       "      <th>0001981a-ee7c-4542-bf81-2cea59d963ab</th>\n",
       "      <td>[5839084, 5788435, 5743913, 5743912, 5677989, ...</td>\n",
       "      <td>[2019-10-05, 2019-10-05, 2019-10-05, 2019-10-0...</td>\n",
       "      <td>[4.86, 0.79, 3.97, 3.97, 8.73, 1.43]</td>\n",
       "      <td>[0.1, 0.1, 0.1, 0.1, 0.1, 0.1]</td>\n",
       "    </tr>\n",
       "    <tr>\n",
       "      <th>000277a9-30da-4bb2-b5ad-96ef24483af8</th>\n",
       "      <td>[5815567, 5815568, 5815569, 5815570, 5815571]</td>\n",
       "      <td>[2019-12-14, 2019-12-14, 2019-12-14, 2019-12-1...</td>\n",
       "      <td>[0.71, 0.71, 0.71, 0.71, 0.71]</td>\n",
       "      <td>[0.1, 0.1, 0.1, 0.1, 0.1]</td>\n",
       "    </tr>\n",
       "    <tr>\n",
       "      <th>...</th>\n",
       "      <td>...</td>\n",
       "      <td>...</td>\n",
       "      <td>...</td>\n",
       "      <td>...</td>\n",
       "    </tr>\n",
       "    <tr>\n",
       "      <th>fffee574-c72f-03cf-4d2a-5188047c4cef</th>\n",
       "      <td>[5560968, 5857357, 5695534, 5723501, 5734268, ...</td>\n",
       "      <td>[2019-12-24, 2019-12-24, 2019-12-24, 2019-12-2...</td>\n",
       "      <td>[3.0, 2.78, 3.33, 2.62, 3.97, 6.19, 3.33, 3.0,...</td>\n",
       "      <td>[0.1, 0.1, 0.1, 0.1, 0.1, 0.1, 0.1, 0.1, 0.1]</td>\n",
       "    </tr>\n",
       "    <tr>\n",
       "      <th>ffff78e3-1e8f-4eda-bb42-95749ab4f42e</th>\n",
       "      <td>[5686083, 5710585, 5776129, 5776130, 5776132]</td>\n",
       "      <td>[2020-02-21, 2020-02-21, 2020-02-21, 2020-02-2...</td>\n",
       "      <td>[0.79, 1.43, 2.7, 1.98, 2.7]</td>\n",
       "      <td>[0.1, 0.1, 0.1, 0.1, 0.1]</td>\n",
       "    </tr>\n",
       "    <tr>\n",
       "      <th>ffff8529-58c1-4ec8-933e-77f535718061</th>\n",
       "      <td>[5875389, 5859403, 5839651, 5752164, 5727536, ...</td>\n",
       "      <td>[2019-10-13, 2019-10-13, 2019-10-13, 2019-10-1...</td>\n",
       "      <td>[2.05, 2.37, 2.37, 3.97, 2.7, 1.73]</td>\n",
       "      <td>[0.1, 0.1, 0.1, 0.1, 0.1, 0.1]</td>\n",
       "    </tr>\n",
       "    <tr>\n",
       "      <th>ffff8da3-b79a-48f2-888c-117f2d1a7793</th>\n",
       "      <td>[5816170, 5899849]</td>\n",
       "      <td>[2020-02-12, 2020-02-12]</td>\n",
       "      <td>[5.24, 4.46]</td>\n",
       "      <td>[0.1, 0.1]</td>\n",
       "    </tr>\n",
       "    <tr>\n",
       "      <th>fffffc08-81e3-4050-9cd6-a5301f79f6f1</th>\n",
       "      <td>[5753487, 5785422, 5802162, 5832415, 5846442, ...</td>\n",
       "      <td>[2020-02-09, 2020-02-09, 2020-02-09, 2020-02-0...</td>\n",
       "      <td>[13.02, 3.16, 23.81, 2.38, 19.52, 19.52]</td>\n",
       "      <td>[0.1, 0.1, 0.1, 0.1, 0.1, 0.1]</td>\n",
       "    </tr>\n",
       "  </tbody>\n",
       "</table>\n",
       "<p>155617 rows × 4 columns</p>\n",
       "</div>"
      ],
      "text/plain": [
       "                                                                             product_id  \\\n",
       "order_id                                                                                  \n",
       "000013d6-68a4-40cf-9452-6577dbfab515  [5889104, 5878254, 5875502, 5859210, 5739125, ...   \n",
       "00008836-6d96-4580-8527-173d4e1b2889  [5730402, 5853682, 5839703, 5839663, 5839660, ...   \n",
       "0000d04d-3516-42ea-bdb9-584e92ce619e               [5809100, 5809101, 5854897, 5888573]   \n",
       "0001981a-ee7c-4542-bf81-2cea59d963ab  [5839084, 5788435, 5743913, 5743912, 5677989, ...   \n",
       "000277a9-30da-4bb2-b5ad-96ef24483af8      [5815567, 5815568, 5815569, 5815570, 5815571]   \n",
       "...                                                                                 ...   \n",
       "fffee574-c72f-03cf-4d2a-5188047c4cef  [5560968, 5857357, 5695534, 5723501, 5734268, ...   \n",
       "ffff78e3-1e8f-4eda-bb42-95749ab4f42e      [5686083, 5710585, 5776129, 5776130, 5776132]   \n",
       "ffff8529-58c1-4ec8-933e-77f535718061  [5875389, 5859403, 5839651, 5752164, 5727536, ...   \n",
       "ffff8da3-b79a-48f2-888c-117f2d1a7793                                 [5816170, 5899849]   \n",
       "fffffc08-81e3-4050-9cd6-a5301f79f6f1  [5753487, 5785422, 5802162, 5832415, 5846442, ...   \n",
       "\n",
       "                                                                                   date  \\\n",
       "order_id                                                                                  \n",
       "000013d6-68a4-40cf-9452-6577dbfab515  [2019-10-23, 2019-10-23, 2019-10-23, 2019-10-2...   \n",
       "00008836-6d96-4580-8527-173d4e1b2889  [2019-10-02, 2019-10-02, 2019-10-02, 2019-10-0...   \n",
       "0000d04d-3516-42ea-bdb9-584e92ce619e   [2020-02-15, 2020-02-15, 2020-02-15, 2020-02-15]   \n",
       "0001981a-ee7c-4542-bf81-2cea59d963ab  [2019-10-05, 2019-10-05, 2019-10-05, 2019-10-0...   \n",
       "000277a9-30da-4bb2-b5ad-96ef24483af8  [2019-12-14, 2019-12-14, 2019-12-14, 2019-12-1...   \n",
       "...                                                                                 ...   \n",
       "fffee574-c72f-03cf-4d2a-5188047c4cef  [2019-12-24, 2019-12-24, 2019-12-24, 2019-12-2...   \n",
       "ffff78e3-1e8f-4eda-bb42-95749ab4f42e  [2020-02-21, 2020-02-21, 2020-02-21, 2020-02-2...   \n",
       "ffff8529-58c1-4ec8-933e-77f535718061  [2019-10-13, 2019-10-13, 2019-10-13, 2019-10-1...   \n",
       "ffff8da3-b79a-48f2-888c-117f2d1a7793                           [2020-02-12, 2020-02-12]   \n",
       "fffffc08-81e3-4050-9cd6-a5301f79f6f1  [2020-02-09, 2020-02-09, 2020-02-09, 2020-02-0...   \n",
       "\n",
       "                                                                                  price  \\\n",
       "order_id                                                                                  \n",
       "000013d6-68a4-40cf-9452-6577dbfab515  [4.76, 5.56, 1.75, 0.48, 4.4, 5.22, 0.48, 5.08...   \n",
       "00008836-6d96-4580-8527-173d4e1b2889  [7.86, 3.63, 1.73, 2.37, 2.37, 1.73, 1.73, 1.4...   \n",
       "0000d04d-3516-42ea-bdb9-584e92ce619e                           [1.59, 1.59, 0.32, 3.33]   \n",
       "0001981a-ee7c-4542-bf81-2cea59d963ab               [4.86, 0.79, 3.97, 3.97, 8.73, 1.43]   \n",
       "000277a9-30da-4bb2-b5ad-96ef24483af8                     [0.71, 0.71, 0.71, 0.71, 0.71]   \n",
       "...                                                                                 ...   \n",
       "fffee574-c72f-03cf-4d2a-5188047c4cef  [3.0, 2.78, 3.33, 2.62, 3.97, 6.19, 3.33, 3.0,...   \n",
       "ffff78e3-1e8f-4eda-bb42-95749ab4f42e                       [0.79, 1.43, 2.7, 1.98, 2.7]   \n",
       "ffff8529-58c1-4ec8-933e-77f535718061                [2.05, 2.37, 2.37, 3.97, 2.7, 1.73]   \n",
       "ffff8da3-b79a-48f2-888c-117f2d1a7793                                       [5.24, 4.46]   \n",
       "fffffc08-81e3-4050-9cd6-a5301f79f6f1           [13.02, 3.16, 23.81, 2.38, 19.52, 19.52]   \n",
       "\n",
       "                                                                                 margin  \n",
       "order_id                                                                                 \n",
       "000013d6-68a4-40cf-9452-6577dbfab515      [0.1, 0.1, 0.1, 0.1, 0.1, 0.1, 0.1, 0.1, 0.1]  \n",
       "00008836-6d96-4580-8527-173d4e1b2889  [0.1, 0.1, 0.1, 0.1, 0.1, 0.1, 0.1, 0.1, 0.1, ...  \n",
       "0000d04d-3516-42ea-bdb9-584e92ce619e                               [0.1, 0.1, 0.1, 0.1]  \n",
       "0001981a-ee7c-4542-bf81-2cea59d963ab                     [0.1, 0.1, 0.1, 0.1, 0.1, 0.1]  \n",
       "000277a9-30da-4bb2-b5ad-96ef24483af8                          [0.1, 0.1, 0.1, 0.1, 0.1]  \n",
       "...                                                                                 ...  \n",
       "fffee574-c72f-03cf-4d2a-5188047c4cef      [0.1, 0.1, 0.1, 0.1, 0.1, 0.1, 0.1, 0.1, 0.1]  \n",
       "ffff78e3-1e8f-4eda-bb42-95749ab4f42e                          [0.1, 0.1, 0.1, 0.1, 0.1]  \n",
       "ffff8529-58c1-4ec8-933e-77f535718061                     [0.1, 0.1, 0.1, 0.1, 0.1, 0.1]  \n",
       "ffff8da3-b79a-48f2-888c-117f2d1a7793                                         [0.1, 0.1]  \n",
       "fffffc08-81e3-4050-9cd6-a5301f79f6f1                     [0.1, 0.1, 0.1, 0.1, 0.1, 0.1]  \n",
       "\n",
       "[155617 rows x 4 columns]"
      ]
     },
     "execution_count": 64,
     "metadata": {},
     "output_type": "execute_result"
    }
   ],
   "source": [
    "data_raw[\"date\"] = pd.to_datetime(data_raw['event_time']).dt.date\n",
    "max_date = data_raw[\"date\"].max()\n",
    "data_raw[\"margin\"] = 0.1\n",
    "data_raw[\"profit\"] = data_raw[\"price\"] * data_raw[\"margin\"]\n",
    "max_profit = data_raw[\"profit\"].max()\n",
    "\n",
    "data = data_raw.groupby(\"order_id\",dropna=True)[\"product_id\",\"date\",\"price\",\"margin\"].agg(lambda x: list(x))\n",
    "\n",
    "data"
   ]
  },
  {
   "cell_type": "markdown",
   "metadata": {},
   "source": [
    "#### 3.1.1 Classical Association Rules"
   ]
  },
  {
   "cell_type": "code",
   "execution_count": 37,
   "metadata": {},
   "outputs": [
    {
     "data": {
      "text/html": [
       "<div>\n",
       "<style scoped>\n",
       "    .dataframe tbody tr th:only-of-type {\n",
       "        vertical-align: middle;\n",
       "    }\n",
       "\n",
       "    .dataframe tbody tr th {\n",
       "        vertical-align: top;\n",
       "    }\n",
       "\n",
       "    .dataframe thead th {\n",
       "        text-align: right;\n",
       "    }\n",
       "</style>\n",
       "<table border=\"1\" class=\"dataframe\">\n",
       "  <thead>\n",
       "    <tr style=\"text-align: right;\">\n",
       "      <th></th>\n",
       "      <th>antecedent</th>\n",
       "      <th>sup_antecedent</th>\n",
       "      <th>percSupAntecedent</th>\n",
       "      <th>consequent</th>\n",
       "      <th>sup_consequent</th>\n",
       "      <th>percSupConsequent</th>\n",
       "      <th>antecedent&amp;consequent</th>\n",
       "      <th>sup_ant&amp;cons</th>\n",
       "      <th>sup_perc_ant&amp;cons</th>\n",
       "      <th>confidence</th>\n",
       "      <th>lift</th>\n",
       "      <th>improvement</th>\n",
       "    </tr>\n",
       "  </thead>\n",
       "  <tbody>\n",
       "    <tr>\n",
       "      <th>0</th>\n",
       "      <td>[]</td>\n",
       "      <td>NA</td>\n",
       "      <td>NA</td>\n",
       "      <td>[5809910]</td>\n",
       "      <td>7458</td>\n",
       "      <td>0.047925</td>\n",
       "      <td>[5809910]</td>\n",
       "      <td>7458</td>\n",
       "      <td>0.047925</td>\n",
       "      <td>NA</td>\n",
       "      <td>NA</td>\n",
       "      <td>NA</td>\n",
       "    </tr>\n",
       "    <tr>\n",
       "      <th>1</th>\n",
       "      <td>[]</td>\n",
       "      <td>NA</td>\n",
       "      <td>NA</td>\n",
       "      <td>[5854897]</td>\n",
       "      <td>4593</td>\n",
       "      <td>0.029515</td>\n",
       "      <td>[5854897]</td>\n",
       "      <td>4593</td>\n",
       "      <td>0.029515</td>\n",
       "      <td>NA</td>\n",
       "      <td>NA</td>\n",
       "      <td>NA</td>\n",
       "    </tr>\n",
       "    <tr>\n",
       "      <th>2</th>\n",
       "      <td>[]</td>\n",
       "      <td>NA</td>\n",
       "      <td>NA</td>\n",
       "      <td>[5700037]</td>\n",
       "      <td>3623</td>\n",
       "      <td>0.023282</td>\n",
       "      <td>[5700037]</td>\n",
       "      <td>3623</td>\n",
       "      <td>0.023282</td>\n",
       "      <td>NA</td>\n",
       "      <td>NA</td>\n",
       "      <td>NA</td>\n",
       "    </tr>\n",
       "    <tr>\n",
       "      <th>3</th>\n",
       "      <td>[]</td>\n",
       "      <td>NA</td>\n",
       "      <td>NA</td>\n",
       "      <td>[5802432]</td>\n",
       "      <td>3486</td>\n",
       "      <td>0.022401</td>\n",
       "      <td>[5802432]</td>\n",
       "      <td>3486</td>\n",
       "      <td>0.022401</td>\n",
       "      <td>NA</td>\n",
       "      <td>NA</td>\n",
       "      <td>NA</td>\n",
       "    </tr>\n",
       "    <tr>\n",
       "      <th>4</th>\n",
       "      <td>[]</td>\n",
       "      <td>NA</td>\n",
       "      <td>NA</td>\n",
       "      <td>[5751422]</td>\n",
       "      <td>3457</td>\n",
       "      <td>0.022215</td>\n",
       "      <td>[5751422]</td>\n",
       "      <td>3457</td>\n",
       "      <td>0.022215</td>\n",
       "      <td>NA</td>\n",
       "      <td>NA</td>\n",
       "      <td>NA</td>\n",
       "    </tr>\n",
       "    <tr>\n",
       "      <th>5</th>\n",
       "      <td>[]</td>\n",
       "      <td>NA</td>\n",
       "      <td>NA</td>\n",
       "      <td>[5809912]</td>\n",
       "      <td>3272</td>\n",
       "      <td>0.021026</td>\n",
       "      <td>[5809912]</td>\n",
       "      <td>3272</td>\n",
       "      <td>0.021026</td>\n",
       "      <td>NA</td>\n",
       "      <td>NA</td>\n",
       "      <td>NA</td>\n",
       "    </tr>\n",
       "    <tr>\n",
       "      <th>6</th>\n",
       "      <td>[]</td>\n",
       "      <td>NA</td>\n",
       "      <td>NA</td>\n",
       "      <td>[5815662]</td>\n",
       "      <td>3206</td>\n",
       "      <td>0.020602</td>\n",
       "      <td>[5815662]</td>\n",
       "      <td>3206</td>\n",
       "      <td>0.020602</td>\n",
       "      <td>NA</td>\n",
       "      <td>NA</td>\n",
       "      <td>NA</td>\n",
       "    </tr>\n",
       "    <tr>\n",
       "      <th>7</th>\n",
       "      <td>[]</td>\n",
       "      <td>NA</td>\n",
       "      <td>NA</td>\n",
       "      <td>[5304]</td>\n",
       "      <td>3102</td>\n",
       "      <td>0.019934</td>\n",
       "      <td>[5304]</td>\n",
       "      <td>3102</td>\n",
       "      <td>0.019934</td>\n",
       "      <td>NA</td>\n",
       "      <td>NA</td>\n",
       "      <td>NA</td>\n",
       "    </tr>\n",
       "    <tr>\n",
       "      <th>8</th>\n",
       "      <td>[]</td>\n",
       "      <td>NA</td>\n",
       "      <td>NA</td>\n",
       "      <td>[5751383]</td>\n",
       "      <td>2912</td>\n",
       "      <td>0.018713</td>\n",
       "      <td>[5751383]</td>\n",
       "      <td>2912</td>\n",
       "      <td>0.018713</td>\n",
       "      <td>NA</td>\n",
       "      <td>NA</td>\n",
       "      <td>NA</td>\n",
       "    </tr>\n",
       "    <tr>\n",
       "      <th>9</th>\n",
       "      <td>[]</td>\n",
       "      <td>NA</td>\n",
       "      <td>NA</td>\n",
       "      <td>[5849033]</td>\n",
       "      <td>2753</td>\n",
       "      <td>0.017691</td>\n",
       "      <td>[5849033]</td>\n",
       "      <td>2753</td>\n",
       "      <td>0.017691</td>\n",
       "      <td>NA</td>\n",
       "      <td>NA</td>\n",
       "      <td>NA</td>\n",
       "    </tr>\n",
       "    <tr>\n",
       "      <th>10</th>\n",
       "      <td>[]</td>\n",
       "      <td>NA</td>\n",
       "      <td>NA</td>\n",
       "      <td>[5792800]</td>\n",
       "      <td>2683</td>\n",
       "      <td>0.017241</td>\n",
       "      <td>[5792800]</td>\n",
       "      <td>2683</td>\n",
       "      <td>0.017241</td>\n",
       "      <td>NA</td>\n",
       "      <td>NA</td>\n",
       "      <td>NA</td>\n",
       "    </tr>\n",
       "    <tr>\n",
       "      <th>11</th>\n",
       "      <td>[]</td>\n",
       "      <td>NA</td>\n",
       "      <td>NA</td>\n",
       "      <td>[5686925]</td>\n",
       "      <td>2332</td>\n",
       "      <td>0.014986</td>\n",
       "      <td>[5686925]</td>\n",
       "      <td>2332</td>\n",
       "      <td>0.014986</td>\n",
       "      <td>NA</td>\n",
       "      <td>NA</td>\n",
       "      <td>NA</td>\n",
       "    </tr>\n",
       "    <tr>\n",
       "      <th>12</th>\n",
       "      <td>[]</td>\n",
       "      <td>NA</td>\n",
       "      <td>NA</td>\n",
       "      <td>[5528035]</td>\n",
       "      <td>1827</td>\n",
       "      <td>0.011740</td>\n",
       "      <td>[5528035]</td>\n",
       "      <td>1827</td>\n",
       "      <td>0.011740</td>\n",
       "      <td>NA</td>\n",
       "      <td>NA</td>\n",
       "      <td>NA</td>\n",
       "    </tr>\n",
       "    <tr>\n",
       "      <th>13</th>\n",
       "      <td>[]</td>\n",
       "      <td>NA</td>\n",
       "      <td>NA</td>\n",
       "      <td>[5013]</td>\n",
       "      <td>1823</td>\n",
       "      <td>0.011715</td>\n",
       "      <td>[5013]</td>\n",
       "      <td>1823</td>\n",
       "      <td>0.011715</td>\n",
       "      <td>NA</td>\n",
       "      <td>NA</td>\n",
       "      <td>NA</td>\n",
       "    </tr>\n",
       "    <tr>\n",
       "      <th>14</th>\n",
       "      <td>[]</td>\n",
       "      <td>NA</td>\n",
       "      <td>NA</td>\n",
       "      <td>[5833330]</td>\n",
       "      <td>1816</td>\n",
       "      <td>0.011670</td>\n",
       "      <td>[5833330]</td>\n",
       "      <td>1816</td>\n",
       "      <td>0.011670</td>\n",
       "      <td>NA</td>\n",
       "      <td>NA</td>\n",
       "      <td>NA</td>\n",
       "    </tr>\n",
       "    <tr>\n",
       "      <th>15</th>\n",
       "      <td>[]</td>\n",
       "      <td>NA</td>\n",
       "      <td>NA</td>\n",
       "      <td>[5809911]</td>\n",
       "      <td>1815</td>\n",
       "      <td>0.011663</td>\n",
       "      <td>[5809911]</td>\n",
       "      <td>1815</td>\n",
       "      <td>0.011663</td>\n",
       "      <td>NA</td>\n",
       "      <td>NA</td>\n",
       "      <td>NA</td>\n",
       "    </tr>\n",
       "    <tr>\n",
       "      <th>16</th>\n",
       "      <td>[]</td>\n",
       "      <td>NA</td>\n",
       "      <td>NA</td>\n",
       "      <td>[5843836]</td>\n",
       "      <td>1807</td>\n",
       "      <td>0.011612</td>\n",
       "      <td>[5843836]</td>\n",
       "      <td>1807</td>\n",
       "      <td>0.011612</td>\n",
       "      <td>NA</td>\n",
       "      <td>NA</td>\n",
       "      <td>NA</td>\n",
       "    </tr>\n",
       "    <tr>\n",
       "      <th>17</th>\n",
       "      <td>[]</td>\n",
       "      <td>NA</td>\n",
       "      <td>NA</td>\n",
       "      <td>[5816170]</td>\n",
       "      <td>1787</td>\n",
       "      <td>0.011483</td>\n",
       "      <td>[5816170]</td>\n",
       "      <td>1787</td>\n",
       "      <td>0.011483</td>\n",
       "      <td>NA</td>\n",
       "      <td>NA</td>\n",
       "      <td>NA</td>\n",
       "    </tr>\n",
       "    <tr>\n",
       "      <th>18</th>\n",
       "      <td>[]</td>\n",
       "      <td>NA</td>\n",
       "      <td>NA</td>\n",
       "      <td>[5700046]</td>\n",
       "      <td>1678</td>\n",
       "      <td>0.010783</td>\n",
       "      <td>[5700046]</td>\n",
       "      <td>1678</td>\n",
       "      <td>0.010783</td>\n",
       "      <td>NA</td>\n",
       "      <td>NA</td>\n",
       "      <td>NA</td>\n",
       "    </tr>\n",
       "    <tr>\n",
       "      <th>19</th>\n",
       "      <td>[]</td>\n",
       "      <td>NA</td>\n",
       "      <td>NA</td>\n",
       "      <td>[5687151]</td>\n",
       "      <td>1674</td>\n",
       "      <td>0.010757</td>\n",
       "      <td>[5687151]</td>\n",
       "      <td>1674</td>\n",
       "      <td>0.010757</td>\n",
       "      <td>NA</td>\n",
       "      <td>NA</td>\n",
       "      <td>NA</td>\n",
       "    </tr>\n",
       "    <tr>\n",
       "      <th>20</th>\n",
       "      <td>[]</td>\n",
       "      <td>NA</td>\n",
       "      <td>NA</td>\n",
       "      <td>[5759492]</td>\n",
       "      <td>1620</td>\n",
       "      <td>0.010410</td>\n",
       "      <td>[5759492]</td>\n",
       "      <td>1620</td>\n",
       "      <td>0.010410</td>\n",
       "      <td>NA</td>\n",
       "      <td>NA</td>\n",
       "      <td>NA</td>\n",
       "    </tr>\n",
       "    <tr>\n",
       "      <th>21</th>\n",
       "      <td>[]</td>\n",
       "      <td>NA</td>\n",
       "      <td>NA</td>\n",
       "      <td>[5729864]</td>\n",
       "      <td>1598</td>\n",
       "      <td>0.010269</td>\n",
       "      <td>[5729864]</td>\n",
       "      <td>1598</td>\n",
       "      <td>0.010269</td>\n",
       "      <td>NA</td>\n",
       "      <td>NA</td>\n",
       "      <td>NA</td>\n",
       "    </tr>\n",
       "  </tbody>\n",
       "</table>\n",
       "</div>"
      ],
      "text/plain": [
       "   antecedent sup_antecedent percSupAntecedent consequent  sup_consequent  \\\n",
       "0          []             NA                NA  [5809910]            7458   \n",
       "1          []             NA                NA  [5854897]            4593   \n",
       "2          []             NA                NA  [5700037]            3623   \n",
       "3          []             NA                NA  [5802432]            3486   \n",
       "4          []             NA                NA  [5751422]            3457   \n",
       "5          []             NA                NA  [5809912]            3272   \n",
       "6          []             NA                NA  [5815662]            3206   \n",
       "7          []             NA                NA     [5304]            3102   \n",
       "8          []             NA                NA  [5751383]            2912   \n",
       "9          []             NA                NA  [5849033]            2753   \n",
       "10         []             NA                NA  [5792800]            2683   \n",
       "11         []             NA                NA  [5686925]            2332   \n",
       "12         []             NA                NA  [5528035]            1827   \n",
       "13         []             NA                NA     [5013]            1823   \n",
       "14         []             NA                NA  [5833330]            1816   \n",
       "15         []             NA                NA  [5809911]            1815   \n",
       "16         []             NA                NA  [5843836]            1807   \n",
       "17         []             NA                NA  [5816170]            1787   \n",
       "18         []             NA                NA  [5700046]            1678   \n",
       "19         []             NA                NA  [5687151]            1674   \n",
       "20         []             NA                NA  [5759492]            1620   \n",
       "21         []             NA                NA  [5729864]            1598   \n",
       "\n",
       "    percSupConsequent antecedent&consequent  sup_ant&cons  sup_perc_ant&cons  \\\n",
       "0            0.047925             [5809910]          7458           0.047925   \n",
       "1            0.029515             [5854897]          4593           0.029515   \n",
       "2            0.023282             [5700037]          3623           0.023282   \n",
       "3            0.022401             [5802432]          3486           0.022401   \n",
       "4            0.022215             [5751422]          3457           0.022215   \n",
       "5            0.021026             [5809912]          3272           0.021026   \n",
       "6            0.020602             [5815662]          3206           0.020602   \n",
       "7            0.019934                [5304]          3102           0.019934   \n",
       "8            0.018713             [5751383]          2912           0.018713   \n",
       "9            0.017691             [5849033]          2753           0.017691   \n",
       "10           0.017241             [5792800]          2683           0.017241   \n",
       "11           0.014986             [5686925]          2332           0.014986   \n",
       "12           0.011740             [5528035]          1827           0.011740   \n",
       "13           0.011715                [5013]          1823           0.011715   \n",
       "14           0.011670             [5833330]          1816           0.011670   \n",
       "15           0.011663             [5809911]          1815           0.011663   \n",
       "16           0.011612             [5843836]          1807           0.011612   \n",
       "17           0.011483             [5816170]          1787           0.011483   \n",
       "18           0.010783             [5700046]          1678           0.010783   \n",
       "19           0.010757             [5687151]          1674           0.010757   \n",
       "20           0.010410             [5759492]          1620           0.010410   \n",
       "21           0.010269             [5729864]          1598           0.010269   \n",
       "\n",
       "   confidence lift improvement  \n",
       "0          NA   NA          NA  \n",
       "1          NA   NA          NA  \n",
       "2          NA   NA          NA  \n",
       "3          NA   NA          NA  \n",
       "4          NA   NA          NA  \n",
       "5          NA   NA          NA  \n",
       "6          NA   NA          NA  \n",
       "7          NA   NA          NA  \n",
       "8          NA   NA          NA  \n",
       "9          NA   NA          NA  \n",
       "10         NA   NA          NA  \n",
       "11         NA   NA          NA  \n",
       "12         NA   NA          NA  \n",
       "13         NA   NA          NA  \n",
       "14         NA   NA          NA  \n",
       "15         NA   NA          NA  \n",
       "16         NA   NA          NA  \n",
       "17         NA   NA          NA  \n",
       "18         NA   NA          NA  \n",
       "19         NA   NA          NA  \n",
       "20         NA   NA          NA  \n",
       "21         NA   NA          NA  "
      ]
     },
     "execution_count": 37,
     "metadata": {},
     "output_type": "execute_result"
    }
   ],
   "source": [
    "import modified_fp_growth_algorithm.modified_fp_growth_latest as mod_fp_growth\n",
    "\n",
    "#data = data[data[\"product_id\"].apply(len)<5]\n",
    "\n",
    "rules = mod_fp_growth.fpgrowthFromDataFrame(\\\n",
    "    data,\n",
    "    minSupRatio=0.01,\n",
    "    maxSupRatio=1,\n",
    "    minConf=0,\n",
    "    item_col=1\n",
    "    )\n",
    "    \n",
    "rules.to_excel(\"fp_groth_out.xlsx\",index=False) \n",
    "rules"
   ]
  },
  {
   "cell_type": "code",
   "execution_count": 38,
   "metadata": {},
   "outputs": [
    {
     "data": {
      "text/html": [
       "<table border=\"1\" class=\"dataframe\">\n",
       "  <thead>\n",
       "    <tr style=\"text-align: right;\">\n",
       "      <th>rules_index</th>\n",
       "      <th>antecedent&amp;consequent</th>\n",
       "      <th>sup_ant&amp;cons</th>\n",
       "      <th>category_id</th>\n",
       "      <th>price</th>\n",
       "    </tr>\n",
       "  </thead>\n",
       "  <tbody>\n",
       "    <tr>\n",
       "      <td>0</td>\n",
       "      <td>5809910</td>\n",
       "      <td>7458</td>\n",
       "      <td>1602943681873052386</td>\n",
       "      <td>5.24</td>\n",
       "    </tr>\n",
       "    <tr>\n",
       "      <td>1</td>\n",
       "      <td>5854897</td>\n",
       "      <td>4593</td>\n",
       "      <td>1487580009445982239</td>\n",
       "      <td>0.32</td>\n",
       "    </tr>\n",
       "    <tr>\n",
       "      <td>2</td>\n",
       "      <td>5700037</td>\n",
       "      <td>3623</td>\n",
       "      <td>1487580009286598681</td>\n",
       "      <td>0.4</td>\n",
       "    </tr>\n",
       "    <tr>\n",
       "      <td>3</td>\n",
       "      <td>5802432</td>\n",
       "      <td>3486</td>\n",
       "      <td>1487580009286598681</td>\n",
       "      <td>0.32</td>\n",
       "    </tr>\n",
       "    <tr>\n",
       "      <td>4</td>\n",
       "      <td>5751422</td>\n",
       "      <td>3457</td>\n",
       "      <td>1487580005268456287</td>\n",
       "      <td>10.95</td>\n",
       "    </tr>\n",
       "    <tr>\n",
       "      <td>5</td>\n",
       "      <td>5809912</td>\n",
       "      <td>3272</td>\n",
       "      <td>1602943681873052386</td>\n",
       "      <td>5.24</td>\n",
       "    </tr>\n",
       "    <tr>\n",
       "      <td>6</td>\n",
       "      <td>5815662</td>\n",
       "      <td>3206</td>\n",
       "      <td>1487580006317032337</td>\n",
       "      <td>0.92</td>\n",
       "    </tr>\n",
       "    <tr>\n",
       "      <td>7</td>\n",
       "      <td>5304</td>\n",
       "      <td>3102</td>\n",
       "      <td>1487580009471148064</td>\n",
       "      <td>0.32</td>\n",
       "    </tr>\n",
       "    <tr>\n",
       "      <td>8</td>\n",
       "      <td>5751383</td>\n",
       "      <td>2912</td>\n",
       "      <td>1487580005092295511</td>\n",
       "      <td>10.32</td>\n",
       "    </tr>\n",
       "    <tr>\n",
       "      <td>9</td>\n",
       "      <td>5849033</td>\n",
       "      <td>2753</td>\n",
       "      <td>1487580005092295511</td>\n",
       "      <td>10.32</td>\n",
       "    </tr>\n",
       "    <tr>\n",
       "      <td>10</td>\n",
       "      <td>5792800</td>\n",
       "      <td>2683</td>\n",
       "      <td>1487580005268456287</td>\n",
       "      <td>10.32</td>\n",
       "    </tr>\n",
       "    <tr>\n",
       "      <td>11</td>\n",
       "      <td>5686925</td>\n",
       "      <td>2332</td>\n",
       "      <td>1487580009311764506</td>\n",
       "      <td>0.29</td>\n",
       "    </tr>\n",
       "    <tr>\n",
       "      <td>12</td>\n",
       "      <td>5528035</td>\n",
       "      <td>1827</td>\n",
       "      <td>1487580005553668971</td>\n",
       "      <td>9.52</td>\n",
       "    </tr>\n",
       "    <tr>\n",
       "      <td>13</td>\n",
       "      <td>5013</td>\n",
       "      <td>1823</td>\n",
       "      <td>1487580008145748965</td>\n",
       "      <td>1.27</td>\n",
       "    </tr>\n",
       "    <tr>\n",
       "      <td>14</td>\n",
       "      <td>5833330</td>\n",
       "      <td>1816</td>\n",
       "      <td>1487580007675986893</td>\n",
       "      <td>0.95</td>\n",
       "    </tr>\n",
       "    <tr>\n",
       "      <td>15</td>\n",
       "      <td>5809911</td>\n",
       "      <td>1815</td>\n",
       "      <td>1602943681873052386</td>\n",
       "      <td>5.24</td>\n",
       "    </tr>\n",
       "    <tr>\n",
       "      <td>16</td>\n",
       "      <td>5843836</td>\n",
       "      <td>1807</td>\n",
       "      <td>1487580009286598681</td>\n",
       "      <td>0.38</td>\n",
       "    </tr>\n",
       "    <tr>\n",
       "      <td>17</td>\n",
       "      <td>5816170</td>\n",
       "      <td>1787</td>\n",
       "      <td>1602943681873052386</td>\n",
       "      <td>5.24</td>\n",
       "    </tr>\n",
       "    <tr>\n",
       "      <td>18</td>\n",
       "      <td>5700046</td>\n",
       "      <td>1678</td>\n",
       "      <td>1487580009286598681</td>\n",
       "      <td>0.4</td>\n",
       "    </tr>\n",
       "    <tr>\n",
       "      <td>19</td>\n",
       "      <td>5687151</td>\n",
       "      <td>1674</td>\n",
       "      <td>1487580009605365797</td>\n",
       "      <td>1.9</td>\n",
       "    </tr>\n",
       "    <tr>\n",
       "      <td>20</td>\n",
       "      <td>5759492</td>\n",
       "      <td>1620</td>\n",
       "      <td>1487580013011140782</td>\n",
       "      <td>2.37</td>\n",
       "    </tr>\n",
       "    <tr>\n",
       "      <td>21</td>\n",
       "      <td>5729864</td>\n",
       "      <td>1598</td>\n",
       "      <td>1487580006509970331</td>\n",
       "      <td>0.41</td>\n",
       "    </tr>\n",
       "  </tbody>\n",
       "</table>"
      ],
      "text/plain": [
       "<IPython.core.display.HTML object>"
      ]
     },
     "execution_count": 38,
     "metadata": {},
     "output_type": "execute_result"
    }
   ],
   "source": [
    "# A minSupRatio of 0.007 means, in case of profitability, that it represents 0.007 of total revenues rspectively profit. We made the profit fo each product equal.\n",
    "# Let's oberserve what kind of items we have found.\n",
    "from IPython.display import HTML\n",
    "\n",
    "rules_exploded = rules.explode(\"antecedent&consequent\")[[\"antecedent&consequent\",\"sup_ant&cons\"]]\n",
    "rules_exploded.insert(0,\"rules_index\",rules_exploded.index)\n",
    "\n",
    "\n",
    "rules_labeled = pd.merge(rules_exploded,unique_items, how='inner', left_on = 'antecedent&consequent', right_on = 'product_id').sort_values(\"rules_index\").reset_index(drop=True)\n",
    "\n",
    "\n",
    "rules_labeled.to_excel(\"rules_labeled.xlsx\",index=False)\n",
    "\n",
    "#rules_labeled = rules_labeled.drop('rules_index', axis=1)\n",
    "\n",
    "rules_labeled_new = rules_labeled[[\"rules_index\",\"antecedent&consequent\",\"sup_ant&cons\",\"category_id\",\"price\"]]\n",
    "\n",
    "HTML(rules_labeled_new.to_html(index=False))"
   ]
  },
  {
   "cell_type": "markdown",
   "metadata": {},
   "source": [
    "#### 3.1.2 Classical Association Rules (Limitations on transaction length as at least 2)"
   ]
  },
  {
   "cell_type": "code",
   "execution_count": 73,
   "metadata": {},
   "outputs": [
    {
     "data": {
      "text/html": [
       "<div>\n",
       "<style scoped>\n",
       "    .dataframe tbody tr th:only-of-type {\n",
       "        vertical-align: middle;\n",
       "    }\n",
       "\n",
       "    .dataframe tbody tr th {\n",
       "        vertical-align: top;\n",
       "    }\n",
       "\n",
       "    .dataframe thead th {\n",
       "        text-align: right;\n",
       "    }\n",
       "</style>\n",
       "<table border=\"1\" class=\"dataframe\">\n",
       "  <thead>\n",
       "    <tr style=\"text-align: right;\">\n",
       "      <th></th>\n",
       "      <th>antecedent</th>\n",
       "      <th>sup_antecedent</th>\n",
       "      <th>percSupAntecedent</th>\n",
       "      <th>consequent</th>\n",
       "      <th>sup_consequent</th>\n",
       "      <th>percSupConsequent</th>\n",
       "      <th>antecedent&amp;consequent</th>\n",
       "      <th>sup_ant&amp;cons</th>\n",
       "      <th>sup_perc_ant&amp;cons</th>\n",
       "      <th>confidence</th>\n",
       "      <th>lift</th>\n",
       "      <th>improvement</th>\n",
       "    </tr>\n",
       "  </thead>\n",
       "  <tbody>\n",
       "    <tr>\n",
       "      <th>0</th>\n",
       "      <td>[5809910]</td>\n",
       "      <td>6244</td>\n",
       "      <td>0.043521</td>\n",
       "      <td>[5809912]</td>\n",
       "      <td>2596</td>\n",
       "      <td>0.018094</td>\n",
       "      <td>[5809910, 5809912]</td>\n",
       "      <td>1180</td>\n",
       "      <td>0.008225</td>\n",
       "      <td>0.188981</td>\n",
       "      <td>10.444281</td>\n",
       "      <td>0.170887</td>\n",
       "    </tr>\n",
       "    <tr>\n",
       "      <th>1</th>\n",
       "      <td>[5751422]</td>\n",
       "      <td>2860</td>\n",
       "      <td>0.019934</td>\n",
       "      <td>[5751383]</td>\n",
       "      <td>2441</td>\n",
       "      <td>0.017014</td>\n",
       "      <td>[5751383, 5751422]</td>\n",
       "      <td>837</td>\n",
       "      <td>0.005834</td>\n",
       "      <td>0.292657</td>\n",
       "      <td>17.201082</td>\n",
       "      <td>0.275643</td>\n",
       "    </tr>\n",
       "    <tr>\n",
       "      <th>2</th>\n",
       "      <td>[5809910]</td>\n",
       "      <td>6244</td>\n",
       "      <td>0.043521</td>\n",
       "      <td>[5809911]</td>\n",
       "      <td>1412</td>\n",
       "      <td>0.009842</td>\n",
       "      <td>[5809911, 5809910]</td>\n",
       "      <td>756</td>\n",
       "      <td>0.005269</td>\n",
       "      <td>0.121076</td>\n",
       "      <td>12.302357</td>\n",
       "      <td>0.111235</td>\n",
       "    </tr>\n",
       "    <tr>\n",
       "      <th>3</th>\n",
       "      <td>[5809910]</td>\n",
       "      <td>6244</td>\n",
       "      <td>0.043521</td>\n",
       "      <td>[5816170]</td>\n",
       "      <td>1398</td>\n",
       "      <td>0.009744</td>\n",
       "      <td>[5816170, 5809910]</td>\n",
       "      <td>569</td>\n",
       "      <td>0.003966</td>\n",
       "      <td>0.091127</td>\n",
       "      <td>9.352039</td>\n",
       "      <td>0.081383</td>\n",
       "    </tr>\n",
       "    <tr>\n",
       "      <th>4</th>\n",
       "      <td>[5809912]</td>\n",
       "      <td>2596</td>\n",
       "      <td>0.018094</td>\n",
       "      <td>[5809911]</td>\n",
       "      <td>1412</td>\n",
       "      <td>0.009842</td>\n",
       "      <td>[5809911, 5809912]</td>\n",
       "      <td>546</td>\n",
       "      <td>0.003806</td>\n",
       "      <td>0.210324</td>\n",
       "      <td>21.370633</td>\n",
       "      <td>0.200482</td>\n",
       "    </tr>\n",
       "    <tr>\n",
       "      <th>5</th>\n",
       "      <td>[5751422]</td>\n",
       "      <td>2860</td>\n",
       "      <td>0.019934</td>\n",
       "      <td>[5849033]</td>\n",
       "      <td>2288</td>\n",
       "      <td>0.015947</td>\n",
       "      <td>[5849033, 5751422]</td>\n",
       "      <td>529</td>\n",
       "      <td>0.003687</td>\n",
       "      <td>0.184965</td>\n",
       "      <td>11.598391</td>\n",
       "      <td>0.169018</td>\n",
       "    </tr>\n",
       "    <tr>\n",
       "      <th>6</th>\n",
       "      <td>[5809912]</td>\n",
       "      <td>2596</td>\n",
       "      <td>0.018094</td>\n",
       "      <td>[5816170]</td>\n",
       "      <td>1398</td>\n",
       "      <td>0.009744</td>\n",
       "      <td>[5816170, 5809912]</td>\n",
       "      <td>411</td>\n",
       "      <td>0.002865</td>\n",
       "      <td>0.158320</td>\n",
       "      <td>16.247782</td>\n",
       "      <td>0.148576</td>\n",
       "    </tr>\n",
       "    <tr>\n",
       "      <th>7</th>\n",
       "      <td>[5809910, 5809912]</td>\n",
       "      <td>1180</td>\n",
       "      <td>0.008225</td>\n",
       "      <td>[5809911]</td>\n",
       "      <td>1412</td>\n",
       "      <td>0.009842</td>\n",
       "      <td>[5809911, 5809910, 5809912]</td>\n",
       "      <td>381</td>\n",
       "      <td>0.002656</td>\n",
       "      <td>0.322881</td>\n",
       "      <td>32.807444</td>\n",
       "      <td>0.313040</td>\n",
       "    </tr>\n",
       "  </tbody>\n",
       "</table>\n",
       "</div>"
      ],
      "text/plain": [
       "           antecedent  sup_antecedent  percSupAntecedent consequent  \\\n",
       "0           [5809910]            6244           0.043521  [5809912]   \n",
       "1           [5751422]            2860           0.019934  [5751383]   \n",
       "2           [5809910]            6244           0.043521  [5809911]   \n",
       "3           [5809910]            6244           0.043521  [5816170]   \n",
       "4           [5809912]            2596           0.018094  [5809911]   \n",
       "5           [5751422]            2860           0.019934  [5849033]   \n",
       "6           [5809912]            2596           0.018094  [5816170]   \n",
       "7  [5809910, 5809912]            1180           0.008225  [5809911]   \n",
       "\n",
       "   sup_consequent  percSupConsequent        antecedent&consequent  \\\n",
       "0            2596           0.018094           [5809910, 5809912]   \n",
       "1            2441           0.017014           [5751383, 5751422]   \n",
       "2            1412           0.009842           [5809911, 5809910]   \n",
       "3            1398           0.009744           [5816170, 5809910]   \n",
       "4            1412           0.009842           [5809911, 5809912]   \n",
       "5            2288           0.015947           [5849033, 5751422]   \n",
       "6            1398           0.009744           [5816170, 5809912]   \n",
       "7            1412           0.009842  [5809911, 5809910, 5809912]   \n",
       "\n",
       "   sup_ant&cons  sup_perc_ant&cons  confidence       lift  improvement  \n",
       "0          1180           0.008225    0.188981  10.444281     0.170887  \n",
       "1           837           0.005834    0.292657  17.201082     0.275643  \n",
       "2           756           0.005269    0.121076  12.302357     0.111235  \n",
       "3           569           0.003966    0.091127   9.352039     0.081383  \n",
       "4           546           0.003806    0.210324  21.370633     0.200482  \n",
       "5           529           0.003687    0.184965  11.598391     0.169018  \n",
       "6           411           0.002865    0.158320  16.247782     0.148576  \n",
       "7           381           0.002656    0.322881  32.807444     0.313040  "
      ]
     },
     "execution_count": 73,
     "metadata": {},
     "output_type": "execute_result"
    }
   ],
   "source": [
    "import modified_fp_growth_algorithm.modified_fp_growth_latest as mod_fp_growth\n",
    "\n",
    "data = data[data[\"product_id\"].apply(len)<20]\n",
    "\n",
    "rules = mod_fp_growth.fpgrowthFromDataFrame(\\\n",
    "    data,\n",
    "    minSupRatio=0.0025,\n",
    "    maxSupRatio=1,\n",
    "    minConf=0,\n",
    "    item_col=1,\n",
    "    minTransactionLength=2,\n",
    "    maxTransactionLength=10\n",
    "    )\n",
    "    \n",
    "rules.to_excel(\"fp_groth_out.xlsx\",index=False) \n",
    "rules"
   ]
  },
  {
   "cell_type": "code",
   "execution_count": 74,
   "metadata": {},
   "outputs": [
    {
     "data": {
      "text/html": [
       "<table border=\"1\" class=\"dataframe\">\n",
       "  <thead>\n",
       "    <tr style=\"text-align: right;\">\n",
       "      <th>rules_index</th>\n",
       "      <th>antecedent&amp;consequent</th>\n",
       "      <th>sup_ant&amp;cons</th>\n",
       "      <th>category_id</th>\n",
       "      <th>brand</th>\n",
       "      <th>price</th>\n",
       "    </tr>\n",
       "  </thead>\n",
       "  <tbody>\n",
       "    <tr>\n",
       "      <td>0</td>\n",
       "      <td>5809910</td>\n",
       "      <td>1180</td>\n",
       "      <td>1602943681873052386</td>\n",
       "      <td>grattol</td>\n",
       "      <td>5.24</td>\n",
       "    </tr>\n",
       "    <tr>\n",
       "      <td>0</td>\n",
       "      <td>5809912</td>\n",
       "      <td>1180</td>\n",
       "      <td>1602943681873052386</td>\n",
       "      <td>grattol</td>\n",
       "      <td>5.24</td>\n",
       "    </tr>\n",
       "    <tr>\n",
       "      <td>1</td>\n",
       "      <td>5751422</td>\n",
       "      <td>837</td>\n",
       "      <td>1487580005268456287</td>\n",
       "      <td>uno</td>\n",
       "      <td>10.95</td>\n",
       "    </tr>\n",
       "    <tr>\n",
       "      <td>1</td>\n",
       "      <td>5751383</td>\n",
       "      <td>837</td>\n",
       "      <td>1487580005092295511</td>\n",
       "      <td>uno</td>\n",
       "      <td>10.32</td>\n",
       "    </tr>\n",
       "    <tr>\n",
       "      <td>2</td>\n",
       "      <td>5809910</td>\n",
       "      <td>756</td>\n",
       "      <td>1602943681873052386</td>\n",
       "      <td>grattol</td>\n",
       "      <td>5.24</td>\n",
       "    </tr>\n",
       "    <tr>\n",
       "      <td>2</td>\n",
       "      <td>5809911</td>\n",
       "      <td>756</td>\n",
       "      <td>1602943681873052386</td>\n",
       "      <td>grattol</td>\n",
       "      <td>5.24</td>\n",
       "    </tr>\n",
       "    <tr>\n",
       "      <td>3</td>\n",
       "      <td>5809910</td>\n",
       "      <td>569</td>\n",
       "      <td>1602943681873052386</td>\n",
       "      <td>grattol</td>\n",
       "      <td>5.24</td>\n",
       "    </tr>\n",
       "    <tr>\n",
       "      <td>3</td>\n",
       "      <td>5816170</td>\n",
       "      <td>569</td>\n",
       "      <td>1602943681873052386</td>\n",
       "      <td>grattol</td>\n",
       "      <td>5.24</td>\n",
       "    </tr>\n",
       "    <tr>\n",
       "      <td>4</td>\n",
       "      <td>5809912</td>\n",
       "      <td>546</td>\n",
       "      <td>1602943681873052386</td>\n",
       "      <td>grattol</td>\n",
       "      <td>5.24</td>\n",
       "    </tr>\n",
       "    <tr>\n",
       "      <td>4</td>\n",
       "      <td>5809911</td>\n",
       "      <td>546</td>\n",
       "      <td>1602943681873052386</td>\n",
       "      <td>grattol</td>\n",
       "      <td>5.24</td>\n",
       "    </tr>\n",
       "    <tr>\n",
       "      <td>5</td>\n",
       "      <td>5751422</td>\n",
       "      <td>529</td>\n",
       "      <td>1487580005268456287</td>\n",
       "      <td>uno</td>\n",
       "      <td>10.95</td>\n",
       "    </tr>\n",
       "    <tr>\n",
       "      <td>5</td>\n",
       "      <td>5849033</td>\n",
       "      <td>529</td>\n",
       "      <td>1487580005092295511</td>\n",
       "      <td>uno</td>\n",
       "      <td>10.32</td>\n",
       "    </tr>\n",
       "    <tr>\n",
       "      <td>6</td>\n",
       "      <td>5809912</td>\n",
       "      <td>411</td>\n",
       "      <td>1602943681873052386</td>\n",
       "      <td>grattol</td>\n",
       "      <td>5.24</td>\n",
       "    </tr>\n",
       "    <tr>\n",
       "      <td>6</td>\n",
       "      <td>5816170</td>\n",
       "      <td>411</td>\n",
       "      <td>1602943681873052386</td>\n",
       "      <td>grattol</td>\n",
       "      <td>5.24</td>\n",
       "    </tr>\n",
       "    <tr>\n",
       "      <td>7</td>\n",
       "      <td>5809912</td>\n",
       "      <td>381</td>\n",
       "      <td>1602943681873052386</td>\n",
       "      <td>grattol</td>\n",
       "      <td>5.24</td>\n",
       "    </tr>\n",
       "    <tr>\n",
       "      <td>7</td>\n",
       "      <td>5809911</td>\n",
       "      <td>381</td>\n",
       "      <td>1602943681873052386</td>\n",
       "      <td>grattol</td>\n",
       "      <td>5.24</td>\n",
       "    </tr>\n",
       "    <tr>\n",
       "      <td>7</td>\n",
       "      <td>5809910</td>\n",
       "      <td>381</td>\n",
       "      <td>1602943681873052386</td>\n",
       "      <td>grattol</td>\n",
       "      <td>5.24</td>\n",
       "    </tr>\n",
       "  </tbody>\n",
       "</table>"
      ],
      "text/plain": [
       "<IPython.core.display.HTML object>"
      ]
     },
     "execution_count": 74,
     "metadata": {},
     "output_type": "execute_result"
    }
   ],
   "source": [
    "rules_exploded = rules.explode(\"antecedent&consequent\")[[\"antecedent&consequent\",\"sup_ant&cons\"]]\n",
    "rules_exploded.insert(0,\"rules_index\",rules_exploded.index)\n",
    "\n",
    "\n",
    "rules_labeled = pd.merge(rules_exploded,unique_items, how='inner', left_on = 'antecedent&consequent', right_on = 'product_id').sort_values(\"rules_index\").reset_index(drop=True)\n",
    "\n",
    "\n",
    "rules_labeled.to_excel(\"rules_labeled.xlsx\",index=False)\n",
    "\n",
    "rules_labeled_new = rules_labeled[[\"rules_index\",\"antecedent&consequent\",\"sup_ant&cons\",\"category_id\",\"brand\",\"price\"]]\n",
    "\n",
    "HTML(rules_labeled_new.to_html(index=False))"
   ]
  },
  {
   "cell_type": "markdown",
   "metadata": {},
   "source": [
    "#### 3.2 Profit based Association Rules (No limitations on transaction length)"
   ]
  },
  {
   "cell_type": "code",
   "execution_count": 55,
   "metadata": {},
   "outputs": [
    {
     "data": {
      "text/html": [
       "<div>\n",
       "<style scoped>\n",
       "    .dataframe tbody tr th:only-of-type {\n",
       "        vertical-align: middle;\n",
       "    }\n",
       "\n",
       "    .dataframe tbody tr th {\n",
       "        vertical-align: top;\n",
       "    }\n",
       "\n",
       "    .dataframe thead th {\n",
       "        text-align: right;\n",
       "    }\n",
       "</style>\n",
       "<table border=\"1\" class=\"dataframe\">\n",
       "  <thead>\n",
       "    <tr style=\"text-align: right;\">\n",
       "      <th></th>\n",
       "      <th>antecedent</th>\n",
       "      <th>sup_antecedent</th>\n",
       "      <th>percSupAntecedent</th>\n",
       "      <th>consequent</th>\n",
       "      <th>sup_consequent</th>\n",
       "      <th>percSupConsequent</th>\n",
       "      <th>antecedent&amp;consequent</th>\n",
       "      <th>sup_ant&amp;cons</th>\n",
       "      <th>sup_perc_ant&amp;cons</th>\n",
       "      <th>confidence</th>\n",
       "      <th>lift</th>\n",
       "      <th>improvement</th>\n",
       "      <th>profit_associated</th>\n",
       "      <th>perc_of_total_profit</th>\n",
       "      <th>profit_associated_prev</th>\n",
       "      <th>net_change</th>\n",
       "      <th>profit_last_item</th>\n",
       "      <th>loss_by_change</th>\n",
       "    </tr>\n",
       "  </thead>\n",
       "  <tbody>\n",
       "    <tr>\n",
       "      <th>0</th>\n",
       "      <td>[]</td>\n",
       "      <td>NA</td>\n",
       "      <td>NA</td>\n",
       "      <td>[5560754]</td>\n",
       "      <td>365</td>\n",
       "      <td>0.002346</td>\n",
       "      <td>[5560754]</td>\n",
       "      <td>365</td>\n",
       "      <td>0.002346</td>\n",
       "      <td>NA</td>\n",
       "      <td>NA</td>\n",
       "      <td>NA</td>\n",
       "      <td>71726.72</td>\n",
       "      <td>0.011299</td>\n",
       "      <td>0</td>\n",
       "      <td>71726.72</td>\n",
       "      <td>71726.72</td>\n",
       "      <td>0</td>\n",
       "    </tr>\n",
       "    <tr>\n",
       "      <th>1</th>\n",
       "      <td>[]</td>\n",
       "      <td>NA</td>\n",
       "      <td>NA</td>\n",
       "      <td>[5809910]</td>\n",
       "      <td>7458</td>\n",
       "      <td>0.047925</td>\n",
       "      <td>[5809910]</td>\n",
       "      <td>7458</td>\n",
       "      <td>0.047925</td>\n",
       "      <td>NA</td>\n",
       "      <td>NA</td>\n",
       "      <td>NA</td>\n",
       "      <td>39202.47</td>\n",
       "      <td>0.006176</td>\n",
       "      <td>0</td>\n",
       "      <td>39202.47</td>\n",
       "      <td>39202.47</td>\n",
       "      <td>0</td>\n",
       "    </tr>\n",
       "    <tr>\n",
       "      <th>2</th>\n",
       "      <td>[]</td>\n",
       "      <td>NA</td>\n",
       "      <td>NA</td>\n",
       "      <td>[5751422]</td>\n",
       "      <td>3457</td>\n",
       "      <td>0.022215</td>\n",
       "      <td>[5751422]</td>\n",
       "      <td>3457</td>\n",
       "      <td>0.022215</td>\n",
       "      <td>NA</td>\n",
       "      <td>NA</td>\n",
       "      <td>NA</td>\n",
       "      <td>38229.81</td>\n",
       "      <td>0.006022</td>\n",
       "      <td>0</td>\n",
       "      <td>38229.81</td>\n",
       "      <td>38229.81</td>\n",
       "      <td>0</td>\n",
       "    </tr>\n",
       "    <tr>\n",
       "      <th>3</th>\n",
       "      <td>[]</td>\n",
       "      <td>NA</td>\n",
       "      <td>NA</td>\n",
       "      <td>[5751383]</td>\n",
       "      <td>2912</td>\n",
       "      <td>0.018713</td>\n",
       "      <td>[5751383]</td>\n",
       "      <td>2912</td>\n",
       "      <td>0.018713</td>\n",
       "      <td>NA</td>\n",
       "      <td>NA</td>\n",
       "      <td>NA</td>\n",
       "      <td>30138.29</td>\n",
       "      <td>0.004748</td>\n",
       "      <td>0</td>\n",
       "      <td>30138.29</td>\n",
       "      <td>30138.29</td>\n",
       "      <td>0</td>\n",
       "    </tr>\n",
       "    <tr>\n",
       "      <th>4</th>\n",
       "      <td>[]</td>\n",
       "      <td>NA</td>\n",
       "      <td>NA</td>\n",
       "      <td>[5850281]</td>\n",
       "      <td>209</td>\n",
       "      <td>0.001343</td>\n",
       "      <td>[5850281]</td>\n",
       "      <td>209</td>\n",
       "      <td>0.001343</td>\n",
       "      <td>NA</td>\n",
       "      <td>NA</td>\n",
       "      <td>NA</td>\n",
       "      <td>29283.62</td>\n",
       "      <td>0.004613</td>\n",
       "      <td>0</td>\n",
       "      <td>29283.62</td>\n",
       "      <td>29283.62</td>\n",
       "      <td>0</td>\n",
       "    </tr>\n",
       "    <tr>\n",
       "      <th>5</th>\n",
       "      <td>[]</td>\n",
       "      <td>NA</td>\n",
       "      <td>NA</td>\n",
       "      <td>[5849033]</td>\n",
       "      <td>2753</td>\n",
       "      <td>0.017691</td>\n",
       "      <td>[5849033]</td>\n",
       "      <td>2753</td>\n",
       "      <td>0.017691</td>\n",
       "      <td>NA</td>\n",
       "      <td>NA</td>\n",
       "      <td>NA</td>\n",
       "      <td>28416.78</td>\n",
       "      <td>0.004476</td>\n",
       "      <td>0</td>\n",
       "      <td>28416.78</td>\n",
       "      <td>28416.78</td>\n",
       "      <td>0</td>\n",
       "    </tr>\n",
       "    <tr>\n",
       "      <th>6</th>\n",
       "      <td>[]</td>\n",
       "      <td>NA</td>\n",
       "      <td>NA</td>\n",
       "      <td>[5792800]</td>\n",
       "      <td>2683</td>\n",
       "      <td>0.017241</td>\n",
       "      <td>[5792800]</td>\n",
       "      <td>2683</td>\n",
       "      <td>0.017241</td>\n",
       "      <td>NA</td>\n",
       "      <td>NA</td>\n",
       "      <td>NA</td>\n",
       "      <td>27764.36</td>\n",
       "      <td>0.004374</td>\n",
       "      <td>0</td>\n",
       "      <td>27764.36</td>\n",
       "      <td>27764.36</td>\n",
       "      <td>0</td>\n",
       "    </tr>\n",
       "    <tr>\n",
       "      <th>7</th>\n",
       "      <td>[]</td>\n",
       "      <td>NA</td>\n",
       "      <td>NA</td>\n",
       "      <td>[5877454]</td>\n",
       "      <td>603</td>\n",
       "      <td>0.003875</td>\n",
       "      <td>[5877454]</td>\n",
       "      <td>603</td>\n",
       "      <td>0.003875</td>\n",
       "      <td>NA</td>\n",
       "      <td>NA</td>\n",
       "      <td>NA</td>\n",
       "      <td>26832.09</td>\n",
       "      <td>0.004227</td>\n",
       "      <td>0</td>\n",
       "      <td>26832.09</td>\n",
       "      <td>26832.09</td>\n",
       "      <td>0</td>\n",
       "    </tr>\n",
       "    <tr>\n",
       "      <th>8</th>\n",
       "      <td>[]</td>\n",
       "      <td>NA</td>\n",
       "      <td>NA</td>\n",
       "      <td>[5560756]</td>\n",
       "      <td>117</td>\n",
       "      <td>0.000752</td>\n",
       "      <td>[5560756]</td>\n",
       "      <td>117</td>\n",
       "      <td>0.000752</td>\n",
       "      <td>NA</td>\n",
       "      <td>NA</td>\n",
       "      <td>NA</td>\n",
       "      <td>24865.44</td>\n",
       "      <td>0.003917</td>\n",
       "      <td>0</td>\n",
       "      <td>24865.44</td>\n",
       "      <td>24865.44</td>\n",
       "      <td>0</td>\n",
       "    </tr>\n",
       "    <tr>\n",
       "      <th>9</th>\n",
       "      <td>[]</td>\n",
       "      <td>NA</td>\n",
       "      <td>NA</td>\n",
       "      <td>[89343]</td>\n",
       "      <td>79</td>\n",
       "      <td>0.000508</td>\n",
       "      <td>[89343]</td>\n",
       "      <td>79</td>\n",
       "      <td>0.000508</td>\n",
       "      <td>NA</td>\n",
       "      <td>NA</td>\n",
       "      <td>NA</td>\n",
       "      <td>24149.61</td>\n",
       "      <td>0.003804</td>\n",
       "      <td>0</td>\n",
       "      <td>24149.61</td>\n",
       "      <td>24149.61</td>\n",
       "      <td>0</td>\n",
       "    </tr>\n",
       "  </tbody>\n",
       "</table>\n",
       "</div>"
      ],
      "text/plain": [
       "  antecedent sup_antecedent percSupAntecedent consequent  sup_consequent  \\\n",
       "0         []             NA                NA  [5560754]             365   \n",
       "1         []             NA                NA  [5809910]            7458   \n",
       "2         []             NA                NA  [5751422]            3457   \n",
       "3         []             NA                NA  [5751383]            2912   \n",
       "4         []             NA                NA  [5850281]             209   \n",
       "5         []             NA                NA  [5849033]            2753   \n",
       "6         []             NA                NA  [5792800]            2683   \n",
       "7         []             NA                NA  [5877454]             603   \n",
       "8         []             NA                NA  [5560756]             117   \n",
       "9         []             NA                NA    [89343]              79   \n",
       "\n",
       "   percSupConsequent antecedent&consequent  sup_ant&cons  sup_perc_ant&cons  \\\n",
       "0           0.002346             [5560754]           365           0.002346   \n",
       "1           0.047925             [5809910]          7458           0.047925   \n",
       "2           0.022215             [5751422]          3457           0.022215   \n",
       "3           0.018713             [5751383]          2912           0.018713   \n",
       "4           0.001343             [5850281]           209           0.001343   \n",
       "5           0.017691             [5849033]          2753           0.017691   \n",
       "6           0.017241             [5792800]          2683           0.017241   \n",
       "7           0.003875             [5877454]           603           0.003875   \n",
       "8           0.000752             [5560756]           117           0.000752   \n",
       "9           0.000508               [89343]            79           0.000508   \n",
       "\n",
       "  confidence lift improvement  profit_associated  perc_of_total_profit  \\\n",
       "0         NA   NA          NA           71726.72              0.011299   \n",
       "1         NA   NA          NA           39202.47              0.006176   \n",
       "2         NA   NA          NA           38229.81              0.006022   \n",
       "3         NA   NA          NA           30138.29              0.004748   \n",
       "4         NA   NA          NA           29283.62              0.004613   \n",
       "5         NA   NA          NA           28416.78              0.004476   \n",
       "6         NA   NA          NA           27764.36              0.004374   \n",
       "7         NA   NA          NA           26832.09              0.004227   \n",
       "8         NA   NA          NA           24865.44              0.003917   \n",
       "9         NA   NA          NA           24149.61              0.003804   \n",
       "\n",
       "   profit_associated_prev  net_change  profit_last_item  loss_by_change  \n",
       "0                       0    71726.72          71726.72               0  \n",
       "1                       0    39202.47          39202.47               0  \n",
       "2                       0    38229.81          38229.81               0  \n",
       "3                       0    30138.29          30138.29               0  \n",
       "4                       0    29283.62          29283.62               0  \n",
       "5                       0    28416.78          28416.78               0  \n",
       "6                       0    27764.36          27764.36               0  \n",
       "7                       0    26832.09          26832.09               0  \n",
       "8                       0    24865.44          24865.44               0  \n",
       "9                       0    24149.61          24149.61               0  "
      ]
     },
     "execution_count": 55,
     "metadata": {},
     "output_type": "execute_result"
    }
   ],
   "source": [
    "import modified_fp_growth_algorithm.modified_fp_growth_latest as mod_fp_growth\n",
    "\n",
    "#For better trackingI take price instead of profit as profit, because tracking ius easier and at moment I anyway just multiply by 0.1 for profit\n",
    "# We see how \"super efficient it is, only 6.8 seconds for 13k rules inclduing writing to Excel\"\n",
    "\n",
    "# data = data[data[\"product_id\"].apply(len)<=5]\n",
    "\n",
    "rules = mod_fp_growth.fpgrowthFromDataFrame(\\\n",
    "    data,\n",
    "    minSupRatio=0.0038,\n",
    "    maxSupRatio=1,\n",
    "    minConf=0,\n",
    "    item_col=1,\n",
    "    profit_col=3,\n",
    "    max_profit = max_profit,\n",
    "    profit_sensitivity = lambda x : 1 * x\n",
    "    )\n",
    "    \n",
    "rules.to_excel(\"fp_groth_out.xlsx\",index=False) \n",
    "rules\n"
   ]
  },
  {
   "cell_type": "code",
   "execution_count": 58,
   "metadata": {},
   "outputs": [
    {
     "data": {
      "text/html": [
       "<table border=\"1\" class=\"dataframe\">\n",
       "  <thead>\n",
       "    <tr style=\"text-align: right;\">\n",
       "      <th>rules_index</th>\n",
       "      <th>antecedent&amp;consequent</th>\n",
       "      <th>sup_ant&amp;cons</th>\n",
       "      <th>category_id</th>\n",
       "      <th>brand</th>\n",
       "      <th>price</th>\n",
       "    </tr>\n",
       "  </thead>\n",
       "  <tbody>\n",
       "    <tr>\n",
       "      <td>0</td>\n",
       "      <td>5560754</td>\n",
       "      <td>365</td>\n",
       "      <td>1487580006300255120</td>\n",
       "      <td>strong</td>\n",
       "      <td>194.44</td>\n",
       "    </tr>\n",
       "    <tr>\n",
       "      <td>1</td>\n",
       "      <td>5809910</td>\n",
       "      <td>7458</td>\n",
       "      <td>1602943681873052386</td>\n",
       "      <td>grattol</td>\n",
       "      <td>5.24</td>\n",
       "    </tr>\n",
       "    <tr>\n",
       "      <td>2</td>\n",
       "      <td>5751422</td>\n",
       "      <td>3457</td>\n",
       "      <td>1487580005268456287</td>\n",
       "      <td>uno</td>\n",
       "      <td>10.95</td>\n",
       "    </tr>\n",
       "    <tr>\n",
       "      <td>3</td>\n",
       "      <td>5751383</td>\n",
       "      <td>2912</td>\n",
       "      <td>1487580005092295511</td>\n",
       "      <td>uno</td>\n",
       "      <td>10.32</td>\n",
       "    </tr>\n",
       "    <tr>\n",
       "      <td>4</td>\n",
       "      <td>5850281</td>\n",
       "      <td>209</td>\n",
       "      <td>1487580006300255120</td>\n",
       "      <td>marathon</td>\n",
       "      <td>137.78</td>\n",
       "    </tr>\n",
       "    <tr>\n",
       "      <td>5</td>\n",
       "      <td>5849033</td>\n",
       "      <td>2753</td>\n",
       "      <td>1487580005092295511</td>\n",
       "      <td>uno</td>\n",
       "      <td>10.32</td>\n",
       "    </tr>\n",
       "    <tr>\n",
       "      <td>6</td>\n",
       "      <td>5792800</td>\n",
       "      <td>2683</td>\n",
       "      <td>1487580005268456287</td>\n",
       "      <td>nan</td>\n",
       "      <td>10.32</td>\n",
       "    </tr>\n",
       "    <tr>\n",
       "      <td>7</td>\n",
       "      <td>5877454</td>\n",
       "      <td>603</td>\n",
       "      <td>1487580006300255120</td>\n",
       "      <td>jessnail</td>\n",
       "      <td>44.29</td>\n",
       "    </tr>\n",
       "    <tr>\n",
       "      <td>8</td>\n",
       "      <td>5560756</td>\n",
       "      <td>117</td>\n",
       "      <td>1487580006300255120</td>\n",
       "      <td>strong</td>\n",
       "      <td>207.94</td>\n",
       "    </tr>\n",
       "    <tr>\n",
       "      <td>9</td>\n",
       "      <td>89343</td>\n",
       "      <td>79</td>\n",
       "      <td>2193074740619379535</td>\n",
       "      <td>nan</td>\n",
       "      <td>299.81</td>\n",
       "    </tr>\n",
       "  </tbody>\n",
       "</table>"
      ],
      "text/plain": [
       "<IPython.core.display.HTML object>"
      ]
     },
     "execution_count": 58,
     "metadata": {},
     "output_type": "execute_result"
    }
   ],
   "source": [
    "rules_exploded = rules.explode(\"antecedent&consequent\")[[\"antecedent&consequent\",\"sup_ant&cons\"]]\n",
    "rules_exploded.insert(0,\"rules_index\",rules_exploded.index)\n",
    "\n",
    "\n",
    "rules_labeled = pd.merge(rules_exploded,unique_items, how='inner', left_on = 'antecedent&consequent', right_on = 'product_id').sort_values(\"rules_index\").reset_index(drop=True)\n",
    "\n",
    "\n",
    "rules_labeled.to_excel(\"rules_labeled.xlsx\",index=False)\n",
    "\n",
    "#rules_labeled = rules_labeled.drop('rules_index', axis=1)\n",
    "rules_labeled\n",
    "\n",
    "\n",
    "rules_labeled_new = rules_labeled[[\"rules_index\",\"antecedent&consequent\",\"sup_ant&cons\",\"category_id\",\"brand\",\"price\"]]\n",
    "\n",
    "HTML(rules_labeled_new.to_html(index=False))\n"
   ]
  },
  {
   "cell_type": "markdown",
   "metadata": {},
   "source": [
    "#### 3.2 Profit based Association Rules (Limitations on transaction length as at least 2)"
   ]
  },
  {
   "cell_type": "code",
   "execution_count": 66,
   "metadata": {},
   "outputs": [
    {
     "data": {
      "text/html": [
       "<div>\n",
       "<style scoped>\n",
       "    .dataframe tbody tr th:only-of-type {\n",
       "        vertical-align: middle;\n",
       "    }\n",
       "\n",
       "    .dataframe tbody tr th {\n",
       "        vertical-align: top;\n",
       "    }\n",
       "\n",
       "    .dataframe thead th {\n",
       "        text-align: right;\n",
       "    }\n",
       "</style>\n",
       "<table border=\"1\" class=\"dataframe\">\n",
       "  <thead>\n",
       "    <tr style=\"text-align: right;\">\n",
       "      <th></th>\n",
       "      <th>antecedent</th>\n",
       "      <th>sup_antecedent</th>\n",
       "      <th>percSupAntecedent</th>\n",
       "      <th>consequent</th>\n",
       "      <th>sup_consequent</th>\n",
       "      <th>percSupConsequent</th>\n",
       "      <th>antecedent&amp;consequent</th>\n",
       "      <th>sup_ant&amp;cons</th>\n",
       "      <th>sup_perc_ant&amp;cons</th>\n",
       "      <th>confidence</th>\n",
       "      <th>lift</th>\n",
       "      <th>improvement</th>\n",
       "      <th>profit_associated</th>\n",
       "      <th>perc_of_total_profit</th>\n",
       "      <th>profit_associated_prev</th>\n",
       "      <th>net_change</th>\n",
       "      <th>profit_last_item</th>\n",
       "      <th>loss_by_change</th>\n",
       "    </tr>\n",
       "  </thead>\n",
       "  <tbody>\n",
       "    <tr>\n",
       "      <th>0</th>\n",
       "      <td>[5751422]</td>\n",
       "      <td>2860</td>\n",
       "      <td>0.019934</td>\n",
       "      <td>[5751383]</td>\n",
       "      <td>2441</td>\n",
       "      <td>0.017014</td>\n",
       "      <td>[5751383, 5751422]</td>\n",
       "      <td>837</td>\n",
       "      <td>0.005834</td>\n",
       "      <td>0.292657</td>\n",
       "      <td>17.201082</td>\n",
       "      <td>0.275643</td>\n",
       "      <td>17793.712298</td>\n",
       "      <td>0.003597</td>\n",
       "      <td>31344.830000</td>\n",
       "      <td>-13551.117702</td>\n",
       "      <td>8620.417644</td>\n",
       "      <td>-22171.535346</td>\n",
       "    </tr>\n",
       "    <tr>\n",
       "      <th>1</th>\n",
       "      <td>[5809910]</td>\n",
       "      <td>6244</td>\n",
       "      <td>0.043521</td>\n",
       "      <td>[5809912]</td>\n",
       "      <td>2596</td>\n",
       "      <td>0.018094</td>\n",
       "      <td>[5809910, 5809912]</td>\n",
       "      <td>1180</td>\n",
       "      <td>0.008225</td>\n",
       "      <td>0.188981</td>\n",
       "      <td>10.444281</td>\n",
       "      <td>0.170887</td>\n",
       "      <td>12310.167198</td>\n",
       "      <td>0.002489</td>\n",
       "      <td>32651.160000</td>\n",
       "      <td>-20340.992802</td>\n",
       "      <td>6139.704545</td>\n",
       "      <td>-26480.697348</td>\n",
       "    </tr>\n",
       "    <tr>\n",
       "      <th>2</th>\n",
       "      <td>[5751422]</td>\n",
       "      <td>2860</td>\n",
       "      <td>0.019934</td>\n",
       "      <td>[5849033]</td>\n",
       "      <td>2288</td>\n",
       "      <td>0.015947</td>\n",
       "      <td>[5849033, 5751422]</td>\n",
       "      <td>529</td>\n",
       "      <td>0.003687</td>\n",
       "      <td>0.184965</td>\n",
       "      <td>11.598391</td>\n",
       "      <td>0.169018</td>\n",
       "      <td>11234.717035</td>\n",
       "      <td>0.002271</td>\n",
       "      <td>31344.830000</td>\n",
       "      <td>-20110.112965</td>\n",
       "      <td>5437.019458</td>\n",
       "      <td>-25547.132423</td>\n",
       "    </tr>\n",
       "    <tr>\n",
       "      <th>3</th>\n",
       "      <td>[5809910]</td>\n",
       "      <td>6244</td>\n",
       "      <td>0.043521</td>\n",
       "      <td>[5809911]</td>\n",
       "      <td>1412</td>\n",
       "      <td>0.009842</td>\n",
       "      <td>[5809911, 5809910]</td>\n",
       "      <td>756</td>\n",
       "      <td>0.005269</td>\n",
       "      <td>0.121076</td>\n",
       "      <td>12.302357</td>\n",
       "      <td>0.111235</td>\n",
       "      <td>7904.139745</td>\n",
       "      <td>0.001598</td>\n",
       "      <td>32651.160000</td>\n",
       "      <td>-24747.020255</td>\n",
       "      <td>3950.860283</td>\n",
       "      <td>-28697.880538</td>\n",
       "    </tr>\n",
       "    <tr>\n",
       "      <th>4</th>\n",
       "      <td>[4185]</td>\n",
       "      <td>422</td>\n",
       "      <td>0.002941</td>\n",
       "      <td>[3762]</td>\n",
       "      <td>282</td>\n",
       "      <td>0.001966</td>\n",
       "      <td>[3762, 4185]</td>\n",
       "      <td>178</td>\n",
       "      <td>0.001241</td>\n",
       "      <td>0.421801</td>\n",
       "      <td>214.596467</td>\n",
       "      <td>0.419835</td>\n",
       "      <td>6873.959977</td>\n",
       "      <td>0.001390</td>\n",
       "      <td>8167.550000</td>\n",
       "      <td>-1293.590023</td>\n",
       "      <td>3428.879645</td>\n",
       "      <td>-4722.469668</td>\n",
       "    </tr>\n",
       "    <tr>\n",
       "      <th>5</th>\n",
       "      <td>[5528035]</td>\n",
       "      <td>1596</td>\n",
       "      <td>0.011124</td>\n",
       "      <td>[5528034]</td>\n",
       "      <td>750</td>\n",
       "      <td>0.005228</td>\n",
       "      <td>[5528034, 5528035]</td>\n",
       "      <td>340</td>\n",
       "      <td>0.002370</td>\n",
       "      <td>0.213033</td>\n",
       "      <td>40.751997</td>\n",
       "      <td>0.207805</td>\n",
       "      <td>6463.594661</td>\n",
       "      <td>0.001307</td>\n",
       "      <td>15127.440000</td>\n",
       "      <td>-8663.845339</td>\n",
       "      <td>3240.957067</td>\n",
       "      <td>-11904.802406</td>\n",
       "    </tr>\n",
       "    <tr>\n",
       "      <th>6</th>\n",
       "      <td>[5809910, 5809912]</td>\n",
       "      <td>1180</td>\n",
       "      <td>0.008225</td>\n",
       "      <td>[5809911]</td>\n",
       "      <td>1412</td>\n",
       "      <td>0.009842</td>\n",
       "      <td>[5809911, 5809910, 5809912]</td>\n",
       "      <td>381</td>\n",
       "      <td>0.002656</td>\n",
       "      <td>0.322881</td>\n",
       "      <td>32.807444</td>\n",
       "      <td>0.313040</td>\n",
       "      <td>5965.831635</td>\n",
       "      <td>0.001206</td>\n",
       "      <td>12310.167198</td>\n",
       "      <td>-6344.335562</td>\n",
       "      <td>1991.108159</td>\n",
       "      <td>-8335.443721</td>\n",
       "    </tr>\n",
       "    <tr>\n",
       "      <th>7</th>\n",
       "      <td>[5809910]</td>\n",
       "      <td>6244</td>\n",
       "      <td>0.043521</td>\n",
       "      <td>[5816170]</td>\n",
       "      <td>1398</td>\n",
       "      <td>0.009744</td>\n",
       "      <td>[5816170, 5809910]</td>\n",
       "      <td>569</td>\n",
       "      <td>0.003966</td>\n",
       "      <td>0.091127</td>\n",
       "      <td>9.352039</td>\n",
       "      <td>0.081383</td>\n",
       "      <td>5955.622664</td>\n",
       "      <td>0.001204</td>\n",
       "      <td>32651.160000</td>\n",
       "      <td>-26695.537336</td>\n",
       "      <td>2980.204657</td>\n",
       "      <td>-29675.741992</td>\n",
       "    </tr>\n",
       "    <tr>\n",
       "      <th>8</th>\n",
       "      <td>[5823970]</td>\n",
       "      <td>465</td>\n",
       "      <td>0.003241</td>\n",
       "      <td>[5820270]</td>\n",
       "      <td>413</td>\n",
       "      <td>0.002879</td>\n",
       "      <td>[5820270, 5823970]</td>\n",
       "      <td>107</td>\n",
       "      <td>0.000746</td>\n",
       "      <td>0.230108</td>\n",
       "      <td>79.936458</td>\n",
       "      <td>0.227229</td>\n",
       "      <td>5734.939689</td>\n",
       "      <td>0.001159</td>\n",
       "      <td>12493.430000</td>\n",
       "      <td>-6758.490311</td>\n",
       "      <td>2860.107409</td>\n",
       "      <td>-9618.597720</td>\n",
       "    </tr>\n",
       "    <tr>\n",
       "      <th>9</th>\n",
       "      <td>[5809912]</td>\n",
       "      <td>2596</td>\n",
       "      <td>0.018094</td>\n",
       "      <td>[5809911]</td>\n",
       "      <td>1412</td>\n",
       "      <td>0.009842</td>\n",
       "      <td>[5809911, 5809912]</td>\n",
       "      <td>546</td>\n",
       "      <td>0.003806</td>\n",
       "      <td>0.210324</td>\n",
       "      <td>21.370633</td>\n",
       "      <td>0.200482</td>\n",
       "      <td>5694.313231</td>\n",
       "      <td>0.001151</td>\n",
       "      <td>13507.350000</td>\n",
       "      <td>-7813.036769</td>\n",
       "      <td>2853.399093</td>\n",
       "      <td>-10666.435863</td>\n",
       "    </tr>\n",
       "  </tbody>\n",
       "</table>\n",
       "</div>"
      ],
      "text/plain": [
       "           antecedent  sup_antecedent  percSupAntecedent consequent  \\\n",
       "0           [5751422]            2860           0.019934  [5751383]   \n",
       "1           [5809910]            6244           0.043521  [5809912]   \n",
       "2           [5751422]            2860           0.019934  [5849033]   \n",
       "3           [5809910]            6244           0.043521  [5809911]   \n",
       "4              [4185]             422           0.002941     [3762]   \n",
       "5           [5528035]            1596           0.011124  [5528034]   \n",
       "6  [5809910, 5809912]            1180           0.008225  [5809911]   \n",
       "7           [5809910]            6244           0.043521  [5816170]   \n",
       "8           [5823970]             465           0.003241  [5820270]   \n",
       "9           [5809912]            2596           0.018094  [5809911]   \n",
       "\n",
       "   sup_consequent  percSupConsequent        antecedent&consequent  \\\n",
       "0            2441           0.017014           [5751383, 5751422]   \n",
       "1            2596           0.018094           [5809910, 5809912]   \n",
       "2            2288           0.015947           [5849033, 5751422]   \n",
       "3            1412           0.009842           [5809911, 5809910]   \n",
       "4             282           0.001966                 [3762, 4185]   \n",
       "5             750           0.005228           [5528034, 5528035]   \n",
       "6            1412           0.009842  [5809911, 5809910, 5809912]   \n",
       "7            1398           0.009744           [5816170, 5809910]   \n",
       "8             413           0.002879           [5820270, 5823970]   \n",
       "9            1412           0.009842           [5809911, 5809912]   \n",
       "\n",
       "   sup_ant&cons  sup_perc_ant&cons  confidence        lift  improvement  \\\n",
       "0           837           0.005834    0.292657   17.201082     0.275643   \n",
       "1          1180           0.008225    0.188981   10.444281     0.170887   \n",
       "2           529           0.003687    0.184965   11.598391     0.169018   \n",
       "3           756           0.005269    0.121076   12.302357     0.111235   \n",
       "4           178           0.001241    0.421801  214.596467     0.419835   \n",
       "5           340           0.002370    0.213033   40.751997     0.207805   \n",
       "6           381           0.002656    0.322881   32.807444     0.313040   \n",
       "7           569           0.003966    0.091127    9.352039     0.081383   \n",
       "8           107           0.000746    0.230108   79.936458     0.227229   \n",
       "9           546           0.003806    0.210324   21.370633     0.200482   \n",
       "\n",
       "   profit_associated  perc_of_total_profit  profit_associated_prev  \\\n",
       "0       17793.712298              0.003597            31344.830000   \n",
       "1       12310.167198              0.002489            32651.160000   \n",
       "2       11234.717035              0.002271            31344.830000   \n",
       "3        7904.139745              0.001598            32651.160000   \n",
       "4        6873.959977              0.001390             8167.550000   \n",
       "5        6463.594661              0.001307            15127.440000   \n",
       "6        5965.831635              0.001206            12310.167198   \n",
       "7        5955.622664              0.001204            32651.160000   \n",
       "8        5734.939689              0.001159            12493.430000   \n",
       "9        5694.313231              0.001151            13507.350000   \n",
       "\n",
       "     net_change  profit_last_item  loss_by_change  \n",
       "0 -13551.117702       8620.417644   -22171.535346  \n",
       "1 -20340.992802       6139.704545   -26480.697348  \n",
       "2 -20110.112965       5437.019458   -25547.132423  \n",
       "3 -24747.020255       3950.860283   -28697.880538  \n",
       "4  -1293.590023       3428.879645    -4722.469668  \n",
       "5  -8663.845339       3240.957067   -11904.802406  \n",
       "6  -6344.335562       1991.108159    -8335.443721  \n",
       "7 -26695.537336       2980.204657   -29675.741992  \n",
       "8  -6758.490311       2860.107409    -9618.597720  \n",
       "9  -7813.036769       2853.399093   -10666.435863  "
      ]
     },
     "execution_count": 66,
     "metadata": {},
     "output_type": "execute_result"
    }
   ],
   "source": [
    "import modified_fp_growth_algorithm.modified_fp_growth_latest as mod_fp_growth\n",
    "\n",
    "#For better trackingI take price instead of profit as profit, because tracking ius easier and at moment I anyway just multiply by 0.1 for profit\n",
    "# We see how \"super efficient it is, only 6.8 seconds for 13k rules inclduing writing to Excel\"\n",
    "\n",
    "data = data[data[\"product_id\"].apply(len)<20]\n",
    "\n",
    "rules = mod_fp_growth.fpgrowthFromDataFrame(\\\n",
    "    data,\n",
    "    minSupRatio=0.001,\n",
    "    maxSupRatio=1,\n",
    "    minTransactionLength=2,\n",
    "    maxTransactionLength=10,\n",
    "    minConf=0,\n",
    "    item_col=1,\n",
    "    profit_col=3,\n",
    "    max_profit = max_profit,\n",
    "    profit_sensitivity = lambda x : 1 * x\n",
    "    )\n",
    "    \n",
    "rules.to_excel(\"fp_groth_out.xlsx\",index=False) \n",
    "rules"
   ]
  },
  {
   "cell_type": "code",
   "execution_count": 68,
   "metadata": {},
   "outputs": [
    {
     "data": {
      "text/html": [
       "<table border=\"1\" class=\"dataframe\">\n",
       "  <thead>\n",
       "    <tr style=\"text-align: right;\">\n",
       "      <th>rules_index</th>\n",
       "      <th>antecedent&amp;consequent</th>\n",
       "      <th>sup_ant&amp;cons</th>\n",
       "      <th>category_id</th>\n",
       "      <th>brand</th>\n",
       "      <th>price</th>\n",
       "    </tr>\n",
       "  </thead>\n",
       "  <tbody>\n",
       "    <tr>\n",
       "      <td>0</td>\n",
       "      <td>5751383</td>\n",
       "      <td>837</td>\n",
       "      <td>1487580005092295511</td>\n",
       "      <td>uno</td>\n",
       "      <td>10.32</td>\n",
       "    </tr>\n",
       "    <tr>\n",
       "      <td>0</td>\n",
       "      <td>5751422</td>\n",
       "      <td>837</td>\n",
       "      <td>1487580005268456287</td>\n",
       "      <td>uno</td>\n",
       "      <td>10.95</td>\n",
       "    </tr>\n",
       "    <tr>\n",
       "      <td>1</td>\n",
       "      <td>5809912</td>\n",
       "      <td>1180</td>\n",
       "      <td>1602943681873052386</td>\n",
       "      <td>grattol</td>\n",
       "      <td>5.24</td>\n",
       "    </tr>\n",
       "    <tr>\n",
       "      <td>1</td>\n",
       "      <td>5809910</td>\n",
       "      <td>1180</td>\n",
       "      <td>1602943681873052386</td>\n",
       "      <td>grattol</td>\n",
       "      <td>5.24</td>\n",
       "    </tr>\n",
       "    <tr>\n",
       "      <td>2</td>\n",
       "      <td>5849033</td>\n",
       "      <td>529</td>\n",
       "      <td>1487580005092295511</td>\n",
       "      <td>uno</td>\n",
       "      <td>10.32</td>\n",
       "    </tr>\n",
       "    <tr>\n",
       "      <td>2</td>\n",
       "      <td>5751422</td>\n",
       "      <td>529</td>\n",
       "      <td>1487580005268456287</td>\n",
       "      <td>uno</td>\n",
       "      <td>10.95</td>\n",
       "    </tr>\n",
       "    <tr>\n",
       "      <td>3</td>\n",
       "      <td>5809911</td>\n",
       "      <td>756</td>\n",
       "      <td>1602943681873052386</td>\n",
       "      <td>grattol</td>\n",
       "      <td>5.24</td>\n",
       "    </tr>\n",
       "    <tr>\n",
       "      <td>3</td>\n",
       "      <td>5809910</td>\n",
       "      <td>756</td>\n",
       "      <td>1602943681873052386</td>\n",
       "      <td>grattol</td>\n",
       "      <td>5.24</td>\n",
       "    </tr>\n",
       "    <tr>\n",
       "      <td>4</td>\n",
       "      <td>3762</td>\n",
       "      <td>178</td>\n",
       "      <td>1487580005411062629</td>\n",
       "      <td>cnd</td>\n",
       "      <td>19.37</td>\n",
       "    </tr>\n",
       "    <tr>\n",
       "      <td>4</td>\n",
       "      <td>4185</td>\n",
       "      <td>178</td>\n",
       "      <td>1487580005411062629</td>\n",
       "      <td>cnd</td>\n",
       "      <td>19.37</td>\n",
       "    </tr>\n",
       "    <tr>\n",
       "      <td>5</td>\n",
       "      <td>5528034</td>\n",
       "      <td>340</td>\n",
       "      <td>1487580005553668971</td>\n",
       "      <td>nan</td>\n",
       "      <td>9.52</td>\n",
       "    </tr>\n",
       "    <tr>\n",
       "      <td>5</td>\n",
       "      <td>5528035</td>\n",
       "      <td>340</td>\n",
       "      <td>1487580005553668971</td>\n",
       "      <td>nan</td>\n",
       "      <td>9.52</td>\n",
       "    </tr>\n",
       "    <tr>\n",
       "      <td>6</td>\n",
       "      <td>5809910</td>\n",
       "      <td>381</td>\n",
       "      <td>1602943681873052386</td>\n",
       "      <td>grattol</td>\n",
       "      <td>5.24</td>\n",
       "    </tr>\n",
       "    <tr>\n",
       "      <td>6</td>\n",
       "      <td>5809912</td>\n",
       "      <td>381</td>\n",
       "      <td>1602943681873052386</td>\n",
       "      <td>grattol</td>\n",
       "      <td>5.24</td>\n",
       "    </tr>\n",
       "    <tr>\n",
       "      <td>6</td>\n",
       "      <td>5809911</td>\n",
       "      <td>381</td>\n",
       "      <td>1602943681873052386</td>\n",
       "      <td>grattol</td>\n",
       "      <td>5.24</td>\n",
       "    </tr>\n",
       "    <tr>\n",
       "      <td>7</td>\n",
       "      <td>5809910</td>\n",
       "      <td>569</td>\n",
       "      <td>1602943681873052386</td>\n",
       "      <td>grattol</td>\n",
       "      <td>5.24</td>\n",
       "    </tr>\n",
       "    <tr>\n",
       "      <td>7</td>\n",
       "      <td>5816170</td>\n",
       "      <td>569</td>\n",
       "      <td>1602943681873052386</td>\n",
       "      <td>grattol</td>\n",
       "      <td>5.24</td>\n",
       "    </tr>\n",
       "    <tr>\n",
       "      <td>8</td>\n",
       "      <td>5820270</td>\n",
       "      <td>107</td>\n",
       "      <td>1487580005268456287</td>\n",
       "      <td>uno</td>\n",
       "      <td>26.83</td>\n",
       "    </tr>\n",
       "    <tr>\n",
       "      <td>8</td>\n",
       "      <td>5823970</td>\n",
       "      <td>107</td>\n",
       "      <td>1487580005092295511</td>\n",
       "      <td>uno</td>\n",
       "      <td>26.83</td>\n",
       "    </tr>\n",
       "    <tr>\n",
       "      <td>9</td>\n",
       "      <td>5809912</td>\n",
       "      <td>546</td>\n",
       "      <td>1602943681873052386</td>\n",
       "      <td>grattol</td>\n",
       "      <td>5.24</td>\n",
       "    </tr>\n",
       "    <tr>\n",
       "      <td>9</td>\n",
       "      <td>5809911</td>\n",
       "      <td>546</td>\n",
       "      <td>1602943681873052386</td>\n",
       "      <td>grattol</td>\n",
       "      <td>5.24</td>\n",
       "    </tr>\n",
       "  </tbody>\n",
       "</table>"
      ],
      "text/plain": [
       "<IPython.core.display.HTML object>"
      ]
     },
     "execution_count": 68,
     "metadata": {},
     "output_type": "execute_result"
    }
   ],
   "source": [
    "# A minSupRatio of 0.007 means, in case of profitability, that it represents 0.007 of total revenues rspectively profit. We made the profit fo each product equal.\n",
    "# Let's oberserve what kind of items we have found.\n",
    "\n",
    "\n",
    "rules_exploded = rules.explode(\"antecedent&consequent\")[[\"antecedent&consequent\",\"sup_ant&cons\",\"profit_associated\",\"perc_of_total_profit\"]]\n",
    "rules_exploded.insert(0,\"rules_index\",rules_exploded.index)\n",
    "\n",
    "rules_labeled =pd.merge(rules_exploded,unique_items, how=\"inner\", left_on=\"antecedent&consequent\",right_on=\"product_id\").sort_values(\"rules_index\").reset_index(drop=True)\n",
    "\n",
    "rules_labeled.to_excel(\"rules_labeled.xlsx\",index=False)\n",
    "\n",
    "rules_labeled[\"profit_associated\"] = rules_labeled[\"profit_associated\"].astype(int)\n",
    "\n",
    "rules_labeled_new = rules_labeled[[\"rules_index\",\"antecedent&consequent\",\"sup_ant&cons\",\"category_id\",\"brand\",\"price\"]]\n",
    "\n",
    "HTML(rules_labeled_new.to_html(index=False))"
   ]
  },
  {
   "cell_type": "code",
   "execution_count": null,
   "metadata": {},
   "outputs": [],
   "source": []
  }
 ],
 "metadata": {
  "kernelspec": {
   "display_name": "Python 3.9.13 ('base')",
   "language": "python",
   "name": "python3"
  },
  "language_info": {
   "codemirror_mode": {
    "name": "ipython",
    "version": 3
   },
   "file_extension": ".py",
   "mimetype": "text/x-python",
   "name": "python",
   "nbconvert_exporter": "python",
   "pygments_lexer": "ipython3",
   "version": "3.9.13 (main, Aug 25 2022, 23:51:50) [MSC v.1916 64 bit (AMD64)]"
  },
  "orig_nbformat": 4,
  "vscode": {
   "interpreter": {
    "hash": "ad2bdc8ecc057115af97d19610ffacc2b4e99fae6737bb82f5d7fb13d2f2c186"
   }
  }
 },
 "nbformat": 4,
 "nbformat_minor": 2
}
