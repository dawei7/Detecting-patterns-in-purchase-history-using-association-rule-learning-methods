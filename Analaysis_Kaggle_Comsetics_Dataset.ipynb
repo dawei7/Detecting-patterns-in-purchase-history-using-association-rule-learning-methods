{
 "cells": [
  {
   "cell_type": "markdown",
   "metadata": {},
   "source": [
    "## Association Rules - Old vs. New Algorithm"
   ]
  },
  {
   "cell_type": "markdown",
   "metadata": {},
   "source": [
    "### Dataset: eCommerce_purchase_history_from_cosmetics_store"
   ]
  },
  {
   "cell_type": "markdown",
   "metadata": {},
   "source": [
    "#### 1 Investigating Dataset"
   ]
  },
  {
   "cell_type": "markdown",
   "metadata": {},
   "source": [
    "#### 1.1 Description\n",
    "Kaggle Dataset: https://www.kaggle.com/datasets/mkechinov/ecommerce-events-history-in-cosmetics-shop <br>\n",
    "The Dataset is Open-Source <br>\n",
    "This file contains behavior data for 5 months (Oct 2019 – Feb 2020) from a medium cosmetics online store.<br>"
   ]
  },
  {
   "cell_type": "code",
   "execution_count": 1,
   "metadata": {},
   "outputs": [],
   "source": [
    "import os\n",
    "import pandas as pd\n",
    "import glob"
   ]
  },
  {
   "cell_type": "code",
   "execution_count": 2,
   "metadata": {},
   "outputs": [
    {
     "data": {
      "text/html": [
       "<div>\n",
       "<style scoped>\n",
       "    .dataframe tbody tr th:only-of-type {\n",
       "        vertical-align: middle;\n",
       "    }\n",
       "\n",
       "    .dataframe tbody tr th {\n",
       "        vertical-align: top;\n",
       "    }\n",
       "\n",
       "    .dataframe thead th {\n",
       "        text-align: right;\n",
       "    }\n",
       "</style>\n",
       "<table border=\"1\" class=\"dataframe\">\n",
       "  <thead>\n",
       "    <tr style=\"text-align: right;\">\n",
       "      <th></th>\n",
       "      <th>event_time</th>\n",
       "      <th>event_type</th>\n",
       "      <th>product_id</th>\n",
       "      <th>category_id</th>\n",
       "      <th>category_code</th>\n",
       "      <th>brand</th>\n",
       "      <th>price</th>\n",
       "      <th>user_id</th>\n",
       "      <th>order_id</th>\n",
       "    </tr>\n",
       "  </thead>\n",
       "  <tbody>\n",
       "    <tr>\n",
       "      <th>0</th>\n",
       "      <td>2019-12-01 00:17:50 UTC</td>\n",
       "      <td>purchase</td>\n",
       "      <td>4554</td>\n",
       "      <td>1487580010796548183</td>\n",
       "      <td>NaN</td>\n",
       "      <td>runail</td>\n",
       "      <td>0.38</td>\n",
       "      <td>473613801</td>\n",
       "      <td>d1e90c6a-c030-4d06-aaaf-6d12ec502bb9</td>\n",
       "    </tr>\n",
       "    <tr>\n",
       "      <th>1</th>\n",
       "      <td>2019-12-01 00:17:50 UTC</td>\n",
       "      <td>purchase</td>\n",
       "      <td>4600</td>\n",
       "      <td>1487580010796548183</td>\n",
       "      <td>NaN</td>\n",
       "      <td>runail</td>\n",
       "      <td>0.38</td>\n",
       "      <td>473613801</td>\n",
       "      <td>d1e90c6a-c030-4d06-aaaf-6d12ec502bb9</td>\n",
       "    </tr>\n",
       "    <tr>\n",
       "      <th>2</th>\n",
       "      <td>2019-12-01 00:17:50 UTC</td>\n",
       "      <td>purchase</td>\n",
       "      <td>4607</td>\n",
       "      <td>1487580010796548183</td>\n",
       "      <td>NaN</td>\n",
       "      <td>runail</td>\n",
       "      <td>0.38</td>\n",
       "      <td>473613801</td>\n",
       "      <td>d1e90c6a-c030-4d06-aaaf-6d12ec502bb9</td>\n",
       "    </tr>\n",
       "    <tr>\n",
       "      <th>3</th>\n",
       "      <td>2019-12-01 00:17:50 UTC</td>\n",
       "      <td>purchase</td>\n",
       "      <td>4640</td>\n",
       "      <td>1487580011157258342</td>\n",
       "      <td>NaN</td>\n",
       "      <td>runail</td>\n",
       "      <td>0.37</td>\n",
       "      <td>473613801</td>\n",
       "      <td>d1e90c6a-c030-4d06-aaaf-6d12ec502bb9</td>\n",
       "    </tr>\n",
       "    <tr>\n",
       "      <th>4</th>\n",
       "      <td>2019-12-01 00:17:50 UTC</td>\n",
       "      <td>purchase</td>\n",
       "      <td>4689</td>\n",
       "      <td>1487580010796548183</td>\n",
       "      <td>NaN</td>\n",
       "      <td>runail</td>\n",
       "      <td>0.38</td>\n",
       "      <td>473613801</td>\n",
       "      <td>d1e90c6a-c030-4d06-aaaf-6d12ec502bb9</td>\n",
       "    </tr>\n",
       "    <tr>\n",
       "      <th>...</th>\n",
       "      <td>...</td>\n",
       "      <td>...</td>\n",
       "      <td>...</td>\n",
       "      <td>...</td>\n",
       "      <td>...</td>\n",
       "      <td>...</td>\n",
       "      <td>...</td>\n",
       "      <td>...</td>\n",
       "      <td>...</td>\n",
       "    </tr>\n",
       "    <tr>\n",
       "      <th>1287002</th>\n",
       "      <td>2020-01-31 23:58:26 UTC</td>\n",
       "      <td>purchase</td>\n",
       "      <td>5730206</td>\n",
       "      <td>1487580005092295511</td>\n",
       "      <td>NaN</td>\n",
       "      <td>NaN</td>\n",
       "      <td>10.32</td>\n",
       "      <td>604470329</td>\n",
       "      <td>6f853f2d-e1aa-49d4-84d8-284566ea1a0e</td>\n",
       "    </tr>\n",
       "    <tr>\n",
       "      <th>1287003</th>\n",
       "      <td>2020-01-31 23:58:26 UTC</td>\n",
       "      <td>purchase</td>\n",
       "      <td>5861342</td>\n",
       "      <td>1487580010645553231</td>\n",
       "      <td>NaN</td>\n",
       "      <td>NaN</td>\n",
       "      <td>1.90</td>\n",
       "      <td>604470329</td>\n",
       "      <td>6f853f2d-e1aa-49d4-84d8-284566ea1a0e</td>\n",
       "    </tr>\n",
       "    <tr>\n",
       "      <th>1287004</th>\n",
       "      <td>2020-01-31 23:58:26 UTC</td>\n",
       "      <td>purchase</td>\n",
       "      <td>5867185</td>\n",
       "      <td>1487580007910867929</td>\n",
       "      <td>NaN</td>\n",
       "      <td>staleks</td>\n",
       "      <td>11.43</td>\n",
       "      <td>604470329</td>\n",
       "      <td>6f853f2d-e1aa-49d4-84d8-284566ea1a0e</td>\n",
       "    </tr>\n",
       "    <tr>\n",
       "      <th>1287005</th>\n",
       "      <td>2020-01-31 23:58:26 UTC</td>\n",
       "      <td>purchase</td>\n",
       "      <td>5877766</td>\n",
       "      <td>1605161575889502297</td>\n",
       "      <td>NaN</td>\n",
       "      <td>NaN</td>\n",
       "      <td>4.76</td>\n",
       "      <td>604470329</td>\n",
       "      <td>6f853f2d-e1aa-49d4-84d8-284566ea1a0e</td>\n",
       "    </tr>\n",
       "    <tr>\n",
       "      <th>1287006</th>\n",
       "      <td>2020-01-31 23:58:26 UTC</td>\n",
       "      <td>purchase</td>\n",
       "      <td>5905704</td>\n",
       "      <td>1487580005092295511</td>\n",
       "      <td>NaN</td>\n",
       "      <td>NaN</td>\n",
       "      <td>10.63</td>\n",
       "      <td>604470329</td>\n",
       "      <td>6f853f2d-e1aa-49d4-84d8-284566ea1a0e</td>\n",
       "    </tr>\n",
       "  </tbody>\n",
       "</table>\n",
       "<p>1287007 rows × 9 columns</p>\n",
       "</div>"
      ],
      "text/plain": [
       "                      event_time event_type  product_id          category_id  \\\n",
       "0        2019-12-01 00:17:50 UTC   purchase        4554  1487580010796548183   \n",
       "1        2019-12-01 00:17:50 UTC   purchase        4600  1487580010796548183   \n",
       "2        2019-12-01 00:17:50 UTC   purchase        4607  1487580010796548183   \n",
       "3        2019-12-01 00:17:50 UTC   purchase        4640  1487580011157258342   \n",
       "4        2019-12-01 00:17:50 UTC   purchase        4689  1487580010796548183   \n",
       "...                          ...        ...         ...                  ...   \n",
       "1287002  2020-01-31 23:58:26 UTC   purchase     5730206  1487580005092295511   \n",
       "1287003  2020-01-31 23:58:26 UTC   purchase     5861342  1487580010645553231   \n",
       "1287004  2020-01-31 23:58:26 UTC   purchase     5867185  1487580007910867929   \n",
       "1287005  2020-01-31 23:58:26 UTC   purchase     5877766  1605161575889502297   \n",
       "1287006  2020-01-31 23:58:26 UTC   purchase     5905704  1487580005092295511   \n",
       "\n",
       "        category_code    brand  price    user_id  \\\n",
       "0                 NaN   runail   0.38  473613801   \n",
       "1                 NaN   runail   0.38  473613801   \n",
       "2                 NaN   runail   0.38  473613801   \n",
       "3                 NaN   runail   0.37  473613801   \n",
       "4                 NaN   runail   0.38  473613801   \n",
       "...               ...      ...    ...        ...   \n",
       "1287002           NaN      NaN  10.32  604470329   \n",
       "1287003           NaN      NaN   1.90  604470329   \n",
       "1287004           NaN  staleks  11.43  604470329   \n",
       "1287005           NaN      NaN   4.76  604470329   \n",
       "1287006           NaN      NaN  10.63  604470329   \n",
       "\n",
       "                                     order_id  \n",
       "0        d1e90c6a-c030-4d06-aaaf-6d12ec502bb9  \n",
       "1        d1e90c6a-c030-4d06-aaaf-6d12ec502bb9  \n",
       "2        d1e90c6a-c030-4d06-aaaf-6d12ec502bb9  \n",
       "3        d1e90c6a-c030-4d06-aaaf-6d12ec502bb9  \n",
       "4        d1e90c6a-c030-4d06-aaaf-6d12ec502bb9  \n",
       "...                                       ...  \n",
       "1287002  6f853f2d-e1aa-49d4-84d8-284566ea1a0e  \n",
       "1287003  6f853f2d-e1aa-49d4-84d8-284566ea1a0e  \n",
       "1287004  6f853f2d-e1aa-49d4-84d8-284566ea1a0e  \n",
       "1287005  6f853f2d-e1aa-49d4-84d8-284566ea1a0e  \n",
       "1287006  6f853f2d-e1aa-49d4-84d8-284566ea1a0e  \n",
       "\n",
       "[1287007 rows x 9 columns]"
      ]
     },
     "execution_count": 2,
     "metadata": {},
     "output_type": "execute_result"
    }
   ],
   "source": [
    "import glob\n",
    "import os\n",
    "\n",
    "# setting the path for joining multiple files\n",
    "files = os.path.join(os.getcwd(), \"datasets/eCommerce_purchase_history_from_cosmetics_store/*.csv\")\n",
    "\n",
    "# list of merged files returned\n",
    "files = glob.glob(files)\n",
    "\n",
    "# joining files with concat and read_csv\n",
    "data_raw = pd.concat(map(pd.read_csv, files), ignore_index=True).iloc[:,1:].rename(columns={\"user_session\":\"order_id\"})\n",
    "\n",
    "data_raw\n"
   ]
  },
  {
   "cell_type": "code",
   "execution_count": 3,
   "metadata": {},
   "outputs": [],
   "source": [
    "# Quantity is always 1\n",
    "grouped_mutliple_items = data_raw.groupby(['order_id', 'product_id']).agg({'user_id': ['count']})\n",
    "\n",
    "#grouped_mutliple_items[grouped_mutliple_items[\"quantity\"]>1]\n",
    "\n",
    "grouped_mutliple_items.columns = [\"user_id\"]\n",
    "grouped_mutliple_items.rename(columns={\"user_id\":\"quantity\"},inplace=True)\n",
    "grouped_mutliple_items = grouped_mutliple_items.reset_index()\n",
    "grouped_mutliple_items = grouped_mutliple_items[grouped_mutliple_items[\"quantity\"]>1].sort_values(\"quantity\",ascending=False)"
   ]
  },
  {
   "cell_type": "code",
   "execution_count": 4,
   "metadata": {},
   "outputs": [
    {
     "data": {
      "text/html": [
       "<div>\n",
       "<style scoped>\n",
       "    .dataframe tbody tr th:only-of-type {\n",
       "        vertical-align: middle;\n",
       "    }\n",
       "\n",
       "    .dataframe tbody tr th {\n",
       "        vertical-align: top;\n",
       "    }\n",
       "\n",
       "    .dataframe thead th {\n",
       "        text-align: right;\n",
       "    }\n",
       "</style>\n",
       "<table border=\"1\" class=\"dataframe\">\n",
       "  <thead>\n",
       "    <tr style=\"text-align: right;\">\n",
       "      <th></th>\n",
       "      <th>order_id</th>\n",
       "      <th>product_id</th>\n",
       "      <th>quantity</th>\n",
       "    </tr>\n",
       "  </thead>\n",
       "  <tbody>\n",
       "    <tr>\n",
       "      <th>368420</th>\n",
       "      <td>49bc852c-cbc7-4d84-9a2c-8144205b571a</td>\n",
       "      <td>5751422</td>\n",
       "      <td>10</td>\n",
       "    </tr>\n",
       "    <tr>\n",
       "      <th>368421</th>\n",
       "      <td>49bc852c-cbc7-4d84-9a2c-8144205b571a</td>\n",
       "      <td>5809910</td>\n",
       "      <td>10</td>\n",
       "    </tr>\n",
       "    <tr>\n",
       "      <th>1252940</th>\n",
       "      <td>fb5a2f8f-837c-4e50-9b3d-bdcbdc75315e</td>\n",
       "      <td>5778113</td>\n",
       "      <td>9</td>\n",
       "    </tr>\n",
       "    <tr>\n",
       "      <th>368422</th>\n",
       "      <td>49bc852c-cbc7-4d84-9a2c-8144205b571a</td>\n",
       "      <td>5809912</td>\n",
       "      <td>9</td>\n",
       "    </tr>\n",
       "    <tr>\n",
       "      <th>368414</th>\n",
       "      <td>49bc852c-cbc7-4d84-9a2c-8144205b571a</td>\n",
       "      <td>5304</td>\n",
       "      <td>9</td>\n",
       "    </tr>\n",
       "    <tr>\n",
       "      <th>...</th>\n",
       "      <td>...</td>\n",
       "      <td>...</td>\n",
       "      <td>...</td>\n",
       "    </tr>\n",
       "    <tr>\n",
       "      <th>435978</th>\n",
       "      <td>570ac7f0-7bc2-7587-5c70-388c76d73451</td>\n",
       "      <td>5809303</td>\n",
       "      <td>2</td>\n",
       "    </tr>\n",
       "    <tr>\n",
       "      <th>435979</th>\n",
       "      <td>570ac7f0-7bc2-7587-5c70-388c76d73451</td>\n",
       "      <td>5841799</td>\n",
       "      <td>2</td>\n",
       "    </tr>\n",
       "    <tr>\n",
       "      <th>435980</th>\n",
       "      <td>570ac7f0-7bc2-7587-5c70-388c76d73451</td>\n",
       "      <td>5856952</td>\n",
       "      <td>2</td>\n",
       "    </tr>\n",
       "    <tr>\n",
       "      <th>435981</th>\n",
       "      <td>570ac7f0-7bc2-7587-5c70-388c76d73451</td>\n",
       "      <td>5879128</td>\n",
       "      <td>2</td>\n",
       "    </tr>\n",
       "    <tr>\n",
       "      <th>1275909</th>\n",
       "      <td>ffe966d6-af02-474d-8953-1b8881cff012</td>\n",
       "      <td>5588154</td>\n",
       "      <td>2</td>\n",
       "    </tr>\n",
       "  </tbody>\n",
       "</table>\n",
       "<p>10123 rows × 3 columns</p>\n",
       "</div>"
      ],
      "text/plain": [
       "                                     order_id  product_id  quantity\n",
       "368420   49bc852c-cbc7-4d84-9a2c-8144205b571a     5751422        10\n",
       "368421   49bc852c-cbc7-4d84-9a2c-8144205b571a     5809910        10\n",
       "1252940  fb5a2f8f-837c-4e50-9b3d-bdcbdc75315e     5778113         9\n",
       "368422   49bc852c-cbc7-4d84-9a2c-8144205b571a     5809912         9\n",
       "368414   49bc852c-cbc7-4d84-9a2c-8144205b571a        5304         9\n",
       "...                                       ...         ...       ...\n",
       "435978   570ac7f0-7bc2-7587-5c70-388c76d73451     5809303         2\n",
       "435979   570ac7f0-7bc2-7587-5c70-388c76d73451     5841799         2\n",
       "435980   570ac7f0-7bc2-7587-5c70-388c76d73451     5856952         2\n",
       "435981   570ac7f0-7bc2-7587-5c70-388c76d73451     5879128         2\n",
       "1275909  ffe966d6-af02-474d-8953-1b8881cff012     5588154         2\n",
       "\n",
       "[10123 rows x 3 columns]"
      ]
     },
     "execution_count": 4,
     "metadata": {},
     "output_type": "execute_result"
    }
   ],
   "source": [
    "grouped_mutliple_items"
   ]
  },
  {
   "cell_type": "code",
   "execution_count": 5,
   "metadata": {},
   "outputs": [
    {
     "data": {
      "application/vnd.plotly.v1+json": {
       "config": {
        "plotlyServerURL": "https://plot.ly"
       },
       "data": [
        {
         "alignmentgroup": "True",
         "hovertemplate": "index=%{x}<br>y=%{y}<extra></extra>",
         "legendgroup": "",
         "marker": {
          "color": "#636efa",
          "pattern": {
           "shape": ""
          }
         },
         "name": "",
         "offsetgroup": "",
         "orientation": "v",
         "showlegend": false,
         "textposition": "auto",
         "type": "bar",
         "width": 0.5,
         "x": [
          2,
          3,
          4,
          5,
          6,
          9,
          10,
          7,
          8
         ],
         "xaxis": "x",
         "y": [
          0.9557443445618887,
          0.03655042971451151,
          0.004445322532845995,
          0.0019756989034871086,
          0.0004939247258717772,
          0.0002963548355230663,
          0.00019756989034871086,
          0.00019756989034871086,
          0.00009878494517435543
         ],
         "yaxis": "y"
        }
       ],
       "layout": {
        "barmode": "relative",
        "height": 400,
        "legend": {
         "title": {
          "text": "Multiple items per transaction distribution"
         },
         "tracegroupgap": 0
        },
        "margin": {
         "t": 60
        },
        "template": {
         "data": {
          "bar": [
           {
            "error_x": {
             "color": "#2a3f5f"
            },
            "error_y": {
             "color": "#2a3f5f"
            },
            "marker": {
             "line": {
              "color": "#E5ECF6",
              "width": 0.5
             },
             "pattern": {
              "fillmode": "overlay",
              "size": 10,
              "solidity": 0.2
             }
            },
            "type": "bar"
           }
          ],
          "barpolar": [
           {
            "marker": {
             "line": {
              "color": "#E5ECF6",
              "width": 0.5
             },
             "pattern": {
              "fillmode": "overlay",
              "size": 10,
              "solidity": 0.2
             }
            },
            "type": "barpolar"
           }
          ],
          "carpet": [
           {
            "aaxis": {
             "endlinecolor": "#2a3f5f",
             "gridcolor": "white",
             "linecolor": "white",
             "minorgridcolor": "white",
             "startlinecolor": "#2a3f5f"
            },
            "baxis": {
             "endlinecolor": "#2a3f5f",
             "gridcolor": "white",
             "linecolor": "white",
             "minorgridcolor": "white",
             "startlinecolor": "#2a3f5f"
            },
            "type": "carpet"
           }
          ],
          "choropleth": [
           {
            "colorbar": {
             "outlinewidth": 0,
             "ticks": ""
            },
            "type": "choropleth"
           }
          ],
          "contour": [
           {
            "colorbar": {
             "outlinewidth": 0,
             "ticks": ""
            },
            "colorscale": [
             [
              0,
              "#0d0887"
             ],
             [
              0.1111111111111111,
              "#46039f"
             ],
             [
              0.2222222222222222,
              "#7201a8"
             ],
             [
              0.3333333333333333,
              "#9c179e"
             ],
             [
              0.4444444444444444,
              "#bd3786"
             ],
             [
              0.5555555555555556,
              "#d8576b"
             ],
             [
              0.6666666666666666,
              "#ed7953"
             ],
             [
              0.7777777777777778,
              "#fb9f3a"
             ],
             [
              0.8888888888888888,
              "#fdca26"
             ],
             [
              1,
              "#f0f921"
             ]
            ],
            "type": "contour"
           }
          ],
          "contourcarpet": [
           {
            "colorbar": {
             "outlinewidth": 0,
             "ticks": ""
            },
            "type": "contourcarpet"
           }
          ],
          "heatmap": [
           {
            "colorbar": {
             "outlinewidth": 0,
             "ticks": ""
            },
            "colorscale": [
             [
              0,
              "#0d0887"
             ],
             [
              0.1111111111111111,
              "#46039f"
             ],
             [
              0.2222222222222222,
              "#7201a8"
             ],
             [
              0.3333333333333333,
              "#9c179e"
             ],
             [
              0.4444444444444444,
              "#bd3786"
             ],
             [
              0.5555555555555556,
              "#d8576b"
             ],
             [
              0.6666666666666666,
              "#ed7953"
             ],
             [
              0.7777777777777778,
              "#fb9f3a"
             ],
             [
              0.8888888888888888,
              "#fdca26"
             ],
             [
              1,
              "#f0f921"
             ]
            ],
            "type": "heatmap"
           }
          ],
          "heatmapgl": [
           {
            "colorbar": {
             "outlinewidth": 0,
             "ticks": ""
            },
            "colorscale": [
             [
              0,
              "#0d0887"
             ],
             [
              0.1111111111111111,
              "#46039f"
             ],
             [
              0.2222222222222222,
              "#7201a8"
             ],
             [
              0.3333333333333333,
              "#9c179e"
             ],
             [
              0.4444444444444444,
              "#bd3786"
             ],
             [
              0.5555555555555556,
              "#d8576b"
             ],
             [
              0.6666666666666666,
              "#ed7953"
             ],
             [
              0.7777777777777778,
              "#fb9f3a"
             ],
             [
              0.8888888888888888,
              "#fdca26"
             ],
             [
              1,
              "#f0f921"
             ]
            ],
            "type": "heatmapgl"
           }
          ],
          "histogram": [
           {
            "marker": {
             "pattern": {
              "fillmode": "overlay",
              "size": 10,
              "solidity": 0.2
             }
            },
            "type": "histogram"
           }
          ],
          "histogram2d": [
           {
            "colorbar": {
             "outlinewidth": 0,
             "ticks": ""
            },
            "colorscale": [
             [
              0,
              "#0d0887"
             ],
             [
              0.1111111111111111,
              "#46039f"
             ],
             [
              0.2222222222222222,
              "#7201a8"
             ],
             [
              0.3333333333333333,
              "#9c179e"
             ],
             [
              0.4444444444444444,
              "#bd3786"
             ],
             [
              0.5555555555555556,
              "#d8576b"
             ],
             [
              0.6666666666666666,
              "#ed7953"
             ],
             [
              0.7777777777777778,
              "#fb9f3a"
             ],
             [
              0.8888888888888888,
              "#fdca26"
             ],
             [
              1,
              "#f0f921"
             ]
            ],
            "type": "histogram2d"
           }
          ],
          "histogram2dcontour": [
           {
            "colorbar": {
             "outlinewidth": 0,
             "ticks": ""
            },
            "colorscale": [
             [
              0,
              "#0d0887"
             ],
             [
              0.1111111111111111,
              "#46039f"
             ],
             [
              0.2222222222222222,
              "#7201a8"
             ],
             [
              0.3333333333333333,
              "#9c179e"
             ],
             [
              0.4444444444444444,
              "#bd3786"
             ],
             [
              0.5555555555555556,
              "#d8576b"
             ],
             [
              0.6666666666666666,
              "#ed7953"
             ],
             [
              0.7777777777777778,
              "#fb9f3a"
             ],
             [
              0.8888888888888888,
              "#fdca26"
             ],
             [
              1,
              "#f0f921"
             ]
            ],
            "type": "histogram2dcontour"
           }
          ],
          "mesh3d": [
           {
            "colorbar": {
             "outlinewidth": 0,
             "ticks": ""
            },
            "type": "mesh3d"
           }
          ],
          "parcoords": [
           {
            "line": {
             "colorbar": {
              "outlinewidth": 0,
              "ticks": ""
             }
            },
            "type": "parcoords"
           }
          ],
          "pie": [
           {
            "automargin": true,
            "type": "pie"
           }
          ],
          "scatter": [
           {
            "fillpattern": {
             "fillmode": "overlay",
             "size": 10,
             "solidity": 0.2
            },
            "type": "scatter"
           }
          ],
          "scatter3d": [
           {
            "line": {
             "colorbar": {
              "outlinewidth": 0,
              "ticks": ""
             }
            },
            "marker": {
             "colorbar": {
              "outlinewidth": 0,
              "ticks": ""
             }
            },
            "type": "scatter3d"
           }
          ],
          "scattercarpet": [
           {
            "marker": {
             "colorbar": {
              "outlinewidth": 0,
              "ticks": ""
             }
            },
            "type": "scattercarpet"
           }
          ],
          "scattergeo": [
           {
            "marker": {
             "colorbar": {
              "outlinewidth": 0,
              "ticks": ""
             }
            },
            "type": "scattergeo"
           }
          ],
          "scattergl": [
           {
            "marker": {
             "colorbar": {
              "outlinewidth": 0,
              "ticks": ""
             }
            },
            "type": "scattergl"
           }
          ],
          "scattermapbox": [
           {
            "marker": {
             "colorbar": {
              "outlinewidth": 0,
              "ticks": ""
             }
            },
            "type": "scattermapbox"
           }
          ],
          "scatterpolar": [
           {
            "marker": {
             "colorbar": {
              "outlinewidth": 0,
              "ticks": ""
             }
            },
            "type": "scatterpolar"
           }
          ],
          "scatterpolargl": [
           {
            "marker": {
             "colorbar": {
              "outlinewidth": 0,
              "ticks": ""
             }
            },
            "type": "scatterpolargl"
           }
          ],
          "scatterternary": [
           {
            "marker": {
             "colorbar": {
              "outlinewidth": 0,
              "ticks": ""
             }
            },
            "type": "scatterternary"
           }
          ],
          "surface": [
           {
            "colorbar": {
             "outlinewidth": 0,
             "ticks": ""
            },
            "colorscale": [
             [
              0,
              "#0d0887"
             ],
             [
              0.1111111111111111,
              "#46039f"
             ],
             [
              0.2222222222222222,
              "#7201a8"
             ],
             [
              0.3333333333333333,
              "#9c179e"
             ],
             [
              0.4444444444444444,
              "#bd3786"
             ],
             [
              0.5555555555555556,
              "#d8576b"
             ],
             [
              0.6666666666666666,
              "#ed7953"
             ],
             [
              0.7777777777777778,
              "#fb9f3a"
             ],
             [
              0.8888888888888888,
              "#fdca26"
             ],
             [
              1,
              "#f0f921"
             ]
            ],
            "type": "surface"
           }
          ],
          "table": [
           {
            "cells": {
             "fill": {
              "color": "#EBF0F8"
             },
             "line": {
              "color": "white"
             }
            },
            "header": {
             "fill": {
              "color": "#C8D4E3"
             },
             "line": {
              "color": "white"
             }
            },
            "type": "table"
           }
          ]
         },
         "layout": {
          "annotationdefaults": {
           "arrowcolor": "#2a3f5f",
           "arrowhead": 0,
           "arrowwidth": 1
          },
          "autotypenumbers": "strict",
          "coloraxis": {
           "colorbar": {
            "outlinewidth": 0,
            "ticks": ""
           }
          },
          "colorscale": {
           "diverging": [
            [
             0,
             "#8e0152"
            ],
            [
             0.1,
             "#c51b7d"
            ],
            [
             0.2,
             "#de77ae"
            ],
            [
             0.3,
             "#f1b6da"
            ],
            [
             0.4,
             "#fde0ef"
            ],
            [
             0.5,
             "#f7f7f7"
            ],
            [
             0.6,
             "#e6f5d0"
            ],
            [
             0.7,
             "#b8e186"
            ],
            [
             0.8,
             "#7fbc41"
            ],
            [
             0.9,
             "#4d9221"
            ],
            [
             1,
             "#276419"
            ]
           ],
           "sequential": [
            [
             0,
             "#0d0887"
            ],
            [
             0.1111111111111111,
             "#46039f"
            ],
            [
             0.2222222222222222,
             "#7201a8"
            ],
            [
             0.3333333333333333,
             "#9c179e"
            ],
            [
             0.4444444444444444,
             "#bd3786"
            ],
            [
             0.5555555555555556,
             "#d8576b"
            ],
            [
             0.6666666666666666,
             "#ed7953"
            ],
            [
             0.7777777777777778,
             "#fb9f3a"
            ],
            [
             0.8888888888888888,
             "#fdca26"
            ],
            [
             1,
             "#f0f921"
            ]
           ],
           "sequentialminus": [
            [
             0,
             "#0d0887"
            ],
            [
             0.1111111111111111,
             "#46039f"
            ],
            [
             0.2222222222222222,
             "#7201a8"
            ],
            [
             0.3333333333333333,
             "#9c179e"
            ],
            [
             0.4444444444444444,
             "#bd3786"
            ],
            [
             0.5555555555555556,
             "#d8576b"
            ],
            [
             0.6666666666666666,
             "#ed7953"
            ],
            [
             0.7777777777777778,
             "#fb9f3a"
            ],
            [
             0.8888888888888888,
             "#fdca26"
            ],
            [
             1,
             "#f0f921"
            ]
           ]
          },
          "colorway": [
           "#636efa",
           "#EF553B",
           "#00cc96",
           "#ab63fa",
           "#FFA15A",
           "#19d3f3",
           "#FF6692",
           "#B6E880",
           "#FF97FF",
           "#FECB52"
          ],
          "font": {
           "color": "#2a3f5f"
          },
          "geo": {
           "bgcolor": "white",
           "lakecolor": "white",
           "landcolor": "#E5ECF6",
           "showlakes": true,
           "showland": true,
           "subunitcolor": "white"
          },
          "hoverlabel": {
           "align": "left"
          },
          "hovermode": "closest",
          "mapbox": {
           "style": "light"
          },
          "paper_bgcolor": "white",
          "plot_bgcolor": "#E5ECF6",
          "polar": {
           "angularaxis": {
            "gridcolor": "white",
            "linecolor": "white",
            "ticks": ""
           },
           "bgcolor": "#E5ECF6",
           "radialaxis": {
            "gridcolor": "white",
            "linecolor": "white",
            "ticks": ""
           }
          },
          "scene": {
           "xaxis": {
            "backgroundcolor": "#E5ECF6",
            "gridcolor": "white",
            "gridwidth": 2,
            "linecolor": "white",
            "showbackground": true,
            "ticks": "",
            "zerolinecolor": "white"
           },
           "yaxis": {
            "backgroundcolor": "#E5ECF6",
            "gridcolor": "white",
            "gridwidth": 2,
            "linecolor": "white",
            "showbackground": true,
            "ticks": "",
            "zerolinecolor": "white"
           },
           "zaxis": {
            "backgroundcolor": "#E5ECF6",
            "gridcolor": "white",
            "gridwidth": 2,
            "linecolor": "white",
            "showbackground": true,
            "ticks": "",
            "zerolinecolor": "white"
           }
          },
          "shapedefaults": {
           "line": {
            "color": "#2a3f5f"
           }
          },
          "ternary": {
           "aaxis": {
            "gridcolor": "white",
            "linecolor": "white",
            "ticks": ""
           },
           "baxis": {
            "gridcolor": "white",
            "linecolor": "white",
            "ticks": ""
           },
           "bgcolor": "#E5ECF6",
           "caxis": {
            "gridcolor": "white",
            "linecolor": "white",
            "ticks": ""
           }
          },
          "title": {
           "x": 0.05
          },
          "xaxis": {
           "automargin": true,
           "gridcolor": "white",
           "linecolor": "white",
           "ticks": "",
           "title": {
            "standoff": 15
           },
           "zerolinecolor": "white",
           "zerolinewidth": 2
          },
          "yaxis": {
           "automargin": true,
           "gridcolor": "white",
           "linecolor": "white",
           "ticks": "",
           "title": {
            "standoff": 15
           },
           "zerolinecolor": "white",
           "zerolinewidth": 2
          }
         }
        },
        "width": 400,
        "xaxis": {
         "anchor": "y",
         "domain": [
          0,
          1
         ],
         "tickformat": ",d",
         "title": {
          "text": "Multiple items per transaction"
         }
        },
        "yaxis": {
         "anchor": "x",
         "domain": [
          0,
          1
         ],
         "tickformat": "0%",
         "title": {
          "text": "Distribution"
         }
        }
       }
      }
     },
     "metadata": {},
     "output_type": "display_data"
    }
   ],
   "source": [
    "# Mutiple items per transaction\n",
    "\n",
    "import seaborn as sns\n",
    "\n",
    "mutliple_items_per_transaction = grouped_mutliple_items[\"quantity\"].value_counts()\n",
    "mutliple_items_per_transaction.rename_axis(\"frequency\")\n",
    "\n",
    "# lenth_of_transactions\n",
    "\n",
    "total = mutliple_items_per_transaction.values.sum()\n",
    "\n",
    "import plotly.express as px\n",
    "fig = px.bar(mutliple_items_per_transaction, x=mutliple_items_per_transaction.index, y=mutliple_items_per_transaction.values/total,width=400, height=400)\n",
    "fig.update_traces(width=0.5)\n",
    "fig.update_layout(\n",
    "    xaxis_title=\"Multiple items per transaction\",\n",
    "    yaxis_tickformat ='0%',\n",
    "    xaxis_tickformat = ',d',\n",
    "    yaxis_title=\"Distribution\",\n",
    "    legend_title=\"Multiple items per transaction distribution\",)\n",
    "\n",
    "fig.show()\n"
   ]
  },
  {
   "cell_type": "code",
   "execution_count": 6,
   "metadata": {},
   "outputs": [
    {
     "name": "stderr",
     "output_type": "stream",
     "text": [
      "C:\\Users\\david\\AppData\\Local\\Temp/ipykernel_1512/4105145759.py:12: FutureWarning:\n",
      "\n",
      "Indexing with multiple keys (implicitly converted to a tuple of keys) will be deprecated, use a list instead.\n",
      "\n"
     ]
    },
    {
     "data": {
      "text/html": [
       "<div>\n",
       "<style scoped>\n",
       "    .dataframe tbody tr th:only-of-type {\n",
       "        vertical-align: middle;\n",
       "    }\n",
       "\n",
       "    .dataframe tbody tr th {\n",
       "        vertical-align: top;\n",
       "    }\n",
       "\n",
       "    .dataframe thead th {\n",
       "        text-align: right;\n",
       "    }\n",
       "</style>\n",
       "<table border=\"1\" class=\"dataframe\">\n",
       "  <thead>\n",
       "    <tr style=\"text-align: right;\">\n",
       "      <th></th>\n",
       "      <th>product_id</th>\n",
       "      <th>date</th>\n",
       "      <th>price</th>\n",
       "      <th>margin</th>\n",
       "    </tr>\n",
       "    <tr>\n",
       "      <th>order_id</th>\n",
       "      <th></th>\n",
       "      <th></th>\n",
       "      <th></th>\n",
       "      <th></th>\n",
       "    </tr>\n",
       "  </thead>\n",
       "  <tbody>\n",
       "    <tr>\n",
       "      <th>000013d6-68a4-40cf-9452-6577dbfab515</th>\n",
       "      <td>[5889104, 5878254, 5875502, 5859210, 5739125, ...</td>\n",
       "      <td>[2019-10-23, 2019-10-23, 2019-10-23, 2019-10-2...</td>\n",
       "      <td>[4.76, 5.56, 1.75, 0.48, 4.4, 5.22, 0.48, 5.08...</td>\n",
       "      <td>[0.1, 0.1, 0.1, 0.1, 0.1, 0.1, 0.1, 0.1, 0.1]</td>\n",
       "    </tr>\n",
       "    <tr>\n",
       "      <th>00008836-6d96-4580-8527-173d4e1b2889</th>\n",
       "      <td>[5730402, 5853682, 5839703, 5839663, 5839660, ...</td>\n",
       "      <td>[2019-10-02, 2019-10-02, 2019-10-02, 2019-10-0...</td>\n",
       "      <td>[7.86, 3.63, 1.73, 2.37, 2.37, 1.73, 1.73, 1.4...</td>\n",
       "      <td>[0.1, 0.1, 0.1, 0.1, 0.1, 0.1, 0.1, 0.1, 0.1, ...</td>\n",
       "    </tr>\n",
       "    <tr>\n",
       "      <th>0000d04d-3516-42ea-bdb9-584e92ce619e</th>\n",
       "      <td>[5809100, 5809101, 5854897, 5888573]</td>\n",
       "      <td>[2020-02-15, 2020-02-15, 2020-02-15, 2020-02-15]</td>\n",
       "      <td>[1.59, 1.59, 0.32, 3.33]</td>\n",
       "      <td>[0.1, 0.1, 0.1, 0.1]</td>\n",
       "    </tr>\n",
       "    <tr>\n",
       "      <th>0001981a-ee7c-4542-bf81-2cea59d963ab</th>\n",
       "      <td>[5839084, 5788435, 5743913, 5743912, 5677989, ...</td>\n",
       "      <td>[2019-10-05, 2019-10-05, 2019-10-05, 2019-10-0...</td>\n",
       "      <td>[4.86, 0.79, 3.97, 3.97, 8.73, 1.43]</td>\n",
       "      <td>[0.1, 0.1, 0.1, 0.1, 0.1, 0.1]</td>\n",
       "    </tr>\n",
       "    <tr>\n",
       "      <th>000277a9-30da-4bb2-b5ad-96ef24483af8</th>\n",
       "      <td>[5815567, 5815568, 5815569, 5815570, 5815571]</td>\n",
       "      <td>[2019-12-14, 2019-12-14, 2019-12-14, 2019-12-1...</td>\n",
       "      <td>[0.71, 0.71, 0.71, 0.71, 0.71]</td>\n",
       "      <td>[0.1, 0.1, 0.1, 0.1, 0.1]</td>\n",
       "    </tr>\n",
       "    <tr>\n",
       "      <th>...</th>\n",
       "      <td>...</td>\n",
       "      <td>...</td>\n",
       "      <td>...</td>\n",
       "      <td>...</td>\n",
       "    </tr>\n",
       "    <tr>\n",
       "      <th>fffee574-c72f-03cf-4d2a-5188047c4cef</th>\n",
       "      <td>[5560968, 5857357, 5695534, 5723501, 5734268, ...</td>\n",
       "      <td>[2019-12-24, 2019-12-24, 2019-12-24, 2019-12-2...</td>\n",
       "      <td>[3.0, 2.78, 3.33, 2.62, 3.97, 6.19, 3.33, 3.0,...</td>\n",
       "      <td>[0.1, 0.1, 0.1, 0.1, 0.1, 0.1, 0.1, 0.1, 0.1]</td>\n",
       "    </tr>\n",
       "    <tr>\n",
       "      <th>ffff78e3-1e8f-4eda-bb42-95749ab4f42e</th>\n",
       "      <td>[5686083, 5710585, 5776129, 5776130, 5776132]</td>\n",
       "      <td>[2020-02-21, 2020-02-21, 2020-02-21, 2020-02-2...</td>\n",
       "      <td>[0.79, 1.43, 2.7, 1.98, 2.7]</td>\n",
       "      <td>[0.1, 0.1, 0.1, 0.1, 0.1]</td>\n",
       "    </tr>\n",
       "    <tr>\n",
       "      <th>ffff8529-58c1-4ec8-933e-77f535718061</th>\n",
       "      <td>[5875389, 5859403, 5839651, 5752164, 5727536, ...</td>\n",
       "      <td>[2019-10-13, 2019-10-13, 2019-10-13, 2019-10-1...</td>\n",
       "      <td>[2.05, 2.37, 2.37, 3.97, 2.7, 1.73]</td>\n",
       "      <td>[0.1, 0.1, 0.1, 0.1, 0.1, 0.1]</td>\n",
       "    </tr>\n",
       "    <tr>\n",
       "      <th>ffff8da3-b79a-48f2-888c-117f2d1a7793</th>\n",
       "      <td>[5816170, 5899849]</td>\n",
       "      <td>[2020-02-12, 2020-02-12]</td>\n",
       "      <td>[5.24, 4.46]</td>\n",
       "      <td>[0.1, 0.1]</td>\n",
       "    </tr>\n",
       "    <tr>\n",
       "      <th>fffffc08-81e3-4050-9cd6-a5301f79f6f1</th>\n",
       "      <td>[5753487, 5785422, 5802162, 5832415, 5846442, ...</td>\n",
       "      <td>[2020-02-09, 2020-02-09, 2020-02-09, 2020-02-0...</td>\n",
       "      <td>[13.02, 3.16, 23.81, 2.38, 19.52, 19.52]</td>\n",
       "      <td>[0.1, 0.1, 0.1, 0.1, 0.1, 0.1]</td>\n",
       "    </tr>\n",
       "  </tbody>\n",
       "</table>\n",
       "<p>155617 rows × 4 columns</p>\n",
       "</div>"
      ],
      "text/plain": [
       "                                                                             product_id  \\\n",
       "order_id                                                                                  \n",
       "000013d6-68a4-40cf-9452-6577dbfab515  [5889104, 5878254, 5875502, 5859210, 5739125, ...   \n",
       "00008836-6d96-4580-8527-173d4e1b2889  [5730402, 5853682, 5839703, 5839663, 5839660, ...   \n",
       "0000d04d-3516-42ea-bdb9-584e92ce619e               [5809100, 5809101, 5854897, 5888573]   \n",
       "0001981a-ee7c-4542-bf81-2cea59d963ab  [5839084, 5788435, 5743913, 5743912, 5677989, ...   \n",
       "000277a9-30da-4bb2-b5ad-96ef24483af8      [5815567, 5815568, 5815569, 5815570, 5815571]   \n",
       "...                                                                                 ...   \n",
       "fffee574-c72f-03cf-4d2a-5188047c4cef  [5560968, 5857357, 5695534, 5723501, 5734268, ...   \n",
       "ffff78e3-1e8f-4eda-bb42-95749ab4f42e      [5686083, 5710585, 5776129, 5776130, 5776132]   \n",
       "ffff8529-58c1-4ec8-933e-77f535718061  [5875389, 5859403, 5839651, 5752164, 5727536, ...   \n",
       "ffff8da3-b79a-48f2-888c-117f2d1a7793                                 [5816170, 5899849]   \n",
       "fffffc08-81e3-4050-9cd6-a5301f79f6f1  [5753487, 5785422, 5802162, 5832415, 5846442, ...   \n",
       "\n",
       "                                                                                   date  \\\n",
       "order_id                                                                                  \n",
       "000013d6-68a4-40cf-9452-6577dbfab515  [2019-10-23, 2019-10-23, 2019-10-23, 2019-10-2...   \n",
       "00008836-6d96-4580-8527-173d4e1b2889  [2019-10-02, 2019-10-02, 2019-10-02, 2019-10-0...   \n",
       "0000d04d-3516-42ea-bdb9-584e92ce619e   [2020-02-15, 2020-02-15, 2020-02-15, 2020-02-15]   \n",
       "0001981a-ee7c-4542-bf81-2cea59d963ab  [2019-10-05, 2019-10-05, 2019-10-05, 2019-10-0...   \n",
       "000277a9-30da-4bb2-b5ad-96ef24483af8  [2019-12-14, 2019-12-14, 2019-12-14, 2019-12-1...   \n",
       "...                                                                                 ...   \n",
       "fffee574-c72f-03cf-4d2a-5188047c4cef  [2019-12-24, 2019-12-24, 2019-12-24, 2019-12-2...   \n",
       "ffff78e3-1e8f-4eda-bb42-95749ab4f42e  [2020-02-21, 2020-02-21, 2020-02-21, 2020-02-2...   \n",
       "ffff8529-58c1-4ec8-933e-77f535718061  [2019-10-13, 2019-10-13, 2019-10-13, 2019-10-1...   \n",
       "ffff8da3-b79a-48f2-888c-117f2d1a7793                           [2020-02-12, 2020-02-12]   \n",
       "fffffc08-81e3-4050-9cd6-a5301f79f6f1  [2020-02-09, 2020-02-09, 2020-02-09, 2020-02-0...   \n",
       "\n",
       "                                                                                  price  \\\n",
       "order_id                                                                                  \n",
       "000013d6-68a4-40cf-9452-6577dbfab515  [4.76, 5.56, 1.75, 0.48, 4.4, 5.22, 0.48, 5.08...   \n",
       "00008836-6d96-4580-8527-173d4e1b2889  [7.86, 3.63, 1.73, 2.37, 2.37, 1.73, 1.73, 1.4...   \n",
       "0000d04d-3516-42ea-bdb9-584e92ce619e                           [1.59, 1.59, 0.32, 3.33]   \n",
       "0001981a-ee7c-4542-bf81-2cea59d963ab               [4.86, 0.79, 3.97, 3.97, 8.73, 1.43]   \n",
       "000277a9-30da-4bb2-b5ad-96ef24483af8                     [0.71, 0.71, 0.71, 0.71, 0.71]   \n",
       "...                                                                                 ...   \n",
       "fffee574-c72f-03cf-4d2a-5188047c4cef  [3.0, 2.78, 3.33, 2.62, 3.97, 6.19, 3.33, 3.0,...   \n",
       "ffff78e3-1e8f-4eda-bb42-95749ab4f42e                       [0.79, 1.43, 2.7, 1.98, 2.7]   \n",
       "ffff8529-58c1-4ec8-933e-77f535718061                [2.05, 2.37, 2.37, 3.97, 2.7, 1.73]   \n",
       "ffff8da3-b79a-48f2-888c-117f2d1a7793                                       [5.24, 4.46]   \n",
       "fffffc08-81e3-4050-9cd6-a5301f79f6f1           [13.02, 3.16, 23.81, 2.38, 19.52, 19.52]   \n",
       "\n",
       "                                                                                 margin  \n",
       "order_id                                                                                 \n",
       "000013d6-68a4-40cf-9452-6577dbfab515      [0.1, 0.1, 0.1, 0.1, 0.1, 0.1, 0.1, 0.1, 0.1]  \n",
       "00008836-6d96-4580-8527-173d4e1b2889  [0.1, 0.1, 0.1, 0.1, 0.1, 0.1, 0.1, 0.1, 0.1, ...  \n",
       "0000d04d-3516-42ea-bdb9-584e92ce619e                               [0.1, 0.1, 0.1, 0.1]  \n",
       "0001981a-ee7c-4542-bf81-2cea59d963ab                     [0.1, 0.1, 0.1, 0.1, 0.1, 0.1]  \n",
       "000277a9-30da-4bb2-b5ad-96ef24483af8                          [0.1, 0.1, 0.1, 0.1, 0.1]  \n",
       "...                                                                                 ...  \n",
       "fffee574-c72f-03cf-4d2a-5188047c4cef      [0.1, 0.1, 0.1, 0.1, 0.1, 0.1, 0.1, 0.1, 0.1]  \n",
       "ffff78e3-1e8f-4eda-bb42-95749ab4f42e                          [0.1, 0.1, 0.1, 0.1, 0.1]  \n",
       "ffff8529-58c1-4ec8-933e-77f535718061                     [0.1, 0.1, 0.1, 0.1, 0.1, 0.1]  \n",
       "ffff8da3-b79a-48f2-888c-117f2d1a7793                                         [0.1, 0.1]  \n",
       "fffffc08-81e3-4050-9cd6-a5301f79f6f1                     [0.1, 0.1, 0.1, 0.1, 0.1, 0.1]  \n",
       "\n",
       "[155617 rows x 4 columns]"
      ]
     },
     "execution_count": 6,
     "metadata": {},
     "output_type": "execute_result"
    }
   ],
   "source": [
    "# group by Transaction\n",
    "\n",
    "import math\n",
    "import datetime\n",
    "\n",
    "data_raw[\"date\"] = pd.to_datetime(data_raw['event_time']).dt.date\n",
    "max_date = data_raw[\"date\"].max()\n",
    "data_raw[\"margin\"] = 0.1\n",
    "data_raw[\"profit\"] = data_raw[\"price\"] * data_raw[\"margin\"]\n",
    "max_profit = data_raw[\"profit\"].max()\n",
    "\n",
    "data = data_raw.groupby(\"order_id\",dropna=True)[\"product_id\",\"date\",\"price\",\"margin\"].agg(lambda x: list(x))\n",
    "\n",
    "data"
   ]
  },
  {
   "cell_type": "code",
   "execution_count": 7,
   "metadata": {},
   "outputs": [
    {
     "data": {
      "application/vnd.plotly.v1+json": {
       "config": {
        "plotlyServerURL": "https://plot.ly"
       },
       "data": [
        {
         "alignmentgroup": "True",
         "hovertemplate": "index=%{x}<br>y=%{y}<extra></extra>",
         "legendgroup": "",
         "marker": {
          "color": "#636efa",
          "pattern": {
           "shape": ""
          }
         },
         "name": "",
         "offsetgroup": "",
         "orientation": "v",
         "showlegend": false,
         "textposition": "auto",
         "type": "bar",
         "width": 0.5,
         "x": [
          1,
          2,
          3,
          4,
          5,
          6,
          7,
          8,
          9,
          10,
          11,
          12,
          13,
          14,
          15,
          16,
          17,
          18,
          19,
          20,
          21,
          22,
          23,
          24,
          25,
          26,
          27,
          28,
          29,
          30,
          31,
          32,
          33,
          34,
          35,
          36,
          37,
          38,
          39,
          40,
          41,
          42,
          43,
          44,
          45,
          46,
          47,
          48,
          49,
          50
         ],
         "xaxis": "x",
         "y": [
          0.1024131461473766,
          0.10889564598563757,
          0.11035129714692372,
          0.09759332341334023,
          0.0806107265316685,
          0.06868085656983891,
          0.05700329947596558,
          0.050287895451898816,
          0.04354661318496474,
          0.03805395613637834,
          0.031228569580125508,
          0.02785792844665847,
          0.023568609691401954,
          0.021161933104742188,
          0.01793362230704535,
          0.015294041534579802,
          0.012745034612149835,
          0.011224687843695413,
          0.009743158439541955,
          0.008403959371158698,
          0.007841107588794721,
          0.006676586659765802,
          0.005305039787798408,
          0.004619266351814711,
          0.003985249401565634,
          0.00375234521575985,
          0.0032930064048651096,
          0.003183023872679045,
          0.002497250436695348,
          0.002536067800996312,
          0.002231998447305428,
          0.0019214595328977163,
          0.001759720514977033,
          0.0015332858898880765,
          0.0012550947790645015,
          0.001183929611179401,
          0.0011903991718962283,
          0.0011192340040111276,
          0.0008669211360548619,
          0.0009251471825063078,
          0.0008992689396389985,
          0.0006081387073817688,
          0.000692242996700524,
          0.000692242996700524,
          0.00047874749304522223,
          0.0005499126609303228,
          0.00045933881089474024,
          0.0005240344180630135,
          0.00038817364300963963,
          0.00043346056802743096
         ],
         "yaxis": "y"
        }
       ],
       "layout": {
        "barmode": "relative",
        "legend": {
         "title": {
          "text": "Transaction Length Dsitribution"
         },
         "tracegroupgap": 0
        },
        "margin": {
         "t": 60
        },
        "template": {
         "data": {
          "bar": [
           {
            "error_x": {
             "color": "#2a3f5f"
            },
            "error_y": {
             "color": "#2a3f5f"
            },
            "marker": {
             "line": {
              "color": "#E5ECF6",
              "width": 0.5
             },
             "pattern": {
              "fillmode": "overlay",
              "size": 10,
              "solidity": 0.2
             }
            },
            "type": "bar"
           }
          ],
          "barpolar": [
           {
            "marker": {
             "line": {
              "color": "#E5ECF6",
              "width": 0.5
             },
             "pattern": {
              "fillmode": "overlay",
              "size": 10,
              "solidity": 0.2
             }
            },
            "type": "barpolar"
           }
          ],
          "carpet": [
           {
            "aaxis": {
             "endlinecolor": "#2a3f5f",
             "gridcolor": "white",
             "linecolor": "white",
             "minorgridcolor": "white",
             "startlinecolor": "#2a3f5f"
            },
            "baxis": {
             "endlinecolor": "#2a3f5f",
             "gridcolor": "white",
             "linecolor": "white",
             "minorgridcolor": "white",
             "startlinecolor": "#2a3f5f"
            },
            "type": "carpet"
           }
          ],
          "choropleth": [
           {
            "colorbar": {
             "outlinewidth": 0,
             "ticks": ""
            },
            "type": "choropleth"
           }
          ],
          "contour": [
           {
            "colorbar": {
             "outlinewidth": 0,
             "ticks": ""
            },
            "colorscale": [
             [
              0,
              "#0d0887"
             ],
             [
              0.1111111111111111,
              "#46039f"
             ],
             [
              0.2222222222222222,
              "#7201a8"
             ],
             [
              0.3333333333333333,
              "#9c179e"
             ],
             [
              0.4444444444444444,
              "#bd3786"
             ],
             [
              0.5555555555555556,
              "#d8576b"
             ],
             [
              0.6666666666666666,
              "#ed7953"
             ],
             [
              0.7777777777777778,
              "#fb9f3a"
             ],
             [
              0.8888888888888888,
              "#fdca26"
             ],
             [
              1,
              "#f0f921"
             ]
            ],
            "type": "contour"
           }
          ],
          "contourcarpet": [
           {
            "colorbar": {
             "outlinewidth": 0,
             "ticks": ""
            },
            "type": "contourcarpet"
           }
          ],
          "heatmap": [
           {
            "colorbar": {
             "outlinewidth": 0,
             "ticks": ""
            },
            "colorscale": [
             [
              0,
              "#0d0887"
             ],
             [
              0.1111111111111111,
              "#46039f"
             ],
             [
              0.2222222222222222,
              "#7201a8"
             ],
             [
              0.3333333333333333,
              "#9c179e"
             ],
             [
              0.4444444444444444,
              "#bd3786"
             ],
             [
              0.5555555555555556,
              "#d8576b"
             ],
             [
              0.6666666666666666,
              "#ed7953"
             ],
             [
              0.7777777777777778,
              "#fb9f3a"
             ],
             [
              0.8888888888888888,
              "#fdca26"
             ],
             [
              1,
              "#f0f921"
             ]
            ],
            "type": "heatmap"
           }
          ],
          "heatmapgl": [
           {
            "colorbar": {
             "outlinewidth": 0,
             "ticks": ""
            },
            "colorscale": [
             [
              0,
              "#0d0887"
             ],
             [
              0.1111111111111111,
              "#46039f"
             ],
             [
              0.2222222222222222,
              "#7201a8"
             ],
             [
              0.3333333333333333,
              "#9c179e"
             ],
             [
              0.4444444444444444,
              "#bd3786"
             ],
             [
              0.5555555555555556,
              "#d8576b"
             ],
             [
              0.6666666666666666,
              "#ed7953"
             ],
             [
              0.7777777777777778,
              "#fb9f3a"
             ],
             [
              0.8888888888888888,
              "#fdca26"
             ],
             [
              1,
              "#f0f921"
             ]
            ],
            "type": "heatmapgl"
           }
          ],
          "histogram": [
           {
            "marker": {
             "pattern": {
              "fillmode": "overlay",
              "size": 10,
              "solidity": 0.2
             }
            },
            "type": "histogram"
           }
          ],
          "histogram2d": [
           {
            "colorbar": {
             "outlinewidth": 0,
             "ticks": ""
            },
            "colorscale": [
             [
              0,
              "#0d0887"
             ],
             [
              0.1111111111111111,
              "#46039f"
             ],
             [
              0.2222222222222222,
              "#7201a8"
             ],
             [
              0.3333333333333333,
              "#9c179e"
             ],
             [
              0.4444444444444444,
              "#bd3786"
             ],
             [
              0.5555555555555556,
              "#d8576b"
             ],
             [
              0.6666666666666666,
              "#ed7953"
             ],
             [
              0.7777777777777778,
              "#fb9f3a"
             ],
             [
              0.8888888888888888,
              "#fdca26"
             ],
             [
              1,
              "#f0f921"
             ]
            ],
            "type": "histogram2d"
           }
          ],
          "histogram2dcontour": [
           {
            "colorbar": {
             "outlinewidth": 0,
             "ticks": ""
            },
            "colorscale": [
             [
              0,
              "#0d0887"
             ],
             [
              0.1111111111111111,
              "#46039f"
             ],
             [
              0.2222222222222222,
              "#7201a8"
             ],
             [
              0.3333333333333333,
              "#9c179e"
             ],
             [
              0.4444444444444444,
              "#bd3786"
             ],
             [
              0.5555555555555556,
              "#d8576b"
             ],
             [
              0.6666666666666666,
              "#ed7953"
             ],
             [
              0.7777777777777778,
              "#fb9f3a"
             ],
             [
              0.8888888888888888,
              "#fdca26"
             ],
             [
              1,
              "#f0f921"
             ]
            ],
            "type": "histogram2dcontour"
           }
          ],
          "mesh3d": [
           {
            "colorbar": {
             "outlinewidth": 0,
             "ticks": ""
            },
            "type": "mesh3d"
           }
          ],
          "parcoords": [
           {
            "line": {
             "colorbar": {
              "outlinewidth": 0,
              "ticks": ""
             }
            },
            "type": "parcoords"
           }
          ],
          "pie": [
           {
            "automargin": true,
            "type": "pie"
           }
          ],
          "scatter": [
           {
            "fillpattern": {
             "fillmode": "overlay",
             "size": 10,
             "solidity": 0.2
            },
            "type": "scatter"
           }
          ],
          "scatter3d": [
           {
            "line": {
             "colorbar": {
              "outlinewidth": 0,
              "ticks": ""
             }
            },
            "marker": {
             "colorbar": {
              "outlinewidth": 0,
              "ticks": ""
             }
            },
            "type": "scatter3d"
           }
          ],
          "scattercarpet": [
           {
            "marker": {
             "colorbar": {
              "outlinewidth": 0,
              "ticks": ""
             }
            },
            "type": "scattercarpet"
           }
          ],
          "scattergeo": [
           {
            "marker": {
             "colorbar": {
              "outlinewidth": 0,
              "ticks": ""
             }
            },
            "type": "scattergeo"
           }
          ],
          "scattergl": [
           {
            "marker": {
             "colorbar": {
              "outlinewidth": 0,
              "ticks": ""
             }
            },
            "type": "scattergl"
           }
          ],
          "scattermapbox": [
           {
            "marker": {
             "colorbar": {
              "outlinewidth": 0,
              "ticks": ""
             }
            },
            "type": "scattermapbox"
           }
          ],
          "scatterpolar": [
           {
            "marker": {
             "colorbar": {
              "outlinewidth": 0,
              "ticks": ""
             }
            },
            "type": "scatterpolar"
           }
          ],
          "scatterpolargl": [
           {
            "marker": {
             "colorbar": {
              "outlinewidth": 0,
              "ticks": ""
             }
            },
            "type": "scatterpolargl"
           }
          ],
          "scatterternary": [
           {
            "marker": {
             "colorbar": {
              "outlinewidth": 0,
              "ticks": ""
             }
            },
            "type": "scatterternary"
           }
          ],
          "surface": [
           {
            "colorbar": {
             "outlinewidth": 0,
             "ticks": ""
            },
            "colorscale": [
             [
              0,
              "#0d0887"
             ],
             [
              0.1111111111111111,
              "#46039f"
             ],
             [
              0.2222222222222222,
              "#7201a8"
             ],
             [
              0.3333333333333333,
              "#9c179e"
             ],
             [
              0.4444444444444444,
              "#bd3786"
             ],
             [
              0.5555555555555556,
              "#d8576b"
             ],
             [
              0.6666666666666666,
              "#ed7953"
             ],
             [
              0.7777777777777778,
              "#fb9f3a"
             ],
             [
              0.8888888888888888,
              "#fdca26"
             ],
             [
              1,
              "#f0f921"
             ]
            ],
            "type": "surface"
           }
          ],
          "table": [
           {
            "cells": {
             "fill": {
              "color": "#EBF0F8"
             },
             "line": {
              "color": "white"
             }
            },
            "header": {
             "fill": {
              "color": "#C8D4E3"
             },
             "line": {
              "color": "white"
             }
            },
            "type": "table"
           }
          ]
         },
         "layout": {
          "annotationdefaults": {
           "arrowcolor": "#2a3f5f",
           "arrowhead": 0,
           "arrowwidth": 1
          },
          "autotypenumbers": "strict",
          "coloraxis": {
           "colorbar": {
            "outlinewidth": 0,
            "ticks": ""
           }
          },
          "colorscale": {
           "diverging": [
            [
             0,
             "#8e0152"
            ],
            [
             0.1,
             "#c51b7d"
            ],
            [
             0.2,
             "#de77ae"
            ],
            [
             0.3,
             "#f1b6da"
            ],
            [
             0.4,
             "#fde0ef"
            ],
            [
             0.5,
             "#f7f7f7"
            ],
            [
             0.6,
             "#e6f5d0"
            ],
            [
             0.7,
             "#b8e186"
            ],
            [
             0.8,
             "#7fbc41"
            ],
            [
             0.9,
             "#4d9221"
            ],
            [
             1,
             "#276419"
            ]
           ],
           "sequential": [
            [
             0,
             "#0d0887"
            ],
            [
             0.1111111111111111,
             "#46039f"
            ],
            [
             0.2222222222222222,
             "#7201a8"
            ],
            [
             0.3333333333333333,
             "#9c179e"
            ],
            [
             0.4444444444444444,
             "#bd3786"
            ],
            [
             0.5555555555555556,
             "#d8576b"
            ],
            [
             0.6666666666666666,
             "#ed7953"
            ],
            [
             0.7777777777777778,
             "#fb9f3a"
            ],
            [
             0.8888888888888888,
             "#fdca26"
            ],
            [
             1,
             "#f0f921"
            ]
           ],
           "sequentialminus": [
            [
             0,
             "#0d0887"
            ],
            [
             0.1111111111111111,
             "#46039f"
            ],
            [
             0.2222222222222222,
             "#7201a8"
            ],
            [
             0.3333333333333333,
             "#9c179e"
            ],
            [
             0.4444444444444444,
             "#bd3786"
            ],
            [
             0.5555555555555556,
             "#d8576b"
            ],
            [
             0.6666666666666666,
             "#ed7953"
            ],
            [
             0.7777777777777778,
             "#fb9f3a"
            ],
            [
             0.8888888888888888,
             "#fdca26"
            ],
            [
             1,
             "#f0f921"
            ]
           ]
          },
          "colorway": [
           "#636efa",
           "#EF553B",
           "#00cc96",
           "#ab63fa",
           "#FFA15A",
           "#19d3f3",
           "#FF6692",
           "#B6E880",
           "#FF97FF",
           "#FECB52"
          ],
          "font": {
           "color": "#2a3f5f"
          },
          "geo": {
           "bgcolor": "white",
           "lakecolor": "white",
           "landcolor": "#E5ECF6",
           "showlakes": true,
           "showland": true,
           "subunitcolor": "white"
          },
          "hoverlabel": {
           "align": "left"
          },
          "hovermode": "closest",
          "mapbox": {
           "style": "light"
          },
          "paper_bgcolor": "white",
          "plot_bgcolor": "#E5ECF6",
          "polar": {
           "angularaxis": {
            "gridcolor": "white",
            "linecolor": "white",
            "ticks": ""
           },
           "bgcolor": "#E5ECF6",
           "radialaxis": {
            "gridcolor": "white",
            "linecolor": "white",
            "ticks": ""
           }
          },
          "scene": {
           "xaxis": {
            "backgroundcolor": "#E5ECF6",
            "gridcolor": "white",
            "gridwidth": 2,
            "linecolor": "white",
            "showbackground": true,
            "ticks": "",
            "zerolinecolor": "white"
           },
           "yaxis": {
            "backgroundcolor": "#E5ECF6",
            "gridcolor": "white",
            "gridwidth": 2,
            "linecolor": "white",
            "showbackground": true,
            "ticks": "",
            "zerolinecolor": "white"
           },
           "zaxis": {
            "backgroundcolor": "#E5ECF6",
            "gridcolor": "white",
            "gridwidth": 2,
            "linecolor": "white",
            "showbackground": true,
            "ticks": "",
            "zerolinecolor": "white"
           }
          },
          "shapedefaults": {
           "line": {
            "color": "#2a3f5f"
           }
          },
          "ternary": {
           "aaxis": {
            "gridcolor": "white",
            "linecolor": "white",
            "ticks": ""
           },
           "baxis": {
            "gridcolor": "white",
            "linecolor": "white",
            "ticks": ""
           },
           "bgcolor": "#E5ECF6",
           "caxis": {
            "gridcolor": "white",
            "linecolor": "white",
            "ticks": ""
           }
          },
          "title": {
           "x": 0.05
          },
          "xaxis": {
           "automargin": true,
           "gridcolor": "white",
           "linecolor": "white",
           "ticks": "",
           "title": {
            "standoff": 15
           },
           "zerolinecolor": "white",
           "zerolinewidth": 2
          },
          "yaxis": {
           "automargin": true,
           "gridcolor": "white",
           "linecolor": "white",
           "ticks": "",
           "title": {
            "standoff": 15
           },
           "zerolinecolor": "white",
           "zerolinewidth": 2
          }
         }
        },
        "xaxis": {
         "anchor": "y",
         "domain": [
          0,
          1
         ],
         "title": {
          "text": "Number of items per transaction"
         }
        },
        "yaxis": {
         "anchor": "x",
         "domain": [
          0,
          1
         ],
         "tickformat": ",.0%",
         "title": {
          "text": "Distribution (%)"
         }
        }
       }
      }
     },
     "metadata": {},
     "output_type": "display_data"
    }
   ],
   "source": [
    "# Length of transactions\n",
    "\n",
    "import seaborn as sns\n",
    "\n",
    "length_of_transactions = data[\"product_id\"].apply(len).value_counts()\n",
    "length_of_transactions = length_of_transactions.sort_index(ascending=True).head(50) # For graph only shop top 50 \n",
    "length_of_transactions.rename_axis(\"frequency\")\n",
    "\n",
    "\n",
    "total = length_of_transactions.sum()\n",
    "\n",
    "import plotly.express as px\n",
    "fig = px.bar(length_of_transactions, x=length_of_transactions.index, y=length_of_transactions.values/total)\n",
    "fig.update_traces(width=0.5)\n",
    "fig.update_layout(\n",
    "    xaxis_title=\"Number of items per transaction\",\n",
    "    yaxis_tickformat =',.0%',\n",
    "    yaxis_title=\"Distribution (%)\",\n",
    "    legend_title=\"Transaction Length Dsitribution\",)\n",
    "\n",
    "fig.show()"
   ]
  },
  {
   "cell_type": "code",
   "execution_count": 8,
   "metadata": {},
   "outputs": [
    {
     "data": {
      "text/html": [
       "<div>\n",
       "<style scoped>\n",
       "    .dataframe tbody tr th:only-of-type {\n",
       "        vertical-align: middle;\n",
       "    }\n",
       "\n",
       "    .dataframe tbody tr th {\n",
       "        vertical-align: top;\n",
       "    }\n",
       "\n",
       "    .dataframe thead th {\n",
       "        text-align: right;\n",
       "    }\n",
       "</style>\n",
       "<table border=\"1\" class=\"dataframe\">\n",
       "  <thead>\n",
       "    <tr style=\"text-align: right;\">\n",
       "      <th></th>\n",
       "      <th>product_id</th>\n",
       "      <th>category_id</th>\n",
       "      <th>category_code</th>\n",
       "      <th>brand</th>\n",
       "      <th>price</th>\n",
       "    </tr>\n",
       "  </thead>\n",
       "  <tbody>\n",
       "    <tr>\n",
       "      <th>0</th>\n",
       "      <td>4554</td>\n",
       "      <td>1487580010796548183</td>\n",
       "      <td>nan</td>\n",
       "      <td>runail</td>\n",
       "      <td>0.38</td>\n",
       "    </tr>\n",
       "    <tr>\n",
       "      <th>1</th>\n",
       "      <td>4600</td>\n",
       "      <td>1487580010796548183</td>\n",
       "      <td>nan</td>\n",
       "      <td>runail</td>\n",
       "      <td>0.38</td>\n",
       "    </tr>\n",
       "    <tr>\n",
       "      <th>2</th>\n",
       "      <td>4607</td>\n",
       "      <td>1487580010796548183</td>\n",
       "      <td>nan</td>\n",
       "      <td>runail</td>\n",
       "      <td>0.38</td>\n",
       "    </tr>\n",
       "    <tr>\n",
       "      <th>3</th>\n",
       "      <td>4640</td>\n",
       "      <td>1487580011157258342</td>\n",
       "      <td>nan</td>\n",
       "      <td>runail</td>\n",
       "      <td>0.37</td>\n",
       "    </tr>\n",
       "    <tr>\n",
       "      <th>4</th>\n",
       "      <td>4689</td>\n",
       "      <td>1487580010796548183</td>\n",
       "      <td>nan</td>\n",
       "      <td>runail</td>\n",
       "      <td>0.38</td>\n",
       "    </tr>\n",
       "    <tr>\n",
       "      <th>...</th>\n",
       "      <td>...</td>\n",
       "      <td>...</td>\n",
       "      <td>...</td>\n",
       "      <td>...</td>\n",
       "      <td>...</td>\n",
       "    </tr>\n",
       "    <tr>\n",
       "      <th>1285867</th>\n",
       "      <td>5913479</td>\n",
       "      <td>1542195323827388674</td>\n",
       "      <td>nan</td>\n",
       "      <td>dermacol</td>\n",
       "      <td>13.97</td>\n",
       "    </tr>\n",
       "    <tr>\n",
       "      <th>1285868</th>\n",
       "      <td>5915330</td>\n",
       "      <td>1542195323827388674</td>\n",
       "      <td>nan</td>\n",
       "      <td>dermacol</td>\n",
       "      <td>19.05</td>\n",
       "    </tr>\n",
       "    <tr>\n",
       "      <th>1286757</th>\n",
       "      <td>5923045</td>\n",
       "      <td>1487580007675986893</td>\n",
       "      <td>nan</td>\n",
       "      <td>nan</td>\n",
       "      <td>1.43</td>\n",
       "    </tr>\n",
       "    <tr>\n",
       "      <th>1286948</th>\n",
       "      <td>5889114</td>\n",
       "      <td>2134354342373753638</td>\n",
       "      <td>nan</td>\n",
       "      <td>nan</td>\n",
       "      <td>3.49</td>\n",
       "    </tr>\n",
       "    <tr>\n",
       "      <th>1286953</th>\n",
       "      <td>5889161</td>\n",
       "      <td>2134354342373753638</td>\n",
       "      <td>nan</td>\n",
       "      <td>nan</td>\n",
       "      <td>3.49</td>\n",
       "    </tr>\n",
       "  </tbody>\n",
       "</table>\n",
       "<p>40777 rows × 5 columns</p>\n",
       "</div>"
      ],
      "text/plain": [
       "        product_id          category_id category_code     brand  price\n",
       "0             4554  1487580010796548183           nan    runail   0.38\n",
       "1             4600  1487580010796548183           nan    runail   0.38\n",
       "2             4607  1487580010796548183           nan    runail   0.38\n",
       "3             4640  1487580011157258342           nan    runail   0.37\n",
       "4             4689  1487580010796548183           nan    runail   0.38\n",
       "...            ...                  ...           ...       ...    ...\n",
       "1285867    5913479  1542195323827388674           nan  dermacol  13.97\n",
       "1285868    5915330  1542195323827388674           nan  dermacol  19.05\n",
       "1286757    5923045  1487580007675986893           nan       nan   1.43\n",
       "1286948    5889114  2134354342373753638           nan       nan   3.49\n",
       "1286953    5889161  2134354342373753638           nan       nan   3.49\n",
       "\n",
       "[40777 rows x 5 columns]"
      ]
     },
     "execution_count": 8,
     "metadata": {},
     "output_type": "execute_result"
    }
   ],
   "source": [
    "unique_items = data_raw[[\"product_id\",\"category_id\",\"category_code\",\"brand\",\"price\"]].drop_duplicates(subset = \"product_id\").astype(\"str\")\n",
    "\n",
    "\n",
    "unique_items"
   ]
  },
  {
   "cell_type": "code",
   "execution_count": 9,
   "metadata": {},
   "outputs": [
    {
     "data": {
      "text/plain": [
       "7.056675331682017"
      ]
     },
     "execution_count": 9,
     "metadata": {},
     "output_type": "execute_result"
    }
   ],
   "source": [
    "unique_items[\"price\"].astype(\"float\").median()\n",
    "unique_items[\"price\"].astype(\"float\").mean()"
   ]
  },
  {
   "cell_type": "code",
   "execution_count": 10,
   "metadata": {},
   "outputs": [
    {
     "name": "stderr",
     "output_type": "stream",
     "text": [
      "C:\\Users\\david\\AppData\\Local\\Temp/ipykernel_1512/16707732.py:7: FutureWarning:\n",
      "\n",
      "Indexing with multiple keys (implicitly converted to a tuple of keys) will be deprecated, use a list instead.\n",
      "\n"
     ]
    },
    {
     "data": {
      "text/html": [
       "<div>\n",
       "<style scoped>\n",
       "    .dataframe tbody tr th:only-of-type {\n",
       "        vertical-align: middle;\n",
       "    }\n",
       "\n",
       "    .dataframe tbody tr th {\n",
       "        vertical-align: top;\n",
       "    }\n",
       "\n",
       "    .dataframe thead th {\n",
       "        text-align: right;\n",
       "    }\n",
       "</style>\n",
       "<table border=\"1\" class=\"dataframe\">\n",
       "  <thead>\n",
       "    <tr style=\"text-align: right;\">\n",
       "      <th></th>\n",
       "      <th>product_id</th>\n",
       "      <th>date</th>\n",
       "      <th>price</th>\n",
       "      <th>margin</th>\n",
       "    </tr>\n",
       "    <tr>\n",
       "      <th>order_id</th>\n",
       "      <th></th>\n",
       "      <th></th>\n",
       "      <th></th>\n",
       "      <th></th>\n",
       "    </tr>\n",
       "  </thead>\n",
       "  <tbody>\n",
       "    <tr>\n",
       "      <th>000013d6-68a4-40cf-9452-6577dbfab515</th>\n",
       "      <td>[5889104, 5878254, 5875502, 5859210, 5739125, ...</td>\n",
       "      <td>[2019-10-23, 2019-10-23, 2019-10-23, 2019-10-2...</td>\n",
       "      <td>[4.76, 5.56, 1.75, 0.48, 4.4, 5.22, 0.48, 5.08...</td>\n",
       "      <td>[0.1, 0.1, 0.1, 0.1, 0.1, 0.1, 0.1, 0.1, 0.1]</td>\n",
       "    </tr>\n",
       "    <tr>\n",
       "      <th>00008836-6d96-4580-8527-173d4e1b2889</th>\n",
       "      <td>[5730402, 5853682, 5839703, 5839663, 5839660, ...</td>\n",
       "      <td>[2019-10-02, 2019-10-02, 2019-10-02, 2019-10-0...</td>\n",
       "      <td>[7.86, 3.63, 1.73, 2.37, 2.37, 1.73, 1.73, 1.4...</td>\n",
       "      <td>[0.1, 0.1, 0.1, 0.1, 0.1, 0.1, 0.1, 0.1, 0.1, ...</td>\n",
       "    </tr>\n",
       "    <tr>\n",
       "      <th>0000d04d-3516-42ea-bdb9-584e92ce619e</th>\n",
       "      <td>[5809100, 5809101, 5854897, 5888573]</td>\n",
       "      <td>[2020-02-15, 2020-02-15, 2020-02-15, 2020-02-15]</td>\n",
       "      <td>[1.59, 1.59, 0.32, 3.33]</td>\n",
       "      <td>[0.1, 0.1, 0.1, 0.1]</td>\n",
       "    </tr>\n",
       "    <tr>\n",
       "      <th>0001981a-ee7c-4542-bf81-2cea59d963ab</th>\n",
       "      <td>[5839084, 5788435, 5743913, 5743912, 5677989, ...</td>\n",
       "      <td>[2019-10-05, 2019-10-05, 2019-10-05, 2019-10-0...</td>\n",
       "      <td>[4.86, 0.79, 3.97, 3.97, 8.73, 1.43]</td>\n",
       "      <td>[0.1, 0.1, 0.1, 0.1, 0.1, 0.1]</td>\n",
       "    </tr>\n",
       "    <tr>\n",
       "      <th>000277a9-30da-4bb2-b5ad-96ef24483af8</th>\n",
       "      <td>[5815567, 5815568, 5815569, 5815570, 5815571]</td>\n",
       "      <td>[2019-12-14, 2019-12-14, 2019-12-14, 2019-12-1...</td>\n",
       "      <td>[0.71, 0.71, 0.71, 0.71, 0.71]</td>\n",
       "      <td>[0.1, 0.1, 0.1, 0.1, 0.1]</td>\n",
       "    </tr>\n",
       "    <tr>\n",
       "      <th>...</th>\n",
       "      <td>...</td>\n",
       "      <td>...</td>\n",
       "      <td>...</td>\n",
       "      <td>...</td>\n",
       "    </tr>\n",
       "    <tr>\n",
       "      <th>fffee574-c72f-03cf-4d2a-5188047c4cef</th>\n",
       "      <td>[5560968, 5857357, 5695534, 5723501, 5734268, ...</td>\n",
       "      <td>[2019-12-24, 2019-12-24, 2019-12-24, 2019-12-2...</td>\n",
       "      <td>[3.0, 2.78, 3.33, 2.62, 3.97, 6.19, 3.33, 3.0,...</td>\n",
       "      <td>[0.1, 0.1, 0.1, 0.1, 0.1, 0.1, 0.1, 0.1, 0.1]</td>\n",
       "    </tr>\n",
       "    <tr>\n",
       "      <th>ffff78e3-1e8f-4eda-bb42-95749ab4f42e</th>\n",
       "      <td>[5686083, 5710585, 5776129, 5776130, 5776132]</td>\n",
       "      <td>[2020-02-21, 2020-02-21, 2020-02-21, 2020-02-2...</td>\n",
       "      <td>[0.79, 1.43, 2.7, 1.98, 2.7]</td>\n",
       "      <td>[0.1, 0.1, 0.1, 0.1, 0.1]</td>\n",
       "    </tr>\n",
       "    <tr>\n",
       "      <th>ffff8529-58c1-4ec8-933e-77f535718061</th>\n",
       "      <td>[5875389, 5859403, 5839651, 5752164, 5727536, ...</td>\n",
       "      <td>[2019-10-13, 2019-10-13, 2019-10-13, 2019-10-1...</td>\n",
       "      <td>[2.05, 2.37, 2.37, 3.97, 2.7, 1.73]</td>\n",
       "      <td>[0.1, 0.1, 0.1, 0.1, 0.1, 0.1]</td>\n",
       "    </tr>\n",
       "    <tr>\n",
       "      <th>ffff8da3-b79a-48f2-888c-117f2d1a7793</th>\n",
       "      <td>[5816170, 5899849]</td>\n",
       "      <td>[2020-02-12, 2020-02-12]</td>\n",
       "      <td>[5.24, 4.46]</td>\n",
       "      <td>[0.1, 0.1]</td>\n",
       "    </tr>\n",
       "    <tr>\n",
       "      <th>fffffc08-81e3-4050-9cd6-a5301f79f6f1</th>\n",
       "      <td>[5753487, 5785422, 5802162, 5832415, 5846442, ...</td>\n",
       "      <td>[2020-02-09, 2020-02-09, 2020-02-09, 2020-02-0...</td>\n",
       "      <td>[13.02, 3.16, 23.81, 2.38, 19.52, 19.52]</td>\n",
       "      <td>[0.1, 0.1, 0.1, 0.1, 0.1, 0.1]</td>\n",
       "    </tr>\n",
       "  </tbody>\n",
       "</table>\n",
       "<p>155617 rows × 4 columns</p>\n",
       "</div>"
      ],
      "text/plain": [
       "                                                                             product_id  \\\n",
       "order_id                                                                                  \n",
       "000013d6-68a4-40cf-9452-6577dbfab515  [5889104, 5878254, 5875502, 5859210, 5739125, ...   \n",
       "00008836-6d96-4580-8527-173d4e1b2889  [5730402, 5853682, 5839703, 5839663, 5839660, ...   \n",
       "0000d04d-3516-42ea-bdb9-584e92ce619e               [5809100, 5809101, 5854897, 5888573]   \n",
       "0001981a-ee7c-4542-bf81-2cea59d963ab  [5839084, 5788435, 5743913, 5743912, 5677989, ...   \n",
       "000277a9-30da-4bb2-b5ad-96ef24483af8      [5815567, 5815568, 5815569, 5815570, 5815571]   \n",
       "...                                                                                 ...   \n",
       "fffee574-c72f-03cf-4d2a-5188047c4cef  [5560968, 5857357, 5695534, 5723501, 5734268, ...   \n",
       "ffff78e3-1e8f-4eda-bb42-95749ab4f42e      [5686083, 5710585, 5776129, 5776130, 5776132]   \n",
       "ffff8529-58c1-4ec8-933e-77f535718061  [5875389, 5859403, 5839651, 5752164, 5727536, ...   \n",
       "ffff8da3-b79a-48f2-888c-117f2d1a7793                                 [5816170, 5899849]   \n",
       "fffffc08-81e3-4050-9cd6-a5301f79f6f1  [5753487, 5785422, 5802162, 5832415, 5846442, ...   \n",
       "\n",
       "                                                                                   date  \\\n",
       "order_id                                                                                  \n",
       "000013d6-68a4-40cf-9452-6577dbfab515  [2019-10-23, 2019-10-23, 2019-10-23, 2019-10-2...   \n",
       "00008836-6d96-4580-8527-173d4e1b2889  [2019-10-02, 2019-10-02, 2019-10-02, 2019-10-0...   \n",
       "0000d04d-3516-42ea-bdb9-584e92ce619e   [2020-02-15, 2020-02-15, 2020-02-15, 2020-02-15]   \n",
       "0001981a-ee7c-4542-bf81-2cea59d963ab  [2019-10-05, 2019-10-05, 2019-10-05, 2019-10-0...   \n",
       "000277a9-30da-4bb2-b5ad-96ef24483af8  [2019-12-14, 2019-12-14, 2019-12-14, 2019-12-1...   \n",
       "...                                                                                 ...   \n",
       "fffee574-c72f-03cf-4d2a-5188047c4cef  [2019-12-24, 2019-12-24, 2019-12-24, 2019-12-2...   \n",
       "ffff78e3-1e8f-4eda-bb42-95749ab4f42e  [2020-02-21, 2020-02-21, 2020-02-21, 2020-02-2...   \n",
       "ffff8529-58c1-4ec8-933e-77f535718061  [2019-10-13, 2019-10-13, 2019-10-13, 2019-10-1...   \n",
       "ffff8da3-b79a-48f2-888c-117f2d1a7793                           [2020-02-12, 2020-02-12]   \n",
       "fffffc08-81e3-4050-9cd6-a5301f79f6f1  [2020-02-09, 2020-02-09, 2020-02-09, 2020-02-0...   \n",
       "\n",
       "                                                                                  price  \\\n",
       "order_id                                                                                  \n",
       "000013d6-68a4-40cf-9452-6577dbfab515  [4.76, 5.56, 1.75, 0.48, 4.4, 5.22, 0.48, 5.08...   \n",
       "00008836-6d96-4580-8527-173d4e1b2889  [7.86, 3.63, 1.73, 2.37, 2.37, 1.73, 1.73, 1.4...   \n",
       "0000d04d-3516-42ea-bdb9-584e92ce619e                           [1.59, 1.59, 0.32, 3.33]   \n",
       "0001981a-ee7c-4542-bf81-2cea59d963ab               [4.86, 0.79, 3.97, 3.97, 8.73, 1.43]   \n",
       "000277a9-30da-4bb2-b5ad-96ef24483af8                     [0.71, 0.71, 0.71, 0.71, 0.71]   \n",
       "...                                                                                 ...   \n",
       "fffee574-c72f-03cf-4d2a-5188047c4cef  [3.0, 2.78, 3.33, 2.62, 3.97, 6.19, 3.33, 3.0,...   \n",
       "ffff78e3-1e8f-4eda-bb42-95749ab4f42e                       [0.79, 1.43, 2.7, 1.98, 2.7]   \n",
       "ffff8529-58c1-4ec8-933e-77f535718061                [2.05, 2.37, 2.37, 3.97, 2.7, 1.73]   \n",
       "ffff8da3-b79a-48f2-888c-117f2d1a7793                                       [5.24, 4.46]   \n",
       "fffffc08-81e3-4050-9cd6-a5301f79f6f1           [13.02, 3.16, 23.81, 2.38, 19.52, 19.52]   \n",
       "\n",
       "                                                                                 margin  \n",
       "order_id                                                                                 \n",
       "000013d6-68a4-40cf-9452-6577dbfab515      [0.1, 0.1, 0.1, 0.1, 0.1, 0.1, 0.1, 0.1, 0.1]  \n",
       "00008836-6d96-4580-8527-173d4e1b2889  [0.1, 0.1, 0.1, 0.1, 0.1, 0.1, 0.1, 0.1, 0.1, ...  \n",
       "0000d04d-3516-42ea-bdb9-584e92ce619e                               [0.1, 0.1, 0.1, 0.1]  \n",
       "0001981a-ee7c-4542-bf81-2cea59d963ab                     [0.1, 0.1, 0.1, 0.1, 0.1, 0.1]  \n",
       "000277a9-30da-4bb2-b5ad-96ef24483af8                          [0.1, 0.1, 0.1, 0.1, 0.1]  \n",
       "...                                                                                 ...  \n",
       "fffee574-c72f-03cf-4d2a-5188047c4cef      [0.1, 0.1, 0.1, 0.1, 0.1, 0.1, 0.1, 0.1, 0.1]  \n",
       "ffff78e3-1e8f-4eda-bb42-95749ab4f42e                          [0.1, 0.1, 0.1, 0.1, 0.1]  \n",
       "ffff8529-58c1-4ec8-933e-77f535718061                     [0.1, 0.1, 0.1, 0.1, 0.1, 0.1]  \n",
       "ffff8da3-b79a-48f2-888c-117f2d1a7793                                         [0.1, 0.1]  \n",
       "fffffc08-81e3-4050-9cd6-a5301f79f6f1                     [0.1, 0.1, 0.1, 0.1, 0.1, 0.1]  \n",
       "\n",
       "[155617 rows x 4 columns]"
      ]
     },
     "execution_count": 10,
     "metadata": {},
     "output_type": "execute_result"
    }
   ],
   "source": [
    "data_raw[\"date\"] = pd.to_datetime(data_raw['event_time']).dt.date\n",
    "max_date = data_raw[\"date\"].max()\n",
    "data_raw[\"margin\"] = 0.1\n",
    "data_raw[\"profit\"] = data_raw[\"price\"] * data_raw[\"margin\"]\n",
    "max_profit = data_raw[\"profit\"].max()\n",
    "\n",
    "data = data_raw.groupby(\"order_id\",dropna=True)[\"product_id\",\"date\",\"price\",\"margin\"].agg(lambda x: list(x))\n",
    "\n",
    "data"
   ]
  },
  {
   "cell_type": "markdown",
   "metadata": {},
   "source": [
    "#### 3.1.1 Classical Association Rules"
   ]
  },
  {
   "cell_type": "code",
   "execution_count": 11,
   "metadata": {},
   "outputs": [
    {
     "data": {
      "text/html": [
       "<div>\n",
       "<style scoped>\n",
       "    .dataframe tbody tr th:only-of-type {\n",
       "        vertical-align: middle;\n",
       "    }\n",
       "\n",
       "    .dataframe tbody tr th {\n",
       "        vertical-align: top;\n",
       "    }\n",
       "\n",
       "    .dataframe thead th {\n",
       "        text-align: right;\n",
       "    }\n",
       "</style>\n",
       "<table border=\"1\" class=\"dataframe\">\n",
       "  <thead>\n",
       "    <tr style=\"text-align: right;\">\n",
       "      <th></th>\n",
       "      <th>antecedent</th>\n",
       "      <th>sup_antecedent</th>\n",
       "      <th>consequent</th>\n",
       "      <th>sup_consequent</th>\n",
       "      <th>antecedent&amp;consequent</th>\n",
       "      <th>sup_ant&amp;cons</th>\n",
       "      <th>sup_perc_ant&amp;cons</th>\n",
       "      <th>confidence</th>\n",
       "      <th>lift</th>\n",
       "      <th>improvement</th>\n",
       "    </tr>\n",
       "  </thead>\n",
       "  <tbody>\n",
       "    <tr>\n",
       "      <th>0</th>\n",
       "      <td>[]</td>\n",
       "      <td>NA</td>\n",
       "      <td>[5809910]</td>\n",
       "      <td>7458</td>\n",
       "      <td>[5809910]</td>\n",
       "      <td>7458</td>\n",
       "      <td>0.047925</td>\n",
       "      <td>NA</td>\n",
       "      <td>NA</td>\n",
       "      <td>NA</td>\n",
       "    </tr>\n",
       "    <tr>\n",
       "      <th>1</th>\n",
       "      <td>[]</td>\n",
       "      <td>NA</td>\n",
       "      <td>[5854897]</td>\n",
       "      <td>4593</td>\n",
       "      <td>[5854897]</td>\n",
       "      <td>4593</td>\n",
       "      <td>0.029515</td>\n",
       "      <td>NA</td>\n",
       "      <td>NA</td>\n",
       "      <td>NA</td>\n",
       "    </tr>\n",
       "    <tr>\n",
       "      <th>2</th>\n",
       "      <td>[]</td>\n",
       "      <td>NA</td>\n",
       "      <td>[5700037]</td>\n",
       "      <td>3623</td>\n",
       "      <td>[5700037]</td>\n",
       "      <td>3623</td>\n",
       "      <td>0.023282</td>\n",
       "      <td>NA</td>\n",
       "      <td>NA</td>\n",
       "      <td>NA</td>\n",
       "    </tr>\n",
       "    <tr>\n",
       "      <th>3</th>\n",
       "      <td>[]</td>\n",
       "      <td>NA</td>\n",
       "      <td>[5802432]</td>\n",
       "      <td>3486</td>\n",
       "      <td>[5802432]</td>\n",
       "      <td>3486</td>\n",
       "      <td>0.022401</td>\n",
       "      <td>NA</td>\n",
       "      <td>NA</td>\n",
       "      <td>NA</td>\n",
       "    </tr>\n",
       "    <tr>\n",
       "      <th>4</th>\n",
       "      <td>[]</td>\n",
       "      <td>NA</td>\n",
       "      <td>[5751422]</td>\n",
       "      <td>3457</td>\n",
       "      <td>[5751422]</td>\n",
       "      <td>3457</td>\n",
       "      <td>0.022215</td>\n",
       "      <td>NA</td>\n",
       "      <td>NA</td>\n",
       "      <td>NA</td>\n",
       "    </tr>\n",
       "    <tr>\n",
       "      <th>5</th>\n",
       "      <td>[]</td>\n",
       "      <td>NA</td>\n",
       "      <td>[5809912]</td>\n",
       "      <td>3272</td>\n",
       "      <td>[5809912]</td>\n",
       "      <td>3272</td>\n",
       "      <td>0.021026</td>\n",
       "      <td>NA</td>\n",
       "      <td>NA</td>\n",
       "      <td>NA</td>\n",
       "    </tr>\n",
       "    <tr>\n",
       "      <th>6</th>\n",
       "      <td>[]</td>\n",
       "      <td>NA</td>\n",
       "      <td>[5815662]</td>\n",
       "      <td>3206</td>\n",
       "      <td>[5815662]</td>\n",
       "      <td>3206</td>\n",
       "      <td>0.020602</td>\n",
       "      <td>NA</td>\n",
       "      <td>NA</td>\n",
       "      <td>NA</td>\n",
       "    </tr>\n",
       "    <tr>\n",
       "      <th>7</th>\n",
       "      <td>[]</td>\n",
       "      <td>NA</td>\n",
       "      <td>[5304]</td>\n",
       "      <td>3102</td>\n",
       "      <td>[5304]</td>\n",
       "      <td>3102</td>\n",
       "      <td>0.019934</td>\n",
       "      <td>NA</td>\n",
       "      <td>NA</td>\n",
       "      <td>NA</td>\n",
       "    </tr>\n",
       "    <tr>\n",
       "      <th>8</th>\n",
       "      <td>[]</td>\n",
       "      <td>NA</td>\n",
       "      <td>[5751383]</td>\n",
       "      <td>2912</td>\n",
       "      <td>[5751383]</td>\n",
       "      <td>2912</td>\n",
       "      <td>0.018713</td>\n",
       "      <td>NA</td>\n",
       "      <td>NA</td>\n",
       "      <td>NA</td>\n",
       "    </tr>\n",
       "    <tr>\n",
       "      <th>9</th>\n",
       "      <td>[]</td>\n",
       "      <td>NA</td>\n",
       "      <td>[5849033]</td>\n",
       "      <td>2753</td>\n",
       "      <td>[5849033]</td>\n",
       "      <td>2753</td>\n",
       "      <td>0.017691</td>\n",
       "      <td>NA</td>\n",
       "      <td>NA</td>\n",
       "      <td>NA</td>\n",
       "    </tr>\n",
       "    <tr>\n",
       "      <th>10</th>\n",
       "      <td>[]</td>\n",
       "      <td>NA</td>\n",
       "      <td>[5792800]</td>\n",
       "      <td>2683</td>\n",
       "      <td>[5792800]</td>\n",
       "      <td>2683</td>\n",
       "      <td>0.017241</td>\n",
       "      <td>NA</td>\n",
       "      <td>NA</td>\n",
       "      <td>NA</td>\n",
       "    </tr>\n",
       "    <tr>\n",
       "      <th>11</th>\n",
       "      <td>[]</td>\n",
       "      <td>NA</td>\n",
       "      <td>[5686925]</td>\n",
       "      <td>2332</td>\n",
       "      <td>[5686925]</td>\n",
       "      <td>2332</td>\n",
       "      <td>0.014986</td>\n",
       "      <td>NA</td>\n",
       "      <td>NA</td>\n",
       "      <td>NA</td>\n",
       "    </tr>\n",
       "    <tr>\n",
       "      <th>12</th>\n",
       "      <td>[]</td>\n",
       "      <td>NA</td>\n",
       "      <td>[5528035]</td>\n",
       "      <td>1827</td>\n",
       "      <td>[5528035]</td>\n",
       "      <td>1827</td>\n",
       "      <td>0.011740</td>\n",
       "      <td>NA</td>\n",
       "      <td>NA</td>\n",
       "      <td>NA</td>\n",
       "    </tr>\n",
       "    <tr>\n",
       "      <th>13</th>\n",
       "      <td>[]</td>\n",
       "      <td>NA</td>\n",
       "      <td>[5013]</td>\n",
       "      <td>1823</td>\n",
       "      <td>[5013]</td>\n",
       "      <td>1823</td>\n",
       "      <td>0.011715</td>\n",
       "      <td>NA</td>\n",
       "      <td>NA</td>\n",
       "      <td>NA</td>\n",
       "    </tr>\n",
       "    <tr>\n",
       "      <th>14</th>\n",
       "      <td>[]</td>\n",
       "      <td>NA</td>\n",
       "      <td>[5833330]</td>\n",
       "      <td>1816</td>\n",
       "      <td>[5833330]</td>\n",
       "      <td>1816</td>\n",
       "      <td>0.011670</td>\n",
       "      <td>NA</td>\n",
       "      <td>NA</td>\n",
       "      <td>NA</td>\n",
       "    </tr>\n",
       "    <tr>\n",
       "      <th>15</th>\n",
       "      <td>[]</td>\n",
       "      <td>NA</td>\n",
       "      <td>[5809911]</td>\n",
       "      <td>1815</td>\n",
       "      <td>[5809911]</td>\n",
       "      <td>1815</td>\n",
       "      <td>0.011663</td>\n",
       "      <td>NA</td>\n",
       "      <td>NA</td>\n",
       "      <td>NA</td>\n",
       "    </tr>\n",
       "    <tr>\n",
       "      <th>16</th>\n",
       "      <td>[]</td>\n",
       "      <td>NA</td>\n",
       "      <td>[5843836]</td>\n",
       "      <td>1807</td>\n",
       "      <td>[5843836]</td>\n",
       "      <td>1807</td>\n",
       "      <td>0.011612</td>\n",
       "      <td>NA</td>\n",
       "      <td>NA</td>\n",
       "      <td>NA</td>\n",
       "    </tr>\n",
       "    <tr>\n",
       "      <th>17</th>\n",
       "      <td>[]</td>\n",
       "      <td>NA</td>\n",
       "      <td>[5816170]</td>\n",
       "      <td>1787</td>\n",
       "      <td>[5816170]</td>\n",
       "      <td>1787</td>\n",
       "      <td>0.011483</td>\n",
       "      <td>NA</td>\n",
       "      <td>NA</td>\n",
       "      <td>NA</td>\n",
       "    </tr>\n",
       "    <tr>\n",
       "      <th>18</th>\n",
       "      <td>[]</td>\n",
       "      <td>NA</td>\n",
       "      <td>[5700046]</td>\n",
       "      <td>1678</td>\n",
       "      <td>[5700046]</td>\n",
       "      <td>1678</td>\n",
       "      <td>0.010783</td>\n",
       "      <td>NA</td>\n",
       "      <td>NA</td>\n",
       "      <td>NA</td>\n",
       "    </tr>\n",
       "    <tr>\n",
       "      <th>19</th>\n",
       "      <td>[]</td>\n",
       "      <td>NA</td>\n",
       "      <td>[5687151]</td>\n",
       "      <td>1674</td>\n",
       "      <td>[5687151]</td>\n",
       "      <td>1674</td>\n",
       "      <td>0.010757</td>\n",
       "      <td>NA</td>\n",
       "      <td>NA</td>\n",
       "      <td>NA</td>\n",
       "    </tr>\n",
       "    <tr>\n",
       "      <th>20</th>\n",
       "      <td>[]</td>\n",
       "      <td>NA</td>\n",
       "      <td>[5759492]</td>\n",
       "      <td>1620</td>\n",
       "      <td>[5759492]</td>\n",
       "      <td>1620</td>\n",
       "      <td>0.010410</td>\n",
       "      <td>NA</td>\n",
       "      <td>NA</td>\n",
       "      <td>NA</td>\n",
       "    </tr>\n",
       "    <tr>\n",
       "      <th>21</th>\n",
       "      <td>[]</td>\n",
       "      <td>NA</td>\n",
       "      <td>[5729864]</td>\n",
       "      <td>1598</td>\n",
       "      <td>[5729864]</td>\n",
       "      <td>1598</td>\n",
       "      <td>0.010269</td>\n",
       "      <td>NA</td>\n",
       "      <td>NA</td>\n",
       "      <td>NA</td>\n",
       "    </tr>\n",
       "  </tbody>\n",
       "</table>\n",
       "</div>"
      ],
      "text/plain": [
       "   antecedent sup_antecedent consequent  sup_consequent antecedent&consequent  \\\n",
       "0          []             NA  [5809910]            7458             [5809910]   \n",
       "1          []             NA  [5854897]            4593             [5854897]   \n",
       "2          []             NA  [5700037]            3623             [5700037]   \n",
       "3          []             NA  [5802432]            3486             [5802432]   \n",
       "4          []             NA  [5751422]            3457             [5751422]   \n",
       "5          []             NA  [5809912]            3272             [5809912]   \n",
       "6          []             NA  [5815662]            3206             [5815662]   \n",
       "7          []             NA     [5304]            3102                [5304]   \n",
       "8          []             NA  [5751383]            2912             [5751383]   \n",
       "9          []             NA  [5849033]            2753             [5849033]   \n",
       "10         []             NA  [5792800]            2683             [5792800]   \n",
       "11         []             NA  [5686925]            2332             [5686925]   \n",
       "12         []             NA  [5528035]            1827             [5528035]   \n",
       "13         []             NA     [5013]            1823                [5013]   \n",
       "14         []             NA  [5833330]            1816             [5833330]   \n",
       "15         []             NA  [5809911]            1815             [5809911]   \n",
       "16         []             NA  [5843836]            1807             [5843836]   \n",
       "17         []             NA  [5816170]            1787             [5816170]   \n",
       "18         []             NA  [5700046]            1678             [5700046]   \n",
       "19         []             NA  [5687151]            1674             [5687151]   \n",
       "20         []             NA  [5759492]            1620             [5759492]   \n",
       "21         []             NA  [5729864]            1598             [5729864]   \n",
       "\n",
       "    sup_ant&cons  sup_perc_ant&cons confidence lift improvement  \n",
       "0           7458           0.047925         NA   NA          NA  \n",
       "1           4593           0.029515         NA   NA          NA  \n",
       "2           3623           0.023282         NA   NA          NA  \n",
       "3           3486           0.022401         NA   NA          NA  \n",
       "4           3457           0.022215         NA   NA          NA  \n",
       "5           3272           0.021026         NA   NA          NA  \n",
       "6           3206           0.020602         NA   NA          NA  \n",
       "7           3102           0.019934         NA   NA          NA  \n",
       "8           2912           0.018713         NA   NA          NA  \n",
       "9           2753           0.017691         NA   NA          NA  \n",
       "10          2683           0.017241         NA   NA          NA  \n",
       "11          2332           0.014986         NA   NA          NA  \n",
       "12          1827           0.011740         NA   NA          NA  \n",
       "13          1823           0.011715         NA   NA          NA  \n",
       "14          1816           0.011670         NA   NA          NA  \n",
       "15          1815           0.011663         NA   NA          NA  \n",
       "16          1807           0.011612         NA   NA          NA  \n",
       "17          1787           0.011483         NA   NA          NA  \n",
       "18          1678           0.010783         NA   NA          NA  \n",
       "19          1674           0.010757         NA   NA          NA  \n",
       "20          1620           0.010410         NA   NA          NA  \n",
       "21          1598           0.010269         NA   NA          NA  "
      ]
     },
     "execution_count": 11,
     "metadata": {},
     "output_type": "execute_result"
    }
   ],
   "source": [
    "import modified_fp_growth_algorithm.modified_fp_growth_latest as mod_fp_growth\n",
    "\n",
    "rules = mod_fp_growth.fpgrowthFromDataFrame(\\\n",
    "    data,\n",
    "    minSupRatio=0.01,\n",
    "    maxSupRatio=1,\n",
    "    minConf=0,\n",
    "    item_col=1\n",
    "    )\n",
    "    \n",
    "rules.to_excel(\"fp_groth_out.xlsx\",index=False) \n",
    "rules"
   ]
  },
  {
   "cell_type": "code",
   "execution_count": 12,
   "metadata": {},
   "outputs": [
    {
     "data": {
      "text/html": [
       "<div>\n",
       "<style scoped>\n",
       "    .dataframe tbody tr th:only-of-type {\n",
       "        vertical-align: middle;\n",
       "    }\n",
       "\n",
       "    .dataframe tbody tr th {\n",
       "        vertical-align: top;\n",
       "    }\n",
       "\n",
       "    .dataframe thead th {\n",
       "        text-align: right;\n",
       "    }\n",
       "</style>\n",
       "<table border=\"1\" class=\"dataframe\">\n",
       "  <thead>\n",
       "    <tr style=\"text-align: right;\">\n",
       "      <th></th>\n",
       "      <th>antecedent&amp;consequent</th>\n",
       "      <th>sup_ant&amp;cons</th>\n",
       "      <th>product_id</th>\n",
       "      <th>category_id</th>\n",
       "      <th>category_code</th>\n",
       "      <th>brand</th>\n",
       "      <th>price</th>\n",
       "    </tr>\n",
       "  </thead>\n",
       "  <tbody>\n",
       "    <tr>\n",
       "      <th>0</th>\n",
       "      <td>5809910</td>\n",
       "      <td>7458</td>\n",
       "      <td>5809910</td>\n",
       "      <td>1602943681873052386</td>\n",
       "      <td>nan</td>\n",
       "      <td>grattol</td>\n",
       "      <td>5.24</td>\n",
       "    </tr>\n",
       "    <tr>\n",
       "      <th>1</th>\n",
       "      <td>5854897</td>\n",
       "      <td>4593</td>\n",
       "      <td>5854897</td>\n",
       "      <td>1487580009445982239</td>\n",
       "      <td>nan</td>\n",
       "      <td>irisk</td>\n",
       "      <td>0.32</td>\n",
       "    </tr>\n",
       "    <tr>\n",
       "      <th>2</th>\n",
       "      <td>5700037</td>\n",
       "      <td>3623</td>\n",
       "      <td>5700037</td>\n",
       "      <td>1487580009286598681</td>\n",
       "      <td>nan</td>\n",
       "      <td>runail</td>\n",
       "      <td>0.4</td>\n",
       "    </tr>\n",
       "    <tr>\n",
       "      <th>3</th>\n",
       "      <td>5802432</td>\n",
       "      <td>3486</td>\n",
       "      <td>5802432</td>\n",
       "      <td>1487580009286598681</td>\n",
       "      <td>nan</td>\n",
       "      <td>nan</td>\n",
       "      <td>0.32</td>\n",
       "    </tr>\n",
       "    <tr>\n",
       "      <th>4</th>\n",
       "      <td>5751422</td>\n",
       "      <td>3457</td>\n",
       "      <td>5751422</td>\n",
       "      <td>1487580005268456287</td>\n",
       "      <td>nan</td>\n",
       "      <td>uno</td>\n",
       "      <td>10.95</td>\n",
       "    </tr>\n",
       "    <tr>\n",
       "      <th>5</th>\n",
       "      <td>5809912</td>\n",
       "      <td>3272</td>\n",
       "      <td>5809912</td>\n",
       "      <td>1602943681873052386</td>\n",
       "      <td>nan</td>\n",
       "      <td>grattol</td>\n",
       "      <td>5.24</td>\n",
       "    </tr>\n",
       "    <tr>\n",
       "      <th>6</th>\n",
       "      <td>5815662</td>\n",
       "      <td>3206</td>\n",
       "      <td>5815662</td>\n",
       "      <td>1487580006317032337</td>\n",
       "      <td>nan</td>\n",
       "      <td>nan</td>\n",
       "      <td>0.92</td>\n",
       "    </tr>\n",
       "    <tr>\n",
       "      <th>7</th>\n",
       "      <td>5304</td>\n",
       "      <td>3102</td>\n",
       "      <td>5304</td>\n",
       "      <td>1487580009471148064</td>\n",
       "      <td>nan</td>\n",
       "      <td>runail</td>\n",
       "      <td>0.32</td>\n",
       "    </tr>\n",
       "    <tr>\n",
       "      <th>8</th>\n",
       "      <td>5751383</td>\n",
       "      <td>2912</td>\n",
       "      <td>5751383</td>\n",
       "      <td>1487580005092295511</td>\n",
       "      <td>nan</td>\n",
       "      <td>uno</td>\n",
       "      <td>10.32</td>\n",
       "    </tr>\n",
       "    <tr>\n",
       "      <th>9</th>\n",
       "      <td>5849033</td>\n",
       "      <td>2753</td>\n",
       "      <td>5849033</td>\n",
       "      <td>1487580005092295511</td>\n",
       "      <td>nan</td>\n",
       "      <td>uno</td>\n",
       "      <td>10.32</td>\n",
       "    </tr>\n",
       "    <tr>\n",
       "      <th>10</th>\n",
       "      <td>5792800</td>\n",
       "      <td>2683</td>\n",
       "      <td>5792800</td>\n",
       "      <td>1487580005268456287</td>\n",
       "      <td>nan</td>\n",
       "      <td>nan</td>\n",
       "      <td>10.32</td>\n",
       "    </tr>\n",
       "    <tr>\n",
       "      <th>11</th>\n",
       "      <td>5686925</td>\n",
       "      <td>2332</td>\n",
       "      <td>5686925</td>\n",
       "      <td>1487580009311764506</td>\n",
       "      <td>nan</td>\n",
       "      <td>nan</td>\n",
       "      <td>0.29</td>\n",
       "    </tr>\n",
       "    <tr>\n",
       "      <th>12</th>\n",
       "      <td>5528035</td>\n",
       "      <td>1827</td>\n",
       "      <td>5528035</td>\n",
       "      <td>1487580005553668971</td>\n",
       "      <td>nan</td>\n",
       "      <td>nan</td>\n",
       "      <td>9.52</td>\n",
       "    </tr>\n",
       "    <tr>\n",
       "      <th>13</th>\n",
       "      <td>5013</td>\n",
       "      <td>1823</td>\n",
       "      <td>5013</td>\n",
       "      <td>1487580008145748965</td>\n",
       "      <td>nan</td>\n",
       "      <td>runail</td>\n",
       "      <td>1.27</td>\n",
       "    </tr>\n",
       "    <tr>\n",
       "      <th>14</th>\n",
       "      <td>5833330</td>\n",
       "      <td>1816</td>\n",
       "      <td>5833330</td>\n",
       "      <td>1487580007675986893</td>\n",
       "      <td>nan</td>\n",
       "      <td>bpw.style</td>\n",
       "      <td>0.95</td>\n",
       "    </tr>\n",
       "    <tr>\n",
       "      <th>15</th>\n",
       "      <td>5809911</td>\n",
       "      <td>1815</td>\n",
       "      <td>5809911</td>\n",
       "      <td>1602943681873052386</td>\n",
       "      <td>nan</td>\n",
       "      <td>grattol</td>\n",
       "      <td>5.24</td>\n",
       "    </tr>\n",
       "    <tr>\n",
       "      <th>16</th>\n",
       "      <td>5843836</td>\n",
       "      <td>1807</td>\n",
       "      <td>5843836</td>\n",
       "      <td>1487580009286598681</td>\n",
       "      <td>nan</td>\n",
       "      <td>nan</td>\n",
       "      <td>0.38</td>\n",
       "    </tr>\n",
       "    <tr>\n",
       "      <th>17</th>\n",
       "      <td>5816170</td>\n",
       "      <td>1787</td>\n",
       "      <td>5816170</td>\n",
       "      <td>1602943681873052386</td>\n",
       "      <td>nan</td>\n",
       "      <td>grattol</td>\n",
       "      <td>5.24</td>\n",
       "    </tr>\n",
       "    <tr>\n",
       "      <th>18</th>\n",
       "      <td>5700046</td>\n",
       "      <td>1678</td>\n",
       "      <td>5700046</td>\n",
       "      <td>1487580009286598681</td>\n",
       "      <td>nan</td>\n",
       "      <td>runail</td>\n",
       "      <td>0.4</td>\n",
       "    </tr>\n",
       "    <tr>\n",
       "      <th>19</th>\n",
       "      <td>5687151</td>\n",
       "      <td>1674</td>\n",
       "      <td>5687151</td>\n",
       "      <td>1487580009605365797</td>\n",
       "      <td>nan</td>\n",
       "      <td>nan</td>\n",
       "      <td>1.9</td>\n",
       "    </tr>\n",
       "    <tr>\n",
       "      <th>20</th>\n",
       "      <td>5759492</td>\n",
       "      <td>1620</td>\n",
       "      <td>5759492</td>\n",
       "      <td>1487580013011140782</td>\n",
       "      <td>nan</td>\n",
       "      <td>italwax</td>\n",
       "      <td>2.37</td>\n",
       "    </tr>\n",
       "    <tr>\n",
       "      <th>21</th>\n",
       "      <td>5729864</td>\n",
       "      <td>1598</td>\n",
       "      <td>5729864</td>\n",
       "      <td>1487580006509970331</td>\n",
       "      <td>nan</td>\n",
       "      <td>nan</td>\n",
       "      <td>0.41</td>\n",
       "    </tr>\n",
       "  </tbody>\n",
       "</table>\n",
       "</div>"
      ],
      "text/plain": [
       "   antecedent&consequent  sup_ant&cons product_id          category_id  \\\n",
       "0                5809910          7458    5809910  1602943681873052386   \n",
       "1                5854897          4593    5854897  1487580009445982239   \n",
       "2                5700037          3623    5700037  1487580009286598681   \n",
       "3                5802432          3486    5802432  1487580009286598681   \n",
       "4                5751422          3457    5751422  1487580005268456287   \n",
       "5                5809912          3272    5809912  1602943681873052386   \n",
       "6                5815662          3206    5815662  1487580006317032337   \n",
       "7                   5304          3102       5304  1487580009471148064   \n",
       "8                5751383          2912    5751383  1487580005092295511   \n",
       "9                5849033          2753    5849033  1487580005092295511   \n",
       "10               5792800          2683    5792800  1487580005268456287   \n",
       "11               5686925          2332    5686925  1487580009311764506   \n",
       "12               5528035          1827    5528035  1487580005553668971   \n",
       "13                  5013          1823       5013  1487580008145748965   \n",
       "14               5833330          1816    5833330  1487580007675986893   \n",
       "15               5809911          1815    5809911  1602943681873052386   \n",
       "16               5843836          1807    5843836  1487580009286598681   \n",
       "17               5816170          1787    5816170  1602943681873052386   \n",
       "18               5700046          1678    5700046  1487580009286598681   \n",
       "19               5687151          1674    5687151  1487580009605365797   \n",
       "20               5759492          1620    5759492  1487580013011140782   \n",
       "21               5729864          1598    5729864  1487580006509970331   \n",
       "\n",
       "   category_code      brand  price  \n",
       "0            nan    grattol   5.24  \n",
       "1            nan      irisk   0.32  \n",
       "2            nan     runail    0.4  \n",
       "3            nan        nan   0.32  \n",
       "4            nan        uno  10.95  \n",
       "5            nan    grattol   5.24  \n",
       "6            nan        nan   0.92  \n",
       "7            nan     runail   0.32  \n",
       "8            nan        uno  10.32  \n",
       "9            nan        uno  10.32  \n",
       "10           nan        nan  10.32  \n",
       "11           nan        nan   0.29  \n",
       "12           nan        nan   9.52  \n",
       "13           nan     runail   1.27  \n",
       "14           nan  bpw.style   0.95  \n",
       "15           nan    grattol   5.24  \n",
       "16           nan        nan   0.38  \n",
       "17           nan    grattol   5.24  \n",
       "18           nan     runail    0.4  \n",
       "19           nan        nan    1.9  \n",
       "20           nan    italwax   2.37  \n",
       "21           nan        nan   0.41  "
      ]
     },
     "execution_count": 12,
     "metadata": {},
     "output_type": "execute_result"
    }
   ],
   "source": [
    "# A minSupRatio of 0.007 means, in case of profitability, that it represents 0.007 of total revenues rspectively profit. We made the profit fo each product equal.\n",
    "# Let's oberserve what kind of items we have found.\n",
    "\n",
    "\n",
    "rules_exploded = rules.explode(\"antecedent&consequent\")[[\"antecedent&consequent\",\"sup_ant&cons\"]]\n",
    "rules_exploded.insert(0,\"rules_index\",rules_exploded.index)\n",
    "\n",
    "\n",
    "rules_labeled = pd.merge(rules_exploded,unique_items, how='inner', left_on = 'antecedent&consequent', right_on = 'product_id').sort_values(\"rules_index\").reset_index(drop=True)\n",
    "\n",
    "\n",
    "rules_labeled.to_excel(\"rules_labeled.xlsx\",index=False)\n",
    "\n",
    "rules_labeled = rules_labeled.drop('rules_index', axis=1)\n",
    "rules_labeled"
   ]
  },
  {
   "cell_type": "markdown",
   "metadata": {},
   "source": [
    "#### 3.1.2 Classical Association Rules (Limitations on transaction length as at least 2)"
   ]
  },
  {
   "cell_type": "code",
   "execution_count": 16,
   "metadata": {},
   "outputs": [
    {
     "data": {
      "text/html": [
       "<div>\n",
       "<style scoped>\n",
       "    .dataframe tbody tr th:only-of-type {\n",
       "        vertical-align: middle;\n",
       "    }\n",
       "\n",
       "    .dataframe tbody tr th {\n",
       "        vertical-align: top;\n",
       "    }\n",
       "\n",
       "    .dataframe thead th {\n",
       "        text-align: right;\n",
       "    }\n",
       "</style>\n",
       "<table border=\"1\" class=\"dataframe\">\n",
       "  <thead>\n",
       "    <tr style=\"text-align: right;\">\n",
       "      <th></th>\n",
       "      <th>antecedent</th>\n",
       "      <th>sup_antecedent</th>\n",
       "      <th>consequent</th>\n",
       "      <th>sup_consequent</th>\n",
       "      <th>antecedent&amp;consequent</th>\n",
       "      <th>sup_ant&amp;cons</th>\n",
       "      <th>sup_perc_ant&amp;cons</th>\n",
       "      <th>confidence</th>\n",
       "      <th>lift</th>\n",
       "      <th>improvement</th>\n",
       "    </tr>\n",
       "  </thead>\n",
       "  <tbody>\n",
       "    <tr>\n",
       "      <th>0</th>\n",
       "      <td>[5809910]</td>\n",
       "      <td>1642</td>\n",
       "      <td>[5809912]</td>\n",
       "      <td>466</td>\n",
       "      <td>[5809910, 5809912]</td>\n",
       "      <td>231</td>\n",
       "      <td>0.003565</td>\n",
       "      <td>0.140682</td>\n",
       "      <td>19.563868</td>\n",
       "      <td>0.133491</td>\n",
       "    </tr>\n",
       "    <tr>\n",
       "      <th>1</th>\n",
       "      <td>[5751422]</td>\n",
       "      <td>596</td>\n",
       "      <td>[5751383]</td>\n",
       "      <td>595</td>\n",
       "      <td>[5751383, 5751422]</td>\n",
       "      <td>175</td>\n",
       "      <td>0.002700</td>\n",
       "      <td>0.293624</td>\n",
       "      <td>31.979866</td>\n",
       "      <td>0.284443</td>\n",
       "    </tr>\n",
       "    <tr>\n",
       "      <th>2</th>\n",
       "      <td>[5809910]</td>\n",
       "      <td>1642</td>\n",
       "      <td>[5809911]</td>\n",
       "      <td>270</td>\n",
       "      <td>[5809910, 5809911]</td>\n",
       "      <td>161</td>\n",
       "      <td>0.002484</td>\n",
       "      <td>0.098051</td>\n",
       "      <td>23.533730</td>\n",
       "      <td>0.093885</td>\n",
       "    </tr>\n",
       "    <tr>\n",
       "      <th>3</th>\n",
       "      <td>[5814516]</td>\n",
       "      <td>183</td>\n",
       "      <td>[5814517]</td>\n",
       "      <td>170</td>\n",
       "      <td>[5814516, 5814517]</td>\n",
       "      <td>148</td>\n",
       "      <td>0.002284</td>\n",
       "      <td>0.808743</td>\n",
       "      <td>308.292896</td>\n",
       "      <td>0.806120</td>\n",
       "    </tr>\n",
       "    <tr>\n",
       "      <th>4</th>\n",
       "      <td>[5677043]</td>\n",
       "      <td>447</td>\n",
       "      <td>[5697463]</td>\n",
       "      <td>196</td>\n",
       "      <td>[5697463, 5677043]</td>\n",
       "      <td>129</td>\n",
       "      <td>0.001991</td>\n",
       "      <td>0.288591</td>\n",
       "      <td>95.417477</td>\n",
       "      <td>0.285566</td>\n",
       "    </tr>\n",
       "    <tr>\n",
       "      <th>5</th>\n",
       "      <td>[5823667]</td>\n",
       "      <td>241</td>\n",
       "      <td>[5819894]</td>\n",
       "      <td>125</td>\n",
       "      <td>[5819894, 5823667]</td>\n",
       "      <td>113</td>\n",
       "      <td>0.001744</td>\n",
       "      <td>0.468880</td>\n",
       "      <td>243.082224</td>\n",
       "      <td>0.466951</td>\n",
       "    </tr>\n",
       "    <tr>\n",
       "      <th>6</th>\n",
       "      <td>[5751422]</td>\n",
       "      <td>596</td>\n",
       "      <td>[5849033]</td>\n",
       "      <td>465</td>\n",
       "      <td>[5849033, 5751422]</td>\n",
       "      <td>93</td>\n",
       "      <td>0.001435</td>\n",
       "      <td>0.156040</td>\n",
       "      <td>21.746309</td>\n",
       "      <td>0.148865</td>\n",
       "    </tr>\n",
       "    <tr>\n",
       "      <th>7</th>\n",
       "      <td>[5809910]</td>\n",
       "      <td>1642</td>\n",
       "      <td>[5816170]</td>\n",
       "      <td>233</td>\n",
       "      <td>[5816170, 5809910]</td>\n",
       "      <td>90</td>\n",
       "      <td>0.001389</td>\n",
       "      <td>0.054811</td>\n",
       "      <td>15.244572</td>\n",
       "      <td>0.051216</td>\n",
       "    </tr>\n",
       "    <tr>\n",
       "      <th>8</th>\n",
       "      <td>[4185]</td>\n",
       "      <td>228</td>\n",
       "      <td>[3762]</td>\n",
       "      <td>147</td>\n",
       "      <td>[3762, 4185]</td>\n",
       "      <td>88</td>\n",
       "      <td>0.001358</td>\n",
       "      <td>0.385965</td>\n",
       "      <td>170.150137</td>\n",
       "      <td>0.383697</td>\n",
       "    </tr>\n",
       "    <tr>\n",
       "      <th>9</th>\n",
       "      <td>[5528035]</td>\n",
       "      <td>493</td>\n",
       "      <td>[5528034]</td>\n",
       "      <td>205</td>\n",
       "      <td>[5528035, 5528034]</td>\n",
       "      <td>84</td>\n",
       "      <td>0.001296</td>\n",
       "      <td>0.170385</td>\n",
       "      <td>53.861733</td>\n",
       "      <td>0.167222</td>\n",
       "    </tr>\n",
       "    <tr>\n",
       "      <th>10</th>\n",
       "      <td>[5739055]</td>\n",
       "      <td>192</td>\n",
       "      <td>[5739056]</td>\n",
       "      <td>125</td>\n",
       "      <td>[5739055, 5739056]</td>\n",
       "      <td>81</td>\n",
       "      <td>0.001250</td>\n",
       "      <td>0.421875</td>\n",
       "      <td>218.713500</td>\n",
       "      <td>0.419946</td>\n",
       "    </tr>\n",
       "    <tr>\n",
       "      <th>11</th>\n",
       "      <td>[5809912]</td>\n",
       "      <td>466</td>\n",
       "      <td>[5809911]</td>\n",
       "      <td>270</td>\n",
       "      <td>[5809911, 5809912]</td>\n",
       "      <td>76</td>\n",
       "      <td>0.001173</td>\n",
       "      <td>0.163090</td>\n",
       "      <td>39.144047</td>\n",
       "      <td>0.158924</td>\n",
       "    </tr>\n",
       "  </tbody>\n",
       "</table>\n",
       "</div>"
      ],
      "text/plain": [
       "   antecedent  sup_antecedent consequent  sup_consequent  \\\n",
       "0   [5809910]            1642  [5809912]             466   \n",
       "1   [5751422]             596  [5751383]             595   \n",
       "2   [5809910]            1642  [5809911]             270   \n",
       "3   [5814516]             183  [5814517]             170   \n",
       "4   [5677043]             447  [5697463]             196   \n",
       "5   [5823667]             241  [5819894]             125   \n",
       "6   [5751422]             596  [5849033]             465   \n",
       "7   [5809910]            1642  [5816170]             233   \n",
       "8      [4185]             228     [3762]             147   \n",
       "9   [5528035]             493  [5528034]             205   \n",
       "10  [5739055]             192  [5739056]             125   \n",
       "11  [5809912]             466  [5809911]             270   \n",
       "\n",
       "   antecedent&consequent  sup_ant&cons  sup_perc_ant&cons  confidence  \\\n",
       "0     [5809910, 5809912]           231           0.003565    0.140682   \n",
       "1     [5751383, 5751422]           175           0.002700    0.293624   \n",
       "2     [5809910, 5809911]           161           0.002484    0.098051   \n",
       "3     [5814516, 5814517]           148           0.002284    0.808743   \n",
       "4     [5697463, 5677043]           129           0.001991    0.288591   \n",
       "5     [5819894, 5823667]           113           0.001744    0.468880   \n",
       "6     [5849033, 5751422]            93           0.001435    0.156040   \n",
       "7     [5816170, 5809910]            90           0.001389    0.054811   \n",
       "8           [3762, 4185]            88           0.001358    0.385965   \n",
       "9     [5528035, 5528034]            84           0.001296    0.170385   \n",
       "10    [5739055, 5739056]            81           0.001250    0.421875   \n",
       "11    [5809911, 5809912]            76           0.001173    0.163090   \n",
       "\n",
       "          lift  improvement  \n",
       "0    19.563868     0.133491  \n",
       "1    31.979866     0.284443  \n",
       "2    23.533730     0.093885  \n",
       "3   308.292896     0.806120  \n",
       "4    95.417477     0.285566  \n",
       "5   243.082224     0.466951  \n",
       "6    21.746309     0.148865  \n",
       "7    15.244572     0.051216  \n",
       "8   170.150137     0.383697  \n",
       "9    53.861733     0.167222  \n",
       "10  218.713500     0.419946  \n",
       "11   39.144047     0.158924  "
      ]
     },
     "execution_count": 16,
     "metadata": {},
     "output_type": "execute_result"
    }
   ],
   "source": [
    "import modified_fp_growth_algorithm.modified_fp_growth_latest as mod_fp_growth\n",
    "\n",
    "data = data[data[\"product_id\"].apply(len)<5]\n",
    "\n",
    "rules = mod_fp_growth.fpgrowthFromDataFrame(\\\n",
    "    data,\n",
    "    minSupRatio=0.001,\n",
    "    maxSupRatio=1,\n",
    "    minConf=0,\n",
    "    item_col=1,\n",
    "    minTransactionLength=2,\n",
    "    maxTransactionLength=10\n",
    "    )\n",
    "    \n",
    "rules.to_excel(\"fp_groth_out.xlsx\",index=False) \n",
    "rules"
   ]
  },
  {
   "cell_type": "code",
   "execution_count": 19,
   "metadata": {},
   "outputs": [
    {
     "data": {
      "text/html": [
       "<div>\n",
       "<style scoped>\n",
       "    .dataframe tbody tr th:only-of-type {\n",
       "        vertical-align: middle;\n",
       "    }\n",
       "\n",
       "    .dataframe tbody tr th {\n",
       "        vertical-align: top;\n",
       "    }\n",
       "\n",
       "    .dataframe thead th {\n",
       "        text-align: right;\n",
       "    }\n",
       "</style>\n",
       "<table border=\"1\" class=\"dataframe\">\n",
       "  <thead>\n",
       "    <tr style=\"text-align: right;\">\n",
       "      <th></th>\n",
       "      <th>rules_index</th>\n",
       "      <th>antecedent&amp;consequent</th>\n",
       "      <th>sup_ant&amp;cons</th>\n",
       "      <th>product_id</th>\n",
       "      <th>category_id</th>\n",
       "      <th>category_code</th>\n",
       "      <th>brand</th>\n",
       "      <th>price</th>\n",
       "    </tr>\n",
       "  </thead>\n",
       "  <tbody>\n",
       "    <tr>\n",
       "      <th>0</th>\n",
       "      <td>0</td>\n",
       "      <td>5809910</td>\n",
       "      <td>231</td>\n",
       "      <td>5809910</td>\n",
       "      <td>1602943681873052386</td>\n",
       "      <td>nan</td>\n",
       "      <td>grattol</td>\n",
       "      <td>5.24</td>\n",
       "    </tr>\n",
       "    <tr>\n",
       "      <th>1</th>\n",
       "      <td>0</td>\n",
       "      <td>5809912</td>\n",
       "      <td>231</td>\n",
       "      <td>5809912</td>\n",
       "      <td>1602943681873052386</td>\n",
       "      <td>nan</td>\n",
       "      <td>grattol</td>\n",
       "      <td>5.24</td>\n",
       "    </tr>\n",
       "    <tr>\n",
       "      <th>2</th>\n",
       "      <td>1</td>\n",
       "      <td>5751383</td>\n",
       "      <td>175</td>\n",
       "      <td>5751383</td>\n",
       "      <td>1487580005092295511</td>\n",
       "      <td>nan</td>\n",
       "      <td>uno</td>\n",
       "      <td>10.32</td>\n",
       "    </tr>\n",
       "    <tr>\n",
       "      <th>3</th>\n",
       "      <td>1</td>\n",
       "      <td>5751422</td>\n",
       "      <td>175</td>\n",
       "      <td>5751422</td>\n",
       "      <td>1487580005268456287</td>\n",
       "      <td>nan</td>\n",
       "      <td>uno</td>\n",
       "      <td>10.95</td>\n",
       "    </tr>\n",
       "    <tr>\n",
       "      <th>4</th>\n",
       "      <td>2</td>\n",
       "      <td>5809910</td>\n",
       "      <td>161</td>\n",
       "      <td>5809910</td>\n",
       "      <td>1602943681873052386</td>\n",
       "      <td>nan</td>\n",
       "      <td>grattol</td>\n",
       "      <td>5.24</td>\n",
       "    </tr>\n",
       "    <tr>\n",
       "      <th>5</th>\n",
       "      <td>2</td>\n",
       "      <td>5809911</td>\n",
       "      <td>161</td>\n",
       "      <td>5809911</td>\n",
       "      <td>1602943681873052386</td>\n",
       "      <td>nan</td>\n",
       "      <td>grattol</td>\n",
       "      <td>5.24</td>\n",
       "    </tr>\n",
       "    <tr>\n",
       "      <th>6</th>\n",
       "      <td>3</td>\n",
       "      <td>5814516</td>\n",
       "      <td>148</td>\n",
       "      <td>5814516</td>\n",
       "      <td>1487580013539623112</td>\n",
       "      <td>nan</td>\n",
       "      <td>nan</td>\n",
       "      <td>13.49</td>\n",
       "    </tr>\n",
       "    <tr>\n",
       "      <th>7</th>\n",
       "      <td>3</td>\n",
       "      <td>5814517</td>\n",
       "      <td>148</td>\n",
       "      <td>5814517</td>\n",
       "      <td>1487580013539623112</td>\n",
       "      <td>nan</td>\n",
       "      <td>nan</td>\n",
       "      <td>12.54</td>\n",
       "    </tr>\n",
       "    <tr>\n",
       "      <th>8</th>\n",
       "      <td>4</td>\n",
       "      <td>5697463</td>\n",
       "      <td>129</td>\n",
       "      <td>5697463</td>\n",
       "      <td>1783999067156644376</td>\n",
       "      <td>nan</td>\n",
       "      <td>estel</td>\n",
       "      <td>12.14</td>\n",
       "    </tr>\n",
       "    <tr>\n",
       "      <th>9</th>\n",
       "      <td>4</td>\n",
       "      <td>5677043</td>\n",
       "      <td>129</td>\n",
       "      <td>5677043</td>\n",
       "      <td>1487580008246412266</td>\n",
       "      <td>nan</td>\n",
       "      <td>estel</td>\n",
       "      <td>13.33</td>\n",
       "    </tr>\n",
       "    <tr>\n",
       "      <th>10</th>\n",
       "      <td>5</td>\n",
       "      <td>5819894</td>\n",
       "      <td>113</td>\n",
       "      <td>5819894</td>\n",
       "      <td>1783999067156644376</td>\n",
       "      <td>nan</td>\n",
       "      <td>kapous</td>\n",
       "      <td>4.92</td>\n",
       "    </tr>\n",
       "    <tr>\n",
       "      <th>11</th>\n",
       "      <td>5</td>\n",
       "      <td>5823667</td>\n",
       "      <td>113</td>\n",
       "      <td>5823667</td>\n",
       "      <td>1487580008246412266</td>\n",
       "      <td>nan</td>\n",
       "      <td>kapous</td>\n",
       "      <td>4.98</td>\n",
       "    </tr>\n",
       "    <tr>\n",
       "      <th>12</th>\n",
       "      <td>6</td>\n",
       "      <td>5849033</td>\n",
       "      <td>93</td>\n",
       "      <td>5849033</td>\n",
       "      <td>1487580005092295511</td>\n",
       "      <td>nan</td>\n",
       "      <td>uno</td>\n",
       "      <td>10.32</td>\n",
       "    </tr>\n",
       "    <tr>\n",
       "      <th>13</th>\n",
       "      <td>6</td>\n",
       "      <td>5751422</td>\n",
       "      <td>93</td>\n",
       "      <td>5751422</td>\n",
       "      <td>1487580005268456287</td>\n",
       "      <td>nan</td>\n",
       "      <td>uno</td>\n",
       "      <td>10.95</td>\n",
       "    </tr>\n",
       "    <tr>\n",
       "      <th>14</th>\n",
       "      <td>7</td>\n",
       "      <td>5809910</td>\n",
       "      <td>90</td>\n",
       "      <td>5809910</td>\n",
       "      <td>1602943681873052386</td>\n",
       "      <td>nan</td>\n",
       "      <td>grattol</td>\n",
       "      <td>5.24</td>\n",
       "    </tr>\n",
       "    <tr>\n",
       "      <th>15</th>\n",
       "      <td>7</td>\n",
       "      <td>5816170</td>\n",
       "      <td>90</td>\n",
       "      <td>5816170</td>\n",
       "      <td>1602943681873052386</td>\n",
       "      <td>nan</td>\n",
       "      <td>grattol</td>\n",
       "      <td>5.24</td>\n",
       "    </tr>\n",
       "    <tr>\n",
       "      <th>16</th>\n",
       "      <td>8</td>\n",
       "      <td>3762</td>\n",
       "      <td>88</td>\n",
       "      <td>3762</td>\n",
       "      <td>1487580005411062629</td>\n",
       "      <td>nan</td>\n",
       "      <td>cnd</td>\n",
       "      <td>19.37</td>\n",
       "    </tr>\n",
       "    <tr>\n",
       "      <th>17</th>\n",
       "      <td>8</td>\n",
       "      <td>4185</td>\n",
       "      <td>88</td>\n",
       "      <td>4185</td>\n",
       "      <td>1487580005411062629</td>\n",
       "      <td>nan</td>\n",
       "      <td>cnd</td>\n",
       "      <td>19.37</td>\n",
       "    </tr>\n",
       "    <tr>\n",
       "      <th>18</th>\n",
       "      <td>9</td>\n",
       "      <td>5528035</td>\n",
       "      <td>84</td>\n",
       "      <td>5528035</td>\n",
       "      <td>1487580005553668971</td>\n",
       "      <td>nan</td>\n",
       "      <td>nan</td>\n",
       "      <td>9.52</td>\n",
       "    </tr>\n",
       "    <tr>\n",
       "      <th>19</th>\n",
       "      <td>9</td>\n",
       "      <td>5528034</td>\n",
       "      <td>84</td>\n",
       "      <td>5528034</td>\n",
       "      <td>1487580005553668971</td>\n",
       "      <td>nan</td>\n",
       "      <td>nan</td>\n",
       "      <td>9.52</td>\n",
       "    </tr>\n",
       "    <tr>\n",
       "      <th>20</th>\n",
       "      <td>10</td>\n",
       "      <td>5739055</td>\n",
       "      <td>81</td>\n",
       "      <td>5739055</td>\n",
       "      <td>1487580008246412266</td>\n",
       "      <td>nan</td>\n",
       "      <td>kapous</td>\n",
       "      <td>4.75</td>\n",
       "    </tr>\n",
       "    <tr>\n",
       "      <th>21</th>\n",
       "      <td>10</td>\n",
       "      <td>5739056</td>\n",
       "      <td>81</td>\n",
       "      <td>5739056</td>\n",
       "      <td>1783999067156644376</td>\n",
       "      <td>nan</td>\n",
       "      <td>kapous</td>\n",
       "      <td>6.27</td>\n",
       "    </tr>\n",
       "    <tr>\n",
       "      <th>22</th>\n",
       "      <td>11</td>\n",
       "      <td>5809912</td>\n",
       "      <td>76</td>\n",
       "      <td>5809912</td>\n",
       "      <td>1602943681873052386</td>\n",
       "      <td>nan</td>\n",
       "      <td>grattol</td>\n",
       "      <td>5.24</td>\n",
       "    </tr>\n",
       "    <tr>\n",
       "      <th>23</th>\n",
       "      <td>11</td>\n",
       "      <td>5809911</td>\n",
       "      <td>76</td>\n",
       "      <td>5809911</td>\n",
       "      <td>1602943681873052386</td>\n",
       "      <td>nan</td>\n",
       "      <td>grattol</td>\n",
       "      <td>5.24</td>\n",
       "    </tr>\n",
       "  </tbody>\n",
       "</table>\n",
       "</div>"
      ],
      "text/plain": [
       "    rules_index antecedent&consequent  sup_ant&cons product_id  \\\n",
       "0             0               5809910           231    5809910   \n",
       "1             0               5809912           231    5809912   \n",
       "2             1               5751383           175    5751383   \n",
       "3             1               5751422           175    5751422   \n",
       "4             2               5809910           161    5809910   \n",
       "5             2               5809911           161    5809911   \n",
       "6             3               5814516           148    5814516   \n",
       "7             3               5814517           148    5814517   \n",
       "8             4               5697463           129    5697463   \n",
       "9             4               5677043           129    5677043   \n",
       "10            5               5819894           113    5819894   \n",
       "11            5               5823667           113    5823667   \n",
       "12            6               5849033            93    5849033   \n",
       "13            6               5751422            93    5751422   \n",
       "14            7               5809910            90    5809910   \n",
       "15            7               5816170            90    5816170   \n",
       "16            8                  3762            88       3762   \n",
       "17            8                  4185            88       4185   \n",
       "18            9               5528035            84    5528035   \n",
       "19            9               5528034            84    5528034   \n",
       "20           10               5739055            81    5739055   \n",
       "21           10               5739056            81    5739056   \n",
       "22           11               5809912            76    5809912   \n",
       "23           11               5809911            76    5809911   \n",
       "\n",
       "            category_id category_code    brand  price  \n",
       "0   1602943681873052386           nan  grattol   5.24  \n",
       "1   1602943681873052386           nan  grattol   5.24  \n",
       "2   1487580005092295511           nan      uno  10.32  \n",
       "3   1487580005268456287           nan      uno  10.95  \n",
       "4   1602943681873052386           nan  grattol   5.24  \n",
       "5   1602943681873052386           nan  grattol   5.24  \n",
       "6   1487580013539623112           nan      nan  13.49  \n",
       "7   1487580013539623112           nan      nan  12.54  \n",
       "8   1783999067156644376           nan    estel  12.14  \n",
       "9   1487580008246412266           nan    estel  13.33  \n",
       "10  1783999067156644376           nan   kapous   4.92  \n",
       "11  1487580008246412266           nan   kapous   4.98  \n",
       "12  1487580005092295511           nan      uno  10.32  \n",
       "13  1487580005268456287           nan      uno  10.95  \n",
       "14  1602943681873052386           nan  grattol   5.24  \n",
       "15  1602943681873052386           nan  grattol   5.24  \n",
       "16  1487580005411062629           nan      cnd  19.37  \n",
       "17  1487580005411062629           nan      cnd  19.37  \n",
       "18  1487580005553668971           nan      nan   9.52  \n",
       "19  1487580005553668971           nan      nan   9.52  \n",
       "20  1487580008246412266           nan   kapous   4.75  \n",
       "21  1783999067156644376           nan   kapous   6.27  \n",
       "22  1602943681873052386           nan  grattol   5.24  \n",
       "23  1602943681873052386           nan  grattol   5.24  "
      ]
     },
     "execution_count": 19,
     "metadata": {},
     "output_type": "execute_result"
    }
   ],
   "source": [
    "rules_exploded = rules.explode(\"antecedent&consequent\")[[\"antecedent&consequent\",\"sup_ant&cons\"]]\n",
    "rules_exploded.insert(0,\"rules_index\",rules_exploded.index)\n",
    "\n",
    "\n",
    "rules_labeled = pd.merge(rules_exploded,unique_items, how='inner', left_on = 'antecedent&consequent', right_on = 'product_id').sort_values(\"rules_index\").reset_index(drop=True)\n",
    "\n",
    "\n",
    "rules_labeled.to_excel(\"rules_labeled.xlsx\",index=False)\n",
    "\n",
    "rules_labeled\n"
   ]
  },
  {
   "cell_type": "markdown",
   "metadata": {},
   "source": [
    "#### 3.2 Profit based Association Rules (No limitations on transaction length)"
   ]
  },
  {
   "cell_type": "code",
   "execution_count": 31,
   "metadata": {},
   "outputs": [
    {
     "data": {
      "text/html": [
       "<div>\n",
       "<style scoped>\n",
       "    .dataframe tbody tr th:only-of-type {\n",
       "        vertical-align: middle;\n",
       "    }\n",
       "\n",
       "    .dataframe tbody tr th {\n",
       "        vertical-align: top;\n",
       "    }\n",
       "\n",
       "    .dataframe thead th {\n",
       "        text-align: right;\n",
       "    }\n",
       "</style>\n",
       "<table border=\"1\" class=\"dataframe\">\n",
       "  <thead>\n",
       "    <tr style=\"text-align: right;\">\n",
       "      <th></th>\n",
       "      <th>antecedent</th>\n",
       "      <th>sup_antecedent</th>\n",
       "      <th>consequent</th>\n",
       "      <th>sup_consequent</th>\n",
       "      <th>antecedent&amp;consequent</th>\n",
       "      <th>sup_ant&amp;cons</th>\n",
       "      <th>sup_perc_ant&amp;cons</th>\n",
       "      <th>confidence</th>\n",
       "      <th>lift</th>\n",
       "      <th>improvement</th>\n",
       "      <th>profit_associated</th>\n",
       "      <th>perc_of_total_profit</th>\n",
       "      <th>profit_associated_prev</th>\n",
       "      <th>net_change</th>\n",
       "      <th>profit_last_item</th>\n",
       "      <th>loss_by_change</th>\n",
       "    </tr>\n",
       "  </thead>\n",
       "  <tbody>\n",
       "    <tr>\n",
       "      <th>0</th>\n",
       "      <td>[]</td>\n",
       "      <td>NA</td>\n",
       "      <td>[5560754]</td>\n",
       "      <td>187</td>\n",
       "      <td>[5560754]</td>\n",
       "      <td>187</td>\n",
       "      <td>0.002886</td>\n",
       "      <td>NA</td>\n",
       "      <td>NA</td>\n",
       "      <td>NA</td>\n",
       "      <td>36261.00</td>\n",
       "      <td>0.023414</td>\n",
       "      <td>0</td>\n",
       "      <td>0</td>\n",
       "      <td>36261.00</td>\n",
       "      <td>0</td>\n",
       "    </tr>\n",
       "    <tr>\n",
       "      <th>1</th>\n",
       "      <td>[]</td>\n",
       "      <td>NA</td>\n",
       "      <td>[89343]</td>\n",
       "      <td>47</td>\n",
       "      <td>[89343]</td>\n",
       "      <td>47</td>\n",
       "      <td>0.000725</td>\n",
       "      <td>NA</td>\n",
       "      <td>NA</td>\n",
       "      <td>NA</td>\n",
       "      <td>14327.88</td>\n",
       "      <td>0.009252</td>\n",
       "      <td>0</td>\n",
       "      <td>0</td>\n",
       "      <td>14327.88</td>\n",
       "      <td>0</td>\n",
       "    </tr>\n",
       "    <tr>\n",
       "      <th>2</th>\n",
       "      <td>[]</td>\n",
       "      <td>NA</td>\n",
       "      <td>[5877454]</td>\n",
       "      <td>315</td>\n",
       "      <td>[5877454]</td>\n",
       "      <td>315</td>\n",
       "      <td>0.004861</td>\n",
       "      <td>NA</td>\n",
       "      <td>NA</td>\n",
       "      <td>NA</td>\n",
       "      <td>13877.76</td>\n",
       "      <td>0.008961</td>\n",
       "      <td>0</td>\n",
       "      <td>0</td>\n",
       "      <td>13877.76</td>\n",
       "      <td>0</td>\n",
       "    </tr>\n",
       "    <tr>\n",
       "      <th>3</th>\n",
       "      <td>[]</td>\n",
       "      <td>NA</td>\n",
       "      <td>[5850281]</td>\n",
       "      <td>90</td>\n",
       "      <td>[5850281]</td>\n",
       "      <td>90</td>\n",
       "      <td>0.001389</td>\n",
       "      <td>NA</td>\n",
       "      <td>NA</td>\n",
       "      <td>NA</td>\n",
       "      <td>12593.00</td>\n",
       "      <td>0.008132</td>\n",
       "      <td>0</td>\n",
       "      <td>0</td>\n",
       "      <td>12593.00</td>\n",
       "      <td>0</td>\n",
       "    </tr>\n",
       "    <tr>\n",
       "      <th>4</th>\n",
       "      <td>[]</td>\n",
       "      <td>NA</td>\n",
       "      <td>[5692527]</td>\n",
       "      <td>256</td>\n",
       "      <td>[5692527]</td>\n",
       "      <td>256</td>\n",
       "      <td>0.003950</td>\n",
       "      <td>NA</td>\n",
       "      <td>NA</td>\n",
       "      <td>NA</td>\n",
       "      <td>11785.57</td>\n",
       "      <td>0.007610</td>\n",
       "      <td>0</td>\n",
       "      <td>0</td>\n",
       "      <td>11785.57</td>\n",
       "      <td>0</td>\n",
       "    </tr>\n",
       "    <tr>\n",
       "      <th>5</th>\n",
       "      <td>[]</td>\n",
       "      <td>NA</td>\n",
       "      <td>[5856186]</td>\n",
       "      <td>150</td>\n",
       "      <td>[5856186]</td>\n",
       "      <td>150</td>\n",
       "      <td>0.002315</td>\n",
       "      <td>NA</td>\n",
       "      <td>NA</td>\n",
       "      <td>NA</td>\n",
       "      <td>11239.06</td>\n",
       "      <td>0.007257</td>\n",
       "      <td>0</td>\n",
       "      <td>0</td>\n",
       "      <td>11239.06</td>\n",
       "      <td>0</td>\n",
       "    </tr>\n",
       "    <tr>\n",
       "      <th>6</th>\n",
       "      <td>[]</td>\n",
       "      <td>NA</td>\n",
       "      <td>[5846437]</td>\n",
       "      <td>248</td>\n",
       "      <td>[5846437]</td>\n",
       "      <td>248</td>\n",
       "      <td>0.003827</td>\n",
       "      <td>NA</td>\n",
       "      <td>NA</td>\n",
       "      <td>NA</td>\n",
       "      <td>11234.78</td>\n",
       "      <td>0.007255</td>\n",
       "      <td>0</td>\n",
       "      <td>0</td>\n",
       "      <td>11234.78</td>\n",
       "      <td>0</td>\n",
       "    </tr>\n",
       "    <tr>\n",
       "      <th>7</th>\n",
       "      <td>[]</td>\n",
       "      <td>NA</td>\n",
       "      <td>[5560756]</td>\n",
       "      <td>50</td>\n",
       "      <td>[5560756]</td>\n",
       "      <td>50</td>\n",
       "      <td>0.000772</td>\n",
       "      <td>NA</td>\n",
       "      <td>NA</td>\n",
       "      <td>NA</td>\n",
       "      <td>10573.74</td>\n",
       "      <td>0.006828</td>\n",
       "      <td>0</td>\n",
       "      <td>0</td>\n",
       "      <td>10573.74</td>\n",
       "      <td>0</td>\n",
       "    </tr>\n",
       "    <tr>\n",
       "      <th>8</th>\n",
       "      <td>[]</td>\n",
       "      <td>NA</td>\n",
       "      <td>[5855507]</td>\n",
       "      <td>125</td>\n",
       "      <td>[5855507]</td>\n",
       "      <td>125</td>\n",
       "      <td>0.001929</td>\n",
       "      <td>NA</td>\n",
       "      <td>NA</td>\n",
       "      <td>NA</td>\n",
       "      <td>9980.46</td>\n",
       "      <td>0.006445</td>\n",
       "      <td>0</td>\n",
       "      <td>0</td>\n",
       "      <td>9980.46</td>\n",
       "      <td>0</td>\n",
       "    </tr>\n",
       "    <tr>\n",
       "      <th>9</th>\n",
       "      <td>[]</td>\n",
       "      <td>NA</td>\n",
       "      <td>[5804820]</td>\n",
       "      <td>138</td>\n",
       "      <td>[5804820]</td>\n",
       "      <td>138</td>\n",
       "      <td>0.002129</td>\n",
       "      <td>NA</td>\n",
       "      <td>NA</td>\n",
       "      <td>NA</td>\n",
       "      <td>8757.90</td>\n",
       "      <td>0.005655</td>\n",
       "      <td>0</td>\n",
       "      <td>0</td>\n",
       "      <td>8757.90</td>\n",
       "      <td>0</td>\n",
       "    </tr>\n",
       "    <tr>\n",
       "      <th>10</th>\n",
       "      <td>[]</td>\n",
       "      <td>NA</td>\n",
       "      <td>[5809910]</td>\n",
       "      <td>1642</td>\n",
       "      <td>[5809910]</td>\n",
       "      <td>1642</td>\n",
       "      <td>0.025338</td>\n",
       "      <td>NA</td>\n",
       "      <td>NA</td>\n",
       "      <td>NA</td>\n",
       "      <td>8558.51</td>\n",
       "      <td>0.005526</td>\n",
       "      <td>0</td>\n",
       "      <td>0</td>\n",
       "      <td>8558.51</td>\n",
       "      <td>0</td>\n",
       "    </tr>\n",
       "    <tr>\n",
       "      <th>11</th>\n",
       "      <td>[]</td>\n",
       "      <td>NA</td>\n",
       "      <td>[5861760]</td>\n",
       "      <td>116</td>\n",
       "      <td>[5861760]</td>\n",
       "      <td>116</td>\n",
       "      <td>0.001790</td>\n",
       "      <td>NA</td>\n",
       "      <td>NA</td>\n",
       "      <td>NA</td>\n",
       "      <td>8343.03</td>\n",
       "      <td>0.005387</td>\n",
       "      <td>0</td>\n",
       "      <td>0</td>\n",
       "      <td>8343.03</td>\n",
       "      <td>0</td>\n",
       "    </tr>\n",
       "  </tbody>\n",
       "</table>\n",
       "</div>"
      ],
      "text/plain": [
       "   antecedent sup_antecedent consequent  sup_consequent antecedent&consequent  \\\n",
       "0          []             NA  [5560754]             187             [5560754]   \n",
       "1          []             NA    [89343]              47               [89343]   \n",
       "2          []             NA  [5877454]             315             [5877454]   \n",
       "3          []             NA  [5850281]              90             [5850281]   \n",
       "4          []             NA  [5692527]             256             [5692527]   \n",
       "5          []             NA  [5856186]             150             [5856186]   \n",
       "6          []             NA  [5846437]             248             [5846437]   \n",
       "7          []             NA  [5560756]              50             [5560756]   \n",
       "8          []             NA  [5855507]             125             [5855507]   \n",
       "9          []             NA  [5804820]             138             [5804820]   \n",
       "10         []             NA  [5809910]            1642             [5809910]   \n",
       "11         []             NA  [5861760]             116             [5861760]   \n",
       "\n",
       "    sup_ant&cons  sup_perc_ant&cons confidence lift improvement  \\\n",
       "0            187           0.002886         NA   NA          NA   \n",
       "1             47           0.000725         NA   NA          NA   \n",
       "2            315           0.004861         NA   NA          NA   \n",
       "3             90           0.001389         NA   NA          NA   \n",
       "4            256           0.003950         NA   NA          NA   \n",
       "5            150           0.002315         NA   NA          NA   \n",
       "6            248           0.003827         NA   NA          NA   \n",
       "7             50           0.000772         NA   NA          NA   \n",
       "8            125           0.001929         NA   NA          NA   \n",
       "9            138           0.002129         NA   NA          NA   \n",
       "10          1642           0.025338         NA   NA          NA   \n",
       "11           116           0.001790         NA   NA          NA   \n",
       "\n",
       "    profit_associated  perc_of_total_profit  profit_associated_prev  \\\n",
       "0            36261.00              0.023414                       0   \n",
       "1            14327.88              0.009252                       0   \n",
       "2            13877.76              0.008961                       0   \n",
       "3            12593.00              0.008132                       0   \n",
       "4            11785.57              0.007610                       0   \n",
       "5            11239.06              0.007257                       0   \n",
       "6            11234.78              0.007255                       0   \n",
       "7            10573.74              0.006828                       0   \n",
       "8             9980.46              0.006445                       0   \n",
       "9             8757.90              0.005655                       0   \n",
       "10            8558.51              0.005526                       0   \n",
       "11            8343.03              0.005387                       0   \n",
       "\n",
       "    net_change  profit_last_item  loss_by_change  \n",
       "0            0          36261.00               0  \n",
       "1            0          14327.88               0  \n",
       "2            0          13877.76               0  \n",
       "3            0          12593.00               0  \n",
       "4            0          11785.57               0  \n",
       "5            0          11239.06               0  \n",
       "6            0          11234.78               0  \n",
       "7            0          10573.74               0  \n",
       "8            0           9980.46               0  \n",
       "9            0           8757.90               0  \n",
       "10           0           8558.51               0  \n",
       "11           0           8343.03               0  "
      ]
     },
     "execution_count": 31,
     "metadata": {},
     "output_type": "execute_result"
    }
   ],
   "source": [
    "import modified_fp_growth_algorithm.modified_fp_growth_latest as mod_fp_growth\n",
    "\n",
    "#For better trackingI take price instead of profit as profit, because tracking ius easier and at moment I anyway just multiply by 0.1 for profit\n",
    "# We see how \"super efficient it is, only 6.8 seconds for 13k rules inclduing writing to Excel\"\n",
    "\n",
    "data = data[data[\"product_id\"].apply(len)<5]\n",
    "\n",
    "rules = mod_fp_growth.fpgrowthFromDataFrame(\\\n",
    "    data,\n",
    "    minSupRatio=0.005,\n",
    "    maxSupRatio=1,\n",
    "    minConf=0,\n",
    "    item_col=1,\n",
    "    profit_col=3,\n",
    "    max_profit = max_profit,\n",
    "    profit_sensitivity = lambda x : 1 * x\n",
    "    )\n",
    "    \n",
    "rules.to_excel(\"fp_groth_out.xlsx\",index=False) \n",
    "rules\n"
   ]
  },
  {
   "cell_type": "code",
   "execution_count": 22,
   "metadata": {},
   "outputs": [
    {
     "data": {
      "text/html": [
       "<div>\n",
       "<style scoped>\n",
       "    .dataframe tbody tr th:only-of-type {\n",
       "        vertical-align: middle;\n",
       "    }\n",
       "\n",
       "    .dataframe tbody tr th {\n",
       "        vertical-align: top;\n",
       "    }\n",
       "\n",
       "    .dataframe thead th {\n",
       "        text-align: right;\n",
       "    }\n",
       "</style>\n",
       "<table border=\"1\" class=\"dataframe\">\n",
       "  <thead>\n",
       "    <tr style=\"text-align: right;\">\n",
       "      <th></th>\n",
       "      <th>antecedent&amp;consequent</th>\n",
       "      <th>sup_ant&amp;cons</th>\n",
       "      <th>product_id</th>\n",
       "      <th>category_id</th>\n",
       "      <th>category_code</th>\n",
       "      <th>brand</th>\n",
       "      <th>price</th>\n",
       "    </tr>\n",
       "  </thead>\n",
       "  <tbody>\n",
       "    <tr>\n",
       "      <th>0</th>\n",
       "      <td>5560754</td>\n",
       "      <td>187</td>\n",
       "      <td>5560754</td>\n",
       "      <td>1487580006300255120</td>\n",
       "      <td>nan</td>\n",
       "      <td>strong</td>\n",
       "      <td>194.44</td>\n",
       "    </tr>\n",
       "    <tr>\n",
       "      <th>1</th>\n",
       "      <td>89343</td>\n",
       "      <td>47</td>\n",
       "      <td>89343</td>\n",
       "      <td>2193074740619379535</td>\n",
       "      <td>furniture.living_room.cabinet</td>\n",
       "      <td>nan</td>\n",
       "      <td>299.81</td>\n",
       "    </tr>\n",
       "    <tr>\n",
       "      <th>2</th>\n",
       "      <td>5877454</td>\n",
       "      <td>315</td>\n",
       "      <td>5877454</td>\n",
       "      <td>1487580006300255120</td>\n",
       "      <td>nan</td>\n",
       "      <td>jessnail</td>\n",
       "      <td>44.29</td>\n",
       "    </tr>\n",
       "    <tr>\n",
       "      <th>3</th>\n",
       "      <td>5850281</td>\n",
       "      <td>90</td>\n",
       "      <td>5850281</td>\n",
       "      <td>1487580006300255120</td>\n",
       "      <td>nan</td>\n",
       "      <td>marathon</td>\n",
       "      <td>137.78</td>\n",
       "    </tr>\n",
       "    <tr>\n",
       "      <th>4</th>\n",
       "      <td>5692527</td>\n",
       "      <td>256</td>\n",
       "      <td>5692527</td>\n",
       "      <td>1487580014009385185</td>\n",
       "      <td>nan</td>\n",
       "      <td>nan</td>\n",
       "      <td>46.02</td>\n",
       "    </tr>\n",
       "    <tr>\n",
       "      <th>5</th>\n",
       "      <td>5856186</td>\n",
       "      <td>150</td>\n",
       "      <td>5856186</td>\n",
       "      <td>1487580006300255120</td>\n",
       "      <td>nan</td>\n",
       "      <td>runail</td>\n",
       "      <td>75.4</td>\n",
       "    </tr>\n",
       "    <tr>\n",
       "      <th>6</th>\n",
       "      <td>5846437</td>\n",
       "      <td>248</td>\n",
       "      <td>5846437</td>\n",
       "      <td>1487580013950664926</td>\n",
       "      <td>nan</td>\n",
       "      <td>browxenna</td>\n",
       "      <td>45.24</td>\n",
       "    </tr>\n",
       "    <tr>\n",
       "      <th>7</th>\n",
       "      <td>5560756</td>\n",
       "      <td>50</td>\n",
       "      <td>5560756</td>\n",
       "      <td>1487580006300255120</td>\n",
       "      <td>nan</td>\n",
       "      <td>strong</td>\n",
       "      <td>207.94</td>\n",
       "    </tr>\n",
       "    <tr>\n",
       "      <th>8</th>\n",
       "      <td>5855507</td>\n",
       "      <td>125</td>\n",
       "      <td>5855507</td>\n",
       "      <td>1487580006350586771</td>\n",
       "      <td>appliances.environment.vacuum</td>\n",
       "      <td>max</td>\n",
       "      <td>79.21</td>\n",
       "    </tr>\n",
       "    <tr>\n",
       "      <th>9</th>\n",
       "      <td>5804820</td>\n",
       "      <td>138</td>\n",
       "      <td>5804820</td>\n",
       "      <td>1487580013950664926</td>\n",
       "      <td>nan</td>\n",
       "      <td>nan</td>\n",
       "      <td>63.33</td>\n",
       "    </tr>\n",
       "    <tr>\n",
       "      <th>10</th>\n",
       "      <td>5809910</td>\n",
       "      <td>1642</td>\n",
       "      <td>5809910</td>\n",
       "      <td>1602943681873052386</td>\n",
       "      <td>nan</td>\n",
       "      <td>grattol</td>\n",
       "      <td>5.24</td>\n",
       "    </tr>\n",
       "    <tr>\n",
       "      <th>11</th>\n",
       "      <td>5861760</td>\n",
       "      <td>116</td>\n",
       "      <td>5861760</td>\n",
       "      <td>1487580006350586771</td>\n",
       "      <td>appliances.environment.vacuum</td>\n",
       "      <td>emil</td>\n",
       "      <td>71.43</td>\n",
       "    </tr>\n",
       "  </tbody>\n",
       "</table>\n",
       "</div>"
      ],
      "text/plain": [
       "   antecedent&consequent  sup_ant&cons product_id          category_id  \\\n",
       "0                5560754           187    5560754  1487580006300255120   \n",
       "1                  89343            47      89343  2193074740619379535   \n",
       "2                5877454           315    5877454  1487580006300255120   \n",
       "3                5850281            90    5850281  1487580006300255120   \n",
       "4                5692527           256    5692527  1487580014009385185   \n",
       "5                5856186           150    5856186  1487580006300255120   \n",
       "6                5846437           248    5846437  1487580013950664926   \n",
       "7                5560756            50    5560756  1487580006300255120   \n",
       "8                5855507           125    5855507  1487580006350586771   \n",
       "9                5804820           138    5804820  1487580013950664926   \n",
       "10               5809910          1642    5809910  1602943681873052386   \n",
       "11               5861760           116    5861760  1487580006350586771   \n",
       "\n",
       "                    category_code      brand   price  \n",
       "0                             nan     strong  194.44  \n",
       "1   furniture.living_room.cabinet        nan  299.81  \n",
       "2                             nan   jessnail   44.29  \n",
       "3                             nan   marathon  137.78  \n",
       "4                             nan        nan   46.02  \n",
       "5                             nan     runail    75.4  \n",
       "6                             nan  browxenna   45.24  \n",
       "7                             nan     strong  207.94  \n",
       "8   appliances.environment.vacuum        max   79.21  \n",
       "9                             nan        nan   63.33  \n",
       "10                            nan    grattol    5.24  \n",
       "11  appliances.environment.vacuum       emil   71.43  "
      ]
     },
     "execution_count": 22,
     "metadata": {},
     "output_type": "execute_result"
    }
   ],
   "source": [
    "rules_exploded = rules.explode(\"antecedent&consequent\")[[\"antecedent&consequent\",\"sup_ant&cons\"]]\n",
    "rules_exploded.insert(0,\"rules_index\",rules_exploded.index)\n",
    "\n",
    "\n",
    "rules_labeled = pd.merge(rules_exploded,unique_items, how='inner', left_on = 'antecedent&consequent', right_on = 'product_id').sort_values(\"rules_index\").reset_index(drop=True)\n",
    "\n",
    "\n",
    "rules_labeled.to_excel(\"rules_labeled.xlsx\",index=False)\n",
    "\n",
    "rules_labeled = rules_labeled.drop('rules_index', axis=1)\n",
    "rules_labeled\n"
   ]
  },
  {
   "cell_type": "markdown",
   "metadata": {},
   "source": [
    "#### 3.2 Profit based Association Rules (Limitations on transaction length as at least 2)"
   ]
  },
  {
   "cell_type": "code",
   "execution_count": 32,
   "metadata": {},
   "outputs": [
    {
     "data": {
      "text/html": [
       "<div>\n",
       "<style scoped>\n",
       "    .dataframe tbody tr th:only-of-type {\n",
       "        vertical-align: middle;\n",
       "    }\n",
       "\n",
       "    .dataframe tbody tr th {\n",
       "        vertical-align: top;\n",
       "    }\n",
       "\n",
       "    .dataframe thead th {\n",
       "        text-align: right;\n",
       "    }\n",
       "</style>\n",
       "<table border=\"1\" class=\"dataframe\">\n",
       "  <thead>\n",
       "    <tr style=\"text-align: right;\">\n",
       "      <th></th>\n",
       "      <th>antecedent</th>\n",
       "      <th>sup_antecedent</th>\n",
       "      <th>consequent</th>\n",
       "      <th>sup_consequent</th>\n",
       "      <th>antecedent&amp;consequent</th>\n",
       "      <th>sup_ant&amp;cons</th>\n",
       "      <th>sup_perc_ant&amp;cons</th>\n",
       "      <th>confidence</th>\n",
       "      <th>lift</th>\n",
       "      <th>improvement</th>\n",
       "      <th>profit_associated</th>\n",
       "      <th>perc_of_total_profit</th>\n",
       "      <th>profit_associated_prev</th>\n",
       "      <th>net_change</th>\n",
       "      <th>profit_last_item</th>\n",
       "      <th>loss_by_change</th>\n",
       "    </tr>\n",
       "  </thead>\n",
       "  <tbody>\n",
       "    <tr>\n",
       "      <th>0</th>\n",
       "      <td>[5814516]</td>\n",
       "      <td>183</td>\n",
       "      <td>[5814517]</td>\n",
       "      <td>170</td>\n",
       "      <td>[5814516, 5814517]</td>\n",
       "      <td>148</td>\n",
       "      <td>0.002284</td>\n",
       "      <td>0.808743</td>\n",
       "      <td>308.292896</td>\n",
       "      <td>0.806120</td>\n",
       "      <td>3833.911456</td>\n",
       "      <td>0.002476</td>\n",
       "      <td>2457.87</td>\n",
       "      <td>1376.041456</td>\n",
       "      <td>1846.125882</td>\n",
       "      <td>-470.084426</td>\n",
       "    </tr>\n",
       "    <tr>\n",
       "      <th>1</th>\n",
       "      <td>[5751422]</td>\n",
       "      <td>596</td>\n",
       "      <td>[5751383]</td>\n",
       "      <td>595</td>\n",
       "      <td>[5751383, 5751422]</td>\n",
       "      <td>175</td>\n",
       "      <td>0.002700</td>\n",
       "      <td>0.293624</td>\n",
       "      <td>31.979866</td>\n",
       "      <td>0.284443</td>\n",
       "      <td>3720.919621</td>\n",
       "      <td>0.002403</td>\n",
       "      <td>6552.00</td>\n",
       "      <td>-2831.080379</td>\n",
       "      <td>1797.094118</td>\n",
       "      <td>-4628.174497</td>\n",
       "    </tr>\n",
       "    <tr>\n",
       "      <th>2</th>\n",
       "      <td>[4185]</td>\n",
       "      <td>228</td>\n",
       "      <td>[3762]</td>\n",
       "      <td>147</td>\n",
       "      <td>[3762, 4185]</td>\n",
       "      <td>88</td>\n",
       "      <td>0.001358</td>\n",
       "      <td>0.385965</td>\n",
       "      <td>170.150137</td>\n",
       "      <td>0.383697</td>\n",
       "      <td>3394.591572</td>\n",
       "      <td>0.002192</td>\n",
       "      <td>4402.79</td>\n",
       "      <td>-1008.198428</td>\n",
       "      <td>1695.269116</td>\n",
       "      <td>-2703.467544</td>\n",
       "    </tr>\n",
       "    <tr>\n",
       "      <th>3</th>\n",
       "      <td>[5677043]</td>\n",
       "      <td>447</td>\n",
       "      <td>[5697463]</td>\n",
       "      <td>196</td>\n",
       "      <td>[5697463, 5677043]</td>\n",
       "      <td>129</td>\n",
       "      <td>0.001991</td>\n",
       "      <td>0.288591</td>\n",
       "      <td>95.417477</td>\n",
       "      <td>0.285566</td>\n",
       "      <td>3277.924543</td>\n",
       "      <td>0.002117</td>\n",
       "      <td>5928.48</td>\n",
       "      <td>-2650.555457</td>\n",
       "      <td>1567.020918</td>\n",
       "      <td>-4217.576376</td>\n",
       "    </tr>\n",
       "    <tr>\n",
       "      <th>4</th>\n",
       "      <td>[5809910]</td>\n",
       "      <td>1642</td>\n",
       "      <td>[5809912]</td>\n",
       "      <td>466</td>\n",
       "      <td>[5809910, 5809912]</td>\n",
       "      <td>231</td>\n",
       "      <td>0.003565</td>\n",
       "      <td>0.140682</td>\n",
       "      <td>19.563868</td>\n",
       "      <td>0.133491</td>\n",
       "      <td>2404.782980</td>\n",
       "      <td>0.001553</td>\n",
       "      <td>8558.51</td>\n",
       "      <td>-6153.727020</td>\n",
       "      <td>1200.753863</td>\n",
       "      <td>-7354.480883</td>\n",
       "    </tr>\n",
       "    <tr>\n",
       "      <th>5</th>\n",
       "      <td>[5846437]</td>\n",
       "      <td>248</td>\n",
       "      <td>[5846436]</td>\n",
       "      <td>39</td>\n",
       "      <td>[5846436, 5846437]</td>\n",
       "      <td>22</td>\n",
       "      <td>0.000339</td>\n",
       "      <td>0.088710</td>\n",
       "      <td>147.403639</td>\n",
       "      <td>0.088108</td>\n",
       "      <td>1985.764992</td>\n",
       "      <td>0.001282</td>\n",
       "      <td>11234.78</td>\n",
       "      <td>-9249.015008</td>\n",
       "      <td>989.131282</td>\n",
       "      <td>-10238.146290</td>\n",
       "    </tr>\n",
       "    <tr>\n",
       "      <th>6</th>\n",
       "      <td>[5751422]</td>\n",
       "      <td>596</td>\n",
       "      <td>[5849033]</td>\n",
       "      <td>465</td>\n",
       "      <td>[5849033, 5751422]</td>\n",
       "      <td>93</td>\n",
       "      <td>0.001435</td>\n",
       "      <td>0.156040</td>\n",
       "      <td>21.746309</td>\n",
       "      <td>0.148865</td>\n",
       "      <td>1973.919839</td>\n",
       "      <td>0.001275</td>\n",
       "      <td>6552.00</td>\n",
       "      <td>-4578.080161</td>\n",
       "      <td>951.544000</td>\n",
       "      <td>-5529.624161</td>\n",
       "    </tr>\n",
       "    <tr>\n",
       "      <th>7</th>\n",
       "      <td>[5809910]</td>\n",
       "      <td>1642</td>\n",
       "      <td>[5809911]</td>\n",
       "      <td>270</td>\n",
       "      <td>[5809910, 5809911]</td>\n",
       "      <td>161</td>\n",
       "      <td>0.002484</td>\n",
       "      <td>0.098051</td>\n",
       "      <td>23.533730</td>\n",
       "      <td>0.093885</td>\n",
       "      <td>1678.601957</td>\n",
       "      <td>0.001084</td>\n",
       "      <td>8558.51</td>\n",
       "      <td>-6879.908043</td>\n",
       "      <td>839.430148</td>\n",
       "      <td>-7719.338191</td>\n",
       "    </tr>\n",
       "    <tr>\n",
       "      <th>8</th>\n",
       "      <td>[5528035]</td>\n",
       "      <td>493</td>\n",
       "      <td>[5528034]</td>\n",
       "      <td>205</td>\n",
       "      <td>[5528035, 5528034]</td>\n",
       "      <td>84</td>\n",
       "      <td>0.001296</td>\n",
       "      <td>0.170385</td>\n",
       "      <td>53.861733</td>\n",
       "      <td>0.167222</td>\n",
       "      <td>1589.509588</td>\n",
       "      <td>0.001026</td>\n",
       "      <td>4648.63</td>\n",
       "      <td>-3059.120412</td>\n",
       "      <td>797.450927</td>\n",
       "      <td>-3856.571339</td>\n",
       "    </tr>\n",
       "    <tr>\n",
       "      <th>9</th>\n",
       "      <td>[5823970]</td>\n",
       "      <td>125</td>\n",
       "      <td>[5820270]</td>\n",
       "      <td>114</td>\n",
       "      <td>[5823970, 5820270]</td>\n",
       "      <td>26</td>\n",
       "      <td>0.000401</td>\n",
       "      <td>0.208000</td>\n",
       "      <td>118.238877</td>\n",
       "      <td>0.206241</td>\n",
       "      <td>1391.193331</td>\n",
       "      <td>0.000898</td>\n",
       "      <td>3348.89</td>\n",
       "      <td>-1957.696669</td>\n",
       "      <td>694.624211</td>\n",
       "      <td>-2652.320880</td>\n",
       "    </tr>\n",
       "    <tr>\n",
       "      <th>10</th>\n",
       "      <td>[4185]</td>\n",
       "      <td>228</td>\n",
       "      <td>[5614842]</td>\n",
       "      <td>93</td>\n",
       "      <td>[5614842, 4185]</td>\n",
       "      <td>34</td>\n",
       "      <td>0.000525</td>\n",
       "      <td>0.149123</td>\n",
       "      <td>103.911337</td>\n",
       "      <td>0.147688</td>\n",
       "      <td>1215.984360</td>\n",
       "      <td>0.000785</td>\n",
       "      <td>4402.79</td>\n",
       "      <td>-3186.805640</td>\n",
       "      <td>559.427957</td>\n",
       "      <td>-3746.233596</td>\n",
       "    </tr>\n",
       "    <tr>\n",
       "      <th>11</th>\n",
       "      <td>[5810480]</td>\n",
       "      <td>174</td>\n",
       "      <td>[5810479]</td>\n",
       "      <td>68</td>\n",
       "      <td>[5810479, 5810480]</td>\n",
       "      <td>27</td>\n",
       "      <td>0.000417</td>\n",
       "      <td>0.155172</td>\n",
       "      <td>147.879310</td>\n",
       "      <td>0.154123</td>\n",
       "      <td>1202.902485</td>\n",
       "      <td>0.000777</td>\n",
       "      <td>3925.42</td>\n",
       "      <td>-2722.517515</td>\n",
       "      <td>593.785588</td>\n",
       "      <td>-3316.303103</td>\n",
       "    </tr>\n",
       "  </tbody>\n",
       "</table>\n",
       "</div>"
      ],
      "text/plain": [
       "   antecedent  sup_antecedent consequent  sup_consequent  \\\n",
       "0   [5814516]             183  [5814517]             170   \n",
       "1   [5751422]             596  [5751383]             595   \n",
       "2      [4185]             228     [3762]             147   \n",
       "3   [5677043]             447  [5697463]             196   \n",
       "4   [5809910]            1642  [5809912]             466   \n",
       "5   [5846437]             248  [5846436]              39   \n",
       "6   [5751422]             596  [5849033]             465   \n",
       "7   [5809910]            1642  [5809911]             270   \n",
       "8   [5528035]             493  [5528034]             205   \n",
       "9   [5823970]             125  [5820270]             114   \n",
       "10     [4185]             228  [5614842]              93   \n",
       "11  [5810480]             174  [5810479]              68   \n",
       "\n",
       "   antecedent&consequent  sup_ant&cons  sup_perc_ant&cons  confidence  \\\n",
       "0     [5814516, 5814517]           148           0.002284    0.808743   \n",
       "1     [5751383, 5751422]           175           0.002700    0.293624   \n",
       "2           [3762, 4185]            88           0.001358    0.385965   \n",
       "3     [5697463, 5677043]           129           0.001991    0.288591   \n",
       "4     [5809910, 5809912]           231           0.003565    0.140682   \n",
       "5     [5846436, 5846437]            22           0.000339    0.088710   \n",
       "6     [5849033, 5751422]            93           0.001435    0.156040   \n",
       "7     [5809910, 5809911]           161           0.002484    0.098051   \n",
       "8     [5528035, 5528034]            84           0.001296    0.170385   \n",
       "9     [5823970, 5820270]            26           0.000401    0.208000   \n",
       "10       [5614842, 4185]            34           0.000525    0.149123   \n",
       "11    [5810479, 5810480]            27           0.000417    0.155172   \n",
       "\n",
       "          lift  improvement  profit_associated  perc_of_total_profit  \\\n",
       "0   308.292896     0.806120        3833.911456              0.002476   \n",
       "1    31.979866     0.284443        3720.919621              0.002403   \n",
       "2   170.150137     0.383697        3394.591572              0.002192   \n",
       "3    95.417477     0.285566        3277.924543              0.002117   \n",
       "4    19.563868     0.133491        2404.782980              0.001553   \n",
       "5   147.403639     0.088108        1985.764992              0.001282   \n",
       "6    21.746309     0.148865        1973.919839              0.001275   \n",
       "7    23.533730     0.093885        1678.601957              0.001084   \n",
       "8    53.861733     0.167222        1589.509588              0.001026   \n",
       "9   118.238877     0.206241        1391.193331              0.000898   \n",
       "10  103.911337     0.147688        1215.984360              0.000785   \n",
       "11  147.879310     0.154123        1202.902485              0.000777   \n",
       "\n",
       "    profit_associated_prev   net_change  profit_last_item  loss_by_change  \n",
       "0                  2457.87  1376.041456       1846.125882     -470.084426  \n",
       "1                  6552.00 -2831.080379       1797.094118    -4628.174497  \n",
       "2                  4402.79 -1008.198428       1695.269116    -2703.467544  \n",
       "3                  5928.48 -2650.555457       1567.020918    -4217.576376  \n",
       "4                  8558.51 -6153.727020       1200.753863    -7354.480883  \n",
       "5                 11234.78 -9249.015008        989.131282   -10238.146290  \n",
       "6                  6552.00 -4578.080161        951.544000    -5529.624161  \n",
       "7                  8558.51 -6879.908043        839.430148    -7719.338191  \n",
       "8                  4648.63 -3059.120412        797.450927    -3856.571339  \n",
       "9                  3348.89 -1957.696669        694.624211    -2652.320880  \n",
       "10                 4402.79 -3186.805640        559.427957    -3746.233596  \n",
       "11                 3925.42 -2722.517515        593.785588    -3316.303103  "
      ]
     },
     "execution_count": 32,
     "metadata": {},
     "output_type": "execute_result"
    }
   ],
   "source": [
    "import modified_fp_growth_algorithm.modified_fp_growth_latest as mod_fp_growth\n",
    "\n",
    "#For better trackingI take price instead of profit as profit, because tracking ius easier and at moment I anyway just multiply by 0.1 for profit\n",
    "# We see how \"super efficient it is, only 6.8 seconds for 13k rules inclduing writing to Excel\"\n",
    "\n",
    "data = data[data[\"product_id\"].apply(len)<5]\n",
    "\n",
    "rules = mod_fp_growth.fpgrowthFromDataFrame(\\\n",
    "    data,\n",
    "    minSupRatio=0.0007,\n",
    "    maxSupRatio=1,\n",
    "    minTransactionLength=2,\n",
    "    maxTransactionLength=10,\n",
    "    minConf=0,\n",
    "    item_col=1,\n",
    "    profit_col=3,\n",
    "    max_profit = max_profit,\n",
    "    profit_sensitivity = lambda x : 1 * x\n",
    "    )\n",
    "    \n",
    "rules.to_excel(\"fp_groth_out.xlsx\",index=False) \n",
    "rules"
   ]
  },
  {
   "cell_type": "code",
   "execution_count": 33,
   "metadata": {},
   "outputs": [
    {
     "data": {
      "text/html": [
       "<div>\n",
       "<style scoped>\n",
       "    .dataframe tbody tr th:only-of-type {\n",
       "        vertical-align: middle;\n",
       "    }\n",
       "\n",
       "    .dataframe tbody tr th {\n",
       "        vertical-align: top;\n",
       "    }\n",
       "\n",
       "    .dataframe thead th {\n",
       "        text-align: right;\n",
       "    }\n",
       "</style>\n",
       "<table border=\"1\" class=\"dataframe\">\n",
       "  <thead>\n",
       "    <tr style=\"text-align: right;\">\n",
       "      <th></th>\n",
       "      <th>rules_index</th>\n",
       "      <th>antecedent&amp;consequent</th>\n",
       "      <th>sup_ant&amp;cons</th>\n",
       "      <th>profit_associated</th>\n",
       "      <th>perc_of_total_profit</th>\n",
       "      <th>product_id</th>\n",
       "      <th>category_id</th>\n",
       "      <th>category_code</th>\n",
       "      <th>brand</th>\n",
       "      <th>price</th>\n",
       "    </tr>\n",
       "  </thead>\n",
       "  <tbody>\n",
       "    <tr>\n",
       "      <th>0</th>\n",
       "      <td>0</td>\n",
       "      <td>5814516</td>\n",
       "      <td>148</td>\n",
       "      <td>3833</td>\n",
       "      <td>0.002476</td>\n",
       "      <td>5814516</td>\n",
       "      <td>1487580013539623112</td>\n",
       "      <td>nan</td>\n",
       "      <td>nan</td>\n",
       "      <td>13.49</td>\n",
       "    </tr>\n",
       "    <tr>\n",
       "      <th>1</th>\n",
       "      <td>0</td>\n",
       "      <td>5814517</td>\n",
       "      <td>148</td>\n",
       "      <td>3833</td>\n",
       "      <td>0.002476</td>\n",
       "      <td>5814517</td>\n",
       "      <td>1487580013539623112</td>\n",
       "      <td>nan</td>\n",
       "      <td>nan</td>\n",
       "      <td>12.54</td>\n",
       "    </tr>\n",
       "    <tr>\n",
       "      <th>2</th>\n",
       "      <td>1</td>\n",
       "      <td>5751383</td>\n",
       "      <td>175</td>\n",
       "      <td>3720</td>\n",
       "      <td>0.002403</td>\n",
       "      <td>5751383</td>\n",
       "      <td>1487580005092295511</td>\n",
       "      <td>nan</td>\n",
       "      <td>uno</td>\n",
       "      <td>10.32</td>\n",
       "    </tr>\n",
       "    <tr>\n",
       "      <th>3</th>\n",
       "      <td>1</td>\n",
       "      <td>5751422</td>\n",
       "      <td>175</td>\n",
       "      <td>3720</td>\n",
       "      <td>0.002403</td>\n",
       "      <td>5751422</td>\n",
       "      <td>1487580005268456287</td>\n",
       "      <td>nan</td>\n",
       "      <td>uno</td>\n",
       "      <td>10.95</td>\n",
       "    </tr>\n",
       "    <tr>\n",
       "      <th>4</th>\n",
       "      <td>2</td>\n",
       "      <td>3762</td>\n",
       "      <td>88</td>\n",
       "      <td>3394</td>\n",
       "      <td>0.002192</td>\n",
       "      <td>3762</td>\n",
       "      <td>1487580005411062629</td>\n",
       "      <td>nan</td>\n",
       "      <td>cnd</td>\n",
       "      <td>19.37</td>\n",
       "    </tr>\n",
       "    <tr>\n",
       "      <th>5</th>\n",
       "      <td>2</td>\n",
       "      <td>4185</td>\n",
       "      <td>88</td>\n",
       "      <td>3394</td>\n",
       "      <td>0.002192</td>\n",
       "      <td>4185</td>\n",
       "      <td>1487580005411062629</td>\n",
       "      <td>nan</td>\n",
       "      <td>cnd</td>\n",
       "      <td>19.37</td>\n",
       "    </tr>\n",
       "    <tr>\n",
       "      <th>6</th>\n",
       "      <td>3</td>\n",
       "      <td>5697463</td>\n",
       "      <td>129</td>\n",
       "      <td>3277</td>\n",
       "      <td>0.002117</td>\n",
       "      <td>5697463</td>\n",
       "      <td>1783999067156644376</td>\n",
       "      <td>nan</td>\n",
       "      <td>estel</td>\n",
       "      <td>12.14</td>\n",
       "    </tr>\n",
       "    <tr>\n",
       "      <th>7</th>\n",
       "      <td>3</td>\n",
       "      <td>5677043</td>\n",
       "      <td>129</td>\n",
       "      <td>3277</td>\n",
       "      <td>0.002117</td>\n",
       "      <td>5677043</td>\n",
       "      <td>1487580008246412266</td>\n",
       "      <td>nan</td>\n",
       "      <td>estel</td>\n",
       "      <td>13.33</td>\n",
       "    </tr>\n",
       "    <tr>\n",
       "      <th>8</th>\n",
       "      <td>4</td>\n",
       "      <td>5809910</td>\n",
       "      <td>231</td>\n",
       "      <td>2404</td>\n",
       "      <td>0.001553</td>\n",
       "      <td>5809910</td>\n",
       "      <td>1602943681873052386</td>\n",
       "      <td>nan</td>\n",
       "      <td>grattol</td>\n",
       "      <td>5.24</td>\n",
       "    </tr>\n",
       "    <tr>\n",
       "      <th>9</th>\n",
       "      <td>4</td>\n",
       "      <td>5809912</td>\n",
       "      <td>231</td>\n",
       "      <td>2404</td>\n",
       "      <td>0.001553</td>\n",
       "      <td>5809912</td>\n",
       "      <td>1602943681873052386</td>\n",
       "      <td>nan</td>\n",
       "      <td>grattol</td>\n",
       "      <td>5.24</td>\n",
       "    </tr>\n",
       "    <tr>\n",
       "      <th>10</th>\n",
       "      <td>5</td>\n",
       "      <td>5846436</td>\n",
       "      <td>22</td>\n",
       "      <td>1985</td>\n",
       "      <td>0.001282</td>\n",
       "      <td>5846436</td>\n",
       "      <td>1487580013950664926</td>\n",
       "      <td>nan</td>\n",
       "      <td>browxenna</td>\n",
       "      <td>45.24</td>\n",
       "    </tr>\n",
       "    <tr>\n",
       "      <th>11</th>\n",
       "      <td>5</td>\n",
       "      <td>5846437</td>\n",
       "      <td>22</td>\n",
       "      <td>1985</td>\n",
       "      <td>0.001282</td>\n",
       "      <td>5846437</td>\n",
       "      <td>1487580013950664926</td>\n",
       "      <td>nan</td>\n",
       "      <td>browxenna</td>\n",
       "      <td>45.24</td>\n",
       "    </tr>\n",
       "    <tr>\n",
       "      <th>12</th>\n",
       "      <td>6</td>\n",
       "      <td>5751422</td>\n",
       "      <td>93</td>\n",
       "      <td>1973</td>\n",
       "      <td>0.001275</td>\n",
       "      <td>5751422</td>\n",
       "      <td>1487580005268456287</td>\n",
       "      <td>nan</td>\n",
       "      <td>uno</td>\n",
       "      <td>10.95</td>\n",
       "    </tr>\n",
       "    <tr>\n",
       "      <th>13</th>\n",
       "      <td>6</td>\n",
       "      <td>5849033</td>\n",
       "      <td>93</td>\n",
       "      <td>1973</td>\n",
       "      <td>0.001275</td>\n",
       "      <td>5849033</td>\n",
       "      <td>1487580005092295511</td>\n",
       "      <td>nan</td>\n",
       "      <td>uno</td>\n",
       "      <td>10.32</td>\n",
       "    </tr>\n",
       "    <tr>\n",
       "      <th>14</th>\n",
       "      <td>7</td>\n",
       "      <td>5809911</td>\n",
       "      <td>161</td>\n",
       "      <td>1678</td>\n",
       "      <td>0.001084</td>\n",
       "      <td>5809911</td>\n",
       "      <td>1602943681873052386</td>\n",
       "      <td>nan</td>\n",
       "      <td>grattol</td>\n",
       "      <td>5.24</td>\n",
       "    </tr>\n",
       "    <tr>\n",
       "      <th>15</th>\n",
       "      <td>7</td>\n",
       "      <td>5809910</td>\n",
       "      <td>161</td>\n",
       "      <td>1678</td>\n",
       "      <td>0.001084</td>\n",
       "      <td>5809910</td>\n",
       "      <td>1602943681873052386</td>\n",
       "      <td>nan</td>\n",
       "      <td>grattol</td>\n",
       "      <td>5.24</td>\n",
       "    </tr>\n",
       "  </tbody>\n",
       "</table>\n",
       "</div>"
      ],
      "text/plain": [
       "    rules_index antecedent&consequent  sup_ant&cons  profit_associated  \\\n",
       "0             0               5814516           148               3833   \n",
       "1             0               5814517           148               3833   \n",
       "2             1               5751383           175               3720   \n",
       "3             1               5751422           175               3720   \n",
       "4             2                  3762            88               3394   \n",
       "5             2                  4185            88               3394   \n",
       "6             3               5697463           129               3277   \n",
       "7             3               5677043           129               3277   \n",
       "8             4               5809910           231               2404   \n",
       "9             4               5809912           231               2404   \n",
       "10            5               5846436            22               1985   \n",
       "11            5               5846437            22               1985   \n",
       "12            6               5751422            93               1973   \n",
       "13            6               5849033            93               1973   \n",
       "14            7               5809911           161               1678   \n",
       "15            7               5809910           161               1678   \n",
       "\n",
       "    perc_of_total_profit product_id          category_id category_code  \\\n",
       "0               0.002476    5814516  1487580013539623112           nan   \n",
       "1               0.002476    5814517  1487580013539623112           nan   \n",
       "2               0.002403    5751383  1487580005092295511           nan   \n",
       "3               0.002403    5751422  1487580005268456287           nan   \n",
       "4               0.002192       3762  1487580005411062629           nan   \n",
       "5               0.002192       4185  1487580005411062629           nan   \n",
       "6               0.002117    5697463  1783999067156644376           nan   \n",
       "7               0.002117    5677043  1487580008246412266           nan   \n",
       "8               0.001553    5809910  1602943681873052386           nan   \n",
       "9               0.001553    5809912  1602943681873052386           nan   \n",
       "10              0.001282    5846436  1487580013950664926           nan   \n",
       "11              0.001282    5846437  1487580013950664926           nan   \n",
       "12              0.001275    5751422  1487580005268456287           nan   \n",
       "13              0.001275    5849033  1487580005092295511           nan   \n",
       "14              0.001084    5809911  1602943681873052386           nan   \n",
       "15              0.001084    5809910  1602943681873052386           nan   \n",
       "\n",
       "        brand  price  \n",
       "0         nan  13.49  \n",
       "1         nan  12.54  \n",
       "2         uno  10.32  \n",
       "3         uno  10.95  \n",
       "4         cnd  19.37  \n",
       "5         cnd  19.37  \n",
       "6       estel  12.14  \n",
       "7       estel  13.33  \n",
       "8     grattol   5.24  \n",
       "9     grattol   5.24  \n",
       "10  browxenna  45.24  \n",
       "11  browxenna  45.24  \n",
       "12        uno  10.95  \n",
       "13        uno  10.32  \n",
       "14    grattol   5.24  \n",
       "15    grattol   5.24  "
      ]
     },
     "execution_count": 33,
     "metadata": {},
     "output_type": "execute_result"
    }
   ],
   "source": [
    "# A minSupRatio of 0.007 means, in case of profitability, that it represents 0.007 of total revenues rspectively profit. We made the profit fo each product equal.\n",
    "# Let's oberserve what kind of items we have found.\n",
    "\n",
    "\n",
    "rules_exploded = rules.explode(\"antecedent&consequent\")[[\"antecedent&consequent\",\"sup_ant&cons\",\"profit_associated\",\"perc_of_total_profit\"]]\n",
    "rules_exploded.insert(0,\"rules_index\",rules_exploded.index)\n",
    "\n",
    "rules_labeled =pd.merge(rules_exploded,unique_items, how=\"inner\", left_on=\"antecedent&consequent\",right_on=\"product_id\").sort_values(\"rules_index\").reset_index(drop=True)\n",
    "\n",
    "rules_labeled.to_excel(\"rules_labeled.xlsx\",index=False)\n",
    "\n",
    "rules_labeled[\"profit_associated\"] = rules_labeled[\"profit_associated\"].astype(int)\n",
    "\n",
    "rules_labeled.drop(\"category_code\",axis=1)\n",
    "\n",
    "rules_labeled.head(16)"
   ]
  },
  {
   "cell_type": "markdown",
   "metadata": {},
   "source": [
    "#### 3.3 Sensitivity Analysis"
   ]
  },
  {
   "cell_type": "markdown",
   "metadata": {},
   "source": []
  },
  {
   "cell_type": "code",
   "execution_count": null,
   "metadata": {},
   "outputs": [
    {
     "ename": "NameError",
     "evalue": "name 'df_data_simple_withprofit' is not defined",
     "output_type": "error",
     "traceback": [
      "\u001b[1;31m---------------------------------------------------------------------------\u001b[0m",
      "\u001b[1;31mNameError\u001b[0m                                 Traceback (most recent call last)",
      "\u001b[1;32m~\\AppData\\Local\\Temp/ipykernel_21224/51854518.py\u001b[0m in \u001b[0;36m<module>\u001b[1;34m\u001b[0m\n\u001b[0;32m      3\u001b[0m \u001b[1;33m\u001b[0m\u001b[0m\n\u001b[0;32m      4\u001b[0m rules = mod_fp_growth.fpgrowthFromDataFrame(\\\n\u001b[1;32m----> 5\u001b[1;33m     \u001b[0mdf_data_simple_withprofit\u001b[0m\u001b[1;33m,\u001b[0m\u001b[1;33m\u001b[0m\u001b[1;33m\u001b[0m\u001b[0m\n\u001b[0m\u001b[0;32m      6\u001b[0m     \u001b[0mminSupRatio\u001b[0m\u001b[1;33m=\u001b[0m\u001b[1;36m0.03\u001b[0m\u001b[1;33m,\u001b[0m\u001b[1;33m\u001b[0m\u001b[1;33m\u001b[0m\u001b[0m\n\u001b[0;32m      7\u001b[0m     \u001b[0mmaxSupRatio\u001b[0m\u001b[1;33m=\u001b[0m\u001b[1;36m1\u001b[0m\u001b[1;33m,\u001b[0m\u001b[1;33m\u001b[0m\u001b[1;33m\u001b[0m\u001b[0m\n",
      "\u001b[1;31mNameError\u001b[0m: name 'df_data_simple_withprofit' is not defined"
     ]
    }
   ],
   "source": [
    "import math\n",
    "import datetime\n",
    "\n",
    "rules = mod_fp_growth.fpgrowthFromDataFrame(\\\n",
    "    df_data_simple_withprofit,\n",
    "    minSupRatio=0.03,\n",
    "    maxSupRatio=1,\n",
    "    minConf=0,\n",
    "    item_col=1,\n",
    "    profit_col=2,\n",
    "    max_profit = 100,\n",
    "    profit_sensitivity = lambda x : 1 * x\n",
    "    ) #Only Date\n",
    "\n",
    "rules\n"
   ]
  },
  {
   "cell_type": "code",
   "execution_count": null,
   "metadata": {},
   "outputs": [],
   "source": []
  }
 ],
 "metadata": {
  "kernelspec": {
   "display_name": "Python 3.9.13 ('base')",
   "language": "python",
   "name": "python3"
  },
  "language_info": {
   "codemirror_mode": {
    "name": "ipython",
    "version": 3
   },
   "file_extension": ".py",
   "mimetype": "text/x-python",
   "name": "python",
   "nbconvert_exporter": "python",
   "pygments_lexer": "ipython3",
   "version": "3.9.13"
  },
  "orig_nbformat": 4,
  "vscode": {
   "interpreter": {
    "hash": "ad2bdc8ecc057115af97d19610ffacc2b4e99fae6737bb82f5d7fb13d2f2c186"
   }
  }
 },
 "nbformat": 4,
 "nbformat_minor": 2
}
