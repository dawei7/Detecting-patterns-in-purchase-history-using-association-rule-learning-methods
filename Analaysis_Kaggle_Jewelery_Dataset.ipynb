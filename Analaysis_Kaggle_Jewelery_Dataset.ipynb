{
 "cells": [
  {
   "cell_type": "markdown",
   "metadata": {},
   "source": [
    "## Association Rules - Old vs. New Algorithm"
   ]
  },
  {
   "cell_type": "markdown",
   "metadata": {},
   "source": [
    "### Dataset: eCommerce_purchase_history_from_jewelry_store"
   ]
  },
  {
   "cell_type": "markdown",
   "metadata": {},
   "source": [
    "#### 1 Investigating Dataset"
   ]
  },
  {
   "cell_type": "markdown",
   "metadata": {},
   "source": [
    "#### 1.1 Description\n",
    "Kaggle Dataset: https://www.kaggle.com/datasets/mkechinov/ecommerce-purchase-history-from-jewelry-store <br>\n",
    "The Dataset is Open-Source <br>\n",
    "It contains purchase data from December 2018 to December 2021 (3 years) from a medium sized jewelry online store.<br>"
   ]
  },
  {
   "cell_type": "code",
   "execution_count": 10,
   "metadata": {},
   "outputs": [],
   "source": [
    "import os\n",
    "import pandas as pd\n",
    "import glob"
   ]
  },
  {
   "cell_type": "code",
   "execution_count": 18,
   "metadata": {},
   "outputs": [
    {
     "data": {
      "text/html": [
       "<div>\n",
       "<style scoped>\n",
       "    .dataframe tbody tr th:only-of-type {\n",
       "        vertical-align: middle;\n",
       "    }\n",
       "\n",
       "    .dataframe tbody tr th {\n",
       "        vertical-align: top;\n",
       "    }\n",
       "\n",
       "    .dataframe thead th {\n",
       "        text-align: right;\n",
       "    }\n",
       "</style>\n",
       "<table border=\"1\" class=\"dataframe\">\n",
       "  <thead>\n",
       "    <tr style=\"text-align: right;\">\n",
       "      <th></th>\n",
       "      <th>event_time</th>\n",
       "      <th>order_id</th>\n",
       "      <th>product_id</th>\n",
       "      <th>quantity</th>\n",
       "      <th>category_id</th>\n",
       "      <th>category_code</th>\n",
       "      <th>brand</th>\n",
       "      <th>price</th>\n",
       "      <th>user_id</th>\n",
       "      <th>gender</th>\n",
       "      <th>colo</th>\n",
       "      <th>metal</th>\n",
       "      <th>gem</th>\n",
       "    </tr>\n",
       "  </thead>\n",
       "  <tbody>\n",
       "    <tr>\n",
       "      <th>0</th>\n",
       "      <td>2018-12-01 11:40:29 UTC</td>\n",
       "      <td>1924719191579951782</td>\n",
       "      <td>1842195256808833386</td>\n",
       "      <td>1</td>\n",
       "      <td>1.806829e+18</td>\n",
       "      <td>jewelry.earring</td>\n",
       "      <td>0.000000e+00</td>\n",
       "      <td>561.51</td>\n",
       "      <td>1.515916e+18</td>\n",
       "      <td>NaN</td>\n",
       "      <td>red</td>\n",
       "      <td>gold</td>\n",
       "      <td>diamond</td>\n",
       "    </tr>\n",
       "    <tr>\n",
       "      <th>1</th>\n",
       "      <td>2018-12-01 17:38:31 UTC</td>\n",
       "      <td>1924899396621697920</td>\n",
       "      <td>1806829193678291446</td>\n",
       "      <td>1</td>\n",
       "      <td>1.806829e+18</td>\n",
       "      <td>NaN</td>\n",
       "      <td>NaN</td>\n",
       "      <td>212.14</td>\n",
       "      <td>1.515916e+18</td>\n",
       "      <td>NaN</td>\n",
       "      <td>yellow</td>\n",
       "      <td>gold</td>\n",
       "      <td>NaN</td>\n",
       "    </tr>\n",
       "    <tr>\n",
       "      <th>2</th>\n",
       "      <td>2018-12-02 13:53:42 UTC</td>\n",
       "      <td>1925511016616034733</td>\n",
       "      <td>1842214461889315556</td>\n",
       "      <td>1</td>\n",
       "      <td>1.806829e+18</td>\n",
       "      <td>jewelry.pendant</td>\n",
       "      <td>1.000000e+00</td>\n",
       "      <td>54.66</td>\n",
       "      <td>1.515916e+18</td>\n",
       "      <td>f</td>\n",
       "      <td>white</td>\n",
       "      <td>gold</td>\n",
       "      <td>sapphire</td>\n",
       "    </tr>\n",
       "    <tr>\n",
       "      <th>3</th>\n",
       "      <td>2018-12-02 17:44:02 UTC</td>\n",
       "      <td>1925626951238681511</td>\n",
       "      <td>1835566849434059453</td>\n",
       "      <td>1</td>\n",
       "      <td>1.806829e+18</td>\n",
       "      <td>jewelry.pendant</td>\n",
       "      <td>0.000000e+00</td>\n",
       "      <td>88.90</td>\n",
       "      <td>1.515916e+18</td>\n",
       "      <td>f</td>\n",
       "      <td>red</td>\n",
       "      <td>gold</td>\n",
       "      <td>diamond</td>\n",
       "    </tr>\n",
       "    <tr>\n",
       "      <th>4</th>\n",
       "      <td>2018-12-02 21:30:19 UTC</td>\n",
       "      <td>1925740842841014667</td>\n",
       "      <td>1873936840742928865</td>\n",
       "      <td>1</td>\n",
       "      <td>1.806829e+18</td>\n",
       "      <td>jewelry.necklace</td>\n",
       "      <td>0.000000e+00</td>\n",
       "      <td>417.67</td>\n",
       "      <td>1.515916e+18</td>\n",
       "      <td>NaN</td>\n",
       "      <td>red</td>\n",
       "      <td>gold</td>\n",
       "      <td>amethyst</td>\n",
       "    </tr>\n",
       "    <tr>\n",
       "      <th>...</th>\n",
       "      <td>...</td>\n",
       "      <td>...</td>\n",
       "      <td>...</td>\n",
       "      <td>...</td>\n",
       "      <td>...</td>\n",
       "      <td>...</td>\n",
       "      <td>...</td>\n",
       "      <td>...</td>\n",
       "      <td>...</td>\n",
       "      <td>...</td>\n",
       "      <td>...</td>\n",
       "      <td>...</td>\n",
       "      <td>...</td>\n",
       "    </tr>\n",
       "    <tr>\n",
       "      <th>95906</th>\n",
       "      <td>2021-12-01 09:47:37 UTC</td>\n",
       "      <td>2719016587653808559</td>\n",
       "      <td>1515966223597820877</td>\n",
       "      <td>1</td>\n",
       "      <td>NaN</td>\n",
       "      <td>0.00</td>\n",
       "      <td>1.515916e+18</td>\n",
       "      <td>NaN</td>\n",
       "      <td>NaN</td>\n",
       "      <td>NaN</td>\n",
       "      <td>NaN</td>\n",
       "      <td>NaN</td>\n",
       "      <td>NaN</td>\n",
       "    </tr>\n",
       "    <tr>\n",
       "      <th>95907</th>\n",
       "      <td>2021-12-01 09:50:37 UTC</td>\n",
       "      <td>2719018098886705639</td>\n",
       "      <td>1956663830729720074</td>\n",
       "      <td>1</td>\n",
       "      <td>1.806829e+18</td>\n",
       "      <td>NaN</td>\n",
       "      <td>0.000000e+00</td>\n",
       "      <td>229.99</td>\n",
       "      <td>1.515916e+18</td>\n",
       "      <td>NaN</td>\n",
       "      <td>red</td>\n",
       "      <td>gold</td>\n",
       "      <td>NaN</td>\n",
       "    </tr>\n",
       "    <tr>\n",
       "      <th>95908</th>\n",
       "      <td>2021-12-01 09:52:06 UTC</td>\n",
       "      <td>2719018846999544322</td>\n",
       "      <td>1956663848219968336</td>\n",
       "      <td>1</td>\n",
       "      <td>1.806829e+18</td>\n",
       "      <td>jewelry.earring</td>\n",
       "      <td>1.000000e+00</td>\n",
       "      <td>630.00</td>\n",
       "      <td>1.515916e+18</td>\n",
       "      <td>f</td>\n",
       "      <td>white</td>\n",
       "      <td>gold</td>\n",
       "      <td>diamond</td>\n",
       "    </tr>\n",
       "    <tr>\n",
       "      <th>95909</th>\n",
       "      <td>2021-12-01 09:55:35 UTC</td>\n",
       "      <td>2719020596963836492</td>\n",
       "      <td>1835566854106513435</td>\n",
       "      <td>1</td>\n",
       "      <td>1.806829e+18</td>\n",
       "      <td>jewelry.earring</td>\n",
       "      <td>0.000000e+00</td>\n",
       "      <td>83.42</td>\n",
       "      <td>1.515916e+18</td>\n",
       "      <td>NaN</td>\n",
       "      <td>white</td>\n",
       "      <td>gold</td>\n",
       "      <td>fianit</td>\n",
       "    </tr>\n",
       "    <tr>\n",
       "      <th>95910</th>\n",
       "      <td>2021-12-01 09:59:07 UTC</td>\n",
       "      <td>2719022379232658075</td>\n",
       "      <td>1956663846156370429</td>\n",
       "      <td>1</td>\n",
       "      <td>1.806829e+18</td>\n",
       "      <td>jewelry.pendant</td>\n",
       "      <td>1.000000e+00</td>\n",
       "      <td>97.12</td>\n",
       "      <td>1.515916e+18</td>\n",
       "      <td>NaN</td>\n",
       "      <td>red</td>\n",
       "      <td>gold</td>\n",
       "      <td>NaN</td>\n",
       "    </tr>\n",
       "  </tbody>\n",
       "</table>\n",
       "<p>95911 rows × 13 columns</p>\n",
       "</div>"
      ],
      "text/plain": [
       "                    event_time             order_id           product_id  \\\n",
       "0      2018-12-01 11:40:29 UTC  1924719191579951782  1842195256808833386   \n",
       "1      2018-12-01 17:38:31 UTC  1924899396621697920  1806829193678291446   \n",
       "2      2018-12-02 13:53:42 UTC  1925511016616034733  1842214461889315556   \n",
       "3      2018-12-02 17:44:02 UTC  1925626951238681511  1835566849434059453   \n",
       "4      2018-12-02 21:30:19 UTC  1925740842841014667  1873936840742928865   \n",
       "...                        ...                  ...                  ...   \n",
       "95906  2021-12-01 09:47:37 UTC  2719016587653808559  1515966223597820877   \n",
       "95907  2021-12-01 09:50:37 UTC  2719018098886705639  1956663830729720074   \n",
       "95908  2021-12-01 09:52:06 UTC  2719018846999544322  1956663848219968336   \n",
       "95909  2021-12-01 09:55:35 UTC  2719020596963836492  1835566854106513435   \n",
       "95910  2021-12-01 09:59:07 UTC  2719022379232658075  1956663846156370429   \n",
       "\n",
       "       quantity   category_id     category_code         brand   price  \\\n",
       "0             1  1.806829e+18   jewelry.earring  0.000000e+00  561.51   \n",
       "1             1  1.806829e+18               NaN           NaN  212.14   \n",
       "2             1  1.806829e+18   jewelry.pendant  1.000000e+00   54.66   \n",
       "3             1  1.806829e+18   jewelry.pendant  0.000000e+00   88.90   \n",
       "4             1  1.806829e+18  jewelry.necklace  0.000000e+00  417.67   \n",
       "...         ...           ...               ...           ...     ...   \n",
       "95906         1           NaN              0.00  1.515916e+18     NaN   \n",
       "95907         1  1.806829e+18               NaN  0.000000e+00  229.99   \n",
       "95908         1  1.806829e+18   jewelry.earring  1.000000e+00  630.00   \n",
       "95909         1  1.806829e+18   jewelry.earring  0.000000e+00   83.42   \n",
       "95910         1  1.806829e+18   jewelry.pendant  1.000000e+00   97.12   \n",
       "\n",
       "            user_id gender    colo metal       gem  \n",
       "0      1.515916e+18    NaN     red  gold   diamond  \n",
       "1      1.515916e+18    NaN  yellow  gold       NaN  \n",
       "2      1.515916e+18      f   white  gold  sapphire  \n",
       "3      1.515916e+18      f     red  gold   diamond  \n",
       "4      1.515916e+18    NaN     red  gold  amethyst  \n",
       "...             ...    ...     ...   ...       ...  \n",
       "95906           NaN    NaN     NaN   NaN       NaN  \n",
       "95907  1.515916e+18    NaN     red  gold       NaN  \n",
       "95908  1.515916e+18      f   white  gold   diamond  \n",
       "95909  1.515916e+18    NaN   white  gold    fianit  \n",
       "95910  1.515916e+18    NaN     red  gold       NaN  \n",
       "\n",
       "[95911 rows x 13 columns]"
      ]
     },
     "execution_count": 18,
     "metadata": {},
     "output_type": "execute_result"
    }
   ],
   "source": [
    "# setting the path for joining multiple files\n",
    "data_raw = T = pd.read_csv(\"datasets/eCommerce_purchase_history_from_jewelry_store/dataset.csv\",sep=\",\")\n",
    "\n",
    "data_raw\n"
   ]
  },
  {
   "cell_type": "code",
   "execution_count": 28,
   "metadata": {},
   "outputs": [
    {
     "data": {
      "text/plain": [
       "True"
      ]
     },
     "execution_count": 28,
     "metadata": {},
     "output_type": "execute_result"
    }
   ],
   "source": [
    "# Quantity is always 1\n",
    "\n",
    "data_raw[data_raw[\"quantity\"]==1].index.size == data_raw.index.size"
   ]
  },
  {
   "cell_type": "code",
   "execution_count": 66,
   "metadata": {},
   "outputs": [],
   "source": [
    "# Quantity is always 1\n",
    "\n",
    "data_raw[data_raw[\"quantity\"]==1].index.size == data_raw.index.size\n",
    "\n",
    "grouped_mutliple_items = data_raw.groupby(['order_id', 'product_id']).agg({'quantity': ['count']})\n",
    "\n",
    "#grouped_mutliple_items[grouped_mutliple_items[\"quantity\"]>1]\n",
    "\n",
    "grouped_mutliple_items.columns = [\"quantity\"]\n",
    "grouped_mutliple_items = grouped_mutliple_items.reset_index()\n",
    "grouped_mutliple_items = grouped_mutliple_items[grouped_mutliple_items[\"quantity\"]>1].sort_values(\"quantity\",ascending=False)"
   ]
  },
  {
   "cell_type": "code",
   "execution_count": 72,
   "metadata": {},
   "outputs": [
    {
     "data": {
      "text/html": [
       "<div>\n",
       "<style scoped>\n",
       "    .dataframe tbody tr th:only-of-type {\n",
       "        vertical-align: middle;\n",
       "    }\n",
       "\n",
       "    .dataframe tbody tr th {\n",
       "        vertical-align: top;\n",
       "    }\n",
       "\n",
       "    .dataframe thead th {\n",
       "        text-align: right;\n",
       "    }\n",
       "</style>\n",
       "<table border=\"1\" class=\"dataframe\">\n",
       "  <thead>\n",
       "    <tr style=\"text-align: right;\">\n",
       "      <th></th>\n",
       "      <th>order_id</th>\n",
       "      <th>product_id</th>\n",
       "      <th>quantity</th>\n",
       "    </tr>\n",
       "  </thead>\n",
       "  <tbody>\n",
       "    <tr>\n",
       "      <th>41015</th>\n",
       "      <td>2495379030207889855</td>\n",
       "      <td>1924582891589731058</td>\n",
       "      <td>5</td>\n",
       "    </tr>\n",
       "    <tr>\n",
       "      <th>19915</th>\n",
       "      <td>2353608075732059089</td>\n",
       "      <td>1956663840242401751</td>\n",
       "      <td>5</td>\n",
       "    </tr>\n",
       "    <tr>\n",
       "      <th>40727</th>\n",
       "      <td>2493738608301703823</td>\n",
       "      <td>1956663831283368958</td>\n",
       "      <td>4</td>\n",
       "    </tr>\n",
       "    <tr>\n",
       "      <th>12620</th>\n",
       "      <td>2227042636957483947</td>\n",
       "      <td>1956663846273811079</td>\n",
       "      <td>4</td>\n",
       "    </tr>\n",
       "    <tr>\n",
       "      <th>41012</th>\n",
       "      <td>2495371767527244123</td>\n",
       "      <td>1956663831300145187</td>\n",
       "      <td>4</td>\n",
       "    </tr>\n",
       "    <tr>\n",
       "      <th>...</th>\n",
       "      <td>...</td>\n",
       "      <td>...</td>\n",
       "      <td>...</td>\n",
       "    </tr>\n",
       "    <tr>\n",
       "      <th>22684</th>\n",
       "      <td>2376381688033838048</td>\n",
       "      <td>1956663847725040105</td>\n",
       "      <td>2</td>\n",
       "    </tr>\n",
       "    <tr>\n",
       "      <th>22681</th>\n",
       "      <td>2376366506977002204</td>\n",
       "      <td>1515966222682896901</td>\n",
       "      <td>2</td>\n",
       "    </tr>\n",
       "    <tr>\n",
       "      <th>22662</th>\n",
       "      <td>2376259120639508790</td>\n",
       "      <td>1956663847725040099</td>\n",
       "      <td>2</td>\n",
       "    </tr>\n",
       "    <tr>\n",
       "      <th>22643</th>\n",
       "      <td>2376179809060388868</td>\n",
       "      <td>1956663840225624514</td>\n",
       "      <td>2</td>\n",
       "    </tr>\n",
       "    <tr>\n",
       "      <th>78727</th>\n",
       "      <td>2677781633259537116</td>\n",
       "      <td>1352907200745439279</td>\n",
       "      <td>2</td>\n",
       "    </tr>\n",
       "  </tbody>\n",
       "</table>\n",
       "<p>2298 rows × 3 columns</p>\n",
       "</div>"
      ],
      "text/plain": [
       "                  order_id           product_id  quantity\n",
       "41015  2495379030207889855  1924582891589731058         5\n",
       "19915  2353608075732059089  1956663840242401751         5\n",
       "40727  2493738608301703823  1956663831283368958         4\n",
       "12620  2227042636957483947  1956663846273811079         4\n",
       "41012  2495371767527244123  1956663831300145187         4\n",
       "...                    ...                  ...       ...\n",
       "22684  2376381688033838048  1956663847725040105         2\n",
       "22681  2376366506977002204  1515966222682896901         2\n",
       "22662  2376259120639508790  1956663847725040099         2\n",
       "22643  2376179809060388868  1956663840225624514         2\n",
       "78727  2677781633259537116  1352907200745439279         2\n",
       "\n",
       "[2298 rows x 3 columns]"
      ]
     },
     "execution_count": 72,
     "metadata": {},
     "output_type": "execute_result"
    }
   ],
   "source": [
    "grouped_mutliple_items"
   ]
  },
  {
   "cell_type": "code",
   "execution_count": 93,
   "metadata": {},
   "outputs": [
    {
     "data": {
      "application/vnd.plotly.v1+json": {
       "config": {
        "plotlyServerURL": "https://plot.ly"
       },
       "data": [
        {
         "alignmentgroup": "True",
         "hovertemplate": "index=%{x}<br>y=%{y}<extra></extra>",
         "legendgroup": "",
         "marker": {
          "color": "#636efa",
          "pattern": {
           "shape": ""
          }
         },
         "name": "",
         "offsetgroup": "",
         "orientation": "v",
         "showlegend": false,
         "textposition": "auto",
         "type": "bar",
         "width": 0.5,
         "x": [
          2,
          3,
          4,
          5
         ],
         "xaxis": "x",
         "y": [
          0.8981723237597912,
          0.07789382071366406,
          0.023063533507397736,
          0.0008703220191470844
         ],
         "yaxis": "y"
        }
       ],
       "layout": {
        "barmode": "relative",
        "height": 400,
        "legend": {
         "title": {
          "text": "Multiple items per transaction distribution"
         },
         "tracegroupgap": 0
        },
        "margin": {
         "t": 60
        },
        "template": {
         "data": {
          "bar": [
           {
            "error_x": {
             "color": "#2a3f5f"
            },
            "error_y": {
             "color": "#2a3f5f"
            },
            "marker": {
             "line": {
              "color": "#E5ECF6",
              "width": 0.5
             },
             "pattern": {
              "fillmode": "overlay",
              "size": 10,
              "solidity": 0.2
             }
            },
            "type": "bar"
           }
          ],
          "barpolar": [
           {
            "marker": {
             "line": {
              "color": "#E5ECF6",
              "width": 0.5
             },
             "pattern": {
              "fillmode": "overlay",
              "size": 10,
              "solidity": 0.2
             }
            },
            "type": "barpolar"
           }
          ],
          "carpet": [
           {
            "aaxis": {
             "endlinecolor": "#2a3f5f",
             "gridcolor": "white",
             "linecolor": "white",
             "minorgridcolor": "white",
             "startlinecolor": "#2a3f5f"
            },
            "baxis": {
             "endlinecolor": "#2a3f5f",
             "gridcolor": "white",
             "linecolor": "white",
             "minorgridcolor": "white",
             "startlinecolor": "#2a3f5f"
            },
            "type": "carpet"
           }
          ],
          "choropleth": [
           {
            "colorbar": {
             "outlinewidth": 0,
             "ticks": ""
            },
            "type": "choropleth"
           }
          ],
          "contour": [
           {
            "colorbar": {
             "outlinewidth": 0,
             "ticks": ""
            },
            "colorscale": [
             [
              0,
              "#0d0887"
             ],
             [
              0.1111111111111111,
              "#46039f"
             ],
             [
              0.2222222222222222,
              "#7201a8"
             ],
             [
              0.3333333333333333,
              "#9c179e"
             ],
             [
              0.4444444444444444,
              "#bd3786"
             ],
             [
              0.5555555555555556,
              "#d8576b"
             ],
             [
              0.6666666666666666,
              "#ed7953"
             ],
             [
              0.7777777777777778,
              "#fb9f3a"
             ],
             [
              0.8888888888888888,
              "#fdca26"
             ],
             [
              1,
              "#f0f921"
             ]
            ],
            "type": "contour"
           }
          ],
          "contourcarpet": [
           {
            "colorbar": {
             "outlinewidth": 0,
             "ticks": ""
            },
            "type": "contourcarpet"
           }
          ],
          "heatmap": [
           {
            "colorbar": {
             "outlinewidth": 0,
             "ticks": ""
            },
            "colorscale": [
             [
              0,
              "#0d0887"
             ],
             [
              0.1111111111111111,
              "#46039f"
             ],
             [
              0.2222222222222222,
              "#7201a8"
             ],
             [
              0.3333333333333333,
              "#9c179e"
             ],
             [
              0.4444444444444444,
              "#bd3786"
             ],
             [
              0.5555555555555556,
              "#d8576b"
             ],
             [
              0.6666666666666666,
              "#ed7953"
             ],
             [
              0.7777777777777778,
              "#fb9f3a"
             ],
             [
              0.8888888888888888,
              "#fdca26"
             ],
             [
              1,
              "#f0f921"
             ]
            ],
            "type": "heatmap"
           }
          ],
          "heatmapgl": [
           {
            "colorbar": {
             "outlinewidth": 0,
             "ticks": ""
            },
            "colorscale": [
             [
              0,
              "#0d0887"
             ],
             [
              0.1111111111111111,
              "#46039f"
             ],
             [
              0.2222222222222222,
              "#7201a8"
             ],
             [
              0.3333333333333333,
              "#9c179e"
             ],
             [
              0.4444444444444444,
              "#bd3786"
             ],
             [
              0.5555555555555556,
              "#d8576b"
             ],
             [
              0.6666666666666666,
              "#ed7953"
             ],
             [
              0.7777777777777778,
              "#fb9f3a"
             ],
             [
              0.8888888888888888,
              "#fdca26"
             ],
             [
              1,
              "#f0f921"
             ]
            ],
            "type": "heatmapgl"
           }
          ],
          "histogram": [
           {
            "marker": {
             "pattern": {
              "fillmode": "overlay",
              "size": 10,
              "solidity": 0.2
             }
            },
            "type": "histogram"
           }
          ],
          "histogram2d": [
           {
            "colorbar": {
             "outlinewidth": 0,
             "ticks": ""
            },
            "colorscale": [
             [
              0,
              "#0d0887"
             ],
             [
              0.1111111111111111,
              "#46039f"
             ],
             [
              0.2222222222222222,
              "#7201a8"
             ],
             [
              0.3333333333333333,
              "#9c179e"
             ],
             [
              0.4444444444444444,
              "#bd3786"
             ],
             [
              0.5555555555555556,
              "#d8576b"
             ],
             [
              0.6666666666666666,
              "#ed7953"
             ],
             [
              0.7777777777777778,
              "#fb9f3a"
             ],
             [
              0.8888888888888888,
              "#fdca26"
             ],
             [
              1,
              "#f0f921"
             ]
            ],
            "type": "histogram2d"
           }
          ],
          "histogram2dcontour": [
           {
            "colorbar": {
             "outlinewidth": 0,
             "ticks": ""
            },
            "colorscale": [
             [
              0,
              "#0d0887"
             ],
             [
              0.1111111111111111,
              "#46039f"
             ],
             [
              0.2222222222222222,
              "#7201a8"
             ],
             [
              0.3333333333333333,
              "#9c179e"
             ],
             [
              0.4444444444444444,
              "#bd3786"
             ],
             [
              0.5555555555555556,
              "#d8576b"
             ],
             [
              0.6666666666666666,
              "#ed7953"
             ],
             [
              0.7777777777777778,
              "#fb9f3a"
             ],
             [
              0.8888888888888888,
              "#fdca26"
             ],
             [
              1,
              "#f0f921"
             ]
            ],
            "type": "histogram2dcontour"
           }
          ],
          "mesh3d": [
           {
            "colorbar": {
             "outlinewidth": 0,
             "ticks": ""
            },
            "type": "mesh3d"
           }
          ],
          "parcoords": [
           {
            "line": {
             "colorbar": {
              "outlinewidth": 0,
              "ticks": ""
             }
            },
            "type": "parcoords"
           }
          ],
          "pie": [
           {
            "automargin": true,
            "type": "pie"
           }
          ],
          "scatter": [
           {
            "fillpattern": {
             "fillmode": "overlay",
             "size": 10,
             "solidity": 0.2
            },
            "type": "scatter"
           }
          ],
          "scatter3d": [
           {
            "line": {
             "colorbar": {
              "outlinewidth": 0,
              "ticks": ""
             }
            },
            "marker": {
             "colorbar": {
              "outlinewidth": 0,
              "ticks": ""
             }
            },
            "type": "scatter3d"
           }
          ],
          "scattercarpet": [
           {
            "marker": {
             "colorbar": {
              "outlinewidth": 0,
              "ticks": ""
             }
            },
            "type": "scattercarpet"
           }
          ],
          "scattergeo": [
           {
            "marker": {
             "colorbar": {
              "outlinewidth": 0,
              "ticks": ""
             }
            },
            "type": "scattergeo"
           }
          ],
          "scattergl": [
           {
            "marker": {
             "colorbar": {
              "outlinewidth": 0,
              "ticks": ""
             }
            },
            "type": "scattergl"
           }
          ],
          "scattermapbox": [
           {
            "marker": {
             "colorbar": {
              "outlinewidth": 0,
              "ticks": ""
             }
            },
            "type": "scattermapbox"
           }
          ],
          "scatterpolar": [
           {
            "marker": {
             "colorbar": {
              "outlinewidth": 0,
              "ticks": ""
             }
            },
            "type": "scatterpolar"
           }
          ],
          "scatterpolargl": [
           {
            "marker": {
             "colorbar": {
              "outlinewidth": 0,
              "ticks": ""
             }
            },
            "type": "scatterpolargl"
           }
          ],
          "scatterternary": [
           {
            "marker": {
             "colorbar": {
              "outlinewidth": 0,
              "ticks": ""
             }
            },
            "type": "scatterternary"
           }
          ],
          "surface": [
           {
            "colorbar": {
             "outlinewidth": 0,
             "ticks": ""
            },
            "colorscale": [
             [
              0,
              "#0d0887"
             ],
             [
              0.1111111111111111,
              "#46039f"
             ],
             [
              0.2222222222222222,
              "#7201a8"
             ],
             [
              0.3333333333333333,
              "#9c179e"
             ],
             [
              0.4444444444444444,
              "#bd3786"
             ],
             [
              0.5555555555555556,
              "#d8576b"
             ],
             [
              0.6666666666666666,
              "#ed7953"
             ],
             [
              0.7777777777777778,
              "#fb9f3a"
             ],
             [
              0.8888888888888888,
              "#fdca26"
             ],
             [
              1,
              "#f0f921"
             ]
            ],
            "type": "surface"
           }
          ],
          "table": [
           {
            "cells": {
             "fill": {
              "color": "#EBF0F8"
             },
             "line": {
              "color": "white"
             }
            },
            "header": {
             "fill": {
              "color": "#C8D4E3"
             },
             "line": {
              "color": "white"
             }
            },
            "type": "table"
           }
          ]
         },
         "layout": {
          "annotationdefaults": {
           "arrowcolor": "#2a3f5f",
           "arrowhead": 0,
           "arrowwidth": 1
          },
          "autotypenumbers": "strict",
          "coloraxis": {
           "colorbar": {
            "outlinewidth": 0,
            "ticks": ""
           }
          },
          "colorscale": {
           "diverging": [
            [
             0,
             "#8e0152"
            ],
            [
             0.1,
             "#c51b7d"
            ],
            [
             0.2,
             "#de77ae"
            ],
            [
             0.3,
             "#f1b6da"
            ],
            [
             0.4,
             "#fde0ef"
            ],
            [
             0.5,
             "#f7f7f7"
            ],
            [
             0.6,
             "#e6f5d0"
            ],
            [
             0.7,
             "#b8e186"
            ],
            [
             0.8,
             "#7fbc41"
            ],
            [
             0.9,
             "#4d9221"
            ],
            [
             1,
             "#276419"
            ]
           ],
           "sequential": [
            [
             0,
             "#0d0887"
            ],
            [
             0.1111111111111111,
             "#46039f"
            ],
            [
             0.2222222222222222,
             "#7201a8"
            ],
            [
             0.3333333333333333,
             "#9c179e"
            ],
            [
             0.4444444444444444,
             "#bd3786"
            ],
            [
             0.5555555555555556,
             "#d8576b"
            ],
            [
             0.6666666666666666,
             "#ed7953"
            ],
            [
             0.7777777777777778,
             "#fb9f3a"
            ],
            [
             0.8888888888888888,
             "#fdca26"
            ],
            [
             1,
             "#f0f921"
            ]
           ],
           "sequentialminus": [
            [
             0,
             "#0d0887"
            ],
            [
             0.1111111111111111,
             "#46039f"
            ],
            [
             0.2222222222222222,
             "#7201a8"
            ],
            [
             0.3333333333333333,
             "#9c179e"
            ],
            [
             0.4444444444444444,
             "#bd3786"
            ],
            [
             0.5555555555555556,
             "#d8576b"
            ],
            [
             0.6666666666666666,
             "#ed7953"
            ],
            [
             0.7777777777777778,
             "#fb9f3a"
            ],
            [
             0.8888888888888888,
             "#fdca26"
            ],
            [
             1,
             "#f0f921"
            ]
           ]
          },
          "colorway": [
           "#636efa",
           "#EF553B",
           "#00cc96",
           "#ab63fa",
           "#FFA15A",
           "#19d3f3",
           "#FF6692",
           "#B6E880",
           "#FF97FF",
           "#FECB52"
          ],
          "font": {
           "color": "#2a3f5f"
          },
          "geo": {
           "bgcolor": "white",
           "lakecolor": "white",
           "landcolor": "#E5ECF6",
           "showlakes": true,
           "showland": true,
           "subunitcolor": "white"
          },
          "hoverlabel": {
           "align": "left"
          },
          "hovermode": "closest",
          "mapbox": {
           "style": "light"
          },
          "paper_bgcolor": "white",
          "plot_bgcolor": "#E5ECF6",
          "polar": {
           "angularaxis": {
            "gridcolor": "white",
            "linecolor": "white",
            "ticks": ""
           },
           "bgcolor": "#E5ECF6",
           "radialaxis": {
            "gridcolor": "white",
            "linecolor": "white",
            "ticks": ""
           }
          },
          "scene": {
           "xaxis": {
            "backgroundcolor": "#E5ECF6",
            "gridcolor": "white",
            "gridwidth": 2,
            "linecolor": "white",
            "showbackground": true,
            "ticks": "",
            "zerolinecolor": "white"
           },
           "yaxis": {
            "backgroundcolor": "#E5ECF6",
            "gridcolor": "white",
            "gridwidth": 2,
            "linecolor": "white",
            "showbackground": true,
            "ticks": "",
            "zerolinecolor": "white"
           },
           "zaxis": {
            "backgroundcolor": "#E5ECF6",
            "gridcolor": "white",
            "gridwidth": 2,
            "linecolor": "white",
            "showbackground": true,
            "ticks": "",
            "zerolinecolor": "white"
           }
          },
          "shapedefaults": {
           "line": {
            "color": "#2a3f5f"
           }
          },
          "ternary": {
           "aaxis": {
            "gridcolor": "white",
            "linecolor": "white",
            "ticks": ""
           },
           "baxis": {
            "gridcolor": "white",
            "linecolor": "white",
            "ticks": ""
           },
           "bgcolor": "#E5ECF6",
           "caxis": {
            "gridcolor": "white",
            "linecolor": "white",
            "ticks": ""
           }
          },
          "title": {
           "x": 0.05
          },
          "xaxis": {
           "automargin": true,
           "gridcolor": "white",
           "linecolor": "white",
           "ticks": "",
           "title": {
            "standoff": 15
           },
           "zerolinecolor": "white",
           "zerolinewidth": 2
          },
          "yaxis": {
           "automargin": true,
           "gridcolor": "white",
           "linecolor": "white",
           "ticks": "",
           "title": {
            "standoff": 15
           },
           "zerolinecolor": "white",
           "zerolinewidth": 2
          }
         }
        },
        "width": 400,
        "xaxis": {
         "anchor": "y",
         "domain": [
          0,
          1
         ],
         "tickformat": ",d",
         "title": {
          "text": "Multiple items per transaction"
         }
        },
        "yaxis": {
         "anchor": "x",
         "domain": [
          0,
          1
         ],
         "tickformat": "0%",
         "title": {
          "text": "Distribution"
         }
        }
       }
      }
     },
     "metadata": {},
     "output_type": "display_data"
    }
   ],
   "source": [
    "# Mutiple items per transaction\n",
    "\n",
    "import seaborn as sns\n",
    "\n",
    "mutliple_items_per_transaction = grouped_mutliple_items[\"quantity\"].value_counts()\n",
    "mutliple_items_per_transaction.rename_axis(\"frequency\")\n",
    "\n",
    "# lenth_of_transactions\n",
    "\n",
    "total = mutliple_items_per_transaction.values.sum()\n",
    "\n",
    "import plotly.express as px\n",
    "fig = px.bar(mutliple_items_per_transaction, x=mutliple_items_per_transaction.index, y=mutliple_items_per_transaction.values/total,width=400, height=400)\n",
    "fig.update_traces(width=0.5)\n",
    "fig.update_layout(\n",
    "    xaxis_title=\"Multiple items per transaction\",\n",
    "    yaxis_tickformat ='0%',\n",
    "    xaxis_tickformat = ',d',\n",
    "    yaxis_title=\"Distribution\",\n",
    "    legend_title=\"Multiple items per transaction distribution\",)\n",
    "\n",
    "fig.show()\n"
   ]
  },
  {
   "cell_type": "code",
   "execution_count": 94,
   "metadata": {},
   "outputs": [
    {
     "name": "stderr",
     "output_type": "stream",
     "text": [
      "C:\\Users\\david\\AppData\\Local\\Temp/ipykernel_5936/4105145759.py:12: FutureWarning:\n",
      "\n",
      "Indexing with multiple keys (implicitly converted to a tuple of keys) will be deprecated, use a list instead.\n",
      "\n"
     ]
    },
    {
     "data": {
      "text/html": [
       "<div>\n",
       "<style scoped>\n",
       "    .dataframe tbody tr th:only-of-type {\n",
       "        vertical-align: middle;\n",
       "    }\n",
       "\n",
       "    .dataframe tbody tr th {\n",
       "        vertical-align: top;\n",
       "    }\n",
       "\n",
       "    .dataframe thead th {\n",
       "        text-align: right;\n",
       "    }\n",
       "</style>\n",
       "<table border=\"1\" class=\"dataframe\">\n",
       "  <thead>\n",
       "    <tr style=\"text-align: right;\">\n",
       "      <th></th>\n",
       "      <th>product_id</th>\n",
       "      <th>date</th>\n",
       "      <th>price</th>\n",
       "      <th>margin</th>\n",
       "    </tr>\n",
       "    <tr>\n",
       "      <th>order_id</th>\n",
       "      <th></th>\n",
       "      <th></th>\n",
       "      <th></th>\n",
       "      <th></th>\n",
       "    </tr>\n",
       "  </thead>\n",
       "  <tbody>\n",
       "    <tr>\n",
       "      <th>1924719191579951782</th>\n",
       "      <td>[1842195256808833386]</td>\n",
       "      <td>[2018-12-01]</td>\n",
       "      <td>[561.51]</td>\n",
       "      <td>[0.1]</td>\n",
       "    </tr>\n",
       "    <tr>\n",
       "      <th>1924899396621697920</th>\n",
       "      <td>[1806829193678291446]</td>\n",
       "      <td>[2018-12-01]</td>\n",
       "      <td>[212.14]</td>\n",
       "      <td>[0.1]</td>\n",
       "    </tr>\n",
       "    <tr>\n",
       "      <th>1925511016616034733</th>\n",
       "      <td>[1842214461889315556]</td>\n",
       "      <td>[2018-12-02]</td>\n",
       "      <td>[54.66]</td>\n",
       "      <td>[0.1]</td>\n",
       "    </tr>\n",
       "    <tr>\n",
       "      <th>1925626951238681511</th>\n",
       "      <td>[1835566849434059453]</td>\n",
       "      <td>[2018-12-02]</td>\n",
       "      <td>[88.9]</td>\n",
       "      <td>[0.1]</td>\n",
       "    </tr>\n",
       "    <tr>\n",
       "      <th>1925740842841014667</th>\n",
       "      <td>[1873936840742928865]</td>\n",
       "      <td>[2018-12-02]</td>\n",
       "      <td>[417.67]</td>\n",
       "      <td>[0.1]</td>\n",
       "    </tr>\n",
       "    <tr>\n",
       "      <th>...</th>\n",
       "      <td>...</td>\n",
       "      <td>...</td>\n",
       "      <td>...</td>\n",
       "      <td>...</td>\n",
       "    </tr>\n",
       "    <tr>\n",
       "      <th>2719016587653808559</th>\n",
       "      <td>[1515966223597820877]</td>\n",
       "      <td>[2021-12-01]</td>\n",
       "      <td>[nan]</td>\n",
       "      <td>[0.1]</td>\n",
       "    </tr>\n",
       "    <tr>\n",
       "      <th>2719018098886705639</th>\n",
       "      <td>[1956663830729720074]</td>\n",
       "      <td>[2021-12-01]</td>\n",
       "      <td>[229.99]</td>\n",
       "      <td>[0.1]</td>\n",
       "    </tr>\n",
       "    <tr>\n",
       "      <th>2719018846999544322</th>\n",
       "      <td>[1956663848219968336]</td>\n",
       "      <td>[2021-12-01]</td>\n",
       "      <td>[630.0]</td>\n",
       "      <td>[0.1]</td>\n",
       "    </tr>\n",
       "    <tr>\n",
       "      <th>2719020596963836492</th>\n",
       "      <td>[1835566854106513435]</td>\n",
       "      <td>[2021-12-01]</td>\n",
       "      <td>[83.42]</td>\n",
       "      <td>[0.1]</td>\n",
       "    </tr>\n",
       "    <tr>\n",
       "      <th>2719022379232658075</th>\n",
       "      <td>[1956663846156370429]</td>\n",
       "      <td>[2021-12-01]</td>\n",
       "      <td>[97.12]</td>\n",
       "      <td>[0.1]</td>\n",
       "    </tr>\n",
       "  </tbody>\n",
       "</table>\n",
       "<p>74760 rows × 4 columns</p>\n",
       "</div>"
      ],
      "text/plain": [
       "                                product_id          date     price margin\n",
       "order_id                                                                 \n",
       "1924719191579951782  [1842195256808833386]  [2018-12-01]  [561.51]  [0.1]\n",
       "1924899396621697920  [1806829193678291446]  [2018-12-01]  [212.14]  [0.1]\n",
       "1925511016616034733  [1842214461889315556]  [2018-12-02]   [54.66]  [0.1]\n",
       "1925626951238681511  [1835566849434059453]  [2018-12-02]    [88.9]  [0.1]\n",
       "1925740842841014667  [1873936840742928865]  [2018-12-02]  [417.67]  [0.1]\n",
       "...                                    ...           ...       ...    ...\n",
       "2719016587653808559  [1515966223597820877]  [2021-12-01]     [nan]  [0.1]\n",
       "2719018098886705639  [1956663830729720074]  [2021-12-01]  [229.99]  [0.1]\n",
       "2719018846999544322  [1956663848219968336]  [2021-12-01]   [630.0]  [0.1]\n",
       "2719020596963836492  [1835566854106513435]  [2021-12-01]   [83.42]  [0.1]\n",
       "2719022379232658075  [1956663846156370429]  [2021-12-01]   [97.12]  [0.1]\n",
       "\n",
       "[74760 rows x 4 columns]"
      ]
     },
     "execution_count": 94,
     "metadata": {},
     "output_type": "execute_result"
    }
   ],
   "source": [
    "# group by Transaction\n",
    "\n",
    "import math\n",
    "import datetime\n",
    "\n",
    "data_raw[\"date\"] = pd.to_datetime(data_raw['event_time']).dt.date\n",
    "max_date = data_raw[\"date\"].max()\n",
    "data_raw[\"margin\"] = 0.1\n",
    "data_raw[\"profit\"] = data_raw[\"price\"] * data_raw[\"margin\"]\n",
    "max_profit = data_raw[\"profit\"].max()\n",
    "\n",
    "data = data_raw.groupby(\"order_id\",dropna=True)[\"product_id\",\"date\",\"price\",\"margin\"].agg(lambda x: list(x))\n",
    "\n",
    "data"
   ]
  },
  {
   "cell_type": "code",
   "execution_count": 95,
   "metadata": {},
   "outputs": [
    {
     "data": {
      "application/vnd.plotly.v1+json": {
       "config": {
        "plotlyServerURL": "https://plot.ly"
       },
       "data": [
        {
         "alignmentgroup": "True",
         "hovertemplate": "index=%{x}<br>y=%{y}<extra></extra>",
         "legendgroup": "",
         "marker": {
          "color": "#636efa",
          "pattern": {
           "shape": ""
          }
         },
         "name": "",
         "offsetgroup": "",
         "orientation": "v",
         "showlegend": false,
         "textposition": "auto",
         "type": "bar",
         "width": 0.5,
         "x": [
          1,
          2,
          3,
          4,
          5,
          6,
          7,
          8,
          9,
          10,
          11,
          12,
          16,
          15,
          13,
          17,
          26
         ],
         "xaxis": "x",
         "y": [
          0.8029828785446763,
          0.14628143392188336,
          0.032463884430176566,
          0.01059390048154093,
          0.0037586944890315678,
          0.0020064205457463883,
          0.0008025682182985554,
          0.00036115569823434994,
          0.00026752273943285177,
          0.00021401819154628142,
          0.00006688068485821294,
          0.000053504547886570356,
          0.00004012841091492777,
          0.00004012841091492777,
          0.00004012841091492777,
          0.000013376136971642589,
          0.000013376136971642589
         ],
         "yaxis": "y"
        }
       ],
       "layout": {
        "barmode": "relative",
        "legend": {
         "title": {
          "text": "Transaction Length Dsitribution"
         },
         "tracegroupgap": 0
        },
        "margin": {
         "t": 60
        },
        "template": {
         "data": {
          "bar": [
           {
            "error_x": {
             "color": "#2a3f5f"
            },
            "error_y": {
             "color": "#2a3f5f"
            },
            "marker": {
             "line": {
              "color": "#E5ECF6",
              "width": 0.5
             },
             "pattern": {
              "fillmode": "overlay",
              "size": 10,
              "solidity": 0.2
             }
            },
            "type": "bar"
           }
          ],
          "barpolar": [
           {
            "marker": {
             "line": {
              "color": "#E5ECF6",
              "width": 0.5
             },
             "pattern": {
              "fillmode": "overlay",
              "size": 10,
              "solidity": 0.2
             }
            },
            "type": "barpolar"
           }
          ],
          "carpet": [
           {
            "aaxis": {
             "endlinecolor": "#2a3f5f",
             "gridcolor": "white",
             "linecolor": "white",
             "minorgridcolor": "white",
             "startlinecolor": "#2a3f5f"
            },
            "baxis": {
             "endlinecolor": "#2a3f5f",
             "gridcolor": "white",
             "linecolor": "white",
             "minorgridcolor": "white",
             "startlinecolor": "#2a3f5f"
            },
            "type": "carpet"
           }
          ],
          "choropleth": [
           {
            "colorbar": {
             "outlinewidth": 0,
             "ticks": ""
            },
            "type": "choropleth"
           }
          ],
          "contour": [
           {
            "colorbar": {
             "outlinewidth": 0,
             "ticks": ""
            },
            "colorscale": [
             [
              0,
              "#0d0887"
             ],
             [
              0.1111111111111111,
              "#46039f"
             ],
             [
              0.2222222222222222,
              "#7201a8"
             ],
             [
              0.3333333333333333,
              "#9c179e"
             ],
             [
              0.4444444444444444,
              "#bd3786"
             ],
             [
              0.5555555555555556,
              "#d8576b"
             ],
             [
              0.6666666666666666,
              "#ed7953"
             ],
             [
              0.7777777777777778,
              "#fb9f3a"
             ],
             [
              0.8888888888888888,
              "#fdca26"
             ],
             [
              1,
              "#f0f921"
             ]
            ],
            "type": "contour"
           }
          ],
          "contourcarpet": [
           {
            "colorbar": {
             "outlinewidth": 0,
             "ticks": ""
            },
            "type": "contourcarpet"
           }
          ],
          "heatmap": [
           {
            "colorbar": {
             "outlinewidth": 0,
             "ticks": ""
            },
            "colorscale": [
             [
              0,
              "#0d0887"
             ],
             [
              0.1111111111111111,
              "#46039f"
             ],
             [
              0.2222222222222222,
              "#7201a8"
             ],
             [
              0.3333333333333333,
              "#9c179e"
             ],
             [
              0.4444444444444444,
              "#bd3786"
             ],
             [
              0.5555555555555556,
              "#d8576b"
             ],
             [
              0.6666666666666666,
              "#ed7953"
             ],
             [
              0.7777777777777778,
              "#fb9f3a"
             ],
             [
              0.8888888888888888,
              "#fdca26"
             ],
             [
              1,
              "#f0f921"
             ]
            ],
            "type": "heatmap"
           }
          ],
          "heatmapgl": [
           {
            "colorbar": {
             "outlinewidth": 0,
             "ticks": ""
            },
            "colorscale": [
             [
              0,
              "#0d0887"
             ],
             [
              0.1111111111111111,
              "#46039f"
             ],
             [
              0.2222222222222222,
              "#7201a8"
             ],
             [
              0.3333333333333333,
              "#9c179e"
             ],
             [
              0.4444444444444444,
              "#bd3786"
             ],
             [
              0.5555555555555556,
              "#d8576b"
             ],
             [
              0.6666666666666666,
              "#ed7953"
             ],
             [
              0.7777777777777778,
              "#fb9f3a"
             ],
             [
              0.8888888888888888,
              "#fdca26"
             ],
             [
              1,
              "#f0f921"
             ]
            ],
            "type": "heatmapgl"
           }
          ],
          "histogram": [
           {
            "marker": {
             "pattern": {
              "fillmode": "overlay",
              "size": 10,
              "solidity": 0.2
             }
            },
            "type": "histogram"
           }
          ],
          "histogram2d": [
           {
            "colorbar": {
             "outlinewidth": 0,
             "ticks": ""
            },
            "colorscale": [
             [
              0,
              "#0d0887"
             ],
             [
              0.1111111111111111,
              "#46039f"
             ],
             [
              0.2222222222222222,
              "#7201a8"
             ],
             [
              0.3333333333333333,
              "#9c179e"
             ],
             [
              0.4444444444444444,
              "#bd3786"
             ],
             [
              0.5555555555555556,
              "#d8576b"
             ],
             [
              0.6666666666666666,
              "#ed7953"
             ],
             [
              0.7777777777777778,
              "#fb9f3a"
             ],
             [
              0.8888888888888888,
              "#fdca26"
             ],
             [
              1,
              "#f0f921"
             ]
            ],
            "type": "histogram2d"
           }
          ],
          "histogram2dcontour": [
           {
            "colorbar": {
             "outlinewidth": 0,
             "ticks": ""
            },
            "colorscale": [
             [
              0,
              "#0d0887"
             ],
             [
              0.1111111111111111,
              "#46039f"
             ],
             [
              0.2222222222222222,
              "#7201a8"
             ],
             [
              0.3333333333333333,
              "#9c179e"
             ],
             [
              0.4444444444444444,
              "#bd3786"
             ],
             [
              0.5555555555555556,
              "#d8576b"
             ],
             [
              0.6666666666666666,
              "#ed7953"
             ],
             [
              0.7777777777777778,
              "#fb9f3a"
             ],
             [
              0.8888888888888888,
              "#fdca26"
             ],
             [
              1,
              "#f0f921"
             ]
            ],
            "type": "histogram2dcontour"
           }
          ],
          "mesh3d": [
           {
            "colorbar": {
             "outlinewidth": 0,
             "ticks": ""
            },
            "type": "mesh3d"
           }
          ],
          "parcoords": [
           {
            "line": {
             "colorbar": {
              "outlinewidth": 0,
              "ticks": ""
             }
            },
            "type": "parcoords"
           }
          ],
          "pie": [
           {
            "automargin": true,
            "type": "pie"
           }
          ],
          "scatter": [
           {
            "fillpattern": {
             "fillmode": "overlay",
             "size": 10,
             "solidity": 0.2
            },
            "type": "scatter"
           }
          ],
          "scatter3d": [
           {
            "line": {
             "colorbar": {
              "outlinewidth": 0,
              "ticks": ""
             }
            },
            "marker": {
             "colorbar": {
              "outlinewidth": 0,
              "ticks": ""
             }
            },
            "type": "scatter3d"
           }
          ],
          "scattercarpet": [
           {
            "marker": {
             "colorbar": {
              "outlinewidth": 0,
              "ticks": ""
             }
            },
            "type": "scattercarpet"
           }
          ],
          "scattergeo": [
           {
            "marker": {
             "colorbar": {
              "outlinewidth": 0,
              "ticks": ""
             }
            },
            "type": "scattergeo"
           }
          ],
          "scattergl": [
           {
            "marker": {
             "colorbar": {
              "outlinewidth": 0,
              "ticks": ""
             }
            },
            "type": "scattergl"
           }
          ],
          "scattermapbox": [
           {
            "marker": {
             "colorbar": {
              "outlinewidth": 0,
              "ticks": ""
             }
            },
            "type": "scattermapbox"
           }
          ],
          "scatterpolar": [
           {
            "marker": {
             "colorbar": {
              "outlinewidth": 0,
              "ticks": ""
             }
            },
            "type": "scatterpolar"
           }
          ],
          "scatterpolargl": [
           {
            "marker": {
             "colorbar": {
              "outlinewidth": 0,
              "ticks": ""
             }
            },
            "type": "scatterpolargl"
           }
          ],
          "scatterternary": [
           {
            "marker": {
             "colorbar": {
              "outlinewidth": 0,
              "ticks": ""
             }
            },
            "type": "scatterternary"
           }
          ],
          "surface": [
           {
            "colorbar": {
             "outlinewidth": 0,
             "ticks": ""
            },
            "colorscale": [
             [
              0,
              "#0d0887"
             ],
             [
              0.1111111111111111,
              "#46039f"
             ],
             [
              0.2222222222222222,
              "#7201a8"
             ],
             [
              0.3333333333333333,
              "#9c179e"
             ],
             [
              0.4444444444444444,
              "#bd3786"
             ],
             [
              0.5555555555555556,
              "#d8576b"
             ],
             [
              0.6666666666666666,
              "#ed7953"
             ],
             [
              0.7777777777777778,
              "#fb9f3a"
             ],
             [
              0.8888888888888888,
              "#fdca26"
             ],
             [
              1,
              "#f0f921"
             ]
            ],
            "type": "surface"
           }
          ],
          "table": [
           {
            "cells": {
             "fill": {
              "color": "#EBF0F8"
             },
             "line": {
              "color": "white"
             }
            },
            "header": {
             "fill": {
              "color": "#C8D4E3"
             },
             "line": {
              "color": "white"
             }
            },
            "type": "table"
           }
          ]
         },
         "layout": {
          "annotationdefaults": {
           "arrowcolor": "#2a3f5f",
           "arrowhead": 0,
           "arrowwidth": 1
          },
          "autotypenumbers": "strict",
          "coloraxis": {
           "colorbar": {
            "outlinewidth": 0,
            "ticks": ""
           }
          },
          "colorscale": {
           "diverging": [
            [
             0,
             "#8e0152"
            ],
            [
             0.1,
             "#c51b7d"
            ],
            [
             0.2,
             "#de77ae"
            ],
            [
             0.3,
             "#f1b6da"
            ],
            [
             0.4,
             "#fde0ef"
            ],
            [
             0.5,
             "#f7f7f7"
            ],
            [
             0.6,
             "#e6f5d0"
            ],
            [
             0.7,
             "#b8e186"
            ],
            [
             0.8,
             "#7fbc41"
            ],
            [
             0.9,
             "#4d9221"
            ],
            [
             1,
             "#276419"
            ]
           ],
           "sequential": [
            [
             0,
             "#0d0887"
            ],
            [
             0.1111111111111111,
             "#46039f"
            ],
            [
             0.2222222222222222,
             "#7201a8"
            ],
            [
             0.3333333333333333,
             "#9c179e"
            ],
            [
             0.4444444444444444,
             "#bd3786"
            ],
            [
             0.5555555555555556,
             "#d8576b"
            ],
            [
             0.6666666666666666,
             "#ed7953"
            ],
            [
             0.7777777777777778,
             "#fb9f3a"
            ],
            [
             0.8888888888888888,
             "#fdca26"
            ],
            [
             1,
             "#f0f921"
            ]
           ],
           "sequentialminus": [
            [
             0,
             "#0d0887"
            ],
            [
             0.1111111111111111,
             "#46039f"
            ],
            [
             0.2222222222222222,
             "#7201a8"
            ],
            [
             0.3333333333333333,
             "#9c179e"
            ],
            [
             0.4444444444444444,
             "#bd3786"
            ],
            [
             0.5555555555555556,
             "#d8576b"
            ],
            [
             0.6666666666666666,
             "#ed7953"
            ],
            [
             0.7777777777777778,
             "#fb9f3a"
            ],
            [
             0.8888888888888888,
             "#fdca26"
            ],
            [
             1,
             "#f0f921"
            ]
           ]
          },
          "colorway": [
           "#636efa",
           "#EF553B",
           "#00cc96",
           "#ab63fa",
           "#FFA15A",
           "#19d3f3",
           "#FF6692",
           "#B6E880",
           "#FF97FF",
           "#FECB52"
          ],
          "font": {
           "color": "#2a3f5f"
          },
          "geo": {
           "bgcolor": "white",
           "lakecolor": "white",
           "landcolor": "#E5ECF6",
           "showlakes": true,
           "showland": true,
           "subunitcolor": "white"
          },
          "hoverlabel": {
           "align": "left"
          },
          "hovermode": "closest",
          "mapbox": {
           "style": "light"
          },
          "paper_bgcolor": "white",
          "plot_bgcolor": "#E5ECF6",
          "polar": {
           "angularaxis": {
            "gridcolor": "white",
            "linecolor": "white",
            "ticks": ""
           },
           "bgcolor": "#E5ECF6",
           "radialaxis": {
            "gridcolor": "white",
            "linecolor": "white",
            "ticks": ""
           }
          },
          "scene": {
           "xaxis": {
            "backgroundcolor": "#E5ECF6",
            "gridcolor": "white",
            "gridwidth": 2,
            "linecolor": "white",
            "showbackground": true,
            "ticks": "",
            "zerolinecolor": "white"
           },
           "yaxis": {
            "backgroundcolor": "#E5ECF6",
            "gridcolor": "white",
            "gridwidth": 2,
            "linecolor": "white",
            "showbackground": true,
            "ticks": "",
            "zerolinecolor": "white"
           },
           "zaxis": {
            "backgroundcolor": "#E5ECF6",
            "gridcolor": "white",
            "gridwidth": 2,
            "linecolor": "white",
            "showbackground": true,
            "ticks": "",
            "zerolinecolor": "white"
           }
          },
          "shapedefaults": {
           "line": {
            "color": "#2a3f5f"
           }
          },
          "ternary": {
           "aaxis": {
            "gridcolor": "white",
            "linecolor": "white",
            "ticks": ""
           },
           "baxis": {
            "gridcolor": "white",
            "linecolor": "white",
            "ticks": ""
           },
           "bgcolor": "#E5ECF6",
           "caxis": {
            "gridcolor": "white",
            "linecolor": "white",
            "ticks": ""
           }
          },
          "title": {
           "x": 0.05
          },
          "xaxis": {
           "automargin": true,
           "gridcolor": "white",
           "linecolor": "white",
           "ticks": "",
           "title": {
            "standoff": 15
           },
           "zerolinecolor": "white",
           "zerolinewidth": 2
          },
          "yaxis": {
           "automargin": true,
           "gridcolor": "white",
           "linecolor": "white",
           "ticks": "",
           "title": {
            "standoff": 15
           },
           "zerolinecolor": "white",
           "zerolinewidth": 2
          }
         }
        },
        "xaxis": {
         "anchor": "y",
         "domain": [
          0,
          1
         ],
         "title": {
          "text": "Number of items per transaction"
         }
        },
        "yaxis": {
         "anchor": "x",
         "domain": [
          0,
          1
         ],
         "tickformat": ",.0%",
         "title": {
          "text": "Distribution"
         }
        }
       }
      }
     },
     "metadata": {},
     "output_type": "display_data"
    }
   ],
   "source": [
    "# Length of transactions\n",
    "\n",
    "import seaborn as sns\n",
    "\n",
    "length_of_transactions = data[\"product_id\"].apply(len).value_counts()\n",
    "length_of_transactions.rename_axis(\"frequency\")\n",
    "\n",
    "\n",
    "total = length_of_transactions.sum()\n",
    "\n",
    "import plotly.express as px\n",
    "fig = px.bar(length_of_transactions, x=length_of_transactions.index, y=length_of_transactions.values/total)\n",
    "fig.update_traces(width=0.5)\n",
    "fig.update_layout(\n",
    "    xaxis_title=\"Number of items per transaction\",\n",
    "    yaxis_tickformat =',.0%',\n",
    "    yaxis_title=\"Distribution\",\n",
    "    legend_title=\"Transaction Length Dsitribution\",)\n",
    "\n",
    "fig.show()"
   ]
  },
  {
   "cell_type": "code",
   "execution_count": 19,
   "metadata": {},
   "outputs": [
    {
     "data": {
      "text/html": [
       "<div>\n",
       "<style scoped>\n",
       "    .dataframe tbody tr th:only-of-type {\n",
       "        vertical-align: middle;\n",
       "    }\n",
       "\n",
       "    .dataframe tbody tr th {\n",
       "        vertical-align: top;\n",
       "    }\n",
       "\n",
       "    .dataframe thead th {\n",
       "        text-align: right;\n",
       "    }\n",
       "</style>\n",
       "<table border=\"1\" class=\"dataframe\">\n",
       "  <thead>\n",
       "    <tr style=\"text-align: right;\">\n",
       "      <th></th>\n",
       "      <th>product_id</th>\n",
       "      <th>category_id</th>\n",
       "      <th>category_code</th>\n",
       "      <th>brand</th>\n",
       "      <th>price</th>\n",
       "    </tr>\n",
       "  </thead>\n",
       "  <tbody>\n",
       "    <tr>\n",
       "      <th>0</th>\n",
       "      <td>1842195256808833386</td>\n",
       "      <td>1.8068292018907384e+18</td>\n",
       "      <td>jewelry.earring</td>\n",
       "      <td>0.0</td>\n",
       "      <td>561.51</td>\n",
       "    </tr>\n",
       "    <tr>\n",
       "      <th>1</th>\n",
       "      <td>1806829193678291446</td>\n",
       "      <td>1.8068292018487954e+18</td>\n",
       "      <td>nan</td>\n",
       "      <td>nan</td>\n",
       "      <td>212.14</td>\n",
       "    </tr>\n",
       "    <tr>\n",
       "      <th>2</th>\n",
       "      <td>1842214461889315556</td>\n",
       "      <td>1.8068292019159043e+18</td>\n",
       "      <td>jewelry.pendant</td>\n",
       "      <td>1.0</td>\n",
       "      <td>54.66</td>\n",
       "    </tr>\n",
       "    <tr>\n",
       "      <th>3</th>\n",
       "      <td>1835566849434059453</td>\n",
       "      <td>1.8068292019159043e+18</td>\n",
       "      <td>jewelry.pendant</td>\n",
       "      <td>0.0</td>\n",
       "      <td>88.9</td>\n",
       "    </tr>\n",
       "    <tr>\n",
       "      <th>4</th>\n",
       "      <td>1873936840742928865</td>\n",
       "      <td>1.8068292019242929e+18</td>\n",
       "      <td>jewelry.necklace</td>\n",
       "      <td>0.0</td>\n",
       "      <td>417.67</td>\n",
       "    </tr>\n",
       "    <tr>\n",
       "      <th>...</th>\n",
       "      <td>...</td>\n",
       "      <td>...</td>\n",
       "      <td>...</td>\n",
       "      <td>...</td>\n",
       "      <td>...</td>\n",
       "    </tr>\n",
       "    <tr>\n",
       "      <th>95833</th>\n",
       "      <td>1515966223700619049</td>\n",
       "      <td>nan</td>\n",
       "      <td>0.00</td>\n",
       "      <td>1.5159156256973775e+18</td>\n",
       "      <td>nan</td>\n",
       "    </tr>\n",
       "    <tr>\n",
       "      <th>95838</th>\n",
       "      <td>1515966223419078514</td>\n",
       "      <td>1.8068292018907384e+18</td>\n",
       "      <td>jewelry.earring</td>\n",
       "      <td>1.0</td>\n",
       "      <td>575.21</td>\n",
       "    </tr>\n",
       "    <tr>\n",
       "      <th>95867</th>\n",
       "      <td>1515966223714641199</td>\n",
       "      <td>nan</td>\n",
       "      <td>0.00</td>\n",
       "      <td>1.5159156256905946e+18</td>\n",
       "      <td>nan</td>\n",
       "    </tr>\n",
       "    <tr>\n",
       "      <th>95870</th>\n",
       "      <td>1515966223714641225</td>\n",
       "      <td>nan</td>\n",
       "      <td>0.00</td>\n",
       "      <td>1.5159156256905946e+18</td>\n",
       "      <td>nan</td>\n",
       "    </tr>\n",
       "    <tr>\n",
       "      <th>95894</th>\n",
       "      <td>1536902230743974482</td>\n",
       "      <td>nan</td>\n",
       "      <td>0.00</td>\n",
       "      <td>1.5159156256954138e+18</td>\n",
       "      <td>nan</td>\n",
       "    </tr>\n",
       "  </tbody>\n",
       "</table>\n",
       "<p>9613 rows × 5 columns</p>\n",
       "</div>"
      ],
      "text/plain": [
       "                product_id             category_id     category_code  \\\n",
       "0      1842195256808833386  1.8068292018907384e+18   jewelry.earring   \n",
       "1      1806829193678291446  1.8068292018487954e+18               nan   \n",
       "2      1842214461889315556  1.8068292019159043e+18   jewelry.pendant   \n",
       "3      1835566849434059453  1.8068292019159043e+18   jewelry.pendant   \n",
       "4      1873936840742928865  1.8068292019242929e+18  jewelry.necklace   \n",
       "...                    ...                     ...               ...   \n",
       "95833  1515966223700619049                     nan              0.00   \n",
       "95838  1515966223419078514  1.8068292018907384e+18   jewelry.earring   \n",
       "95867  1515966223714641199                     nan              0.00   \n",
       "95870  1515966223714641225                     nan              0.00   \n",
       "95894  1536902230743974482                     nan              0.00   \n",
       "\n",
       "                        brand   price  \n",
       "0                         0.0  561.51  \n",
       "1                         nan  212.14  \n",
       "2                         1.0   54.66  \n",
       "3                         0.0    88.9  \n",
       "4                         0.0  417.67  \n",
       "...                       ...     ...  \n",
       "95833  1.5159156256973775e+18     nan  \n",
       "95838                     1.0  575.21  \n",
       "95867  1.5159156256905946e+18     nan  \n",
       "95870  1.5159156256905946e+18     nan  \n",
       "95894  1.5159156256954138e+18     nan  \n",
       "\n",
       "[9613 rows x 5 columns]"
      ]
     },
     "execution_count": 19,
     "metadata": {},
     "output_type": "execute_result"
    }
   ],
   "source": [
    "unique_items = data_raw[[\"product_id\",\"category_id\",\"category_code\",\"brand\",\"price\"]].drop_duplicates(subset = \"product_id\").astype(\"str\")\n",
    "\n",
    "\n",
    "unique_items"
   ]
  },
  {
   "cell_type": "code",
   "execution_count": 20,
   "metadata": {},
   "outputs": [
    {
     "name": "stderr",
     "output_type": "stream",
     "text": [
      "C:\\Users\\david\\AppData\\Local\\Temp/ipykernel_5936/16707732.py:7: FutureWarning: Indexing with multiple keys (implicitly converted to a tuple of keys) will be deprecated, use a list instead.\n",
      "  data = data_raw.groupby(\"order_id\",dropna=True)[\"product_id\",\"date\",\"price\",\"margin\"].agg(lambda x: list(x))\n"
     ]
    },
    {
     "data": {
      "text/html": [
       "<div>\n",
       "<style scoped>\n",
       "    .dataframe tbody tr th:only-of-type {\n",
       "        vertical-align: middle;\n",
       "    }\n",
       "\n",
       "    .dataframe tbody tr th {\n",
       "        vertical-align: top;\n",
       "    }\n",
       "\n",
       "    .dataframe thead th {\n",
       "        text-align: right;\n",
       "    }\n",
       "</style>\n",
       "<table border=\"1\" class=\"dataframe\">\n",
       "  <thead>\n",
       "    <tr style=\"text-align: right;\">\n",
       "      <th></th>\n",
       "      <th>product_id</th>\n",
       "      <th>date</th>\n",
       "      <th>price</th>\n",
       "      <th>margin</th>\n",
       "    </tr>\n",
       "    <tr>\n",
       "      <th>order_id</th>\n",
       "      <th></th>\n",
       "      <th></th>\n",
       "      <th></th>\n",
       "      <th></th>\n",
       "    </tr>\n",
       "  </thead>\n",
       "  <tbody>\n",
       "    <tr>\n",
       "      <th>1924719191579951782</th>\n",
       "      <td>[1842195256808833386]</td>\n",
       "      <td>[2018-12-01]</td>\n",
       "      <td>[561.51]</td>\n",
       "      <td>[0.1]</td>\n",
       "    </tr>\n",
       "    <tr>\n",
       "      <th>1924899396621697920</th>\n",
       "      <td>[1806829193678291446]</td>\n",
       "      <td>[2018-12-01]</td>\n",
       "      <td>[212.14]</td>\n",
       "      <td>[0.1]</td>\n",
       "    </tr>\n",
       "    <tr>\n",
       "      <th>1925511016616034733</th>\n",
       "      <td>[1842214461889315556]</td>\n",
       "      <td>[2018-12-02]</td>\n",
       "      <td>[54.66]</td>\n",
       "      <td>[0.1]</td>\n",
       "    </tr>\n",
       "    <tr>\n",
       "      <th>1925626951238681511</th>\n",
       "      <td>[1835566849434059453]</td>\n",
       "      <td>[2018-12-02]</td>\n",
       "      <td>[88.9]</td>\n",
       "      <td>[0.1]</td>\n",
       "    </tr>\n",
       "    <tr>\n",
       "      <th>1925740842841014667</th>\n",
       "      <td>[1873936840742928865]</td>\n",
       "      <td>[2018-12-02]</td>\n",
       "      <td>[417.67]</td>\n",
       "      <td>[0.1]</td>\n",
       "    </tr>\n",
       "    <tr>\n",
       "      <th>...</th>\n",
       "      <td>...</td>\n",
       "      <td>...</td>\n",
       "      <td>...</td>\n",
       "      <td>...</td>\n",
       "    </tr>\n",
       "    <tr>\n",
       "      <th>2719016587653808559</th>\n",
       "      <td>[1515966223597820877]</td>\n",
       "      <td>[2021-12-01]</td>\n",
       "      <td>[nan]</td>\n",
       "      <td>[0.1]</td>\n",
       "    </tr>\n",
       "    <tr>\n",
       "      <th>2719018098886705639</th>\n",
       "      <td>[1956663830729720074]</td>\n",
       "      <td>[2021-12-01]</td>\n",
       "      <td>[229.99]</td>\n",
       "      <td>[0.1]</td>\n",
       "    </tr>\n",
       "    <tr>\n",
       "      <th>2719018846999544322</th>\n",
       "      <td>[1956663848219968336]</td>\n",
       "      <td>[2021-12-01]</td>\n",
       "      <td>[630.0]</td>\n",
       "      <td>[0.1]</td>\n",
       "    </tr>\n",
       "    <tr>\n",
       "      <th>2719020596963836492</th>\n",
       "      <td>[1835566854106513435]</td>\n",
       "      <td>[2021-12-01]</td>\n",
       "      <td>[83.42]</td>\n",
       "      <td>[0.1]</td>\n",
       "    </tr>\n",
       "    <tr>\n",
       "      <th>2719022379232658075</th>\n",
       "      <td>[1956663846156370429]</td>\n",
       "      <td>[2021-12-01]</td>\n",
       "      <td>[97.12]</td>\n",
       "      <td>[0.1]</td>\n",
       "    </tr>\n",
       "  </tbody>\n",
       "</table>\n",
       "<p>74760 rows × 4 columns</p>\n",
       "</div>"
      ],
      "text/plain": [
       "                                product_id          date     price margin\n",
       "order_id                                                                 \n",
       "1924719191579951782  [1842195256808833386]  [2018-12-01]  [561.51]  [0.1]\n",
       "1924899396621697920  [1806829193678291446]  [2018-12-01]  [212.14]  [0.1]\n",
       "1925511016616034733  [1842214461889315556]  [2018-12-02]   [54.66]  [0.1]\n",
       "1925626951238681511  [1835566849434059453]  [2018-12-02]    [88.9]  [0.1]\n",
       "1925740842841014667  [1873936840742928865]  [2018-12-02]  [417.67]  [0.1]\n",
       "...                                    ...           ...       ...    ...\n",
       "2719016587653808559  [1515966223597820877]  [2021-12-01]     [nan]  [0.1]\n",
       "2719018098886705639  [1956663830729720074]  [2021-12-01]  [229.99]  [0.1]\n",
       "2719018846999544322  [1956663848219968336]  [2021-12-01]   [630.0]  [0.1]\n",
       "2719020596963836492  [1835566854106513435]  [2021-12-01]   [83.42]  [0.1]\n",
       "2719022379232658075  [1956663846156370429]  [2021-12-01]   [97.12]  [0.1]\n",
       "\n",
       "[74760 rows x 4 columns]"
      ]
     },
     "execution_count": 20,
     "metadata": {},
     "output_type": "execute_result"
    }
   ],
   "source": [
    "data_raw[\"date\"] = pd.to_datetime(data_raw['event_time']).dt.date\n",
    "max_date = data_raw[\"date\"].max()\n",
    "data_raw[\"margin\"] = 0.1\n",
    "data_raw[\"profit\"] = data_raw[\"price\"] * data_raw[\"margin\"]\n",
    "max_profit = data_raw[\"profit\"].max()\n",
    "\n",
    "data = data_raw.groupby(\"order_id\",dropna=True)[\"product_id\",\"date\",\"price\",\"margin\"].agg(lambda x: list(x))\n",
    "\n",
    "data"
   ]
  },
  {
   "cell_type": "code",
   "execution_count": 35,
   "metadata": {},
   "outputs": [
    {
     "name": "stderr",
     "output_type": "stream",
     "text": [
      "c:\\ProgramData\\Anaconda3\\lib\\site-packages\\seaborn\\rcmod.py:82: DeprecationWarning: distutils Version classes are deprecated. Use packaging.version instead.\n",
      "  if LooseVersion(mpl.__version__) >= \"3.0\":\n",
      "c:\\ProgramData\\Anaconda3\\lib\\site-packages\\setuptools\\_distutils\\version.py:346: DeprecationWarning: distutils Version classes are deprecated. Use packaging.version instead.\n",
      "  other = LooseVersion(other)\n",
      "c:\\ProgramData\\Anaconda3\\lib\\site-packages\\xarray\\core\\pycompat.py:22: DeprecationWarning: distutils Version classes are deprecated. Use packaging.version instead.\n",
      "  duck_array_version = LooseVersion(duck_array_module.__version__)\n",
      "c:\\ProgramData\\Anaconda3\\lib\\site-packages\\xarray\\core\\pycompat.py:37: DeprecationWarning: distutils Version classes are deprecated. Use packaging.version instead.\n",
      "  duck_array_version = LooseVersion(\"0.0.0\")\n",
      "c:\\ProgramData\\Anaconda3\\lib\\site-packages\\xarray\\core\\pycompat.py:37: DeprecationWarning: distutils Version classes are deprecated. Use packaging.version instead.\n",
      "  duck_array_version = LooseVersion(\"0.0.0\")\n",
      "c:\\ProgramData\\Anaconda3\\lib\\site-packages\\setuptools\\_distutils\\version.py:346: DeprecationWarning: distutils Version classes are deprecated. Use packaging.version instead.\n",
      "  other = LooseVersion(other)\n",
      "c:\\ProgramData\\Anaconda3\\lib\\site-packages\\setuptools\\_distutils\\version.py:346: DeprecationWarning: distutils Version classes are deprecated. Use packaging.version instead.\n",
      "  other = LooseVersion(other)\n",
      "c:\\ProgramData\\Anaconda3\\lib\\site-packages\\xarray\\core\\npcompat.py:82: DeprecationWarning: distutils Version classes are deprecated. Use packaging.version instead.\n",
      "  if LooseVersion(np.__version__) >= \"1.20.0\":\n",
      "c:\\ProgramData\\Anaconda3\\lib\\site-packages\\setuptools\\_distutils\\version.py:346: DeprecationWarning: distutils Version classes are deprecated. Use packaging.version instead.\n",
      "  other = LooseVersion(other)\n",
      "c:\\ProgramData\\Anaconda3\\lib\\site-packages\\xarray\\core\\pdcompat.py:45: DeprecationWarning: distutils Version classes are deprecated. Use packaging.version instead.\n",
      "  if LooseVersion(pd.__version__) < \"0.25.0\":\n",
      "c:\\ProgramData\\Anaconda3\\lib\\site-packages\\setuptools\\_distutils\\version.py:346: DeprecationWarning: distutils Version classes are deprecated. Use packaging.version instead.\n",
      "  other = LooseVersion(other)\n",
      "c:\\ProgramData\\Anaconda3\\lib\\site-packages\\plotly\\io\\_renderers.py:395: DeprecationWarning:\n",
      "\n",
      "distutils Version classes are deprecated. Use packaging.version instead.\n",
      "\n",
      "c:\\ProgramData\\Anaconda3\\lib\\site-packages\\plotly\\io\\_renderers.py:395: DeprecationWarning:\n",
      "\n",
      "distutils Version classes are deprecated. Use packaging.version instead.\n",
      "\n"
     ]
    },
    {
     "data": {
      "application/vnd.plotly.v1+json": {
       "config": {
        "plotlyServerURL": "https://plot.ly"
       },
       "data": [
        {
         "alignmentgroup": "True",
         "hovertemplate": "index=%{x}<br>y=%{y}<extra></extra>",
         "legendgroup": "",
         "marker": {
          "color": "#636efa",
          "pattern": {
           "shape": ""
          }
         },
         "name": "",
         "offsetgroup": "",
         "orientation": "v",
         "showlegend": false,
         "textposition": "auto",
         "type": "bar",
         "width": 0.5,
         "x": [
          1,
          2,
          3,
          4,
          5,
          6,
          7,
          8,
          9,
          10,
          11,
          12,
          13,
          14,
          15,
          16,
          17,
          18,
          19,
          20,
          21,
          22,
          24,
          23,
          25,
          27,
          33,
          29,
          28,
          26,
          30,
          31,
          48,
          35,
          36,
          39,
          32,
          61,
          53
         ],
         "xaxis": "x",
         "y": [
          0.6073793986619902,
          0.2003454411934791,
          0.0916046224184228,
          0.04412840546630381,
          0.021715138517877524,
          0.012688937102948165,
          0.008261186428160355,
          0.005335596328485451,
          0.0034558054047124365,
          0.0020909016168431495,
          0.0011976873973186851,
          0.0007002186354306449,
          0.00038947484299077664,
          0.00024316050125900007,
          0.00014561760677114904,
          0.000094755954645341,
          0.00006479635133835818,
          0.0000473779773226705,
          0.000030656338267610326,
          0.000022295518740080234,
          0.000013237964251922641,
          0.000008360819527530088,
          0.000006967349606275074,
          0.000006270614645647566,
          0.000006270614645647566,
          0.0000027869398425100293,
          0.000002090204881882522,
          0.000002090204881882522,
          0.0000013934699212550146,
          0.0000013934699212550146,
          0.0000013934699212550146,
          0.0000013934699212550146,
          6.967349606275073e-7,
          6.967349606275073e-7,
          6.967349606275073e-7,
          6.967349606275073e-7,
          6.967349606275073e-7,
          6.967349606275073e-7,
          6.967349606275073e-7
         ],
         "yaxis": "y"
        }
       ],
       "layout": {
        "barmode": "relative",
        "legend": {
         "title": {
          "text": "Transaction Length Dsitribution"
         },
         "tracegroupgap": 0
        },
        "margin": {
         "t": 60
        },
        "template": {
         "data": {
          "bar": [
           {
            "error_x": {
             "color": "#2a3f5f"
            },
            "error_y": {
             "color": "#2a3f5f"
            },
            "marker": {
             "line": {
              "color": "#E5ECF6",
              "width": 0.5
             },
             "pattern": {
              "fillmode": "overlay",
              "size": 10,
              "solidity": 0.2
             }
            },
            "type": "bar"
           }
          ],
          "barpolar": [
           {
            "marker": {
             "line": {
              "color": "#E5ECF6",
              "width": 0.5
             },
             "pattern": {
              "fillmode": "overlay",
              "size": 10,
              "solidity": 0.2
             }
            },
            "type": "barpolar"
           }
          ],
          "carpet": [
           {
            "aaxis": {
             "endlinecolor": "#2a3f5f",
             "gridcolor": "white",
             "linecolor": "white",
             "minorgridcolor": "white",
             "startlinecolor": "#2a3f5f"
            },
            "baxis": {
             "endlinecolor": "#2a3f5f",
             "gridcolor": "white",
             "linecolor": "white",
             "minorgridcolor": "white",
             "startlinecolor": "#2a3f5f"
            },
            "type": "carpet"
           }
          ],
          "choropleth": [
           {
            "colorbar": {
             "outlinewidth": 0,
             "ticks": ""
            },
            "type": "choropleth"
           }
          ],
          "contour": [
           {
            "colorbar": {
             "outlinewidth": 0,
             "ticks": ""
            },
            "colorscale": [
             [
              0,
              "#0d0887"
             ],
             [
              0.1111111111111111,
              "#46039f"
             ],
             [
              0.2222222222222222,
              "#7201a8"
             ],
             [
              0.3333333333333333,
              "#9c179e"
             ],
             [
              0.4444444444444444,
              "#bd3786"
             ],
             [
              0.5555555555555556,
              "#d8576b"
             ],
             [
              0.6666666666666666,
              "#ed7953"
             ],
             [
              0.7777777777777778,
              "#fb9f3a"
             ],
             [
              0.8888888888888888,
              "#fdca26"
             ],
             [
              1,
              "#f0f921"
             ]
            ],
            "type": "contour"
           }
          ],
          "contourcarpet": [
           {
            "colorbar": {
             "outlinewidth": 0,
             "ticks": ""
            },
            "type": "contourcarpet"
           }
          ],
          "heatmap": [
           {
            "colorbar": {
             "outlinewidth": 0,
             "ticks": ""
            },
            "colorscale": [
             [
              0,
              "#0d0887"
             ],
             [
              0.1111111111111111,
              "#46039f"
             ],
             [
              0.2222222222222222,
              "#7201a8"
             ],
             [
              0.3333333333333333,
              "#9c179e"
             ],
             [
              0.4444444444444444,
              "#bd3786"
             ],
             [
              0.5555555555555556,
              "#d8576b"
             ],
             [
              0.6666666666666666,
              "#ed7953"
             ],
             [
              0.7777777777777778,
              "#fb9f3a"
             ],
             [
              0.8888888888888888,
              "#fdca26"
             ],
             [
              1,
              "#f0f921"
             ]
            ],
            "type": "heatmap"
           }
          ],
          "heatmapgl": [
           {
            "colorbar": {
             "outlinewidth": 0,
             "ticks": ""
            },
            "colorscale": [
             [
              0,
              "#0d0887"
             ],
             [
              0.1111111111111111,
              "#46039f"
             ],
             [
              0.2222222222222222,
              "#7201a8"
             ],
             [
              0.3333333333333333,
              "#9c179e"
             ],
             [
              0.4444444444444444,
              "#bd3786"
             ],
             [
              0.5555555555555556,
              "#d8576b"
             ],
             [
              0.6666666666666666,
              "#ed7953"
             ],
             [
              0.7777777777777778,
              "#fb9f3a"
             ],
             [
              0.8888888888888888,
              "#fdca26"
             ],
             [
              1,
              "#f0f921"
             ]
            ],
            "type": "heatmapgl"
           }
          ],
          "histogram": [
           {
            "marker": {
             "pattern": {
              "fillmode": "overlay",
              "size": 10,
              "solidity": 0.2
             }
            },
            "type": "histogram"
           }
          ],
          "histogram2d": [
           {
            "colorbar": {
             "outlinewidth": 0,
             "ticks": ""
            },
            "colorscale": [
             [
              0,
              "#0d0887"
             ],
             [
              0.1111111111111111,
              "#46039f"
             ],
             [
              0.2222222222222222,
              "#7201a8"
             ],
             [
              0.3333333333333333,
              "#9c179e"
             ],
             [
              0.4444444444444444,
              "#bd3786"
             ],
             [
              0.5555555555555556,
              "#d8576b"
             ],
             [
              0.6666666666666666,
              "#ed7953"
             ],
             [
              0.7777777777777778,
              "#fb9f3a"
             ],
             [
              0.8888888888888888,
              "#fdca26"
             ],
             [
              1,
              "#f0f921"
             ]
            ],
            "type": "histogram2d"
           }
          ],
          "histogram2dcontour": [
           {
            "colorbar": {
             "outlinewidth": 0,
             "ticks": ""
            },
            "colorscale": [
             [
              0,
              "#0d0887"
             ],
             [
              0.1111111111111111,
              "#46039f"
             ],
             [
              0.2222222222222222,
              "#7201a8"
             ],
             [
              0.3333333333333333,
              "#9c179e"
             ],
             [
              0.4444444444444444,
              "#bd3786"
             ],
             [
              0.5555555555555556,
              "#d8576b"
             ],
             [
              0.6666666666666666,
              "#ed7953"
             ],
             [
              0.7777777777777778,
              "#fb9f3a"
             ],
             [
              0.8888888888888888,
              "#fdca26"
             ],
             [
              1,
              "#f0f921"
             ]
            ],
            "type": "histogram2dcontour"
           }
          ],
          "mesh3d": [
           {
            "colorbar": {
             "outlinewidth": 0,
             "ticks": ""
            },
            "type": "mesh3d"
           }
          ],
          "parcoords": [
           {
            "line": {
             "colorbar": {
              "outlinewidth": 0,
              "ticks": ""
             }
            },
            "type": "parcoords"
           }
          ],
          "pie": [
           {
            "automargin": true,
            "type": "pie"
           }
          ],
          "scatter": [
           {
            "fillpattern": {
             "fillmode": "overlay",
             "size": 10,
             "solidity": 0.2
            },
            "type": "scatter"
           }
          ],
          "scatter3d": [
           {
            "line": {
             "colorbar": {
              "outlinewidth": 0,
              "ticks": ""
             }
            },
            "marker": {
             "colorbar": {
              "outlinewidth": 0,
              "ticks": ""
             }
            },
            "type": "scatter3d"
           }
          ],
          "scattercarpet": [
           {
            "marker": {
             "colorbar": {
              "outlinewidth": 0,
              "ticks": ""
             }
            },
            "type": "scattercarpet"
           }
          ],
          "scattergeo": [
           {
            "marker": {
             "colorbar": {
              "outlinewidth": 0,
              "ticks": ""
             }
            },
            "type": "scattergeo"
           }
          ],
          "scattergl": [
           {
            "marker": {
             "colorbar": {
              "outlinewidth": 0,
              "ticks": ""
             }
            },
            "type": "scattergl"
           }
          ],
          "scattermapbox": [
           {
            "marker": {
             "colorbar": {
              "outlinewidth": 0,
              "ticks": ""
             }
            },
            "type": "scattermapbox"
           }
          ],
          "scatterpolar": [
           {
            "marker": {
             "colorbar": {
              "outlinewidth": 0,
              "ticks": ""
             }
            },
            "type": "scatterpolar"
           }
          ],
          "scatterpolargl": [
           {
            "marker": {
             "colorbar": {
              "outlinewidth": 0,
              "ticks": ""
             }
            },
            "type": "scatterpolargl"
           }
          ],
          "scatterternary": [
           {
            "marker": {
             "colorbar": {
              "outlinewidth": 0,
              "ticks": ""
             }
            },
            "type": "scatterternary"
           }
          ],
          "surface": [
           {
            "colorbar": {
             "outlinewidth": 0,
             "ticks": ""
            },
            "colorscale": [
             [
              0,
              "#0d0887"
             ],
             [
              0.1111111111111111,
              "#46039f"
             ],
             [
              0.2222222222222222,
              "#7201a8"
             ],
             [
              0.3333333333333333,
              "#9c179e"
             ],
             [
              0.4444444444444444,
              "#bd3786"
             ],
             [
              0.5555555555555556,
              "#d8576b"
             ],
             [
              0.6666666666666666,
              "#ed7953"
             ],
             [
              0.7777777777777778,
              "#fb9f3a"
             ],
             [
              0.8888888888888888,
              "#fdca26"
             ],
             [
              1,
              "#f0f921"
             ]
            ],
            "type": "surface"
           }
          ],
          "table": [
           {
            "cells": {
             "fill": {
              "color": "#EBF0F8"
             },
             "line": {
              "color": "white"
             }
            },
            "header": {
             "fill": {
              "color": "#C8D4E3"
             },
             "line": {
              "color": "white"
             }
            },
            "type": "table"
           }
          ]
         },
         "layout": {
          "annotationdefaults": {
           "arrowcolor": "#2a3f5f",
           "arrowhead": 0,
           "arrowwidth": 1
          },
          "autotypenumbers": "strict",
          "coloraxis": {
           "colorbar": {
            "outlinewidth": 0,
            "ticks": ""
           }
          },
          "colorscale": {
           "diverging": [
            [
             0,
             "#8e0152"
            ],
            [
             0.1,
             "#c51b7d"
            ],
            [
             0.2,
             "#de77ae"
            ],
            [
             0.3,
             "#f1b6da"
            ],
            [
             0.4,
             "#fde0ef"
            ],
            [
             0.5,
             "#f7f7f7"
            ],
            [
             0.6,
             "#e6f5d0"
            ],
            [
             0.7,
             "#b8e186"
            ],
            [
             0.8,
             "#7fbc41"
            ],
            [
             0.9,
             "#4d9221"
            ],
            [
             1,
             "#276419"
            ]
           ],
           "sequential": [
            [
             0,
             "#0d0887"
            ],
            [
             0.1111111111111111,
             "#46039f"
            ],
            [
             0.2222222222222222,
             "#7201a8"
            ],
            [
             0.3333333333333333,
             "#9c179e"
            ],
            [
             0.4444444444444444,
             "#bd3786"
            ],
            [
             0.5555555555555556,
             "#d8576b"
            ],
            [
             0.6666666666666666,
             "#ed7953"
            ],
            [
             0.7777777777777778,
             "#fb9f3a"
            ],
            [
             0.8888888888888888,
             "#fdca26"
            ],
            [
             1,
             "#f0f921"
            ]
           ],
           "sequentialminus": [
            [
             0,
             "#0d0887"
            ],
            [
             0.1111111111111111,
             "#46039f"
            ],
            [
             0.2222222222222222,
             "#7201a8"
            ],
            [
             0.3333333333333333,
             "#9c179e"
            ],
            [
             0.4444444444444444,
             "#bd3786"
            ],
            [
             0.5555555555555556,
             "#d8576b"
            ],
            [
             0.6666666666666666,
             "#ed7953"
            ],
            [
             0.7777777777777778,
             "#fb9f3a"
            ],
            [
             0.8888888888888888,
             "#fdca26"
            ],
            [
             1,
             "#f0f921"
            ]
           ]
          },
          "colorway": [
           "#636efa",
           "#EF553B",
           "#00cc96",
           "#ab63fa",
           "#FFA15A",
           "#19d3f3",
           "#FF6692",
           "#B6E880",
           "#FF97FF",
           "#FECB52"
          ],
          "font": {
           "color": "#2a3f5f"
          },
          "geo": {
           "bgcolor": "white",
           "lakecolor": "white",
           "landcolor": "#E5ECF6",
           "showlakes": true,
           "showland": true,
           "subunitcolor": "white"
          },
          "hoverlabel": {
           "align": "left"
          },
          "hovermode": "closest",
          "mapbox": {
           "style": "light"
          },
          "paper_bgcolor": "white",
          "plot_bgcolor": "#E5ECF6",
          "polar": {
           "angularaxis": {
            "gridcolor": "white",
            "linecolor": "white",
            "ticks": ""
           },
           "bgcolor": "#E5ECF6",
           "radialaxis": {
            "gridcolor": "white",
            "linecolor": "white",
            "ticks": ""
           }
          },
          "scene": {
           "xaxis": {
            "backgroundcolor": "#E5ECF6",
            "gridcolor": "white",
            "gridwidth": 2,
            "linecolor": "white",
            "showbackground": true,
            "ticks": "",
            "zerolinecolor": "white"
           },
           "yaxis": {
            "backgroundcolor": "#E5ECF6",
            "gridcolor": "white",
            "gridwidth": 2,
            "linecolor": "white",
            "showbackground": true,
            "ticks": "",
            "zerolinecolor": "white"
           },
           "zaxis": {
            "backgroundcolor": "#E5ECF6",
            "gridcolor": "white",
            "gridwidth": 2,
            "linecolor": "white",
            "showbackground": true,
            "ticks": "",
            "zerolinecolor": "white"
           }
          },
          "shapedefaults": {
           "line": {
            "color": "#2a3f5f"
           }
          },
          "ternary": {
           "aaxis": {
            "gridcolor": "white",
            "linecolor": "white",
            "ticks": ""
           },
           "baxis": {
            "gridcolor": "white",
            "linecolor": "white",
            "ticks": ""
           },
           "bgcolor": "#E5ECF6",
           "caxis": {
            "gridcolor": "white",
            "linecolor": "white",
            "ticks": ""
           }
          },
          "title": {
           "x": 0.05
          },
          "xaxis": {
           "automargin": true,
           "gridcolor": "white",
           "linecolor": "white",
           "ticks": "",
           "title": {
            "standoff": 15
           },
           "zerolinecolor": "white",
           "zerolinewidth": 2
          },
          "yaxis": {
           "automargin": true,
           "gridcolor": "white",
           "linecolor": "white",
           "ticks": "",
           "title": {
            "standoff": 15
           },
           "zerolinecolor": "white",
           "zerolinewidth": 2
          }
         }
        },
        "xaxis": {
         "anchor": "y",
         "domain": [
          0,
          1
         ],
         "title": {
          "text": "Number of items per transaction"
         }
        },
        "yaxis": {
         "anchor": "x",
         "domain": [
          0,
          1
         ],
         "tickformat": ",.0%",
         "title": {
          "text": "Distribution"
         }
        }
       }
      }
     },
     "metadata": {},
     "output_type": "display_data"
    }
   ],
   "source": [
    "import seaborn as sns\n",
    "\n",
    "length_of_transactions = data[\"product_id\"].apply(len).value_counts()\n",
    "length_of_transactions.rename_axis(\"frequency\")\n",
    "\n",
    "# lenth_of_transactions\n",
    "\n",
    "total = length_of_transactions.sum()\n",
    "\n",
    "import plotly.express as px\n",
    "fig = px.bar(length_of_transactions, x=length_of_transactions.index, y=length_of_transactions.values/total)\n",
    "fig.update_traces(width=0.5)\n",
    "fig.update_layout(\n",
    "    xaxis_title=\"Number of items per transaction\",\n",
    "    yaxis_tickformat =',.0%',\n",
    "    yaxis_title=\"Distribution\",\n",
    "    legend_title=\"Transaction Length Dsitribution\",)\n",
    "\n",
    "fig.show()\n"
   ]
  },
  {
   "cell_type": "code",
   "execution_count": 96,
   "metadata": {},
   "outputs": [
    {
     "data": {
      "text/plain": [
       "74760"
      ]
     },
     "execution_count": 96,
     "metadata": {},
     "output_type": "execute_result"
    }
   ],
   "source": [
    "length_of_transactions.sum()"
   ]
  },
  {
   "cell_type": "markdown",
   "metadata": {},
   "source": [
    "#### 3.1 Classical Association Rules"
   ]
  },
  {
   "cell_type": "code",
   "execution_count": 107,
   "metadata": {},
   "outputs": [
    {
     "data": {
      "text/html": [
       "<div>\n",
       "<style scoped>\n",
       "    .dataframe tbody tr th:only-of-type {\n",
       "        vertical-align: middle;\n",
       "    }\n",
       "\n",
       "    .dataframe tbody tr th {\n",
       "        vertical-align: top;\n",
       "    }\n",
       "\n",
       "    .dataframe thead th {\n",
       "        text-align: right;\n",
       "    }\n",
       "</style>\n",
       "<table border=\"1\" class=\"dataframe\">\n",
       "  <thead>\n",
       "    <tr style=\"text-align: right;\">\n",
       "      <th></th>\n",
       "      <th>antecedent</th>\n",
       "      <th>sup_antecedent</th>\n",
       "      <th>consequent</th>\n",
       "      <th>sup_consequent</th>\n",
       "      <th>antecedent&amp;consequent</th>\n",
       "      <th>sup_ant&amp;cons</th>\n",
       "      <th>sup_perc_ant&amp;cons</th>\n",
       "      <th>confidence</th>\n",
       "      <th>lift</th>\n",
       "      <th>improvement</th>\n",
       "    </tr>\n",
       "  </thead>\n",
       "  <tbody>\n",
       "    <tr>\n",
       "      <th>0</th>\n",
       "      <td>[]</td>\n",
       "      <td>NA</td>\n",
       "      <td>[1515966223577083202]</td>\n",
       "      <td>468</td>\n",
       "      <td>[1515966223577083202]</td>\n",
       "      <td>468</td>\n",
       "      <td>0.006260</td>\n",
       "      <td>NA</td>\n",
       "      <td>NA</td>\n",
       "      <td>NA</td>\n",
       "    </tr>\n",
       "    <tr>\n",
       "      <th>1</th>\n",
       "      <td>[]</td>\n",
       "      <td>NA</td>\n",
       "      <td>[1956663847725040099]</td>\n",
       "      <td>362</td>\n",
       "      <td>[1956663847725040099]</td>\n",
       "      <td>362</td>\n",
       "      <td>0.004842</td>\n",
       "      <td>NA</td>\n",
       "      <td>NA</td>\n",
       "      <td>NA</td>\n",
       "    </tr>\n",
       "    <tr>\n",
       "      <th>2</th>\n",
       "      <td>[]</td>\n",
       "      <td>NA</td>\n",
       "      <td>[1956663840242401751]</td>\n",
       "      <td>301</td>\n",
       "      <td>[1956663840242401751]</td>\n",
       "      <td>301</td>\n",
       "      <td>0.004026</td>\n",
       "      <td>NA</td>\n",
       "      <td>NA</td>\n",
       "      <td>NA</td>\n",
       "    </tr>\n",
       "    <tr>\n",
       "      <th>3</th>\n",
       "      <td>[]</td>\n",
       "      <td>NA</td>\n",
       "      <td>[1956663840309510725]</td>\n",
       "      <td>274</td>\n",
       "      <td>[1956663840309510725]</td>\n",
       "      <td>274</td>\n",
       "      <td>0.003665</td>\n",
       "      <td>NA</td>\n",
       "      <td>NA</td>\n",
       "      <td>NA</td>\n",
       "    </tr>\n",
       "    <tr>\n",
       "      <th>4</th>\n",
       "      <td>[]</td>\n",
       "      <td>NA</td>\n",
       "      <td>[1956663830872326617]</td>\n",
       "      <td>266</td>\n",
       "      <td>[1956663830872326617]</td>\n",
       "      <td>266</td>\n",
       "      <td>0.003558</td>\n",
       "      <td>NA</td>\n",
       "      <td>NA</td>\n",
       "      <td>NA</td>\n",
       "    </tr>\n",
       "    <tr>\n",
       "      <th>5</th>\n",
       "      <td>[]</td>\n",
       "      <td>NA</td>\n",
       "      <td>[1956663847666319760]</td>\n",
       "      <td>266</td>\n",
       "      <td>[1956663847666319760]</td>\n",
       "      <td>266</td>\n",
       "      <td>0.003558</td>\n",
       "      <td>NA</td>\n",
       "      <td>NA</td>\n",
       "      <td>NA</td>\n",
       "    </tr>\n",
       "    <tr>\n",
       "      <th>6</th>\n",
       "      <td>[]</td>\n",
       "      <td>NA</td>\n",
       "      <td>[1352907200745439279]</td>\n",
       "      <td>265</td>\n",
       "      <td>[1352907200745439279]</td>\n",
       "      <td>265</td>\n",
       "      <td>0.003545</td>\n",
       "      <td>NA</td>\n",
       "      <td>NA</td>\n",
       "      <td>NA</td>\n",
       "    </tr>\n",
       "    <tr>\n",
       "      <th>7</th>\n",
       "      <td>[]</td>\n",
       "      <td>NA</td>\n",
       "      <td>[1956663836207481430]</td>\n",
       "      <td>259</td>\n",
       "      <td>[1956663836207481430]</td>\n",
       "      <td>259</td>\n",
       "      <td>0.003464</td>\n",
       "      <td>NA</td>\n",
       "      <td>NA</td>\n",
       "      <td>NA</td>\n",
       "    </tr>\n",
       "    <tr>\n",
       "      <th>8</th>\n",
       "      <td>[]</td>\n",
       "      <td>NA</td>\n",
       "      <td>[1956663845787271453]</td>\n",
       "      <td>258</td>\n",
       "      <td>[1956663845787271453]</td>\n",
       "      <td>258</td>\n",
       "      <td>0.003451</td>\n",
       "      <td>NA</td>\n",
       "      <td>NA</td>\n",
       "      <td>NA</td>\n",
       "    </tr>\n",
       "    <tr>\n",
       "      <th>9</th>\n",
       "      <td>[]</td>\n",
       "      <td>NA</td>\n",
       "      <td>[1956663831283368958]</td>\n",
       "      <td>253</td>\n",
       "      <td>[1956663831283368958]</td>\n",
       "      <td>253</td>\n",
       "      <td>0.003384</td>\n",
       "      <td>NA</td>\n",
       "      <td>NA</td>\n",
       "      <td>NA</td>\n",
       "    </tr>\n",
       "    <tr>\n",
       "      <th>10</th>\n",
       "      <td>[]</td>\n",
       "      <td>NA</td>\n",
       "      <td>[1956663831291756567]</td>\n",
       "      <td>249</td>\n",
       "      <td>[1956663831291756567]</td>\n",
       "      <td>249</td>\n",
       "      <td>0.003331</td>\n",
       "      <td>NA</td>\n",
       "      <td>NA</td>\n",
       "      <td>NA</td>\n",
       "    </tr>\n",
       "    <tr>\n",
       "      <th>11</th>\n",
       "      <td>[]</td>\n",
       "      <td>NA</td>\n",
       "      <td>[1956663831274980339]</td>\n",
       "      <td>248</td>\n",
       "      <td>[1956663831274980339]</td>\n",
       "      <td>248</td>\n",
       "      <td>0.003317</td>\n",
       "      <td>NA</td>\n",
       "      <td>NA</td>\n",
       "      <td>NA</td>\n",
       "    </tr>\n",
       "    <tr>\n",
       "      <th>12</th>\n",
       "      <td>[]</td>\n",
       "      <td>NA</td>\n",
       "      <td>[1956663836392031039]</td>\n",
       "      <td>242</td>\n",
       "      <td>[1956663836392031039]</td>\n",
       "      <td>242</td>\n",
       "      <td>0.003237</td>\n",
       "      <td>NA</td>\n",
       "      <td>NA</td>\n",
       "      <td>NA</td>\n",
       "    </tr>\n",
       "    <tr>\n",
       "      <th>13</th>\n",
       "      <td>[]</td>\n",
       "      <td>NA</td>\n",
       "      <td>[1956663831283367940]</td>\n",
       "      <td>237</td>\n",
       "      <td>[1956663831283367940]</td>\n",
       "      <td>237</td>\n",
       "      <td>0.003170</td>\n",
       "      <td>NA</td>\n",
       "      <td>NA</td>\n",
       "      <td>NA</td>\n",
       "    </tr>\n",
       "    <tr>\n",
       "      <th>14</th>\n",
       "      <td>[]</td>\n",
       "      <td>NA</td>\n",
       "      <td>[1956663836224258664]</td>\n",
       "      <td>232</td>\n",
       "      <td>[1956663836224258664]</td>\n",
       "      <td>232</td>\n",
       "      <td>0.003103</td>\n",
       "      <td>NA</td>\n",
       "      <td>NA</td>\n",
       "      <td>NA</td>\n",
       "    </tr>\n",
       "    <tr>\n",
       "      <th>15</th>\n",
       "      <td>[]</td>\n",
       "      <td>NA</td>\n",
       "      <td>[1956663830721331445]</td>\n",
       "      <td>228</td>\n",
       "      <td>[1956663830721331445]</td>\n",
       "      <td>228</td>\n",
       "      <td>0.003050</td>\n",
       "      <td>NA</td>\n",
       "      <td>NA</td>\n",
       "      <td>NA</td>\n",
       "    </tr>\n",
       "    <tr>\n",
       "      <th>16</th>\n",
       "      <td>[]</td>\n",
       "      <td>NA</td>\n",
       "      <td>[1956663836845015466]</td>\n",
       "      <td>226</td>\n",
       "      <td>[1956663836845015466]</td>\n",
       "      <td>226</td>\n",
       "      <td>0.003023</td>\n",
       "      <td>NA</td>\n",
       "      <td>NA</td>\n",
       "      <td>NA</td>\n",
       "    </tr>\n",
       "  </tbody>\n",
       "</table>\n",
       "</div>"
      ],
      "text/plain": [
       "   antecedent sup_antecedent             consequent  sup_consequent  \\\n",
       "0          []             NA  [1515966223577083202]             468   \n",
       "1          []             NA  [1956663847725040099]             362   \n",
       "2          []             NA  [1956663840242401751]             301   \n",
       "3          []             NA  [1956663840309510725]             274   \n",
       "4          []             NA  [1956663830872326617]             266   \n",
       "5          []             NA  [1956663847666319760]             266   \n",
       "6          []             NA  [1352907200745439279]             265   \n",
       "7          []             NA  [1956663836207481430]             259   \n",
       "8          []             NA  [1956663845787271453]             258   \n",
       "9          []             NA  [1956663831283368958]             253   \n",
       "10         []             NA  [1956663831291756567]             249   \n",
       "11         []             NA  [1956663831274980339]             248   \n",
       "12         []             NA  [1956663836392031039]             242   \n",
       "13         []             NA  [1956663831283367940]             237   \n",
       "14         []             NA  [1956663836224258664]             232   \n",
       "15         []             NA  [1956663830721331445]             228   \n",
       "16         []             NA  [1956663836845015466]             226   \n",
       "\n",
       "    antecedent&consequent  sup_ant&cons  sup_perc_ant&cons confidence lift  \\\n",
       "0   [1515966223577083202]           468           0.006260         NA   NA   \n",
       "1   [1956663847725040099]           362           0.004842         NA   NA   \n",
       "2   [1956663840242401751]           301           0.004026         NA   NA   \n",
       "3   [1956663840309510725]           274           0.003665         NA   NA   \n",
       "4   [1956663830872326617]           266           0.003558         NA   NA   \n",
       "5   [1956663847666319760]           266           0.003558         NA   NA   \n",
       "6   [1352907200745439279]           265           0.003545         NA   NA   \n",
       "7   [1956663836207481430]           259           0.003464         NA   NA   \n",
       "8   [1956663845787271453]           258           0.003451         NA   NA   \n",
       "9   [1956663831283368958]           253           0.003384         NA   NA   \n",
       "10  [1956663831291756567]           249           0.003331         NA   NA   \n",
       "11  [1956663831274980339]           248           0.003317         NA   NA   \n",
       "12  [1956663836392031039]           242           0.003237         NA   NA   \n",
       "13  [1956663831283367940]           237           0.003170         NA   NA   \n",
       "14  [1956663836224258664]           232           0.003103         NA   NA   \n",
       "15  [1956663830721331445]           228           0.003050         NA   NA   \n",
       "16  [1956663836845015466]           226           0.003023         NA   NA   \n",
       "\n",
       "   improvement  \n",
       "0           NA  \n",
       "1           NA  \n",
       "2           NA  \n",
       "3           NA  \n",
       "4           NA  \n",
       "5           NA  \n",
       "6           NA  \n",
       "7           NA  \n",
       "8           NA  \n",
       "9           NA  \n",
       "10          NA  \n",
       "11          NA  \n",
       "12          NA  \n",
       "13          NA  \n",
       "14          NA  \n",
       "15          NA  \n",
       "16          NA  "
      ]
     },
     "execution_count": 107,
     "metadata": {},
     "output_type": "execute_result"
    }
   ],
   "source": [
    "import modified_fp_growth_algorithm.modified_fp_growth_latest as mod_fp_growth\n",
    "\n",
    "rules = mod_fp_growth.fpgrowthFromDataFrame(\\\n",
    "    data,\n",
    "    minSupRatio=0.003,\n",
    "    maxSupRatio=1,\n",
    "    minConf=0,\n",
    "    item_col=1\n",
    "    )\n",
    "    \n",
    "rules.to_excel(\"fp_groth_out.xlsx\",index=False) \n",
    "rules"
   ]
  },
  {
   "cell_type": "code",
   "execution_count": 108,
   "metadata": {},
   "outputs": [
    {
     "data": {
      "text/html": [
       "<div>\n",
       "<style scoped>\n",
       "    .dataframe tbody tr th:only-of-type {\n",
       "        vertical-align: middle;\n",
       "    }\n",
       "\n",
       "    .dataframe tbody tr th {\n",
       "        vertical-align: top;\n",
       "    }\n",
       "\n",
       "    .dataframe thead th {\n",
       "        text-align: right;\n",
       "    }\n",
       "</style>\n",
       "<table border=\"1\" class=\"dataframe\">\n",
       "  <thead>\n",
       "    <tr style=\"text-align: right;\">\n",
       "      <th></th>\n",
       "      <th>rules_index</th>\n",
       "      <th>antecedent&amp;consequent</th>\n",
       "      <th>sup_ant&amp;cons</th>\n",
       "      <th>product_id</th>\n",
       "      <th>category_id</th>\n",
       "      <th>category_code</th>\n",
       "      <th>brand</th>\n",
       "      <th>price</th>\n",
       "    </tr>\n",
       "  </thead>\n",
       "  <tbody>\n",
       "    <tr>\n",
       "      <th>0</th>\n",
       "      <td>0</td>\n",
       "      <td>1515966223577083202</td>\n",
       "      <td>468</td>\n",
       "      <td>1515966223577083202</td>\n",
       "      <td>1.80682920194107e+18</td>\n",
       "      <td>jewelry.brooch</td>\n",
       "      <td>0.0</td>\n",
       "      <td>10.27</td>\n",
       "    </tr>\n",
       "    <tr>\n",
       "      <th>1</th>\n",
       "      <td>1</td>\n",
       "      <td>1956663847725040099</td>\n",
       "      <td>362</td>\n",
       "      <td>1956663847725040099</td>\n",
       "      <td>1.8068292018823498e+18</td>\n",
       "      <td>jewelry.ring</td>\n",
       "      <td>0.0</td>\n",
       "      <td>200.45</td>\n",
       "    </tr>\n",
       "    <tr>\n",
       "      <th>2</th>\n",
       "      <td>2</td>\n",
       "      <td>1956663840242401751</td>\n",
       "      <td>301</td>\n",
       "      <td>1956663840242401751</td>\n",
       "      <td>1.8068292018823498e+18</td>\n",
       "      <td>jewelry.ring</td>\n",
       "      <td>0.0</td>\n",
       "      <td>259.97</td>\n",
       "    </tr>\n",
       "    <tr>\n",
       "      <th>3</th>\n",
       "      <td>3</td>\n",
       "      <td>1956663840309510725</td>\n",
       "      <td>274</td>\n",
       "      <td>1956663840309510725</td>\n",
       "      <td>1.8068292018823498e+18</td>\n",
       "      <td>jewelry.ring</td>\n",
       "      <td>0.0</td>\n",
       "      <td>133.55</td>\n",
       "    </tr>\n",
       "    <tr>\n",
       "      <th>4</th>\n",
       "      <td>4</td>\n",
       "      <td>1956663830872326617</td>\n",
       "      <td>266</td>\n",
       "      <td>1956663830872326617</td>\n",
       "      <td>1.8068292018487954e+18</td>\n",
       "      <td>nan</td>\n",
       "      <td>0.0</td>\n",
       "      <td>140.62</td>\n",
       "    </tr>\n",
       "    <tr>\n",
       "      <th>5</th>\n",
       "      <td>5</td>\n",
       "      <td>1956663847666319760</td>\n",
       "      <td>266</td>\n",
       "      <td>1956663847666319760</td>\n",
       "      <td>1.8068292018823498e+18</td>\n",
       "      <td>jewelry.ring</td>\n",
       "      <td>0.0</td>\n",
       "      <td>188.7</td>\n",
       "    </tr>\n",
       "    <tr>\n",
       "      <th>6</th>\n",
       "      <td>6</td>\n",
       "      <td>1352907200745439279</td>\n",
       "      <td>265</td>\n",
       "      <td>1352907200745439279</td>\n",
       "      <td>1.8068292018823498e+18</td>\n",
       "      <td>jewelry.ring</td>\n",
       "      <td>0.0</td>\n",
       "      <td>215.14</td>\n",
       "    </tr>\n",
       "    <tr>\n",
       "      <th>7</th>\n",
       "      <td>7</td>\n",
       "      <td>1956663836207481430</td>\n",
       "      <td>259</td>\n",
       "      <td>1956663836207481430</td>\n",
       "      <td>1.8068292018823498e+18</td>\n",
       "      <td>jewelry.ring</td>\n",
       "      <td>0.0</td>\n",
       "      <td>119.77</td>\n",
       "    </tr>\n",
       "    <tr>\n",
       "      <th>8</th>\n",
       "      <td>8</td>\n",
       "      <td>1956663845787271453</td>\n",
       "      <td>258</td>\n",
       "      <td>1956663845787271453</td>\n",
       "      <td>1.8068292018487954e+18</td>\n",
       "      <td>nan</td>\n",
       "      <td>0.0</td>\n",
       "      <td>445.95</td>\n",
       "    </tr>\n",
       "    <tr>\n",
       "      <th>9</th>\n",
       "      <td>9</td>\n",
       "      <td>1956663831283368958</td>\n",
       "      <td>253</td>\n",
       "      <td>1956663831283368958</td>\n",
       "      <td>1.8068292018823498e+18</td>\n",
       "      <td>jewelry.ring</td>\n",
       "      <td>0.0</td>\n",
       "      <td>242.9</td>\n",
       "    </tr>\n",
       "    <tr>\n",
       "      <th>10</th>\n",
       "      <td>10</td>\n",
       "      <td>1956663831291756567</td>\n",
       "      <td>249</td>\n",
       "      <td>1956663831291756567</td>\n",
       "      <td>1.8068292018487954e+18</td>\n",
       "      <td>nan</td>\n",
       "      <td>0.0</td>\n",
       "      <td>229.81</td>\n",
       "    </tr>\n",
       "    <tr>\n",
       "      <th>11</th>\n",
       "      <td>11</td>\n",
       "      <td>1956663831274980339</td>\n",
       "      <td>248</td>\n",
       "      <td>1956663831274980339</td>\n",
       "      <td>1.8068292018907384e+18</td>\n",
       "      <td>jewelry.earring</td>\n",
       "      <td>0.0</td>\n",
       "      <td>88.9</td>\n",
       "    </tr>\n",
       "    <tr>\n",
       "      <th>12</th>\n",
       "      <td>12</td>\n",
       "      <td>1956663836392031039</td>\n",
       "      <td>242</td>\n",
       "      <td>1956663836392031039</td>\n",
       "      <td>1.8068292018487954e+18</td>\n",
       "      <td>nan</td>\n",
       "      <td>0.0</td>\n",
       "      <td>134.29</td>\n",
       "    </tr>\n",
       "    <tr>\n",
       "      <th>13</th>\n",
       "      <td>13</td>\n",
       "      <td>1956663831283367940</td>\n",
       "      <td>237</td>\n",
       "      <td>1956663831283367940</td>\n",
       "      <td>1.8068292018487954e+18</td>\n",
       "      <td>nan</td>\n",
       "      <td>0.0</td>\n",
       "      <td>130.16</td>\n",
       "    </tr>\n",
       "    <tr>\n",
       "      <th>14</th>\n",
       "      <td>14</td>\n",
       "      <td>1956663836224258664</td>\n",
       "      <td>232</td>\n",
       "      <td>1956663836224258664</td>\n",
       "      <td>1.8068292018907384e+18</td>\n",
       "      <td>jewelry.earring</td>\n",
       "      <td>0.0</td>\n",
       "      <td>97.12</td>\n",
       "    </tr>\n",
       "    <tr>\n",
       "      <th>15</th>\n",
       "      <td>15</td>\n",
       "      <td>1956663830721331445</td>\n",
       "      <td>228</td>\n",
       "      <td>1956663830721331445</td>\n",
       "      <td>1.8068292018907384e+18</td>\n",
       "      <td>jewelry.earring</td>\n",
       "      <td>1.0</td>\n",
       "      <td>83.42</td>\n",
       "    </tr>\n",
       "    <tr>\n",
       "      <th>16</th>\n",
       "      <td>16</td>\n",
       "      <td>1956663836845015466</td>\n",
       "      <td>226</td>\n",
       "      <td>1956663836845015466</td>\n",
       "      <td>1.8068292018487954e+18</td>\n",
       "      <td>nan</td>\n",
       "      <td>0.0</td>\n",
       "      <td>87.21</td>\n",
       "    </tr>\n",
       "  </tbody>\n",
       "</table>\n",
       "</div>"
      ],
      "text/plain": [
       "    rules_index antecedent&consequent  sup_ant&cons           product_id  \\\n",
       "0             0   1515966223577083202           468  1515966223577083202   \n",
       "1             1   1956663847725040099           362  1956663847725040099   \n",
       "2             2   1956663840242401751           301  1956663840242401751   \n",
       "3             3   1956663840309510725           274  1956663840309510725   \n",
       "4             4   1956663830872326617           266  1956663830872326617   \n",
       "5             5   1956663847666319760           266  1956663847666319760   \n",
       "6             6   1352907200745439279           265  1352907200745439279   \n",
       "7             7   1956663836207481430           259  1956663836207481430   \n",
       "8             8   1956663845787271453           258  1956663845787271453   \n",
       "9             9   1956663831283368958           253  1956663831283368958   \n",
       "10           10   1956663831291756567           249  1956663831291756567   \n",
       "11           11   1956663831274980339           248  1956663831274980339   \n",
       "12           12   1956663836392031039           242  1956663836392031039   \n",
       "13           13   1956663831283367940           237  1956663831283367940   \n",
       "14           14   1956663836224258664           232  1956663836224258664   \n",
       "15           15   1956663830721331445           228  1956663830721331445   \n",
       "16           16   1956663836845015466           226  1956663836845015466   \n",
       "\n",
       "               category_id    category_code brand   price  \n",
       "0     1.80682920194107e+18   jewelry.brooch   0.0   10.27  \n",
       "1   1.8068292018823498e+18     jewelry.ring   0.0  200.45  \n",
       "2   1.8068292018823498e+18     jewelry.ring   0.0  259.97  \n",
       "3   1.8068292018823498e+18     jewelry.ring   0.0  133.55  \n",
       "4   1.8068292018487954e+18              nan   0.0  140.62  \n",
       "5   1.8068292018823498e+18     jewelry.ring   0.0   188.7  \n",
       "6   1.8068292018823498e+18     jewelry.ring   0.0  215.14  \n",
       "7   1.8068292018823498e+18     jewelry.ring   0.0  119.77  \n",
       "8   1.8068292018487954e+18              nan   0.0  445.95  \n",
       "9   1.8068292018823498e+18     jewelry.ring   0.0   242.9  \n",
       "10  1.8068292018487954e+18              nan   0.0  229.81  \n",
       "11  1.8068292018907384e+18  jewelry.earring   0.0    88.9  \n",
       "12  1.8068292018487954e+18              nan   0.0  134.29  \n",
       "13  1.8068292018487954e+18              nan   0.0  130.16  \n",
       "14  1.8068292018907384e+18  jewelry.earring   0.0   97.12  \n",
       "15  1.8068292018907384e+18  jewelry.earring   1.0   83.42  \n",
       "16  1.8068292018487954e+18              nan   0.0   87.21  "
      ]
     },
     "execution_count": 108,
     "metadata": {},
     "output_type": "execute_result"
    }
   ],
   "source": [
    "# A minSupRatio of 0.007 means, in case of profitability, that it represents 0.007 of total revenues rspectively profit. We made the profit fo each product equal.\n",
    "# Let's oberserve what kind of items we have found.\n",
    "\n",
    "\n",
    "rules_exploded = rules.explode(\"antecedent&consequent\")[[\"antecedent&consequent\",\"sup_ant&cons\"]]\n",
    "rules_exploded.insert(0,\"rules_index\",rules_exploded.index)\n",
    "\n",
    "\n",
    "rules_labeled = pd.merge(rules_exploded,unique_items, how='inner', left_on = 'antecedent&consequent', right_on = 'product_id').sort_values(\"rules_index\").reset_index(drop=True)\n",
    "\n",
    "\n",
    "rules_labeled.to_excel(\"rules_labeled.xlsx\",index=False)\n",
    "\n",
    "rules_labeled\n"
   ]
  },
  {
   "cell_type": "markdown",
   "metadata": {},
   "source": [
    "#### 3.2 Profit based Association Rules (No limitations on transaction length)"
   ]
  },
  {
   "cell_type": "code",
   "execution_count": 102,
   "metadata": {},
   "outputs": [
    {
     "data": {
      "text/html": [
       "<div>\n",
       "<style scoped>\n",
       "    .dataframe tbody tr th:only-of-type {\n",
       "        vertical-align: middle;\n",
       "    }\n",
       "\n",
       "    .dataframe tbody tr th {\n",
       "        vertical-align: top;\n",
       "    }\n",
       "\n",
       "    .dataframe thead th {\n",
       "        text-align: right;\n",
       "    }\n",
       "</style>\n",
       "<table border=\"1\" class=\"dataframe\">\n",
       "  <thead>\n",
       "    <tr style=\"text-align: right;\">\n",
       "      <th></th>\n",
       "      <th>antecedent</th>\n",
       "      <th>sup_antecedent</th>\n",
       "      <th>consequent</th>\n",
       "      <th>sup_consequent</th>\n",
       "      <th>antecedent&amp;consequent</th>\n",
       "      <th>sup_ant&amp;cons</th>\n",
       "      <th>sup_perc_ant&amp;cons</th>\n",
       "      <th>confidence</th>\n",
       "      <th>lift</th>\n",
       "      <th>improvement</th>\n",
       "      <th>profit_associated</th>\n",
       "      <th>perc_of_total_profit</th>\n",
       "      <th>profit_associated_prev</th>\n",
       "      <th>net_change</th>\n",
       "      <th>profit_last_item</th>\n",
       "      <th>loss_by_change</th>\n",
       "    </tr>\n",
       "  </thead>\n",
       "  <tbody>\n",
       "    <tr>\n",
       "      <th>0</th>\n",
       "      <td>[]</td>\n",
       "      <td>NA</td>\n",
       "      <td>[1806829191514031042]</td>\n",
       "      <td>88</td>\n",
       "      <td>[1806829191514031042]</td>\n",
       "      <td>88</td>\n",
       "      <td>0.001241</td>\n",
       "      <td>NA</td>\n",
       "      <td>NA</td>\n",
       "      <td>NA</td>\n",
       "      <td>247480.52</td>\n",
       "      <td>0.007545</td>\n",
       "      <td>0.0</td>\n",
       "      <td>0.0</td>\n",
       "      <td>247480.52</td>\n",
       "      <td>0.0</td>\n",
       "    </tr>\n",
       "    <tr>\n",
       "      <th>1</th>\n",
       "      <td>[]</td>\n",
       "      <td>NA</td>\n",
       "      <td>[1956663836668854462]</td>\n",
       "      <td>95</td>\n",
       "      <td>[1956663836668854462]</td>\n",
       "      <td>95</td>\n",
       "      <td>0.001339</td>\n",
       "      <td>NA</td>\n",
       "      <td>NA</td>\n",
       "      <td>NA</td>\n",
       "      <td>219755.44</td>\n",
       "      <td>0.006699</td>\n",
       "      <td>0.0</td>\n",
       "      <td>0.0</td>\n",
       "      <td>219755.44</td>\n",
       "      <td>0.0</td>\n",
       "    </tr>\n",
       "    <tr>\n",
       "      <th>2</th>\n",
       "      <td>[]</td>\n",
       "      <td>NA</td>\n",
       "      <td>[1956663836668854461]</td>\n",
       "      <td>159</td>\n",
       "      <td>[1956663836668854461]</td>\n",
       "      <td>159</td>\n",
       "      <td>0.002242</td>\n",
       "      <td>NA</td>\n",
       "      <td>NA</td>\n",
       "      <td>NA</td>\n",
       "      <td>201361.60</td>\n",
       "      <td>0.006139</td>\n",
       "      <td>0.0</td>\n",
       "      <td>0.0</td>\n",
       "      <td>201361.60</td>\n",
       "      <td>0.0</td>\n",
       "    </tr>\n",
       "    <tr>\n",
       "      <th>3</th>\n",
       "      <td>[]</td>\n",
       "      <td>NA</td>\n",
       "      <td>[1956663847708262860]</td>\n",
       "      <td>107</td>\n",
       "      <td>[1956663847708262860]</td>\n",
       "      <td>107</td>\n",
       "      <td>0.001508</td>\n",
       "      <td>NA</td>\n",
       "      <td>NA</td>\n",
       "      <td>NA</td>\n",
       "      <td>184792.21</td>\n",
       "      <td>0.005634</td>\n",
       "      <td>0.0</td>\n",
       "      <td>0.0</td>\n",
       "      <td>184792.21</td>\n",
       "      <td>0.0</td>\n",
       "    </tr>\n",
       "    <tr>\n",
       "      <th>4</th>\n",
       "      <td>[]</td>\n",
       "      <td>NA</td>\n",
       "      <td>[1313614230015967859]</td>\n",
       "      <td>170</td>\n",
       "      <td>[1313614230015967859]</td>\n",
       "      <td>170</td>\n",
       "      <td>0.002397</td>\n",
       "      <td>NA</td>\n",
       "      <td>NA</td>\n",
       "      <td>NA</td>\n",
       "      <td>153674.90</td>\n",
       "      <td>0.004685</td>\n",
       "      <td>0.0</td>\n",
       "      <td>0.0</td>\n",
       "      <td>153674.90</td>\n",
       "      <td>0.0</td>\n",
       "    </tr>\n",
       "    <tr>\n",
       "      <th>...</th>\n",
       "      <td>...</td>\n",
       "      <td>...</td>\n",
       "      <td>...</td>\n",
       "      <td>...</td>\n",
       "      <td>...</td>\n",
       "      <td>...</td>\n",
       "      <td>...</td>\n",
       "      <td>...</td>\n",
       "      <td>...</td>\n",
       "      <td>...</td>\n",
       "      <td>...</td>\n",
       "      <td>...</td>\n",
       "      <td>...</td>\n",
       "      <td>...</td>\n",
       "      <td>...</td>\n",
       "      <td>...</td>\n",
       "    </tr>\n",
       "    <tr>\n",
       "      <th>465</th>\n",
       "      <td>[]</td>\n",
       "      <td>NA</td>\n",
       "      <td>[1956663845778882834]</td>\n",
       "      <td>10</td>\n",
       "      <td>[1956663845778882834]</td>\n",
       "      <td>10</td>\n",
       "      <td>0.000141</td>\n",
       "      <td>NA</td>\n",
       "      <td>NA</td>\n",
       "      <td>NA</td>\n",
       "      <td>16490.40</td>\n",
       "      <td>0.000503</td>\n",
       "      <td>0.0</td>\n",
       "      <td>0.0</td>\n",
       "      <td>16490.40</td>\n",
       "      <td>0.0</td>\n",
       "    </tr>\n",
       "    <tr>\n",
       "      <th>466</th>\n",
       "      <td>[]</td>\n",
       "      <td>NA</td>\n",
       "      <td>[1956663836266201757]</td>\n",
       "      <td>28</td>\n",
       "      <td>[1956663836266201757]</td>\n",
       "      <td>28</td>\n",
       "      <td>0.000395</td>\n",
       "      <td>NA</td>\n",
       "      <td>NA</td>\n",
       "      <td>NA</td>\n",
       "      <td>16489.20</td>\n",
       "      <td>0.000503</td>\n",
       "      <td>0.0</td>\n",
       "      <td>0.0</td>\n",
       "      <td>16489.20</td>\n",
       "      <td>0.0</td>\n",
       "    </tr>\n",
       "    <tr>\n",
       "      <th>467</th>\n",
       "      <td>[]</td>\n",
       "      <td>NA</td>\n",
       "      <td>[1956663831384031398]</td>\n",
       "      <td>34</td>\n",
       "      <td>[1956663831384031398]</td>\n",
       "      <td>34</td>\n",
       "      <td>0.000479</td>\n",
       "      <td>NA</td>\n",
       "      <td>NA</td>\n",
       "      <td>NA</td>\n",
       "      <td>16452.80</td>\n",
       "      <td>0.000502</td>\n",
       "      <td>0.0</td>\n",
       "      <td>0.0</td>\n",
       "      <td>16452.80</td>\n",
       "      <td>0.0</td>\n",
       "    </tr>\n",
       "    <tr>\n",
       "      <th>468</th>\n",
       "      <td>[]</td>\n",
       "      <td>NA</td>\n",
       "      <td>[1515966223512389180]</td>\n",
       "      <td>12</td>\n",
       "      <td>[1515966223512389180]</td>\n",
       "      <td>12</td>\n",
       "      <td>0.000169</td>\n",
       "      <td>NA</td>\n",
       "      <td>NA</td>\n",
       "      <td>NA</td>\n",
       "      <td>16436.76</td>\n",
       "      <td>0.000501</td>\n",
       "      <td>0.0</td>\n",
       "      <td>0.0</td>\n",
       "      <td>16436.76</td>\n",
       "      <td>0.0</td>\n",
       "    </tr>\n",
       "    <tr>\n",
       "      <th>469</th>\n",
       "      <td>[]</td>\n",
       "      <td>NA</td>\n",
       "      <td>[1956663848236745577]</td>\n",
       "      <td>25</td>\n",
       "      <td>[1956663848236745577]</td>\n",
       "      <td>25</td>\n",
       "      <td>0.000352</td>\n",
       "      <td>NA</td>\n",
       "      <td>NA</td>\n",
       "      <td>NA</td>\n",
       "      <td>16435.00</td>\n",
       "      <td>0.000501</td>\n",
       "      <td>0.0</td>\n",
       "      <td>0.0</td>\n",
       "      <td>16435.00</td>\n",
       "      <td>0.0</td>\n",
       "    </tr>\n",
       "  </tbody>\n",
       "</table>\n",
       "<p>470 rows × 16 columns</p>\n",
       "</div>"
      ],
      "text/plain": [
       "    antecedent sup_antecedent             consequent  sup_consequent  \\\n",
       "0           []             NA  [1806829191514031042]              88   \n",
       "1           []             NA  [1956663836668854462]              95   \n",
       "2           []             NA  [1956663836668854461]             159   \n",
       "3           []             NA  [1956663847708262860]             107   \n",
       "4           []             NA  [1313614230015967859]             170   \n",
       "..         ...            ...                    ...             ...   \n",
       "465         []             NA  [1956663845778882834]              10   \n",
       "466         []             NA  [1956663836266201757]              28   \n",
       "467         []             NA  [1956663831384031398]              34   \n",
       "468         []             NA  [1515966223512389180]              12   \n",
       "469         []             NA  [1956663848236745577]              25   \n",
       "\n",
       "     antecedent&consequent  sup_ant&cons  sup_perc_ant&cons confidence lift  \\\n",
       "0    [1806829191514031042]            88           0.001241         NA   NA   \n",
       "1    [1956663836668854462]            95           0.001339         NA   NA   \n",
       "2    [1956663836668854461]           159           0.002242         NA   NA   \n",
       "3    [1956663847708262860]           107           0.001508         NA   NA   \n",
       "4    [1313614230015967859]           170           0.002397         NA   NA   \n",
       "..                     ...           ...                ...        ...  ...   \n",
       "465  [1956663845778882834]            10           0.000141         NA   NA   \n",
       "466  [1956663836266201757]            28           0.000395         NA   NA   \n",
       "467  [1956663831384031398]            34           0.000479         NA   NA   \n",
       "468  [1515966223512389180]            12           0.000169         NA   NA   \n",
       "469  [1956663848236745577]            25           0.000352         NA   NA   \n",
       "\n",
       "    improvement  profit_associated  perc_of_total_profit  \\\n",
       "0            NA          247480.52              0.007545   \n",
       "1            NA          219755.44              0.006699   \n",
       "2            NA          201361.60              0.006139   \n",
       "3            NA          184792.21              0.005634   \n",
       "4            NA          153674.90              0.004685   \n",
       "..          ...                ...                   ...   \n",
       "465          NA           16490.40              0.000503   \n",
       "466          NA           16489.20              0.000503   \n",
       "467          NA           16452.80              0.000502   \n",
       "468          NA           16436.76              0.000501   \n",
       "469          NA           16435.00              0.000501   \n",
       "\n",
       "     profit_associated_prev  net_change  profit_last_item  loss_by_change  \n",
       "0                       0.0         0.0         247480.52             0.0  \n",
       "1                       0.0         0.0         219755.44             0.0  \n",
       "2                       0.0         0.0         201361.60             0.0  \n",
       "3                       0.0         0.0         184792.21             0.0  \n",
       "4                       0.0         0.0         153674.90             0.0  \n",
       "..                      ...         ...               ...             ...  \n",
       "465                     0.0         0.0          16490.40             0.0  \n",
       "466                     0.0         0.0          16489.20             0.0  \n",
       "467                     0.0         0.0          16452.80             0.0  \n",
       "468                     0.0         0.0          16436.76             0.0  \n",
       "469                     0.0         0.0          16435.00             0.0  \n",
       "\n",
       "[470 rows x 16 columns]"
      ]
     },
     "execution_count": 102,
     "metadata": {},
     "output_type": "execute_result"
    }
   ],
   "source": [
    "import modified_fp_growth_algorithm.modified_fp_growth_latest as mod_fp_growth\n",
    "\n",
    "#For better trackingI take price instead of profit as profit, because tracking ius easier and at moment I anyway just multiply by 0.1 for profit\n",
    "# We see how \"super efficient it is, only 6.8 seconds for 13k rules inclduing writing to Excel\"\n",
    "rules = mod_fp_growth.fpgrowthFromDataFrame(\\\n",
    "    data,\n",
    "    minSupRatio=0.0005,\n",
    "    maxSupRatio=1,\n",
    "    minConf=0,\n",
    "    item_col=1,\n",
    "    profit_col=3,\n",
    "    max_profit = max_profit,\n",
    "    profit_sensitivity = lambda x : 1 * x\n",
    "    )\n",
    "    \n",
    "rules.to_excel(\"fp_groth_out.xlsx\",index=False) \n",
    "rules\n"
   ]
  },
  {
   "cell_type": "code",
   "execution_count": 103,
   "metadata": {},
   "outputs": [
    {
     "data": {
      "text/html": [
       "<div>\n",
       "<style scoped>\n",
       "    .dataframe tbody tr th:only-of-type {\n",
       "        vertical-align: middle;\n",
       "    }\n",
       "\n",
       "    .dataframe tbody tr th {\n",
       "        vertical-align: top;\n",
       "    }\n",
       "\n",
       "    .dataframe thead th {\n",
       "        text-align: right;\n",
       "    }\n",
       "</style>\n",
       "<table border=\"1\" class=\"dataframe\">\n",
       "  <thead>\n",
       "    <tr style=\"text-align: right;\">\n",
       "      <th></th>\n",
       "      <th>rules_index</th>\n",
       "      <th>antecedent&amp;consequent</th>\n",
       "      <th>sup_ant&amp;cons</th>\n",
       "      <th>profit_associated</th>\n",
       "      <th>perc_of_total_profit</th>\n",
       "      <th>product_id</th>\n",
       "      <th>category_id</th>\n",
       "      <th>category_code</th>\n",
       "      <th>brand</th>\n",
       "      <th>price</th>\n",
       "    </tr>\n",
       "  </thead>\n",
       "  <tbody>\n",
       "    <tr>\n",
       "      <th>0</th>\n",
       "      <td>0</td>\n",
       "      <td>1806829191514031042</td>\n",
       "      <td>88</td>\n",
       "      <td>247480.52</td>\n",
       "      <td>0.007545</td>\n",
       "      <td>1806829191514031042</td>\n",
       "      <td>1.8068292018487954e+18</td>\n",
       "      <td>nan</td>\n",
       "      <td>0.0</td>\n",
       "      <td>2780.68</td>\n",
       "    </tr>\n",
       "    <tr>\n",
       "      <th>1</th>\n",
       "      <td>1</td>\n",
       "      <td>1956663836668854462</td>\n",
       "      <td>95</td>\n",
       "      <td>219755.44</td>\n",
       "      <td>0.006699</td>\n",
       "      <td>1956663836668854462</td>\n",
       "      <td>1.8068292018487954e+18</td>\n",
       "      <td>nan</td>\n",
       "      <td>0.0</td>\n",
       "      <td>2265.52</td>\n",
       "    </tr>\n",
       "    <tr>\n",
       "      <th>2</th>\n",
       "      <td>2</td>\n",
       "      <td>1956663836668854461</td>\n",
       "      <td>159</td>\n",
       "      <td>201361.60</td>\n",
       "      <td>0.006139</td>\n",
       "      <td>1956663836668854461</td>\n",
       "      <td>1.8068292018487954e+18</td>\n",
       "      <td>nan</td>\n",
       "      <td>0.0</td>\n",
       "      <td>1258.51</td>\n",
       "    </tr>\n",
       "    <tr>\n",
       "      <th>3</th>\n",
       "      <td>3</td>\n",
       "      <td>1956663847708262860</td>\n",
       "      <td>107</td>\n",
       "      <td>184792.21</td>\n",
       "      <td>0.005634</td>\n",
       "      <td>1956663847708262860</td>\n",
       "      <td>1.8068292018487954e+18</td>\n",
       "      <td>nan</td>\n",
       "      <td>0.0</td>\n",
       "      <td>1727.03</td>\n",
       "    </tr>\n",
       "    <tr>\n",
       "      <th>4</th>\n",
       "      <td>4</td>\n",
       "      <td>1313614230015967859</td>\n",
       "      <td>170</td>\n",
       "      <td>153674.90</td>\n",
       "      <td>0.004685</td>\n",
       "      <td>1313614230015967859</td>\n",
       "      <td>1.8068292018907384e+18</td>\n",
       "      <td>jewelry.earring</td>\n",
       "      <td>1.0</td>\n",
       "      <td>903.97</td>\n",
       "    </tr>\n",
       "    <tr>\n",
       "      <th>5</th>\n",
       "      <td>5</td>\n",
       "      <td>1956663831425974504</td>\n",
       "      <td>111</td>\n",
       "      <td>153430.27</td>\n",
       "      <td>0.004677</td>\n",
       "      <td>1956663831425974504</td>\n",
       "      <td>1.8068292018487954e+18</td>\n",
       "      <td>nan</td>\n",
       "      <td>0.0</td>\n",
       "      <td>1357.79</td>\n",
       "    </tr>\n",
       "    <tr>\n",
       "      <th>6</th>\n",
       "      <td>6</td>\n",
       "      <td>1956663831375642763</td>\n",
       "      <td>129</td>\n",
       "      <td>135714.53</td>\n",
       "      <td>0.004137</td>\n",
       "      <td>1956663831375642763</td>\n",
       "      <td>1.8068292018823498e+18</td>\n",
       "      <td>jewelry.ring</td>\n",
       "      <td>0.0</td>\n",
       "      <td>1020.41</td>\n",
       "    </tr>\n",
       "    <tr>\n",
       "      <th>7</th>\n",
       "      <td>7</td>\n",
       "      <td>1515966223500113689</td>\n",
       "      <td>5</td>\n",
       "      <td>132122.60</td>\n",
       "      <td>0.004028</td>\n",
       "      <td>1515966223500113689</td>\n",
       "      <td>1.8068292018823498e+18</td>\n",
       "      <td>jewelry.ring</td>\n",
       "      <td>0.0</td>\n",
       "      <td>26424.52</td>\n",
       "    </tr>\n",
       "    <tr>\n",
       "      <th>8</th>\n",
       "      <td>8</td>\n",
       "      <td>1944945390285488528</td>\n",
       "      <td>221</td>\n",
       "      <td>122845.30</td>\n",
       "      <td>0.003745</td>\n",
       "      <td>1944945390285488528</td>\n",
       "      <td>1.8068292018823498e+18</td>\n",
       "      <td>jewelry.ring</td>\n",
       "      <td>1.0</td>\n",
       "      <td>534.11</td>\n",
       "    </tr>\n",
       "    <tr>\n",
       "      <th>9</th>\n",
       "      <td>9</td>\n",
       "      <td>1956663846449972073</td>\n",
       "      <td>146</td>\n",
       "      <td>121057.36</td>\n",
       "      <td>0.003691</td>\n",
       "      <td>1956663846449972073</td>\n",
       "      <td>1.8068292018487954e+18</td>\n",
       "      <td>nan</td>\n",
       "      <td>0.0</td>\n",
       "      <td>829.16</td>\n",
       "    </tr>\n",
       "    <tr>\n",
       "      <th>10</th>\n",
       "      <td>10</td>\n",
       "      <td>1956663845787271453</td>\n",
       "      <td>258</td>\n",
       "      <td>115947.00</td>\n",
       "      <td>0.003535</td>\n",
       "      <td>1956663845787271453</td>\n",
       "      <td>1.8068292018487954e+18</td>\n",
       "      <td>nan</td>\n",
       "      <td>0.0</td>\n",
       "      <td>445.95</td>\n",
       "    </tr>\n",
       "    <tr>\n",
       "      <th>11</th>\n",
       "      <td>11</td>\n",
       "      <td>1956663836769517900</td>\n",
       "      <td>187</td>\n",
       "      <td>113425.02</td>\n",
       "      <td>0.003458</td>\n",
       "      <td>1956663836769517900</td>\n",
       "      <td>1.8068292018823498e+18</td>\n",
       "      <td>jewelry.ring</td>\n",
       "      <td>0.0</td>\n",
       "      <td>561.51</td>\n",
       "    </tr>\n",
       "    <tr>\n",
       "      <th>12</th>\n",
       "      <td>12</td>\n",
       "      <td>1937902773722939556</td>\n",
       "      <td>131</td>\n",
       "      <td>112139.93</td>\n",
       "      <td>0.003419</td>\n",
       "      <td>1937902773722939556</td>\n",
       "      <td>1.8068292018907384e+18</td>\n",
       "      <td>jewelry.earring</td>\n",
       "      <td>1.0</td>\n",
       "      <td>856.03</td>\n",
       "    </tr>\n",
       "    <tr>\n",
       "      <th>13</th>\n",
       "      <td>13</td>\n",
       "      <td>1956663840242401751</td>\n",
       "      <td>301</td>\n",
       "      <td>111267.16</td>\n",
       "      <td>0.003392</td>\n",
       "      <td>1956663840242401751</td>\n",
       "      <td>1.8068292018823498e+18</td>\n",
       "      <td>jewelry.ring</td>\n",
       "      <td>0.0</td>\n",
       "      <td>259.97</td>\n",
       "    </tr>\n",
       "    <tr>\n",
       "      <th>14</th>\n",
       "      <td>14</td>\n",
       "      <td>1956663845678219397</td>\n",
       "      <td>104</td>\n",
       "      <td>111224.69</td>\n",
       "      <td>0.003391</td>\n",
       "      <td>1956663845678219397</td>\n",
       "      <td>1.8068292018823498e+18</td>\n",
       "      <td>jewelry.ring</td>\n",
       "      <td>0.0</td>\n",
       "      <td>1020.41</td>\n",
       "    </tr>\n",
       "  </tbody>\n",
       "</table>\n",
       "</div>"
      ],
      "text/plain": [
       "    rules_index antecedent&consequent  sup_ant&cons  profit_associated  \\\n",
       "0             0   1806829191514031042            88          247480.52   \n",
       "1             1   1956663836668854462            95          219755.44   \n",
       "2             2   1956663836668854461           159          201361.60   \n",
       "3             3   1956663847708262860           107          184792.21   \n",
       "4             4   1313614230015967859           170          153674.90   \n",
       "5             5   1956663831425974504           111          153430.27   \n",
       "6             6   1956663831375642763           129          135714.53   \n",
       "7             7   1515966223500113689             5          132122.60   \n",
       "8             8   1944945390285488528           221          122845.30   \n",
       "9             9   1956663846449972073           146          121057.36   \n",
       "10           10   1956663845787271453           258          115947.00   \n",
       "11           11   1956663836769517900           187          113425.02   \n",
       "12           12   1937902773722939556           131          112139.93   \n",
       "13           13   1956663840242401751           301          111267.16   \n",
       "14           14   1956663845678219397           104          111224.69   \n",
       "\n",
       "    perc_of_total_profit           product_id             category_id  \\\n",
       "0               0.007545  1806829191514031042  1.8068292018487954e+18   \n",
       "1               0.006699  1956663836668854462  1.8068292018487954e+18   \n",
       "2               0.006139  1956663836668854461  1.8068292018487954e+18   \n",
       "3               0.005634  1956663847708262860  1.8068292018487954e+18   \n",
       "4               0.004685  1313614230015967859  1.8068292018907384e+18   \n",
       "5               0.004677  1956663831425974504  1.8068292018487954e+18   \n",
       "6               0.004137  1956663831375642763  1.8068292018823498e+18   \n",
       "7               0.004028  1515966223500113689  1.8068292018823498e+18   \n",
       "8               0.003745  1944945390285488528  1.8068292018823498e+18   \n",
       "9               0.003691  1956663846449972073  1.8068292018487954e+18   \n",
       "10              0.003535  1956663845787271453  1.8068292018487954e+18   \n",
       "11              0.003458  1956663836769517900  1.8068292018823498e+18   \n",
       "12              0.003419  1937902773722939556  1.8068292018907384e+18   \n",
       "13              0.003392  1956663840242401751  1.8068292018823498e+18   \n",
       "14              0.003391  1956663845678219397  1.8068292018823498e+18   \n",
       "\n",
       "      category_code brand     price  \n",
       "0               nan   0.0   2780.68  \n",
       "1               nan   0.0   2265.52  \n",
       "2               nan   0.0   1258.51  \n",
       "3               nan   0.0   1727.03  \n",
       "4   jewelry.earring   1.0    903.97  \n",
       "5               nan   0.0   1357.79  \n",
       "6      jewelry.ring   0.0   1020.41  \n",
       "7      jewelry.ring   0.0  26424.52  \n",
       "8      jewelry.ring   1.0    534.11  \n",
       "9               nan   0.0    829.16  \n",
       "10              nan   0.0    445.95  \n",
       "11     jewelry.ring   0.0    561.51  \n",
       "12  jewelry.earring   1.0    856.03  \n",
       "13     jewelry.ring   0.0    259.97  \n",
       "14     jewelry.ring   0.0   1020.41  "
      ]
     },
     "execution_count": 103,
     "metadata": {},
     "output_type": "execute_result"
    }
   ],
   "source": [
    "# A minSupRatio of 0.007 means, in case of profitability, that it represents 0.007 of total revenues rspectively profit. We made the profit fo each product equal.\n",
    "# Let's oberserve what kind of items we have found.\n",
    "\n",
    "\n",
    "rules_exploded = rules.explode(\"antecedent&consequent\")[[\"antecedent&consequent\",\"sup_ant&cons\",\"profit_associated\",\"perc_of_total_profit\"]]\n",
    "rules_exploded.insert(0,\"rules_index\",rules_exploded.index)\n",
    "\n",
    "rules_labeled =pd.merge(rules_exploded,unique_items, how=\"inner\", left_on=\"antecedent&consequent\",right_on=\"product_id\").sort_values(\"rules_index\").reset_index(drop=True)\n",
    "\n",
    "rules_labeled.to_excel(\"rules_labeled.xlsx\",index=False)\n",
    "\n",
    "rules_labeled.head(15)\n"
   ]
  },
  {
   "cell_type": "markdown",
   "metadata": {},
   "source": [
    "#### 3.2 Profit based Association Rules (Limitations on transaction length as 2)"
   ]
  },
  {
   "cell_type": "code",
   "execution_count": 104,
   "metadata": {},
   "outputs": [
    {
     "data": {
      "text/html": [
       "<div>\n",
       "<style scoped>\n",
       "    .dataframe tbody tr th:only-of-type {\n",
       "        vertical-align: middle;\n",
       "    }\n",
       "\n",
       "    .dataframe tbody tr th {\n",
       "        vertical-align: top;\n",
       "    }\n",
       "\n",
       "    .dataframe thead th {\n",
       "        text-align: right;\n",
       "    }\n",
       "</style>\n",
       "<table border=\"1\" class=\"dataframe\">\n",
       "  <thead>\n",
       "    <tr style=\"text-align: right;\">\n",
       "      <th></th>\n",
       "      <th>antecedent</th>\n",
       "      <th>sup_antecedent</th>\n",
       "      <th>consequent</th>\n",
       "      <th>sup_consequent</th>\n",
       "      <th>antecedent&amp;consequent</th>\n",
       "      <th>sup_ant&amp;cons</th>\n",
       "      <th>sup_perc_ant&amp;cons</th>\n",
       "      <th>confidence</th>\n",
       "      <th>lift</th>\n",
       "      <th>improvement</th>\n",
       "      <th>profit_associated</th>\n",
       "      <th>perc_of_total_profit</th>\n",
       "      <th>profit_associated_prev</th>\n",
       "      <th>net_change</th>\n",
       "      <th>profit_last_item</th>\n",
       "      <th>loss_by_change</th>\n",
       "    </tr>\n",
       "  </thead>\n",
       "  <tbody>\n",
       "    <tr>\n",
       "      <th>0</th>\n",
       "      <td>[1944945390285488528]</td>\n",
       "      <td>221</td>\n",
       "      <td>[1313614230015967859]</td>\n",
       "      <td>170</td>\n",
       "      <td>[1944945390285488528, 1313614230015967859]</td>\n",
       "      <td>51</td>\n",
       "      <td>0.000719</td>\n",
       "      <td>0.230769</td>\n",
       "      <td>96.289140</td>\n",
       "      <td>0.228373</td>\n",
       "      <td>74451.385385</td>\n",
       "      <td>0.002270</td>\n",
       "      <td>122845.300000</td>\n",
       "      <td>-48393.914615</td>\n",
       "      <td>46102.470000</td>\n",
       "      <td>-94496.384615</td>\n",
       "    </tr>\n",
       "    <tr>\n",
       "      <th>1</th>\n",
       "      <td>[1944422271028298685]</td>\n",
       "      <td>154</td>\n",
       "      <td>[1937902773722939556]</td>\n",
       "      <td>131</td>\n",
       "      <td>[1944422271028298685, 1937902773722939556]</td>\n",
       "      <td>34</td>\n",
       "      <td>0.000479</td>\n",
       "      <td>0.220779</td>\n",
       "      <td>119.546049</td>\n",
       "      <td>0.218932</td>\n",
       "      <td>46846.977273</td>\n",
       "      <td>0.001428</td>\n",
       "      <td>80360.630000</td>\n",
       "      <td>-33513.652727</td>\n",
       "      <td>29105.020000</td>\n",
       "      <td>-62618.672727</td>\n",
       "    </tr>\n",
       "    <tr>\n",
       "      <th>2</th>\n",
       "      <td>[1956663846340920038]</td>\n",
       "      <td>43</td>\n",
       "      <td>[1956663845602721816]</td>\n",
       "      <td>34</td>\n",
       "      <td>[1956663846340920038, 1956663845602721816]</td>\n",
       "      <td>16</td>\n",
       "      <td>0.000226</td>\n",
       "      <td>0.372093</td>\n",
       "      <td>776.284542</td>\n",
       "      <td>0.371614</td>\n",
       "      <td>36891.263256</td>\n",
       "      <td>0.001125</td>\n",
       "      <td>47610.200000</td>\n",
       "      <td>-10718.936744</td>\n",
       "      <td>19175.840000</td>\n",
       "      <td>-29894.776744</td>\n",
       "    </tr>\n",
       "    <tr>\n",
       "      <th>3</th>\n",
       "      <td>[1860421116053422140]</td>\n",
       "      <td>73</td>\n",
       "      <td>[1845870160691331313]</td>\n",
       "      <td>58</td>\n",
       "      <td>[1860421116053422140, 1845870160691331313]</td>\n",
       "      <td>18</td>\n",
       "      <td>0.000254</td>\n",
       "      <td>0.246575</td>\n",
       "      <td>301.557393</td>\n",
       "      <td>0.245758</td>\n",
       "      <td>36455.853699</td>\n",
       "      <td>0.001111</td>\n",
       "      <td>54359.100000</td>\n",
       "      <td>-17903.246301</td>\n",
       "      <td>23052.240000</td>\n",
       "      <td>-40955.486301</td>\n",
       "    </tr>\n",
       "    <tr>\n",
       "      <th>4</th>\n",
       "      <td>[1956663836668854462]</td>\n",
       "      <td>95</td>\n",
       "      <td>[1806829191514031042]</td>\n",
       "      <td>88</td>\n",
       "      <td>[1806829191514031042, 1956663836668854462]</td>\n",
       "      <td>7</td>\n",
       "      <td>0.000099</td>\n",
       "      <td>0.073684</td>\n",
       "      <td>59.393660</td>\n",
       "      <td>0.072444</td>\n",
       "      <td>35878.456560</td>\n",
       "      <td>0.001094</td>\n",
       "      <td>219755.440000</td>\n",
       "      <td>-183876.983440</td>\n",
       "      <td>19685.950455</td>\n",
       "      <td>-203562.933895</td>\n",
       "    </tr>\n",
       "    <tr>\n",
       "      <th>5</th>\n",
       "      <td>[1313614230015967859]</td>\n",
       "      <td>170</td>\n",
       "      <td>[1343446704099164925]</td>\n",
       "      <td>90</td>\n",
       "      <td>[1343446704099164925, 1313614230015967859]</td>\n",
       "      <td>26</td>\n",
       "      <td>0.000367</td>\n",
       "      <td>0.152941</td>\n",
       "      <td>120.539739</td>\n",
       "      <td>0.151672</td>\n",
       "      <td>34184.540000</td>\n",
       "      <td>0.001042</td>\n",
       "      <td>153674.900000</td>\n",
       "      <td>-119490.360000</td>\n",
       "      <td>10681.320000</td>\n",
       "      <td>-130171.680000</td>\n",
       "    </tr>\n",
       "    <tr>\n",
       "      <th>6</th>\n",
       "      <td>[1956663845736939738]</td>\n",
       "      <td>74</td>\n",
       "      <td>[1956663836392031040]</td>\n",
       "      <td>55</td>\n",
       "      <td>[1956663845736939738, 1956663836392031040]</td>\n",
       "      <td>17</td>\n",
       "      <td>0.000240</td>\n",
       "      <td>0.229730</td>\n",
       "      <td>296.280344</td>\n",
       "      <td>0.228954</td>\n",
       "      <td>32443.744189</td>\n",
       "      <td>0.000989</td>\n",
       "      <td>45441.590000</td>\n",
       "      <td>-12997.845811</td>\n",
       "      <td>22004.460000</td>\n",
       "      <td>-35002.305811</td>\n",
       "    </tr>\n",
       "    <tr>\n",
       "      <th>7</th>\n",
       "      <td>[1956663845812437315]</td>\n",
       "      <td>36</td>\n",
       "      <td>[1956663845778882836]</td>\n",
       "      <td>17</td>\n",
       "      <td>[1956663845812437315, 1956663845778882836]</td>\n",
       "      <td>7</td>\n",
       "      <td>0.000099</td>\n",
       "      <td>0.194444</td>\n",
       "      <td>811.325163</td>\n",
       "      <td>0.194205</td>\n",
       "      <td>30057.025833</td>\n",
       "      <td>0.000916</td>\n",
       "      <td>63351.030000</td>\n",
       "      <td>-33294.004167</td>\n",
       "      <td>17738.770000</td>\n",
       "      <td>-51032.774167</td>\n",
       "    </tr>\n",
       "    <tr>\n",
       "      <th>8</th>\n",
       "      <td>[1956663840225624514]</td>\n",
       "      <td>96</td>\n",
       "      <td>[1956663836257813138]</td>\n",
       "      <td>77</td>\n",
       "      <td>[1956663840225624514, 1956663836257813138]</td>\n",
       "      <td>19</td>\n",
       "      <td>0.000268</td>\n",
       "      <td>0.197917</td>\n",
       "      <td>182.322376</td>\n",
       "      <td>0.196831</td>\n",
       "      <td>28253.463125</td>\n",
       "      <td>0.000861</td>\n",
       "      <td>69123.300000</td>\n",
       "      <td>-40869.836875</td>\n",
       "      <td>14572.810000</td>\n",
       "      <td>-55442.646875</td>\n",
       "    </tr>\n",
       "    <tr>\n",
       "      <th>9</th>\n",
       "      <td>[1944945390285488528, 1313614230015967859]</td>\n",
       "      <td>51</td>\n",
       "      <td>[1343446704099164925]</td>\n",
       "      <td>90</td>\n",
       "      <td>[1944945390285488528, 1343446704099164925, 131...</td>\n",
       "      <td>15</td>\n",
       "      <td>0.000211</td>\n",
       "      <td>0.294118</td>\n",
       "      <td>231.807190</td>\n",
       "      <td>0.292849</td>\n",
       "      <td>28059.766290</td>\n",
       "      <td>0.000855</td>\n",
       "      <td>74451.385385</td>\n",
       "      <td>-46391.619095</td>\n",
       "      <td>6162.300000</td>\n",
       "      <td>-52553.919095</td>\n",
       "    </tr>\n",
       "    <tr>\n",
       "      <th>10</th>\n",
       "      <td>[1956663836274590384]</td>\n",
       "      <td>68</td>\n",
       "      <td>[1515966223500113689]</td>\n",
       "      <td>5</td>\n",
       "      <td>[1515966223500113689, 1956663836274590384]</td>\n",
       "      <td>1</td>\n",
       "      <td>0.000014</td>\n",
       "      <td>0.014706</td>\n",
       "      <td>208.626471</td>\n",
       "      <td>0.014635</td>\n",
       "      <td>26769.867059</td>\n",
       "      <td>0.000816</td>\n",
       "      <td>23483.600000</td>\n",
       "      <td>3286.267059</td>\n",
       "      <td>26424.520000</td>\n",
       "      <td>-23138.252941</td>\n",
       "    </tr>\n",
       "    <tr>\n",
       "      <th>11</th>\n",
       "      <td>[1956663831300145188]</td>\n",
       "      <td>71</td>\n",
       "      <td>[1515966223500113689]</td>\n",
       "      <td>5</td>\n",
       "      <td>[1515966223500113689, 1956663831300145188]</td>\n",
       "      <td>1</td>\n",
       "      <td>0.000014</td>\n",
       "      <td>0.014085</td>\n",
       "      <td>199.811268</td>\n",
       "      <td>0.014014</td>\n",
       "      <td>26669.590000</td>\n",
       "      <td>0.000813</td>\n",
       "      <td>17399.970000</td>\n",
       "      <td>9269.620000</td>\n",
       "      <td>26424.520000</td>\n",
       "      <td>-17154.900000</td>\n",
       "    </tr>\n",
       "    <tr>\n",
       "      <th>12</th>\n",
       "      <td>[1937902773722939556]</td>\n",
       "      <td>131</td>\n",
       "      <td>[1316869404377481980]</td>\n",
       "      <td>66</td>\n",
       "      <td>[1316869404377481980, 1937902773722939556]</td>\n",
       "      <td>20</td>\n",
       "      <td>0.000282</td>\n",
       "      <td>0.152672</td>\n",
       "      <td>164.082813</td>\n",
       "      <td>0.151741</td>\n",
       "      <td>24789.000000</td>\n",
       "      <td>0.000756</td>\n",
       "      <td>112139.930000</td>\n",
       "      <td>-87350.930000</td>\n",
       "      <td>7668.400000</td>\n",
       "      <td>-95019.330000</td>\n",
       "    </tr>\n",
       "    <tr>\n",
       "      <th>13</th>\n",
       "      <td>[1956663836668854461]</td>\n",
       "      <td>159</td>\n",
       "      <td>[1956663836408808278]</td>\n",
       "      <td>71</td>\n",
       "      <td>[1956663836668854461, 1956663836408808278]</td>\n",
       "      <td>10</td>\n",
       "      <td>0.000141</td>\n",
       "      <td>0.062893</td>\n",
       "      <td>62.833732</td>\n",
       "      <td>0.061892</td>\n",
       "      <td>22668.451572</td>\n",
       "      <td>0.000691</td>\n",
       "      <td>201361.600000</td>\n",
       "      <td>-178693.148428</td>\n",
       "      <td>10004.200000</td>\n",
       "      <td>-188697.348428</td>\n",
       "    </tr>\n",
       "    <tr>\n",
       "      <th>14</th>\n",
       "      <td>[1956663848186413865]</td>\n",
       "      <td>103</td>\n",
       "      <td>[1515966222931786051]</td>\n",
       "      <td>94</td>\n",
       "      <td>[1956663848186413865, 1515966222931786051]</td>\n",
       "      <td>14</td>\n",
       "      <td>0.000197</td>\n",
       "      <td>0.135922</td>\n",
       "      <td>102.567858</td>\n",
       "      <td>0.134597</td>\n",
       "      <td>22177.912557</td>\n",
       "      <td>0.000676</td>\n",
       "      <td>100026.030000</td>\n",
       "      <td>-77848.117443</td>\n",
       "      <td>8582.141489</td>\n",
       "      <td>-86430.258932</td>\n",
       "    </tr>\n",
       "    <tr>\n",
       "      <th>15</th>\n",
       "      <td>[1944945390285488528]</td>\n",
       "      <td>221</td>\n",
       "      <td>[1343446704099164925]</td>\n",
       "      <td>90</td>\n",
       "      <td>[1944945390285488528, 1343446704099164925]</td>\n",
       "      <td>22</td>\n",
       "      <td>0.000310</td>\n",
       "      <td>0.099548</td>\n",
       "      <td>78.457818</td>\n",
       "      <td>0.098279</td>\n",
       "      <td>21266.983891</td>\n",
       "      <td>0.000648</td>\n",
       "      <td>122845.300000</td>\n",
       "      <td>-101578.316109</td>\n",
       "      <td>9038.040000</td>\n",
       "      <td>-110616.356109</td>\n",
       "    </tr>\n",
       "    <tr>\n",
       "      <th>16</th>\n",
       "      <td>[1515966223600448031]</td>\n",
       "      <td>7</td>\n",
       "      <td>[1515966223593622392]</td>\n",
       "      <td>6</td>\n",
       "      <td>[1515966223593622392, 1515966223600448031]</td>\n",
       "      <td>3</td>\n",
       "      <td>0.000042</td>\n",
       "      <td>0.428571</td>\n",
       "      <td>5066.642857</td>\n",
       "      <td>0.428487</td>\n",
       "      <td>20843.850000</td>\n",
       "      <td>0.000635</td>\n",
       "      <td>17010.980000</td>\n",
       "      <td>3832.870000</td>\n",
       "      <td>13553.430000</td>\n",
       "      <td>-9720.560000</td>\n",
       "    </tr>\n",
       "    <tr>\n",
       "      <th>17</th>\n",
       "      <td>[1956663847708262860]</td>\n",
       "      <td>107</td>\n",
       "      <td>[1956663836668854462]</td>\n",
       "      <td>95</td>\n",
       "      <td>[1956663847708262860, 1956663836668854462]</td>\n",
       "      <td>5</td>\n",
       "      <td>0.000070</td>\n",
       "      <td>0.046729</td>\n",
       "      <td>34.890802</td>\n",
       "      <td>0.045390</td>\n",
       "      <td>20201.225789</td>\n",
       "      <td>0.000616</td>\n",
       "      <td>184792.210000</td>\n",
       "      <td>-164590.984211</td>\n",
       "      <td>11566.075789</td>\n",
       "      <td>-176157.060000</td>\n",
       "    </tr>\n",
       "    <tr>\n",
       "      <th>18</th>\n",
       "      <td>[1806829192545829230]</td>\n",
       "      <td>32</td>\n",
       "      <td>[1956663847800537677]</td>\n",
       "      <td>22</td>\n",
       "      <td>[1956663847800537677, 1806829192545829230]</td>\n",
       "      <td>9</td>\n",
       "      <td>0.000127</td>\n",
       "      <td>0.281250</td>\n",
       "      <td>906.813920</td>\n",
       "      <td>0.280940</td>\n",
       "      <td>20024.071875</td>\n",
       "      <td>0.000610</td>\n",
       "      <td>28022.940000</td>\n",
       "      <td>-7998.868125</td>\n",
       "      <td>12142.620000</td>\n",
       "      <td>-20141.488125</td>\n",
       "    </tr>\n",
       "    <tr>\n",
       "      <th>19</th>\n",
       "      <td>[1956663845384618779]</td>\n",
       "      <td>38</td>\n",
       "      <td>[1956663847808926293]</td>\n",
       "      <td>28</td>\n",
       "      <td>[1956663847808926293, 1956663845384618779]</td>\n",
       "      <td>9</td>\n",
       "      <td>0.000127</td>\n",
       "      <td>0.236842</td>\n",
       "      <td>599.997180</td>\n",
       "      <td>0.236447</td>\n",
       "      <td>19214.128421</td>\n",
       "      <td>0.000586</td>\n",
       "      <td>40268.340000</td>\n",
       "      <td>-21054.211579</td>\n",
       "      <td>9676.890000</td>\n",
       "      <td>-30731.101579</td>\n",
       "    </tr>\n",
       "    <tr>\n",
       "      <th>20</th>\n",
       "      <td>[1956663831266591724]</td>\n",
       "      <td>42</td>\n",
       "      <td>[1956663830905881094]</td>\n",
       "      <td>33</td>\n",
       "      <td>[1956663830905881094, 1956663831266591724]</td>\n",
       "      <td>7</td>\n",
       "      <td>0.000099</td>\n",
       "      <td>0.166667</td>\n",
       "      <td>358.247475</td>\n",
       "      <td>0.166201</td>\n",
       "      <td>18792.620000</td>\n",
       "      <td>0.000573</td>\n",
       "      <td>43144.920000</td>\n",
       "      <td>-24352.300000</td>\n",
       "      <td>11601.800000</td>\n",
       "      <td>-35954.100000</td>\n",
       "    </tr>\n",
       "    <tr>\n",
       "      <th>21</th>\n",
       "      <td>[1515966223589120812]</td>\n",
       "      <td>17</td>\n",
       "      <td>[1515966223589118288]</td>\n",
       "      <td>15</td>\n",
       "      <td>[1515966223589118288, 1515966223589120812]</td>\n",
       "      <td>5</td>\n",
       "      <td>0.000070</td>\n",
       "      <td>0.294118</td>\n",
       "      <td>1390.843137</td>\n",
       "      <td>0.293906</td>\n",
       "      <td>18445.200000</td>\n",
       "      <td>0.000562</td>\n",
       "      <td>42779.480000</td>\n",
       "      <td>-24334.280000</td>\n",
       "      <td>5863.000000</td>\n",
       "      <td>-30197.280000</td>\n",
       "    </tr>\n",
       "    <tr>\n",
       "      <th>22</th>\n",
       "      <td>[1956663848119304910]</td>\n",
       "      <td>53</td>\n",
       "      <td>[1956663840376619684]</td>\n",
       "      <td>21</td>\n",
       "      <td>[1956663840376619684, 1956663848119304910]</td>\n",
       "      <td>12</td>\n",
       "      <td>0.000169</td>\n",
       "      <td>0.226415</td>\n",
       "      <td>764.776280</td>\n",
       "      <td>0.226119</td>\n",
       "      <td>18072.661132</td>\n",
       "      <td>0.000551</td>\n",
       "      <td>33362.180000</td>\n",
       "      <td>-15289.518868</td>\n",
       "      <td>10518.960000</td>\n",
       "      <td>-25808.478868</td>\n",
       "    </tr>\n",
       "    <tr>\n",
       "      <th>23</th>\n",
       "      <td>[1956663840242401751]</td>\n",
       "      <td>301</td>\n",
       "      <td>[1956663846349308653]</td>\n",
       "      <td>169</td>\n",
       "      <td>[1956663840242401751, 1956663846349308653]</td>\n",
       "      <td>23</td>\n",
       "      <td>0.000324</td>\n",
       "      <td>0.076412</td>\n",
       "      <td>32.071773</td>\n",
       "      <td>0.074029</td>\n",
       "      <td>17939.073096</td>\n",
       "      <td>0.000547</td>\n",
       "      <td>111267.160000</td>\n",
       "      <td>-93328.086904</td>\n",
       "      <td>9436.931302</td>\n",
       "      <td>-102765.018206</td>\n",
       "    </tr>\n",
       "    <tr>\n",
       "      <th>24</th>\n",
       "      <td>[1944422271028298685, 1937902773722939556]</td>\n",
       "      <td>34</td>\n",
       "      <td>[1316869404377481980]</td>\n",
       "      <td>66</td>\n",
       "      <td>[1944422271028298685, 1316869404377481980, 193...</td>\n",
       "      <td>10</td>\n",
       "      <td>0.000141</td>\n",
       "      <td>0.294118</td>\n",
       "      <td>316.100713</td>\n",
       "      <td>0.293187</td>\n",
       "      <td>17612.722727</td>\n",
       "      <td>0.000537</td>\n",
       "      <td>46846.977273</td>\n",
       "      <td>-29234.254545</td>\n",
       "      <td>3834.200000</td>\n",
       "      <td>-33068.454545</td>\n",
       "    </tr>\n",
       "    <tr>\n",
       "      <th>25</th>\n",
       "      <td>[1837781611211391977]</td>\n",
       "      <td>24</td>\n",
       "      <td>[1837798067462472578]</td>\n",
       "      <td>20</td>\n",
       "      <td>[1837781611211391977, 1837798067462472578]</td>\n",
       "      <td>6</td>\n",
       "      <td>0.000085</td>\n",
       "      <td>0.250000</td>\n",
       "      <td>886.662500</td>\n",
       "      <td>0.249718</td>\n",
       "      <td>17025.685000</td>\n",
       "      <td>0.000519</td>\n",
       "      <td>24215.620000</td>\n",
       "      <td>-7189.935000</td>\n",
       "      <td>10971.780000</td>\n",
       "      <td>-18161.715000</td>\n",
       "    </tr>\n",
       "    <tr>\n",
       "      <th>26</th>\n",
       "      <td>[1515966223589294450]</td>\n",
       "      <td>37</td>\n",
       "      <td>[1515966223589294452]</td>\n",
       "      <td>24</td>\n",
       "      <td>[1515966223589294452, 1515966223589294450]</td>\n",
       "      <td>8</td>\n",
       "      <td>0.000113</td>\n",
       "      <td>0.216216</td>\n",
       "      <td>639.036036</td>\n",
       "      <td>0.215878</td>\n",
       "      <td>16296.960000</td>\n",
       "      <td>0.000497</td>\n",
       "      <td>33517.930000</td>\n",
       "      <td>-17220.970000</td>\n",
       "      <td>9049.840000</td>\n",
       "      <td>-26270.810000</td>\n",
       "    </tr>\n",
       "    <tr>\n",
       "      <th>27</th>\n",
       "      <td>[1956663847406272541]</td>\n",
       "      <td>31</td>\n",
       "      <td>[1835566850289697016]</td>\n",
       "      <td>28</td>\n",
       "      <td>[1956663847406272541, 1835566850289697016]</td>\n",
       "      <td>12</td>\n",
       "      <td>0.000169</td>\n",
       "      <td>0.387097</td>\n",
       "      <td>980.640553</td>\n",
       "      <td>0.386702</td>\n",
       "      <td>15838.432258</td>\n",
       "      <td>0.000483</td>\n",
       "      <td>20111.850000</td>\n",
       "      <td>-4273.417742</td>\n",
       "      <td>8053.200000</td>\n",
       "      <td>-12326.617742</td>\n",
       "    </tr>\n",
       "    <tr>\n",
       "      <th>28</th>\n",
       "      <td>[1956663848387739704]</td>\n",
       "      <td>100</td>\n",
       "      <td>[1956663848387739706]</td>\n",
       "      <td>85</td>\n",
       "      <td>[1956663848387739706, 1956663848387739704]</td>\n",
       "      <td>17</td>\n",
       "      <td>0.000240</td>\n",
       "      <td>0.170000</td>\n",
       "      <td>141.866000</td>\n",
       "      <td>0.168802</td>\n",
       "      <td>15427.979400</td>\n",
       "      <td>0.000470</td>\n",
       "      <td>42820.820000</td>\n",
       "      <td>-27392.840600</td>\n",
       "      <td>8148.440000</td>\n",
       "      <td>-35541.280600</td>\n",
       "    </tr>\n",
       "    <tr>\n",
       "      <th>29</th>\n",
       "      <td>[1956663845644664920]</td>\n",
       "      <td>177</td>\n",
       "      <td>[1956663846349308653]</td>\n",
       "      <td>169</td>\n",
       "      <td>[1956663845644664920, 1956663846349308653]</td>\n",
       "      <td>16</td>\n",
       "      <td>0.000226</td>\n",
       "      <td>0.090395</td>\n",
       "      <td>37.940962</td>\n",
       "      <td>0.088013</td>\n",
       "      <td>15377.442792</td>\n",
       "      <td>0.000469</td>\n",
       "      <td>97489.620000</td>\n",
       "      <td>-82112.177208</td>\n",
       "      <td>6564.821775</td>\n",
       "      <td>-88676.998983</td>\n",
       "    </tr>\n",
       "    <tr>\n",
       "      <th>30</th>\n",
       "      <td>[1956663840242401751]</td>\n",
       "      <td>301</td>\n",
       "      <td>[1956663846273811079]</td>\n",
       "      <td>143</td>\n",
       "      <td>[1956663840242401751, 1956663846273811079]</td>\n",
       "      <td>20</td>\n",
       "      <td>0.000282</td>\n",
       "      <td>0.066445</td>\n",
       "      <td>32.959134</td>\n",
       "      <td>0.064429</td>\n",
       "      <td>15043.880064</td>\n",
       "      <td>0.000459</td>\n",
       "      <td>111267.160000</td>\n",
       "      <td>-96223.279936</td>\n",
       "      <td>7650.713287</td>\n",
       "      <td>-103873.993223</td>\n",
       "    </tr>\n",
       "    <tr>\n",
       "      <th>31</th>\n",
       "      <td>[1956663836668854461]</td>\n",
       "      <td>159</td>\n",
       "      <td>[1956663847708262860]</td>\n",
       "      <td>107</td>\n",
       "      <td>[1956663847708262860, 1956663836668854461]</td>\n",
       "      <td>5</td>\n",
       "      <td>0.000070</td>\n",
       "      <td>0.031447</td>\n",
       "      <td>20.846705</td>\n",
       "      <td>0.029938</td>\n",
       "      <td>14967.275786</td>\n",
       "      <td>0.000456</td>\n",
       "      <td>201361.600000</td>\n",
       "      <td>-186394.324214</td>\n",
       "      <td>8635.150000</td>\n",
       "      <td>-195029.474214</td>\n",
       "    </tr>\n",
       "    <tr>\n",
       "      <th>32</th>\n",
       "      <td>[1956663831082042071]</td>\n",
       "      <td>86</td>\n",
       "      <td>[1956663846483526547]</td>\n",
       "      <td>30</td>\n",
       "      <td>[1956663831082042071, 1956663846483526547]</td>\n",
       "      <td>12</td>\n",
       "      <td>0.000169</td>\n",
       "      <td>0.139535</td>\n",
       "      <td>329.920930</td>\n",
       "      <td>0.139112</td>\n",
       "      <td>14586.590233</td>\n",
       "      <td>0.000445</td>\n",
       "      <td>50946.330000</td>\n",
       "      <td>-36359.739767</td>\n",
       "      <td>7477.800000</td>\n",
       "      <td>-43837.539767</td>\n",
       "    </tr>\n",
       "    <tr>\n",
       "      <th>33</th>\n",
       "      <td>[1956663848186413865]</td>\n",
       "      <td>103</td>\n",
       "      <td>[1956663847683096999]</td>\n",
       "      <td>101</td>\n",
       "      <td>[1956663848186413865, 1956663847683096999]</td>\n",
       "      <td>8</td>\n",
       "      <td>0.000113</td>\n",
       "      <td>0.077670</td>\n",
       "      <td>54.548111</td>\n",
       "      <td>0.076246</td>\n",
       "      <td>14512.448871</td>\n",
       "      <td>0.000442</td>\n",
       "      <td>100026.030000</td>\n",
       "      <td>-85513.581129</td>\n",
       "      <td>6743.436832</td>\n",
       "      <td>-92257.017961</td>\n",
       "    </tr>\n",
       "    <tr>\n",
       "      <th>34</th>\n",
       "      <td>[1956663831090430685]</td>\n",
       "      <td>70</td>\n",
       "      <td>[1515966223117958739]</td>\n",
       "      <td>17</td>\n",
       "      <td>[1956663831090430685, 1515966223117958739]</td>\n",
       "      <td>4</td>\n",
       "      <td>0.000056</td>\n",
       "      <td>0.057143</td>\n",
       "      <td>238.430252</td>\n",
       "      <td>0.056903</td>\n",
       "      <td>14284.931765</td>\n",
       "      <td>0.000435</td>\n",
       "      <td>35959.000000</td>\n",
       "      <td>-21674.068235</td>\n",
       "      <td>12230.131765</td>\n",
       "      <td>-33904.200000</td>\n",
       "    </tr>\n",
       "    <tr>\n",
       "      <th>35</th>\n",
       "      <td>[1956663847582433553]</td>\n",
       "      <td>31</td>\n",
       "      <td>[1956663848110916287]</td>\n",
       "      <td>16</td>\n",
       "      <td>[1956663848110916287, 1956663847582433553]</td>\n",
       "      <td>7</td>\n",
       "      <td>0.000099</td>\n",
       "      <td>0.225806</td>\n",
       "      <td>1001.070565</td>\n",
       "      <td>0.225581</td>\n",
       "      <td>13886.692581</td>\n",
       "      <td>0.000423</td>\n",
       "      <td>24981.760000</td>\n",
       "      <td>-11095.067419</td>\n",
       "      <td>8245.650000</td>\n",
       "      <td>-19340.717419</td>\n",
       "    </tr>\n",
       "    <tr>\n",
       "      <th>36</th>\n",
       "      <td>[1956663836433974134]</td>\n",
       "      <td>61</td>\n",
       "      <td>[1956663845871157662]</td>\n",
       "      <td>42</td>\n",
       "      <td>[1956663845871157662, 1956663836433974134]</td>\n",
       "      <td>5</td>\n",
       "      <td>0.000070</td>\n",
       "      <td>0.081967</td>\n",
       "      <td>138.432865</td>\n",
       "      <td>0.081375</td>\n",
       "      <td>13858.820609</td>\n",
       "      <td>0.000423</td>\n",
       "      <td>95114.240000</td>\n",
       "      <td>-81255.419391</td>\n",
       "      <td>6062.571429</td>\n",
       "      <td>-87317.990820</td>\n",
       "    </tr>\n",
       "    <tr>\n",
       "      <th>37</th>\n",
       "      <td>[1956663831434363114]</td>\n",
       "      <td>35</td>\n",
       "      <td>[1956663831442751740]</td>\n",
       "      <td>20</td>\n",
       "      <td>[1956663831434363114, 1956663831442751740]</td>\n",
       "      <td>9</td>\n",
       "      <td>0.000127</td>\n",
       "      <td>0.257143</td>\n",
       "      <td>911.995714</td>\n",
       "      <td>0.256861</td>\n",
       "      <td>13705.315714</td>\n",
       "      <td>0.000418</td>\n",
       "      <td>23816.900000</td>\n",
       "      <td>-10111.584286</td>\n",
       "      <td>7580.970000</td>\n",
       "      <td>-17692.554286</td>\n",
       "    </tr>\n",
       "    <tr>\n",
       "      <th>38</th>\n",
       "      <td>[1956663847683097010]</td>\n",
       "      <td>42</td>\n",
       "      <td>[1956663845636276295]</td>\n",
       "      <td>35</td>\n",
       "      <td>[1956663845636276295, 1956663847683097010]</td>\n",
       "      <td>9</td>\n",
       "      <td>0.000127</td>\n",
       "      <td>0.214286</td>\n",
       "      <td>434.283673</td>\n",
       "      <td>0.213792</td>\n",
       "      <td>13643.665714</td>\n",
       "      <td>0.000416</td>\n",
       "      <td>35090.160000</td>\n",
       "      <td>-21446.494286</td>\n",
       "      <td>6124.345714</td>\n",
       "      <td>-27570.840000</td>\n",
       "    </tr>\n",
       "    <tr>\n",
       "      <th>39</th>\n",
       "      <td>[1956663848396128317]</td>\n",
       "      <td>51</td>\n",
       "      <td>[1956663848396128321]</td>\n",
       "      <td>29</td>\n",
       "      <td>[1956663848396128321, 1956663848396128317]</td>\n",
       "      <td>10</td>\n",
       "      <td>0.000141</td>\n",
       "      <td>0.196078</td>\n",
       "      <td>479.601082</td>\n",
       "      <td>0.195670</td>\n",
       "      <td>13463.458824</td>\n",
       "      <td>0.000410</td>\n",
       "      <td>33390.000000</td>\n",
       "      <td>-19926.541176</td>\n",
       "      <td>6916.400000</td>\n",
       "      <td>-26842.941176</td>\n",
       "    </tr>\n",
       "    <tr>\n",
       "      <th>40</th>\n",
       "      <td>[1956663846416417597]</td>\n",
       "      <td>39</td>\n",
       "      <td>[1956663847632765286]</td>\n",
       "      <td>12</td>\n",
       "      <td>[1956663847632765286, 1956663846416417597]</td>\n",
       "      <td>3</td>\n",
       "      <td>0.000042</td>\n",
       "      <td>0.076923</td>\n",
       "      <td>454.698718</td>\n",
       "      <td>0.076754</td>\n",
       "      <td>13208.864615</td>\n",
       "      <td>0.000403</td>\n",
       "      <td>52049.200000</td>\n",
       "      <td>-38840.335385</td>\n",
       "      <td>9205.080000</td>\n",
       "      <td>-48045.415385</td>\n",
       "    </tr>\n",
       "  </tbody>\n",
       "</table>\n",
       "</div>"
      ],
      "text/plain": [
       "                                    antecedent  sup_antecedent  \\\n",
       "0                        [1944945390285488528]             221   \n",
       "1                        [1944422271028298685]             154   \n",
       "2                        [1956663846340920038]              43   \n",
       "3                        [1860421116053422140]              73   \n",
       "4                        [1956663836668854462]              95   \n",
       "5                        [1313614230015967859]             170   \n",
       "6                        [1956663845736939738]              74   \n",
       "7                        [1956663845812437315]              36   \n",
       "8                        [1956663840225624514]              96   \n",
       "9   [1944945390285488528, 1313614230015967859]              51   \n",
       "10                       [1956663836274590384]              68   \n",
       "11                       [1956663831300145188]              71   \n",
       "12                       [1937902773722939556]             131   \n",
       "13                       [1956663836668854461]             159   \n",
       "14                       [1956663848186413865]             103   \n",
       "15                       [1944945390285488528]             221   \n",
       "16                       [1515966223600448031]               7   \n",
       "17                       [1956663847708262860]             107   \n",
       "18                       [1806829192545829230]              32   \n",
       "19                       [1956663845384618779]              38   \n",
       "20                       [1956663831266591724]              42   \n",
       "21                       [1515966223589120812]              17   \n",
       "22                       [1956663848119304910]              53   \n",
       "23                       [1956663840242401751]             301   \n",
       "24  [1944422271028298685, 1937902773722939556]              34   \n",
       "25                       [1837781611211391977]              24   \n",
       "26                       [1515966223589294450]              37   \n",
       "27                       [1956663847406272541]              31   \n",
       "28                       [1956663848387739704]             100   \n",
       "29                       [1956663845644664920]             177   \n",
       "30                       [1956663840242401751]             301   \n",
       "31                       [1956663836668854461]             159   \n",
       "32                       [1956663831082042071]              86   \n",
       "33                       [1956663848186413865]             103   \n",
       "34                       [1956663831090430685]              70   \n",
       "35                       [1956663847582433553]              31   \n",
       "36                       [1956663836433974134]              61   \n",
       "37                       [1956663831434363114]              35   \n",
       "38                       [1956663847683097010]              42   \n",
       "39                       [1956663848396128317]              51   \n",
       "40                       [1956663846416417597]              39   \n",
       "\n",
       "               consequent  sup_consequent  \\\n",
       "0   [1313614230015967859]             170   \n",
       "1   [1937902773722939556]             131   \n",
       "2   [1956663845602721816]              34   \n",
       "3   [1845870160691331313]              58   \n",
       "4   [1806829191514031042]              88   \n",
       "5   [1343446704099164925]              90   \n",
       "6   [1956663836392031040]              55   \n",
       "7   [1956663845778882836]              17   \n",
       "8   [1956663836257813138]              77   \n",
       "9   [1343446704099164925]              90   \n",
       "10  [1515966223500113689]               5   \n",
       "11  [1515966223500113689]               5   \n",
       "12  [1316869404377481980]              66   \n",
       "13  [1956663836408808278]              71   \n",
       "14  [1515966222931786051]              94   \n",
       "15  [1343446704099164925]              90   \n",
       "16  [1515966223593622392]               6   \n",
       "17  [1956663836668854462]              95   \n",
       "18  [1956663847800537677]              22   \n",
       "19  [1956663847808926293]              28   \n",
       "20  [1956663830905881094]              33   \n",
       "21  [1515966223589118288]              15   \n",
       "22  [1956663840376619684]              21   \n",
       "23  [1956663846349308653]             169   \n",
       "24  [1316869404377481980]              66   \n",
       "25  [1837798067462472578]              20   \n",
       "26  [1515966223589294452]              24   \n",
       "27  [1835566850289697016]              28   \n",
       "28  [1956663848387739706]              85   \n",
       "29  [1956663846349308653]             169   \n",
       "30  [1956663846273811079]             143   \n",
       "31  [1956663847708262860]             107   \n",
       "32  [1956663846483526547]              30   \n",
       "33  [1956663847683096999]             101   \n",
       "34  [1515966223117958739]              17   \n",
       "35  [1956663848110916287]              16   \n",
       "36  [1956663845871157662]              42   \n",
       "37  [1956663831442751740]              20   \n",
       "38  [1956663845636276295]              35   \n",
       "39  [1956663848396128321]              29   \n",
       "40  [1956663847632765286]              12   \n",
       "\n",
       "                                antecedent&consequent  sup_ant&cons  \\\n",
       "0          [1944945390285488528, 1313614230015967859]            51   \n",
       "1          [1944422271028298685, 1937902773722939556]            34   \n",
       "2          [1956663846340920038, 1956663845602721816]            16   \n",
       "3          [1860421116053422140, 1845870160691331313]            18   \n",
       "4          [1806829191514031042, 1956663836668854462]             7   \n",
       "5          [1343446704099164925, 1313614230015967859]            26   \n",
       "6          [1956663845736939738, 1956663836392031040]            17   \n",
       "7          [1956663845812437315, 1956663845778882836]             7   \n",
       "8          [1956663840225624514, 1956663836257813138]            19   \n",
       "9   [1944945390285488528, 1343446704099164925, 131...            15   \n",
       "10         [1515966223500113689, 1956663836274590384]             1   \n",
       "11         [1515966223500113689, 1956663831300145188]             1   \n",
       "12         [1316869404377481980, 1937902773722939556]            20   \n",
       "13         [1956663836668854461, 1956663836408808278]            10   \n",
       "14         [1956663848186413865, 1515966222931786051]            14   \n",
       "15         [1944945390285488528, 1343446704099164925]            22   \n",
       "16         [1515966223593622392, 1515966223600448031]             3   \n",
       "17         [1956663847708262860, 1956663836668854462]             5   \n",
       "18         [1956663847800537677, 1806829192545829230]             9   \n",
       "19         [1956663847808926293, 1956663845384618779]             9   \n",
       "20         [1956663830905881094, 1956663831266591724]             7   \n",
       "21         [1515966223589118288, 1515966223589120812]             5   \n",
       "22         [1956663840376619684, 1956663848119304910]            12   \n",
       "23         [1956663840242401751, 1956663846349308653]            23   \n",
       "24  [1944422271028298685, 1316869404377481980, 193...            10   \n",
       "25         [1837781611211391977, 1837798067462472578]             6   \n",
       "26         [1515966223589294452, 1515966223589294450]             8   \n",
       "27         [1956663847406272541, 1835566850289697016]            12   \n",
       "28         [1956663848387739706, 1956663848387739704]            17   \n",
       "29         [1956663845644664920, 1956663846349308653]            16   \n",
       "30         [1956663840242401751, 1956663846273811079]            20   \n",
       "31         [1956663847708262860, 1956663836668854461]             5   \n",
       "32         [1956663831082042071, 1956663846483526547]            12   \n",
       "33         [1956663848186413865, 1956663847683096999]             8   \n",
       "34         [1956663831090430685, 1515966223117958739]             4   \n",
       "35         [1956663848110916287, 1956663847582433553]             7   \n",
       "36         [1956663845871157662, 1956663836433974134]             5   \n",
       "37         [1956663831434363114, 1956663831442751740]             9   \n",
       "38         [1956663845636276295, 1956663847683097010]             9   \n",
       "39         [1956663848396128321, 1956663848396128317]            10   \n",
       "40         [1956663847632765286, 1956663846416417597]             3   \n",
       "\n",
       "    sup_perc_ant&cons  confidence         lift  improvement  \\\n",
       "0            0.000719    0.230769    96.289140     0.228373   \n",
       "1            0.000479    0.220779   119.546049     0.218932   \n",
       "2            0.000226    0.372093   776.284542     0.371614   \n",
       "3            0.000254    0.246575   301.557393     0.245758   \n",
       "4            0.000099    0.073684    59.393660     0.072444   \n",
       "5            0.000367    0.152941   120.539739     0.151672   \n",
       "6            0.000240    0.229730   296.280344     0.228954   \n",
       "7            0.000099    0.194444   811.325163     0.194205   \n",
       "8            0.000268    0.197917   182.322376     0.196831   \n",
       "9            0.000211    0.294118   231.807190     0.292849   \n",
       "10           0.000014    0.014706   208.626471     0.014635   \n",
       "11           0.000014    0.014085   199.811268     0.014014   \n",
       "12           0.000282    0.152672   164.082813     0.151741   \n",
       "13           0.000141    0.062893    62.833732     0.061892   \n",
       "14           0.000197    0.135922   102.567858     0.134597   \n",
       "15           0.000310    0.099548    78.457818     0.098279   \n",
       "16           0.000042    0.428571  5066.642857     0.428487   \n",
       "17           0.000070    0.046729    34.890802     0.045390   \n",
       "18           0.000127    0.281250   906.813920     0.280940   \n",
       "19           0.000127    0.236842   599.997180     0.236447   \n",
       "20           0.000099    0.166667   358.247475     0.166201   \n",
       "21           0.000070    0.294118  1390.843137     0.293906   \n",
       "22           0.000169    0.226415   764.776280     0.226119   \n",
       "23           0.000324    0.076412    32.071773     0.074029   \n",
       "24           0.000141    0.294118   316.100713     0.293187   \n",
       "25           0.000085    0.250000   886.662500     0.249718   \n",
       "26           0.000113    0.216216   639.036036     0.215878   \n",
       "27           0.000169    0.387097   980.640553     0.386702   \n",
       "28           0.000240    0.170000   141.866000     0.168802   \n",
       "29           0.000226    0.090395    37.940962     0.088013   \n",
       "30           0.000282    0.066445    32.959134     0.064429   \n",
       "31           0.000070    0.031447    20.846705     0.029938   \n",
       "32           0.000169    0.139535   329.920930     0.139112   \n",
       "33           0.000113    0.077670    54.548111     0.076246   \n",
       "34           0.000056    0.057143   238.430252     0.056903   \n",
       "35           0.000099    0.225806  1001.070565     0.225581   \n",
       "36           0.000070    0.081967   138.432865     0.081375   \n",
       "37           0.000127    0.257143   911.995714     0.256861   \n",
       "38           0.000127    0.214286   434.283673     0.213792   \n",
       "39           0.000141    0.196078   479.601082     0.195670   \n",
       "40           0.000042    0.076923   454.698718     0.076754   \n",
       "\n",
       "    profit_associated  perc_of_total_profit  profit_associated_prev  \\\n",
       "0        74451.385385              0.002270           122845.300000   \n",
       "1        46846.977273              0.001428            80360.630000   \n",
       "2        36891.263256              0.001125            47610.200000   \n",
       "3        36455.853699              0.001111            54359.100000   \n",
       "4        35878.456560              0.001094           219755.440000   \n",
       "5        34184.540000              0.001042           153674.900000   \n",
       "6        32443.744189              0.000989            45441.590000   \n",
       "7        30057.025833              0.000916            63351.030000   \n",
       "8        28253.463125              0.000861            69123.300000   \n",
       "9        28059.766290              0.000855            74451.385385   \n",
       "10       26769.867059              0.000816            23483.600000   \n",
       "11       26669.590000              0.000813            17399.970000   \n",
       "12       24789.000000              0.000756           112139.930000   \n",
       "13       22668.451572              0.000691           201361.600000   \n",
       "14       22177.912557              0.000676           100026.030000   \n",
       "15       21266.983891              0.000648           122845.300000   \n",
       "16       20843.850000              0.000635            17010.980000   \n",
       "17       20201.225789              0.000616           184792.210000   \n",
       "18       20024.071875              0.000610            28022.940000   \n",
       "19       19214.128421              0.000586            40268.340000   \n",
       "20       18792.620000              0.000573            43144.920000   \n",
       "21       18445.200000              0.000562            42779.480000   \n",
       "22       18072.661132              0.000551            33362.180000   \n",
       "23       17939.073096              0.000547           111267.160000   \n",
       "24       17612.722727              0.000537            46846.977273   \n",
       "25       17025.685000              0.000519            24215.620000   \n",
       "26       16296.960000              0.000497            33517.930000   \n",
       "27       15838.432258              0.000483            20111.850000   \n",
       "28       15427.979400              0.000470            42820.820000   \n",
       "29       15377.442792              0.000469            97489.620000   \n",
       "30       15043.880064              0.000459           111267.160000   \n",
       "31       14967.275786              0.000456           201361.600000   \n",
       "32       14586.590233              0.000445            50946.330000   \n",
       "33       14512.448871              0.000442           100026.030000   \n",
       "34       14284.931765              0.000435            35959.000000   \n",
       "35       13886.692581              0.000423            24981.760000   \n",
       "36       13858.820609              0.000423            95114.240000   \n",
       "37       13705.315714              0.000418            23816.900000   \n",
       "38       13643.665714              0.000416            35090.160000   \n",
       "39       13463.458824              0.000410            33390.000000   \n",
       "40       13208.864615              0.000403            52049.200000   \n",
       "\n",
       "       net_change  profit_last_item  loss_by_change  \n",
       "0   -48393.914615      46102.470000   -94496.384615  \n",
       "1   -33513.652727      29105.020000   -62618.672727  \n",
       "2   -10718.936744      19175.840000   -29894.776744  \n",
       "3   -17903.246301      23052.240000   -40955.486301  \n",
       "4  -183876.983440      19685.950455  -203562.933895  \n",
       "5  -119490.360000      10681.320000  -130171.680000  \n",
       "6   -12997.845811      22004.460000   -35002.305811  \n",
       "7   -33294.004167      17738.770000   -51032.774167  \n",
       "8   -40869.836875      14572.810000   -55442.646875  \n",
       "9   -46391.619095       6162.300000   -52553.919095  \n",
       "10    3286.267059      26424.520000   -23138.252941  \n",
       "11    9269.620000      26424.520000   -17154.900000  \n",
       "12  -87350.930000       7668.400000   -95019.330000  \n",
       "13 -178693.148428      10004.200000  -188697.348428  \n",
       "14  -77848.117443       8582.141489   -86430.258932  \n",
       "15 -101578.316109       9038.040000  -110616.356109  \n",
       "16    3832.870000      13553.430000    -9720.560000  \n",
       "17 -164590.984211      11566.075789  -176157.060000  \n",
       "18   -7998.868125      12142.620000   -20141.488125  \n",
       "19  -21054.211579       9676.890000   -30731.101579  \n",
       "20  -24352.300000      11601.800000   -35954.100000  \n",
       "21  -24334.280000       5863.000000   -30197.280000  \n",
       "22  -15289.518868      10518.960000   -25808.478868  \n",
       "23  -93328.086904       9436.931302  -102765.018206  \n",
       "24  -29234.254545       3834.200000   -33068.454545  \n",
       "25   -7189.935000      10971.780000   -18161.715000  \n",
       "26  -17220.970000       9049.840000   -26270.810000  \n",
       "27   -4273.417742       8053.200000   -12326.617742  \n",
       "28  -27392.840600       8148.440000   -35541.280600  \n",
       "29  -82112.177208       6564.821775   -88676.998983  \n",
       "30  -96223.279936       7650.713287  -103873.993223  \n",
       "31 -186394.324214       8635.150000  -195029.474214  \n",
       "32  -36359.739767       7477.800000   -43837.539767  \n",
       "33  -85513.581129       6743.436832   -92257.017961  \n",
       "34  -21674.068235      12230.131765   -33904.200000  \n",
       "35  -11095.067419       8245.650000   -19340.717419  \n",
       "36  -81255.419391       6062.571429   -87317.990820  \n",
       "37  -10111.584286       7580.970000   -17692.554286  \n",
       "38  -21446.494286       6124.345714   -27570.840000  \n",
       "39  -19926.541176       6916.400000   -26842.941176  \n",
       "40  -38840.335385       9205.080000   -48045.415385  "
      ]
     },
     "execution_count": 104,
     "metadata": {},
     "output_type": "execute_result"
    }
   ],
   "source": [
    "import modified_fp_growth_algorithm.modified_fp_growth_latest as mod_fp_growth\n",
    "\n",
    "#For better trackingI take price instead of profit as profit, because tracking ius easier and at moment I anyway just multiply by 0.1 for profit\n",
    "# We see how \"super efficient it is, only 6.8 seconds for 13k rules inclduing writing to Excel\"\n",
    "rules = mod_fp_growth.fpgrowthFromDataFrame(\\\n",
    "    data,\n",
    "    minSupRatio=0.0004,\n",
    "    maxSupRatio=1,\n",
    "    minTransactionLength=2,\n",
    "    maxTransactionLength=10,\n",
    "    minConf=0,\n",
    "    item_col=1,\n",
    "    profit_col=3,\n",
    "    max_profit = max_profit,\n",
    "    profit_sensitivity = lambda x : 1 * x\n",
    "    )\n",
    "    \n",
    "rules.to_excel(\"fp_groth_out.xlsx\",index=False) \n",
    "rules"
   ]
  },
  {
   "cell_type": "code",
   "execution_count": 106,
   "metadata": {},
   "outputs": [
    {
     "data": {
      "text/html": [
       "<div>\n",
       "<style scoped>\n",
       "    .dataframe tbody tr th:only-of-type {\n",
       "        vertical-align: middle;\n",
       "    }\n",
       "\n",
       "    .dataframe tbody tr th {\n",
       "        vertical-align: top;\n",
       "    }\n",
       "\n",
       "    .dataframe thead th {\n",
       "        text-align: right;\n",
       "    }\n",
       "</style>\n",
       "<table border=\"1\" class=\"dataframe\">\n",
       "  <thead>\n",
       "    <tr style=\"text-align: right;\">\n",
       "      <th></th>\n",
       "      <th>rules_index</th>\n",
       "      <th>antecedent&amp;consequent</th>\n",
       "      <th>sup_ant&amp;cons</th>\n",
       "      <th>profit_associated</th>\n",
       "      <th>perc_of_total_profit</th>\n",
       "      <th>product_id</th>\n",
       "      <th>category_id</th>\n",
       "      <th>category_code</th>\n",
       "      <th>brand</th>\n",
       "      <th>price</th>\n",
       "    </tr>\n",
       "  </thead>\n",
       "  <tbody>\n",
       "    <tr>\n",
       "      <th>0</th>\n",
       "      <td>0</td>\n",
       "      <td>1944945390285488528</td>\n",
       "      <td>51</td>\n",
       "      <td>74451</td>\n",
       "      <td>0.002270</td>\n",
       "      <td>1944945390285488528</td>\n",
       "      <td>1.8068292018823498e+18</td>\n",
       "      <td>jewelry.ring</td>\n",
       "      <td>1.0</td>\n",
       "      <td>534.11</td>\n",
       "    </tr>\n",
       "    <tr>\n",
       "      <th>1</th>\n",
       "      <td>0</td>\n",
       "      <td>1313614230015967859</td>\n",
       "      <td>51</td>\n",
       "      <td>74451</td>\n",
       "      <td>0.002270</td>\n",
       "      <td>1313614230015967859</td>\n",
       "      <td>1.8068292018907384e+18</td>\n",
       "      <td>jewelry.earring</td>\n",
       "      <td>1.0</td>\n",
       "      <td>903.97</td>\n",
       "    </tr>\n",
       "    <tr>\n",
       "      <th>2</th>\n",
       "      <td>1</td>\n",
       "      <td>1937902773722939556</td>\n",
       "      <td>34</td>\n",
       "      <td>46846</td>\n",
       "      <td>0.001428</td>\n",
       "      <td>1937902773722939556</td>\n",
       "      <td>1.8068292018907384e+18</td>\n",
       "      <td>jewelry.earring</td>\n",
       "      <td>1.0</td>\n",
       "      <td>856.03</td>\n",
       "    </tr>\n",
       "    <tr>\n",
       "      <th>3</th>\n",
       "      <td>1</td>\n",
       "      <td>1944422271028298685</td>\n",
       "      <td>34</td>\n",
       "      <td>46846</td>\n",
       "      <td>0.001428</td>\n",
       "      <td>1944422271028298685</td>\n",
       "      <td>1.8068292018823498e+18</td>\n",
       "      <td>jewelry.ring</td>\n",
       "      <td>1.0</td>\n",
       "      <td>493.01</td>\n",
       "    </tr>\n",
       "    <tr>\n",
       "      <th>4</th>\n",
       "      <td>2</td>\n",
       "      <td>1956663845602721816</td>\n",
       "      <td>16</td>\n",
       "      <td>36891</td>\n",
       "      <td>0.001125</td>\n",
       "      <td>1956663845602721816</td>\n",
       "      <td>1.8068292018907384e+18</td>\n",
       "      <td>jewelry.earring</td>\n",
       "      <td>0.0</td>\n",
       "      <td>1198.49</td>\n",
       "    </tr>\n",
       "    <tr>\n",
       "      <th>5</th>\n",
       "      <td>2</td>\n",
       "      <td>1956663846340920038</td>\n",
       "      <td>16</td>\n",
       "      <td>36891</td>\n",
       "      <td>0.001125</td>\n",
       "      <td>1956663846340920038</td>\n",
       "      <td>1.8068292018823498e+18</td>\n",
       "      <td>jewelry.ring</td>\n",
       "      <td>0.0</td>\n",
       "      <td>1082.05</td>\n",
       "    </tr>\n",
       "    <tr>\n",
       "      <th>6</th>\n",
       "      <td>3</td>\n",
       "      <td>1845870160691331313</td>\n",
       "      <td>18</td>\n",
       "      <td>36455</td>\n",
       "      <td>0.001111</td>\n",
       "      <td>1845870160691331313</td>\n",
       "      <td>1.8068292018907384e+18</td>\n",
       "      <td>jewelry.earring</td>\n",
       "      <td>0.0</td>\n",
       "      <td>1280.68</td>\n",
       "    </tr>\n",
       "    <tr>\n",
       "      <th>7</th>\n",
       "      <td>3</td>\n",
       "      <td>1860421116053422140</td>\n",
       "      <td>18</td>\n",
       "      <td>36455</td>\n",
       "      <td>0.001111</td>\n",
       "      <td>1860421116053422140</td>\n",
       "      <td>1.8068292018823498e+18</td>\n",
       "      <td>jewelry.ring</td>\n",
       "      <td>0.0</td>\n",
       "      <td>671.1</td>\n",
       "    </tr>\n",
       "    <tr>\n",
       "      <th>8</th>\n",
       "      <td>4</td>\n",
       "      <td>1806829191514031042</td>\n",
       "      <td>7</td>\n",
       "      <td>35878</td>\n",
       "      <td>0.001094</td>\n",
       "      <td>1806829191514031042</td>\n",
       "      <td>1.8068292018487954e+18</td>\n",
       "      <td>nan</td>\n",
       "      <td>0.0</td>\n",
       "      <td>2780.68</td>\n",
       "    </tr>\n",
       "    <tr>\n",
       "      <th>9</th>\n",
       "      <td>4</td>\n",
       "      <td>1956663836668854462</td>\n",
       "      <td>7</td>\n",
       "      <td>35878</td>\n",
       "      <td>0.001094</td>\n",
       "      <td>1956663836668854462</td>\n",
       "      <td>1.8068292018487954e+18</td>\n",
       "      <td>nan</td>\n",
       "      <td>0.0</td>\n",
       "      <td>2265.52</td>\n",
       "    </tr>\n",
       "    <tr>\n",
       "      <th>10</th>\n",
       "      <td>5</td>\n",
       "      <td>1313614230015967859</td>\n",
       "      <td>26</td>\n",
       "      <td>34184</td>\n",
       "      <td>0.001042</td>\n",
       "      <td>1313614230015967859</td>\n",
       "      <td>1.8068292018907384e+18</td>\n",
       "      <td>jewelry.earring</td>\n",
       "      <td>1.0</td>\n",
       "      <td>903.97</td>\n",
       "    </tr>\n",
       "    <tr>\n",
       "      <th>11</th>\n",
       "      <td>5</td>\n",
       "      <td>1343446704099164925</td>\n",
       "      <td>26</td>\n",
       "      <td>34184</td>\n",
       "      <td>0.001042</td>\n",
       "      <td>1343446704099164925</td>\n",
       "      <td>1.8068292019159043e+18</td>\n",
       "      <td>jewelry.pendant</td>\n",
       "      <td>1.0</td>\n",
       "      <td>410.82</td>\n",
       "    </tr>\n",
       "    <tr>\n",
       "      <th>12</th>\n",
       "      <td>6</td>\n",
       "      <td>1956663836392031040</td>\n",
       "      <td>17</td>\n",
       "      <td>32443</td>\n",
       "      <td>0.000989</td>\n",
       "      <td>1956663836392031040</td>\n",
       "      <td>1.8068292018907384e+18</td>\n",
       "      <td>jewelry.earring</td>\n",
       "      <td>0.0</td>\n",
       "      <td>1294.38</td>\n",
       "    </tr>\n",
       "    <tr>\n",
       "      <th>13</th>\n",
       "      <td>6</td>\n",
       "      <td>1956663845736939738</td>\n",
       "      <td>17</td>\n",
       "      <td>32443</td>\n",
       "      <td>0.000989</td>\n",
       "      <td>1956663845736939738</td>\n",
       "      <td>1.8068292018823498e+18</td>\n",
       "      <td>jewelry.ring</td>\n",
       "      <td>0.0</td>\n",
       "      <td>575.21</td>\n",
       "    </tr>\n",
       "    <tr>\n",
       "      <th>14</th>\n",
       "      <td>7</td>\n",
       "      <td>1956663845778882836</td>\n",
       "      <td>7</td>\n",
       "      <td>30057</td>\n",
       "      <td>0.000916</td>\n",
       "      <td>1956663845778882836</td>\n",
       "      <td>1.8068292018907384e+18</td>\n",
       "      <td>jewelry.earring</td>\n",
       "      <td>1.0</td>\n",
       "      <td>2534.11</td>\n",
       "    </tr>\n",
       "  </tbody>\n",
       "</table>\n",
       "</div>"
      ],
      "text/plain": [
       "    rules_index antecedent&consequent  sup_ant&cons  profit_associated  \\\n",
       "0             0   1944945390285488528            51              74451   \n",
       "1             0   1313614230015967859            51              74451   \n",
       "2             1   1937902773722939556            34              46846   \n",
       "3             1   1944422271028298685            34              46846   \n",
       "4             2   1956663845602721816            16              36891   \n",
       "5             2   1956663846340920038            16              36891   \n",
       "6             3   1845870160691331313            18              36455   \n",
       "7             3   1860421116053422140            18              36455   \n",
       "8             4   1806829191514031042             7              35878   \n",
       "9             4   1956663836668854462             7              35878   \n",
       "10            5   1313614230015967859            26              34184   \n",
       "11            5   1343446704099164925            26              34184   \n",
       "12            6   1956663836392031040            17              32443   \n",
       "13            6   1956663845736939738            17              32443   \n",
       "14            7   1956663845778882836             7              30057   \n",
       "\n",
       "    perc_of_total_profit           product_id             category_id  \\\n",
       "0               0.002270  1944945390285488528  1.8068292018823498e+18   \n",
       "1               0.002270  1313614230015967859  1.8068292018907384e+18   \n",
       "2               0.001428  1937902773722939556  1.8068292018907384e+18   \n",
       "3               0.001428  1944422271028298685  1.8068292018823498e+18   \n",
       "4               0.001125  1956663845602721816  1.8068292018907384e+18   \n",
       "5               0.001125  1956663846340920038  1.8068292018823498e+18   \n",
       "6               0.001111  1845870160691331313  1.8068292018907384e+18   \n",
       "7               0.001111  1860421116053422140  1.8068292018823498e+18   \n",
       "8               0.001094  1806829191514031042  1.8068292018487954e+18   \n",
       "9               0.001094  1956663836668854462  1.8068292018487954e+18   \n",
       "10              0.001042  1313614230015967859  1.8068292018907384e+18   \n",
       "11              0.001042  1343446704099164925  1.8068292019159043e+18   \n",
       "12              0.000989  1956663836392031040  1.8068292018907384e+18   \n",
       "13              0.000989  1956663845736939738  1.8068292018823498e+18   \n",
       "14              0.000916  1956663845778882836  1.8068292018907384e+18   \n",
       "\n",
       "      category_code brand    price  \n",
       "0      jewelry.ring   1.0   534.11  \n",
       "1   jewelry.earring   1.0   903.97  \n",
       "2   jewelry.earring   1.0   856.03  \n",
       "3      jewelry.ring   1.0   493.01  \n",
       "4   jewelry.earring   0.0  1198.49  \n",
       "5      jewelry.ring   0.0  1082.05  \n",
       "6   jewelry.earring   0.0  1280.68  \n",
       "7      jewelry.ring   0.0    671.1  \n",
       "8               nan   0.0  2780.68  \n",
       "9               nan   0.0  2265.52  \n",
       "10  jewelry.earring   1.0   903.97  \n",
       "11  jewelry.pendant   1.0   410.82  \n",
       "12  jewelry.earring   0.0  1294.38  \n",
       "13     jewelry.ring   0.0   575.21  \n",
       "14  jewelry.earring   1.0  2534.11  "
      ]
     },
     "execution_count": 106,
     "metadata": {},
     "output_type": "execute_result"
    }
   ],
   "source": [
    "# A minSupRatio of 0.007 means, in case of profitability, that it represents 0.007 of total revenues rspectively profit. We made the profit fo each product equal.\n",
    "# Let's oberserve what kind of items we have found.\n",
    "\n",
    "\n",
    "rules_exploded = rules.explode(\"antecedent&consequent\")[[\"antecedent&consequent\",\"sup_ant&cons\",\"profit_associated\",\"perc_of_total_profit\"]]\n",
    "rules_exploded.insert(0,\"rules_index\",rules_exploded.index)\n",
    "\n",
    "rules_labeled =pd.merge(rules_exploded,unique_items, how=\"inner\", left_on=\"antecedent&consequent\",right_on=\"product_id\").sort_values(\"rules_index\").reset_index(drop=True)\n",
    "\n",
    "rules_labeled.to_excel(\"rules_labeled.xlsx\",index=False)\n",
    "\n",
    "rules_labeled[\"profit_associated\"] = rules_labeled[\"profit_associated\"].astype(int)\n",
    "\n",
    "rules_labeled.head(15)"
   ]
  },
  {
   "cell_type": "markdown",
   "metadata": {},
   "source": [
    "#### 3.3 Sensitivity Analysis"
   ]
  },
  {
   "cell_type": "markdown",
   "metadata": {},
   "source": []
  },
  {
   "cell_type": "code",
   "execution_count": null,
   "metadata": {},
   "outputs": [
    {
     "ename": "NameError",
     "evalue": "name 'df_data_simple_withprofit' is not defined",
     "output_type": "error",
     "traceback": [
      "\u001b[1;31m---------------------------------------------------------------------------\u001b[0m",
      "\u001b[1;31mNameError\u001b[0m                                 Traceback (most recent call last)",
      "\u001b[1;32m~\\AppData\\Local\\Temp/ipykernel_21224/51854518.py\u001b[0m in \u001b[0;36m<module>\u001b[1;34m\u001b[0m\n\u001b[0;32m      3\u001b[0m \u001b[1;33m\u001b[0m\u001b[0m\n\u001b[0;32m      4\u001b[0m rules = mod_fp_growth.fpgrowthFromDataFrame(\\\n\u001b[1;32m----> 5\u001b[1;33m     \u001b[0mdf_data_simple_withprofit\u001b[0m\u001b[1;33m,\u001b[0m\u001b[1;33m\u001b[0m\u001b[1;33m\u001b[0m\u001b[0m\n\u001b[0m\u001b[0;32m      6\u001b[0m     \u001b[0mminSupRatio\u001b[0m\u001b[1;33m=\u001b[0m\u001b[1;36m0.03\u001b[0m\u001b[1;33m,\u001b[0m\u001b[1;33m\u001b[0m\u001b[1;33m\u001b[0m\u001b[0m\n\u001b[0;32m      7\u001b[0m     \u001b[0mmaxSupRatio\u001b[0m\u001b[1;33m=\u001b[0m\u001b[1;36m1\u001b[0m\u001b[1;33m,\u001b[0m\u001b[1;33m\u001b[0m\u001b[1;33m\u001b[0m\u001b[0m\n",
      "\u001b[1;31mNameError\u001b[0m: name 'df_data_simple_withprofit' is not defined"
     ]
    }
   ],
   "source": [
    "import math\n",
    "import datetime\n",
    "\n",
    "rules = mod_fp_growth.fpgrowthFromDataFrame(\\\n",
    "    df_data_simple_withprofit,\n",
    "    minSupRatio=0.03,\n",
    "    maxSupRatio=1,\n",
    "    minConf=0,\n",
    "    item_col=1,\n",
    "    profit_col=2,\n",
    "    max_profit = 100,\n",
    "    profit_sensitivity = lambda x : 1 * x\n",
    "    ) #Only Date\n",
    "\n",
    "rules\n"
   ]
  },
  {
   "cell_type": "code",
   "execution_count": null,
   "metadata": {},
   "outputs": [],
   "source": []
  }
 ],
 "metadata": {
  "kernelspec": {
   "display_name": "Python 3.9.13 ('base')",
   "language": "python",
   "name": "python3"
  },
  "language_info": {
   "codemirror_mode": {
    "name": "ipython",
    "version": 3
   },
   "file_extension": ".py",
   "mimetype": "text/x-python",
   "name": "python",
   "nbconvert_exporter": "python",
   "pygments_lexer": "ipython3",
   "version": "3.9.13"
  },
  "orig_nbformat": 4,
  "vscode": {
   "interpreter": {
    "hash": "ad2bdc8ecc057115af97d19610ffacc2b4e99fae6737bb82f5d7fb13d2f2c186"
   }
  }
 },
 "nbformat": 4,
 "nbformat_minor": 2
}
