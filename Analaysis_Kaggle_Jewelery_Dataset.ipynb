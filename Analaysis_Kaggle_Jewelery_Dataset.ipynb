{
 "cells": [
  {
   "cell_type": "markdown",
   "metadata": {},
   "source": [
    "## Association Rules - Old vs. New Algorithm"
   ]
  },
  {
   "cell_type": "markdown",
   "metadata": {},
   "source": [
    "### Dataset: eCommerce_purchase_history_from_jewelry_store"
   ]
  },
  {
   "cell_type": "markdown",
   "metadata": {},
   "source": [
    "#### 1 Investigating Dataset"
   ]
  },
  {
   "cell_type": "markdown",
   "metadata": {},
   "source": [
    "#### 1.1 Description\n",
    "Kaggle Dataset: https://www.kaggle.com/datasets/mkechinov/ecommerce-purchase-history-from-jewelry-store <br>\n",
    "The Dataset is Open-Source <br>\n",
    "It contains purchase data from December 2018 to December 2021 (3 years) from a medium sized jewelry online store.<br>"
   ]
  },
  {
   "cell_type": "code",
   "execution_count": 10,
   "metadata": {},
   "outputs": [],
   "source": [
    "import os\n",
    "import pandas as pd\n",
    "import glob"
   ]
  },
  {
   "cell_type": "code",
   "execution_count": 18,
   "metadata": {},
   "outputs": [
    {
     "data": {
      "text/html": [
       "<div>\n",
       "<style scoped>\n",
       "    .dataframe tbody tr th:only-of-type {\n",
       "        vertical-align: middle;\n",
       "    }\n",
       "\n",
       "    .dataframe tbody tr th {\n",
       "        vertical-align: top;\n",
       "    }\n",
       "\n",
       "    .dataframe thead th {\n",
       "        text-align: right;\n",
       "    }\n",
       "</style>\n",
       "<table border=\"1\" class=\"dataframe\">\n",
       "  <thead>\n",
       "    <tr style=\"text-align: right;\">\n",
       "      <th></th>\n",
       "      <th>event_time</th>\n",
       "      <th>order_id</th>\n",
       "      <th>product_id</th>\n",
       "      <th>quantity</th>\n",
       "      <th>category_id</th>\n",
       "      <th>category_code</th>\n",
       "      <th>brand</th>\n",
       "      <th>price</th>\n",
       "      <th>user_id</th>\n",
       "      <th>gender</th>\n",
       "      <th>colo</th>\n",
       "      <th>metal</th>\n",
       "      <th>gem</th>\n",
       "    </tr>\n",
       "  </thead>\n",
       "  <tbody>\n",
       "    <tr>\n",
       "      <th>0</th>\n",
       "      <td>2018-12-01 11:40:29 UTC</td>\n",
       "      <td>1924719191579951782</td>\n",
       "      <td>1842195256808833386</td>\n",
       "      <td>1</td>\n",
       "      <td>1.806829e+18</td>\n",
       "      <td>jewelry.earring</td>\n",
       "      <td>0.000000e+00</td>\n",
       "      <td>561.51</td>\n",
       "      <td>1.515916e+18</td>\n",
       "      <td>NaN</td>\n",
       "      <td>red</td>\n",
       "      <td>gold</td>\n",
       "      <td>diamond</td>\n",
       "    </tr>\n",
       "    <tr>\n",
       "      <th>1</th>\n",
       "      <td>2018-12-01 17:38:31 UTC</td>\n",
       "      <td>1924899396621697920</td>\n",
       "      <td>1806829193678291446</td>\n",
       "      <td>1</td>\n",
       "      <td>1.806829e+18</td>\n",
       "      <td>NaN</td>\n",
       "      <td>NaN</td>\n",
       "      <td>212.14</td>\n",
       "      <td>1.515916e+18</td>\n",
       "      <td>NaN</td>\n",
       "      <td>yellow</td>\n",
       "      <td>gold</td>\n",
       "      <td>NaN</td>\n",
       "    </tr>\n",
       "    <tr>\n",
       "      <th>2</th>\n",
       "      <td>2018-12-02 13:53:42 UTC</td>\n",
       "      <td>1925511016616034733</td>\n",
       "      <td>1842214461889315556</td>\n",
       "      <td>1</td>\n",
       "      <td>1.806829e+18</td>\n",
       "      <td>jewelry.pendant</td>\n",
       "      <td>1.000000e+00</td>\n",
       "      <td>54.66</td>\n",
       "      <td>1.515916e+18</td>\n",
       "      <td>f</td>\n",
       "      <td>white</td>\n",
       "      <td>gold</td>\n",
       "      <td>sapphire</td>\n",
       "    </tr>\n",
       "    <tr>\n",
       "      <th>3</th>\n",
       "      <td>2018-12-02 17:44:02 UTC</td>\n",
       "      <td>1925626951238681511</td>\n",
       "      <td>1835566849434059453</td>\n",
       "      <td>1</td>\n",
       "      <td>1.806829e+18</td>\n",
       "      <td>jewelry.pendant</td>\n",
       "      <td>0.000000e+00</td>\n",
       "      <td>88.90</td>\n",
       "      <td>1.515916e+18</td>\n",
       "      <td>f</td>\n",
       "      <td>red</td>\n",
       "      <td>gold</td>\n",
       "      <td>diamond</td>\n",
       "    </tr>\n",
       "    <tr>\n",
       "      <th>4</th>\n",
       "      <td>2018-12-02 21:30:19 UTC</td>\n",
       "      <td>1925740842841014667</td>\n",
       "      <td>1873936840742928865</td>\n",
       "      <td>1</td>\n",
       "      <td>1.806829e+18</td>\n",
       "      <td>jewelry.necklace</td>\n",
       "      <td>0.000000e+00</td>\n",
       "      <td>417.67</td>\n",
       "      <td>1.515916e+18</td>\n",
       "      <td>NaN</td>\n",
       "      <td>red</td>\n",
       "      <td>gold</td>\n",
       "      <td>amethyst</td>\n",
       "    </tr>\n",
       "    <tr>\n",
       "      <th>...</th>\n",
       "      <td>...</td>\n",
       "      <td>...</td>\n",
       "      <td>...</td>\n",
       "      <td>...</td>\n",
       "      <td>...</td>\n",
       "      <td>...</td>\n",
       "      <td>...</td>\n",
       "      <td>...</td>\n",
       "      <td>...</td>\n",
       "      <td>...</td>\n",
       "      <td>...</td>\n",
       "      <td>...</td>\n",
       "      <td>...</td>\n",
       "    </tr>\n",
       "    <tr>\n",
       "      <th>95906</th>\n",
       "      <td>2021-12-01 09:47:37 UTC</td>\n",
       "      <td>2719016587653808559</td>\n",
       "      <td>1515966223597820877</td>\n",
       "      <td>1</td>\n",
       "      <td>NaN</td>\n",
       "      <td>0.00</td>\n",
       "      <td>1.515916e+18</td>\n",
       "      <td>NaN</td>\n",
       "      <td>NaN</td>\n",
       "      <td>NaN</td>\n",
       "      <td>NaN</td>\n",
       "      <td>NaN</td>\n",
       "      <td>NaN</td>\n",
       "    </tr>\n",
       "    <tr>\n",
       "      <th>95907</th>\n",
       "      <td>2021-12-01 09:50:37 UTC</td>\n",
       "      <td>2719018098886705639</td>\n",
       "      <td>1956663830729720074</td>\n",
       "      <td>1</td>\n",
       "      <td>1.806829e+18</td>\n",
       "      <td>NaN</td>\n",
       "      <td>0.000000e+00</td>\n",
       "      <td>229.99</td>\n",
       "      <td>1.515916e+18</td>\n",
       "      <td>NaN</td>\n",
       "      <td>red</td>\n",
       "      <td>gold</td>\n",
       "      <td>NaN</td>\n",
       "    </tr>\n",
       "    <tr>\n",
       "      <th>95908</th>\n",
       "      <td>2021-12-01 09:52:06 UTC</td>\n",
       "      <td>2719018846999544322</td>\n",
       "      <td>1956663848219968336</td>\n",
       "      <td>1</td>\n",
       "      <td>1.806829e+18</td>\n",
       "      <td>jewelry.earring</td>\n",
       "      <td>1.000000e+00</td>\n",
       "      <td>630.00</td>\n",
       "      <td>1.515916e+18</td>\n",
       "      <td>f</td>\n",
       "      <td>white</td>\n",
       "      <td>gold</td>\n",
       "      <td>diamond</td>\n",
       "    </tr>\n",
       "    <tr>\n",
       "      <th>95909</th>\n",
       "      <td>2021-12-01 09:55:35 UTC</td>\n",
       "      <td>2719020596963836492</td>\n",
       "      <td>1835566854106513435</td>\n",
       "      <td>1</td>\n",
       "      <td>1.806829e+18</td>\n",
       "      <td>jewelry.earring</td>\n",
       "      <td>0.000000e+00</td>\n",
       "      <td>83.42</td>\n",
       "      <td>1.515916e+18</td>\n",
       "      <td>NaN</td>\n",
       "      <td>white</td>\n",
       "      <td>gold</td>\n",
       "      <td>fianit</td>\n",
       "    </tr>\n",
       "    <tr>\n",
       "      <th>95910</th>\n",
       "      <td>2021-12-01 09:59:07 UTC</td>\n",
       "      <td>2719022379232658075</td>\n",
       "      <td>1956663846156370429</td>\n",
       "      <td>1</td>\n",
       "      <td>1.806829e+18</td>\n",
       "      <td>jewelry.pendant</td>\n",
       "      <td>1.000000e+00</td>\n",
       "      <td>97.12</td>\n",
       "      <td>1.515916e+18</td>\n",
       "      <td>NaN</td>\n",
       "      <td>red</td>\n",
       "      <td>gold</td>\n",
       "      <td>NaN</td>\n",
       "    </tr>\n",
       "  </tbody>\n",
       "</table>\n",
       "<p>95911 rows × 13 columns</p>\n",
       "</div>"
      ],
      "text/plain": [
       "                    event_time             order_id           product_id  \\\n",
       "0      2018-12-01 11:40:29 UTC  1924719191579951782  1842195256808833386   \n",
       "1      2018-12-01 17:38:31 UTC  1924899396621697920  1806829193678291446   \n",
       "2      2018-12-02 13:53:42 UTC  1925511016616034733  1842214461889315556   \n",
       "3      2018-12-02 17:44:02 UTC  1925626951238681511  1835566849434059453   \n",
       "4      2018-12-02 21:30:19 UTC  1925740842841014667  1873936840742928865   \n",
       "...                        ...                  ...                  ...   \n",
       "95906  2021-12-01 09:47:37 UTC  2719016587653808559  1515966223597820877   \n",
       "95907  2021-12-01 09:50:37 UTC  2719018098886705639  1956663830729720074   \n",
       "95908  2021-12-01 09:52:06 UTC  2719018846999544322  1956663848219968336   \n",
       "95909  2021-12-01 09:55:35 UTC  2719020596963836492  1835566854106513435   \n",
       "95910  2021-12-01 09:59:07 UTC  2719022379232658075  1956663846156370429   \n",
       "\n",
       "       quantity   category_id     category_code         brand   price  \\\n",
       "0             1  1.806829e+18   jewelry.earring  0.000000e+00  561.51   \n",
       "1             1  1.806829e+18               NaN           NaN  212.14   \n",
       "2             1  1.806829e+18   jewelry.pendant  1.000000e+00   54.66   \n",
       "3             1  1.806829e+18   jewelry.pendant  0.000000e+00   88.90   \n",
       "4             1  1.806829e+18  jewelry.necklace  0.000000e+00  417.67   \n",
       "...         ...           ...               ...           ...     ...   \n",
       "95906         1           NaN              0.00  1.515916e+18     NaN   \n",
       "95907         1  1.806829e+18               NaN  0.000000e+00  229.99   \n",
       "95908         1  1.806829e+18   jewelry.earring  1.000000e+00  630.00   \n",
       "95909         1  1.806829e+18   jewelry.earring  0.000000e+00   83.42   \n",
       "95910         1  1.806829e+18   jewelry.pendant  1.000000e+00   97.12   \n",
       "\n",
       "            user_id gender    colo metal       gem  \n",
       "0      1.515916e+18    NaN     red  gold   diamond  \n",
       "1      1.515916e+18    NaN  yellow  gold       NaN  \n",
       "2      1.515916e+18      f   white  gold  sapphire  \n",
       "3      1.515916e+18      f     red  gold   diamond  \n",
       "4      1.515916e+18    NaN     red  gold  amethyst  \n",
       "...             ...    ...     ...   ...       ...  \n",
       "95906           NaN    NaN     NaN   NaN       NaN  \n",
       "95907  1.515916e+18    NaN     red  gold       NaN  \n",
       "95908  1.515916e+18      f   white  gold   diamond  \n",
       "95909  1.515916e+18    NaN   white  gold    fianit  \n",
       "95910  1.515916e+18    NaN     red  gold       NaN  \n",
       "\n",
       "[95911 rows x 13 columns]"
      ]
     },
     "execution_count": 18,
     "metadata": {},
     "output_type": "execute_result"
    }
   ],
   "source": [
    "# setting the path for joining multiple files\n",
    "data_raw = T = pd.read_csv(\"datasets/eCommerce_purchase_history_from_jewelry_store/dataset.csv\",sep=\",\")\n",
    "\n",
    "data_raw\n"
   ]
  },
  {
   "cell_type": "code",
   "execution_count": 28,
   "metadata": {},
   "outputs": [
    {
     "data": {
      "text/plain": [
       "True"
      ]
     },
     "execution_count": 28,
     "metadata": {},
     "output_type": "execute_result"
    }
   ],
   "source": [
    "# Quantity is always 1\n",
    "\n",
    "data_raw[data_raw[\"quantity\"]==1].index.size == data_raw.index.size"
   ]
  },
  {
   "cell_type": "code",
   "execution_count": 66,
   "metadata": {},
   "outputs": [],
   "source": [
    "# Quantity is always 1\n",
    "\n",
    "data_raw[data_raw[\"quantity\"]==1].index.size == data_raw.index.size\n",
    "\n",
    "grouped_mutliple_items = data_raw.groupby(['order_id', 'product_id']).agg({'quantity': ['count']})\n",
    "\n",
    "#grouped_mutliple_items[grouped_mutliple_items[\"quantity\"]>1]\n",
    "\n",
    "grouped_mutliple_items.columns = [\"quantity\"]\n",
    "grouped_mutliple_items = grouped_mutliple_items.reset_index()\n",
    "grouped_mutliple_items = grouped_mutliple_items[grouped_mutliple_items[\"quantity\"]>1].sort_values(\"quantity\",ascending=False)"
   ]
  },
  {
   "cell_type": "code",
   "execution_count": 72,
   "metadata": {},
   "outputs": [
    {
     "data": {
      "text/html": [
       "<div>\n",
       "<style scoped>\n",
       "    .dataframe tbody tr th:only-of-type {\n",
       "        vertical-align: middle;\n",
       "    }\n",
       "\n",
       "    .dataframe tbody tr th {\n",
       "        vertical-align: top;\n",
       "    }\n",
       "\n",
       "    .dataframe thead th {\n",
       "        text-align: right;\n",
       "    }\n",
       "</style>\n",
       "<table border=\"1\" class=\"dataframe\">\n",
       "  <thead>\n",
       "    <tr style=\"text-align: right;\">\n",
       "      <th></th>\n",
       "      <th>order_id</th>\n",
       "      <th>product_id</th>\n",
       "      <th>quantity</th>\n",
       "    </tr>\n",
       "  </thead>\n",
       "  <tbody>\n",
       "    <tr>\n",
       "      <th>41015</th>\n",
       "      <td>2495379030207889855</td>\n",
       "      <td>1924582891589731058</td>\n",
       "      <td>5</td>\n",
       "    </tr>\n",
       "    <tr>\n",
       "      <th>19915</th>\n",
       "      <td>2353608075732059089</td>\n",
       "      <td>1956663840242401751</td>\n",
       "      <td>5</td>\n",
       "    </tr>\n",
       "    <tr>\n",
       "      <th>40727</th>\n",
       "      <td>2493738608301703823</td>\n",
       "      <td>1956663831283368958</td>\n",
       "      <td>4</td>\n",
       "    </tr>\n",
       "    <tr>\n",
       "      <th>12620</th>\n",
       "      <td>2227042636957483947</td>\n",
       "      <td>1956663846273811079</td>\n",
       "      <td>4</td>\n",
       "    </tr>\n",
       "    <tr>\n",
       "      <th>41012</th>\n",
       "      <td>2495371767527244123</td>\n",
       "      <td>1956663831300145187</td>\n",
       "      <td>4</td>\n",
       "    </tr>\n",
       "    <tr>\n",
       "      <th>...</th>\n",
       "      <td>...</td>\n",
       "      <td>...</td>\n",
       "      <td>...</td>\n",
       "    </tr>\n",
       "    <tr>\n",
       "      <th>22684</th>\n",
       "      <td>2376381688033838048</td>\n",
       "      <td>1956663847725040105</td>\n",
       "      <td>2</td>\n",
       "    </tr>\n",
       "    <tr>\n",
       "      <th>22681</th>\n",
       "      <td>2376366506977002204</td>\n",
       "      <td>1515966222682896901</td>\n",
       "      <td>2</td>\n",
       "    </tr>\n",
       "    <tr>\n",
       "      <th>22662</th>\n",
       "      <td>2376259120639508790</td>\n",
       "      <td>1956663847725040099</td>\n",
       "      <td>2</td>\n",
       "    </tr>\n",
       "    <tr>\n",
       "      <th>22643</th>\n",
       "      <td>2376179809060388868</td>\n",
       "      <td>1956663840225624514</td>\n",
       "      <td>2</td>\n",
       "    </tr>\n",
       "    <tr>\n",
       "      <th>78727</th>\n",
       "      <td>2677781633259537116</td>\n",
       "      <td>1352907200745439279</td>\n",
       "      <td>2</td>\n",
       "    </tr>\n",
       "  </tbody>\n",
       "</table>\n",
       "<p>2298 rows × 3 columns</p>\n",
       "</div>"
      ],
      "text/plain": [
       "                  order_id           product_id  quantity\n",
       "41015  2495379030207889855  1924582891589731058         5\n",
       "19915  2353608075732059089  1956663840242401751         5\n",
       "40727  2493738608301703823  1956663831283368958         4\n",
       "12620  2227042636957483947  1956663846273811079         4\n",
       "41012  2495371767527244123  1956663831300145187         4\n",
       "...                    ...                  ...       ...\n",
       "22684  2376381688033838048  1956663847725040105         2\n",
       "22681  2376366506977002204  1515966222682896901         2\n",
       "22662  2376259120639508790  1956663847725040099         2\n",
       "22643  2376179809060388868  1956663840225624514         2\n",
       "78727  2677781633259537116  1352907200745439279         2\n",
       "\n",
       "[2298 rows x 3 columns]"
      ]
     },
     "execution_count": 72,
     "metadata": {},
     "output_type": "execute_result"
    }
   ],
   "source": [
    "grouped_mutliple_items"
   ]
  },
  {
   "cell_type": "code",
   "execution_count": 93,
   "metadata": {},
   "outputs": [
    {
     "data": {
      "application/vnd.plotly.v1+json": {
       "config": {
        "plotlyServerURL": "https://plot.ly"
       },
       "data": [
        {
         "alignmentgroup": "True",
         "hovertemplate": "index=%{x}<br>y=%{y}<extra></extra>",
         "legendgroup": "",
         "marker": {
          "color": "#636efa",
          "pattern": {
           "shape": ""
          }
         },
         "name": "",
         "offsetgroup": "",
         "orientation": "v",
         "showlegend": false,
         "textposition": "auto",
         "type": "bar",
         "width": 0.5,
         "x": [
          2,
          3,
          4,
          5
         ],
         "xaxis": "x",
         "y": [
          0.8981723237597912,
          0.07789382071366406,
          0.023063533507397736,
          0.0008703220191470844
         ],
         "yaxis": "y"
        }
       ],
       "layout": {
        "barmode": "relative",
        "height": 400,
        "legend": {
         "title": {
          "text": "Multiple items per transaction distribution"
         },
         "tracegroupgap": 0
        },
        "margin": {
         "t": 60
        },
        "template": {
         "data": {
          "bar": [
           {
            "error_x": {
             "color": "#2a3f5f"
            },
            "error_y": {
             "color": "#2a3f5f"
            },
            "marker": {
             "line": {
              "color": "#E5ECF6",
              "width": 0.5
             },
             "pattern": {
              "fillmode": "overlay",
              "size": 10,
              "solidity": 0.2
             }
            },
            "type": "bar"
           }
          ],
          "barpolar": [
           {
            "marker": {
             "line": {
              "color": "#E5ECF6",
              "width": 0.5
             },
             "pattern": {
              "fillmode": "overlay",
              "size": 10,
              "solidity": 0.2
             }
            },
            "type": "barpolar"
           }
          ],
          "carpet": [
           {
            "aaxis": {
             "endlinecolor": "#2a3f5f",
             "gridcolor": "white",
             "linecolor": "white",
             "minorgridcolor": "white",
             "startlinecolor": "#2a3f5f"
            },
            "baxis": {
             "endlinecolor": "#2a3f5f",
             "gridcolor": "white",
             "linecolor": "white",
             "minorgridcolor": "white",
             "startlinecolor": "#2a3f5f"
            },
            "type": "carpet"
           }
          ],
          "choropleth": [
           {
            "colorbar": {
             "outlinewidth": 0,
             "ticks": ""
            },
            "type": "choropleth"
           }
          ],
          "contour": [
           {
            "colorbar": {
             "outlinewidth": 0,
             "ticks": ""
            },
            "colorscale": [
             [
              0,
              "#0d0887"
             ],
             [
              0.1111111111111111,
              "#46039f"
             ],
             [
              0.2222222222222222,
              "#7201a8"
             ],
             [
              0.3333333333333333,
              "#9c179e"
             ],
             [
              0.4444444444444444,
              "#bd3786"
             ],
             [
              0.5555555555555556,
              "#d8576b"
             ],
             [
              0.6666666666666666,
              "#ed7953"
             ],
             [
              0.7777777777777778,
              "#fb9f3a"
             ],
             [
              0.8888888888888888,
              "#fdca26"
             ],
             [
              1,
              "#f0f921"
             ]
            ],
            "type": "contour"
           }
          ],
          "contourcarpet": [
           {
            "colorbar": {
             "outlinewidth": 0,
             "ticks": ""
            },
            "type": "contourcarpet"
           }
          ],
          "heatmap": [
           {
            "colorbar": {
             "outlinewidth": 0,
             "ticks": ""
            },
            "colorscale": [
             [
              0,
              "#0d0887"
             ],
             [
              0.1111111111111111,
              "#46039f"
             ],
             [
              0.2222222222222222,
              "#7201a8"
             ],
             [
              0.3333333333333333,
              "#9c179e"
             ],
             [
              0.4444444444444444,
              "#bd3786"
             ],
             [
              0.5555555555555556,
              "#d8576b"
             ],
             [
              0.6666666666666666,
              "#ed7953"
             ],
             [
              0.7777777777777778,
              "#fb9f3a"
             ],
             [
              0.8888888888888888,
              "#fdca26"
             ],
             [
              1,
              "#f0f921"
             ]
            ],
            "type": "heatmap"
           }
          ],
          "heatmapgl": [
           {
            "colorbar": {
             "outlinewidth": 0,
             "ticks": ""
            },
            "colorscale": [
             [
              0,
              "#0d0887"
             ],
             [
              0.1111111111111111,
              "#46039f"
             ],
             [
              0.2222222222222222,
              "#7201a8"
             ],
             [
              0.3333333333333333,
              "#9c179e"
             ],
             [
              0.4444444444444444,
              "#bd3786"
             ],
             [
              0.5555555555555556,
              "#d8576b"
             ],
             [
              0.6666666666666666,
              "#ed7953"
             ],
             [
              0.7777777777777778,
              "#fb9f3a"
             ],
             [
              0.8888888888888888,
              "#fdca26"
             ],
             [
              1,
              "#f0f921"
             ]
            ],
            "type": "heatmapgl"
           }
          ],
          "histogram": [
           {
            "marker": {
             "pattern": {
              "fillmode": "overlay",
              "size": 10,
              "solidity": 0.2
             }
            },
            "type": "histogram"
           }
          ],
          "histogram2d": [
           {
            "colorbar": {
             "outlinewidth": 0,
             "ticks": ""
            },
            "colorscale": [
             [
              0,
              "#0d0887"
             ],
             [
              0.1111111111111111,
              "#46039f"
             ],
             [
              0.2222222222222222,
              "#7201a8"
             ],
             [
              0.3333333333333333,
              "#9c179e"
             ],
             [
              0.4444444444444444,
              "#bd3786"
             ],
             [
              0.5555555555555556,
              "#d8576b"
             ],
             [
              0.6666666666666666,
              "#ed7953"
             ],
             [
              0.7777777777777778,
              "#fb9f3a"
             ],
             [
              0.8888888888888888,
              "#fdca26"
             ],
             [
              1,
              "#f0f921"
             ]
            ],
            "type": "histogram2d"
           }
          ],
          "histogram2dcontour": [
           {
            "colorbar": {
             "outlinewidth": 0,
             "ticks": ""
            },
            "colorscale": [
             [
              0,
              "#0d0887"
             ],
             [
              0.1111111111111111,
              "#46039f"
             ],
             [
              0.2222222222222222,
              "#7201a8"
             ],
             [
              0.3333333333333333,
              "#9c179e"
             ],
             [
              0.4444444444444444,
              "#bd3786"
             ],
             [
              0.5555555555555556,
              "#d8576b"
             ],
             [
              0.6666666666666666,
              "#ed7953"
             ],
             [
              0.7777777777777778,
              "#fb9f3a"
             ],
             [
              0.8888888888888888,
              "#fdca26"
             ],
             [
              1,
              "#f0f921"
             ]
            ],
            "type": "histogram2dcontour"
           }
          ],
          "mesh3d": [
           {
            "colorbar": {
             "outlinewidth": 0,
             "ticks": ""
            },
            "type": "mesh3d"
           }
          ],
          "parcoords": [
           {
            "line": {
             "colorbar": {
              "outlinewidth": 0,
              "ticks": ""
             }
            },
            "type": "parcoords"
           }
          ],
          "pie": [
           {
            "automargin": true,
            "type": "pie"
           }
          ],
          "scatter": [
           {
            "fillpattern": {
             "fillmode": "overlay",
             "size": 10,
             "solidity": 0.2
            },
            "type": "scatter"
           }
          ],
          "scatter3d": [
           {
            "line": {
             "colorbar": {
              "outlinewidth": 0,
              "ticks": ""
             }
            },
            "marker": {
             "colorbar": {
              "outlinewidth": 0,
              "ticks": ""
             }
            },
            "type": "scatter3d"
           }
          ],
          "scattercarpet": [
           {
            "marker": {
             "colorbar": {
              "outlinewidth": 0,
              "ticks": ""
             }
            },
            "type": "scattercarpet"
           }
          ],
          "scattergeo": [
           {
            "marker": {
             "colorbar": {
              "outlinewidth": 0,
              "ticks": ""
             }
            },
            "type": "scattergeo"
           }
          ],
          "scattergl": [
           {
            "marker": {
             "colorbar": {
              "outlinewidth": 0,
              "ticks": ""
             }
            },
            "type": "scattergl"
           }
          ],
          "scattermapbox": [
           {
            "marker": {
             "colorbar": {
              "outlinewidth": 0,
              "ticks": ""
             }
            },
            "type": "scattermapbox"
           }
          ],
          "scatterpolar": [
           {
            "marker": {
             "colorbar": {
              "outlinewidth": 0,
              "ticks": ""
             }
            },
            "type": "scatterpolar"
           }
          ],
          "scatterpolargl": [
           {
            "marker": {
             "colorbar": {
              "outlinewidth": 0,
              "ticks": ""
             }
            },
            "type": "scatterpolargl"
           }
          ],
          "scatterternary": [
           {
            "marker": {
             "colorbar": {
              "outlinewidth": 0,
              "ticks": ""
             }
            },
            "type": "scatterternary"
           }
          ],
          "surface": [
           {
            "colorbar": {
             "outlinewidth": 0,
             "ticks": ""
            },
            "colorscale": [
             [
              0,
              "#0d0887"
             ],
             [
              0.1111111111111111,
              "#46039f"
             ],
             [
              0.2222222222222222,
              "#7201a8"
             ],
             [
              0.3333333333333333,
              "#9c179e"
             ],
             [
              0.4444444444444444,
              "#bd3786"
             ],
             [
              0.5555555555555556,
              "#d8576b"
             ],
             [
              0.6666666666666666,
              "#ed7953"
             ],
             [
              0.7777777777777778,
              "#fb9f3a"
             ],
             [
              0.8888888888888888,
              "#fdca26"
             ],
             [
              1,
              "#f0f921"
             ]
            ],
            "type": "surface"
           }
          ],
          "table": [
           {
            "cells": {
             "fill": {
              "color": "#EBF0F8"
             },
             "line": {
              "color": "white"
             }
            },
            "header": {
             "fill": {
              "color": "#C8D4E3"
             },
             "line": {
              "color": "white"
             }
            },
            "type": "table"
           }
          ]
         },
         "layout": {
          "annotationdefaults": {
           "arrowcolor": "#2a3f5f",
           "arrowhead": 0,
           "arrowwidth": 1
          },
          "autotypenumbers": "strict",
          "coloraxis": {
           "colorbar": {
            "outlinewidth": 0,
            "ticks": ""
           }
          },
          "colorscale": {
           "diverging": [
            [
             0,
             "#8e0152"
            ],
            [
             0.1,
             "#c51b7d"
            ],
            [
             0.2,
             "#de77ae"
            ],
            [
             0.3,
             "#f1b6da"
            ],
            [
             0.4,
             "#fde0ef"
            ],
            [
             0.5,
             "#f7f7f7"
            ],
            [
             0.6,
             "#e6f5d0"
            ],
            [
             0.7,
             "#b8e186"
            ],
            [
             0.8,
             "#7fbc41"
            ],
            [
             0.9,
             "#4d9221"
            ],
            [
             1,
             "#276419"
            ]
           ],
           "sequential": [
            [
             0,
             "#0d0887"
            ],
            [
             0.1111111111111111,
             "#46039f"
            ],
            [
             0.2222222222222222,
             "#7201a8"
            ],
            [
             0.3333333333333333,
             "#9c179e"
            ],
            [
             0.4444444444444444,
             "#bd3786"
            ],
            [
             0.5555555555555556,
             "#d8576b"
            ],
            [
             0.6666666666666666,
             "#ed7953"
            ],
            [
             0.7777777777777778,
             "#fb9f3a"
            ],
            [
             0.8888888888888888,
             "#fdca26"
            ],
            [
             1,
             "#f0f921"
            ]
           ],
           "sequentialminus": [
            [
             0,
             "#0d0887"
            ],
            [
             0.1111111111111111,
             "#46039f"
            ],
            [
             0.2222222222222222,
             "#7201a8"
            ],
            [
             0.3333333333333333,
             "#9c179e"
            ],
            [
             0.4444444444444444,
             "#bd3786"
            ],
            [
             0.5555555555555556,
             "#d8576b"
            ],
            [
             0.6666666666666666,
             "#ed7953"
            ],
            [
             0.7777777777777778,
             "#fb9f3a"
            ],
            [
             0.8888888888888888,
             "#fdca26"
            ],
            [
             1,
             "#f0f921"
            ]
           ]
          },
          "colorway": [
           "#636efa",
           "#EF553B",
           "#00cc96",
           "#ab63fa",
           "#FFA15A",
           "#19d3f3",
           "#FF6692",
           "#B6E880",
           "#FF97FF",
           "#FECB52"
          ],
          "font": {
           "color": "#2a3f5f"
          },
          "geo": {
           "bgcolor": "white",
           "lakecolor": "white",
           "landcolor": "#E5ECF6",
           "showlakes": true,
           "showland": true,
           "subunitcolor": "white"
          },
          "hoverlabel": {
           "align": "left"
          },
          "hovermode": "closest",
          "mapbox": {
           "style": "light"
          },
          "paper_bgcolor": "white",
          "plot_bgcolor": "#E5ECF6",
          "polar": {
           "angularaxis": {
            "gridcolor": "white",
            "linecolor": "white",
            "ticks": ""
           },
           "bgcolor": "#E5ECF6",
           "radialaxis": {
            "gridcolor": "white",
            "linecolor": "white",
            "ticks": ""
           }
          },
          "scene": {
           "xaxis": {
            "backgroundcolor": "#E5ECF6",
            "gridcolor": "white",
            "gridwidth": 2,
            "linecolor": "white",
            "showbackground": true,
            "ticks": "",
            "zerolinecolor": "white"
           },
           "yaxis": {
            "backgroundcolor": "#E5ECF6",
            "gridcolor": "white",
            "gridwidth": 2,
            "linecolor": "white",
            "showbackground": true,
            "ticks": "",
            "zerolinecolor": "white"
           },
           "zaxis": {
            "backgroundcolor": "#E5ECF6",
            "gridcolor": "white",
            "gridwidth": 2,
            "linecolor": "white",
            "showbackground": true,
            "ticks": "",
            "zerolinecolor": "white"
           }
          },
          "shapedefaults": {
           "line": {
            "color": "#2a3f5f"
           }
          },
          "ternary": {
           "aaxis": {
            "gridcolor": "white",
            "linecolor": "white",
            "ticks": ""
           },
           "baxis": {
            "gridcolor": "white",
            "linecolor": "white",
            "ticks": ""
           },
           "bgcolor": "#E5ECF6",
           "caxis": {
            "gridcolor": "white",
            "linecolor": "white",
            "ticks": ""
           }
          },
          "title": {
           "x": 0.05
          },
          "xaxis": {
           "automargin": true,
           "gridcolor": "white",
           "linecolor": "white",
           "ticks": "",
           "title": {
            "standoff": 15
           },
           "zerolinecolor": "white",
           "zerolinewidth": 2
          },
          "yaxis": {
           "automargin": true,
           "gridcolor": "white",
           "linecolor": "white",
           "ticks": "",
           "title": {
            "standoff": 15
           },
           "zerolinecolor": "white",
           "zerolinewidth": 2
          }
         }
        },
        "width": 400,
        "xaxis": {
         "anchor": "y",
         "domain": [
          0,
          1
         ],
         "tickformat": ",d",
         "title": {
          "text": "Multiple items per transaction"
         }
        },
        "yaxis": {
         "anchor": "x",
         "domain": [
          0,
          1
         ],
         "tickformat": "0%",
         "title": {
          "text": "Distribution"
         }
        }
       }
      }
     },
     "metadata": {},
     "output_type": "display_data"
    }
   ],
   "source": [
    "# Mutiple items per transaction\n",
    "\n",
    "import seaborn as sns\n",
    "\n",
    "mutliple_items_per_transaction = grouped_mutliple_items[\"quantity\"].value_counts()\n",
    "mutliple_items_per_transaction.rename_axis(\"frequency\")\n",
    "\n",
    "# lenth_of_transactions\n",
    "\n",
    "total = mutliple_items_per_transaction.values.sum()\n",
    "\n",
    "import plotly.express as px\n",
    "fig = px.bar(mutliple_items_per_transaction, x=mutliple_items_per_transaction.index, y=mutliple_items_per_transaction.values/total,width=400, height=400)\n",
    "fig.update_traces(width=0.5)\n",
    "fig.update_layout(\n",
    "    xaxis_title=\"Multiple items per transaction\",\n",
    "    yaxis_tickformat ='0%',\n",
    "    xaxis_tickformat = ',d',\n",
    "    yaxis_title=\"Distribution\",\n",
    "    legend_title=\"Multiple items per transaction distribution\",)\n",
    "\n",
    "fig.show()\n"
   ]
  },
  {
   "cell_type": "code",
   "execution_count": 94,
   "metadata": {},
   "outputs": [
    {
     "name": "stderr",
     "output_type": "stream",
     "text": [
      "C:\\Users\\david\\AppData\\Local\\Temp/ipykernel_5936/4105145759.py:12: FutureWarning:\n",
      "\n",
      "Indexing with multiple keys (implicitly converted to a tuple of keys) will be deprecated, use a list instead.\n",
      "\n"
     ]
    },
    {
     "data": {
      "text/html": [
       "<div>\n",
       "<style scoped>\n",
       "    .dataframe tbody tr th:only-of-type {\n",
       "        vertical-align: middle;\n",
       "    }\n",
       "\n",
       "    .dataframe tbody tr th {\n",
       "        vertical-align: top;\n",
       "    }\n",
       "\n",
       "    .dataframe thead th {\n",
       "        text-align: right;\n",
       "    }\n",
       "</style>\n",
       "<table border=\"1\" class=\"dataframe\">\n",
       "  <thead>\n",
       "    <tr style=\"text-align: right;\">\n",
       "      <th></th>\n",
       "      <th>product_id</th>\n",
       "      <th>date</th>\n",
       "      <th>price</th>\n",
       "      <th>margin</th>\n",
       "    </tr>\n",
       "    <tr>\n",
       "      <th>order_id</th>\n",
       "      <th></th>\n",
       "      <th></th>\n",
       "      <th></th>\n",
       "      <th></th>\n",
       "    </tr>\n",
       "  </thead>\n",
       "  <tbody>\n",
       "    <tr>\n",
       "      <th>1924719191579951782</th>\n",
       "      <td>[1842195256808833386]</td>\n",
       "      <td>[2018-12-01]</td>\n",
       "      <td>[561.51]</td>\n",
       "      <td>[0.1]</td>\n",
       "    </tr>\n",
       "    <tr>\n",
       "      <th>1924899396621697920</th>\n",
       "      <td>[1806829193678291446]</td>\n",
       "      <td>[2018-12-01]</td>\n",
       "      <td>[212.14]</td>\n",
       "      <td>[0.1]</td>\n",
       "    </tr>\n",
       "    <tr>\n",
       "      <th>1925511016616034733</th>\n",
       "      <td>[1842214461889315556]</td>\n",
       "      <td>[2018-12-02]</td>\n",
       "      <td>[54.66]</td>\n",
       "      <td>[0.1]</td>\n",
       "    </tr>\n",
       "    <tr>\n",
       "      <th>1925626951238681511</th>\n",
       "      <td>[1835566849434059453]</td>\n",
       "      <td>[2018-12-02]</td>\n",
       "      <td>[88.9]</td>\n",
       "      <td>[0.1]</td>\n",
       "    </tr>\n",
       "    <tr>\n",
       "      <th>1925740842841014667</th>\n",
       "      <td>[1873936840742928865]</td>\n",
       "      <td>[2018-12-02]</td>\n",
       "      <td>[417.67]</td>\n",
       "      <td>[0.1]</td>\n",
       "    </tr>\n",
       "    <tr>\n",
       "      <th>...</th>\n",
       "      <td>...</td>\n",
       "      <td>...</td>\n",
       "      <td>...</td>\n",
       "      <td>...</td>\n",
       "    </tr>\n",
       "    <tr>\n",
       "      <th>2719016587653808559</th>\n",
       "      <td>[1515966223597820877]</td>\n",
       "      <td>[2021-12-01]</td>\n",
       "      <td>[nan]</td>\n",
       "      <td>[0.1]</td>\n",
       "    </tr>\n",
       "    <tr>\n",
       "      <th>2719018098886705639</th>\n",
       "      <td>[1956663830729720074]</td>\n",
       "      <td>[2021-12-01]</td>\n",
       "      <td>[229.99]</td>\n",
       "      <td>[0.1]</td>\n",
       "    </tr>\n",
       "    <tr>\n",
       "      <th>2719018846999544322</th>\n",
       "      <td>[1956663848219968336]</td>\n",
       "      <td>[2021-12-01]</td>\n",
       "      <td>[630.0]</td>\n",
       "      <td>[0.1]</td>\n",
       "    </tr>\n",
       "    <tr>\n",
       "      <th>2719020596963836492</th>\n",
       "      <td>[1835566854106513435]</td>\n",
       "      <td>[2021-12-01]</td>\n",
       "      <td>[83.42]</td>\n",
       "      <td>[0.1]</td>\n",
       "    </tr>\n",
       "    <tr>\n",
       "      <th>2719022379232658075</th>\n",
       "      <td>[1956663846156370429]</td>\n",
       "      <td>[2021-12-01]</td>\n",
       "      <td>[97.12]</td>\n",
       "      <td>[0.1]</td>\n",
       "    </tr>\n",
       "  </tbody>\n",
       "</table>\n",
       "<p>74760 rows × 4 columns</p>\n",
       "</div>"
      ],
      "text/plain": [
       "                                product_id          date     price margin\n",
       "order_id                                                                 \n",
       "1924719191579951782  [1842195256808833386]  [2018-12-01]  [561.51]  [0.1]\n",
       "1924899396621697920  [1806829193678291446]  [2018-12-01]  [212.14]  [0.1]\n",
       "1925511016616034733  [1842214461889315556]  [2018-12-02]   [54.66]  [0.1]\n",
       "1925626951238681511  [1835566849434059453]  [2018-12-02]    [88.9]  [0.1]\n",
       "1925740842841014667  [1873936840742928865]  [2018-12-02]  [417.67]  [0.1]\n",
       "...                                    ...           ...       ...    ...\n",
       "2719016587653808559  [1515966223597820877]  [2021-12-01]     [nan]  [0.1]\n",
       "2719018098886705639  [1956663830729720074]  [2021-12-01]  [229.99]  [0.1]\n",
       "2719018846999544322  [1956663848219968336]  [2021-12-01]   [630.0]  [0.1]\n",
       "2719020596963836492  [1835566854106513435]  [2021-12-01]   [83.42]  [0.1]\n",
       "2719022379232658075  [1956663846156370429]  [2021-12-01]   [97.12]  [0.1]\n",
       "\n",
       "[74760 rows x 4 columns]"
      ]
     },
     "execution_count": 94,
     "metadata": {},
     "output_type": "execute_result"
    }
   ],
   "source": [
    "# group by Transaction\n",
    "\n",
    "import math\n",
    "import datetime\n",
    "\n",
    "data_raw[\"date\"] = pd.to_datetime(data_raw['event_time']).dt.date\n",
    "max_date = data_raw[\"date\"].max()\n",
    "data_raw[\"margin\"] = 0.1\n",
    "data_raw[\"profit\"] = data_raw[\"price\"] * data_raw[\"margin\"]\n",
    "max_profit = data_raw[\"profit\"].max()\n",
    "\n",
    "data = data_raw.groupby(\"order_id\",dropna=True)[\"product_id\",\"date\",\"price\",\"margin\"].agg(lambda x: list(x))\n",
    "\n",
    "data"
   ]
  },
  {
   "cell_type": "code",
   "execution_count": 95,
   "metadata": {},
   "outputs": [
    {
     "data": {
      "application/vnd.plotly.v1+json": {
       "config": {
        "plotlyServerURL": "https://plot.ly"
       },
       "data": [
        {
         "alignmentgroup": "True",
         "hovertemplate": "index=%{x}<br>y=%{y}<extra></extra>",
         "legendgroup": "",
         "marker": {
          "color": "#636efa",
          "pattern": {
           "shape": ""
          }
         },
         "name": "",
         "offsetgroup": "",
         "orientation": "v",
         "showlegend": false,
         "textposition": "auto",
         "type": "bar",
         "width": 0.5,
         "x": [
          1,
          2,
          3,
          4,
          5,
          6,
          7,
          8,
          9,
          10,
          11,
          12,
          16,
          15,
          13,
          17,
          26
         ],
         "xaxis": "x",
         "y": [
          0.8029828785446763,
          0.14628143392188336,
          0.032463884430176566,
          0.01059390048154093,
          0.0037586944890315678,
          0.0020064205457463883,
          0.0008025682182985554,
          0.00036115569823434994,
          0.00026752273943285177,
          0.00021401819154628142,
          0.00006688068485821294,
          0.000053504547886570356,
          0.00004012841091492777,
          0.00004012841091492777,
          0.00004012841091492777,
          0.000013376136971642589,
          0.000013376136971642589
         ],
         "yaxis": "y"
        }
       ],
       "layout": {
        "barmode": "relative",
        "legend": {
         "title": {
          "text": "Transaction Length Dsitribution"
         },
         "tracegroupgap": 0
        },
        "margin": {
         "t": 60
        },
        "template": {
         "data": {
          "bar": [
           {
            "error_x": {
             "color": "#2a3f5f"
            },
            "error_y": {
             "color": "#2a3f5f"
            },
            "marker": {
             "line": {
              "color": "#E5ECF6",
              "width": 0.5
             },
             "pattern": {
              "fillmode": "overlay",
              "size": 10,
              "solidity": 0.2
             }
            },
            "type": "bar"
           }
          ],
          "barpolar": [
           {
            "marker": {
             "line": {
              "color": "#E5ECF6",
              "width": 0.5
             },
             "pattern": {
              "fillmode": "overlay",
              "size": 10,
              "solidity": 0.2
             }
            },
            "type": "barpolar"
           }
          ],
          "carpet": [
           {
            "aaxis": {
             "endlinecolor": "#2a3f5f",
             "gridcolor": "white",
             "linecolor": "white",
             "minorgridcolor": "white",
             "startlinecolor": "#2a3f5f"
            },
            "baxis": {
             "endlinecolor": "#2a3f5f",
             "gridcolor": "white",
             "linecolor": "white",
             "minorgridcolor": "white",
             "startlinecolor": "#2a3f5f"
            },
            "type": "carpet"
           }
          ],
          "choropleth": [
           {
            "colorbar": {
             "outlinewidth": 0,
             "ticks": ""
            },
            "type": "choropleth"
           }
          ],
          "contour": [
           {
            "colorbar": {
             "outlinewidth": 0,
             "ticks": ""
            },
            "colorscale": [
             [
              0,
              "#0d0887"
             ],
             [
              0.1111111111111111,
              "#46039f"
             ],
             [
              0.2222222222222222,
              "#7201a8"
             ],
             [
              0.3333333333333333,
              "#9c179e"
             ],
             [
              0.4444444444444444,
              "#bd3786"
             ],
             [
              0.5555555555555556,
              "#d8576b"
             ],
             [
              0.6666666666666666,
              "#ed7953"
             ],
             [
              0.7777777777777778,
              "#fb9f3a"
             ],
             [
              0.8888888888888888,
              "#fdca26"
             ],
             [
              1,
              "#f0f921"
             ]
            ],
            "type": "contour"
           }
          ],
          "contourcarpet": [
           {
            "colorbar": {
             "outlinewidth": 0,
             "ticks": ""
            },
            "type": "contourcarpet"
           }
          ],
          "heatmap": [
           {
            "colorbar": {
             "outlinewidth": 0,
             "ticks": ""
            },
            "colorscale": [
             [
              0,
              "#0d0887"
             ],
             [
              0.1111111111111111,
              "#46039f"
             ],
             [
              0.2222222222222222,
              "#7201a8"
             ],
             [
              0.3333333333333333,
              "#9c179e"
             ],
             [
              0.4444444444444444,
              "#bd3786"
             ],
             [
              0.5555555555555556,
              "#d8576b"
             ],
             [
              0.6666666666666666,
              "#ed7953"
             ],
             [
              0.7777777777777778,
              "#fb9f3a"
             ],
             [
              0.8888888888888888,
              "#fdca26"
             ],
             [
              1,
              "#f0f921"
             ]
            ],
            "type": "heatmap"
           }
          ],
          "heatmapgl": [
           {
            "colorbar": {
             "outlinewidth": 0,
             "ticks": ""
            },
            "colorscale": [
             [
              0,
              "#0d0887"
             ],
             [
              0.1111111111111111,
              "#46039f"
             ],
             [
              0.2222222222222222,
              "#7201a8"
             ],
             [
              0.3333333333333333,
              "#9c179e"
             ],
             [
              0.4444444444444444,
              "#bd3786"
             ],
             [
              0.5555555555555556,
              "#d8576b"
             ],
             [
              0.6666666666666666,
              "#ed7953"
             ],
             [
              0.7777777777777778,
              "#fb9f3a"
             ],
             [
              0.8888888888888888,
              "#fdca26"
             ],
             [
              1,
              "#f0f921"
             ]
            ],
            "type": "heatmapgl"
           }
          ],
          "histogram": [
           {
            "marker": {
             "pattern": {
              "fillmode": "overlay",
              "size": 10,
              "solidity": 0.2
             }
            },
            "type": "histogram"
           }
          ],
          "histogram2d": [
           {
            "colorbar": {
             "outlinewidth": 0,
             "ticks": ""
            },
            "colorscale": [
             [
              0,
              "#0d0887"
             ],
             [
              0.1111111111111111,
              "#46039f"
             ],
             [
              0.2222222222222222,
              "#7201a8"
             ],
             [
              0.3333333333333333,
              "#9c179e"
             ],
             [
              0.4444444444444444,
              "#bd3786"
             ],
             [
              0.5555555555555556,
              "#d8576b"
             ],
             [
              0.6666666666666666,
              "#ed7953"
             ],
             [
              0.7777777777777778,
              "#fb9f3a"
             ],
             [
              0.8888888888888888,
              "#fdca26"
             ],
             [
              1,
              "#f0f921"
             ]
            ],
            "type": "histogram2d"
           }
          ],
          "histogram2dcontour": [
           {
            "colorbar": {
             "outlinewidth": 0,
             "ticks": ""
            },
            "colorscale": [
             [
              0,
              "#0d0887"
             ],
             [
              0.1111111111111111,
              "#46039f"
             ],
             [
              0.2222222222222222,
              "#7201a8"
             ],
             [
              0.3333333333333333,
              "#9c179e"
             ],
             [
              0.4444444444444444,
              "#bd3786"
             ],
             [
              0.5555555555555556,
              "#d8576b"
             ],
             [
              0.6666666666666666,
              "#ed7953"
             ],
             [
              0.7777777777777778,
              "#fb9f3a"
             ],
             [
              0.8888888888888888,
              "#fdca26"
             ],
             [
              1,
              "#f0f921"
             ]
            ],
            "type": "histogram2dcontour"
           }
          ],
          "mesh3d": [
           {
            "colorbar": {
             "outlinewidth": 0,
             "ticks": ""
            },
            "type": "mesh3d"
           }
          ],
          "parcoords": [
           {
            "line": {
             "colorbar": {
              "outlinewidth": 0,
              "ticks": ""
             }
            },
            "type": "parcoords"
           }
          ],
          "pie": [
           {
            "automargin": true,
            "type": "pie"
           }
          ],
          "scatter": [
           {
            "fillpattern": {
             "fillmode": "overlay",
             "size": 10,
             "solidity": 0.2
            },
            "type": "scatter"
           }
          ],
          "scatter3d": [
           {
            "line": {
             "colorbar": {
              "outlinewidth": 0,
              "ticks": ""
             }
            },
            "marker": {
             "colorbar": {
              "outlinewidth": 0,
              "ticks": ""
             }
            },
            "type": "scatter3d"
           }
          ],
          "scattercarpet": [
           {
            "marker": {
             "colorbar": {
              "outlinewidth": 0,
              "ticks": ""
             }
            },
            "type": "scattercarpet"
           }
          ],
          "scattergeo": [
           {
            "marker": {
             "colorbar": {
              "outlinewidth": 0,
              "ticks": ""
             }
            },
            "type": "scattergeo"
           }
          ],
          "scattergl": [
           {
            "marker": {
             "colorbar": {
              "outlinewidth": 0,
              "ticks": ""
             }
            },
            "type": "scattergl"
           }
          ],
          "scattermapbox": [
           {
            "marker": {
             "colorbar": {
              "outlinewidth": 0,
              "ticks": ""
             }
            },
            "type": "scattermapbox"
           }
          ],
          "scatterpolar": [
           {
            "marker": {
             "colorbar": {
              "outlinewidth": 0,
              "ticks": ""
             }
            },
            "type": "scatterpolar"
           }
          ],
          "scatterpolargl": [
           {
            "marker": {
             "colorbar": {
              "outlinewidth": 0,
              "ticks": ""
             }
            },
            "type": "scatterpolargl"
           }
          ],
          "scatterternary": [
           {
            "marker": {
             "colorbar": {
              "outlinewidth": 0,
              "ticks": ""
             }
            },
            "type": "scatterternary"
           }
          ],
          "surface": [
           {
            "colorbar": {
             "outlinewidth": 0,
             "ticks": ""
            },
            "colorscale": [
             [
              0,
              "#0d0887"
             ],
             [
              0.1111111111111111,
              "#46039f"
             ],
             [
              0.2222222222222222,
              "#7201a8"
             ],
             [
              0.3333333333333333,
              "#9c179e"
             ],
             [
              0.4444444444444444,
              "#bd3786"
             ],
             [
              0.5555555555555556,
              "#d8576b"
             ],
             [
              0.6666666666666666,
              "#ed7953"
             ],
             [
              0.7777777777777778,
              "#fb9f3a"
             ],
             [
              0.8888888888888888,
              "#fdca26"
             ],
             [
              1,
              "#f0f921"
             ]
            ],
            "type": "surface"
           }
          ],
          "table": [
           {
            "cells": {
             "fill": {
              "color": "#EBF0F8"
             },
             "line": {
              "color": "white"
             }
            },
            "header": {
             "fill": {
              "color": "#C8D4E3"
             },
             "line": {
              "color": "white"
             }
            },
            "type": "table"
           }
          ]
         },
         "layout": {
          "annotationdefaults": {
           "arrowcolor": "#2a3f5f",
           "arrowhead": 0,
           "arrowwidth": 1
          },
          "autotypenumbers": "strict",
          "coloraxis": {
           "colorbar": {
            "outlinewidth": 0,
            "ticks": ""
           }
          },
          "colorscale": {
           "diverging": [
            [
             0,
             "#8e0152"
            ],
            [
             0.1,
             "#c51b7d"
            ],
            [
             0.2,
             "#de77ae"
            ],
            [
             0.3,
             "#f1b6da"
            ],
            [
             0.4,
             "#fde0ef"
            ],
            [
             0.5,
             "#f7f7f7"
            ],
            [
             0.6,
             "#e6f5d0"
            ],
            [
             0.7,
             "#b8e186"
            ],
            [
             0.8,
             "#7fbc41"
            ],
            [
             0.9,
             "#4d9221"
            ],
            [
             1,
             "#276419"
            ]
           ],
           "sequential": [
            [
             0,
             "#0d0887"
            ],
            [
             0.1111111111111111,
             "#46039f"
            ],
            [
             0.2222222222222222,
             "#7201a8"
            ],
            [
             0.3333333333333333,
             "#9c179e"
            ],
            [
             0.4444444444444444,
             "#bd3786"
            ],
            [
             0.5555555555555556,
             "#d8576b"
            ],
            [
             0.6666666666666666,
             "#ed7953"
            ],
            [
             0.7777777777777778,
             "#fb9f3a"
            ],
            [
             0.8888888888888888,
             "#fdca26"
            ],
            [
             1,
             "#f0f921"
            ]
           ],
           "sequentialminus": [
            [
             0,
             "#0d0887"
            ],
            [
             0.1111111111111111,
             "#46039f"
            ],
            [
             0.2222222222222222,
             "#7201a8"
            ],
            [
             0.3333333333333333,
             "#9c179e"
            ],
            [
             0.4444444444444444,
             "#bd3786"
            ],
            [
             0.5555555555555556,
             "#d8576b"
            ],
            [
             0.6666666666666666,
             "#ed7953"
            ],
            [
             0.7777777777777778,
             "#fb9f3a"
            ],
            [
             0.8888888888888888,
             "#fdca26"
            ],
            [
             1,
             "#f0f921"
            ]
           ]
          },
          "colorway": [
           "#636efa",
           "#EF553B",
           "#00cc96",
           "#ab63fa",
           "#FFA15A",
           "#19d3f3",
           "#FF6692",
           "#B6E880",
           "#FF97FF",
           "#FECB52"
          ],
          "font": {
           "color": "#2a3f5f"
          },
          "geo": {
           "bgcolor": "white",
           "lakecolor": "white",
           "landcolor": "#E5ECF6",
           "showlakes": true,
           "showland": true,
           "subunitcolor": "white"
          },
          "hoverlabel": {
           "align": "left"
          },
          "hovermode": "closest",
          "mapbox": {
           "style": "light"
          },
          "paper_bgcolor": "white",
          "plot_bgcolor": "#E5ECF6",
          "polar": {
           "angularaxis": {
            "gridcolor": "white",
            "linecolor": "white",
            "ticks": ""
           },
           "bgcolor": "#E5ECF6",
           "radialaxis": {
            "gridcolor": "white",
            "linecolor": "white",
            "ticks": ""
           }
          },
          "scene": {
           "xaxis": {
            "backgroundcolor": "#E5ECF6",
            "gridcolor": "white",
            "gridwidth": 2,
            "linecolor": "white",
            "showbackground": true,
            "ticks": "",
            "zerolinecolor": "white"
           },
           "yaxis": {
            "backgroundcolor": "#E5ECF6",
            "gridcolor": "white",
            "gridwidth": 2,
            "linecolor": "white",
            "showbackground": true,
            "ticks": "",
            "zerolinecolor": "white"
           },
           "zaxis": {
            "backgroundcolor": "#E5ECF6",
            "gridcolor": "white",
            "gridwidth": 2,
            "linecolor": "white",
            "showbackground": true,
            "ticks": "",
            "zerolinecolor": "white"
           }
          },
          "shapedefaults": {
           "line": {
            "color": "#2a3f5f"
           }
          },
          "ternary": {
           "aaxis": {
            "gridcolor": "white",
            "linecolor": "white",
            "ticks": ""
           },
           "baxis": {
            "gridcolor": "white",
            "linecolor": "white",
            "ticks": ""
           },
           "bgcolor": "#E5ECF6",
           "caxis": {
            "gridcolor": "white",
            "linecolor": "white",
            "ticks": ""
           }
          },
          "title": {
           "x": 0.05
          },
          "xaxis": {
           "automargin": true,
           "gridcolor": "white",
           "linecolor": "white",
           "ticks": "",
           "title": {
            "standoff": 15
           },
           "zerolinecolor": "white",
           "zerolinewidth": 2
          },
          "yaxis": {
           "automargin": true,
           "gridcolor": "white",
           "linecolor": "white",
           "ticks": "",
           "title": {
            "standoff": 15
           },
           "zerolinecolor": "white",
           "zerolinewidth": 2
          }
         }
        },
        "xaxis": {
         "anchor": "y",
         "domain": [
          0,
          1
         ],
         "title": {
          "text": "Number of items per transaction"
         }
        },
        "yaxis": {
         "anchor": "x",
         "domain": [
          0,
          1
         ],
         "tickformat": ",.0%",
         "title": {
          "text": "Distribution"
         }
        }
       }
      }
     },
     "metadata": {},
     "output_type": "display_data"
    }
   ],
   "source": [
    "# Length of transactions\n",
    "\n",
    "import seaborn as sns\n",
    "\n",
    "length_of_transactions = data[\"product_id\"].apply(len).value_counts()\n",
    "length_of_transactions.rename_axis(\"frequency\")\n",
    "\n",
    "\n",
    "total = length_of_transactions.sum()\n",
    "\n",
    "import plotly.express as px\n",
    "fig = px.bar(length_of_transactions, x=length_of_transactions.index, y=length_of_transactions.values/total)\n",
    "fig.update_traces(width=0.5)\n",
    "fig.update_layout(\n",
    "    xaxis_title=\"Number of items per transaction\",\n",
    "    yaxis_tickformat =',.0%',\n",
    "    yaxis_title=\"Distribution\",\n",
    "    legend_title=\"Transaction Length Dsitribution\",)\n",
    "\n",
    "fig.show()"
   ]
  },
  {
   "cell_type": "code",
   "execution_count": 19,
   "metadata": {},
   "outputs": [
    {
     "data": {
      "text/html": [
       "<div>\n",
       "<style scoped>\n",
       "    .dataframe tbody tr th:only-of-type {\n",
       "        vertical-align: middle;\n",
       "    }\n",
       "\n",
       "    .dataframe tbody tr th {\n",
       "        vertical-align: top;\n",
       "    }\n",
       "\n",
       "    .dataframe thead th {\n",
       "        text-align: right;\n",
       "    }\n",
       "</style>\n",
       "<table border=\"1\" class=\"dataframe\">\n",
       "  <thead>\n",
       "    <tr style=\"text-align: right;\">\n",
       "      <th></th>\n",
       "      <th>product_id</th>\n",
       "      <th>category_id</th>\n",
       "      <th>category_code</th>\n",
       "      <th>brand</th>\n",
       "      <th>price</th>\n",
       "    </tr>\n",
       "  </thead>\n",
       "  <tbody>\n",
       "    <tr>\n",
       "      <th>0</th>\n",
       "      <td>1842195256808833386</td>\n",
       "      <td>1.8068292018907384e+18</td>\n",
       "      <td>jewelry.earring</td>\n",
       "      <td>0.0</td>\n",
       "      <td>561.51</td>\n",
       "    </tr>\n",
       "    <tr>\n",
       "      <th>1</th>\n",
       "      <td>1806829193678291446</td>\n",
       "      <td>1.8068292018487954e+18</td>\n",
       "      <td>nan</td>\n",
       "      <td>nan</td>\n",
       "      <td>212.14</td>\n",
       "    </tr>\n",
       "    <tr>\n",
       "      <th>2</th>\n",
       "      <td>1842214461889315556</td>\n",
       "      <td>1.8068292019159043e+18</td>\n",
       "      <td>jewelry.pendant</td>\n",
       "      <td>1.0</td>\n",
       "      <td>54.66</td>\n",
       "    </tr>\n",
       "    <tr>\n",
       "      <th>3</th>\n",
       "      <td>1835566849434059453</td>\n",
       "      <td>1.8068292019159043e+18</td>\n",
       "      <td>jewelry.pendant</td>\n",
       "      <td>0.0</td>\n",
       "      <td>88.9</td>\n",
       "    </tr>\n",
       "    <tr>\n",
       "      <th>4</th>\n",
       "      <td>1873936840742928865</td>\n",
       "      <td>1.8068292019242929e+18</td>\n",
       "      <td>jewelry.necklace</td>\n",
       "      <td>0.0</td>\n",
       "      <td>417.67</td>\n",
       "    </tr>\n",
       "    <tr>\n",
       "      <th>...</th>\n",
       "      <td>...</td>\n",
       "      <td>...</td>\n",
       "      <td>...</td>\n",
       "      <td>...</td>\n",
       "      <td>...</td>\n",
       "    </tr>\n",
       "    <tr>\n",
       "      <th>95833</th>\n",
       "      <td>1515966223700619049</td>\n",
       "      <td>nan</td>\n",
       "      <td>0.00</td>\n",
       "      <td>1.5159156256973775e+18</td>\n",
       "      <td>nan</td>\n",
       "    </tr>\n",
       "    <tr>\n",
       "      <th>95838</th>\n",
       "      <td>1515966223419078514</td>\n",
       "      <td>1.8068292018907384e+18</td>\n",
       "      <td>jewelry.earring</td>\n",
       "      <td>1.0</td>\n",
       "      <td>575.21</td>\n",
       "    </tr>\n",
       "    <tr>\n",
       "      <th>95867</th>\n",
       "      <td>1515966223714641199</td>\n",
       "      <td>nan</td>\n",
       "      <td>0.00</td>\n",
       "      <td>1.5159156256905946e+18</td>\n",
       "      <td>nan</td>\n",
       "    </tr>\n",
       "    <tr>\n",
       "      <th>95870</th>\n",
       "      <td>1515966223714641225</td>\n",
       "      <td>nan</td>\n",
       "      <td>0.00</td>\n",
       "      <td>1.5159156256905946e+18</td>\n",
       "      <td>nan</td>\n",
       "    </tr>\n",
       "    <tr>\n",
       "      <th>95894</th>\n",
       "      <td>1536902230743974482</td>\n",
       "      <td>nan</td>\n",
       "      <td>0.00</td>\n",
       "      <td>1.5159156256954138e+18</td>\n",
       "      <td>nan</td>\n",
       "    </tr>\n",
       "  </tbody>\n",
       "</table>\n",
       "<p>9613 rows × 5 columns</p>\n",
       "</div>"
      ],
      "text/plain": [
       "                product_id             category_id     category_code  \\\n",
       "0      1842195256808833386  1.8068292018907384e+18   jewelry.earring   \n",
       "1      1806829193678291446  1.8068292018487954e+18               nan   \n",
       "2      1842214461889315556  1.8068292019159043e+18   jewelry.pendant   \n",
       "3      1835566849434059453  1.8068292019159043e+18   jewelry.pendant   \n",
       "4      1873936840742928865  1.8068292019242929e+18  jewelry.necklace   \n",
       "...                    ...                     ...               ...   \n",
       "95833  1515966223700619049                     nan              0.00   \n",
       "95838  1515966223419078514  1.8068292018907384e+18   jewelry.earring   \n",
       "95867  1515966223714641199                     nan              0.00   \n",
       "95870  1515966223714641225                     nan              0.00   \n",
       "95894  1536902230743974482                     nan              0.00   \n",
       "\n",
       "                        brand   price  \n",
       "0                         0.0  561.51  \n",
       "1                         nan  212.14  \n",
       "2                         1.0   54.66  \n",
       "3                         0.0    88.9  \n",
       "4                         0.0  417.67  \n",
       "...                       ...     ...  \n",
       "95833  1.5159156256973775e+18     nan  \n",
       "95838                     1.0  575.21  \n",
       "95867  1.5159156256905946e+18     nan  \n",
       "95870  1.5159156256905946e+18     nan  \n",
       "95894  1.5159156256954138e+18     nan  \n",
       "\n",
       "[9613 rows x 5 columns]"
      ]
     },
     "execution_count": 19,
     "metadata": {},
     "output_type": "execute_result"
    }
   ],
   "source": [
    "unique_items = data_raw[[\"product_id\",\"category_id\",\"category_code\",\"brand\",\"price\"]].drop_duplicates(subset = \"product_id\").astype(\"str\")\n",
    "\n",
    "\n",
    "unique_items"
   ]
  },
  {
   "cell_type": "code",
   "execution_count": 114,
   "metadata": {},
   "outputs": [
    {
     "data": {
      "text/plain": [
       "261.66999999999996"
      ]
     },
     "execution_count": 114,
     "metadata": {},
     "output_type": "execute_result"
    }
   ],
   "source": [
    "unique_items[\"price\"].astype(\"float\").median()"
   ]
  },
  {
   "cell_type": "code",
   "execution_count": 20,
   "metadata": {},
   "outputs": [
    {
     "name": "stderr",
     "output_type": "stream",
     "text": [
      "C:\\Users\\david\\AppData\\Local\\Temp/ipykernel_5936/16707732.py:7: FutureWarning: Indexing with multiple keys (implicitly converted to a tuple of keys) will be deprecated, use a list instead.\n",
      "  data = data_raw.groupby(\"order_id\",dropna=True)[\"product_id\",\"date\",\"price\",\"margin\"].agg(lambda x: list(x))\n"
     ]
    },
    {
     "data": {
      "text/html": [
       "<div>\n",
       "<style scoped>\n",
       "    .dataframe tbody tr th:only-of-type {\n",
       "        vertical-align: middle;\n",
       "    }\n",
       "\n",
       "    .dataframe tbody tr th {\n",
       "        vertical-align: top;\n",
       "    }\n",
       "\n",
       "    .dataframe thead th {\n",
       "        text-align: right;\n",
       "    }\n",
       "</style>\n",
       "<table border=\"1\" class=\"dataframe\">\n",
       "  <thead>\n",
       "    <tr style=\"text-align: right;\">\n",
       "      <th></th>\n",
       "      <th>product_id</th>\n",
       "      <th>date</th>\n",
       "      <th>price</th>\n",
       "      <th>margin</th>\n",
       "    </tr>\n",
       "    <tr>\n",
       "      <th>order_id</th>\n",
       "      <th></th>\n",
       "      <th></th>\n",
       "      <th></th>\n",
       "      <th></th>\n",
       "    </tr>\n",
       "  </thead>\n",
       "  <tbody>\n",
       "    <tr>\n",
       "      <th>1924719191579951782</th>\n",
       "      <td>[1842195256808833386]</td>\n",
       "      <td>[2018-12-01]</td>\n",
       "      <td>[561.51]</td>\n",
       "      <td>[0.1]</td>\n",
       "    </tr>\n",
       "    <tr>\n",
       "      <th>1924899396621697920</th>\n",
       "      <td>[1806829193678291446]</td>\n",
       "      <td>[2018-12-01]</td>\n",
       "      <td>[212.14]</td>\n",
       "      <td>[0.1]</td>\n",
       "    </tr>\n",
       "    <tr>\n",
       "      <th>1925511016616034733</th>\n",
       "      <td>[1842214461889315556]</td>\n",
       "      <td>[2018-12-02]</td>\n",
       "      <td>[54.66]</td>\n",
       "      <td>[0.1]</td>\n",
       "    </tr>\n",
       "    <tr>\n",
       "      <th>1925626951238681511</th>\n",
       "      <td>[1835566849434059453]</td>\n",
       "      <td>[2018-12-02]</td>\n",
       "      <td>[88.9]</td>\n",
       "      <td>[0.1]</td>\n",
       "    </tr>\n",
       "    <tr>\n",
       "      <th>1925740842841014667</th>\n",
       "      <td>[1873936840742928865]</td>\n",
       "      <td>[2018-12-02]</td>\n",
       "      <td>[417.67]</td>\n",
       "      <td>[0.1]</td>\n",
       "    </tr>\n",
       "    <tr>\n",
       "      <th>...</th>\n",
       "      <td>...</td>\n",
       "      <td>...</td>\n",
       "      <td>...</td>\n",
       "      <td>...</td>\n",
       "    </tr>\n",
       "    <tr>\n",
       "      <th>2719016587653808559</th>\n",
       "      <td>[1515966223597820877]</td>\n",
       "      <td>[2021-12-01]</td>\n",
       "      <td>[nan]</td>\n",
       "      <td>[0.1]</td>\n",
       "    </tr>\n",
       "    <tr>\n",
       "      <th>2719018098886705639</th>\n",
       "      <td>[1956663830729720074]</td>\n",
       "      <td>[2021-12-01]</td>\n",
       "      <td>[229.99]</td>\n",
       "      <td>[0.1]</td>\n",
       "    </tr>\n",
       "    <tr>\n",
       "      <th>2719018846999544322</th>\n",
       "      <td>[1956663848219968336]</td>\n",
       "      <td>[2021-12-01]</td>\n",
       "      <td>[630.0]</td>\n",
       "      <td>[0.1]</td>\n",
       "    </tr>\n",
       "    <tr>\n",
       "      <th>2719020596963836492</th>\n",
       "      <td>[1835566854106513435]</td>\n",
       "      <td>[2021-12-01]</td>\n",
       "      <td>[83.42]</td>\n",
       "      <td>[0.1]</td>\n",
       "    </tr>\n",
       "    <tr>\n",
       "      <th>2719022379232658075</th>\n",
       "      <td>[1956663846156370429]</td>\n",
       "      <td>[2021-12-01]</td>\n",
       "      <td>[97.12]</td>\n",
       "      <td>[0.1]</td>\n",
       "    </tr>\n",
       "  </tbody>\n",
       "</table>\n",
       "<p>74760 rows × 4 columns</p>\n",
       "</div>"
      ],
      "text/plain": [
       "                                product_id          date     price margin\n",
       "order_id                                                                 \n",
       "1924719191579951782  [1842195256808833386]  [2018-12-01]  [561.51]  [0.1]\n",
       "1924899396621697920  [1806829193678291446]  [2018-12-01]  [212.14]  [0.1]\n",
       "1925511016616034733  [1842214461889315556]  [2018-12-02]   [54.66]  [0.1]\n",
       "1925626951238681511  [1835566849434059453]  [2018-12-02]    [88.9]  [0.1]\n",
       "1925740842841014667  [1873936840742928865]  [2018-12-02]  [417.67]  [0.1]\n",
       "...                                    ...           ...       ...    ...\n",
       "2719016587653808559  [1515966223597820877]  [2021-12-01]     [nan]  [0.1]\n",
       "2719018098886705639  [1956663830729720074]  [2021-12-01]  [229.99]  [0.1]\n",
       "2719018846999544322  [1956663848219968336]  [2021-12-01]   [630.0]  [0.1]\n",
       "2719020596963836492  [1835566854106513435]  [2021-12-01]   [83.42]  [0.1]\n",
       "2719022379232658075  [1956663846156370429]  [2021-12-01]   [97.12]  [0.1]\n",
       "\n",
       "[74760 rows x 4 columns]"
      ]
     },
     "execution_count": 20,
     "metadata": {},
     "output_type": "execute_result"
    }
   ],
   "source": [
    "data_raw[\"date\"] = pd.to_datetime(data_raw['event_time']).dt.date\n",
    "max_date = data_raw[\"date\"].max()\n",
    "data_raw[\"margin\"] = 0.1\n",
    "data_raw[\"profit\"] = data_raw[\"price\"] * data_raw[\"margin\"]\n",
    "max_profit = data_raw[\"profit\"].max()\n",
    "\n",
    "data = data_raw.groupby(\"order_id\",dropna=True)[\"product_id\",\"date\",\"price\",\"margin\"].agg(lambda x: list(x))\n",
    "\n",
    "data"
   ]
  },
  {
   "cell_type": "code",
   "execution_count": 35,
   "metadata": {},
   "outputs": [
    {
     "name": "stderr",
     "output_type": "stream",
     "text": [
      "c:\\ProgramData\\Anaconda3\\lib\\site-packages\\seaborn\\rcmod.py:82: DeprecationWarning: distutils Version classes are deprecated. Use packaging.version instead.\n",
      "  if LooseVersion(mpl.__version__) >= \"3.0\":\n",
      "c:\\ProgramData\\Anaconda3\\lib\\site-packages\\setuptools\\_distutils\\version.py:346: DeprecationWarning: distutils Version classes are deprecated. Use packaging.version instead.\n",
      "  other = LooseVersion(other)\n",
      "c:\\ProgramData\\Anaconda3\\lib\\site-packages\\xarray\\core\\pycompat.py:22: DeprecationWarning: distutils Version classes are deprecated. Use packaging.version instead.\n",
      "  duck_array_version = LooseVersion(duck_array_module.__version__)\n",
      "c:\\ProgramData\\Anaconda3\\lib\\site-packages\\xarray\\core\\pycompat.py:37: DeprecationWarning: distutils Version classes are deprecated. Use packaging.version instead.\n",
      "  duck_array_version = LooseVersion(\"0.0.0\")\n",
      "c:\\ProgramData\\Anaconda3\\lib\\site-packages\\xarray\\core\\pycompat.py:37: DeprecationWarning: distutils Version classes are deprecated. Use packaging.version instead.\n",
      "  duck_array_version = LooseVersion(\"0.0.0\")\n",
      "c:\\ProgramData\\Anaconda3\\lib\\site-packages\\setuptools\\_distutils\\version.py:346: DeprecationWarning: distutils Version classes are deprecated. Use packaging.version instead.\n",
      "  other = LooseVersion(other)\n",
      "c:\\ProgramData\\Anaconda3\\lib\\site-packages\\setuptools\\_distutils\\version.py:346: DeprecationWarning: distutils Version classes are deprecated. Use packaging.version instead.\n",
      "  other = LooseVersion(other)\n",
      "c:\\ProgramData\\Anaconda3\\lib\\site-packages\\xarray\\core\\npcompat.py:82: DeprecationWarning: distutils Version classes are deprecated. Use packaging.version instead.\n",
      "  if LooseVersion(np.__version__) >= \"1.20.0\":\n",
      "c:\\ProgramData\\Anaconda3\\lib\\site-packages\\setuptools\\_distutils\\version.py:346: DeprecationWarning: distutils Version classes are deprecated. Use packaging.version instead.\n",
      "  other = LooseVersion(other)\n",
      "c:\\ProgramData\\Anaconda3\\lib\\site-packages\\xarray\\core\\pdcompat.py:45: DeprecationWarning: distutils Version classes are deprecated. Use packaging.version instead.\n",
      "  if LooseVersion(pd.__version__) < \"0.25.0\":\n",
      "c:\\ProgramData\\Anaconda3\\lib\\site-packages\\setuptools\\_distutils\\version.py:346: DeprecationWarning: distutils Version classes are deprecated. Use packaging.version instead.\n",
      "  other = LooseVersion(other)\n",
      "c:\\ProgramData\\Anaconda3\\lib\\site-packages\\plotly\\io\\_renderers.py:395: DeprecationWarning:\n",
      "\n",
      "distutils Version classes are deprecated. Use packaging.version instead.\n",
      "\n",
      "c:\\ProgramData\\Anaconda3\\lib\\site-packages\\plotly\\io\\_renderers.py:395: DeprecationWarning:\n",
      "\n",
      "distutils Version classes are deprecated. Use packaging.version instead.\n",
      "\n"
     ]
    },
    {
     "data": {
      "application/vnd.plotly.v1+json": {
       "config": {
        "plotlyServerURL": "https://plot.ly"
       },
       "data": [
        {
         "alignmentgroup": "True",
         "hovertemplate": "index=%{x}<br>y=%{y}<extra></extra>",
         "legendgroup": "",
         "marker": {
          "color": "#636efa",
          "pattern": {
           "shape": ""
          }
         },
         "name": "",
         "offsetgroup": "",
         "orientation": "v",
         "showlegend": false,
         "textposition": "auto",
         "type": "bar",
         "width": 0.5,
         "x": [
          1,
          2,
          3,
          4,
          5,
          6,
          7,
          8,
          9,
          10,
          11,
          12,
          13,
          14,
          15,
          16,
          17,
          18,
          19,
          20,
          21,
          22,
          24,
          23,
          25,
          27,
          33,
          29,
          28,
          26,
          30,
          31,
          48,
          35,
          36,
          39,
          32,
          61,
          53
         ],
         "xaxis": "x",
         "y": [
          0.6073793986619902,
          0.2003454411934791,
          0.0916046224184228,
          0.04412840546630381,
          0.021715138517877524,
          0.012688937102948165,
          0.008261186428160355,
          0.005335596328485451,
          0.0034558054047124365,
          0.0020909016168431495,
          0.0011976873973186851,
          0.0007002186354306449,
          0.00038947484299077664,
          0.00024316050125900007,
          0.00014561760677114904,
          0.000094755954645341,
          0.00006479635133835818,
          0.0000473779773226705,
          0.000030656338267610326,
          0.000022295518740080234,
          0.000013237964251922641,
          0.000008360819527530088,
          0.000006967349606275074,
          0.000006270614645647566,
          0.000006270614645647566,
          0.0000027869398425100293,
          0.000002090204881882522,
          0.000002090204881882522,
          0.0000013934699212550146,
          0.0000013934699212550146,
          0.0000013934699212550146,
          0.0000013934699212550146,
          6.967349606275073e-7,
          6.967349606275073e-7,
          6.967349606275073e-7,
          6.967349606275073e-7,
          6.967349606275073e-7,
          6.967349606275073e-7,
          6.967349606275073e-7
         ],
         "yaxis": "y"
        }
       ],
       "layout": {
        "barmode": "relative",
        "legend": {
         "title": {
          "text": "Transaction Length Dsitribution"
         },
         "tracegroupgap": 0
        },
        "margin": {
         "t": 60
        },
        "template": {
         "data": {
          "bar": [
           {
            "error_x": {
             "color": "#2a3f5f"
            },
            "error_y": {
             "color": "#2a3f5f"
            },
            "marker": {
             "line": {
              "color": "#E5ECF6",
              "width": 0.5
             },
             "pattern": {
              "fillmode": "overlay",
              "size": 10,
              "solidity": 0.2
             }
            },
            "type": "bar"
           }
          ],
          "barpolar": [
           {
            "marker": {
             "line": {
              "color": "#E5ECF6",
              "width": 0.5
             },
             "pattern": {
              "fillmode": "overlay",
              "size": 10,
              "solidity": 0.2
             }
            },
            "type": "barpolar"
           }
          ],
          "carpet": [
           {
            "aaxis": {
             "endlinecolor": "#2a3f5f",
             "gridcolor": "white",
             "linecolor": "white",
             "minorgridcolor": "white",
             "startlinecolor": "#2a3f5f"
            },
            "baxis": {
             "endlinecolor": "#2a3f5f",
             "gridcolor": "white",
             "linecolor": "white",
             "minorgridcolor": "white",
             "startlinecolor": "#2a3f5f"
            },
            "type": "carpet"
           }
          ],
          "choropleth": [
           {
            "colorbar": {
             "outlinewidth": 0,
             "ticks": ""
            },
            "type": "choropleth"
           }
          ],
          "contour": [
           {
            "colorbar": {
             "outlinewidth": 0,
             "ticks": ""
            },
            "colorscale": [
             [
              0,
              "#0d0887"
             ],
             [
              0.1111111111111111,
              "#46039f"
             ],
             [
              0.2222222222222222,
              "#7201a8"
             ],
             [
              0.3333333333333333,
              "#9c179e"
             ],
             [
              0.4444444444444444,
              "#bd3786"
             ],
             [
              0.5555555555555556,
              "#d8576b"
             ],
             [
              0.6666666666666666,
              "#ed7953"
             ],
             [
              0.7777777777777778,
              "#fb9f3a"
             ],
             [
              0.8888888888888888,
              "#fdca26"
             ],
             [
              1,
              "#f0f921"
             ]
            ],
            "type": "contour"
           }
          ],
          "contourcarpet": [
           {
            "colorbar": {
             "outlinewidth": 0,
             "ticks": ""
            },
            "type": "contourcarpet"
           }
          ],
          "heatmap": [
           {
            "colorbar": {
             "outlinewidth": 0,
             "ticks": ""
            },
            "colorscale": [
             [
              0,
              "#0d0887"
             ],
             [
              0.1111111111111111,
              "#46039f"
             ],
             [
              0.2222222222222222,
              "#7201a8"
             ],
             [
              0.3333333333333333,
              "#9c179e"
             ],
             [
              0.4444444444444444,
              "#bd3786"
             ],
             [
              0.5555555555555556,
              "#d8576b"
             ],
             [
              0.6666666666666666,
              "#ed7953"
             ],
             [
              0.7777777777777778,
              "#fb9f3a"
             ],
             [
              0.8888888888888888,
              "#fdca26"
             ],
             [
              1,
              "#f0f921"
             ]
            ],
            "type": "heatmap"
           }
          ],
          "heatmapgl": [
           {
            "colorbar": {
             "outlinewidth": 0,
             "ticks": ""
            },
            "colorscale": [
             [
              0,
              "#0d0887"
             ],
             [
              0.1111111111111111,
              "#46039f"
             ],
             [
              0.2222222222222222,
              "#7201a8"
             ],
             [
              0.3333333333333333,
              "#9c179e"
             ],
             [
              0.4444444444444444,
              "#bd3786"
             ],
             [
              0.5555555555555556,
              "#d8576b"
             ],
             [
              0.6666666666666666,
              "#ed7953"
             ],
             [
              0.7777777777777778,
              "#fb9f3a"
             ],
             [
              0.8888888888888888,
              "#fdca26"
             ],
             [
              1,
              "#f0f921"
             ]
            ],
            "type": "heatmapgl"
           }
          ],
          "histogram": [
           {
            "marker": {
             "pattern": {
              "fillmode": "overlay",
              "size": 10,
              "solidity": 0.2
             }
            },
            "type": "histogram"
           }
          ],
          "histogram2d": [
           {
            "colorbar": {
             "outlinewidth": 0,
             "ticks": ""
            },
            "colorscale": [
             [
              0,
              "#0d0887"
             ],
             [
              0.1111111111111111,
              "#46039f"
             ],
             [
              0.2222222222222222,
              "#7201a8"
             ],
             [
              0.3333333333333333,
              "#9c179e"
             ],
             [
              0.4444444444444444,
              "#bd3786"
             ],
             [
              0.5555555555555556,
              "#d8576b"
             ],
             [
              0.6666666666666666,
              "#ed7953"
             ],
             [
              0.7777777777777778,
              "#fb9f3a"
             ],
             [
              0.8888888888888888,
              "#fdca26"
             ],
             [
              1,
              "#f0f921"
             ]
            ],
            "type": "histogram2d"
           }
          ],
          "histogram2dcontour": [
           {
            "colorbar": {
             "outlinewidth": 0,
             "ticks": ""
            },
            "colorscale": [
             [
              0,
              "#0d0887"
             ],
             [
              0.1111111111111111,
              "#46039f"
             ],
             [
              0.2222222222222222,
              "#7201a8"
             ],
             [
              0.3333333333333333,
              "#9c179e"
             ],
             [
              0.4444444444444444,
              "#bd3786"
             ],
             [
              0.5555555555555556,
              "#d8576b"
             ],
             [
              0.6666666666666666,
              "#ed7953"
             ],
             [
              0.7777777777777778,
              "#fb9f3a"
             ],
             [
              0.8888888888888888,
              "#fdca26"
             ],
             [
              1,
              "#f0f921"
             ]
            ],
            "type": "histogram2dcontour"
           }
          ],
          "mesh3d": [
           {
            "colorbar": {
             "outlinewidth": 0,
             "ticks": ""
            },
            "type": "mesh3d"
           }
          ],
          "parcoords": [
           {
            "line": {
             "colorbar": {
              "outlinewidth": 0,
              "ticks": ""
             }
            },
            "type": "parcoords"
           }
          ],
          "pie": [
           {
            "automargin": true,
            "type": "pie"
           }
          ],
          "scatter": [
           {
            "fillpattern": {
             "fillmode": "overlay",
             "size": 10,
             "solidity": 0.2
            },
            "type": "scatter"
           }
          ],
          "scatter3d": [
           {
            "line": {
             "colorbar": {
              "outlinewidth": 0,
              "ticks": ""
             }
            },
            "marker": {
             "colorbar": {
              "outlinewidth": 0,
              "ticks": ""
             }
            },
            "type": "scatter3d"
           }
          ],
          "scattercarpet": [
           {
            "marker": {
             "colorbar": {
              "outlinewidth": 0,
              "ticks": ""
             }
            },
            "type": "scattercarpet"
           }
          ],
          "scattergeo": [
           {
            "marker": {
             "colorbar": {
              "outlinewidth": 0,
              "ticks": ""
             }
            },
            "type": "scattergeo"
           }
          ],
          "scattergl": [
           {
            "marker": {
             "colorbar": {
              "outlinewidth": 0,
              "ticks": ""
             }
            },
            "type": "scattergl"
           }
          ],
          "scattermapbox": [
           {
            "marker": {
             "colorbar": {
              "outlinewidth": 0,
              "ticks": ""
             }
            },
            "type": "scattermapbox"
           }
          ],
          "scatterpolar": [
           {
            "marker": {
             "colorbar": {
              "outlinewidth": 0,
              "ticks": ""
             }
            },
            "type": "scatterpolar"
           }
          ],
          "scatterpolargl": [
           {
            "marker": {
             "colorbar": {
              "outlinewidth": 0,
              "ticks": ""
             }
            },
            "type": "scatterpolargl"
           }
          ],
          "scatterternary": [
           {
            "marker": {
             "colorbar": {
              "outlinewidth": 0,
              "ticks": ""
             }
            },
            "type": "scatterternary"
           }
          ],
          "surface": [
           {
            "colorbar": {
             "outlinewidth": 0,
             "ticks": ""
            },
            "colorscale": [
             [
              0,
              "#0d0887"
             ],
             [
              0.1111111111111111,
              "#46039f"
             ],
             [
              0.2222222222222222,
              "#7201a8"
             ],
             [
              0.3333333333333333,
              "#9c179e"
             ],
             [
              0.4444444444444444,
              "#bd3786"
             ],
             [
              0.5555555555555556,
              "#d8576b"
             ],
             [
              0.6666666666666666,
              "#ed7953"
             ],
             [
              0.7777777777777778,
              "#fb9f3a"
             ],
             [
              0.8888888888888888,
              "#fdca26"
             ],
             [
              1,
              "#f0f921"
             ]
            ],
            "type": "surface"
           }
          ],
          "table": [
           {
            "cells": {
             "fill": {
              "color": "#EBF0F8"
             },
             "line": {
              "color": "white"
             }
            },
            "header": {
             "fill": {
              "color": "#C8D4E3"
             },
             "line": {
              "color": "white"
             }
            },
            "type": "table"
           }
          ]
         },
         "layout": {
          "annotationdefaults": {
           "arrowcolor": "#2a3f5f",
           "arrowhead": 0,
           "arrowwidth": 1
          },
          "autotypenumbers": "strict",
          "coloraxis": {
           "colorbar": {
            "outlinewidth": 0,
            "ticks": ""
           }
          },
          "colorscale": {
           "diverging": [
            [
             0,
             "#8e0152"
            ],
            [
             0.1,
             "#c51b7d"
            ],
            [
             0.2,
             "#de77ae"
            ],
            [
             0.3,
             "#f1b6da"
            ],
            [
             0.4,
             "#fde0ef"
            ],
            [
             0.5,
             "#f7f7f7"
            ],
            [
             0.6,
             "#e6f5d0"
            ],
            [
             0.7,
             "#b8e186"
            ],
            [
             0.8,
             "#7fbc41"
            ],
            [
             0.9,
             "#4d9221"
            ],
            [
             1,
             "#276419"
            ]
           ],
           "sequential": [
            [
             0,
             "#0d0887"
            ],
            [
             0.1111111111111111,
             "#46039f"
            ],
            [
             0.2222222222222222,
             "#7201a8"
            ],
            [
             0.3333333333333333,
             "#9c179e"
            ],
            [
             0.4444444444444444,
             "#bd3786"
            ],
            [
             0.5555555555555556,
             "#d8576b"
            ],
            [
             0.6666666666666666,
             "#ed7953"
            ],
            [
             0.7777777777777778,
             "#fb9f3a"
            ],
            [
             0.8888888888888888,
             "#fdca26"
            ],
            [
             1,
             "#f0f921"
            ]
           ],
           "sequentialminus": [
            [
             0,
             "#0d0887"
            ],
            [
             0.1111111111111111,
             "#46039f"
            ],
            [
             0.2222222222222222,
             "#7201a8"
            ],
            [
             0.3333333333333333,
             "#9c179e"
            ],
            [
             0.4444444444444444,
             "#bd3786"
            ],
            [
             0.5555555555555556,
             "#d8576b"
            ],
            [
             0.6666666666666666,
             "#ed7953"
            ],
            [
             0.7777777777777778,
             "#fb9f3a"
            ],
            [
             0.8888888888888888,
             "#fdca26"
            ],
            [
             1,
             "#f0f921"
            ]
           ]
          },
          "colorway": [
           "#636efa",
           "#EF553B",
           "#00cc96",
           "#ab63fa",
           "#FFA15A",
           "#19d3f3",
           "#FF6692",
           "#B6E880",
           "#FF97FF",
           "#FECB52"
          ],
          "font": {
           "color": "#2a3f5f"
          },
          "geo": {
           "bgcolor": "white",
           "lakecolor": "white",
           "landcolor": "#E5ECF6",
           "showlakes": true,
           "showland": true,
           "subunitcolor": "white"
          },
          "hoverlabel": {
           "align": "left"
          },
          "hovermode": "closest",
          "mapbox": {
           "style": "light"
          },
          "paper_bgcolor": "white",
          "plot_bgcolor": "#E5ECF6",
          "polar": {
           "angularaxis": {
            "gridcolor": "white",
            "linecolor": "white",
            "ticks": ""
           },
           "bgcolor": "#E5ECF6",
           "radialaxis": {
            "gridcolor": "white",
            "linecolor": "white",
            "ticks": ""
           }
          },
          "scene": {
           "xaxis": {
            "backgroundcolor": "#E5ECF6",
            "gridcolor": "white",
            "gridwidth": 2,
            "linecolor": "white",
            "showbackground": true,
            "ticks": "",
            "zerolinecolor": "white"
           },
           "yaxis": {
            "backgroundcolor": "#E5ECF6",
            "gridcolor": "white",
            "gridwidth": 2,
            "linecolor": "white",
            "showbackground": true,
            "ticks": "",
            "zerolinecolor": "white"
           },
           "zaxis": {
            "backgroundcolor": "#E5ECF6",
            "gridcolor": "white",
            "gridwidth": 2,
            "linecolor": "white",
            "showbackground": true,
            "ticks": "",
            "zerolinecolor": "white"
           }
          },
          "shapedefaults": {
           "line": {
            "color": "#2a3f5f"
           }
          },
          "ternary": {
           "aaxis": {
            "gridcolor": "white",
            "linecolor": "white",
            "ticks": ""
           },
           "baxis": {
            "gridcolor": "white",
            "linecolor": "white",
            "ticks": ""
           },
           "bgcolor": "#E5ECF6",
           "caxis": {
            "gridcolor": "white",
            "linecolor": "white",
            "ticks": ""
           }
          },
          "title": {
           "x": 0.05
          },
          "xaxis": {
           "automargin": true,
           "gridcolor": "white",
           "linecolor": "white",
           "ticks": "",
           "title": {
            "standoff": 15
           },
           "zerolinecolor": "white",
           "zerolinewidth": 2
          },
          "yaxis": {
           "automargin": true,
           "gridcolor": "white",
           "linecolor": "white",
           "ticks": "",
           "title": {
            "standoff": 15
           },
           "zerolinecolor": "white",
           "zerolinewidth": 2
          }
         }
        },
        "xaxis": {
         "anchor": "y",
         "domain": [
          0,
          1
         ],
         "title": {
          "text": "Number of items per transaction"
         }
        },
        "yaxis": {
         "anchor": "x",
         "domain": [
          0,
          1
         ],
         "tickformat": ",.0%",
         "title": {
          "text": "Distribution"
         }
        }
       }
      }
     },
     "metadata": {},
     "output_type": "display_data"
    }
   ],
   "source": [
    "import seaborn as sns\n",
    "\n",
    "length_of_transactions = data[\"product_id\"].apply(len).value_counts()\n",
    "length_of_transactions.rename_axis(\"frequency\")\n",
    "\n",
    "# lenth_of_transactions\n",
    "\n",
    "total = length_of_transactions.sum()\n",
    "\n",
    "import plotly.express as px\n",
    "fig = px.bar(length_of_transactions, x=length_of_transactions.index, y=length_of_transactions.values/total)\n",
    "fig.update_traces(width=0.5)\n",
    "fig.update_layout(\n",
    "    xaxis_title=\"Number of items per transaction\",\n",
    "    yaxis_tickformat =',.0%',\n",
    "    yaxis_title=\"Distribution\",\n",
    "    legend_title=\"Transaction Length Dsitribution\",)\n",
    "\n",
    "fig.show()\n"
   ]
  },
  {
   "cell_type": "code",
   "execution_count": 96,
   "metadata": {},
   "outputs": [
    {
     "data": {
      "text/plain": [
       "74760"
      ]
     },
     "execution_count": 96,
     "metadata": {},
     "output_type": "execute_result"
    }
   ],
   "source": [
    "length_of_transactions.sum()"
   ]
  },
  {
   "cell_type": "markdown",
   "metadata": {},
   "source": [
    "#### 3.1.1 Classical Association Rules"
   ]
  },
  {
   "cell_type": "code",
   "execution_count": 109,
   "metadata": {},
   "outputs": [
    {
     "data": {
      "text/html": [
       "<div>\n",
       "<style scoped>\n",
       "    .dataframe tbody tr th:only-of-type {\n",
       "        vertical-align: middle;\n",
       "    }\n",
       "\n",
       "    .dataframe tbody tr th {\n",
       "        vertical-align: top;\n",
       "    }\n",
       "\n",
       "    .dataframe thead th {\n",
       "        text-align: right;\n",
       "    }\n",
       "</style>\n",
       "<table border=\"1\" class=\"dataframe\">\n",
       "  <thead>\n",
       "    <tr style=\"text-align: right;\">\n",
       "      <th></th>\n",
       "      <th>antecedent</th>\n",
       "      <th>sup_antecedent</th>\n",
       "      <th>consequent</th>\n",
       "      <th>sup_consequent</th>\n",
       "      <th>antecedent&amp;consequent</th>\n",
       "      <th>sup_ant&amp;cons</th>\n",
       "      <th>sup_perc_ant&amp;cons</th>\n",
       "      <th>confidence</th>\n",
       "      <th>lift</th>\n",
       "      <th>improvement</th>\n",
       "    </tr>\n",
       "  </thead>\n",
       "  <tbody>\n",
       "    <tr>\n",
       "      <th>0</th>\n",
       "      <td>[]</td>\n",
       "      <td>NA</td>\n",
       "      <td>[1515966223577083202]</td>\n",
       "      <td>468</td>\n",
       "      <td>[1515966223577083202]</td>\n",
       "      <td>468</td>\n",
       "      <td>0.006260</td>\n",
       "      <td>NA</td>\n",
       "      <td>NA</td>\n",
       "      <td>NA</td>\n",
       "    </tr>\n",
       "    <tr>\n",
       "      <th>1</th>\n",
       "      <td>[]</td>\n",
       "      <td>NA</td>\n",
       "      <td>[1956663847725040099]</td>\n",
       "      <td>362</td>\n",
       "      <td>[1956663847725040099]</td>\n",
       "      <td>362</td>\n",
       "      <td>0.004842</td>\n",
       "      <td>NA</td>\n",
       "      <td>NA</td>\n",
       "      <td>NA</td>\n",
       "    </tr>\n",
       "    <tr>\n",
       "      <th>2</th>\n",
       "      <td>[]</td>\n",
       "      <td>NA</td>\n",
       "      <td>[1956663840242401751]</td>\n",
       "      <td>301</td>\n",
       "      <td>[1956663840242401751]</td>\n",
       "      <td>301</td>\n",
       "      <td>0.004026</td>\n",
       "      <td>NA</td>\n",
       "      <td>NA</td>\n",
       "      <td>NA</td>\n",
       "    </tr>\n",
       "  </tbody>\n",
       "</table>\n",
       "</div>"
      ],
      "text/plain": [
       "  antecedent sup_antecedent             consequent  sup_consequent  \\\n",
       "0         []             NA  [1515966223577083202]             468   \n",
       "1         []             NA  [1956663847725040099]             362   \n",
       "2         []             NA  [1956663840242401751]             301   \n",
       "\n",
       "   antecedent&consequent  sup_ant&cons  sup_perc_ant&cons confidence lift  \\\n",
       "0  [1515966223577083202]           468           0.006260         NA   NA   \n",
       "1  [1956663847725040099]           362           0.004842         NA   NA   \n",
       "2  [1956663840242401751]           301           0.004026         NA   NA   \n",
       "\n",
       "  improvement  \n",
       "0          NA  \n",
       "1          NA  \n",
       "2          NA  "
      ]
     },
     "execution_count": 109,
     "metadata": {},
     "output_type": "execute_result"
    }
   ],
   "source": [
    "import modified_fp_growth_algorithm.modified_fp_growth_latest as mod_fp_growth\n",
    "\n",
    "rules = mod_fp_growth.fpgrowthFromDataFrame(\\\n",
    "    data,\n",
    "    minSupRatio=0.004,\n",
    "    maxSupRatio=1,\n",
    "    minConf=0,\n",
    "    item_col=1\n",
    "    )\n",
    "    \n",
    "rules.to_excel(\"fp_groth_out.xlsx\",index=False) \n",
    "rules"
   ]
  },
  {
   "cell_type": "code",
   "execution_count": 108,
   "metadata": {},
   "outputs": [
    {
     "data": {
      "text/html": [
       "<div>\n",
       "<style scoped>\n",
       "    .dataframe tbody tr th:only-of-type {\n",
       "        vertical-align: middle;\n",
       "    }\n",
       "\n",
       "    .dataframe tbody tr th {\n",
       "        vertical-align: top;\n",
       "    }\n",
       "\n",
       "    .dataframe thead th {\n",
       "        text-align: right;\n",
       "    }\n",
       "</style>\n",
       "<table border=\"1\" class=\"dataframe\">\n",
       "  <thead>\n",
       "    <tr style=\"text-align: right;\">\n",
       "      <th></th>\n",
       "      <th>rules_index</th>\n",
       "      <th>antecedent&amp;consequent</th>\n",
       "      <th>sup_ant&amp;cons</th>\n",
       "      <th>product_id</th>\n",
       "      <th>category_id</th>\n",
       "      <th>category_code</th>\n",
       "      <th>brand</th>\n",
       "      <th>price</th>\n",
       "    </tr>\n",
       "  </thead>\n",
       "  <tbody>\n",
       "    <tr>\n",
       "      <th>0</th>\n",
       "      <td>0</td>\n",
       "      <td>1515966223577083202</td>\n",
       "      <td>468</td>\n",
       "      <td>1515966223577083202</td>\n",
       "      <td>1.80682920194107e+18</td>\n",
       "      <td>jewelry.brooch</td>\n",
       "      <td>0.0</td>\n",
       "      <td>10.27</td>\n",
       "    </tr>\n",
       "    <tr>\n",
       "      <th>1</th>\n",
       "      <td>1</td>\n",
       "      <td>1956663847725040099</td>\n",
       "      <td>362</td>\n",
       "      <td>1956663847725040099</td>\n",
       "      <td>1.8068292018823498e+18</td>\n",
       "      <td>jewelry.ring</td>\n",
       "      <td>0.0</td>\n",
       "      <td>200.45</td>\n",
       "    </tr>\n",
       "    <tr>\n",
       "      <th>2</th>\n",
       "      <td>2</td>\n",
       "      <td>1956663840242401751</td>\n",
       "      <td>301</td>\n",
       "      <td>1956663840242401751</td>\n",
       "      <td>1.8068292018823498e+18</td>\n",
       "      <td>jewelry.ring</td>\n",
       "      <td>0.0</td>\n",
       "      <td>259.97</td>\n",
       "    </tr>\n",
       "    <tr>\n",
       "      <th>3</th>\n",
       "      <td>3</td>\n",
       "      <td>1956663840309510725</td>\n",
       "      <td>274</td>\n",
       "      <td>1956663840309510725</td>\n",
       "      <td>1.8068292018823498e+18</td>\n",
       "      <td>jewelry.ring</td>\n",
       "      <td>0.0</td>\n",
       "      <td>133.55</td>\n",
       "    </tr>\n",
       "    <tr>\n",
       "      <th>4</th>\n",
       "      <td>4</td>\n",
       "      <td>1956663830872326617</td>\n",
       "      <td>266</td>\n",
       "      <td>1956663830872326617</td>\n",
       "      <td>1.8068292018487954e+18</td>\n",
       "      <td>nan</td>\n",
       "      <td>0.0</td>\n",
       "      <td>140.62</td>\n",
       "    </tr>\n",
       "    <tr>\n",
       "      <th>5</th>\n",
       "      <td>5</td>\n",
       "      <td>1956663847666319760</td>\n",
       "      <td>266</td>\n",
       "      <td>1956663847666319760</td>\n",
       "      <td>1.8068292018823498e+18</td>\n",
       "      <td>jewelry.ring</td>\n",
       "      <td>0.0</td>\n",
       "      <td>188.7</td>\n",
       "    </tr>\n",
       "    <tr>\n",
       "      <th>6</th>\n",
       "      <td>6</td>\n",
       "      <td>1352907200745439279</td>\n",
       "      <td>265</td>\n",
       "      <td>1352907200745439279</td>\n",
       "      <td>1.8068292018823498e+18</td>\n",
       "      <td>jewelry.ring</td>\n",
       "      <td>0.0</td>\n",
       "      <td>215.14</td>\n",
       "    </tr>\n",
       "    <tr>\n",
       "      <th>7</th>\n",
       "      <td>7</td>\n",
       "      <td>1956663836207481430</td>\n",
       "      <td>259</td>\n",
       "      <td>1956663836207481430</td>\n",
       "      <td>1.8068292018823498e+18</td>\n",
       "      <td>jewelry.ring</td>\n",
       "      <td>0.0</td>\n",
       "      <td>119.77</td>\n",
       "    </tr>\n",
       "    <tr>\n",
       "      <th>8</th>\n",
       "      <td>8</td>\n",
       "      <td>1956663845787271453</td>\n",
       "      <td>258</td>\n",
       "      <td>1956663845787271453</td>\n",
       "      <td>1.8068292018487954e+18</td>\n",
       "      <td>nan</td>\n",
       "      <td>0.0</td>\n",
       "      <td>445.95</td>\n",
       "    </tr>\n",
       "    <tr>\n",
       "      <th>9</th>\n",
       "      <td>9</td>\n",
       "      <td>1956663831283368958</td>\n",
       "      <td>253</td>\n",
       "      <td>1956663831283368958</td>\n",
       "      <td>1.8068292018823498e+18</td>\n",
       "      <td>jewelry.ring</td>\n",
       "      <td>0.0</td>\n",
       "      <td>242.9</td>\n",
       "    </tr>\n",
       "    <tr>\n",
       "      <th>10</th>\n",
       "      <td>10</td>\n",
       "      <td>1956663831291756567</td>\n",
       "      <td>249</td>\n",
       "      <td>1956663831291756567</td>\n",
       "      <td>1.8068292018487954e+18</td>\n",
       "      <td>nan</td>\n",
       "      <td>0.0</td>\n",
       "      <td>229.81</td>\n",
       "    </tr>\n",
       "    <tr>\n",
       "      <th>11</th>\n",
       "      <td>11</td>\n",
       "      <td>1956663831274980339</td>\n",
       "      <td>248</td>\n",
       "      <td>1956663831274980339</td>\n",
       "      <td>1.8068292018907384e+18</td>\n",
       "      <td>jewelry.earring</td>\n",
       "      <td>0.0</td>\n",
       "      <td>88.9</td>\n",
       "    </tr>\n",
       "    <tr>\n",
       "      <th>12</th>\n",
       "      <td>12</td>\n",
       "      <td>1956663836392031039</td>\n",
       "      <td>242</td>\n",
       "      <td>1956663836392031039</td>\n",
       "      <td>1.8068292018487954e+18</td>\n",
       "      <td>nan</td>\n",
       "      <td>0.0</td>\n",
       "      <td>134.29</td>\n",
       "    </tr>\n",
       "    <tr>\n",
       "      <th>13</th>\n",
       "      <td>13</td>\n",
       "      <td>1956663831283367940</td>\n",
       "      <td>237</td>\n",
       "      <td>1956663831283367940</td>\n",
       "      <td>1.8068292018487954e+18</td>\n",
       "      <td>nan</td>\n",
       "      <td>0.0</td>\n",
       "      <td>130.16</td>\n",
       "    </tr>\n",
       "    <tr>\n",
       "      <th>14</th>\n",
       "      <td>14</td>\n",
       "      <td>1956663836224258664</td>\n",
       "      <td>232</td>\n",
       "      <td>1956663836224258664</td>\n",
       "      <td>1.8068292018907384e+18</td>\n",
       "      <td>jewelry.earring</td>\n",
       "      <td>0.0</td>\n",
       "      <td>97.12</td>\n",
       "    </tr>\n",
       "    <tr>\n",
       "      <th>15</th>\n",
       "      <td>15</td>\n",
       "      <td>1956663830721331445</td>\n",
       "      <td>228</td>\n",
       "      <td>1956663830721331445</td>\n",
       "      <td>1.8068292018907384e+18</td>\n",
       "      <td>jewelry.earring</td>\n",
       "      <td>1.0</td>\n",
       "      <td>83.42</td>\n",
       "    </tr>\n",
       "    <tr>\n",
       "      <th>16</th>\n",
       "      <td>16</td>\n",
       "      <td>1956663836845015466</td>\n",
       "      <td>226</td>\n",
       "      <td>1956663836845015466</td>\n",
       "      <td>1.8068292018487954e+18</td>\n",
       "      <td>nan</td>\n",
       "      <td>0.0</td>\n",
       "      <td>87.21</td>\n",
       "    </tr>\n",
       "  </tbody>\n",
       "</table>\n",
       "</div>"
      ],
      "text/plain": [
       "    rules_index antecedent&consequent  sup_ant&cons           product_id  \\\n",
       "0             0   1515966223577083202           468  1515966223577083202   \n",
       "1             1   1956663847725040099           362  1956663847725040099   \n",
       "2             2   1956663840242401751           301  1956663840242401751   \n",
       "3             3   1956663840309510725           274  1956663840309510725   \n",
       "4             4   1956663830872326617           266  1956663830872326617   \n",
       "5             5   1956663847666319760           266  1956663847666319760   \n",
       "6             6   1352907200745439279           265  1352907200745439279   \n",
       "7             7   1956663836207481430           259  1956663836207481430   \n",
       "8             8   1956663845787271453           258  1956663845787271453   \n",
       "9             9   1956663831283368958           253  1956663831283368958   \n",
       "10           10   1956663831291756567           249  1956663831291756567   \n",
       "11           11   1956663831274980339           248  1956663831274980339   \n",
       "12           12   1956663836392031039           242  1956663836392031039   \n",
       "13           13   1956663831283367940           237  1956663831283367940   \n",
       "14           14   1956663836224258664           232  1956663836224258664   \n",
       "15           15   1956663830721331445           228  1956663830721331445   \n",
       "16           16   1956663836845015466           226  1956663836845015466   \n",
       "\n",
       "               category_id    category_code brand   price  \n",
       "0     1.80682920194107e+18   jewelry.brooch   0.0   10.27  \n",
       "1   1.8068292018823498e+18     jewelry.ring   0.0  200.45  \n",
       "2   1.8068292018823498e+18     jewelry.ring   0.0  259.97  \n",
       "3   1.8068292018823498e+18     jewelry.ring   0.0  133.55  \n",
       "4   1.8068292018487954e+18              nan   0.0  140.62  \n",
       "5   1.8068292018823498e+18     jewelry.ring   0.0   188.7  \n",
       "6   1.8068292018823498e+18     jewelry.ring   0.0  215.14  \n",
       "7   1.8068292018823498e+18     jewelry.ring   0.0  119.77  \n",
       "8   1.8068292018487954e+18              nan   0.0  445.95  \n",
       "9   1.8068292018823498e+18     jewelry.ring   0.0   242.9  \n",
       "10  1.8068292018487954e+18              nan   0.0  229.81  \n",
       "11  1.8068292018907384e+18  jewelry.earring   0.0    88.9  \n",
       "12  1.8068292018487954e+18              nan   0.0  134.29  \n",
       "13  1.8068292018487954e+18              nan   0.0  130.16  \n",
       "14  1.8068292018907384e+18  jewelry.earring   0.0   97.12  \n",
       "15  1.8068292018907384e+18  jewelry.earring   1.0   83.42  \n",
       "16  1.8068292018487954e+18              nan   0.0   87.21  "
      ]
     },
     "execution_count": 108,
     "metadata": {},
     "output_type": "execute_result"
    }
   ],
   "source": [
    "# A minSupRatio of 0.007 means, in case of profitability, that it represents 0.007 of total revenues rspectively profit. We made the profit fo each product equal.\n",
    "# Let's oberserve what kind of items we have found.\n",
    "\n",
    "\n",
    "rules_exploded = rules.explode(\"antecedent&consequent\")[[\"antecedent&consequent\",\"sup_ant&cons\"]]\n",
    "rules_exploded.insert(0,\"rules_index\",rules_exploded.index)\n",
    "\n",
    "\n",
    "rules_labeled = pd.merge(rules_exploded,unique_items, how='inner', left_on = 'antecedent&consequent', right_on = 'product_id').sort_values(\"rules_index\").reset_index(drop=True)\n",
    "\n",
    "\n",
    "rules_labeled.to_excel(\"rules_labeled.xlsx\",index=False)\n",
    "\n",
    "rules_labeled\n"
   ]
  },
  {
   "cell_type": "markdown",
   "metadata": {},
   "source": [
    "#### 3.1.2 Classical Association Rules (Limitations on transaction length as at least 2)"
   ]
  },
  {
   "cell_type": "code",
   "execution_count": 120,
   "metadata": {},
   "outputs": [
    {
     "data": {
      "text/html": [
       "<div>\n",
       "<style scoped>\n",
       "    .dataframe tbody tr th:only-of-type {\n",
       "        vertical-align: middle;\n",
       "    }\n",
       "\n",
       "    .dataframe tbody tr th {\n",
       "        vertical-align: top;\n",
       "    }\n",
       "\n",
       "    .dataframe thead th {\n",
       "        text-align: right;\n",
       "    }\n",
       "</style>\n",
       "<table border=\"1\" class=\"dataframe\">\n",
       "  <thead>\n",
       "    <tr style=\"text-align: right;\">\n",
       "      <th></th>\n",
       "      <th>antecedent</th>\n",
       "      <th>sup_antecedent</th>\n",
       "      <th>consequent</th>\n",
       "      <th>sup_consequent</th>\n",
       "      <th>antecedent&amp;consequent</th>\n",
       "      <th>sup_ant&amp;cons</th>\n",
       "      <th>sup_perc_ant&amp;cons</th>\n",
       "      <th>confidence</th>\n",
       "      <th>lift</th>\n",
       "      <th>improvement</th>\n",
       "    </tr>\n",
       "  </thead>\n",
       "  <tbody>\n",
       "    <tr>\n",
       "      <th>0</th>\n",
       "      <td>[1944945390285488528]</td>\n",
       "      <td>221</td>\n",
       "      <td>[1313614230015967859]</td>\n",
       "      <td>170</td>\n",
       "      <td>[1944945390285488528, 1313614230015967859]</td>\n",
       "      <td>51</td>\n",
       "      <td>0.000682</td>\n",
       "      <td>0.230769</td>\n",
       "      <td>101.484163</td>\n",
       "      <td>0.228495</td>\n",
       "    </tr>\n",
       "    <tr>\n",
       "      <th>1</th>\n",
       "      <td>[1944422271028298685]</td>\n",
       "      <td>154</td>\n",
       "      <td>[1937902773722939556]</td>\n",
       "      <td>131</td>\n",
       "      <td>[1944422271028298685, 1937902773722939556]</td>\n",
       "      <td>34</td>\n",
       "      <td>0.000455</td>\n",
       "      <td>0.220779</td>\n",
       "      <td>125.995836</td>\n",
       "      <td>0.219027</td>\n",
       "    </tr>\n",
       "    <tr>\n",
       "      <th>2</th>\n",
       "      <td>[1956663836207481430]</td>\n",
       "      <td>259</td>\n",
       "      <td>[1956663836207481431]</td>\n",
       "      <td>183</td>\n",
       "      <td>[1956663836207481431, 1956663836207481430]</td>\n",
       "      <td>29</td>\n",
       "      <td>0.000388</td>\n",
       "      <td>0.111969</td>\n",
       "      <td>45.742136</td>\n",
       "      <td>0.109521</td>\n",
       "    </tr>\n",
       "    <tr>\n",
       "      <th>3</th>\n",
       "      <td>[1313614230015967859]</td>\n",
       "      <td>170</td>\n",
       "      <td>[1343446704099164925]</td>\n",
       "      <td>90</td>\n",
       "      <td>[1343446704099164925, 1313614230015967859]</td>\n",
       "      <td>26</td>\n",
       "      <td>0.000348</td>\n",
       "      <td>0.152941</td>\n",
       "      <td>127.043137</td>\n",
       "      <td>0.151737</td>\n",
       "    </tr>\n",
       "    <tr>\n",
       "      <th>4</th>\n",
       "      <td>[1956663840309510725]</td>\n",
       "      <td>274</td>\n",
       "      <td>[1956663836207481430]</td>\n",
       "      <td>259</td>\n",
       "      <td>[1956663840309510725, 1956663836207481430]</td>\n",
       "      <td>25</td>\n",
       "      <td>0.000334</td>\n",
       "      <td>0.091241</td>\n",
       "      <td>26.336556</td>\n",
       "      <td>0.087776</td>\n",
       "    </tr>\n",
       "    <tr>\n",
       "      <th>5</th>\n",
       "      <td>[1956663848287077291]</td>\n",
       "      <td>102</td>\n",
       "      <td>[1956663848287077290]</td>\n",
       "      <td>100</td>\n",
       "      <td>[1956663848287077291, 1956663848287077290]</td>\n",
       "      <td>24</td>\n",
       "      <td>0.000321</td>\n",
       "      <td>0.235294</td>\n",
       "      <td>175.905882</td>\n",
       "      <td>0.233957</td>\n",
       "    </tr>\n",
       "    <tr>\n",
       "      <th>6</th>\n",
       "      <td>[1956663840242401751]</td>\n",
       "      <td>301</td>\n",
       "      <td>[1956663846349308653]</td>\n",
       "      <td>169</td>\n",
       "      <td>[1956663840242401751, 1956663846349308653]</td>\n",
       "      <td>23</td>\n",
       "      <td>0.000308</td>\n",
       "      <td>0.076412</td>\n",
       "      <td>33.802119</td>\n",
       "      <td>0.074151</td>\n",
       "    </tr>\n",
       "    <tr>\n",
       "      <th>7</th>\n",
       "      <td>[1956663847666319760]</td>\n",
       "      <td>266</td>\n",
       "      <td>[1352907200745439279]</td>\n",
       "      <td>265</td>\n",
       "      <td>[1956663847666319760, 1352907200745439279]</td>\n",
       "      <td>23</td>\n",
       "      <td>0.000308</td>\n",
       "      <td>0.086466</td>\n",
       "      <td>24.393247</td>\n",
       "      <td>0.082921</td>\n",
       "    </tr>\n",
       "  </tbody>\n",
       "</table>\n",
       "</div>"
      ],
      "text/plain": [
       "              antecedent  sup_antecedent             consequent  \\\n",
       "0  [1944945390285488528]             221  [1313614230015967859]   \n",
       "1  [1944422271028298685]             154  [1937902773722939556]   \n",
       "2  [1956663836207481430]             259  [1956663836207481431]   \n",
       "3  [1313614230015967859]             170  [1343446704099164925]   \n",
       "4  [1956663840309510725]             274  [1956663836207481430]   \n",
       "5  [1956663848287077291]             102  [1956663848287077290]   \n",
       "6  [1956663840242401751]             301  [1956663846349308653]   \n",
       "7  [1956663847666319760]             266  [1352907200745439279]   \n",
       "\n",
       "   sup_consequent                       antecedent&consequent  sup_ant&cons  \\\n",
       "0             170  [1944945390285488528, 1313614230015967859]            51   \n",
       "1             131  [1944422271028298685, 1937902773722939556]            34   \n",
       "2             183  [1956663836207481431, 1956663836207481430]            29   \n",
       "3              90  [1343446704099164925, 1313614230015967859]            26   \n",
       "4             259  [1956663840309510725, 1956663836207481430]            25   \n",
       "5             100  [1956663848287077291, 1956663848287077290]            24   \n",
       "6             169  [1956663840242401751, 1956663846349308653]            23   \n",
       "7             265  [1956663847666319760, 1352907200745439279]            23   \n",
       "\n",
       "   sup_perc_ant&cons  confidence        lift  improvement  \n",
       "0           0.000682    0.230769  101.484163     0.228495  \n",
       "1           0.000455    0.220779  125.995836     0.219027  \n",
       "2           0.000388    0.111969   45.742136     0.109521  \n",
       "3           0.000348    0.152941  127.043137     0.151737  \n",
       "4           0.000334    0.091241   26.336556     0.087776  \n",
       "5           0.000321    0.235294  175.905882     0.233957  \n",
       "6           0.000308    0.076412   33.802119     0.074151  \n",
       "7           0.000308    0.086466   24.393247     0.082921  "
      ]
     },
     "execution_count": 120,
     "metadata": {},
     "output_type": "execute_result"
    }
   ],
   "source": [
    "import modified_fp_growth_algorithm.modified_fp_growth_latest as mod_fp_growth\n",
    "\n",
    "rules = mod_fp_growth.fpgrowthFromDataFrame(\\\n",
    "    data,\n",
    "    minSupRatio=0.0003,\n",
    "    maxSupRatio=1,\n",
    "    minConf=0,\n",
    "    item_col=1,\n",
    "    minTransactionLength=2,\n",
    "    maxTransactionLength=10\n",
    "    )\n",
    "    \n",
    "rules.to_excel(\"fp_groth_out.xlsx\",index=False) \n",
    "rules"
   ]
  },
  {
   "cell_type": "code",
   "execution_count": 123,
   "metadata": {},
   "outputs": [
    {
     "data": {
      "text/html": [
       "<div>\n",
       "<style scoped>\n",
       "    .dataframe tbody tr th:only-of-type {\n",
       "        vertical-align: middle;\n",
       "    }\n",
       "\n",
       "    .dataframe tbody tr th {\n",
       "        vertical-align: top;\n",
       "    }\n",
       "\n",
       "    .dataframe thead th {\n",
       "        text-align: right;\n",
       "    }\n",
       "</style>\n",
       "<table border=\"1\" class=\"dataframe\">\n",
       "  <thead>\n",
       "    <tr style=\"text-align: right;\">\n",
       "      <th></th>\n",
       "      <th>rules_index</th>\n",
       "      <th>antecedent&amp;consequent</th>\n",
       "      <th>sup_ant&amp;cons</th>\n",
       "      <th>product_id</th>\n",
       "      <th>category_id</th>\n",
       "      <th>category_code</th>\n",
       "      <th>brand</th>\n",
       "      <th>price</th>\n",
       "    </tr>\n",
       "  </thead>\n",
       "  <tbody>\n",
       "    <tr>\n",
       "      <th>0</th>\n",
       "      <td>0</td>\n",
       "      <td>1944945390285488528</td>\n",
       "      <td>51</td>\n",
       "      <td>1944945390285488528</td>\n",
       "      <td>1.8068292018823498e+18</td>\n",
       "      <td>jewelry.ring</td>\n",
       "      <td>1.0</td>\n",
       "      <td>534.11</td>\n",
       "    </tr>\n",
       "    <tr>\n",
       "      <th>1</th>\n",
       "      <td>0</td>\n",
       "      <td>1313614230015967859</td>\n",
       "      <td>51</td>\n",
       "      <td>1313614230015967859</td>\n",
       "      <td>1.8068292018907384e+18</td>\n",
       "      <td>jewelry.earring</td>\n",
       "      <td>1.0</td>\n",
       "      <td>903.97</td>\n",
       "    </tr>\n",
       "    <tr>\n",
       "      <th>2</th>\n",
       "      <td>1</td>\n",
       "      <td>1944422271028298685</td>\n",
       "      <td>34</td>\n",
       "      <td>1944422271028298685</td>\n",
       "      <td>1.8068292018823498e+18</td>\n",
       "      <td>jewelry.ring</td>\n",
       "      <td>1.0</td>\n",
       "      <td>493.01</td>\n",
       "    </tr>\n",
       "    <tr>\n",
       "      <th>3</th>\n",
       "      <td>1</td>\n",
       "      <td>1937902773722939556</td>\n",
       "      <td>34</td>\n",
       "      <td>1937902773722939556</td>\n",
       "      <td>1.8068292018907384e+18</td>\n",
       "      <td>jewelry.earring</td>\n",
       "      <td>1.0</td>\n",
       "      <td>856.03</td>\n",
       "    </tr>\n",
       "    <tr>\n",
       "      <th>4</th>\n",
       "      <td>2</td>\n",
       "      <td>1956663836207481431</td>\n",
       "      <td>29</td>\n",
       "      <td>1956663836207481431</td>\n",
       "      <td>1.8068292018823498e+18</td>\n",
       "      <td>jewelry.ring</td>\n",
       "      <td>0.0</td>\n",
       "      <td>145.62</td>\n",
       "    </tr>\n",
       "    <tr>\n",
       "      <th>5</th>\n",
       "      <td>2</td>\n",
       "      <td>1956663836207481430</td>\n",
       "      <td>29</td>\n",
       "      <td>1956663836207481430</td>\n",
       "      <td>1.8068292018823498e+18</td>\n",
       "      <td>jewelry.ring</td>\n",
       "      <td>0.0</td>\n",
       "      <td>119.77</td>\n",
       "    </tr>\n",
       "    <tr>\n",
       "      <th>6</th>\n",
       "      <td>3</td>\n",
       "      <td>1313614230015967859</td>\n",
       "      <td>26</td>\n",
       "      <td>1313614230015967859</td>\n",
       "      <td>1.8068292018907384e+18</td>\n",
       "      <td>jewelry.earring</td>\n",
       "      <td>1.0</td>\n",
       "      <td>903.97</td>\n",
       "    </tr>\n",
       "    <tr>\n",
       "      <th>7</th>\n",
       "      <td>3</td>\n",
       "      <td>1343446704099164925</td>\n",
       "      <td>26</td>\n",
       "      <td>1343446704099164925</td>\n",
       "      <td>1.8068292019159043e+18</td>\n",
       "      <td>jewelry.pendant</td>\n",
       "      <td>1.0</td>\n",
       "      <td>410.82</td>\n",
       "    </tr>\n",
       "    <tr>\n",
       "      <th>8</th>\n",
       "      <td>4</td>\n",
       "      <td>1956663836207481430</td>\n",
       "      <td>25</td>\n",
       "      <td>1956663836207481430</td>\n",
       "      <td>1.8068292018823498e+18</td>\n",
       "      <td>jewelry.ring</td>\n",
       "      <td>0.0</td>\n",
       "      <td>119.77</td>\n",
       "    </tr>\n",
       "    <tr>\n",
       "      <th>9</th>\n",
       "      <td>4</td>\n",
       "      <td>1956663840309510725</td>\n",
       "      <td>25</td>\n",
       "      <td>1956663840309510725</td>\n",
       "      <td>1.8068292018823498e+18</td>\n",
       "      <td>jewelry.ring</td>\n",
       "      <td>0.0</td>\n",
       "      <td>133.55</td>\n",
       "    </tr>\n",
       "    <tr>\n",
       "      <th>10</th>\n",
       "      <td>5</td>\n",
       "      <td>1956663848287077291</td>\n",
       "      <td>24</td>\n",
       "      <td>1956663848287077291</td>\n",
       "      <td>1.8068292018823498e+18</td>\n",
       "      <td>jewelry.ring</td>\n",
       "      <td>0.0</td>\n",
       "      <td>198.49</td>\n",
       "    </tr>\n",
       "    <tr>\n",
       "      <th>11</th>\n",
       "      <td>5</td>\n",
       "      <td>1956663848287077290</td>\n",
       "      <td>24</td>\n",
       "      <td>1956663848287077290</td>\n",
       "      <td>1.8068292018907384e+18</td>\n",
       "      <td>jewelry.earring</td>\n",
       "      <td>0.0</td>\n",
       "      <td>287.53</td>\n",
       "    </tr>\n",
       "    <tr>\n",
       "      <th>12</th>\n",
       "      <td>6</td>\n",
       "      <td>1956663840242401751</td>\n",
       "      <td>23</td>\n",
       "      <td>1956663840242401751</td>\n",
       "      <td>1.8068292018823498e+18</td>\n",
       "      <td>jewelry.ring</td>\n",
       "      <td>0.0</td>\n",
       "      <td>259.97</td>\n",
       "    </tr>\n",
       "    <tr>\n",
       "      <th>13</th>\n",
       "      <td>6</td>\n",
       "      <td>1956663846349308653</td>\n",
       "      <td>23</td>\n",
       "      <td>1956663846349308653</td>\n",
       "      <td>1.8068292018823498e+18</td>\n",
       "      <td>jewelry.ring</td>\n",
       "      <td>1.0</td>\n",
       "      <td>328.63</td>\n",
       "    </tr>\n",
       "    <tr>\n",
       "      <th>14</th>\n",
       "      <td>7</td>\n",
       "      <td>1956663847666319760</td>\n",
       "      <td>23</td>\n",
       "      <td>1956663847666319760</td>\n",
       "      <td>1.8068292018823498e+18</td>\n",
       "      <td>jewelry.ring</td>\n",
       "      <td>0.0</td>\n",
       "      <td>188.7</td>\n",
       "    </tr>\n",
       "    <tr>\n",
       "      <th>15</th>\n",
       "      <td>7</td>\n",
       "      <td>1352907200745439279</td>\n",
       "      <td>23</td>\n",
       "      <td>1352907200745439279</td>\n",
       "      <td>1.8068292018823498e+18</td>\n",
       "      <td>jewelry.ring</td>\n",
       "      <td>0.0</td>\n",
       "      <td>215.14</td>\n",
       "    </tr>\n",
       "  </tbody>\n",
       "</table>\n",
       "</div>"
      ],
      "text/plain": [
       "    rules_index antecedent&consequent  sup_ant&cons           product_id  \\\n",
       "0             0   1944945390285488528            51  1944945390285488528   \n",
       "1             0   1313614230015967859            51  1313614230015967859   \n",
       "2             1   1944422271028298685            34  1944422271028298685   \n",
       "3             1   1937902773722939556            34  1937902773722939556   \n",
       "4             2   1956663836207481431            29  1956663836207481431   \n",
       "5             2   1956663836207481430            29  1956663836207481430   \n",
       "6             3   1313614230015967859            26  1313614230015967859   \n",
       "7             3   1343446704099164925            26  1343446704099164925   \n",
       "8             4   1956663836207481430            25  1956663836207481430   \n",
       "9             4   1956663840309510725            25  1956663840309510725   \n",
       "10            5   1956663848287077291            24  1956663848287077291   \n",
       "11            5   1956663848287077290            24  1956663848287077290   \n",
       "12            6   1956663840242401751            23  1956663840242401751   \n",
       "13            6   1956663846349308653            23  1956663846349308653   \n",
       "14            7   1956663847666319760            23  1956663847666319760   \n",
       "15            7   1352907200745439279            23  1352907200745439279   \n",
       "\n",
       "               category_id    category_code brand   price  \n",
       "0   1.8068292018823498e+18     jewelry.ring   1.0  534.11  \n",
       "1   1.8068292018907384e+18  jewelry.earring   1.0  903.97  \n",
       "2   1.8068292018823498e+18     jewelry.ring   1.0  493.01  \n",
       "3   1.8068292018907384e+18  jewelry.earring   1.0  856.03  \n",
       "4   1.8068292018823498e+18     jewelry.ring   0.0  145.62  \n",
       "5   1.8068292018823498e+18     jewelry.ring   0.0  119.77  \n",
       "6   1.8068292018907384e+18  jewelry.earring   1.0  903.97  \n",
       "7   1.8068292019159043e+18  jewelry.pendant   1.0  410.82  \n",
       "8   1.8068292018823498e+18     jewelry.ring   0.0  119.77  \n",
       "9   1.8068292018823498e+18     jewelry.ring   0.0  133.55  \n",
       "10  1.8068292018823498e+18     jewelry.ring   0.0  198.49  \n",
       "11  1.8068292018907384e+18  jewelry.earring   0.0  287.53  \n",
       "12  1.8068292018823498e+18     jewelry.ring   0.0  259.97  \n",
       "13  1.8068292018823498e+18     jewelry.ring   1.0  328.63  \n",
       "14  1.8068292018823498e+18     jewelry.ring   0.0   188.7  \n",
       "15  1.8068292018823498e+18     jewelry.ring   0.0  215.14  "
      ]
     },
     "execution_count": 123,
     "metadata": {},
     "output_type": "execute_result"
    }
   ],
   "source": [
    "rules_exploded = rules.explode(\"antecedent&consequent\")[[\"antecedent&consequent\",\"sup_ant&cons\"]]\n",
    "rules_exploded.insert(0,\"rules_index\",rules_exploded.index)\n",
    "\n",
    "\n",
    "rules_labeled = pd.merge(rules_exploded,unique_items, how='inner', left_on = 'antecedent&consequent', right_on = 'product_id').sort_values(\"rules_index\").reset_index(drop=True)\n",
    "\n",
    "\n",
    "rules_labeled.to_excel(\"rules_labeled.xlsx\",index=False)\n",
    "\n",
    "rules_labeled\n"
   ]
  },
  {
   "cell_type": "markdown",
   "metadata": {},
   "source": [
    "#### 3.2 Profit based Association Rules (No limitations on transaction length)"
   ]
  },
  {
   "cell_type": "code",
   "execution_count": 131,
   "metadata": {},
   "outputs": [
    {
     "data": {
      "text/html": [
       "<div>\n",
       "<style scoped>\n",
       "    .dataframe tbody tr th:only-of-type {\n",
       "        vertical-align: middle;\n",
       "    }\n",
       "\n",
       "    .dataframe tbody tr th {\n",
       "        vertical-align: top;\n",
       "    }\n",
       "\n",
       "    .dataframe thead th {\n",
       "        text-align: right;\n",
       "    }\n",
       "</style>\n",
       "<table border=\"1\" class=\"dataframe\">\n",
       "  <thead>\n",
       "    <tr style=\"text-align: right;\">\n",
       "      <th></th>\n",
       "      <th>antecedent</th>\n",
       "      <th>sup_antecedent</th>\n",
       "      <th>consequent</th>\n",
       "      <th>sup_consequent</th>\n",
       "      <th>antecedent&amp;consequent</th>\n",
       "      <th>sup_ant&amp;cons</th>\n",
       "      <th>sup_perc_ant&amp;cons</th>\n",
       "      <th>confidence</th>\n",
       "      <th>lift</th>\n",
       "      <th>improvement</th>\n",
       "      <th>profit_associated</th>\n",
       "      <th>perc_of_total_profit</th>\n",
       "      <th>profit_associated_prev</th>\n",
       "      <th>net_change</th>\n",
       "      <th>profit_last_item</th>\n",
       "      <th>loss_by_change</th>\n",
       "    </tr>\n",
       "  </thead>\n",
       "  <tbody>\n",
       "    <tr>\n",
       "      <th>0</th>\n",
       "      <td>[]</td>\n",
       "      <td>NA</td>\n",
       "      <td>[1806829191514031042]</td>\n",
       "      <td>88</td>\n",
       "      <td>[1806829191514031042]</td>\n",
       "      <td>88</td>\n",
       "      <td>0.001241</td>\n",
       "      <td>NA</td>\n",
       "      <td>NA</td>\n",
       "      <td>NA</td>\n",
       "      <td>247480.520000</td>\n",
       "      <td>0.007545</td>\n",
       "      <td>0.0</td>\n",
       "      <td>0.000000</td>\n",
       "      <td>247480.52</td>\n",
       "      <td>0.000000</td>\n",
       "    </tr>\n",
       "    <tr>\n",
       "      <th>1</th>\n",
       "      <td>[]</td>\n",
       "      <td>NA</td>\n",
       "      <td>[1956663836668854462]</td>\n",
       "      <td>95</td>\n",
       "      <td>[1956663836668854462]</td>\n",
       "      <td>95</td>\n",
       "      <td>0.001339</td>\n",
       "      <td>NA</td>\n",
       "      <td>NA</td>\n",
       "      <td>NA</td>\n",
       "      <td>219755.440000</td>\n",
       "      <td>0.006699</td>\n",
       "      <td>0.0</td>\n",
       "      <td>0.000000</td>\n",
       "      <td>219755.44</td>\n",
       "      <td>0.000000</td>\n",
       "    </tr>\n",
       "    <tr>\n",
       "      <th>2</th>\n",
       "      <td>[]</td>\n",
       "      <td>NA</td>\n",
       "      <td>[1956663836668854461]</td>\n",
       "      <td>159</td>\n",
       "      <td>[1956663836668854461]</td>\n",
       "      <td>159</td>\n",
       "      <td>0.002242</td>\n",
       "      <td>NA</td>\n",
       "      <td>NA</td>\n",
       "      <td>NA</td>\n",
       "      <td>201361.600000</td>\n",
       "      <td>0.006139</td>\n",
       "      <td>0.0</td>\n",
       "      <td>0.000000</td>\n",
       "      <td>201361.60</td>\n",
       "      <td>0.000000</td>\n",
       "    </tr>\n",
       "    <tr>\n",
       "      <th>3</th>\n",
       "      <td>[]</td>\n",
       "      <td>NA</td>\n",
       "      <td>[1956663847708262860]</td>\n",
       "      <td>107</td>\n",
       "      <td>[1956663847708262860]</td>\n",
       "      <td>107</td>\n",
       "      <td>0.001508</td>\n",
       "      <td>NA</td>\n",
       "      <td>NA</td>\n",
       "      <td>NA</td>\n",
       "      <td>184792.210000</td>\n",
       "      <td>0.005634</td>\n",
       "      <td>0.0</td>\n",
       "      <td>0.000000</td>\n",
       "      <td>184792.21</td>\n",
       "      <td>0.000000</td>\n",
       "    </tr>\n",
       "    <tr>\n",
       "      <th>4</th>\n",
       "      <td>[]</td>\n",
       "      <td>NA</td>\n",
       "      <td>[1313614230015967859]</td>\n",
       "      <td>170</td>\n",
       "      <td>[1313614230015967859]</td>\n",
       "      <td>170</td>\n",
       "      <td>0.002397</td>\n",
       "      <td>NA</td>\n",
       "      <td>NA</td>\n",
       "      <td>NA</td>\n",
       "      <td>153674.900000</td>\n",
       "      <td>0.004685</td>\n",
       "      <td>0.0</td>\n",
       "      <td>0.000000</td>\n",
       "      <td>153674.90</td>\n",
       "      <td>0.000000</td>\n",
       "    </tr>\n",
       "    <tr>\n",
       "      <th>5</th>\n",
       "      <td>[]</td>\n",
       "      <td>NA</td>\n",
       "      <td>[1956663831425974504]</td>\n",
       "      <td>111</td>\n",
       "      <td>[1956663831425974504]</td>\n",
       "      <td>111</td>\n",
       "      <td>0.001565</td>\n",
       "      <td>NA</td>\n",
       "      <td>NA</td>\n",
       "      <td>NA</td>\n",
       "      <td>153430.270000</td>\n",
       "      <td>0.004677</td>\n",
       "      <td>0.0</td>\n",
       "      <td>0.000000</td>\n",
       "      <td>153430.27</td>\n",
       "      <td>0.000000</td>\n",
       "    </tr>\n",
       "    <tr>\n",
       "      <th>6</th>\n",
       "      <td>[]</td>\n",
       "      <td>NA</td>\n",
       "      <td>[1956663831375642763]</td>\n",
       "      <td>129</td>\n",
       "      <td>[1956663831375642763]</td>\n",
       "      <td>129</td>\n",
       "      <td>0.001819</td>\n",
       "      <td>NA</td>\n",
       "      <td>NA</td>\n",
       "      <td>NA</td>\n",
       "      <td>135714.530000</td>\n",
       "      <td>0.004137</td>\n",
       "      <td>0.0</td>\n",
       "      <td>0.000000</td>\n",
       "      <td>135714.53</td>\n",
       "      <td>0.000000</td>\n",
       "    </tr>\n",
       "    <tr>\n",
       "      <th>7</th>\n",
       "      <td>[]</td>\n",
       "      <td>NA</td>\n",
       "      <td>[1515966223500113689]</td>\n",
       "      <td>5</td>\n",
       "      <td>[1515966223500113689]</td>\n",
       "      <td>5</td>\n",
       "      <td>0.000070</td>\n",
       "      <td>NA</td>\n",
       "      <td>NA</td>\n",
       "      <td>NA</td>\n",
       "      <td>132122.600000</td>\n",
       "      <td>0.004028</td>\n",
       "      <td>0.0</td>\n",
       "      <td>0.000000</td>\n",
       "      <td>132122.60</td>\n",
       "      <td>0.000000</td>\n",
       "    </tr>\n",
       "    <tr>\n",
       "      <th>8</th>\n",
       "      <td>[]</td>\n",
       "      <td>NA</td>\n",
       "      <td>[1944945390285488528]</td>\n",
       "      <td>221</td>\n",
       "      <td>[1944945390285488528]</td>\n",
       "      <td>221</td>\n",
       "      <td>0.003116</td>\n",
       "      <td>NA</td>\n",
       "      <td>NA</td>\n",
       "      <td>NA</td>\n",
       "      <td>122845.300000</td>\n",
       "      <td>0.003745</td>\n",
       "      <td>0.0</td>\n",
       "      <td>0.000000</td>\n",
       "      <td>122845.30</td>\n",
       "      <td>0.000000</td>\n",
       "    </tr>\n",
       "    <tr>\n",
       "      <th>9</th>\n",
       "      <td>[]</td>\n",
       "      <td>NA</td>\n",
       "      <td>[1956663846449972073]</td>\n",
       "      <td>146</td>\n",
       "      <td>[1956663846449972073]</td>\n",
       "      <td>146</td>\n",
       "      <td>0.002058</td>\n",
       "      <td>NA</td>\n",
       "      <td>NA</td>\n",
       "      <td>NA</td>\n",
       "      <td>121057.360000</td>\n",
       "      <td>0.003691</td>\n",
       "      <td>0.0</td>\n",
       "      <td>0.000000</td>\n",
       "      <td>121057.36</td>\n",
       "      <td>0.000000</td>\n",
       "    </tr>\n",
       "    <tr>\n",
       "      <th>10</th>\n",
       "      <td>[]</td>\n",
       "      <td>NA</td>\n",
       "      <td>[1956663845787271453]</td>\n",
       "      <td>258</td>\n",
       "      <td>[1956663845787271453]</td>\n",
       "      <td>258</td>\n",
       "      <td>0.003637</td>\n",
       "      <td>NA</td>\n",
       "      <td>NA</td>\n",
       "      <td>NA</td>\n",
       "      <td>115947.000000</td>\n",
       "      <td>0.003535</td>\n",
       "      <td>0.0</td>\n",
       "      <td>0.000000</td>\n",
       "      <td>115947.00</td>\n",
       "      <td>0.000000</td>\n",
       "    </tr>\n",
       "    <tr>\n",
       "      <th>11</th>\n",
       "      <td>[]</td>\n",
       "      <td>NA</td>\n",
       "      <td>[1956663836769517900]</td>\n",
       "      <td>187</td>\n",
       "      <td>[1956663836769517900]</td>\n",
       "      <td>187</td>\n",
       "      <td>0.002636</td>\n",
       "      <td>NA</td>\n",
       "      <td>NA</td>\n",
       "      <td>NA</td>\n",
       "      <td>113425.020000</td>\n",
       "      <td>0.003458</td>\n",
       "      <td>0.0</td>\n",
       "      <td>0.000000</td>\n",
       "      <td>113425.02</td>\n",
       "      <td>0.000000</td>\n",
       "    </tr>\n",
       "    <tr>\n",
       "      <th>12</th>\n",
       "      <td>[]</td>\n",
       "      <td>NA</td>\n",
       "      <td>[1937902773722939556]</td>\n",
       "      <td>131</td>\n",
       "      <td>[1937902773722939556]</td>\n",
       "      <td>131</td>\n",
       "      <td>0.001847</td>\n",
       "      <td>NA</td>\n",
       "      <td>NA</td>\n",
       "      <td>NA</td>\n",
       "      <td>112139.930000</td>\n",
       "      <td>0.003419</td>\n",
       "      <td>0.0</td>\n",
       "      <td>0.000000</td>\n",
       "      <td>112139.93</td>\n",
       "      <td>0.000000</td>\n",
       "    </tr>\n",
       "    <tr>\n",
       "      <th>13</th>\n",
       "      <td>[]</td>\n",
       "      <td>NA</td>\n",
       "      <td>[1956663840242401751]</td>\n",
       "      <td>301</td>\n",
       "      <td>[1956663840242401751]</td>\n",
       "      <td>301</td>\n",
       "      <td>0.004243</td>\n",
       "      <td>NA</td>\n",
       "      <td>NA</td>\n",
       "      <td>NA</td>\n",
       "      <td>111267.160000</td>\n",
       "      <td>0.003392</td>\n",
       "      <td>0.0</td>\n",
       "      <td>0.000000</td>\n",
       "      <td>111267.16</td>\n",
       "      <td>0.000000</td>\n",
       "    </tr>\n",
       "    <tr>\n",
       "      <th>14</th>\n",
       "      <td>[]</td>\n",
       "      <td>NA</td>\n",
       "      <td>[1956663845678219397]</td>\n",
       "      <td>104</td>\n",
       "      <td>[1956663845678219397]</td>\n",
       "      <td>104</td>\n",
       "      <td>0.001466</td>\n",
       "      <td>NA</td>\n",
       "      <td>NA</td>\n",
       "      <td>NA</td>\n",
       "      <td>111224.690000</td>\n",
       "      <td>0.003391</td>\n",
       "      <td>0.0</td>\n",
       "      <td>0.000000</td>\n",
       "      <td>111224.69</td>\n",
       "      <td>0.000000</td>\n",
       "    </tr>\n",
       "    <tr>\n",
       "      <th>15</th>\n",
       "      <td>[]</td>\n",
       "      <td>NA</td>\n",
       "      <td>[1956663847473381494]</td>\n",
       "      <td>128</td>\n",
       "      <td>[1956663847473381494]</td>\n",
       "      <td>128</td>\n",
       "      <td>0.001805</td>\n",
       "      <td>NA</td>\n",
       "      <td>NA</td>\n",
       "      <td>NA</td>\n",
       "      <td>109768.510000</td>\n",
       "      <td>0.003346</td>\n",
       "      <td>0.0</td>\n",
       "      <td>0.000000</td>\n",
       "      <td>109768.51</td>\n",
       "      <td>0.000000</td>\n",
       "    </tr>\n",
       "    <tr>\n",
       "      <th>16</th>\n",
       "      <td>[]</td>\n",
       "      <td>NA</td>\n",
       "      <td>[1956663830763274548]</td>\n",
       "      <td>89</td>\n",
       "      <td>[1956663830763274548]</td>\n",
       "      <td>89</td>\n",
       "      <td>0.001255</td>\n",
       "      <td>NA</td>\n",
       "      <td>NA</td>\n",
       "      <td>NA</td>\n",
       "      <td>108813.250000</td>\n",
       "      <td>0.003317</td>\n",
       "      <td>0.0</td>\n",
       "      <td>0.000000</td>\n",
       "      <td>108813.25</td>\n",
       "      <td>0.000000</td>\n",
       "    </tr>\n",
       "    <tr>\n",
       "      <th>17</th>\n",
       "      <td>[]</td>\n",
       "      <td>NA</td>\n",
       "      <td>[1956663847725040099]</td>\n",
       "      <td>362</td>\n",
       "      <td>[1956663847725040099]</td>\n",
       "      <td>362</td>\n",
       "      <td>0.005103</td>\n",
       "      <td>NA</td>\n",
       "      <td>NA</td>\n",
       "      <td>NA</td>\n",
       "      <td>105436.700000</td>\n",
       "      <td>0.003214</td>\n",
       "      <td>0.0</td>\n",
       "      <td>0.000000</td>\n",
       "      <td>105436.70</td>\n",
       "      <td>0.000000</td>\n",
       "    </tr>\n",
       "    <tr>\n",
       "      <th>18</th>\n",
       "      <td>[]</td>\n",
       "      <td>NA</td>\n",
       "      <td>[1956663848186413865]</td>\n",
       "      <td>103</td>\n",
       "      <td>[1956663848186413865]</td>\n",
       "      <td>103</td>\n",
       "      <td>0.001452</td>\n",
       "      <td>NA</td>\n",
       "      <td>NA</td>\n",
       "      <td>NA</td>\n",
       "      <td>100026.030000</td>\n",
       "      <td>0.003049</td>\n",
       "      <td>0.0</td>\n",
       "      <td>0.000000</td>\n",
       "      <td>100026.03</td>\n",
       "      <td>0.000000</td>\n",
       "    </tr>\n",
       "    <tr>\n",
       "      <th>19</th>\n",
       "      <td>[]</td>\n",
       "      <td>NA</td>\n",
       "      <td>[1956663845644664920]</td>\n",
       "      <td>177</td>\n",
       "      <td>[1956663845644664920]</td>\n",
       "      <td>177</td>\n",
       "      <td>0.002495</td>\n",
       "      <td>NA</td>\n",
       "      <td>NA</td>\n",
       "      <td>NA</td>\n",
       "      <td>97489.620000</td>\n",
       "      <td>0.002972</td>\n",
       "      <td>0.0</td>\n",
       "      <td>0.000000</td>\n",
       "      <td>97489.62</td>\n",
       "      <td>0.000000</td>\n",
       "    </tr>\n",
       "    <tr>\n",
       "      <th>20</th>\n",
       "      <td>[]</td>\n",
       "      <td>NA</td>\n",
       "      <td>[1956663847859258014]</td>\n",
       "      <td>184</td>\n",
       "      <td>[1956663847859258014]</td>\n",
       "      <td>184</td>\n",
       "      <td>0.002594</td>\n",
       "      <td>NA</td>\n",
       "      <td>NA</td>\n",
       "      <td>NA</td>\n",
       "      <td>96829.000000</td>\n",
       "      <td>0.002952</td>\n",
       "      <td>0.0</td>\n",
       "      <td>0.000000</td>\n",
       "      <td>96829.00</td>\n",
       "      <td>0.000000</td>\n",
       "    </tr>\n",
       "    <tr>\n",
       "      <th>21</th>\n",
       "      <td>[]</td>\n",
       "      <td>NA</td>\n",
       "      <td>[1956663836433974134]</td>\n",
       "      <td>61</td>\n",
       "      <td>[1956663836433974134]</td>\n",
       "      <td>61</td>\n",
       "      <td>0.000860</td>\n",
       "      <td>NA</td>\n",
       "      <td>NA</td>\n",
       "      <td>NA</td>\n",
       "      <td>95114.240000</td>\n",
       "      <td>0.002900</td>\n",
       "      <td>0.0</td>\n",
       "      <td>0.000000</td>\n",
       "      <td>95114.24</td>\n",
       "      <td>0.000000</td>\n",
       "    </tr>\n",
       "    <tr>\n",
       "      <th>22</th>\n",
       "      <td>[]</td>\n",
       "      <td>NA</td>\n",
       "      <td>[1956663845736939733]</td>\n",
       "      <td>221</td>\n",
       "      <td>[1956663845736939733]</td>\n",
       "      <td>221</td>\n",
       "      <td>0.003116</td>\n",
       "      <td>NA</td>\n",
       "      <td>NA</td>\n",
       "      <td>NA</td>\n",
       "      <td>86952.500000</td>\n",
       "      <td>0.002651</td>\n",
       "      <td>0.0</td>\n",
       "      <td>0.000000</td>\n",
       "      <td>86952.50</td>\n",
       "      <td>0.000000</td>\n",
       "    </tr>\n",
       "    <tr>\n",
       "      <th>23</th>\n",
       "      <td>[]</td>\n",
       "      <td>NA</td>\n",
       "      <td>[1956663846424806221]</td>\n",
       "      <td>108</td>\n",
       "      <td>[1956663846424806221]</td>\n",
       "      <td>108</td>\n",
       "      <td>0.001523</td>\n",
       "      <td>NA</td>\n",
       "      <td>NA</td>\n",
       "      <td>NA</td>\n",
       "      <td>85483.080000</td>\n",
       "      <td>0.002606</td>\n",
       "      <td>0.0</td>\n",
       "      <td>0.000000</td>\n",
       "      <td>85483.08</td>\n",
       "      <td>0.000000</td>\n",
       "    </tr>\n",
       "    <tr>\n",
       "      <th>24</th>\n",
       "      <td>[]</td>\n",
       "      <td>NA</td>\n",
       "      <td>[1956663847683096999]</td>\n",
       "      <td>101</td>\n",
       "      <td>[1956663847683096999]</td>\n",
       "      <td>101</td>\n",
       "      <td>0.001424</td>\n",
       "      <td>NA</td>\n",
       "      <td>NA</td>\n",
       "      <td>NA</td>\n",
       "      <td>85135.890000</td>\n",
       "      <td>0.002595</td>\n",
       "      <td>0.0</td>\n",
       "      <td>0.000000</td>\n",
       "      <td>85135.89</td>\n",
       "      <td>0.000000</td>\n",
       "    </tr>\n",
       "    <tr>\n",
       "      <th>25</th>\n",
       "      <td>[]</td>\n",
       "      <td>NA</td>\n",
       "      <td>[1956663831283368958]</td>\n",
       "      <td>253</td>\n",
       "      <td>[1956663831283368958]</td>\n",
       "      <td>253</td>\n",
       "      <td>0.003567</td>\n",
       "      <td>NA</td>\n",
       "      <td>NA</td>\n",
       "      <td>NA</td>\n",
       "      <td>84529.200000</td>\n",
       "      <td>0.002577</td>\n",
       "      <td>0.0</td>\n",
       "      <td>0.000000</td>\n",
       "      <td>84529.20</td>\n",
       "      <td>0.000000</td>\n",
       "    </tr>\n",
       "    <tr>\n",
       "      <th>26</th>\n",
       "      <td>[]</td>\n",
       "      <td>NA</td>\n",
       "      <td>[1944422271028298685]</td>\n",
       "      <td>154</td>\n",
       "      <td>[1944422271028298685]</td>\n",
       "      <td>154</td>\n",
       "      <td>0.002171</td>\n",
       "      <td>NA</td>\n",
       "      <td>NA</td>\n",
       "      <td>NA</td>\n",
       "      <td>80360.630000</td>\n",
       "      <td>0.002450</td>\n",
       "      <td>0.0</td>\n",
       "      <td>0.000000</td>\n",
       "      <td>80360.63</td>\n",
       "      <td>0.000000</td>\n",
       "    </tr>\n",
       "    <tr>\n",
       "      <th>27</th>\n",
       "      <td>[]</td>\n",
       "      <td>NA</td>\n",
       "      <td>[1352907200745439279]</td>\n",
       "      <td>265</td>\n",
       "      <td>[1352907200745439279]</td>\n",
       "      <td>265</td>\n",
       "      <td>0.003736</td>\n",
       "      <td>NA</td>\n",
       "      <td>NA</td>\n",
       "      <td>NA</td>\n",
       "      <td>79386.660000</td>\n",
       "      <td>0.002420</td>\n",
       "      <td>0.0</td>\n",
       "      <td>0.000000</td>\n",
       "      <td>79386.66</td>\n",
       "      <td>0.000000</td>\n",
       "    </tr>\n",
       "    <tr>\n",
       "      <th>28</th>\n",
       "      <td>[]</td>\n",
       "      <td>NA</td>\n",
       "      <td>[1956663831149151028]</td>\n",
       "      <td>44</td>\n",
       "      <td>[1956663831149151028]</td>\n",
       "      <td>44</td>\n",
       "      <td>0.000620</td>\n",
       "      <td>NA</td>\n",
       "      <td>NA</td>\n",
       "      <td>NA</td>\n",
       "      <td>77446.160000</td>\n",
       "      <td>0.002361</td>\n",
       "      <td>0.0</td>\n",
       "      <td>0.000000</td>\n",
       "      <td>77446.16</td>\n",
       "      <td>0.000000</td>\n",
       "    </tr>\n",
       "    <tr>\n",
       "      <th>29</th>\n",
       "      <td>[1944945390285488528]</td>\n",
       "      <td>221</td>\n",
       "      <td>[1313614230015967859]</td>\n",
       "      <td>170</td>\n",
       "      <td>[1944945390285488528, 1313614230015967859]</td>\n",
       "      <td>51</td>\n",
       "      <td>0.000719</td>\n",
       "      <td>0.230769</td>\n",
       "      <td>96.28914</td>\n",
       "      <td>0.228373</td>\n",
       "      <td>74451.385385</td>\n",
       "      <td>0.002270</td>\n",
       "      <td>122845.3</td>\n",
       "      <td>-48393.914615</td>\n",
       "      <td>46102.47</td>\n",
       "      <td>-94496.384615</td>\n",
       "    </tr>\n",
       "    <tr>\n",
       "      <th>30</th>\n",
       "      <td>[]</td>\n",
       "      <td>NA</td>\n",
       "      <td>[1845870160691331313]</td>\n",
       "      <td>58</td>\n",
       "      <td>[1845870160691331313]</td>\n",
       "      <td>58</td>\n",
       "      <td>0.000818</td>\n",
       "      <td>NA</td>\n",
       "      <td>NA</td>\n",
       "      <td>NA</td>\n",
       "      <td>74279.440000</td>\n",
       "      <td>0.002264</td>\n",
       "      <td>0.0</td>\n",
       "      <td>0.000000</td>\n",
       "      <td>74279.44</td>\n",
       "      <td>0.000000</td>\n",
       "    </tr>\n",
       "    <tr>\n",
       "      <th>31</th>\n",
       "      <td>[]</td>\n",
       "      <td>NA</td>\n",
       "      <td>[1956663831266591720]</td>\n",
       "      <td>150</td>\n",
       "      <td>[1956663831266591720]</td>\n",
       "      <td>150</td>\n",
       "      <td>0.002115</td>\n",
       "      <td>NA</td>\n",
       "      <td>NA</td>\n",
       "      <td>NA</td>\n",
       "      <td>73524.000000</td>\n",
       "      <td>0.002241</td>\n",
       "      <td>0.0</td>\n",
       "      <td>0.000000</td>\n",
       "      <td>73524.00</td>\n",
       "      <td>0.000000</td>\n",
       "    </tr>\n",
       "    <tr>\n",
       "      <th>32</th>\n",
       "      <td>[]</td>\n",
       "      <td>NA</td>\n",
       "      <td>[1956663836392031040]</td>\n",
       "      <td>55</td>\n",
       "      <td>[1956663836392031040]</td>\n",
       "      <td>55</td>\n",
       "      <td>0.000775</td>\n",
       "      <td>NA</td>\n",
       "      <td>NA</td>\n",
       "      <td>NA</td>\n",
       "      <td>71190.900000</td>\n",
       "      <td>0.002170</td>\n",
       "      <td>0.0</td>\n",
       "      <td>0.000000</td>\n",
       "      <td>71190.90</td>\n",
       "      <td>0.000000</td>\n",
       "    </tr>\n",
       "    <tr>\n",
       "      <th>33</th>\n",
       "      <td>[]</td>\n",
       "      <td>NA</td>\n",
       "      <td>[1956663836408808278]</td>\n",
       "      <td>71</td>\n",
       "      <td>[1956663836408808278]</td>\n",
       "      <td>71</td>\n",
       "      <td>0.001001</td>\n",
       "      <td>NA</td>\n",
       "      <td>NA</td>\n",
       "      <td>NA</td>\n",
       "      <td>71029.820000</td>\n",
       "      <td>0.002165</td>\n",
       "      <td>0.0</td>\n",
       "      <td>0.000000</td>\n",
       "      <td>71029.82</td>\n",
       "      <td>0.000000</td>\n",
       "    </tr>\n",
       "    <tr>\n",
       "      <th>34</th>\n",
       "      <td>[]</td>\n",
       "      <td>NA</td>\n",
       "      <td>[1956663840301122100]</td>\n",
       "      <td>82</td>\n",
       "      <td>[1956663840301122100]</td>\n",
       "      <td>82</td>\n",
       "      <td>0.001156</td>\n",
       "      <td>NA</td>\n",
       "      <td>NA</td>\n",
       "      <td>NA</td>\n",
       "      <td>70563.080000</td>\n",
       "      <td>0.002151</td>\n",
       "      <td>0.0</td>\n",
       "      <td>0.000000</td>\n",
       "      <td>70563.08</td>\n",
       "      <td>0.000000</td>\n",
       "    </tr>\n",
       "    <tr>\n",
       "      <th>35</th>\n",
       "      <td>[]</td>\n",
       "      <td>NA</td>\n",
       "      <td>[1956663845736939731]</td>\n",
       "      <td>56</td>\n",
       "      <td>[1956663845736939731]</td>\n",
       "      <td>56</td>\n",
       "      <td>0.000789</td>\n",
       "      <td>NA</td>\n",
       "      <td>NA</td>\n",
       "      <td>NA</td>\n",
       "      <td>69928.880000</td>\n",
       "      <td>0.002132</td>\n",
       "      <td>0.0</td>\n",
       "      <td>0.000000</td>\n",
       "      <td>69928.88</td>\n",
       "      <td>0.000000</td>\n",
       "    </tr>\n",
       "    <tr>\n",
       "      <th>36</th>\n",
       "      <td>[]</td>\n",
       "      <td>NA</td>\n",
       "      <td>[1956663846349308653]</td>\n",
       "      <td>169</td>\n",
       "      <td>[1956663846349308653]</td>\n",
       "      <td>169</td>\n",
       "      <td>0.002383</td>\n",
       "      <td>NA</td>\n",
       "      <td>NA</td>\n",
       "      <td>NA</td>\n",
       "      <td>69340.930000</td>\n",
       "      <td>0.002114</td>\n",
       "      <td>0.0</td>\n",
       "      <td>0.000000</td>\n",
       "      <td>69340.93</td>\n",
       "      <td>0.000000</td>\n",
       "    </tr>\n",
       "    <tr>\n",
       "      <th>37</th>\n",
       "      <td>[]</td>\n",
       "      <td>NA</td>\n",
       "      <td>[1956663840225624514]</td>\n",
       "      <td>96</td>\n",
       "      <td>[1956663840225624514]</td>\n",
       "      <td>96</td>\n",
       "      <td>0.001353</td>\n",
       "      <td>NA</td>\n",
       "      <td>NA</td>\n",
       "      <td>NA</td>\n",
       "      <td>69123.300000</td>\n",
       "      <td>0.002107</td>\n",
       "      <td>0.0</td>\n",
       "      <td>0.000000</td>\n",
       "      <td>69123.30</td>\n",
       "      <td>0.000000</td>\n",
       "    </tr>\n",
       "    <tr>\n",
       "      <th>38</th>\n",
       "      <td>[]</td>\n",
       "      <td>NA</td>\n",
       "      <td>[1956663845703385257]</td>\n",
       "      <td>113</td>\n",
       "      <td>[1956663845703385257]</td>\n",
       "      <td>113</td>\n",
       "      <td>0.001593</td>\n",
       "      <td>NA</td>\n",
       "      <td>NA</td>\n",
       "      <td>NA</td>\n",
       "      <td>69078.200000</td>\n",
       "      <td>0.002106</td>\n",
       "      <td>0.0</td>\n",
       "      <td>0.000000</td>\n",
       "      <td>69078.20</td>\n",
       "      <td>0.000000</td>\n",
       "    </tr>\n",
       "    <tr>\n",
       "      <th>39</th>\n",
       "      <td>[]</td>\n",
       "      <td>NA</td>\n",
       "      <td>[1956663831274980341]</td>\n",
       "      <td>188</td>\n",
       "      <td>[1956663831274980341]</td>\n",
       "      <td>188</td>\n",
       "      <td>0.002650</td>\n",
       "      <td>NA</td>\n",
       "      <td>NA</td>\n",
       "      <td>NA</td>\n",
       "      <td>67051.000000</td>\n",
       "      <td>0.002044</td>\n",
       "      <td>0.0</td>\n",
       "      <td>0.000000</td>\n",
       "      <td>67051.00</td>\n",
       "      <td>0.000000</td>\n",
       "    </tr>\n",
       "    <tr>\n",
       "      <th>40</th>\n",
       "      <td>[]</td>\n",
       "      <td>NA</td>\n",
       "      <td>[1956663836811460995]</td>\n",
       "      <td>129</td>\n",
       "      <td>[1956663836811460995]</td>\n",
       "      <td>129</td>\n",
       "      <td>0.001819</td>\n",
       "      <td>NA</td>\n",
       "      <td>NA</td>\n",
       "      <td>NA</td>\n",
       "      <td>66717.510000</td>\n",
       "      <td>0.002034</td>\n",
       "      <td>0.0</td>\n",
       "      <td>0.000000</td>\n",
       "      <td>66717.51</td>\n",
       "      <td>0.000000</td>\n",
       "    </tr>\n",
       "    <tr>\n",
       "      <th>41</th>\n",
       "      <td>[]</td>\n",
       "      <td>NA</td>\n",
       "      <td>[1838494071232921609]</td>\n",
       "      <td>34</td>\n",
       "      <td>[1838494071232921609]</td>\n",
       "      <td>34</td>\n",
       "      <td>0.000479</td>\n",
       "      <td>NA</td>\n",
       "      <td>NA</td>\n",
       "      <td>NA</td>\n",
       "      <td>66090.560000</td>\n",
       "      <td>0.002015</td>\n",
       "      <td>0.0</td>\n",
       "      <td>0.000000</td>\n",
       "      <td>66090.56</td>\n",
       "      <td>0.000000</td>\n",
       "    </tr>\n",
       "    <tr>\n",
       "      <th>42</th>\n",
       "      <td>[]</td>\n",
       "      <td>NA</td>\n",
       "      <td>[1956663847666319760]</td>\n",
       "      <td>266</td>\n",
       "      <td>[1956663847666319760]</td>\n",
       "      <td>266</td>\n",
       "      <td>0.003750</td>\n",
       "      <td>NA</td>\n",
       "      <td>NA</td>\n",
       "      <td>NA</td>\n",
       "      <td>66045.000000</td>\n",
       "      <td>0.002013</td>\n",
       "      <td>0.0</td>\n",
       "      <td>0.000000</td>\n",
       "      <td>66045.00</td>\n",
       "      <td>0.000000</td>\n",
       "    </tr>\n",
       "    <tr>\n",
       "      <th>43</th>\n",
       "      <td>[]</td>\n",
       "      <td>NA</td>\n",
       "      <td>[1924582891589731058]</td>\n",
       "      <td>210</td>\n",
       "      <td>[1924582891589731058]</td>\n",
       "      <td>210</td>\n",
       "      <td>0.002961</td>\n",
       "      <td>NA</td>\n",
       "      <td>NA</td>\n",
       "      <td>NA</td>\n",
       "      <td>65880.340000</td>\n",
       "      <td>0.002008</td>\n",
       "      <td>0.0</td>\n",
       "      <td>0.000000</td>\n",
       "      <td>65880.34</td>\n",
       "      <td>0.000000</td>\n",
       "    </tr>\n",
       "    <tr>\n",
       "      <th>44</th>\n",
       "      <td>[]</td>\n",
       "      <td>NA</td>\n",
       "      <td>[1956663840292733482]</td>\n",
       "      <td>62</td>\n",
       "      <td>[1956663840292733482]</td>\n",
       "      <td>62</td>\n",
       "      <td>0.000874</td>\n",
       "      <td>NA</td>\n",
       "      <td>NA</td>\n",
       "      <td>NA</td>\n",
       "      <td>65813.620000</td>\n",
       "      <td>0.002006</td>\n",
       "      <td>0.0</td>\n",
       "      <td>0.000000</td>\n",
       "      <td>65813.62</td>\n",
       "      <td>0.000000</td>\n",
       "    </tr>\n",
       "  </tbody>\n",
       "</table>\n",
       "</div>"
      ],
      "text/plain": [
       "               antecedent sup_antecedent             consequent  \\\n",
       "0                      []             NA  [1806829191514031042]   \n",
       "1                      []             NA  [1956663836668854462]   \n",
       "2                      []             NA  [1956663836668854461]   \n",
       "3                      []             NA  [1956663847708262860]   \n",
       "4                      []             NA  [1313614230015967859]   \n",
       "5                      []             NA  [1956663831425974504]   \n",
       "6                      []             NA  [1956663831375642763]   \n",
       "7                      []             NA  [1515966223500113689]   \n",
       "8                      []             NA  [1944945390285488528]   \n",
       "9                      []             NA  [1956663846449972073]   \n",
       "10                     []             NA  [1956663845787271453]   \n",
       "11                     []             NA  [1956663836769517900]   \n",
       "12                     []             NA  [1937902773722939556]   \n",
       "13                     []             NA  [1956663840242401751]   \n",
       "14                     []             NA  [1956663845678219397]   \n",
       "15                     []             NA  [1956663847473381494]   \n",
       "16                     []             NA  [1956663830763274548]   \n",
       "17                     []             NA  [1956663847725040099]   \n",
       "18                     []             NA  [1956663848186413865]   \n",
       "19                     []             NA  [1956663845644664920]   \n",
       "20                     []             NA  [1956663847859258014]   \n",
       "21                     []             NA  [1956663836433974134]   \n",
       "22                     []             NA  [1956663845736939733]   \n",
       "23                     []             NA  [1956663846424806221]   \n",
       "24                     []             NA  [1956663847683096999]   \n",
       "25                     []             NA  [1956663831283368958]   \n",
       "26                     []             NA  [1944422271028298685]   \n",
       "27                     []             NA  [1352907200745439279]   \n",
       "28                     []             NA  [1956663831149151028]   \n",
       "29  [1944945390285488528]            221  [1313614230015967859]   \n",
       "30                     []             NA  [1845870160691331313]   \n",
       "31                     []             NA  [1956663831266591720]   \n",
       "32                     []             NA  [1956663836392031040]   \n",
       "33                     []             NA  [1956663836408808278]   \n",
       "34                     []             NA  [1956663840301122100]   \n",
       "35                     []             NA  [1956663845736939731]   \n",
       "36                     []             NA  [1956663846349308653]   \n",
       "37                     []             NA  [1956663840225624514]   \n",
       "38                     []             NA  [1956663845703385257]   \n",
       "39                     []             NA  [1956663831274980341]   \n",
       "40                     []             NA  [1956663836811460995]   \n",
       "41                     []             NA  [1838494071232921609]   \n",
       "42                     []             NA  [1956663847666319760]   \n",
       "43                     []             NA  [1924582891589731058]   \n",
       "44                     []             NA  [1956663840292733482]   \n",
       "\n",
       "    sup_consequent                       antecedent&consequent  sup_ant&cons  \\\n",
       "0               88                       [1806829191514031042]            88   \n",
       "1               95                       [1956663836668854462]            95   \n",
       "2              159                       [1956663836668854461]           159   \n",
       "3              107                       [1956663847708262860]           107   \n",
       "4              170                       [1313614230015967859]           170   \n",
       "5              111                       [1956663831425974504]           111   \n",
       "6              129                       [1956663831375642763]           129   \n",
       "7                5                       [1515966223500113689]             5   \n",
       "8              221                       [1944945390285488528]           221   \n",
       "9              146                       [1956663846449972073]           146   \n",
       "10             258                       [1956663845787271453]           258   \n",
       "11             187                       [1956663836769517900]           187   \n",
       "12             131                       [1937902773722939556]           131   \n",
       "13             301                       [1956663840242401751]           301   \n",
       "14             104                       [1956663845678219397]           104   \n",
       "15             128                       [1956663847473381494]           128   \n",
       "16              89                       [1956663830763274548]            89   \n",
       "17             362                       [1956663847725040099]           362   \n",
       "18             103                       [1956663848186413865]           103   \n",
       "19             177                       [1956663845644664920]           177   \n",
       "20             184                       [1956663847859258014]           184   \n",
       "21              61                       [1956663836433974134]            61   \n",
       "22             221                       [1956663845736939733]           221   \n",
       "23             108                       [1956663846424806221]           108   \n",
       "24             101                       [1956663847683096999]           101   \n",
       "25             253                       [1956663831283368958]           253   \n",
       "26             154                       [1944422271028298685]           154   \n",
       "27             265                       [1352907200745439279]           265   \n",
       "28              44                       [1956663831149151028]            44   \n",
       "29             170  [1944945390285488528, 1313614230015967859]            51   \n",
       "30              58                       [1845870160691331313]            58   \n",
       "31             150                       [1956663831266591720]           150   \n",
       "32              55                       [1956663836392031040]            55   \n",
       "33              71                       [1956663836408808278]            71   \n",
       "34              82                       [1956663840301122100]            82   \n",
       "35              56                       [1956663845736939731]            56   \n",
       "36             169                       [1956663846349308653]           169   \n",
       "37              96                       [1956663840225624514]            96   \n",
       "38             113                       [1956663845703385257]           113   \n",
       "39             188                       [1956663831274980341]           188   \n",
       "40             129                       [1956663836811460995]           129   \n",
       "41              34                       [1838494071232921609]            34   \n",
       "42             266                       [1956663847666319760]           266   \n",
       "43             210                       [1924582891589731058]           210   \n",
       "44              62                       [1956663840292733482]            62   \n",
       "\n",
       "    sup_perc_ant&cons confidence      lift improvement  profit_associated  \\\n",
       "0            0.001241         NA        NA          NA      247480.520000   \n",
       "1            0.001339         NA        NA          NA      219755.440000   \n",
       "2            0.002242         NA        NA          NA      201361.600000   \n",
       "3            0.001508         NA        NA          NA      184792.210000   \n",
       "4            0.002397         NA        NA          NA      153674.900000   \n",
       "5            0.001565         NA        NA          NA      153430.270000   \n",
       "6            0.001819         NA        NA          NA      135714.530000   \n",
       "7            0.000070         NA        NA          NA      132122.600000   \n",
       "8            0.003116         NA        NA          NA      122845.300000   \n",
       "9            0.002058         NA        NA          NA      121057.360000   \n",
       "10           0.003637         NA        NA          NA      115947.000000   \n",
       "11           0.002636         NA        NA          NA      113425.020000   \n",
       "12           0.001847         NA        NA          NA      112139.930000   \n",
       "13           0.004243         NA        NA          NA      111267.160000   \n",
       "14           0.001466         NA        NA          NA      111224.690000   \n",
       "15           0.001805         NA        NA          NA      109768.510000   \n",
       "16           0.001255         NA        NA          NA      108813.250000   \n",
       "17           0.005103         NA        NA          NA      105436.700000   \n",
       "18           0.001452         NA        NA          NA      100026.030000   \n",
       "19           0.002495         NA        NA          NA       97489.620000   \n",
       "20           0.002594         NA        NA          NA       96829.000000   \n",
       "21           0.000860         NA        NA          NA       95114.240000   \n",
       "22           0.003116         NA        NA          NA       86952.500000   \n",
       "23           0.001523         NA        NA          NA       85483.080000   \n",
       "24           0.001424         NA        NA          NA       85135.890000   \n",
       "25           0.003567         NA        NA          NA       84529.200000   \n",
       "26           0.002171         NA        NA          NA       80360.630000   \n",
       "27           0.003736         NA        NA          NA       79386.660000   \n",
       "28           0.000620         NA        NA          NA       77446.160000   \n",
       "29           0.000719   0.230769  96.28914    0.228373       74451.385385   \n",
       "30           0.000818         NA        NA          NA       74279.440000   \n",
       "31           0.002115         NA        NA          NA       73524.000000   \n",
       "32           0.000775         NA        NA          NA       71190.900000   \n",
       "33           0.001001         NA        NA          NA       71029.820000   \n",
       "34           0.001156         NA        NA          NA       70563.080000   \n",
       "35           0.000789         NA        NA          NA       69928.880000   \n",
       "36           0.002383         NA        NA          NA       69340.930000   \n",
       "37           0.001353         NA        NA          NA       69123.300000   \n",
       "38           0.001593         NA        NA          NA       69078.200000   \n",
       "39           0.002650         NA        NA          NA       67051.000000   \n",
       "40           0.001819         NA        NA          NA       66717.510000   \n",
       "41           0.000479         NA        NA          NA       66090.560000   \n",
       "42           0.003750         NA        NA          NA       66045.000000   \n",
       "43           0.002961         NA        NA          NA       65880.340000   \n",
       "44           0.000874         NA        NA          NA       65813.620000   \n",
       "\n",
       "    perc_of_total_profit  profit_associated_prev    net_change  \\\n",
       "0               0.007545                     0.0      0.000000   \n",
       "1               0.006699                     0.0      0.000000   \n",
       "2               0.006139                     0.0      0.000000   \n",
       "3               0.005634                     0.0      0.000000   \n",
       "4               0.004685                     0.0      0.000000   \n",
       "5               0.004677                     0.0      0.000000   \n",
       "6               0.004137                     0.0      0.000000   \n",
       "7               0.004028                     0.0      0.000000   \n",
       "8               0.003745                     0.0      0.000000   \n",
       "9               0.003691                     0.0      0.000000   \n",
       "10              0.003535                     0.0      0.000000   \n",
       "11              0.003458                     0.0      0.000000   \n",
       "12              0.003419                     0.0      0.000000   \n",
       "13              0.003392                     0.0      0.000000   \n",
       "14              0.003391                     0.0      0.000000   \n",
       "15              0.003346                     0.0      0.000000   \n",
       "16              0.003317                     0.0      0.000000   \n",
       "17              0.003214                     0.0      0.000000   \n",
       "18              0.003049                     0.0      0.000000   \n",
       "19              0.002972                     0.0      0.000000   \n",
       "20              0.002952                     0.0      0.000000   \n",
       "21              0.002900                     0.0      0.000000   \n",
       "22              0.002651                     0.0      0.000000   \n",
       "23              0.002606                     0.0      0.000000   \n",
       "24              0.002595                     0.0      0.000000   \n",
       "25              0.002577                     0.0      0.000000   \n",
       "26              0.002450                     0.0      0.000000   \n",
       "27              0.002420                     0.0      0.000000   \n",
       "28              0.002361                     0.0      0.000000   \n",
       "29              0.002270                122845.3 -48393.914615   \n",
       "30              0.002264                     0.0      0.000000   \n",
       "31              0.002241                     0.0      0.000000   \n",
       "32              0.002170                     0.0      0.000000   \n",
       "33              0.002165                     0.0      0.000000   \n",
       "34              0.002151                     0.0      0.000000   \n",
       "35              0.002132                     0.0      0.000000   \n",
       "36              0.002114                     0.0      0.000000   \n",
       "37              0.002107                     0.0      0.000000   \n",
       "38              0.002106                     0.0      0.000000   \n",
       "39              0.002044                     0.0      0.000000   \n",
       "40              0.002034                     0.0      0.000000   \n",
       "41              0.002015                     0.0      0.000000   \n",
       "42              0.002013                     0.0      0.000000   \n",
       "43              0.002008                     0.0      0.000000   \n",
       "44              0.002006                     0.0      0.000000   \n",
       "\n",
       "    profit_last_item  loss_by_change  \n",
       "0          247480.52        0.000000  \n",
       "1          219755.44        0.000000  \n",
       "2          201361.60        0.000000  \n",
       "3          184792.21        0.000000  \n",
       "4          153674.90        0.000000  \n",
       "5          153430.27        0.000000  \n",
       "6          135714.53        0.000000  \n",
       "7          132122.60        0.000000  \n",
       "8          122845.30        0.000000  \n",
       "9          121057.36        0.000000  \n",
       "10         115947.00        0.000000  \n",
       "11         113425.02        0.000000  \n",
       "12         112139.93        0.000000  \n",
       "13         111267.16        0.000000  \n",
       "14         111224.69        0.000000  \n",
       "15         109768.51        0.000000  \n",
       "16         108813.25        0.000000  \n",
       "17         105436.70        0.000000  \n",
       "18         100026.03        0.000000  \n",
       "19          97489.62        0.000000  \n",
       "20          96829.00        0.000000  \n",
       "21          95114.24        0.000000  \n",
       "22          86952.50        0.000000  \n",
       "23          85483.08        0.000000  \n",
       "24          85135.89        0.000000  \n",
       "25          84529.20        0.000000  \n",
       "26          80360.63        0.000000  \n",
       "27          79386.66        0.000000  \n",
       "28          77446.16        0.000000  \n",
       "29          46102.47   -94496.384615  \n",
       "30          74279.44        0.000000  \n",
       "31          73524.00        0.000000  \n",
       "32          71190.90        0.000000  \n",
       "33          71029.82        0.000000  \n",
       "34          70563.08        0.000000  \n",
       "35          69928.88        0.000000  \n",
       "36          69340.93        0.000000  \n",
       "37          69123.30        0.000000  \n",
       "38          69078.20        0.000000  \n",
       "39          67051.00        0.000000  \n",
       "40          66717.51        0.000000  \n",
       "41          66090.56        0.000000  \n",
       "42          66045.00        0.000000  \n",
       "43          65880.34        0.000000  \n",
       "44          65813.62        0.000000  "
      ]
     },
     "execution_count": 131,
     "metadata": {},
     "output_type": "execute_result"
    }
   ],
   "source": [
    "import modified_fp_growth_algorithm.modified_fp_growth_latest as mod_fp_growth\n",
    "\n",
    "#For better trackingI take price instead of profit as profit, because tracking ius easier and at moment I anyway just multiply by 0.1 for profit\n",
    "# We see how \"super efficient it is, only 6.8 seconds for 13k rules inclduing writing to Excel\"\n",
    "rules = mod_fp_growth.fpgrowthFromDataFrame(\\\n",
    "    data,\n",
    "    minSupRatio=0.002,\n",
    "    maxSupRatio=1,\n",
    "    minConf=0,\n",
    "    item_col=1,\n",
    "    profit_col=3,\n",
    "    max_profit = max_profit,\n",
    "    profit_sensitivity = lambda x : 1 * x\n",
    "    )\n",
    "    \n",
    "rules.to_excel(\"fp_groth_out.xlsx\",index=False) \n",
    "rules\n"
   ]
  },
  {
   "cell_type": "code",
   "execution_count": 132,
   "metadata": {},
   "outputs": [
    {
     "data": {
      "text/html": [
       "<div>\n",
       "<style scoped>\n",
       "    .dataframe tbody tr th:only-of-type {\n",
       "        vertical-align: middle;\n",
       "    }\n",
       "\n",
       "    .dataframe tbody tr th {\n",
       "        vertical-align: top;\n",
       "    }\n",
       "\n",
       "    .dataframe thead th {\n",
       "        text-align: right;\n",
       "    }\n",
       "</style>\n",
       "<table border=\"1\" class=\"dataframe\">\n",
       "  <thead>\n",
       "    <tr style=\"text-align: right;\">\n",
       "      <th></th>\n",
       "      <th>rules_index</th>\n",
       "      <th>antecedent&amp;consequent</th>\n",
       "      <th>sup_ant&amp;cons</th>\n",
       "      <th>product_id</th>\n",
       "      <th>category_id</th>\n",
       "      <th>category_code</th>\n",
       "      <th>brand</th>\n",
       "      <th>price</th>\n",
       "    </tr>\n",
       "  </thead>\n",
       "  <tbody>\n",
       "    <tr>\n",
       "      <th>0</th>\n",
       "      <td>0</td>\n",
       "      <td>1806829191514031042</td>\n",
       "      <td>88</td>\n",
       "      <td>1806829191514031042</td>\n",
       "      <td>1.8068292018487954e+18</td>\n",
       "      <td>nan</td>\n",
       "      <td>0.0</td>\n",
       "      <td>2780.68</td>\n",
       "    </tr>\n",
       "    <tr>\n",
       "      <th>1</th>\n",
       "      <td>1</td>\n",
       "      <td>1956663836668854462</td>\n",
       "      <td>95</td>\n",
       "      <td>1956663836668854462</td>\n",
       "      <td>1.8068292018487954e+18</td>\n",
       "      <td>nan</td>\n",
       "      <td>0.0</td>\n",
       "      <td>2265.52</td>\n",
       "    </tr>\n",
       "    <tr>\n",
       "      <th>2</th>\n",
       "      <td>2</td>\n",
       "      <td>1956663836668854461</td>\n",
       "      <td>159</td>\n",
       "      <td>1956663836668854461</td>\n",
       "      <td>1.8068292018487954e+18</td>\n",
       "      <td>nan</td>\n",
       "      <td>0.0</td>\n",
       "      <td>1258.51</td>\n",
       "    </tr>\n",
       "    <tr>\n",
       "      <th>3</th>\n",
       "      <td>3</td>\n",
       "      <td>1956663847708262860</td>\n",
       "      <td>107</td>\n",
       "      <td>1956663847708262860</td>\n",
       "      <td>1.8068292018487954e+18</td>\n",
       "      <td>nan</td>\n",
       "      <td>0.0</td>\n",
       "      <td>1727.03</td>\n",
       "    </tr>\n",
       "    <tr>\n",
       "      <th>4</th>\n",
       "      <td>4</td>\n",
       "      <td>1313614230015967859</td>\n",
       "      <td>170</td>\n",
       "      <td>1313614230015967859</td>\n",
       "      <td>1.8068292018907384e+18</td>\n",
       "      <td>jewelry.earring</td>\n",
       "      <td>1.0</td>\n",
       "      <td>903.97</td>\n",
       "    </tr>\n",
       "    <tr>\n",
       "      <th>5</th>\n",
       "      <td>5</td>\n",
       "      <td>1956663831425974504</td>\n",
       "      <td>111</td>\n",
       "      <td>1956663831425974504</td>\n",
       "      <td>1.8068292018487954e+18</td>\n",
       "      <td>nan</td>\n",
       "      <td>0.0</td>\n",
       "      <td>1357.79</td>\n",
       "    </tr>\n",
       "    <tr>\n",
       "      <th>6</th>\n",
       "      <td>6</td>\n",
       "      <td>1956663831375642763</td>\n",
       "      <td>129</td>\n",
       "      <td>1956663831375642763</td>\n",
       "      <td>1.8068292018823498e+18</td>\n",
       "      <td>jewelry.ring</td>\n",
       "      <td>0.0</td>\n",
       "      <td>1020.41</td>\n",
       "    </tr>\n",
       "    <tr>\n",
       "      <th>7</th>\n",
       "      <td>7</td>\n",
       "      <td>1515966223500113689</td>\n",
       "      <td>5</td>\n",
       "      <td>1515966223500113689</td>\n",
       "      <td>1.8068292018823498e+18</td>\n",
       "      <td>jewelry.ring</td>\n",
       "      <td>0.0</td>\n",
       "      <td>26424.52</td>\n",
       "    </tr>\n",
       "    <tr>\n",
       "      <th>8</th>\n",
       "      <td>8</td>\n",
       "      <td>1944945390285488528</td>\n",
       "      <td>221</td>\n",
       "      <td>1944945390285488528</td>\n",
       "      <td>1.8068292018823498e+18</td>\n",
       "      <td>jewelry.ring</td>\n",
       "      <td>1.0</td>\n",
       "      <td>534.11</td>\n",
       "    </tr>\n",
       "    <tr>\n",
       "      <th>9</th>\n",
       "      <td>9</td>\n",
       "      <td>1956663846449972073</td>\n",
       "      <td>146</td>\n",
       "      <td>1956663846449972073</td>\n",
       "      <td>1.8068292018487954e+18</td>\n",
       "      <td>nan</td>\n",
       "      <td>0.0</td>\n",
       "      <td>829.16</td>\n",
       "    </tr>\n",
       "    <tr>\n",
       "      <th>10</th>\n",
       "      <td>10</td>\n",
       "      <td>1956663845787271453</td>\n",
       "      <td>258</td>\n",
       "      <td>1956663845787271453</td>\n",
       "      <td>1.8068292018487954e+18</td>\n",
       "      <td>nan</td>\n",
       "      <td>0.0</td>\n",
       "      <td>445.95</td>\n",
       "    </tr>\n",
       "    <tr>\n",
       "      <th>11</th>\n",
       "      <td>11</td>\n",
       "      <td>1956663836769517900</td>\n",
       "      <td>187</td>\n",
       "      <td>1956663836769517900</td>\n",
       "      <td>1.8068292018823498e+18</td>\n",
       "      <td>jewelry.ring</td>\n",
       "      <td>0.0</td>\n",
       "      <td>561.51</td>\n",
       "    </tr>\n",
       "    <tr>\n",
       "      <th>12</th>\n",
       "      <td>12</td>\n",
       "      <td>1937902773722939556</td>\n",
       "      <td>131</td>\n",
       "      <td>1937902773722939556</td>\n",
       "      <td>1.8068292018907384e+18</td>\n",
       "      <td>jewelry.earring</td>\n",
       "      <td>1.0</td>\n",
       "      <td>856.03</td>\n",
       "    </tr>\n",
       "    <tr>\n",
       "      <th>13</th>\n",
       "      <td>13</td>\n",
       "      <td>1956663840242401751</td>\n",
       "      <td>301</td>\n",
       "      <td>1956663840242401751</td>\n",
       "      <td>1.8068292018823498e+18</td>\n",
       "      <td>jewelry.ring</td>\n",
       "      <td>0.0</td>\n",
       "      <td>259.97</td>\n",
       "    </tr>\n",
       "    <tr>\n",
       "      <th>14</th>\n",
       "      <td>14</td>\n",
       "      <td>1956663845678219397</td>\n",
       "      <td>104</td>\n",
       "      <td>1956663845678219397</td>\n",
       "      <td>1.8068292018823498e+18</td>\n",
       "      <td>jewelry.ring</td>\n",
       "      <td>0.0</td>\n",
       "      <td>1020.41</td>\n",
       "    </tr>\n",
       "    <tr>\n",
       "      <th>15</th>\n",
       "      <td>15</td>\n",
       "      <td>1956663847473381494</td>\n",
       "      <td>128</td>\n",
       "      <td>1956663847473381494</td>\n",
       "      <td>1.8068292018823498e+18</td>\n",
       "      <td>jewelry.ring</td>\n",
       "      <td>0.0</td>\n",
       "      <td>801.23</td>\n",
       "    </tr>\n",
       "    <tr>\n",
       "      <th>16</th>\n",
       "      <td>16</td>\n",
       "      <td>1956663830763274548</td>\n",
       "      <td>89</td>\n",
       "      <td>1956663830763274548</td>\n",
       "      <td>1.8068292018655726e+18</td>\n",
       "      <td>jewelry.bracelet</td>\n",
       "      <td>0.0</td>\n",
       "      <td>1195.75</td>\n",
       "    </tr>\n",
       "    <tr>\n",
       "      <th>17</th>\n",
       "      <td>17</td>\n",
       "      <td>1956663847725040099</td>\n",
       "      <td>362</td>\n",
       "      <td>1956663847725040099</td>\n",
       "      <td>1.8068292018823498e+18</td>\n",
       "      <td>jewelry.ring</td>\n",
       "      <td>0.0</td>\n",
       "      <td>200.45</td>\n",
       "    </tr>\n",
       "    <tr>\n",
       "      <th>18</th>\n",
       "      <td>18</td>\n",
       "      <td>1956663848186413865</td>\n",
       "      <td>103</td>\n",
       "      <td>1956663848186413865</td>\n",
       "      <td>1.8068292018823498e+18</td>\n",
       "      <td>jewelry.ring</td>\n",
       "      <td>1.0</td>\n",
       "      <td>917.67</td>\n",
       "    </tr>\n",
       "    <tr>\n",
       "      <th>19</th>\n",
       "      <td>19</td>\n",
       "      <td>1956663845644664920</td>\n",
       "      <td>177</td>\n",
       "      <td>1956663845644664920</td>\n",
       "      <td>1.8068292018823498e+18</td>\n",
       "      <td>jewelry.ring</td>\n",
       "      <td>1.0</td>\n",
       "      <td>431.37</td>\n",
       "    </tr>\n",
       "    <tr>\n",
       "      <th>20</th>\n",
       "      <td>20</td>\n",
       "      <td>1956663847859258014</td>\n",
       "      <td>184</td>\n",
       "      <td>1956663847859258014</td>\n",
       "      <td>1.8068292018487954e+18</td>\n",
       "      <td>nan</td>\n",
       "      <td>0.0</td>\n",
       "      <td>523.4</td>\n",
       "    </tr>\n",
       "    <tr>\n",
       "      <th>21</th>\n",
       "      <td>21</td>\n",
       "      <td>1956663836433974134</td>\n",
       "      <td>61</td>\n",
       "      <td>1956663836433974134</td>\n",
       "      <td>1.8068292018823498e+18</td>\n",
       "      <td>jewelry.ring</td>\n",
       "      <td>0.0</td>\n",
       "      <td>1486.16</td>\n",
       "    </tr>\n",
       "    <tr>\n",
       "      <th>22</th>\n",
       "      <td>22</td>\n",
       "      <td>1956663845736939733</td>\n",
       "      <td>221</td>\n",
       "      <td>1956663845736939733</td>\n",
       "      <td>1.8068292018823498e+18</td>\n",
       "      <td>jewelry.ring</td>\n",
       "      <td>0.0</td>\n",
       "      <td>347.81</td>\n",
       "    </tr>\n",
       "    <tr>\n",
       "      <th>23</th>\n",
       "      <td>23</td>\n",
       "      <td>1956663846424806221</td>\n",
       "      <td>108</td>\n",
       "      <td>1956663846424806221</td>\n",
       "      <td>1.8068292018487954e+18</td>\n",
       "      <td>nan</td>\n",
       "      <td>0.0</td>\n",
       "      <td>791.51</td>\n",
       "    </tr>\n",
       "    <tr>\n",
       "      <th>24</th>\n",
       "      <td>24</td>\n",
       "      <td>1956663847683096999</td>\n",
       "      <td>101</td>\n",
       "      <td>1956663847683096999</td>\n",
       "      <td>1.8068292018823498e+18</td>\n",
       "      <td>jewelry.ring</td>\n",
       "      <td>0.0</td>\n",
       "      <td>766.99</td>\n",
       "    </tr>\n",
       "    <tr>\n",
       "      <th>25</th>\n",
       "      <td>25</td>\n",
       "      <td>1956663831283368958</td>\n",
       "      <td>253</td>\n",
       "      <td>1956663831283368958</td>\n",
       "      <td>1.8068292018823498e+18</td>\n",
       "      <td>jewelry.ring</td>\n",
       "      <td>0.0</td>\n",
       "      <td>242.9</td>\n",
       "    </tr>\n",
       "    <tr>\n",
       "      <th>26</th>\n",
       "      <td>26</td>\n",
       "      <td>1944422271028298685</td>\n",
       "      <td>154</td>\n",
       "      <td>1944422271028298685</td>\n",
       "      <td>1.8068292018823498e+18</td>\n",
       "      <td>jewelry.ring</td>\n",
       "      <td>1.0</td>\n",
       "      <td>493.01</td>\n",
       "    </tr>\n",
       "    <tr>\n",
       "      <th>27</th>\n",
       "      <td>27</td>\n",
       "      <td>1352907200745439279</td>\n",
       "      <td>265</td>\n",
       "      <td>1352907200745439279</td>\n",
       "      <td>1.8068292018823498e+18</td>\n",
       "      <td>jewelry.ring</td>\n",
       "      <td>0.0</td>\n",
       "      <td>215.14</td>\n",
       "    </tr>\n",
       "    <tr>\n",
       "      <th>28</th>\n",
       "      <td>28</td>\n",
       "      <td>1956663831149151028</td>\n",
       "      <td>44</td>\n",
       "      <td>1956663831149151028</td>\n",
       "      <td>1.8068292018907384e+18</td>\n",
       "      <td>jewelry.earring</td>\n",
       "      <td>0.0</td>\n",
       "      <td>1760.14</td>\n",
       "    </tr>\n",
       "    <tr>\n",
       "      <th>29</th>\n",
       "      <td>29</td>\n",
       "      <td>1313614230015967859</td>\n",
       "      <td>51</td>\n",
       "      <td>1313614230015967859</td>\n",
       "      <td>1.8068292018907384e+18</td>\n",
       "      <td>jewelry.earring</td>\n",
       "      <td>1.0</td>\n",
       "      <td>903.97</td>\n",
       "    </tr>\n",
       "    <tr>\n",
       "      <th>30</th>\n",
       "      <td>29</td>\n",
       "      <td>1944945390285488528</td>\n",
       "      <td>51</td>\n",
       "      <td>1944945390285488528</td>\n",
       "      <td>1.8068292018823498e+18</td>\n",
       "      <td>jewelry.ring</td>\n",
       "      <td>1.0</td>\n",
       "      <td>534.11</td>\n",
       "    </tr>\n",
       "    <tr>\n",
       "      <th>31</th>\n",
       "      <td>30</td>\n",
       "      <td>1845870160691331313</td>\n",
       "      <td>58</td>\n",
       "      <td>1845870160691331313</td>\n",
       "      <td>1.8068292018907384e+18</td>\n",
       "      <td>jewelry.earring</td>\n",
       "      <td>0.0</td>\n",
       "      <td>1280.68</td>\n",
       "    </tr>\n",
       "    <tr>\n",
       "      <th>32</th>\n",
       "      <td>31</td>\n",
       "      <td>1956663831266591720</td>\n",
       "      <td>150</td>\n",
       "      <td>1956663831266591720</td>\n",
       "      <td>1.8068292018487954e+18</td>\n",
       "      <td>nan</td>\n",
       "      <td>0.0</td>\n",
       "      <td>490.16</td>\n",
       "    </tr>\n",
       "    <tr>\n",
       "      <th>33</th>\n",
       "      <td>32</td>\n",
       "      <td>1956663836392031040</td>\n",
       "      <td>55</td>\n",
       "      <td>1956663836392031040</td>\n",
       "      <td>1.8068292018907384e+18</td>\n",
       "      <td>jewelry.earring</td>\n",
       "      <td>0.0</td>\n",
       "      <td>1294.38</td>\n",
       "    </tr>\n",
       "    <tr>\n",
       "      <th>34</th>\n",
       "      <td>33</td>\n",
       "      <td>1956663836408808278</td>\n",
       "      <td>71</td>\n",
       "      <td>1956663836408808278</td>\n",
       "      <td>1.8068292018487954e+18</td>\n",
       "      <td>nan</td>\n",
       "      <td>0.0</td>\n",
       "      <td>1000.42</td>\n",
       "    </tr>\n",
       "    <tr>\n",
       "      <th>35</th>\n",
       "      <td>34</td>\n",
       "      <td>1956663840301122100</td>\n",
       "      <td>82</td>\n",
       "      <td>1956663840301122100</td>\n",
       "      <td>1.8068292018823498e+18</td>\n",
       "      <td>jewelry.ring</td>\n",
       "      <td>0.0</td>\n",
       "      <td>766.99</td>\n",
       "    </tr>\n",
       "    <tr>\n",
       "      <th>36</th>\n",
       "      <td>35</td>\n",
       "      <td>1956663845736939731</td>\n",
       "      <td>56</td>\n",
       "      <td>1956663845736939731</td>\n",
       "      <td>1.8068292018487954e+18</td>\n",
       "      <td>nan</td>\n",
       "      <td>0.0</td>\n",
       "      <td>1248.73</td>\n",
       "    </tr>\n",
       "    <tr>\n",
       "      <th>37</th>\n",
       "      <td>36</td>\n",
       "      <td>1956663846349308653</td>\n",
       "      <td>169</td>\n",
       "      <td>1956663846349308653</td>\n",
       "      <td>1.8068292018823498e+18</td>\n",
       "      <td>jewelry.ring</td>\n",
       "      <td>1.0</td>\n",
       "      <td>328.63</td>\n",
       "    </tr>\n",
       "    <tr>\n",
       "      <th>38</th>\n",
       "      <td>37</td>\n",
       "      <td>1956663840225624514</td>\n",
       "      <td>96</td>\n",
       "      <td>1956663840225624514</td>\n",
       "      <td>1.8068292018823498e+18</td>\n",
       "      <td>jewelry.ring</td>\n",
       "      <td>0.0</td>\n",
       "      <td>671.1</td>\n",
       "    </tr>\n",
       "    <tr>\n",
       "      <th>39</th>\n",
       "      <td>38</td>\n",
       "      <td>1956663845703385257</td>\n",
       "      <td>113</td>\n",
       "      <td>1956663845703385257</td>\n",
       "      <td>1.8068292018487954e+18</td>\n",
       "      <td>nan</td>\n",
       "      <td>0.0</td>\n",
       "      <td>600.68</td>\n",
       "    </tr>\n",
       "    <tr>\n",
       "      <th>40</th>\n",
       "      <td>39</td>\n",
       "      <td>1956663831274980341</td>\n",
       "      <td>188</td>\n",
       "      <td>1956663831274980341</td>\n",
       "      <td>1.8068292018487954e+18</td>\n",
       "      <td>nan</td>\n",
       "      <td>0.0</td>\n",
       "      <td>352.9</td>\n",
       "    </tr>\n",
       "    <tr>\n",
       "      <th>41</th>\n",
       "      <td>40</td>\n",
       "      <td>1956663836811460995</td>\n",
       "      <td>129</td>\n",
       "      <td>1956663836811460995</td>\n",
       "      <td>1.8068292018487954e+18</td>\n",
       "      <td>nan</td>\n",
       "      <td>0.0</td>\n",
       "      <td>517.19</td>\n",
       "    </tr>\n",
       "    <tr>\n",
       "      <th>42</th>\n",
       "      <td>41</td>\n",
       "      <td>1838494071232921609</td>\n",
       "      <td>34</td>\n",
       "      <td>1838494071232921609</td>\n",
       "      <td>1.8068292018907384e+18</td>\n",
       "      <td>jewelry.earring</td>\n",
       "      <td>1.0</td>\n",
       "      <td>1943.84</td>\n",
       "    </tr>\n",
       "    <tr>\n",
       "      <th>43</th>\n",
       "      <td>42</td>\n",
       "      <td>1956663847666319760</td>\n",
       "      <td>266</td>\n",
       "      <td>1956663847666319760</td>\n",
       "      <td>1.8068292018823498e+18</td>\n",
       "      <td>jewelry.ring</td>\n",
       "      <td>0.0</td>\n",
       "      <td>188.7</td>\n",
       "    </tr>\n",
       "    <tr>\n",
       "      <th>44</th>\n",
       "      <td>43</td>\n",
       "      <td>1924582891589731058</td>\n",
       "      <td>210</td>\n",
       "      <td>1924582891589731058</td>\n",
       "      <td>1.8068292018823498e+18</td>\n",
       "      <td>jewelry.ring</td>\n",
       "      <td>0.0</td>\n",
       "      <td>209.81</td>\n",
       "    </tr>\n",
       "    <tr>\n",
       "      <th>45</th>\n",
       "      <td>44</td>\n",
       "      <td>1956663840292733482</td>\n",
       "      <td>62</td>\n",
       "      <td>1956663840292733482</td>\n",
       "      <td>1.8068292018655726e+18</td>\n",
       "      <td>jewelry.bracelet</td>\n",
       "      <td>0.0</td>\n",
       "      <td>1061.51</td>\n",
       "    </tr>\n",
       "  </tbody>\n",
       "</table>\n",
       "</div>"
      ],
      "text/plain": [
       "    rules_index antecedent&consequent  sup_ant&cons           product_id  \\\n",
       "0             0   1806829191514031042            88  1806829191514031042   \n",
       "1             1   1956663836668854462            95  1956663836668854462   \n",
       "2             2   1956663836668854461           159  1956663836668854461   \n",
       "3             3   1956663847708262860           107  1956663847708262860   \n",
       "4             4   1313614230015967859           170  1313614230015967859   \n",
       "5             5   1956663831425974504           111  1956663831425974504   \n",
       "6             6   1956663831375642763           129  1956663831375642763   \n",
       "7             7   1515966223500113689             5  1515966223500113689   \n",
       "8             8   1944945390285488528           221  1944945390285488528   \n",
       "9             9   1956663846449972073           146  1956663846449972073   \n",
       "10           10   1956663845787271453           258  1956663845787271453   \n",
       "11           11   1956663836769517900           187  1956663836769517900   \n",
       "12           12   1937902773722939556           131  1937902773722939556   \n",
       "13           13   1956663840242401751           301  1956663840242401751   \n",
       "14           14   1956663845678219397           104  1956663845678219397   \n",
       "15           15   1956663847473381494           128  1956663847473381494   \n",
       "16           16   1956663830763274548            89  1956663830763274548   \n",
       "17           17   1956663847725040099           362  1956663847725040099   \n",
       "18           18   1956663848186413865           103  1956663848186413865   \n",
       "19           19   1956663845644664920           177  1956663845644664920   \n",
       "20           20   1956663847859258014           184  1956663847859258014   \n",
       "21           21   1956663836433974134            61  1956663836433974134   \n",
       "22           22   1956663845736939733           221  1956663845736939733   \n",
       "23           23   1956663846424806221           108  1956663846424806221   \n",
       "24           24   1956663847683096999           101  1956663847683096999   \n",
       "25           25   1956663831283368958           253  1956663831283368958   \n",
       "26           26   1944422271028298685           154  1944422271028298685   \n",
       "27           27   1352907200745439279           265  1352907200745439279   \n",
       "28           28   1956663831149151028            44  1956663831149151028   \n",
       "29           29   1313614230015967859            51  1313614230015967859   \n",
       "30           29   1944945390285488528            51  1944945390285488528   \n",
       "31           30   1845870160691331313            58  1845870160691331313   \n",
       "32           31   1956663831266591720           150  1956663831266591720   \n",
       "33           32   1956663836392031040            55  1956663836392031040   \n",
       "34           33   1956663836408808278            71  1956663836408808278   \n",
       "35           34   1956663840301122100            82  1956663840301122100   \n",
       "36           35   1956663845736939731            56  1956663845736939731   \n",
       "37           36   1956663846349308653           169  1956663846349308653   \n",
       "38           37   1956663840225624514            96  1956663840225624514   \n",
       "39           38   1956663845703385257           113  1956663845703385257   \n",
       "40           39   1956663831274980341           188  1956663831274980341   \n",
       "41           40   1956663836811460995           129  1956663836811460995   \n",
       "42           41   1838494071232921609            34  1838494071232921609   \n",
       "43           42   1956663847666319760           266  1956663847666319760   \n",
       "44           43   1924582891589731058           210  1924582891589731058   \n",
       "45           44   1956663840292733482            62  1956663840292733482   \n",
       "\n",
       "               category_id     category_code brand     price  \n",
       "0   1.8068292018487954e+18               nan   0.0   2780.68  \n",
       "1   1.8068292018487954e+18               nan   0.0   2265.52  \n",
       "2   1.8068292018487954e+18               nan   0.0   1258.51  \n",
       "3   1.8068292018487954e+18               nan   0.0   1727.03  \n",
       "4   1.8068292018907384e+18   jewelry.earring   1.0    903.97  \n",
       "5   1.8068292018487954e+18               nan   0.0   1357.79  \n",
       "6   1.8068292018823498e+18      jewelry.ring   0.0   1020.41  \n",
       "7   1.8068292018823498e+18      jewelry.ring   0.0  26424.52  \n",
       "8   1.8068292018823498e+18      jewelry.ring   1.0    534.11  \n",
       "9   1.8068292018487954e+18               nan   0.0    829.16  \n",
       "10  1.8068292018487954e+18               nan   0.0    445.95  \n",
       "11  1.8068292018823498e+18      jewelry.ring   0.0    561.51  \n",
       "12  1.8068292018907384e+18   jewelry.earring   1.0    856.03  \n",
       "13  1.8068292018823498e+18      jewelry.ring   0.0    259.97  \n",
       "14  1.8068292018823498e+18      jewelry.ring   0.0   1020.41  \n",
       "15  1.8068292018823498e+18      jewelry.ring   0.0    801.23  \n",
       "16  1.8068292018655726e+18  jewelry.bracelet   0.0   1195.75  \n",
       "17  1.8068292018823498e+18      jewelry.ring   0.0    200.45  \n",
       "18  1.8068292018823498e+18      jewelry.ring   1.0    917.67  \n",
       "19  1.8068292018823498e+18      jewelry.ring   1.0    431.37  \n",
       "20  1.8068292018487954e+18               nan   0.0     523.4  \n",
       "21  1.8068292018823498e+18      jewelry.ring   0.0   1486.16  \n",
       "22  1.8068292018823498e+18      jewelry.ring   0.0    347.81  \n",
       "23  1.8068292018487954e+18               nan   0.0    791.51  \n",
       "24  1.8068292018823498e+18      jewelry.ring   0.0    766.99  \n",
       "25  1.8068292018823498e+18      jewelry.ring   0.0     242.9  \n",
       "26  1.8068292018823498e+18      jewelry.ring   1.0    493.01  \n",
       "27  1.8068292018823498e+18      jewelry.ring   0.0    215.14  \n",
       "28  1.8068292018907384e+18   jewelry.earring   0.0   1760.14  \n",
       "29  1.8068292018907384e+18   jewelry.earring   1.0    903.97  \n",
       "30  1.8068292018823498e+18      jewelry.ring   1.0    534.11  \n",
       "31  1.8068292018907384e+18   jewelry.earring   0.0   1280.68  \n",
       "32  1.8068292018487954e+18               nan   0.0    490.16  \n",
       "33  1.8068292018907384e+18   jewelry.earring   0.0   1294.38  \n",
       "34  1.8068292018487954e+18               nan   0.0   1000.42  \n",
       "35  1.8068292018823498e+18      jewelry.ring   0.0    766.99  \n",
       "36  1.8068292018487954e+18               nan   0.0   1248.73  \n",
       "37  1.8068292018823498e+18      jewelry.ring   1.0    328.63  \n",
       "38  1.8068292018823498e+18      jewelry.ring   0.0     671.1  \n",
       "39  1.8068292018487954e+18               nan   0.0    600.68  \n",
       "40  1.8068292018487954e+18               nan   0.0     352.9  \n",
       "41  1.8068292018487954e+18               nan   0.0    517.19  \n",
       "42  1.8068292018907384e+18   jewelry.earring   1.0   1943.84  \n",
       "43  1.8068292018823498e+18      jewelry.ring   0.0     188.7  \n",
       "44  1.8068292018823498e+18      jewelry.ring   0.0    209.81  \n",
       "45  1.8068292018655726e+18  jewelry.bracelet   0.0   1061.51  "
      ]
     },
     "execution_count": 132,
     "metadata": {},
     "output_type": "execute_result"
    }
   ],
   "source": [
    "rules_exploded = rules.explode(\"antecedent&consequent\")[[\"antecedent&consequent\",\"sup_ant&cons\"]]\n",
    "rules_exploded.insert(0,\"rules_index\",rules_exploded.index)\n",
    "\n",
    "\n",
    "rules_labeled = pd.merge(rules_exploded,unique_items, how='inner', left_on = 'antecedent&consequent', right_on = 'product_id').sort_values(\"rules_index\").reset_index(drop=True)\n",
    "\n",
    "\n",
    "rules_labeled.to_excel(\"rules_labeled.xlsx\",index=False)\n",
    "\n",
    "rules_labeled\n"
   ]
  },
  {
   "cell_type": "markdown",
   "metadata": {},
   "source": [
    "#### 3.2 Profit based Association Rules (Limitations on transaction length as at least 2)"
   ]
  },
  {
   "cell_type": "code",
   "execution_count": 137,
   "metadata": {},
   "outputs": [
    {
     "data": {
      "text/html": [
       "<div>\n",
       "<style scoped>\n",
       "    .dataframe tbody tr th:only-of-type {\n",
       "        vertical-align: middle;\n",
       "    }\n",
       "\n",
       "    .dataframe tbody tr th {\n",
       "        vertical-align: top;\n",
       "    }\n",
       "\n",
       "    .dataframe thead th {\n",
       "        text-align: right;\n",
       "    }\n",
       "</style>\n",
       "<table border=\"1\" class=\"dataframe\">\n",
       "  <thead>\n",
       "    <tr style=\"text-align: right;\">\n",
       "      <th></th>\n",
       "      <th>antecedent</th>\n",
       "      <th>sup_antecedent</th>\n",
       "      <th>consequent</th>\n",
       "      <th>sup_consequent</th>\n",
       "      <th>antecedent&amp;consequent</th>\n",
       "      <th>sup_ant&amp;cons</th>\n",
       "      <th>sup_perc_ant&amp;cons</th>\n",
       "      <th>confidence</th>\n",
       "      <th>lift</th>\n",
       "      <th>improvement</th>\n",
       "      <th>profit_associated</th>\n",
       "      <th>perc_of_total_profit</th>\n",
       "      <th>profit_associated_prev</th>\n",
       "      <th>net_change</th>\n",
       "      <th>profit_last_item</th>\n",
       "      <th>loss_by_change</th>\n",
       "    </tr>\n",
       "  </thead>\n",
       "  <tbody>\n",
       "    <tr>\n",
       "      <th>0</th>\n",
       "      <td>[1944945390285488528]</td>\n",
       "      <td>221</td>\n",
       "      <td>[1313614230015967859]</td>\n",
       "      <td>170</td>\n",
       "      <td>[1944945390285488528, 1313614230015967859]</td>\n",
       "      <td>51</td>\n",
       "      <td>0.000719</td>\n",
       "      <td>0.230769</td>\n",
       "      <td>96.289140</td>\n",
       "      <td>0.228373</td>\n",
       "      <td>74451.385385</td>\n",
       "      <td>0.002270</td>\n",
       "      <td>122845.30</td>\n",
       "      <td>-48393.914615</td>\n",
       "      <td>46102.470000</td>\n",
       "      <td>-94496.384615</td>\n",
       "    </tr>\n",
       "    <tr>\n",
       "      <th>1</th>\n",
       "      <td>[1944422271028298685]</td>\n",
       "      <td>154</td>\n",
       "      <td>[1937902773722939556]</td>\n",
       "      <td>131</td>\n",
       "      <td>[1944422271028298685, 1937902773722939556]</td>\n",
       "      <td>34</td>\n",
       "      <td>0.000479</td>\n",
       "      <td>0.220779</td>\n",
       "      <td>119.546049</td>\n",
       "      <td>0.218932</td>\n",
       "      <td>46846.977273</td>\n",
       "      <td>0.001428</td>\n",
       "      <td>80360.63</td>\n",
       "      <td>-33513.652727</td>\n",
       "      <td>29105.020000</td>\n",
       "      <td>-62618.672727</td>\n",
       "    </tr>\n",
       "    <tr>\n",
       "      <th>2</th>\n",
       "      <td>[1956663846340920038]</td>\n",
       "      <td>43</td>\n",
       "      <td>[1956663845602721816]</td>\n",
       "      <td>34</td>\n",
       "      <td>[1956663846340920038, 1956663845602721816]</td>\n",
       "      <td>16</td>\n",
       "      <td>0.000226</td>\n",
       "      <td>0.372093</td>\n",
       "      <td>776.284542</td>\n",
       "      <td>0.371614</td>\n",
       "      <td>36891.263256</td>\n",
       "      <td>0.001125</td>\n",
       "      <td>47610.20</td>\n",
       "      <td>-10718.936744</td>\n",
       "      <td>19175.840000</td>\n",
       "      <td>-29894.776744</td>\n",
       "    </tr>\n",
       "    <tr>\n",
       "      <th>3</th>\n",
       "      <td>[1860421116053422140]</td>\n",
       "      <td>73</td>\n",
       "      <td>[1845870160691331313]</td>\n",
       "      <td>58</td>\n",
       "      <td>[1860421116053422140, 1845870160691331313]</td>\n",
       "      <td>18</td>\n",
       "      <td>0.000254</td>\n",
       "      <td>0.246575</td>\n",
       "      <td>301.557393</td>\n",
       "      <td>0.245758</td>\n",
       "      <td>36455.853699</td>\n",
       "      <td>0.001111</td>\n",
       "      <td>54359.10</td>\n",
       "      <td>-17903.246301</td>\n",
       "      <td>23052.240000</td>\n",
       "      <td>-40955.486301</td>\n",
       "    </tr>\n",
       "    <tr>\n",
       "      <th>4</th>\n",
       "      <td>[1956663836668854462]</td>\n",
       "      <td>95</td>\n",
       "      <td>[1806829191514031042]</td>\n",
       "      <td>88</td>\n",
       "      <td>[1806829191514031042, 1956663836668854462]</td>\n",
       "      <td>7</td>\n",
       "      <td>0.000099</td>\n",
       "      <td>0.073684</td>\n",
       "      <td>59.393660</td>\n",
       "      <td>0.072444</td>\n",
       "      <td>35878.456560</td>\n",
       "      <td>0.001094</td>\n",
       "      <td>219755.44</td>\n",
       "      <td>-183876.983440</td>\n",
       "      <td>19685.950455</td>\n",
       "      <td>-203562.933895</td>\n",
       "    </tr>\n",
       "    <tr>\n",
       "      <th>5</th>\n",
       "      <td>[1313614230015967859]</td>\n",
       "      <td>170</td>\n",
       "      <td>[1343446704099164925]</td>\n",
       "      <td>90</td>\n",
       "      <td>[1343446704099164925, 1313614230015967859]</td>\n",
       "      <td>26</td>\n",
       "      <td>0.000367</td>\n",
       "      <td>0.152941</td>\n",
       "      <td>120.539739</td>\n",
       "      <td>0.151672</td>\n",
       "      <td>34184.540000</td>\n",
       "      <td>0.001042</td>\n",
       "      <td>153674.90</td>\n",
       "      <td>-119490.360000</td>\n",
       "      <td>10681.320000</td>\n",
       "      <td>-130171.680000</td>\n",
       "    </tr>\n",
       "    <tr>\n",
       "      <th>6</th>\n",
       "      <td>[1956663845736939738]</td>\n",
       "      <td>74</td>\n",
       "      <td>[1956663836392031040]</td>\n",
       "      <td>55</td>\n",
       "      <td>[1956663845736939738, 1956663836392031040]</td>\n",
       "      <td>17</td>\n",
       "      <td>0.000240</td>\n",
       "      <td>0.229730</td>\n",
       "      <td>296.280344</td>\n",
       "      <td>0.228954</td>\n",
       "      <td>32443.744189</td>\n",
       "      <td>0.000989</td>\n",
       "      <td>45441.59</td>\n",
       "      <td>-12997.845811</td>\n",
       "      <td>22004.460000</td>\n",
       "      <td>-35002.305811</td>\n",
       "    </tr>\n",
       "    <tr>\n",
       "      <th>7</th>\n",
       "      <td>[1956663845812437315]</td>\n",
       "      <td>36</td>\n",
       "      <td>[1956663845778882836]</td>\n",
       "      <td>17</td>\n",
       "      <td>[1956663845812437315, 1956663845778882836]</td>\n",
       "      <td>7</td>\n",
       "      <td>0.000099</td>\n",
       "      <td>0.194444</td>\n",
       "      <td>811.325163</td>\n",
       "      <td>0.194205</td>\n",
       "      <td>30057.025833</td>\n",
       "      <td>0.000916</td>\n",
       "      <td>63351.03</td>\n",
       "      <td>-33294.004167</td>\n",
       "      <td>17738.770000</td>\n",
       "      <td>-51032.774167</td>\n",
       "    </tr>\n",
       "  </tbody>\n",
       "</table>\n",
       "</div>"
      ],
      "text/plain": [
       "              antecedent  sup_antecedent             consequent  \\\n",
       "0  [1944945390285488528]             221  [1313614230015967859]   \n",
       "1  [1944422271028298685]             154  [1937902773722939556]   \n",
       "2  [1956663846340920038]              43  [1956663845602721816]   \n",
       "3  [1860421116053422140]              73  [1845870160691331313]   \n",
       "4  [1956663836668854462]              95  [1806829191514031042]   \n",
       "5  [1313614230015967859]             170  [1343446704099164925]   \n",
       "6  [1956663845736939738]              74  [1956663836392031040]   \n",
       "7  [1956663845812437315]              36  [1956663845778882836]   \n",
       "\n",
       "   sup_consequent                       antecedent&consequent  sup_ant&cons  \\\n",
       "0             170  [1944945390285488528, 1313614230015967859]            51   \n",
       "1             131  [1944422271028298685, 1937902773722939556]            34   \n",
       "2              34  [1956663846340920038, 1956663845602721816]            16   \n",
       "3              58  [1860421116053422140, 1845870160691331313]            18   \n",
       "4              88  [1806829191514031042, 1956663836668854462]             7   \n",
       "5              90  [1343446704099164925, 1313614230015967859]            26   \n",
       "6              55  [1956663845736939738, 1956663836392031040]            17   \n",
       "7              17  [1956663845812437315, 1956663845778882836]             7   \n",
       "\n",
       "   sup_perc_ant&cons  confidence        lift  improvement  profit_associated  \\\n",
       "0           0.000719    0.230769   96.289140     0.228373       74451.385385   \n",
       "1           0.000479    0.220779  119.546049     0.218932       46846.977273   \n",
       "2           0.000226    0.372093  776.284542     0.371614       36891.263256   \n",
       "3           0.000254    0.246575  301.557393     0.245758       36455.853699   \n",
       "4           0.000099    0.073684   59.393660     0.072444       35878.456560   \n",
       "5           0.000367    0.152941  120.539739     0.151672       34184.540000   \n",
       "6           0.000240    0.229730  296.280344     0.228954       32443.744189   \n",
       "7           0.000099    0.194444  811.325163     0.194205       30057.025833   \n",
       "\n",
       "   perc_of_total_profit  profit_associated_prev     net_change  \\\n",
       "0              0.002270               122845.30  -48393.914615   \n",
       "1              0.001428                80360.63  -33513.652727   \n",
       "2              0.001125                47610.20  -10718.936744   \n",
       "3              0.001111                54359.10  -17903.246301   \n",
       "4              0.001094               219755.44 -183876.983440   \n",
       "5              0.001042               153674.90 -119490.360000   \n",
       "6              0.000989                45441.59  -12997.845811   \n",
       "7              0.000916                63351.03  -33294.004167   \n",
       "\n",
       "   profit_last_item  loss_by_change  \n",
       "0      46102.470000   -94496.384615  \n",
       "1      29105.020000   -62618.672727  \n",
       "2      19175.840000   -29894.776744  \n",
       "3      23052.240000   -40955.486301  \n",
       "4      19685.950455  -203562.933895  \n",
       "5      10681.320000  -130171.680000  \n",
       "6      22004.460000   -35002.305811  \n",
       "7      17738.770000   -51032.774167  "
      ]
     },
     "execution_count": 137,
     "metadata": {},
     "output_type": "execute_result"
    }
   ],
   "source": [
    "import modified_fp_growth_algorithm.modified_fp_growth_latest as mod_fp_growth\n",
    "\n",
    "#For better trackingI take price instead of profit as profit, because tracking ius easier and at moment I anyway just multiply by 0.1 for profit\n",
    "# We see how \"super efficient it is, only 6.8 seconds for 13k rules inclduing writing to Excel\"\n",
    "rules = mod_fp_growth.fpgrowthFromDataFrame(\\\n",
    "    data,\n",
    "    minSupRatio=0.0009,\n",
    "    maxSupRatio=1,\n",
    "    minTransactionLength=2,\n",
    "    maxTransactionLength=10,\n",
    "    minConf=0,\n",
    "    item_col=1,\n",
    "    profit_col=3,\n",
    "    max_profit = max_profit,\n",
    "    profit_sensitivity = lambda x : 1 * x\n",
    "    )\n",
    "    \n",
    "rules.to_excel(\"fp_groth_out.xlsx\",index=False) \n",
    "rules"
   ]
  },
  {
   "cell_type": "code",
   "execution_count": 139,
   "metadata": {},
   "outputs": [
    {
     "data": {
      "text/html": [
       "<div>\n",
       "<style scoped>\n",
       "    .dataframe tbody tr th:only-of-type {\n",
       "        vertical-align: middle;\n",
       "    }\n",
       "\n",
       "    .dataframe tbody tr th {\n",
       "        vertical-align: top;\n",
       "    }\n",
       "\n",
       "    .dataframe thead th {\n",
       "        text-align: right;\n",
       "    }\n",
       "</style>\n",
       "<table border=\"1\" class=\"dataframe\">\n",
       "  <thead>\n",
       "    <tr style=\"text-align: right;\">\n",
       "      <th></th>\n",
       "      <th>rules_index</th>\n",
       "      <th>antecedent&amp;consequent</th>\n",
       "      <th>sup_ant&amp;cons</th>\n",
       "      <th>profit_associated</th>\n",
       "      <th>perc_of_total_profit</th>\n",
       "      <th>product_id</th>\n",
       "      <th>category_id</th>\n",
       "      <th>category_code</th>\n",
       "      <th>brand</th>\n",
       "      <th>price</th>\n",
       "    </tr>\n",
       "  </thead>\n",
       "  <tbody>\n",
       "    <tr>\n",
       "      <th>0</th>\n",
       "      <td>0</td>\n",
       "      <td>1944945390285488528</td>\n",
       "      <td>51</td>\n",
       "      <td>74451</td>\n",
       "      <td>0.002270</td>\n",
       "      <td>1944945390285488528</td>\n",
       "      <td>1.8068292018823498e+18</td>\n",
       "      <td>jewelry.ring</td>\n",
       "      <td>1.0</td>\n",
       "      <td>534.11</td>\n",
       "    </tr>\n",
       "    <tr>\n",
       "      <th>1</th>\n",
       "      <td>0</td>\n",
       "      <td>1313614230015967859</td>\n",
       "      <td>51</td>\n",
       "      <td>74451</td>\n",
       "      <td>0.002270</td>\n",
       "      <td>1313614230015967859</td>\n",
       "      <td>1.8068292018907384e+18</td>\n",
       "      <td>jewelry.earring</td>\n",
       "      <td>1.0</td>\n",
       "      <td>903.97</td>\n",
       "    </tr>\n",
       "    <tr>\n",
       "      <th>2</th>\n",
       "      <td>1</td>\n",
       "      <td>1944422271028298685</td>\n",
       "      <td>34</td>\n",
       "      <td>46846</td>\n",
       "      <td>0.001428</td>\n",
       "      <td>1944422271028298685</td>\n",
       "      <td>1.8068292018823498e+18</td>\n",
       "      <td>jewelry.ring</td>\n",
       "      <td>1.0</td>\n",
       "      <td>493.01</td>\n",
       "    </tr>\n",
       "    <tr>\n",
       "      <th>3</th>\n",
       "      <td>1</td>\n",
       "      <td>1937902773722939556</td>\n",
       "      <td>34</td>\n",
       "      <td>46846</td>\n",
       "      <td>0.001428</td>\n",
       "      <td>1937902773722939556</td>\n",
       "      <td>1.8068292018907384e+18</td>\n",
       "      <td>jewelry.earring</td>\n",
       "      <td>1.0</td>\n",
       "      <td>856.03</td>\n",
       "    </tr>\n",
       "    <tr>\n",
       "      <th>4</th>\n",
       "      <td>2</td>\n",
       "      <td>1956663846340920038</td>\n",
       "      <td>16</td>\n",
       "      <td>36891</td>\n",
       "      <td>0.001125</td>\n",
       "      <td>1956663846340920038</td>\n",
       "      <td>1.8068292018823498e+18</td>\n",
       "      <td>jewelry.ring</td>\n",
       "      <td>0.0</td>\n",
       "      <td>1082.05</td>\n",
       "    </tr>\n",
       "    <tr>\n",
       "      <th>5</th>\n",
       "      <td>2</td>\n",
       "      <td>1956663845602721816</td>\n",
       "      <td>16</td>\n",
       "      <td>36891</td>\n",
       "      <td>0.001125</td>\n",
       "      <td>1956663845602721816</td>\n",
       "      <td>1.8068292018907384e+18</td>\n",
       "      <td>jewelry.earring</td>\n",
       "      <td>0.0</td>\n",
       "      <td>1198.49</td>\n",
       "    </tr>\n",
       "    <tr>\n",
       "      <th>6</th>\n",
       "      <td>3</td>\n",
       "      <td>1860421116053422140</td>\n",
       "      <td>18</td>\n",
       "      <td>36455</td>\n",
       "      <td>0.001111</td>\n",
       "      <td>1860421116053422140</td>\n",
       "      <td>1.8068292018823498e+18</td>\n",
       "      <td>jewelry.ring</td>\n",
       "      <td>0.0</td>\n",
       "      <td>671.1</td>\n",
       "    </tr>\n",
       "    <tr>\n",
       "      <th>7</th>\n",
       "      <td>3</td>\n",
       "      <td>1845870160691331313</td>\n",
       "      <td>18</td>\n",
       "      <td>36455</td>\n",
       "      <td>0.001111</td>\n",
       "      <td>1845870160691331313</td>\n",
       "      <td>1.8068292018907384e+18</td>\n",
       "      <td>jewelry.earring</td>\n",
       "      <td>0.0</td>\n",
       "      <td>1280.68</td>\n",
       "    </tr>\n",
       "    <tr>\n",
       "      <th>8</th>\n",
       "      <td>4</td>\n",
       "      <td>1806829191514031042</td>\n",
       "      <td>7</td>\n",
       "      <td>35878</td>\n",
       "      <td>0.001094</td>\n",
       "      <td>1806829191514031042</td>\n",
       "      <td>1.8068292018487954e+18</td>\n",
       "      <td>nan</td>\n",
       "      <td>0.0</td>\n",
       "      <td>2780.68</td>\n",
       "    </tr>\n",
       "    <tr>\n",
       "      <th>9</th>\n",
       "      <td>4</td>\n",
       "      <td>1956663836668854462</td>\n",
       "      <td>7</td>\n",
       "      <td>35878</td>\n",
       "      <td>0.001094</td>\n",
       "      <td>1956663836668854462</td>\n",
       "      <td>1.8068292018487954e+18</td>\n",
       "      <td>nan</td>\n",
       "      <td>0.0</td>\n",
       "      <td>2265.52</td>\n",
       "    </tr>\n",
       "    <tr>\n",
       "      <th>10</th>\n",
       "      <td>5</td>\n",
       "      <td>1313614230015967859</td>\n",
       "      <td>26</td>\n",
       "      <td>34184</td>\n",
       "      <td>0.001042</td>\n",
       "      <td>1313614230015967859</td>\n",
       "      <td>1.8068292018907384e+18</td>\n",
       "      <td>jewelry.earring</td>\n",
       "      <td>1.0</td>\n",
       "      <td>903.97</td>\n",
       "    </tr>\n",
       "    <tr>\n",
       "      <th>11</th>\n",
       "      <td>5</td>\n",
       "      <td>1343446704099164925</td>\n",
       "      <td>26</td>\n",
       "      <td>34184</td>\n",
       "      <td>0.001042</td>\n",
       "      <td>1343446704099164925</td>\n",
       "      <td>1.8068292019159043e+18</td>\n",
       "      <td>jewelry.pendant</td>\n",
       "      <td>1.0</td>\n",
       "      <td>410.82</td>\n",
       "    </tr>\n",
       "    <tr>\n",
       "      <th>12</th>\n",
       "      <td>6</td>\n",
       "      <td>1956663845736939738</td>\n",
       "      <td>17</td>\n",
       "      <td>32443</td>\n",
       "      <td>0.000989</td>\n",
       "      <td>1956663845736939738</td>\n",
       "      <td>1.8068292018823498e+18</td>\n",
       "      <td>jewelry.ring</td>\n",
       "      <td>0.0</td>\n",
       "      <td>575.21</td>\n",
       "    </tr>\n",
       "    <tr>\n",
       "      <th>13</th>\n",
       "      <td>6</td>\n",
       "      <td>1956663836392031040</td>\n",
       "      <td>17</td>\n",
       "      <td>32443</td>\n",
       "      <td>0.000989</td>\n",
       "      <td>1956663836392031040</td>\n",
       "      <td>1.8068292018907384e+18</td>\n",
       "      <td>jewelry.earring</td>\n",
       "      <td>0.0</td>\n",
       "      <td>1294.38</td>\n",
       "    </tr>\n",
       "    <tr>\n",
       "      <th>14</th>\n",
       "      <td>7</td>\n",
       "      <td>1956663845812437315</td>\n",
       "      <td>7</td>\n",
       "      <td>30057</td>\n",
       "      <td>0.000916</td>\n",
       "      <td>1956663845812437315</td>\n",
       "      <td>1.8068292018823498e+18</td>\n",
       "      <td>jewelry.ring</td>\n",
       "      <td>1.0</td>\n",
       "      <td>1712.19</td>\n",
       "    </tr>\n",
       "    <tr>\n",
       "      <th>15</th>\n",
       "      <td>7</td>\n",
       "      <td>1956663845778882836</td>\n",
       "      <td>7</td>\n",
       "      <td>30057</td>\n",
       "      <td>0.000916</td>\n",
       "      <td>1956663845778882836</td>\n",
       "      <td>1.8068292018907384e+18</td>\n",
       "      <td>jewelry.earring</td>\n",
       "      <td>1.0</td>\n",
       "      <td>2534.11</td>\n",
       "    </tr>\n",
       "  </tbody>\n",
       "</table>\n",
       "</div>"
      ],
      "text/plain": [
       "    rules_index antecedent&consequent  sup_ant&cons  profit_associated  \\\n",
       "0             0   1944945390285488528            51              74451   \n",
       "1             0   1313614230015967859            51              74451   \n",
       "2             1   1944422271028298685            34              46846   \n",
       "3             1   1937902773722939556            34              46846   \n",
       "4             2   1956663846340920038            16              36891   \n",
       "5             2   1956663845602721816            16              36891   \n",
       "6             3   1860421116053422140            18              36455   \n",
       "7             3   1845870160691331313            18              36455   \n",
       "8             4   1806829191514031042             7              35878   \n",
       "9             4   1956663836668854462             7              35878   \n",
       "10            5   1313614230015967859            26              34184   \n",
       "11            5   1343446704099164925            26              34184   \n",
       "12            6   1956663845736939738            17              32443   \n",
       "13            6   1956663836392031040            17              32443   \n",
       "14            7   1956663845812437315             7              30057   \n",
       "15            7   1956663845778882836             7              30057   \n",
       "\n",
       "    perc_of_total_profit           product_id             category_id  \\\n",
       "0               0.002270  1944945390285488528  1.8068292018823498e+18   \n",
       "1               0.002270  1313614230015967859  1.8068292018907384e+18   \n",
       "2               0.001428  1944422271028298685  1.8068292018823498e+18   \n",
       "3               0.001428  1937902773722939556  1.8068292018907384e+18   \n",
       "4               0.001125  1956663846340920038  1.8068292018823498e+18   \n",
       "5               0.001125  1956663845602721816  1.8068292018907384e+18   \n",
       "6               0.001111  1860421116053422140  1.8068292018823498e+18   \n",
       "7               0.001111  1845870160691331313  1.8068292018907384e+18   \n",
       "8               0.001094  1806829191514031042  1.8068292018487954e+18   \n",
       "9               0.001094  1956663836668854462  1.8068292018487954e+18   \n",
       "10              0.001042  1313614230015967859  1.8068292018907384e+18   \n",
       "11              0.001042  1343446704099164925  1.8068292019159043e+18   \n",
       "12              0.000989  1956663845736939738  1.8068292018823498e+18   \n",
       "13              0.000989  1956663836392031040  1.8068292018907384e+18   \n",
       "14              0.000916  1956663845812437315  1.8068292018823498e+18   \n",
       "15              0.000916  1956663845778882836  1.8068292018907384e+18   \n",
       "\n",
       "      category_code brand    price  \n",
       "0      jewelry.ring   1.0   534.11  \n",
       "1   jewelry.earring   1.0   903.97  \n",
       "2      jewelry.ring   1.0   493.01  \n",
       "3   jewelry.earring   1.0   856.03  \n",
       "4      jewelry.ring   0.0  1082.05  \n",
       "5   jewelry.earring   0.0  1198.49  \n",
       "6      jewelry.ring   0.0    671.1  \n",
       "7   jewelry.earring   0.0  1280.68  \n",
       "8               nan   0.0  2780.68  \n",
       "9               nan   0.0  2265.52  \n",
       "10  jewelry.earring   1.0   903.97  \n",
       "11  jewelry.pendant   1.0   410.82  \n",
       "12     jewelry.ring   0.0   575.21  \n",
       "13  jewelry.earring   0.0  1294.38  \n",
       "14     jewelry.ring   1.0  1712.19  \n",
       "15  jewelry.earring   1.0  2534.11  "
      ]
     },
     "execution_count": 139,
     "metadata": {},
     "output_type": "execute_result"
    }
   ],
   "source": [
    "# A minSupRatio of 0.007 means, in case of profitability, that it represents 0.007 of total revenues rspectively profit. We made the profit fo each product equal.\n",
    "# Let's oberserve what kind of items we have found.\n",
    "\n",
    "\n",
    "rules_exploded = rules.explode(\"antecedent&consequent\")[[\"antecedent&consequent\",\"sup_ant&cons\",\"profit_associated\",\"perc_of_total_profit\"]]\n",
    "rules_exploded.insert(0,\"rules_index\",rules_exploded.index)\n",
    "\n",
    "rules_labeled =pd.merge(rules_exploded,unique_items, how=\"inner\", left_on=\"antecedent&consequent\",right_on=\"product_id\").sort_values(\"rules_index\").reset_index(drop=True)\n",
    "\n",
    "rules_labeled.to_excel(\"rules_labeled.xlsx\",index=False)\n",
    "\n",
    "rules_labeled[\"profit_associated\"] = rules_labeled[\"profit_associated\"].astype(int)\n",
    "\n",
    "rules_labeled.head(16)"
   ]
  },
  {
   "cell_type": "markdown",
   "metadata": {},
   "source": [
    "#### 3.3 Sensitivity Analysis"
   ]
  },
  {
   "cell_type": "markdown",
   "metadata": {},
   "source": []
  },
  {
   "cell_type": "code",
   "execution_count": null,
   "metadata": {},
   "outputs": [
    {
     "ename": "NameError",
     "evalue": "name 'df_data_simple_withprofit' is not defined",
     "output_type": "error",
     "traceback": [
      "\u001b[1;31m---------------------------------------------------------------------------\u001b[0m",
      "\u001b[1;31mNameError\u001b[0m                                 Traceback (most recent call last)",
      "\u001b[1;32m~\\AppData\\Local\\Temp/ipykernel_21224/51854518.py\u001b[0m in \u001b[0;36m<module>\u001b[1;34m\u001b[0m\n\u001b[0;32m      3\u001b[0m \u001b[1;33m\u001b[0m\u001b[0m\n\u001b[0;32m      4\u001b[0m rules = mod_fp_growth.fpgrowthFromDataFrame(\\\n\u001b[1;32m----> 5\u001b[1;33m     \u001b[0mdf_data_simple_withprofit\u001b[0m\u001b[1;33m,\u001b[0m\u001b[1;33m\u001b[0m\u001b[1;33m\u001b[0m\u001b[0m\n\u001b[0m\u001b[0;32m      6\u001b[0m     \u001b[0mminSupRatio\u001b[0m\u001b[1;33m=\u001b[0m\u001b[1;36m0.03\u001b[0m\u001b[1;33m,\u001b[0m\u001b[1;33m\u001b[0m\u001b[1;33m\u001b[0m\u001b[0m\n\u001b[0;32m      7\u001b[0m     \u001b[0mmaxSupRatio\u001b[0m\u001b[1;33m=\u001b[0m\u001b[1;36m1\u001b[0m\u001b[1;33m,\u001b[0m\u001b[1;33m\u001b[0m\u001b[1;33m\u001b[0m\u001b[0m\n",
      "\u001b[1;31mNameError\u001b[0m: name 'df_data_simple_withprofit' is not defined"
     ]
    }
   ],
   "source": [
    "import math\n",
    "import datetime\n",
    "\n",
    "rules = mod_fp_growth.fpgrowthFromDataFrame(\\\n",
    "    df_data_simple_withprofit,\n",
    "    minSupRatio=0.03,\n",
    "    maxSupRatio=1,\n",
    "    minConf=0,\n",
    "    item_col=1,\n",
    "    profit_col=2,\n",
    "    max_profit = 100,\n",
    "    profit_sensitivity = lambda x : 1 * x\n",
    "    ) #Only Date\n",
    "\n",
    "rules\n"
   ]
  },
  {
   "cell_type": "code",
   "execution_count": null,
   "metadata": {},
   "outputs": [],
   "source": []
  }
 ],
 "metadata": {
  "kernelspec": {
   "display_name": "Python 3.9.13 ('base')",
   "language": "python",
   "name": "python3"
  },
  "language_info": {
   "codemirror_mode": {
    "name": "ipython",
    "version": 3
   },
   "file_extension": ".py",
   "mimetype": "text/x-python",
   "name": "python",
   "nbconvert_exporter": "python",
   "pygments_lexer": "ipython3",
   "version": "3.9.13"
  },
  "orig_nbformat": 4,
  "vscode": {
   "interpreter": {
    "hash": "ad2bdc8ecc057115af97d19610ffacc2b4e99fae6737bb82f5d7fb13d2f2c186"
   }
  }
 },
 "nbformat": 4,
 "nbformat_minor": 2
}
